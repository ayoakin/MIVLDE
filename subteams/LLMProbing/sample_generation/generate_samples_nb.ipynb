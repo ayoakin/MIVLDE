{
  "nbformat": 4,
  "nbformat_minor": 0,
  "metadata": {
    "colab": {
      "provenance": []
    },
    "kernelspec": {
      "name": "python3",
      "display_name": "Python 3"
    },
    "language_info": {
      "name": "python"
    }
  },
  "cells": [
    {
      "cell_type": "code",
      "execution_count": 18,
      "metadata": {
        "collapsed": true,
        "id": "ea8w6rRQbQwS"
      },
      "outputs": [],
      "source": [
        "!pip install --quiet numexpr sympy==1.11.1 matplotlib numpy pandas requests scikit-learn scipy seaborn setproctitle torch tqdm wandb gdown regex"
      ]
    },
    {
      "cell_type": "code",
      "source": [
        "import sys, os, git\n",
        "from google.colab import drive"
      ],
      "metadata": {
        "id": "FHe1U9yrcVJT"
      },
      "execution_count": 19,
      "outputs": []
    },
    {
      "cell_type": "code",
      "source": [],
      "metadata": {
        "id": "ero8DE84BKS6"
      },
      "execution_count": null,
      "outputs": []
    },
    {
      "cell_type": "code",
      "source": [
        "# permanent storage locations in google drive\n",
        "repo_path = '/content/drive/MyDrive/odeformer' # folder where odeformer is stored\n",
        "script_path = '/content/drive/MyDrive/aisc' # folder containing the script generate_samples.py\n",
        "samples_path = '/content/drive/MyDrive/aisc/samples' # where you want to save samples"
      ],
      "metadata": {
        "id": "Os8VB5E7CTtg"
      },
      "execution_count": 20,
      "outputs": []
    },
    {
      "cell_type": "code",
      "source": [
        "drive.mount('/content/drive')\n",
        "\n",
        "# Check if the folder exists\n",
        "if not os.path.exists(repo_path):\n",
        "    print(f\"odeformer repository not found. Cloning into {repo_path}...\")\n",
        "    git.Repo.clone_from('https://github.com/sdascoli/odeformer.git', repo_path)\n",
        "else:\n",
        "    print(f\"odeformer repository exists at {repo_path}\")\n",
        "\n",
        "sys.path.append(script_path)\n",
        "sys.path.append(repo_path)\n",
        "sys.path.append(repo_path + \"/odeformer\")\n",
        "sys.path.append(repo_path + \"odeformer/envs\")"
      ],
      "metadata": {
        "id": "PVcdV3ufeqIB",
        "outputId": "9d08d101-c59b-402b-8557-bf4a8cbfa7e3",
        "colab": {
          "base_uri": "https://localhost:8080/"
        }
      },
      "execution_count": 21,
      "outputs": [
        {
          "output_type": "stream",
          "name": "stdout",
          "text": [
            "Drive already mounted at /content/drive; to attempt to forcibly remount, call drive.mount(\"/content/drive\", force_remount=True).\n",
            "odeformer repository exists at /content/drive/MyDrive/odeformer\n"
          ]
        }
      ]
    },
    {
      "cell_type": "code",
      "source": [
        "import importlib\n",
        "import generate_samples\n",
        "importlib.reload(generate_samples)"
      ],
      "metadata": {
        "id": "nc_hdyvbC8VT"
      },
      "execution_count": 30,
      "outputs": []
    },
    {
      "cell_type": "markdown",
      "source": [
        "In case \"import generate_samples\" doesn't work. Try the cell below instead."
      ],
      "metadata": {
        "id": "imC0dkpuFW6O"
      }
    },
    {
      "cell_type": "code",
      "source": [
        "import importlib.util\n",
        "spec = importlib.util.spec_from_file_location(\"generate_samples\", f\"{script_path}/generate_samples.py\")\n",
        "generate_samples = importlib.util.module_from_spec(spec)\n",
        "spec.loader.exec_module(generate_samples)"
      ],
      "metadata": {
        "id": "mz_TsPuXFUrv"
      },
      "execution_count": null,
      "outputs": []
    },
    {
      "cell_type": "code",
      "source": [
        "from generate_samples import generate_samples"
      ],
      "metadata": {
        "id": "Of80LYrYFrhO"
      },
      "execution_count": null,
      "outputs": []
    },
    {
      "cell_type": "code",
      "source": [
        "generate_samples(samples_path, 50)"
      ],
      "metadata": {
        "id": "XhNNCddwCyY7",
        "outputId": "e0427441-c6ad-4d25-c749-001fea4ef573",
        "colab": {
          "base_uri": "https://localhost:8080/"
        }
      },
      "execution_count": 31,
      "outputs": [
        {
          "output_type": "stream",
          "name": "stdout",
          "text": [
            "creating sample  0\n",
            "creating sample  1\n",
            "creating sample  2\n",
            "creating sample  3\n",
            "creating sample  4\n",
            "creating sample  5\n",
            "creating sample  6\n",
            "creating sample  7\n",
            "creating sample  8\n",
            "creating sample  9\n",
            "creating sample  10\n",
            "creating sample  11\n",
            "creating sample  12\n",
            "creating sample  13\n",
            "creating sample  14\n",
            "creating sample  15\n",
            "creating sample  16\n",
            "creating sample  17\n",
            "creating sample  18\n",
            "creating sample  19\n",
            "creating sample  20\n",
            "creating sample  21\n",
            "creating sample  22\n",
            "creating sample  23\n",
            "creating sample  24\n",
            "creating sample  25\n",
            "creating sample  26\n",
            "creating sample  27\n",
            "creating sample  28\n",
            "creating sample  29\n",
            "creating sample  30\n",
            "creating sample  31\n",
            "creating sample  32\n",
            "creating sample  33\n",
            "creating sample  34\n",
            "creating sample  35\n",
            "creating sample  36\n",
            "creating sample  37\n",
            "creating sample  38\n",
            "creating sample  39\n",
            "creating sample  40\n",
            "creating sample  41\n",
            "creating sample  42\n",
            "creating sample  43\n",
            "creating sample  44\n",
            "creating sample  45\n",
            "creating sample  46\n",
            "creating sample  47\n",
            "creating sample  48\n",
            "creating sample  49\n",
            "[INFO] Data generation complete.\n"
          ]
        }
      ]
    }
  ]
}