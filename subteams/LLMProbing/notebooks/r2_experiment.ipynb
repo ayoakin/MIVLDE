{
  "nbformat": 4,
  "nbformat_minor": 0,
  "metadata": {
    "colab": {
      "provenance": [],
      "authorship_tag": "ABX9TyP1lod826oZK/cXvF0YFn/c"
    },
    "kernelspec": {
      "name": "python3",
      "display_name": "Python 3"
    },
    "language_info": {
      "name": "python"
    }
  },
  "cells": [
    {
      "cell_type": "markdown",
      "source": [
        "# Setup"
      ],
      "metadata": {
        "id": "KuiQ_A83MzWK"
      }
    },
    {
      "cell_type": "code",
      "source": [
        "%pip install numpy==1.23.5\n",
        "%pip install torch==2.0.0\n",
        "# Added because the default colab instance now has a newer version of torch and numpy\n",
        "# This ended up breaking the following lines below:\n",
        "# dstr = SymbolicTransformerRegressor(from_pretrained=True)\n",
        "# This is because PyTorch changed how it loads pickled files\n",
        "# act_extractor.extract_activations(dstr, r2_samples_path, r2_activations_path, layers_to_extract=['ffn'])\n",
        "# This is because when fitting the odeformer, it uses an old version of numpy infinity (np.infty instead of np.inf)"
      ],
      "metadata": {
        "colab": {
          "base_uri": "https://localhost:8080/"
        },
        "id": "P1_NjSkQO-55",
        "outputId": "3859b146-263f-407e-ee0e-a1ed5a99f28b"
      },
      "execution_count": 1,
      "outputs": [
        {
          "output_type": "stream",
          "name": "stdout",
          "text": [
            "Requirement already satisfied: numpy==1.23.5 in /usr/local/lib/python3.11/dist-packages (1.23.5)\n",
            "Requirement already satisfied: torch==2.0.0 in /usr/local/lib/python3.11/dist-packages (2.0.0)\n",
            "Requirement already satisfied: filelock in /usr/local/lib/python3.11/dist-packages (from torch==2.0.0) (3.17.0)\n",
            "Requirement already satisfied: typing-extensions in /usr/local/lib/python3.11/dist-packages (from torch==2.0.0) (4.12.2)\n",
            "Requirement already satisfied: sympy in /usr/local/lib/python3.11/dist-packages (from torch==2.0.0) (1.13.1)\n",
            "Requirement already satisfied: networkx in /usr/local/lib/python3.11/dist-packages (from torch==2.0.0) (3.4.2)\n",
            "Requirement already satisfied: jinja2 in /usr/local/lib/python3.11/dist-packages (from torch==2.0.0) (3.1.6)\n",
            "Requirement already satisfied: nvidia-cuda-nvrtc-cu11==11.7.99 in /usr/local/lib/python3.11/dist-packages (from torch==2.0.0) (11.7.99)\n",
            "Requirement already satisfied: nvidia-cuda-runtime-cu11==11.7.99 in /usr/local/lib/python3.11/dist-packages (from torch==2.0.0) (11.7.99)\n",
            "Requirement already satisfied: nvidia-cuda-cupti-cu11==11.7.101 in /usr/local/lib/python3.11/dist-packages (from torch==2.0.0) (11.7.101)\n",
            "Requirement already satisfied: nvidia-cudnn-cu11==8.5.0.96 in /usr/local/lib/python3.11/dist-packages (from torch==2.0.0) (8.5.0.96)\n",
            "Requirement already satisfied: nvidia-cublas-cu11==11.10.3.66 in /usr/local/lib/python3.11/dist-packages (from torch==2.0.0) (11.10.3.66)\n",
            "Requirement already satisfied: nvidia-cufft-cu11==10.9.0.58 in /usr/local/lib/python3.11/dist-packages (from torch==2.0.0) (10.9.0.58)\n",
            "Requirement already satisfied: nvidia-curand-cu11==10.2.10.91 in /usr/local/lib/python3.11/dist-packages (from torch==2.0.0) (10.2.10.91)\n",
            "Requirement already satisfied: nvidia-cusolver-cu11==11.4.0.1 in /usr/local/lib/python3.11/dist-packages (from torch==2.0.0) (11.4.0.1)\n",
            "Requirement already satisfied: nvidia-cusparse-cu11==11.7.4.91 in /usr/local/lib/python3.11/dist-packages (from torch==2.0.0) (11.7.4.91)\n",
            "Requirement already satisfied: nvidia-nccl-cu11==2.14.3 in /usr/local/lib/python3.11/dist-packages (from torch==2.0.0) (2.14.3)\n",
            "Requirement already satisfied: nvidia-nvtx-cu11==11.7.91 in /usr/local/lib/python3.11/dist-packages (from torch==2.0.0) (11.7.91)\n",
            "Requirement already satisfied: triton==2.0.0 in /usr/local/lib/python3.11/dist-packages (from torch==2.0.0) (2.0.0)\n",
            "Requirement already satisfied: setuptools in /usr/local/lib/python3.11/dist-packages (from nvidia-cublas-cu11==11.10.3.66->torch==2.0.0) (75.1.0)\n",
            "Requirement already satisfied: wheel in /usr/local/lib/python3.11/dist-packages (from nvidia-cublas-cu11==11.10.3.66->torch==2.0.0) (0.45.1)\n",
            "Requirement already satisfied: cmake in /usr/local/lib/python3.11/dist-packages (from triton==2.0.0->torch==2.0.0) (3.31.6)\n",
            "Requirement already satisfied: lit in /usr/local/lib/python3.11/dist-packages (from triton==2.0.0->torch==2.0.0) (18.1.8)\n",
            "Requirement already satisfied: MarkupSafe>=2.0 in /usr/local/lib/python3.11/dist-packages (from jinja2->torch==2.0.0) (3.0.2)\n",
            "Requirement already satisfied: mpmath<1.4,>=1.1.0 in /usr/local/lib/python3.11/dist-packages (from sympy->torch==2.0.0) (1.3.0)\n"
          ]
        }
      ]
    },
    {
      "cell_type": "code",
      "execution_count": 2,
      "metadata": {
        "colab": {
          "base_uri": "https://localhost:8080/"
        },
        "id": "0hubsFP8MdCM",
        "outputId": "d89ca86d-bfeb-4d49-cee6-445b0e70d1ed"
      },
      "outputs": [
        {
          "output_type": "stream",
          "name": "stdout",
          "text": [
            "Drive already mounted at /content/drive; to attempt to forcibly remount, call drive.mount(\"/content/drive\", force_remount=True).\n"
          ]
        }
      ],
      "source": [
        "# give colab permission to access drive\n",
        "from google.colab import drive\n",
        "drive.mount('/content/drive')"
      ]
    },
    {
      "cell_type": "code",
      "source": [
        "# Update these as required\n",
        "repo_path = '/content/drive/MyDrive/github/subteams/LLMProbing'\n",
        "odeformer_path = '/content/drive/MyDrive/aisc' # This is because I cloned the odeformer repo into my aisc folder\n",
        "samples_path = '/content/drive/MyDrive/github/subteams/LLMProbing/local_experiment_data/samples'\n",
        "activations_path = '/content/drive/MyDrive/github/subteams/LLMProbing/local_experiment_data/activations'\n",
        "probes_path = '/content/drive/MyDrive/github/subteams/LLMProbing/local_experiment_data/probes'"
      ],
      "metadata": {
        "id": "uPlOTOGUMt0C"
      },
      "execution_count": 3,
      "outputs": []
    },
    {
      "cell_type": "code",
      "source": [
        "import sys\n",
        "import importlib\n",
        "sys.path.append(repo_path)\n",
        "sys.path.append(odeformer_path)"
      ],
      "metadata": {
        "id": "bZ6xBDK_MuxC"
      },
      "execution_count": 4,
      "outputs": []
    },
    {
      "cell_type": "code",
      "source": [
        "import numpy as np\n",
        "import os\n",
        "import pickle"
      ],
      "metadata": {
        "id": "SmoogWKbMwAB"
      },
      "execution_count": 5,
      "outputs": []
    },
    {
      "cell_type": "code",
      "source": [
        "from odeformer.model import SymbolicTransformerRegressor\n",
        "dstr = SymbolicTransformerRegressor(from_pretrained=True)"
      ],
      "metadata": {
        "colab": {
          "base_uri": "https://localhost:8080/"
        },
        "id": "JoQoeptAMwdC",
        "outputId": "2f6745ae-79f6-43ea-cc09-dc90d862d132"
      },
      "execution_count": 6,
      "outputs": [
        {
          "output_type": "stream",
          "name": "stdout",
          "text": [
            "Found pretrained model at odeformer.pt\n",
            "Loaded pretrained model\n"
          ]
        }
      ]
    },
    {
      "cell_type": "code",
      "source": [
        "model_args = {'beam_size': 10, 'beam_temperature': 0.8}\n",
        "dstr.set_model_args(model_args)"
      ],
      "metadata": {
        "id": "rStjlGclMxhi"
      },
      "execution_count": 7,
      "outputs": []
    },
    {
      "cell_type": "code",
      "source": [
        "%load_ext autoreload\n",
        "%autoreload 2"
      ],
      "metadata": {
        "id": "gSn0tTFDMyyR"
      },
      "execution_count": 8,
      "outputs": []
    },
    {
      "cell_type": "markdown",
      "source": [
        "# Sample Generation"
      ],
      "metadata": {
        "id": "OqGxcmsBM0wi"
      }
    },
    {
      "cell_type": "code",
      "source": [
        "from src.sample_generation import RandomSamplesGenerator"
      ],
      "metadata": {
        "id": "G6j8oMsIM2Za"
      },
      "execution_count": 9,
      "outputs": []
    },
    {
      "cell_type": "code",
      "source": [
        "operators_to_use = \"id:1,add:1,mul:1,sub:1,inv:1,pow2:1,pow3:1,exp:1,log:1,sin:1,cos:1,tan:1,arcsin:1,arccos:1,arctan:1\"\n",
        "min_dimension = 1\n",
        "max_dimension = 1\n",
        "num_samples = 30\n",
        "seed = 42\n",
        "sample_descriptor = 'r2'\n",
        "\n",
        "r2_samples_path = f'{samples_path}/r2_expt'"
      ],
      "metadata": {
        "id": "Y-rqPzWPM3Mx"
      },
      "execution_count": 10,
      "outputs": []
    },
    {
      "cell_type": "code",
      "source": [
        "rsg = RandomSamplesGenerator()"
      ],
      "metadata": {
        "id": "_PDbTi1QNF84"
      },
      "execution_count": 11,
      "outputs": []
    },
    {
      "cell_type": "code",
      "source": [
        "rsg.generate_random_samples(r2_samples_path, seed=seed, num_samples=num_samples, \\\n",
        "                            operators_to_use=operators_to_use, min_dimension=min_dimension, \\\n",
        "                            max_dimension=max_dimension, sample_descriptor='r2')"
      ],
      "metadata": {
        "colab": {
          "base_uri": "https://localhost:8080/"
        },
        "id": "pkR2UIAWNG_R",
        "outputId": "18ae2262-8ec8-44ac-a26e-83a02761d1a3"
      },
      "execution_count": 12,
      "outputs": [
        {
          "output_type": "stream",
          "name": "stderr",
          "text": [
            "Generating r2 samples:  70%|███████   | 21/30 [00:00<00:00, 158.39it/s]"
          ]
        },
        {
          "output_type": "stream",
          "name": "stdout",
          "text": [
            "\n",
            "Skipping sample: r2_534895718 (sample file already exists)\n",
            "\n",
            "Skipping sample: r2_199900595 (sample file already exists)\n",
            "\n",
            "Skipping sample: r2_862061404 (sample file already exists)\n",
            "\n",
            "Skipping sample: r2_787846414 (sample file already exists)\n",
            "\n",
            "Skipping sample: r2_996406378 (sample file already exists)\n",
            "\n",
            "Skipping sample: r2_127521863 (sample file already exists)\n",
            "\n",
            "Skipping sample: r2_423734972 (sample file already exists)\n",
            "\n",
            "Skipping sample: r2_415968276 (sample file already exists)\n",
            "\n",
            "Skipping sample: r2_670094950 (sample file already exists)\n",
            "\n",
            "Skipping sample: r2_841095289 (sample file already exists)\n",
            "\n",
            "Skipping sample: r2_669991378 (sample file already exists)\n",
            "\n",
            "Skipping sample: r2_429389014 (sample file already exists)\n",
            "\n",
            "Skipping sample: r2_249467210 (sample file already exists)\n",
            "\n",
            "Skipping sample: r2_898717130 (sample file already exists)\n",
            "\n",
            "Skipping sample: r2_498972759 (sample file already exists)\n",
            "\n",
            "Skipping sample: r2_359525748 (sample file already exists)\n",
            "\n",
            "Skipping sample: r2_434285667 (sample file already exists)\n",
            "\n",
            "Skipping sample: r2_613608295 (sample file already exists)\n",
            "\n",
            "Skipping sample: r2_893664919 (sample file already exists)\n",
            "\n",
            "Skipping sample: r2_648061058 (sample file already exists)\n"
          ]
        },
        {
          "output_type": "stream",
          "name": "stderr",
          "text": [
            "\rGenerating r2 samples: 100%|██████████| 30/30 [00:15<00:00,  1.90it/s] "
          ]
        },
        {
          "output_type": "stream",
          "name": "stdout",
          "text": [
            "\n",
            "[INFO] Data generation complete. Saved 30 r2 samples to /content/drive/MyDrive/github/subteams/LLMProbing/local_experiment_data/samples/r2_expt\n"
          ]
        },
        {
          "output_type": "stream",
          "name": "stderr",
          "text": [
            "\n"
          ]
        }
      ]
    },
    {
      "cell_type": "markdown",
      "source": [
        "# Activation Extraction"
      ],
      "metadata": {
        "id": "sqg-bgEkNIyr"
      }
    },
    {
      "cell_type": "code",
      "source": [
        "from src.activation_extraction import ActivationsExtractor"
      ],
      "metadata": {
        "id": "tO-u5ZtqNKOx"
      },
      "execution_count": 13,
      "outputs": []
    },
    {
      "cell_type": "code",
      "source": [
        "r2_activations_path = f'{activations_path}/r2_expt'"
      ],
      "metadata": {
        "id": "n0d0XiuvNO9R"
      },
      "execution_count": 14,
      "outputs": []
    },
    {
      "cell_type": "code",
      "source": [
        "act_extractor = ActivationsExtractor()"
      ],
      "metadata": {
        "id": "NVWvt2AFNTUZ"
      },
      "execution_count": 15,
      "outputs": []
    },
    {
      "cell_type": "code",
      "source": [
        "act_extractor.extract_activations(dstr, r2_samples_path, r2_activations_path, layers_to_extract=['ffn'])"
      ],
      "metadata": {
        "colab": {
          "base_uri": "https://localhost:8080/"
        },
        "id": "UHjThprfNT9o",
        "outputId": "9e675eae-98ed-4782-8811-178c973074f1"
      },
      "execution_count": 16,
      "outputs": [
        {
          "output_type": "stream",
          "name": "stderr",
          "text": [
            "\rExtracting Activations:   0%|          | 0/30 [00:00<?, ?it/s]"
          ]
        },
        {
          "output_type": "stream",
          "name": "stdout",
          "text": [
            "\n",
            "Skipping sample: r2_534895718 (activation file already exists)\n",
            "\n",
            "Skipping sample: r2_199900595 (activation file already exists)\n",
            "\n",
            "Skipping sample: r2_862061404 (activation file already exists)\n",
            "\n",
            "Skipping sample: r2_787846414 (activation file already exists)\n",
            "\n",
            "Skipping sample: r2_996406378 (activation file already exists)\n",
            "\n",
            "Skipping sample: r2_127521863 (activation file already exists)\n",
            "\n",
            "Skipping sample: r2_423734972 (activation file already exists)\n",
            "\n",
            "Skipping sample: r2_415968276 (activation file already exists)\n",
            "\n",
            "Skipping sample: r2_670094950 (activation file already exists)\n",
            "\n",
            "Skipping sample: r2_841095289 (activation file already exists)\n",
            "\n",
            "Skipping sample: r2_669991378 (activation file already exists)\n",
            "\n",
            "Skipping sample: r2_429389014 (activation file already exists)\n",
            "\n",
            "Skipping sample: r2_249467210 (activation file already exists)\n",
            "\n",
            "Skipping sample: r2_898717130 (activation file already exists)\n",
            "\n",
            "Skipping sample: r2_498972759 (activation file already exists)\n",
            "\n",
            "Skipping sample: r2_359525748 (activation file already exists)\n",
            "\n",
            "Skipping sample: r2_434285667 (activation file already exists)\n",
            "\n",
            "Skipping sample: r2_613608295 (activation file already exists)\n",
            "\n",
            "Skipping sample: r2_893664919 (activation file already exists)\n",
            "\n",
            "Skipping sample: r2_648061058 (activation file already exists)\n",
            "\n",
            "Processing sample: r2_88409749\n"
          ]
        },
        {
          "output_type": "stream",
          "name": "stderr",
          "text": [
            "\rExtracting Activations:  70%|███████   | 21/30 [00:03<00:01,  6.50it/s]"
          ]
        },
        {
          "output_type": "stream",
          "name": "stdout",
          "text": [
            "\n",
            "Processing sample: r2_242285876\n"
          ]
        },
        {
          "output_type": "stream",
          "name": "stderr",
          "text": [
            "\rExtracting Activations:  73%|███████▎  | 22/30 [00:05<00:02,  3.73it/s]"
          ]
        },
        {
          "output_type": "stream",
          "name": "stdout",
          "text": [
            "\n",
            "Processing sample: r2_944505601\n"
          ]
        },
        {
          "output_type": "stream",
          "name": "stderr",
          "text": [
            "\rExtracting Activations:  77%|███████▋  | 23/30 [00:06<00:02,  2.75it/s]"
          ]
        },
        {
          "output_type": "stream",
          "name": "stdout",
          "text": [
            "\n",
            "Processing sample: r2_953477463\n"
          ]
        },
        {
          "output_type": "stream",
          "name": "stderr",
          "text": [
            "\rExtracting Activations:  80%|████████  | 24/30 [00:08<00:03,  1.91it/s]"
          ]
        },
        {
          "output_type": "stream",
          "name": "stdout",
          "text": [
            "\n",
            "Processing sample: r2_354088427\n"
          ]
        },
        {
          "output_type": "stream",
          "name": "stderr",
          "text": [
            "\rExtracting Activations:  83%|████████▎ | 25/30 [00:10<00:03,  1.27it/s]"
          ]
        },
        {
          "output_type": "stream",
          "name": "stdout",
          "text": [
            "\n",
            "Processing sample: r2_809827741\n"
          ]
        },
        {
          "output_type": "stream",
          "name": "stderr",
          "text": [
            "\rExtracting Activations:  87%|████████▋ | 26/30 [00:16<00:06,  1.51s/it]"
          ]
        },
        {
          "output_type": "stream",
          "name": "stdout",
          "text": [
            "\n",
            "Processing sample: r2_911989541\n"
          ]
        },
        {
          "output_type": "stream",
          "name": "stderr",
          "text": [
            "\rExtracting Activations:  90%|█████████ | 27/30 [00:19<00:05,  1.81s/it]"
          ]
        },
        {
          "output_type": "stream",
          "name": "stdout",
          "text": [
            "\n",
            "Processing sample: r2_3344769\n"
          ]
        },
        {
          "output_type": "stream",
          "name": "stderr",
          "text": [
            "\rExtracting Activations:  93%|█████████▎| 28/30 [00:23<00:04,  2.37s/it]"
          ]
        },
        {
          "output_type": "stream",
          "name": "stdout",
          "text": [
            "\n",
            "Processing sample: r2_780932287\n"
          ]
        },
        {
          "output_type": "stream",
          "name": "stderr",
          "text": [
            "\rExtracting Activations:  97%|█████████▋| 29/30 [00:25<00:02,  2.28s/it]"
          ]
        },
        {
          "output_type": "stream",
          "name": "stdout",
          "text": [
            "\n",
            "Processing sample: r2_787716372\n"
          ]
        },
        {
          "output_type": "stream",
          "name": "stderr",
          "text": [
            "Extracting Activations: 100%|██████████| 30/30 [00:30<00:00,  1.03s/it]"
          ]
        },
        {
          "output_type": "stream",
          "name": "stdout",
          "text": [
            "\n",
            "[INFO] Activation extraction complete. Activations saved to /content/drive/MyDrive/github/subteams/LLMProbing/local_experiment_data/activations/r2_expt\n"
          ]
        },
        {
          "output_type": "stream",
          "name": "stderr",
          "text": [
            "\n"
          ]
        }
      ]
    },
    {
      "cell_type": "markdown",
      "source": [
        "# Probe Training"
      ],
      "metadata": {
        "id": "wC0y7slhNc1p"
      }
    },
    {
      "cell_type": "code",
      "source": [
        "import experiments"
      ],
      "metadata": {
        "id": "lTbE16X9NeMB"
      },
      "execution_count": 17,
      "outputs": []
    },
    {
      "cell_type": "code",
      "source": [
        "r2_probes_path = f'{probes_path}/r2_expt'\n",
        "lr = 0.01\n",
        "num_epochs = 1\n",
        "num_repeats = 2"
      ],
      "metadata": {
        "id": "N2rnSqDFNm9p"
      },
      "execution_count": 18,
      "outputs": []
    },
    {
      "cell_type": "code",
      "source": [
        "r2_expt_results = experiments.r2_prediction_experiment(r2_activations_path, r2_probes_path, \\\n",
        "                                                       lr=lr, num_epochs=num_epochs, \\\n",
        "                                                       num_repeats=num_repeats)"
      ],
      "metadata": {
        "colab": {
          "base_uri": "https://localhost:8080/"
        },
        "id": "u2_thyFLNg-h",
        "outputId": "045d62f9-34c4-4bc9-e246-e1cbe91c5e5b"
      },
      "execution_count": 19,
      "outputs": [
        {
          "output_type": "stream",
          "name": "stdout",
          "text": [
            "Repeat 0\n"
          ]
        },
        {
          "output_type": "stream",
          "name": "stderr",
          "text": [
            "\n",
            "Training LR Probe:   0%|          | 0/1 [00:00<?, ?it/s]\n",
            "Training LR Probe: 100%|██████████| 1/1 [00:00<00:00,  5.42it/s]\n",
            "Training LR Probe: 100%|██████████| 1/1 [00:00<00:00,  5.38it/s]\n"
          ]
        },
        {
          "output_type": "stream",
          "name": "stdout",
          "text": [
            "\n",
            "Training Set (Epoch 1 - Final): Loss 0.641673181367957\n",
            "Regression probe trained on layer -1: Test Set Loss 135.77210974693298\n",
            "Saved state dictionary to /content/drive/MyDrive/github/subteams/LLMProbing/local_experiment_data/probes/r2_expt/probe_r2_0.pt\n",
            "Repeat 1\n"
          ]
        },
        {
          "output_type": "stream",
          "name": "stderr",
          "text": [
            "\n",
            "Training LR Probe:   0%|          | 0/1 [00:00<?, ?it/s]\n",
            "Training LR Probe: 100%|██████████| 1/1 [00:00<00:00,  5.34it/s]\n",
            "Training LR Probe: 100%|██████████| 1/1 [00:00<00:00,  5.30it/s]\n"
          ]
        },
        {
          "output_type": "stream",
          "name": "stdout",
          "text": [
            "\n",
            "Training Set (Epoch 1 - Final): Loss 1.8222179257351419\n",
            "Regression probe trained on layer -1: Test Set Loss 12.350663185119629\n",
            "Saved state dictionary to /content/drive/MyDrive/github/subteams/LLMProbing/local_experiment_data/probes/r2_expt/probe_r2_1.pt\n"
          ]
        }
      ]
    },
    {
      "cell_type": "code",
      "source": [
        "r2_expt_results"
      ],
      "metadata": {
        "colab": {
          "base_uri": "https://localhost:8080/",
          "height": 125
        },
        "id": "_sCu_9wXWyyB",
        "outputId": "389c6a3f-02c2-404b-8dc2-e3f77210035c"
      },
      "execution_count": 20,
      "outputs": [
        {
          "output_type": "execute_result",
          "data": {
            "text/plain": [
              "   run   test_loss  final_train_loss  final_val_loss\n",
              "0    0  135.772110          0.641673      107.962502\n",
              "1    1   12.350663          1.822218        9.053998"
            ],
            "text/html": [
              "\n",
              "  <div id=\"df-ebbf345c-a0df-42a0-8f2f-cfebce37c85b\" class=\"colab-df-container\">\n",
              "    <div>\n",
              "<style scoped>\n",
              "    .dataframe tbody tr th:only-of-type {\n",
              "        vertical-align: middle;\n",
              "    }\n",
              "\n",
              "    .dataframe tbody tr th {\n",
              "        vertical-align: top;\n",
              "    }\n",
              "\n",
              "    .dataframe thead th {\n",
              "        text-align: right;\n",
              "    }\n",
              "</style>\n",
              "<table border=\"1\" class=\"dataframe\">\n",
              "  <thead>\n",
              "    <tr style=\"text-align: right;\">\n",
              "      <th></th>\n",
              "      <th>run</th>\n",
              "      <th>test_loss</th>\n",
              "      <th>final_train_loss</th>\n",
              "      <th>final_val_loss</th>\n",
              "    </tr>\n",
              "  </thead>\n",
              "  <tbody>\n",
              "    <tr>\n",
              "      <th>0</th>\n",
              "      <td>0</td>\n",
              "      <td>135.772110</td>\n",
              "      <td>0.641673</td>\n",
              "      <td>107.962502</td>\n",
              "    </tr>\n",
              "    <tr>\n",
              "      <th>1</th>\n",
              "      <td>1</td>\n",
              "      <td>12.350663</td>\n",
              "      <td>1.822218</td>\n",
              "      <td>9.053998</td>\n",
              "    </tr>\n",
              "  </tbody>\n",
              "</table>\n",
              "</div>\n",
              "    <div class=\"colab-df-buttons\">\n",
              "\n",
              "  <div class=\"colab-df-container\">\n",
              "    <button class=\"colab-df-convert\" onclick=\"convertToInteractive('df-ebbf345c-a0df-42a0-8f2f-cfebce37c85b')\"\n",
              "            title=\"Convert this dataframe to an interactive table.\"\n",
              "            style=\"display:none;\">\n",
              "\n",
              "  <svg xmlns=\"http://www.w3.org/2000/svg\" height=\"24px\" viewBox=\"0 -960 960 960\">\n",
              "    <path d=\"M120-120v-720h720v720H120Zm60-500h600v-160H180v160Zm220 220h160v-160H400v160Zm0 220h160v-160H400v160ZM180-400h160v-160H180v160Zm440 0h160v-160H620v160ZM180-180h160v-160H180v160Zm440 0h160v-160H620v160Z\"/>\n",
              "  </svg>\n",
              "    </button>\n",
              "\n",
              "  <style>\n",
              "    .colab-df-container {\n",
              "      display:flex;\n",
              "      gap: 12px;\n",
              "    }\n",
              "\n",
              "    .colab-df-convert {\n",
              "      background-color: #E8F0FE;\n",
              "      border: none;\n",
              "      border-radius: 50%;\n",
              "      cursor: pointer;\n",
              "      display: none;\n",
              "      fill: #1967D2;\n",
              "      height: 32px;\n",
              "      padding: 0 0 0 0;\n",
              "      width: 32px;\n",
              "    }\n",
              "\n",
              "    .colab-df-convert:hover {\n",
              "      background-color: #E2EBFA;\n",
              "      box-shadow: 0px 1px 2px rgba(60, 64, 67, 0.3), 0px 1px 3px 1px rgba(60, 64, 67, 0.15);\n",
              "      fill: #174EA6;\n",
              "    }\n",
              "\n",
              "    .colab-df-buttons div {\n",
              "      margin-bottom: 4px;\n",
              "    }\n",
              "\n",
              "    [theme=dark] .colab-df-convert {\n",
              "      background-color: #3B4455;\n",
              "      fill: #D2E3FC;\n",
              "    }\n",
              "\n",
              "    [theme=dark] .colab-df-convert:hover {\n",
              "      background-color: #434B5C;\n",
              "      box-shadow: 0px 1px 3px 1px rgba(0, 0, 0, 0.15);\n",
              "      filter: drop-shadow(0px 1px 2px rgba(0, 0, 0, 0.3));\n",
              "      fill: #FFFFFF;\n",
              "    }\n",
              "  </style>\n",
              "\n",
              "    <script>\n",
              "      const buttonEl =\n",
              "        document.querySelector('#df-ebbf345c-a0df-42a0-8f2f-cfebce37c85b button.colab-df-convert');\n",
              "      buttonEl.style.display =\n",
              "        google.colab.kernel.accessAllowed ? 'block' : 'none';\n",
              "\n",
              "      async function convertToInteractive(key) {\n",
              "        const element = document.querySelector('#df-ebbf345c-a0df-42a0-8f2f-cfebce37c85b');\n",
              "        const dataTable =\n",
              "          await google.colab.kernel.invokeFunction('convertToInteractive',\n",
              "                                                    [key], {});\n",
              "        if (!dataTable) return;\n",
              "\n",
              "        const docLinkHtml = 'Like what you see? Visit the ' +\n",
              "          '<a target=\"_blank\" href=https://colab.research.google.com/notebooks/data_table.ipynb>data table notebook</a>'\n",
              "          + ' to learn more about interactive tables.';\n",
              "        element.innerHTML = '';\n",
              "        dataTable['output_type'] = 'display_data';\n",
              "        await google.colab.output.renderOutput(dataTable, element);\n",
              "        const docLink = document.createElement('div');\n",
              "        docLink.innerHTML = docLinkHtml;\n",
              "        element.appendChild(docLink);\n",
              "      }\n",
              "    </script>\n",
              "  </div>\n",
              "\n",
              "\n",
              "<div id=\"df-eb83c956-c2bd-4929-b144-2bd6f6fc1a97\">\n",
              "  <button class=\"colab-df-quickchart\" onclick=\"quickchart('df-eb83c956-c2bd-4929-b144-2bd6f6fc1a97')\"\n",
              "            title=\"Suggest charts\"\n",
              "            style=\"display:none;\">\n",
              "\n",
              "<svg xmlns=\"http://www.w3.org/2000/svg\" height=\"24px\"viewBox=\"0 0 24 24\"\n",
              "     width=\"24px\">\n",
              "    <g>\n",
              "        <path d=\"M19 3H5c-1.1 0-2 .9-2 2v14c0 1.1.9 2 2 2h14c1.1 0 2-.9 2-2V5c0-1.1-.9-2-2-2zM9 17H7v-7h2v7zm4 0h-2V7h2v10zm4 0h-2v-4h2v4z\"/>\n",
              "    </g>\n",
              "</svg>\n",
              "  </button>\n",
              "\n",
              "<style>\n",
              "  .colab-df-quickchart {\n",
              "      --bg-color: #E8F0FE;\n",
              "      --fill-color: #1967D2;\n",
              "      --hover-bg-color: #E2EBFA;\n",
              "      --hover-fill-color: #174EA6;\n",
              "      --disabled-fill-color: #AAA;\n",
              "      --disabled-bg-color: #DDD;\n",
              "  }\n",
              "\n",
              "  [theme=dark] .colab-df-quickchart {\n",
              "      --bg-color: #3B4455;\n",
              "      --fill-color: #D2E3FC;\n",
              "      --hover-bg-color: #434B5C;\n",
              "      --hover-fill-color: #FFFFFF;\n",
              "      --disabled-bg-color: #3B4455;\n",
              "      --disabled-fill-color: #666;\n",
              "  }\n",
              "\n",
              "  .colab-df-quickchart {\n",
              "    background-color: var(--bg-color);\n",
              "    border: none;\n",
              "    border-radius: 50%;\n",
              "    cursor: pointer;\n",
              "    display: none;\n",
              "    fill: var(--fill-color);\n",
              "    height: 32px;\n",
              "    padding: 0;\n",
              "    width: 32px;\n",
              "  }\n",
              "\n",
              "  .colab-df-quickchart:hover {\n",
              "    background-color: var(--hover-bg-color);\n",
              "    box-shadow: 0 1px 2px rgba(60, 64, 67, 0.3), 0 1px 3px 1px rgba(60, 64, 67, 0.15);\n",
              "    fill: var(--button-hover-fill-color);\n",
              "  }\n",
              "\n",
              "  .colab-df-quickchart-complete:disabled,\n",
              "  .colab-df-quickchart-complete:disabled:hover {\n",
              "    background-color: var(--disabled-bg-color);\n",
              "    fill: var(--disabled-fill-color);\n",
              "    box-shadow: none;\n",
              "  }\n",
              "\n",
              "  .colab-df-spinner {\n",
              "    border: 2px solid var(--fill-color);\n",
              "    border-color: transparent;\n",
              "    border-bottom-color: var(--fill-color);\n",
              "    animation:\n",
              "      spin 1s steps(1) infinite;\n",
              "  }\n",
              "\n",
              "  @keyframes spin {\n",
              "    0% {\n",
              "      border-color: transparent;\n",
              "      border-bottom-color: var(--fill-color);\n",
              "      border-left-color: var(--fill-color);\n",
              "    }\n",
              "    20% {\n",
              "      border-color: transparent;\n",
              "      border-left-color: var(--fill-color);\n",
              "      border-top-color: var(--fill-color);\n",
              "    }\n",
              "    30% {\n",
              "      border-color: transparent;\n",
              "      border-left-color: var(--fill-color);\n",
              "      border-top-color: var(--fill-color);\n",
              "      border-right-color: var(--fill-color);\n",
              "    }\n",
              "    40% {\n",
              "      border-color: transparent;\n",
              "      border-right-color: var(--fill-color);\n",
              "      border-top-color: var(--fill-color);\n",
              "    }\n",
              "    60% {\n",
              "      border-color: transparent;\n",
              "      border-right-color: var(--fill-color);\n",
              "    }\n",
              "    80% {\n",
              "      border-color: transparent;\n",
              "      border-right-color: var(--fill-color);\n",
              "      border-bottom-color: var(--fill-color);\n",
              "    }\n",
              "    90% {\n",
              "      border-color: transparent;\n",
              "      border-bottom-color: var(--fill-color);\n",
              "    }\n",
              "  }\n",
              "</style>\n",
              "\n",
              "  <script>\n",
              "    async function quickchart(key) {\n",
              "      const quickchartButtonEl =\n",
              "        document.querySelector('#' + key + ' button');\n",
              "      quickchartButtonEl.disabled = true;  // To prevent multiple clicks.\n",
              "      quickchartButtonEl.classList.add('colab-df-spinner');\n",
              "      try {\n",
              "        const charts = await google.colab.kernel.invokeFunction(\n",
              "            'suggestCharts', [key], {});\n",
              "      } catch (error) {\n",
              "        console.error('Error during call to suggestCharts:', error);\n",
              "      }\n",
              "      quickchartButtonEl.classList.remove('colab-df-spinner');\n",
              "      quickchartButtonEl.classList.add('colab-df-quickchart-complete');\n",
              "    }\n",
              "    (() => {\n",
              "      let quickchartButtonEl =\n",
              "        document.querySelector('#df-eb83c956-c2bd-4929-b144-2bd6f6fc1a97 button');\n",
              "      quickchartButtonEl.style.display =\n",
              "        google.colab.kernel.accessAllowed ? 'block' : 'none';\n",
              "    })();\n",
              "  </script>\n",
              "</div>\n",
              "\n",
              "  <div id=\"id_09ab7ae2-71db-44c4-80d4-975f28a4513f\">\n",
              "    <style>\n",
              "      .colab-df-generate {\n",
              "        background-color: #E8F0FE;\n",
              "        border: none;\n",
              "        border-radius: 50%;\n",
              "        cursor: pointer;\n",
              "        display: none;\n",
              "        fill: #1967D2;\n",
              "        height: 32px;\n",
              "        padding: 0 0 0 0;\n",
              "        width: 32px;\n",
              "      }\n",
              "\n",
              "      .colab-df-generate:hover {\n",
              "        background-color: #E2EBFA;\n",
              "        box-shadow: 0px 1px 2px rgba(60, 64, 67, 0.3), 0px 1px 3px 1px rgba(60, 64, 67, 0.15);\n",
              "        fill: #174EA6;\n",
              "      }\n",
              "\n",
              "      [theme=dark] .colab-df-generate {\n",
              "        background-color: #3B4455;\n",
              "        fill: #D2E3FC;\n",
              "      }\n",
              "\n",
              "      [theme=dark] .colab-df-generate:hover {\n",
              "        background-color: #434B5C;\n",
              "        box-shadow: 0px 1px 3px 1px rgba(0, 0, 0, 0.15);\n",
              "        filter: drop-shadow(0px 1px 2px rgba(0, 0, 0, 0.3));\n",
              "        fill: #FFFFFF;\n",
              "      }\n",
              "    </style>\n",
              "    <button class=\"colab-df-generate\" onclick=\"generateWithVariable('r2_expt_results')\"\n",
              "            title=\"Generate code using this dataframe.\"\n",
              "            style=\"display:none;\">\n",
              "\n",
              "  <svg xmlns=\"http://www.w3.org/2000/svg\" height=\"24px\"viewBox=\"0 0 24 24\"\n",
              "       width=\"24px\">\n",
              "    <path d=\"M7,19H8.4L18.45,9,17,7.55,7,17.6ZM5,21V16.75L18.45,3.32a2,2,0,0,1,2.83,0l1.4,1.43a1.91,1.91,0,0,1,.58,1.4,1.91,1.91,0,0,1-.58,1.4L9.25,21ZM18.45,9,17,7.55Zm-12,3A5.31,5.31,0,0,0,4.9,8.1,5.31,5.31,0,0,0,1,6.5,5.31,5.31,0,0,0,4.9,4.9,5.31,5.31,0,0,0,6.5,1,5.31,5.31,0,0,0,8.1,4.9,5.31,5.31,0,0,0,12,6.5,5.46,5.46,0,0,0,6.5,12Z\"/>\n",
              "  </svg>\n",
              "    </button>\n",
              "    <script>\n",
              "      (() => {\n",
              "      const buttonEl =\n",
              "        document.querySelector('#id_09ab7ae2-71db-44c4-80d4-975f28a4513f button.colab-df-generate');\n",
              "      buttonEl.style.display =\n",
              "        google.colab.kernel.accessAllowed ? 'block' : 'none';\n",
              "\n",
              "      buttonEl.onclick = () => {\n",
              "        google.colab.notebook.generateWithVariable('r2_expt_results');\n",
              "      }\n",
              "      })();\n",
              "    </script>\n",
              "  </div>\n",
              "\n",
              "    </div>\n",
              "  </div>\n"
            ],
            "application/vnd.google.colaboratory.intrinsic+json": {
              "type": "dataframe",
              "variable_name": "r2_expt_results",
              "summary": "{\n  \"name\": \"r2_expt_results\",\n  \"rows\": 2,\n  \"fields\": [\n    {\n      \"column\": \"run\",\n      \"properties\": {\n        \"dtype\": \"number\",\n        \"std\": 0,\n        \"min\": 0,\n        \"max\": 1,\n        \"num_unique_values\": 2,\n        \"samples\": [\n          1,\n          0\n        ],\n        \"semantic_type\": \"\",\n        \"description\": \"\"\n      }\n    },\n    {\n      \"column\": \"test_loss\",\n      \"properties\": {\n        \"dtype\": \"number\",\n        \"std\": 87.27214180771132,\n        \"min\": 12.350663185119629,\n        \"max\": 135.77210974693298,\n        \"num_unique_values\": 2,\n        \"samples\": [\n          12.350663185119629,\n          135.77210974693298\n        ],\n        \"semantic_type\": \"\",\n        \"description\": \"\"\n      }\n    },\n    {\n      \"column\": \"final_train_loss\",\n      \"properties\": {\n        \"dtype\": \"number\",\n        \"std\": 0.8347711942361756,\n        \"min\": 0.641673181367957,\n        \"max\": 1.8222179257351419,\n        \"num_unique_values\": 2,\n        \"samples\": [\n          1.8222179257351419,\n          0.641673181367957\n        ],\n        \"semantic_type\": \"\",\n        \"description\": \"\"\n      }\n    },\n    {\n      \"column\": \"final_val_loss\",\n      \"properties\": {\n        \"dtype\": \"number\",\n        \"std\": 69.93887395815106,\n        \"min\": 9.053998072942099,\n        \"max\": 107.96250216166179,\n        \"num_unique_values\": 2,\n        \"samples\": [\n          9.053998072942099,\n          107.96250216166179\n        ],\n        \"semantic_type\": \"\",\n        \"description\": \"\"\n      }\n    }\n  ]\n}"
            }
          },
          "metadata": {},
          "execution_count": 20
        }
      ]
    },
    {
      "cell_type": "markdown",
      "source": [
        "# Data inspection"
      ],
      "metadata": {
        "id": "G474gpu4ZBUM"
      }
    },
    {
      "cell_type": "code",
      "source": [
        "from src.datasets.activations_dataset import R2ActivationsDataset"
      ],
      "metadata": {
        "id": "LLKRvJdSZCdN"
      },
      "execution_count": 21,
      "outputs": []
    },
    {
      "cell_type": "code",
      "source": [
        "r2_acts = R2ActivationsDataset(r2_activations_path)"
      ],
      "metadata": {
        "id": "2Z_5RlROZI7O"
      },
      "execution_count": 22,
      "outputs": []
    },
    {
      "cell_type": "code",
      "source": [
        "for act, label, id in r2_acts:\n",
        "  print(label)"
      ],
      "metadata": {
        "colab": {
          "base_uri": "https://localhost:8080/"
        },
        "id": "v5zsw-9QZPL1",
        "outputId": "47293b7a-8048-4b7d-9e97-639c0df823dc"
      },
      "execution_count": 23,
      "outputs": [
        {
          "output_type": "stream",
          "name": "stdout",
          "text": [
            "tensor(0.9982)\n",
            "tensor(1.0000)\n",
            "tensor(0.9016)\n",
            "tensor(0.9999)\n",
            "tensor(0.9996)\n",
            "tensor(0.9995)\n",
            "tensor(0.9999)\n",
            "tensor(0.5746)\n",
            "tensor(0.9995)\n",
            "tensor(0.9832)\n",
            "tensor(-0.2268)\n",
            "tensor(0.9994)\n",
            "tensor(0.9999)\n",
            "tensor(0.9995)\n",
            "tensor(0.9834)\n",
            "tensor(0.9999)\n",
            "tensor(0.9804)\n",
            "tensor(0.9990)\n",
            "tensor(0.9800)\n",
            "tensor(0.9998)\n",
            "tensor(1.0000)\n",
            "tensor(1.0000)\n",
            "tensor(0.9989)\n",
            "tensor(0.9893)\n",
            "tensor(0.9996)\n",
            "tensor(0.9999)\n",
            "tensor(0.9927)\n",
            "tensor(0.9991)\n"
          ]
        }
      ]
    },
    {
      "cell_type": "code",
      "source": [
        "from src.datasets import ActivationsDataset"
      ],
      "metadata": {
        "id": "vOaNrfw8K0f7"
      },
      "execution_count": 24,
      "outputs": []
    },
    {
      "cell_type": "code",
      "source": [
        "r2_acts_ds = ActivationsDataset(r2_activations_path, feature_label='r2_score', layer_idx=-1)\n",
        "for act, label, id in r2_acts_ds:\n",
        "  print(label)"
      ],
      "metadata": {
        "colab": {
          "base_uri": "https://localhost:8080/"
        },
        "id": "ZLoyQFV_K2H7",
        "outputId": "210e7134-6ab0-4441-95e0-7431ba42889f"
      },
      "execution_count": 25,
      "outputs": [
        {
          "output_type": "stream",
          "name": "stdout",
          "text": [
            "tensor(0.9982)\n",
            "tensor(1.0000)\n",
            "tensor(0.9016)\n",
            "tensor(0.9999)\n",
            "tensor(0.9996)\n",
            "tensor(0.9995)\n",
            "tensor(0.9999)\n",
            "tensor(0.5746)\n",
            "tensor(0.9995)\n",
            "tensor(0.9832)\n",
            "tensor(-0.2268)\n",
            "tensor(0.9994)\n",
            "tensor(-inf)\n",
            "tensor(-inf)\n",
            "tensor(0.9999)\n",
            "tensor(0.9995)\n",
            "tensor(0.9834)\n",
            "tensor(0.9999)\n",
            "tensor(0.9804)\n",
            "tensor(0.9990)\n",
            "tensor(0.9800)\n",
            "tensor(0.9998)\n",
            "tensor(1.0000)\n",
            "tensor(1.0000)\n",
            "tensor(0.9989)\n",
            "tensor(0.9893)\n",
            "tensor(0.9996)\n",
            "tensor(0.9999)\n",
            "tensor(0.9927)\n",
            "tensor(0.9991)\n"
          ]
        }
      ]
    }
  ]
}