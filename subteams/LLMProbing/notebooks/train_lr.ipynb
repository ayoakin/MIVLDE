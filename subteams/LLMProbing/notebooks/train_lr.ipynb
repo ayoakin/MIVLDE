{
  "nbformat": 4,
  "nbformat_minor": 0,
  "metadata": {
    "colab": {
      "provenance": [],
      "authorship_tag": "ABX9TyPkB0jSwke2bgUkQzy/ZUFz"
    },
    "kernelspec": {
      "name": "python3",
      "display_name": "Python 3"
    },
    "language_info": {
      "name": "python"
    }
  },
  "cells": [
    {
      "cell_type": "code",
      "source": [
        "from google.colab import drive\n",
        "drive.mount('/content/drive')"
      ],
      "metadata": {
        "colab": {
          "base_uri": "https://localhost:8080/"
        },
        "id": "LU9k4EGMcAYP",
        "outputId": "b4355f67-86b5-46b8-efe5-b70c70deea32"
      },
      "execution_count": 1,
      "outputs": [
        {
          "output_type": "stream",
          "name": "stdout",
          "text": [
            "Drive already mounted at /content/drive; to attempt to forcibly remount, call drive.mount(\"/content/drive\", force_remount=True).\n"
          ]
        }
      ]
    },
    {
      "cell_type": "code",
      "execution_count": 2,
      "metadata": {
        "id": "GRyFq_JRXyfX"
      },
      "outputs": [],
      "source": [
        "import os\n",
        "import torch\n",
        "import torch.nn as nn\n",
        "import torch.optim as optim\n",
        "import datetime\n",
        "import pickle\n",
        "import matplotlib.pyplot as plt\n",
        "import pandas as pd\n",
        "import seaborn as sns\n",
        "sns.set_theme()\n",
        "from tqdm import tqdm\n",
        "from torch.utils.data import DataLoader, Dataset, random_split"
      ]
    },
    {
      "cell_type": "code",
      "source": [
        "repo_path = '/content/drive/MyDrive/odeformer' # folder where odeformer is stored\n",
        "script_path = '/content/drive/MyDrive/aisc' # folder containing the script generate_samples.py\n",
        "activations_path = '/content/drive/MyDrive/aisc/activations' # where you want to save activations\n",
        "logs_path = '/content/drive/MyDrive/aisc/logs'\n",
        "probes_path = '/content/drive/MyDrive/aisc/probes'\n",
        "%cd {script_path}\n",
        "\n",
        "device = torch.device('cuda' if torch.cuda.is_available() else 'cpu')"
      ],
      "metadata": {
        "colab": {
          "base_uri": "https://localhost:8080/"
        },
        "id": "4Q14vL7L6Udw",
        "outputId": "f04acb06-1727-4fff-c538-f20b4cc0e63c"
      },
      "execution_count": 3,
      "outputs": [
        {
          "output_type": "stream",
          "name": "stdout",
          "text": [
            "/content/drive/MyDrive/aisc\n"
          ]
        }
      ]
    },
    {
      "cell_type": "markdown",
      "source": [
        "# LRProbe and ActivationsDataset classes"
      ],
      "metadata": {
        "id": "Xc1Xg79OJ1VJ"
      }
    },
    {
      "cell_type": "code",
      "source": [
        "# Probe class\n",
        "\n",
        "class LRProbe(torch.nn.Module):\n",
        "    def __init__(self, d_in=512): # Default decoder layer activation dimension\n",
        "        super(LRProbe, self).__init__()\n",
        "        self.hidden = torch.nn.Linear(d_in, 1, bias=False)\n",
        "\n",
        "    def forward(self, x):\n",
        "        x = self.hidden(x)\n",
        "        x = x.squeeze(-1)\n",
        "        return x\n",
        "\n",
        "    def predict(self, acts):\n",
        "        with torch.no_grad():\n",
        "            return self(acts)\n",
        "\n",
        "    def direction(self):\n",
        "        return self.hidden.weight.data[0]"
      ],
      "metadata": {
        "id": "mB718wZVb7Y5"
      },
      "execution_count": 4,
      "outputs": []
    },
    {
      "cell_type": "code",
      "source": [
        "# PyTorch wrapper for activations dataset\n",
        "\n",
        "# TODO: update this to also return the index / id of the current data sample to help identify probe failures\n",
        "\n",
        "class ActivationsDataset(Dataset):\n",
        "  def __init__(self, activations_path, feature_label, layer_idx, module='ffn'):\n",
        "    self.act_paths = [os.path.join(activations_path, f) for f in os.listdir(activations_path)]\n",
        "    self.feature_label = feature_label\n",
        "    self.layer_idx = layer_idx\n",
        "    self.module = module\n",
        "\n",
        "  def __len__(self):\n",
        "    return len(self.act_paths)\n",
        "\n",
        "  def __getitem__(self, idx):\n",
        "    act_path = self.act_paths[idx]\n",
        "    with open(act_path, 'rb') as f:\n",
        "      activation = pickle.load(f)\n",
        "    layer_name = self.get_layer_name(self.layer_idx)\n",
        "    if 'encoder' in layer_name:\n",
        "      act_data = activation['encoder'][layer_name]\n",
        "    else:\n",
        "      act_data = activation['decoder'][layer_name]\n",
        "    # TODO: need to update the below functionality to be neater (needs to work with activation generation script)\n",
        "    if act_data.shape[0] != 512: # TODO: need to update this for when we consider multiple beams\n",
        "      act_data = act_data[-1, :, :].flatten()\n",
        "    act_label = torch.tensor(activation['feature_dict'][self.feature_label], dtype=torch.float)\n",
        "    return act_data, act_label\n",
        "\n",
        "  def get_layer_name(self, idx):\n",
        "    '''\n",
        "    Helper function to return the correct name of a layer in the ODEFormer given\n",
        "    its index\n",
        "    '''\n",
        "    layers = [f'encoder_{self.module}_{num}' for num in range(4)] + [f'decoder_{self.module}_{num}' for num in range(12)]\n",
        "    layer_name = layers[idx]\n",
        "    if -16 <= idx < 16:\n",
        "      return layer_name\n",
        "    else:\n",
        "      raise ValueError(\"Layer index should be in -16 to 15\")"
      ],
      "metadata": {
        "id": "vOYis1Unt2QM"
      },
      "execution_count": 5,
      "outputs": []
    },
    {
      "cell_type": "markdown",
      "source": [
        "# Helper functions"
      ],
      "metadata": {
        "id": "vShwG-O1KD7t"
      }
    },
    {
      "cell_type": "code",
      "source": [
        "# Dataset helper functions\n",
        "\n",
        "def split_dataset(dataset, lengths=[0.8, 0.0, 0.2], seed=None):\n",
        "  '''\n",
        "  Split into training, validation, and testing datasets\n",
        "  Default is to have no validation dataset (i.e. empty) and randomized splitting\n",
        "  Seed can be set for deterministic splitting\n",
        "  '''\n",
        "  if seed is not None:\n",
        "    generator = torch.Generator().manual_seed(seed)\n",
        "  else:\n",
        "    generator = torch.Generator()\n",
        "  return random_split(dataset, lengths, generator)\n",
        "\n",
        "def get_d_in(dataset):\n",
        "  '''\n",
        "  Return the input dimension a probe requires for a given dataset of activations\n",
        "  '''\n",
        "  d_in = dataset[0][0].shape[0]\n",
        "  return d_in"
      ],
      "metadata": {
        "id": "D8ZQBXMq-0Aa"
      },
      "execution_count": 6,
      "outputs": []
    },
    {
      "cell_type": "code",
      "source": [
        "# Probe training and evaluation functions\n",
        "\n",
        "# TODO: update these to include data sample indices / ids from the dataloaders\n",
        "# TODO: think about whether we can send these to the gpu (if available) for faster training and evaluation\n",
        "# TODO: identify where we would need to pass device to the relevant torch functions to do the above\n",
        "\n",
        "def eval_probe(probe, dataloader):\n",
        "  '''\n",
        "  Evaluate a given probe on a specified dataset (via its corresponding dataloader)\n",
        "  '''\n",
        "  with torch.no_grad():\n",
        "    total_loss = 0\n",
        "    correct = 0\n",
        "    total_preds = 0\n",
        "    criterion = nn.BCEWithLogitsLoss()\n",
        "\n",
        "    probe.eval()\n",
        "\n",
        "    for acts, labels in dataloader:\n",
        "      outputs = probe(acts)\n",
        "      loss = criterion(outputs, labels)\n",
        "      total_loss += loss.item()\n",
        "\n",
        "      pred_labels = torch.nn.functional.sigmoid(outputs).round()\n",
        "      correct += (pred_labels == labels).float().sum()\n",
        "      total_preds += len(labels)\n",
        "\n",
        "    accuracy = (correct / total_preds).item()\n",
        "    avg_loss = total_loss / total_preds\n",
        "    return avg_loss, accuracy\n",
        "\n",
        "def train_probe(probe, train_dataloader, val_dataloader=None, \\\n",
        "                lr=0.01, num_epochs=20, device='cpu', \\\n",
        "                logs_path='/content/drive/MyDrive/aisc/logs', write_log=False): # TODO: determine if default hyperparameters are good\n",
        "  '''\n",
        "  Train an instantiated probe using specified training and validation data\n",
        "  '''\n",
        "  # Use Adam optimizer for now\n",
        "  # TODO: determine if other optimizers might be better\n",
        "  # TODO: investigate adding learning rate scheduler (e.g. cosine annealing?)\n",
        "  opt = optim.Adam(probe.parameters(), lr=lr, weight_decay=1e-3)\n",
        "  # TODO: investigate if weight decay is actually necessary\n",
        "  criterion = nn.BCEWithLogitsLoss()\n",
        "\n",
        "  # Open log files to write to if desired\n",
        "  # Include the current time of the experiment in filename to avoid collisions\n",
        "  today_str = datetime.datetime.now().strftime('%Y_%m_%d_%H_%M')\n",
        "  if write_log:\n",
        "    train_f = open(os.path.join(logs_path, f'{today_str}_train_acc_per_epoch.txt'), 'w')\n",
        "    train_f.write(f'Learning rate: {lr}, Num. epochs: {num_epochs}\\n')\n",
        "    if val_dataloader is not None:\n",
        "      val_f = open(os.path.join(logs_path, f'{today_str}_val_acc_per_epoch.txt'), 'w')\n",
        "      val_f.write(f'Learning rate: {lr}, Num. epochs: {num_epochs}\\n')\n",
        "\n",
        "  losses = []\n",
        "  accuracies = []\n",
        "  val_losses = []\n",
        "  val_accuracies = []\n",
        "\n",
        "  # Epoch 0 (for comparison against epoch 1)\n",
        "  e0_train_loss, e0_train_acc = eval_probe(probe, train_dataloader)\n",
        "  losses.append(e0_train_loss)\n",
        "  accuracies.append(e0_train_acc)\n",
        "  if val_dataloader is not None:\n",
        "    e0_val_loss, e0_val_acc = eval_probe(probe, val_dataloader)\n",
        "    val_losses.append(e0_val_loss)\n",
        "    val_accuracies.append(e0_val_acc)\n",
        "\n",
        "  # Main training loop\n",
        "  for epoch in tqdm(range(num_epochs), desc='Training LR Probe'):\n",
        "    probe.train()\n",
        "    total_loss = 0\n",
        "    correct_preds = 0\n",
        "    total_preds = 0\n",
        "\n",
        "    for i, (train_acts, train_labels) in enumerate(train_dataloader):\n",
        "      # Zero the gradients\n",
        "      opt.zero_grad()\n",
        "\n",
        "      # Calculate loss\n",
        "      outputs = probe(train_acts)\n",
        "      loss = criterion(outputs, train_labels)\n",
        "\n",
        "      loss.backward()\n",
        "\n",
        "      # Update model weights\n",
        "      opt.step()\n",
        "\n",
        "      total_loss += loss.item()\n",
        "      total_preds += len(train_labels)\n",
        "\n",
        "      # Calculate correct batch predictions\n",
        "      # preds = outputs.round()\n",
        "      pred_labels = torch.nn.functional.sigmoid(outputs).round()\n",
        "      correct_preds += (pred_labels == train_labels).float().sum()\n",
        "\n",
        "    # Calculate epoch stats\n",
        "    accuracy = (correct_preds / total_preds).item()\n",
        "    avg_loss = total_loss / total_preds\n",
        "\n",
        "    losses.append(avg_loss)\n",
        "    accuracies.append(accuracy)\n",
        "\n",
        "    # Write to specified log file\n",
        "    if write_log:\n",
        "      train_f.write(f'Epoch {epoch+1}: Loss {avg_loss}, Accuracy {accuracy}\\n')\n",
        "    # print(f' Epoch {epoch+1}: Loss {avg_loss}, Accuracy {accuracy.item()}\\n')\n",
        "\n",
        "    # Run evaluation on validation set\n",
        "    # TODO: maybe implement early stopping? Need to test on larger dataset\n",
        "    if val_dataloader is not None:\n",
        "        avg_val_loss, val_accuracy = eval_probe(probe, val_dataloader)\n",
        "\n",
        "        val_losses.append(avg_val_loss)\n",
        "        val_accuracies.append(val_accuracy)\n",
        "\n",
        "        if write_log:\n",
        "          val_f.write(f'Epoch {epoch+1} (Validation): Loss {avg_val_loss}, Accuracy {val_accuracy}\\n')\n",
        "        # print(f' Epoch {epoch+1} (Validation): Loss {avg_val_loss}, Accuracy {val_accuracy.item()}\\n')\n",
        "  print(f'\\nEpoch {epoch+1} (Final): Loss {avg_loss}, Accuracy {accuracy}')\n",
        "\n",
        "  return probe, losses, accuracies, val_losses, val_accuracies"
      ],
      "metadata": {
        "id": "LfrvbW4Db9nw"
      },
      "execution_count": 7,
      "outputs": []
    },
    {
      "cell_type": "code",
      "source": [
        "# Probe saving and loading functionality\n",
        "\n",
        "def save_probe_to_path(probe, probe_path):\n",
        "  '''\n",
        "  Save a probe's state dictionary to a specified path\n",
        "  (saving only the state dictionary is suggested by PyTorch)\n",
        "  '''\n",
        "  torch.save(probe.state_dict(), probe_path)\n",
        "  print(f'Saved state dictionary to {probe_path}')\n",
        "\n",
        "def load_probe_from_path(probe_path, d_in=512):\n",
        "  '''\n",
        "  Returns a probe ready for evaluation loaded from the given path, with specified input dimension\n",
        "  '''\n",
        "  probe = LRProbe(d_in=d_in)\n",
        "  probe.load_state_dict(torch.load(probe_path, weights_only=True))\n",
        "  probe.eval()\n",
        "  return probe"
      ],
      "metadata": {
        "id": "TS3gdBujhidY"
      },
      "execution_count": 8,
      "outputs": []
    },
    {
      "cell_type": "code",
      "source": [
        "# Plotting functionality\n",
        "\n",
        "def plot_data(data, val_data, num_epochs, data_name, use_val, include_e0):\n",
        "  # TODO: add saving flag and directory for plots\n",
        "  # Changed to include epoch 0 (random init performance)\n",
        "  fig, ax = plt.subplots()\n",
        "  if include_e0:\n",
        "    start_idx = 0\n",
        "  else:\n",
        "    start_idx = 1\n",
        "  epochs = torch.arange(start_idx, num_epochs + 1, step=1).to(torch.int)\n",
        "  ax.plot(epochs, data[start_idx:], marker='x', color='tab:blue', label='Training')\n",
        "  including_string = 'with' if include_e0 else 'without'\n",
        "  ax.set(title=f'{data_name} ({including_string} epoch 0)', xlabel='Epoch', ylabel=data_name)\n",
        "  if use_val:\n",
        "    ax.plot(epochs, val_data[start_idx:], marker='x', color='tab:orange', label='Validation')\n",
        "    ax.legend()\n",
        "  plt.show()"
      ],
      "metadata": {
        "id": "xeeWh31FV9Um"
      },
      "execution_count": 9,
      "outputs": []
    },
    {
      "cell_type": "markdown",
      "source": [
        "# Testing Area"
      ],
      "metadata": {
        "id": "wY1vYFCj93Rv"
      }
    },
    {
      "cell_type": "code",
      "source": [
        "# # MWE and features testing\n",
        "\n",
        "# # Test dataset, dataloaders, and splitting\n",
        "# target_feature = 'trig'\n",
        "# target_layer_idx = 15\n",
        "# full_dataset = ActivationsDataset(activations_path=activations_path, feature_label=target_feature, layer_idx=target_layer_idx)\n",
        "# train_dataset, val_dataset, test_dataset = split_dataset(full_dataset, lengths=[0.7, 0.1, 0.2], seed=42)\n",
        "# train_dataloader = DataLoader(train_dataset)\n",
        "# val_dataloader = DataLoader(val_dataset)\n",
        "# test_dataloader = DataLoader(test_dataset)\n",
        "\n",
        "# # Test helper function and probe\n",
        "# d_in = get_d_in(full_dataset)\n",
        "# test_probe = LRProbe(d_in)\n",
        "\n",
        "# # Test training loop\n",
        "# test_probe, losses, accuracies, val_losses, val_accuracies = train_probe(test_probe, train_dataloader, val_dataloader=val_dataloader)\n",
        "\n",
        "# # Test evaluation function on test set\n",
        "# test_loss, test_acc = eval_probe(test_probe, test_dataloader)\n",
        "# print(f'Test Set: Loss {test_loss}, Accuracy {test_acc}')\n",
        "\n",
        "# # Test extracting saved probe direction\n",
        "# print(f'Probe direction dim: {test_probe.direction.shape}')\n",
        "\n",
        "# # Test saving and loading probe\n",
        "# probe_name = f'test_probe_{target_feature}_{target_layer_idx}.pt'\n",
        "# test_probe_path = os.path.join(probes_path, probe_name)\n",
        "# save_probe_to_path(test_probe, test_probe_path)\n",
        "# test_probe_copy = load_probe_from_path(test_probe_path, d_in=d_in)"
      ],
      "metadata": {
        "id": "eu7bwnxr3H6w"
      },
      "execution_count": 10,
      "outputs": []
    },
    {
      "cell_type": "code",
      "source": [
        "# # More advanced tests\n",
        "\n",
        "# man_activations_path = '/content/drive/MyDrive/aisc/activations_manual_singlebeam'\n",
        "\n",
        "# # Test dataset, dataloaders, and splitting\n",
        "# target_feature = 'exponential_decay'\n",
        "# target_layer_idx = -1\n",
        "# num_epochs = 20\n",
        "# lr = 0.001\n",
        "# shuffle_datasets = True\n",
        "# write_data = False\n",
        "# use_val = True\n",
        "# full_dataset = ActivationsDataset(activations_path=man_activations_path, feature_label=target_feature, layer_idx=target_layer_idx)\n",
        "# train_dataset, val_dataset, test_dataset = split_dataset(full_dataset, lengths=[0.8, 0.1, 0.1])\n",
        "# train_dataloader = DataLoader(train_dataset, batch_size=16, shuffle=shuffle_datasets)\n",
        "# if use_val:\n",
        "#   val_dataloader = DataLoader(val_dataset, shuffle=shuffle_datasets)\n",
        "# test_dataloader = DataLoader(test_dataset, shuffle=shuffle_datasets)\n",
        "\n",
        "# # Test helper function and probe\n",
        "# d_in = get_d_in(full_dataset)\n",
        "# test_probe = LRProbe(d_in)\n",
        "\n",
        "# # Test training loop\n",
        "# if use_val:\n",
        "#   test_probe, losses, accuracies, val_losses, val_accuracies = train_probe(test_probe, train_dataloader, lr=lr, write_log=write_data, num_epochs=num_epochs, val_dataloader=val_dataloader)\n",
        "# else:\n",
        "#   test_probe, losses, accuracies, val_losses, val_accuracies = train_probe(test_probe, train_dataloader, lr=lr, write_log=write_data, num_epochs=num_epochs)\n",
        "\n",
        "# # Test evaluation function on test set\n",
        "# test_loss, test_acc = eval_probe(test_probe, test_dataloader)\n",
        "# print(f'Test Set: Loss {test_loss}, Accuracy {test_acc}')\n",
        "\n",
        "# # Test extracting saved probe direction\n",
        "# # print(f'Probe direction dim: {test_probe.direction().shape}')\n",
        "# # print(f'Probe direction: {test_probe.direction()}')\n",
        "\n",
        "# # Test saving and loading probe\n",
        "# if write_data:\n",
        "#   probe_name = f'test_probe_{target_feature}_{target_layer_idx}.pt'\n",
        "#   test_probe_path = os.path.join(probes_path, probe_name)\n",
        "#   save_probe_to_path(test_probe, test_probe_path)\n",
        "#   # test_probe_copy = load_probe_from_path(test_probe_path, d_in=d_in)"
      ],
      "metadata": {
        "id": "Hkml2bN5YVIE"
      },
      "execution_count": 11,
      "outputs": []
    },
    {
      "cell_type": "code",
      "source": [
        "# plot_data(losses, val_losses, num_epochs, 'Loss', use_val, include_e0=True)"
      ],
      "metadata": {
        "id": "xTrvDNFbdaPI"
      },
      "execution_count": 12,
      "outputs": []
    },
    {
      "cell_type": "code",
      "source": [
        "# plot_data(losses, val_losses, num_epochs, 'Loss', use_val, include_e0=False)"
      ],
      "metadata": {
        "id": "cQrPEW3B5Kyy"
      },
      "execution_count": 13,
      "outputs": []
    },
    {
      "cell_type": "code",
      "source": [
        "# plot_data(accuracies, val_accuracies, num_epochs, 'Accuracy', use_val, include_e0=True)"
      ],
      "metadata": {
        "id": "2QEKY-KlhxWI"
      },
      "execution_count": 14,
      "outputs": []
    },
    {
      "cell_type": "code",
      "source": [
        "# plot_data(accuracies, val_accuracies, num_epochs, 'Accuracy', use_val, include_e0=False)"
      ],
      "metadata": {
        "id": "9coFH2Tq6Jyn"
      },
      "execution_count": 15,
      "outputs": []
    },
    {
      "cell_type": "markdown",
      "source": [
        "# Separability Testing"
      ],
      "metadata": {
        "id": "7oFjU8QB98J8"
      }
    },
    {
      "cell_type": "code",
      "source": [
        "def train_and_save_probe_separation_expt(target_layer_idx, target_feature, lr, num_epochs, probe_name):\n",
        "  man_activations_path = '/content/drive/MyDrive/aisc/activations_manual_singlebeam'\n",
        "\n",
        "  # Test dataset, dataloaders, and splitting\n",
        "  shuffle_datasets = True\n",
        "  write_data = True\n",
        "  use_val = True\n",
        "  full_dataset = ActivationsDataset(activations_path=man_activations_path, feature_label=target_feature, layer_idx=target_layer_idx)\n",
        "  train_dataset, val_dataset, test_dataset = split_dataset(full_dataset, lengths=[0.8, 0.1, 0.1])\n",
        "  train_dataloader = DataLoader(train_dataset, batch_size=16, shuffle=shuffle_datasets)\n",
        "  if use_val:\n",
        "    val_dataloader = DataLoader(val_dataset, shuffle=shuffle_datasets)\n",
        "  test_dataloader = DataLoader(test_dataset, shuffle=shuffle_datasets)\n",
        "\n",
        "  d_in = get_d_in(full_dataset)\n",
        "  test_probe = LRProbe(d_in)\n",
        "\n",
        "  # Training loop\n",
        "  if use_val:\n",
        "    test_probe, losses, accuracies, val_losses, val_accuracies = train_probe(test_probe, train_dataloader, lr=lr, write_log=write_data, num_epochs=num_epochs, val_dataloader=val_dataloader)\n",
        "  else:\n",
        "    test_probe, losses, accuracies, val_losses, val_accuracies = train_probe(test_probe, train_dataloader, lr=lr, write_log=write_data, num_epochs=num_epochs)\n",
        "\n",
        "  # Evaluation on test set\n",
        "  test_loss, test_acc = eval_probe(test_probe, test_dataloader)\n",
        "  print(f'\\nProbe trained on layer {target_layer_idx}:')\n",
        "  print(f'Test Set: Loss {test_loss}, Accuracy {test_acc}')\n",
        "\n",
        "  # Save probe\n",
        "  test_probe_path = os.path.join(probes_path, probe_name)\n",
        "  save_probe_to_path(test_probe, test_probe_path)\n",
        "\n",
        "  return test_loss, test_acc"
      ],
      "metadata": {
        "id": "jsibHTfJ9M6V"
      },
      "execution_count": 16,
      "outputs": []
    },
    {
      "cell_type": "code",
      "source": [
        "'''\n",
        "What do we want to do here?\n",
        "Starting from the first decoder layer, we want to analyse performance on the\n",
        "test set of probes trained on each layer (given the same beam)\n",
        "- So we need to train a probe for each layer, given the same feature label\n",
        "- Then, given each of these probes, we need to analyse their performance on the\n",
        "  test set\n",
        "- Then we want to plot the test accuracy as we move to later decoder layers\n",
        "- At some point, we will want AUROC for different probes as well\n",
        "'''\n",
        "\n",
        "def separability_testing(target_feature, lr, num_epochs, layers, num_repeats=1):\n",
        "  experiment_data = []\n",
        "\n",
        "  for layer_idx in layers:\n",
        "    for run in range(num_repeats):\n",
        "      probe_name = f'test_probe_{target_feature}_{layer_idx}_{run}.pt'\n",
        "      test_loss, test_acc = train_and_save_probe_separation_expt(layer_idx, target_feature, lr, num_epochs, probe_name)\n",
        "      experiment_data.append({\n",
        "            \"layer\": layer_idx,\n",
        "            \"run\": run,\n",
        "            \"accuracy\": test_acc,\n",
        "            \"loss\": test_loss\n",
        "        })\n",
        "\n",
        "  experiment_data = pd.DataFrame(data=experiment_data)\n",
        "\n",
        "  return experiment_data"
      ],
      "metadata": {
        "id": "xiX8LLy-LCoR"
      },
      "execution_count": 17,
      "outputs": []
    },
    {
      "cell_type": "code",
      "source": [
        "target_feature = 'exponential_decay'\n",
        "lr = 0.001\n",
        "num_epochs = 10 # TODO: change back to a higher number once finished testing\n",
        "num_repeats = 5 # TODO: change back to a higher number once finished testing\n",
        "layers = [idx for idx in range(4, 16)] # TODO: change to include all layers once we have encoder data\n",
        "\n",
        "experiment_data = separability_testing(target_feature, lr, num_epochs, layers, num_repeats)"
      ],
      "metadata": {
        "colab": {
          "base_uri": "https://localhost:8080/"
        },
        "id": "4ffcRl-R_nVP",
        "outputId": "da9992aa-ff91-40b0-ec00-b22c8c3b283c"
      },
      "execution_count": 18,
      "outputs": [
        {
          "output_type": "stream",
          "name": "stderr",
          "text": [
            "Training LR Probe: 100%|██████████| 10/10 [00:54<00:00,  5.43s/it]\n"
          ]
        },
        {
          "output_type": "stream",
          "name": "stdout",
          "text": [
            "\n",
            "Epoch 10 (Final): Loss 0.008220412323490472, Accuracy 0.9490085244178772\n",
            "\n",
            "Probe trained on layer 4:\n",
            "Test Set: Loss 0.36993601157833905, Accuracy 0.9431818127632141\n",
            "Saved state dictionary to /content/drive/MyDrive/aisc/probes/test_probe_exponential_decay_4_0.pt\n"
          ]
        },
        {
          "output_type": "stream",
          "name": "stderr",
          "text": [
            "Training LR Probe: 100%|██████████| 10/10 [00:49<00:00,  4.96s/it]\n"
          ]
        },
        {
          "output_type": "stream",
          "name": "stdout",
          "text": [
            "\n",
            "Epoch 10 (Final): Loss 0.012359443892689288, Accuracy 0.9405099153518677\n",
            "\n",
            "Probe trained on layer 4:\n",
            "Test Set: Loss 0.15087316707349194, Accuracy 0.9545454382896423\n",
            "Saved state dictionary to /content/drive/MyDrive/aisc/probes/test_probe_exponential_decay_4_1.pt\n"
          ]
        },
        {
          "output_type": "stream",
          "name": "stderr",
          "text": [
            "Training LR Probe: 100%|██████████| 10/10 [00:48<00:00,  4.85s/it]\n"
          ]
        },
        {
          "output_type": "stream",
          "name": "stdout",
          "text": [
            "\n",
            "Epoch 10 (Final): Loss 0.012020030150436678, Accuracy 0.9376770257949829\n",
            "\n",
            "Probe trained on layer 4:\n",
            "Test Set: Loss 0.14141374141700622, Accuracy 0.9431818127632141\n",
            "Saved state dictionary to /content/drive/MyDrive/aisc/probes/test_probe_exponential_decay_4_2.pt\n"
          ]
        },
        {
          "output_type": "stream",
          "name": "stderr",
          "text": [
            "Training LR Probe: 100%|██████████| 10/10 [00:49<00:00,  4.91s/it]\n"
          ]
        },
        {
          "output_type": "stream",
          "name": "stdout",
          "text": [
            "\n",
            "Epoch 10 (Final): Loss 0.011730363716464687, Accuracy 0.9461756348609924\n",
            "\n",
            "Probe trained on layer 4:\n",
            "Test Set: Loss 0.247388731287126, Accuracy 0.9318181872367859\n",
            "Saved state dictionary to /content/drive/MyDrive/aisc/probes/test_probe_exponential_decay_4_3.pt\n"
          ]
        },
        {
          "output_type": "stream",
          "name": "stderr",
          "text": [
            "Training LR Probe: 100%|██████████| 10/10 [00:49<00:00,  4.96s/it]\n"
          ]
        },
        {
          "output_type": "stream",
          "name": "stdout",
          "text": [
            "\n",
            "Epoch 10 (Final): Loss 0.00829198811655946, Accuracy 0.9419263601303101\n",
            "\n",
            "Probe trained on layer 4:\n",
            "Test Set: Loss 0.1434433432200606, Accuracy 0.9431818127632141\n",
            "Saved state dictionary to /content/drive/MyDrive/aisc/probes/test_probe_exponential_decay_4_4.pt\n"
          ]
        },
        {
          "output_type": "stream",
          "name": "stderr",
          "text": [
            "Training LR Probe: 100%|██████████| 10/10 [00:53<00:00,  5.32s/it]\n"
          ]
        },
        {
          "output_type": "stream",
          "name": "stdout",
          "text": [
            "\n",
            "Epoch 10 (Final): Loss 0.024343689118555507, Accuracy 0.9235127568244934\n",
            "\n",
            "Probe trained on layer 5:\n",
            "Test Set: Loss 0.22164790628031286, Accuracy 0.9545454382896423\n",
            "Saved state dictionary to /content/drive/MyDrive/aisc/probes/test_probe_exponential_decay_5_0.pt\n"
          ]
        },
        {
          "output_type": "stream",
          "name": "stderr",
          "text": [
            "Training LR Probe: 100%|██████████| 10/10 [00:49<00:00,  4.99s/it]\n"
          ]
        },
        {
          "output_type": "stream",
          "name": "stdout",
          "text": [
            "\n",
            "Epoch 10 (Final): Loss 0.011552922258143004, Accuracy 0.9490085244178772\n",
            "\n",
            "Probe trained on layer 5:\n",
            "Test Set: Loss 0.37791902577737346, Accuracy 0.9318181872367859\n",
            "Saved state dictionary to /content/drive/MyDrive/aisc/probes/test_probe_exponential_decay_5_1.pt\n"
          ]
        },
        {
          "output_type": "stream",
          "name": "stderr",
          "text": [
            "Training LR Probe: 100%|██████████| 10/10 [00:49<00:00,  4.97s/it]\n"
          ]
        },
        {
          "output_type": "stream",
          "name": "stdout",
          "text": [
            "\n",
            "Epoch 10 (Final): Loss 0.01961285405477018, Accuracy 0.9263455867767334\n",
            "\n",
            "Probe trained on layer 5:\n",
            "Test Set: Loss 0.1812976361780808, Accuracy 0.9431818127632141\n",
            "Saved state dictionary to /content/drive/MyDrive/aisc/probes/test_probe_exponential_decay_5_2.pt\n"
          ]
        },
        {
          "output_type": "stream",
          "name": "stderr",
          "text": [
            "Training LR Probe: 100%|██████████| 10/10 [00:50<00:00,  5.02s/it]\n"
          ]
        },
        {
          "output_type": "stream",
          "name": "stdout",
          "text": [
            "\n",
            "Epoch 10 (Final): Loss 0.013497995632165046, Accuracy 0.9461756348609924\n",
            "\n",
            "Probe trained on layer 5:\n",
            "Test Set: Loss 0.26957424344238295, Accuracy 0.9431818127632141\n",
            "Saved state dictionary to /content/drive/MyDrive/aisc/probes/test_probe_exponential_decay_5_3.pt\n"
          ]
        },
        {
          "output_type": "stream",
          "name": "stderr",
          "text": [
            "Training LR Probe: 100%|██████████| 10/10 [00:49<00:00,  4.96s/it]\n"
          ]
        },
        {
          "output_type": "stream",
          "name": "stdout",
          "text": [
            "\n",
            "Epoch 10 (Final): Loss 0.017065793368833473, Accuracy 0.9348441958427429\n",
            "\n",
            "Probe trained on layer 5:\n",
            "Test Set: Loss 0.21180772398656791, Accuracy 0.9431818127632141\n",
            "Saved state dictionary to /content/drive/MyDrive/aisc/probes/test_probe_exponential_decay_5_4.pt\n"
          ]
        },
        {
          "output_type": "stream",
          "name": "stderr",
          "text": [
            "Training LR Probe: 100%|██████████| 10/10 [00:50<00:00,  5.03s/it]\n"
          ]
        },
        {
          "output_type": "stream",
          "name": "stdout",
          "text": [
            "\n",
            "Epoch 10 (Final): Loss 0.007406055631786162, Accuracy 0.94475919008255\n",
            "\n",
            "Probe trained on layer 6:\n",
            "Test Set: Loss 0.11262472405203218, Accuracy 0.9431818127632141\n",
            "Saved state dictionary to /content/drive/MyDrive/aisc/probes/test_probe_exponential_decay_6_0.pt\n"
          ]
        },
        {
          "output_type": "stream",
          "name": "stderr",
          "text": [
            "Training LR Probe: 100%|██████████| 10/10 [00:49<00:00,  4.98s/it]\n"
          ]
        },
        {
          "output_type": "stream",
          "name": "stdout",
          "text": [
            "\n",
            "Epoch 10 (Final): Loss 0.008501270233202336, Accuracy 0.9362606406211853\n",
            "\n",
            "Probe trained on layer 6:\n",
            "Test Set: Loss 0.1287098802242161, Accuracy 0.9318181872367859\n",
            "Saved state dictionary to /content/drive/MyDrive/aisc/probes/test_probe_exponential_decay_6_1.pt\n"
          ]
        },
        {
          "output_type": "stream",
          "name": "stderr",
          "text": [
            "Training LR Probe: 100%|██████████| 10/10 [00:49<00:00,  4.92s/it]\n"
          ]
        },
        {
          "output_type": "stream",
          "name": "stdout",
          "text": [
            "\n",
            "Epoch 10 (Final): Loss 0.008400313774844046, Accuracy 0.9433428049087524\n",
            "\n",
            "Probe trained on layer 6:\n",
            "Test Set: Loss 0.10583155183092624, Accuracy 0.9318181872367859\n",
            "Saved state dictionary to /content/drive/MyDrive/aisc/probes/test_probe_exponential_decay_6_2.pt\n"
          ]
        },
        {
          "output_type": "stream",
          "name": "stderr",
          "text": [
            "Training LR Probe: 100%|██████████| 10/10 [00:49<00:00,  4.92s/it]\n"
          ]
        },
        {
          "output_type": "stream",
          "name": "stdout",
          "text": [
            "\n",
            "Epoch 10 (Final): Loss 0.007487633663939349, Accuracy 0.94475919008255\n",
            "\n",
            "Probe trained on layer 6:\n",
            "Test Set: Loss 0.1255169849182907, Accuracy 0.9431818127632141\n",
            "Saved state dictionary to /content/drive/MyDrive/aisc/probes/test_probe_exponential_decay_6_3.pt\n"
          ]
        },
        {
          "output_type": "stream",
          "name": "stderr",
          "text": [
            "Training LR Probe: 100%|██████████| 10/10 [00:49<00:00,  4.99s/it]\n"
          ]
        },
        {
          "output_type": "stream",
          "name": "stdout",
          "text": [
            "\n",
            "Epoch 10 (Final): Loss 0.00847588027049141, Accuracy 0.9433428049087524\n",
            "\n",
            "Probe trained on layer 6:\n",
            "Test Set: Loss 0.11582903404508794, Accuracy 0.9431818127632141\n",
            "Saved state dictionary to /content/drive/MyDrive/aisc/probes/test_probe_exponential_decay_6_4.pt\n"
          ]
        },
        {
          "output_type": "stream",
          "name": "stderr",
          "text": [
            "Training LR Probe: 100%|██████████| 10/10 [00:49<00:00,  5.00s/it]\n"
          ]
        },
        {
          "output_type": "stream",
          "name": "stdout",
          "text": [
            "\n",
            "Epoch 10 (Final): Loss 0.017940928679350078, Accuracy 0.8739376664161682\n",
            "\n",
            "Probe trained on layer 7:\n",
            "Test Set: Loss 0.2583145591515032, Accuracy 0.8977272510528564\n",
            "Saved state dictionary to /content/drive/MyDrive/aisc/probes/test_probe_exponential_decay_7_0.pt\n"
          ]
        },
        {
          "output_type": "stream",
          "name": "stderr",
          "text": [
            "Training LR Probe: 100%|██████████| 10/10 [00:49<00:00,  4.92s/it]\n"
          ]
        },
        {
          "output_type": "stream",
          "name": "stdout",
          "text": [
            "\n",
            "Epoch 10 (Final): Loss 0.01810851604506247, Accuracy 0.8413597941398621\n",
            "\n",
            "Probe trained on layer 7:\n",
            "Test Set: Loss 0.2616534494286911, Accuracy 0.9204545617103577\n",
            "Saved state dictionary to /content/drive/MyDrive/aisc/probes/test_probe_exponential_decay_7_1.pt\n"
          ]
        },
        {
          "output_type": "stream",
          "name": "stderr",
          "text": [
            "Training LR Probe: 100%|██████████| 10/10 [00:53<00:00,  5.34s/it]\n"
          ]
        },
        {
          "output_type": "stream",
          "name": "stdout",
          "text": [
            "\n",
            "Epoch 10 (Final): Loss 0.017877562652228573, Accuracy 0.8583569526672363\n",
            "\n",
            "Probe trained on layer 7:\n",
            "Test Set: Loss 0.25835680919276044, Accuracy 0.9204545617103577\n",
            "Saved state dictionary to /content/drive/MyDrive/aisc/probes/test_probe_exponential_decay_7_2.pt\n"
          ]
        },
        {
          "output_type": "stream",
          "name": "stderr",
          "text": [
            "Training LR Probe: 100%|██████████| 10/10 [00:50<00:00,  5.02s/it]\n"
          ]
        },
        {
          "output_type": "stream",
          "name": "stdout",
          "text": [
            "\n",
            "Epoch 10 (Final): Loss 0.017929673152672333, Accuracy 0.8484418988227844\n",
            "\n",
            "Probe trained on layer 7:\n",
            "Test Set: Loss 0.25363872534680093, Accuracy 0.8863636255264282\n",
            "Saved state dictionary to /content/drive/MyDrive/aisc/probes/test_probe_exponential_decay_7_3.pt\n"
          ]
        },
        {
          "output_type": "stream",
          "name": "stderr",
          "text": [
            "Training LR Probe: 100%|██████████| 10/10 [00:50<00:00,  5.09s/it]\n"
          ]
        },
        {
          "output_type": "stream",
          "name": "stdout",
          "text": [
            "\n",
            "Epoch 10 (Final): Loss 0.018550825038814004, Accuracy 0.8484418988227844\n",
            "\n",
            "Probe trained on layer 7:\n",
            "Test Set: Loss 0.26285213892432774, Accuracy 0.9204545617103577\n",
            "Saved state dictionary to /content/drive/MyDrive/aisc/probes/test_probe_exponential_decay_7_4.pt\n"
          ]
        },
        {
          "output_type": "stream",
          "name": "stderr",
          "text": [
            "Training LR Probe: 100%|██████████| 10/10 [00:49<00:00,  4.94s/it]\n"
          ]
        },
        {
          "output_type": "stream",
          "name": "stdout",
          "text": [
            "\n",
            "Epoch 10 (Final): Loss 0.008098002203948606, Accuracy 0.954674243927002\n",
            "\n",
            "Probe trained on layer 8:\n",
            "Test Set: Loss 0.13680590869642567, Accuracy 0.9431818127632141\n",
            "Saved state dictionary to /content/drive/MyDrive/aisc/probes/test_probe_exponential_decay_8_0.pt\n"
          ]
        },
        {
          "output_type": "stream",
          "name": "stderr",
          "text": [
            "Training LR Probe: 100%|██████████| 10/10 [00:52<00:00,  5.24s/it]\n"
          ]
        },
        {
          "output_type": "stream",
          "name": "stdout",
          "text": [
            "\n",
            "Epoch 10 (Final): Loss 0.00860952698855157, Accuracy 0.9305949211120605\n",
            "\n",
            "Probe trained on layer 8:\n",
            "Test Set: Loss 0.14084830235416038, Accuracy 0.9318181872367859\n",
            "Saved state dictionary to /content/drive/MyDrive/aisc/probes/test_probe_exponential_decay_8_1.pt\n"
          ]
        },
        {
          "output_type": "stream",
          "name": "stderr",
          "text": [
            "Training LR Probe: 100%|██████████| 10/10 [00:51<00:00,  5.20s/it]\n"
          ]
        },
        {
          "output_type": "stream",
          "name": "stdout",
          "text": [
            "\n",
            "Epoch 10 (Final): Loss 0.008635230119113886, Accuracy 0.9305949211120605\n",
            "\n",
            "Probe trained on layer 8:\n",
            "Test Set: Loss 0.13957875474046555, Accuracy 0.9318181872367859\n",
            "Saved state dictionary to /content/drive/MyDrive/aisc/probes/test_probe_exponential_decay_8_2.pt\n"
          ]
        },
        {
          "output_type": "stream",
          "name": "stderr",
          "text": [
            "Training LR Probe: 100%|██████████| 10/10 [00:52<00:00,  5.23s/it]\n"
          ]
        },
        {
          "output_type": "stream",
          "name": "stdout",
          "text": [
            "\n",
            "Epoch 10 (Final): Loss 0.008459826704462933, Accuracy 0.9504249095916748\n",
            "\n",
            "Probe trained on layer 8:\n",
            "Test Set: Loss 0.13678601628618542, Accuracy 0.9431818127632141\n",
            "Saved state dictionary to /content/drive/MyDrive/aisc/probes/test_probe_exponential_decay_8_3.pt\n"
          ]
        },
        {
          "output_type": "stream",
          "name": "stderr",
          "text": [
            "Training LR Probe: 100%|██████████| 10/10 [00:51<00:00,  5.11s/it]\n"
          ]
        },
        {
          "output_type": "stream",
          "name": "stdout",
          "text": [
            "\n",
            "Epoch 10 (Final): Loss 0.008162938728506437, Accuracy 0.954674243927002\n",
            "\n",
            "Probe trained on layer 8:\n",
            "Test Set: Loss 0.1334337739310947, Accuracy 0.9431818127632141\n",
            "Saved state dictionary to /content/drive/MyDrive/aisc/probes/test_probe_exponential_decay_8_4.pt\n"
          ]
        },
        {
          "output_type": "stream",
          "name": "stderr",
          "text": [
            "Training LR Probe: 100%|██████████| 10/10 [00:51<00:00,  5.12s/it]\n"
          ]
        },
        {
          "output_type": "stream",
          "name": "stdout",
          "text": [
            "\n",
            "Epoch 10 (Final): Loss 0.0026949375337543807, Accuracy 0.977337121963501\n",
            "\n",
            "Probe trained on layer 9:\n",
            "Test Set: Loss 0.050709703219333525, Accuracy 0.9659090638160706\n",
            "Saved state dictionary to /content/drive/MyDrive/aisc/probes/test_probe_exponential_decay_9_0.pt\n"
          ]
        },
        {
          "output_type": "stream",
          "name": "stderr",
          "text": [
            "Training LR Probe: 100%|██████████| 10/10 [00:50<00:00,  5.08s/it]\n"
          ]
        },
        {
          "output_type": "stream",
          "name": "stdout",
          "text": [
            "\n",
            "Epoch 10 (Final): Loss 0.0026446463284280582, Accuracy 0.9759206771850586\n",
            "\n",
            "Probe trained on layer 9:\n",
            "Test Set: Loss 0.05260732207220413, Accuracy 0.9659090638160706\n",
            "Saved state dictionary to /content/drive/MyDrive/aisc/probes/test_probe_exponential_decay_9_1.pt\n"
          ]
        },
        {
          "output_type": "stream",
          "name": "stderr",
          "text": [
            "Training LR Probe: 100%|██████████| 10/10 [00:51<00:00,  5.11s/it]\n"
          ]
        },
        {
          "output_type": "stream",
          "name": "stdout",
          "text": [
            "\n",
            "Epoch 10 (Final): Loss 0.002683576936477389, Accuracy 0.977337121963501\n",
            "\n",
            "Probe trained on layer 9:\n",
            "Test Set: Loss 0.04958990707316182, Accuracy 0.9659090638160706\n",
            "Saved state dictionary to /content/drive/MyDrive/aisc/probes/test_probe_exponential_decay_9_2.pt\n"
          ]
        },
        {
          "output_type": "stream",
          "name": "stderr",
          "text": [
            "Training LR Probe: 100%|██████████| 10/10 [00:50<00:00,  5.09s/it]\n"
          ]
        },
        {
          "output_type": "stream",
          "name": "stdout",
          "text": [
            "\n",
            "Epoch 10 (Final): Loss 0.0027352915164914307, Accuracy 0.9745042324066162\n",
            "\n",
            "Probe trained on layer 9:\n",
            "Test Set: Loss 0.05148264317722351, Accuracy 0.9659090638160706\n",
            "Saved state dictionary to /content/drive/MyDrive/aisc/probes/test_probe_exponential_decay_9_3.pt\n"
          ]
        },
        {
          "output_type": "stream",
          "name": "stderr",
          "text": [
            "Training LR Probe: 100%|██████████| 10/10 [00:51<00:00,  5.15s/it]\n"
          ]
        },
        {
          "output_type": "stream",
          "name": "stdout",
          "text": [
            "\n",
            "Epoch 10 (Final): Loss 0.0028497351036029777, Accuracy 0.977337121963501\n",
            "\n",
            "Probe trained on layer 9:\n",
            "Test Set: Loss 0.05141389380134404, Accuracy 0.9772727489471436\n",
            "Saved state dictionary to /content/drive/MyDrive/aisc/probes/test_probe_exponential_decay_9_4.pt\n"
          ]
        },
        {
          "output_type": "stream",
          "name": "stderr",
          "text": [
            "Training LR Probe: 100%|██████████| 10/10 [00:51<00:00,  5.15s/it]\n"
          ]
        },
        {
          "output_type": "stream",
          "name": "stdout",
          "text": [
            "\n",
            "Epoch 10 (Final): Loss 0.002421610993953163, Accuracy 0.9674220681190491\n",
            "\n",
            "Probe trained on layer 10:\n",
            "Test Set: Loss 0.04678846681748506, Accuracy 0.9659090638160706\n",
            "Saved state dictionary to /content/drive/MyDrive/aisc/probes/test_probe_exponential_decay_10_0.pt\n"
          ]
        },
        {
          "output_type": "stream",
          "name": "stderr",
          "text": [
            "Training LR Probe: 100%|██████████| 10/10 [00:52<00:00,  5.25s/it]\n"
          ]
        },
        {
          "output_type": "stream",
          "name": "stdout",
          "text": [
            "\n",
            "Epoch 10 (Final): Loss 0.002382419341034058, Accuracy 0.9759206771850586\n",
            "\n",
            "Probe trained on layer 10:\n",
            "Test Set: Loss 0.041667183378980226, Accuracy 0.9772727489471436\n",
            "Saved state dictionary to /content/drive/MyDrive/aisc/probes/test_probe_exponential_decay_10_1.pt\n"
          ]
        },
        {
          "output_type": "stream",
          "name": "stderr",
          "text": [
            "Training LR Probe: 100%|██████████| 10/10 [00:51<00:00,  5.13s/it]\n"
          ]
        },
        {
          "output_type": "stream",
          "name": "stdout",
          "text": [
            "\n",
            "Epoch 10 (Final): Loss 0.0025473721821729104, Accuracy 0.977337121963501\n",
            "\n",
            "Probe trained on layer 10:\n",
            "Test Set: Loss 0.04967082474071172, Accuracy 0.9659090638160706\n",
            "Saved state dictionary to /content/drive/MyDrive/aisc/probes/test_probe_exponential_decay_10_2.pt\n"
          ]
        },
        {
          "output_type": "stream",
          "name": "stderr",
          "text": [
            "Training LR Probe: 100%|██████████| 10/10 [00:52<00:00,  5.21s/it]\n"
          ]
        },
        {
          "output_type": "stream",
          "name": "stdout",
          "text": [
            "\n",
            "Epoch 10 (Final): Loss 0.002463150417422955, Accuracy 0.980169951915741\n",
            "\n",
            "Probe trained on layer 10:\n",
            "Test Set: Loss 0.07161026833967878, Accuracy 0.9659090638160706\n",
            "Saved state dictionary to /content/drive/MyDrive/aisc/probes/test_probe_exponential_decay_10_3.pt\n"
          ]
        },
        {
          "output_type": "stream",
          "name": "stderr",
          "text": [
            "Training LR Probe: 100%|██████████| 10/10 [00:52<00:00,  5.20s/it]\n"
          ]
        },
        {
          "output_type": "stream",
          "name": "stdout",
          "text": [
            "\n",
            "Epoch 10 (Final): Loss 0.00239552123456512, Accuracy 0.980169951915741\n",
            "\n",
            "Probe trained on layer 10:\n",
            "Test Set: Loss 0.04173274134890645, Accuracy 0.9772727489471436\n",
            "Saved state dictionary to /content/drive/MyDrive/aisc/probes/test_probe_exponential_decay_10_4.pt\n"
          ]
        },
        {
          "output_type": "stream",
          "name": "stderr",
          "text": [
            "Training LR Probe: 100%|██████████| 10/10 [00:51<00:00,  5.12s/it]\n"
          ]
        },
        {
          "output_type": "stream",
          "name": "stdout",
          "text": [
            "\n",
            "Epoch 10 (Final): Loss 0.002480609352019729, Accuracy 0.9716714024543762\n",
            "\n",
            "Probe trained on layer 11:\n",
            "Test Set: Loss 0.041787562823711516, Accuracy 0.9772727489471436\n",
            "Saved state dictionary to /content/drive/MyDrive/aisc/probes/test_probe_exponential_decay_11_0.pt\n"
          ]
        },
        {
          "output_type": "stream",
          "name": "stderr",
          "text": [
            "Training LR Probe: 100%|██████████| 10/10 [00:50<00:00,  5.08s/it]\n"
          ]
        },
        {
          "output_type": "stream",
          "name": "stdout",
          "text": [
            "\n",
            "Epoch 10 (Final): Loss 0.002472864266546976, Accuracy 0.9745042324066162\n",
            "\n",
            "Probe trained on layer 11:\n",
            "Test Set: Loss 0.043911927851943554, Accuracy 0.9772727489471436\n",
            "Saved state dictionary to /content/drive/MyDrive/aisc/probes/test_probe_exponential_decay_11_1.pt\n"
          ]
        },
        {
          "output_type": "stream",
          "name": "stderr",
          "text": [
            "Training LR Probe: 100%|██████████| 10/10 [00:50<00:00,  5.01s/it]\n"
          ]
        },
        {
          "output_type": "stream",
          "name": "stdout",
          "text": [
            "\n",
            "Epoch 10 (Final): Loss 0.002379631218480648, Accuracy 0.9674220681190491\n",
            "\n",
            "Probe trained on layer 11:\n",
            "Test Set: Loss 0.04161583914736349, Accuracy 0.9772727489471436\n",
            "Saved state dictionary to /content/drive/MyDrive/aisc/probes/test_probe_exponential_decay_11_2.pt\n"
          ]
        },
        {
          "output_type": "stream",
          "name": "stderr",
          "text": [
            "Training LR Probe: 100%|██████████| 10/10 [00:50<00:00,  5.10s/it]\n"
          ]
        },
        {
          "output_type": "stream",
          "name": "stdout",
          "text": [
            "\n",
            "Epoch 10 (Final): Loss 0.0024538039526290053, Accuracy 0.9730878472328186\n",
            "\n",
            "Probe trained on layer 11:\n",
            "Test Set: Loss 0.06142513553442603, Accuracy 0.9659090638160706\n",
            "Saved state dictionary to /content/drive/MyDrive/aisc/probes/test_probe_exponential_decay_11_3.pt\n"
          ]
        },
        {
          "output_type": "stream",
          "name": "stderr",
          "text": [
            "Training LR Probe: 100%|██████████| 10/10 [00:51<00:00,  5.13s/it]\n"
          ]
        },
        {
          "output_type": "stream",
          "name": "stdout",
          "text": [
            "\n",
            "Epoch 10 (Final): Loss 0.0023745299384879113, Accuracy 0.9759206771850586\n",
            "\n",
            "Probe trained on layer 11:\n",
            "Test Set: Loss 0.04315022447289349, Accuracy 0.9659090638160706\n",
            "Saved state dictionary to /content/drive/MyDrive/aisc/probes/test_probe_exponential_decay_11_4.pt\n"
          ]
        },
        {
          "output_type": "stream",
          "name": "stderr",
          "text": [
            "Training LR Probe: 100%|██████████| 10/10 [00:50<00:00,  5.05s/it]\n"
          ]
        },
        {
          "output_type": "stream",
          "name": "stdout",
          "text": [
            "\n",
            "Epoch 10 (Final): Loss 0.0023725247680883663, Accuracy 0.9702549576759338\n",
            "\n",
            "Probe trained on layer 12:\n",
            "Test Set: Loss 0.0406214234687716, Accuracy 0.9772727489471436\n",
            "Saved state dictionary to /content/drive/MyDrive/aisc/probes/test_probe_exponential_decay_12_0.pt\n"
          ]
        },
        {
          "output_type": "stream",
          "name": "stderr",
          "text": [
            "Training LR Probe: 100%|██████████| 10/10 [00:51<00:00,  5.14s/it]\n"
          ]
        },
        {
          "output_type": "stream",
          "name": "stdout",
          "text": [
            "\n",
            "Epoch 10 (Final): Loss 0.0025501868360419955, Accuracy 0.9745042324066162\n",
            "\n",
            "Probe trained on layer 12:\n",
            "Test Set: Loss 0.04515162865837655, Accuracy 0.9772727489471436\n",
            "Saved state dictionary to /content/drive/MyDrive/aisc/probes/test_probe_exponential_decay_12_1.pt\n"
          ]
        },
        {
          "output_type": "stream",
          "name": "stderr",
          "text": [
            "Training LR Probe: 100%|██████████| 10/10 [00:52<00:00,  5.24s/it]\n"
          ]
        },
        {
          "output_type": "stream",
          "name": "stdout",
          "text": [
            "\n",
            "Epoch 10 (Final): Loss 0.0023099889191561416, Accuracy 0.9745042324066162\n",
            "\n",
            "Probe trained on layer 12:\n",
            "Test Set: Loss 0.04797092381671642, Accuracy 0.9659090638160706\n",
            "Saved state dictionary to /content/drive/MyDrive/aisc/probes/test_probe_exponential_decay_12_2.pt\n"
          ]
        },
        {
          "output_type": "stream",
          "name": "stderr",
          "text": [
            "Training LR Probe: 100%|██████████| 10/10 [00:51<00:00,  5.15s/it]\n"
          ]
        },
        {
          "output_type": "stream",
          "name": "stdout",
          "text": [
            "\n",
            "Epoch 10 (Final): Loss 0.0027075594550964263, Accuracy 0.9688385128974915\n",
            "\n",
            "Probe trained on layer 12:\n",
            "Test Set: Loss 0.04843777879928397, Accuracy 0.9659090638160706\n",
            "Saved state dictionary to /content/drive/MyDrive/aisc/probes/test_probe_exponential_decay_12_3.pt\n"
          ]
        },
        {
          "output_type": "stream",
          "name": "stderr",
          "text": [
            "Training LR Probe: 100%|██████████| 10/10 [00:51<00:00,  5.11s/it]\n"
          ]
        },
        {
          "output_type": "stream",
          "name": "stdout",
          "text": [
            "\n",
            "Epoch 10 (Final): Loss 0.0035193160462533533, Accuracy 0.9745042324066162\n",
            "\n",
            "Probe trained on layer 12:\n",
            "Test Set: Loss 0.04507176726342137, Accuracy 0.9659090638160706\n",
            "Saved state dictionary to /content/drive/MyDrive/aisc/probes/test_probe_exponential_decay_12_4.pt\n"
          ]
        },
        {
          "output_type": "stream",
          "name": "stderr",
          "text": [
            "Training LR Probe: 100%|██████████| 10/10 [00:51<00:00,  5.13s/it]\n"
          ]
        },
        {
          "output_type": "stream",
          "name": "stdout",
          "text": [
            "\n",
            "Epoch 10 (Final): Loss 0.002693888867008777, Accuracy 0.9759206771850586\n",
            "\n",
            "Probe trained on layer 13:\n",
            "Test Set: Loss 0.04529148493780998, Accuracy 0.9659090638160706\n",
            "Saved state dictionary to /content/drive/MyDrive/aisc/probes/test_probe_exponential_decay_13_0.pt\n"
          ]
        },
        {
          "output_type": "stream",
          "name": "stderr",
          "text": [
            "Training LR Probe: 100%|██████████| 10/10 [00:51<00:00,  5.13s/it]\n"
          ]
        },
        {
          "output_type": "stream",
          "name": "stdout",
          "text": [
            "\n",
            "Epoch 10 (Final): Loss 0.002467486958076159, Accuracy 0.977337121963501\n",
            "\n",
            "Probe trained on layer 13:\n",
            "Test Set: Loss 0.044081135443940926, Accuracy 0.9659090638160706\n",
            "Saved state dictionary to /content/drive/MyDrive/aisc/probes/test_probe_exponential_decay_13_1.pt\n"
          ]
        },
        {
          "output_type": "stream",
          "name": "stderr",
          "text": [
            "Training LR Probe: 100%|██████████| 10/10 [00:52<00:00,  5.23s/it]\n"
          ]
        },
        {
          "output_type": "stream",
          "name": "stdout",
          "text": [
            "\n",
            "Epoch 10 (Final): Loss 0.0028017729299179895, Accuracy 0.9759206771850586\n",
            "\n",
            "Probe trained on layer 13:\n",
            "Test Set: Loss 0.05774320353024946, Accuracy 0.9659090638160706\n",
            "Saved state dictionary to /content/drive/MyDrive/aisc/probes/test_probe_exponential_decay_13_2.pt\n"
          ]
        },
        {
          "output_type": "stream",
          "name": "stderr",
          "text": [
            "Training LR Probe: 100%|██████████| 10/10 [00:50<00:00,  5.07s/it]\n"
          ]
        },
        {
          "output_type": "stream",
          "name": "stdout",
          "text": [
            "\n",
            "Epoch 10 (Final): Loss 0.0026792919783649844, Accuracy 0.9730878472328186\n",
            "\n",
            "Probe trained on layer 13:\n",
            "Test Set: Loss 0.05131314321095653, Accuracy 0.9659090638160706\n",
            "Saved state dictionary to /content/drive/MyDrive/aisc/probes/test_probe_exponential_decay_13_3.pt\n"
          ]
        },
        {
          "output_type": "stream",
          "name": "stderr",
          "text": [
            "Training LR Probe: 100%|██████████| 10/10 [00:51<00:00,  5.12s/it]\n"
          ]
        },
        {
          "output_type": "stream",
          "name": "stdout",
          "text": [
            "\n",
            "Epoch 10 (Final): Loss 0.0028091597779081453, Accuracy 0.9759206771850586\n",
            "\n",
            "Probe trained on layer 13:\n",
            "Test Set: Loss 0.043901449028370815, Accuracy 0.9772727489471436\n",
            "Saved state dictionary to /content/drive/MyDrive/aisc/probes/test_probe_exponential_decay_13_4.pt\n"
          ]
        },
        {
          "output_type": "stream",
          "name": "stderr",
          "text": [
            "Training LR Probe: 100%|██████████| 10/10 [00:52<00:00,  5.21s/it]\n"
          ]
        },
        {
          "output_type": "stream",
          "name": "stdout",
          "text": [
            "\n",
            "Epoch 10 (Final): Loss 0.004909230950196134, Accuracy 0.9730878472328186\n",
            "\n",
            "Probe trained on layer 14:\n",
            "Test Set: Loss 0.08116043237036634, Accuracy 0.9659090638160706\n",
            "Saved state dictionary to /content/drive/MyDrive/aisc/probes/test_probe_exponential_decay_14_0.pt\n"
          ]
        },
        {
          "output_type": "stream",
          "name": "stderr",
          "text": [
            "Training LR Probe: 100%|██████████| 10/10 [00:52<00:00,  5.23s/it]\n"
          ]
        },
        {
          "output_type": "stream",
          "name": "stdout",
          "text": [
            "\n",
            "Epoch 10 (Final): Loss 0.004657986965663626, Accuracy 0.9716714024543762\n",
            "\n",
            "Probe trained on layer 14:\n",
            "Test Set: Loss 0.07574267670199995, Accuracy 0.9659090638160706\n",
            "Saved state dictionary to /content/drive/MyDrive/aisc/probes/test_probe_exponential_decay_14_1.pt\n"
          ]
        },
        {
          "output_type": "stream",
          "name": "stderr",
          "text": [
            "Training LR Probe: 100%|██████████| 10/10 [00:52<00:00,  5.27s/it]\n"
          ]
        },
        {
          "output_type": "stream",
          "name": "stdout",
          "text": [
            "\n",
            "Epoch 10 (Final): Loss 0.004138256519473561, Accuracy 0.977337121963501\n",
            "\n",
            "Probe trained on layer 14:\n",
            "Test Set: Loss 0.07426228183778055, Accuracy 0.9659090638160706\n",
            "Saved state dictionary to /content/drive/MyDrive/aisc/probes/test_probe_exponential_decay_14_2.pt\n"
          ]
        },
        {
          "output_type": "stream",
          "name": "stderr",
          "text": [
            "Training LR Probe: 100%|██████████| 10/10 [00:50<00:00,  5.06s/it]\n"
          ]
        },
        {
          "output_type": "stream",
          "name": "stdout",
          "text": [
            "\n",
            "Epoch 10 (Final): Loss 0.004838444729844799, Accuracy 0.9688385128974915\n",
            "\n",
            "Probe trained on layer 14:\n",
            "Test Set: Loss 0.08114666908659274, Accuracy 0.9659090638160706\n",
            "Saved state dictionary to /content/drive/MyDrive/aisc/probes/test_probe_exponential_decay_14_3.pt\n"
          ]
        },
        {
          "output_type": "stream",
          "name": "stderr",
          "text": [
            "Training LR Probe: 100%|██████████| 10/10 [00:51<00:00,  5.17s/it]\n"
          ]
        },
        {
          "output_type": "stream",
          "name": "stdout",
          "text": [
            "\n",
            "Epoch 10 (Final): Loss 0.004174049784067923, Accuracy 0.9759206771850586\n",
            "\n",
            "Probe trained on layer 14:\n",
            "Test Set: Loss 0.0858411315235902, Accuracy 0.9659090638160706\n",
            "Saved state dictionary to /content/drive/MyDrive/aisc/probes/test_probe_exponential_decay_14_4.pt\n"
          ]
        },
        {
          "output_type": "stream",
          "name": "stderr",
          "text": [
            "Training LR Probe: 100%|██████████| 10/10 [00:51<00:00,  5.10s/it]\n"
          ]
        },
        {
          "output_type": "stream",
          "name": "stdout",
          "text": [
            "\n",
            "Epoch 10 (Final): Loss 0.0035002754685249994, Accuracy 0.9702549576759338\n",
            "\n",
            "Probe trained on layer 15:\n",
            "Test Set: Loss 0.055615454477839936, Accuracy 0.9659090638160706\n",
            "Saved state dictionary to /content/drive/MyDrive/aisc/probes/test_probe_exponential_decay_15_0.pt\n"
          ]
        },
        {
          "output_type": "stream",
          "name": "stderr",
          "text": [
            "Training LR Probe: 100%|██████████| 10/10 [00:51<00:00,  5.16s/it]\n"
          ]
        },
        {
          "output_type": "stream",
          "name": "stdout",
          "text": [
            "\n",
            "Epoch 10 (Final): Loss 0.0028258717585326683, Accuracy 0.980169951915741\n",
            "\n",
            "Probe trained on layer 15:\n",
            "Test Set: Loss 0.056908844424552546, Accuracy 0.9772727489471436\n",
            "Saved state dictionary to /content/drive/MyDrive/aisc/probes/test_probe_exponential_decay_15_1.pt\n"
          ]
        },
        {
          "output_type": "stream",
          "name": "stderr",
          "text": [
            "Training LR Probe: 100%|██████████| 10/10 [00:52<00:00,  5.26s/it]\n"
          ]
        },
        {
          "output_type": "stream",
          "name": "stdout",
          "text": [
            "\n",
            "Epoch 10 (Final): Loss 0.003604660315568382, Accuracy 0.9660056829452515\n",
            "\n",
            "Probe trained on layer 15:\n",
            "Test Set: Loss 0.04934662237800777, Accuracy 0.9659090638160706\n",
            "Saved state dictionary to /content/drive/MyDrive/aisc/probes/test_probe_exponential_decay_15_2.pt\n"
          ]
        },
        {
          "output_type": "stream",
          "name": "stderr",
          "text": [
            "Training LR Probe: 100%|██████████| 10/10 [00:52<00:00,  5.21s/it]\n"
          ]
        },
        {
          "output_type": "stream",
          "name": "stdout",
          "text": [
            "\n",
            "Epoch 10 (Final): Loss 0.0041420715190727455, Accuracy 0.9716714024543762\n",
            "\n",
            "Probe trained on layer 15:\n",
            "Test Set: Loss 0.04334380275245373, Accuracy 0.9772727489471436\n",
            "Saved state dictionary to /content/drive/MyDrive/aisc/probes/test_probe_exponential_decay_15_3.pt\n"
          ]
        },
        {
          "output_type": "stream",
          "name": "stderr",
          "text": [
            "Training LR Probe: 100%|██████████| 10/10 [00:51<00:00,  5.13s/it]\n"
          ]
        },
        {
          "output_type": "stream",
          "name": "stdout",
          "text": [
            "\n",
            "Epoch 10 (Final): Loss 0.0029069689208332966, Accuracy 0.9815863966941833\n",
            "\n",
            "Probe trained on layer 15:\n",
            "Test Set: Loss 0.05356773755121677, Accuracy 0.9772727489471436\n",
            "Saved state dictionary to /content/drive/MyDrive/aisc/probes/test_probe_exponential_decay_15_4.pt\n"
          ]
        }
      ]
    },
    {
      "cell_type": "code",
      "source": [
        "experiment_data"
      ],
      "metadata": {
        "colab": {
          "base_uri": "https://localhost:8080/",
          "height": 1000
        },
        "id": "Pa2lEdq9Oi8t",
        "outputId": "72dd22ff-88e2-4ae9-a41b-dad713da38b9"
      },
      "execution_count": 19,
      "outputs": [
        {
          "output_type": "execute_result",
          "data": {
            "text/plain": [
              "    layer  run  accuracy      loss\n",
              "0       4    0  0.943182  0.369936\n",
              "1       4    1  0.954545  0.150873\n",
              "2       4    2  0.943182  0.141414\n",
              "3       4    3  0.931818  0.247389\n",
              "4       4    4  0.943182  0.143443\n",
              "5       5    0  0.954545  0.221648\n",
              "6       5    1  0.931818  0.377919\n",
              "7       5    2  0.943182  0.181298\n",
              "8       5    3  0.943182  0.269574\n",
              "9       5    4  0.943182  0.211808\n",
              "10      6    0  0.943182  0.112625\n",
              "11      6    1  0.931818  0.128710\n",
              "12      6    2  0.931818  0.105832\n",
              "13      6    3  0.943182  0.125517\n",
              "14      6    4  0.943182  0.115829\n",
              "15      7    0  0.897727  0.258315\n",
              "16      7    1  0.920455  0.261653\n",
              "17      7    2  0.920455  0.258357\n",
              "18      7    3  0.886364  0.253639\n",
              "19      7    4  0.920455  0.262852\n",
              "20      8    0  0.943182  0.136806\n",
              "21      8    1  0.931818  0.140848\n",
              "22      8    2  0.931818  0.139579\n",
              "23      8    3  0.943182  0.136786\n",
              "24      8    4  0.943182  0.133434\n",
              "25      9    0  0.965909  0.050710\n",
              "26      9    1  0.965909  0.052607\n",
              "27      9    2  0.965909  0.049590\n",
              "28      9    3  0.965909  0.051483\n",
              "29      9    4  0.977273  0.051414\n",
              "30     10    0  0.965909  0.046788\n",
              "31     10    1  0.977273  0.041667\n",
              "32     10    2  0.965909  0.049671\n",
              "33     10    3  0.965909  0.071610\n",
              "34     10    4  0.977273  0.041733\n",
              "35     11    0  0.977273  0.041788\n",
              "36     11    1  0.977273  0.043912\n",
              "37     11    2  0.977273  0.041616\n",
              "38     11    3  0.965909  0.061425\n",
              "39     11    4  0.965909  0.043150\n",
              "40     12    0  0.977273  0.040621\n",
              "41     12    1  0.977273  0.045152\n",
              "42     12    2  0.965909  0.047971\n",
              "43     12    3  0.965909  0.048438\n",
              "44     12    4  0.965909  0.045072\n",
              "45     13    0  0.965909  0.045291\n",
              "46     13    1  0.965909  0.044081\n",
              "47     13    2  0.965909  0.057743\n",
              "48     13    3  0.965909  0.051313\n",
              "49     13    4  0.977273  0.043901\n",
              "50     14    0  0.965909  0.081160\n",
              "51     14    1  0.965909  0.075743\n",
              "52     14    2  0.965909  0.074262\n",
              "53     14    3  0.965909  0.081147\n",
              "54     14    4  0.965909  0.085841\n",
              "55     15    0  0.965909  0.055615\n",
              "56     15    1  0.977273  0.056909\n",
              "57     15    2  0.965909  0.049347\n",
              "58     15    3  0.977273  0.043344\n",
              "59     15    4  0.977273  0.053568"
            ],
            "text/html": [
              "\n",
              "  <div id=\"df-eec185a0-18fa-42be-a9fd-83d8e8c7352e\" class=\"colab-df-container\">\n",
              "    <div>\n",
              "<style scoped>\n",
              "    .dataframe tbody tr th:only-of-type {\n",
              "        vertical-align: middle;\n",
              "    }\n",
              "\n",
              "    .dataframe tbody tr th {\n",
              "        vertical-align: top;\n",
              "    }\n",
              "\n",
              "    .dataframe thead th {\n",
              "        text-align: right;\n",
              "    }\n",
              "</style>\n",
              "<table border=\"1\" class=\"dataframe\">\n",
              "  <thead>\n",
              "    <tr style=\"text-align: right;\">\n",
              "      <th></th>\n",
              "      <th>layer</th>\n",
              "      <th>run</th>\n",
              "      <th>accuracy</th>\n",
              "      <th>loss</th>\n",
              "    </tr>\n",
              "  </thead>\n",
              "  <tbody>\n",
              "    <tr>\n",
              "      <th>0</th>\n",
              "      <td>4</td>\n",
              "      <td>0</td>\n",
              "      <td>0.943182</td>\n",
              "      <td>0.369936</td>\n",
              "    </tr>\n",
              "    <tr>\n",
              "      <th>1</th>\n",
              "      <td>4</td>\n",
              "      <td>1</td>\n",
              "      <td>0.954545</td>\n",
              "      <td>0.150873</td>\n",
              "    </tr>\n",
              "    <tr>\n",
              "      <th>2</th>\n",
              "      <td>4</td>\n",
              "      <td>2</td>\n",
              "      <td>0.943182</td>\n",
              "      <td>0.141414</td>\n",
              "    </tr>\n",
              "    <tr>\n",
              "      <th>3</th>\n",
              "      <td>4</td>\n",
              "      <td>3</td>\n",
              "      <td>0.931818</td>\n",
              "      <td>0.247389</td>\n",
              "    </tr>\n",
              "    <tr>\n",
              "      <th>4</th>\n",
              "      <td>4</td>\n",
              "      <td>4</td>\n",
              "      <td>0.943182</td>\n",
              "      <td>0.143443</td>\n",
              "    </tr>\n",
              "    <tr>\n",
              "      <th>5</th>\n",
              "      <td>5</td>\n",
              "      <td>0</td>\n",
              "      <td>0.954545</td>\n",
              "      <td>0.221648</td>\n",
              "    </tr>\n",
              "    <tr>\n",
              "      <th>6</th>\n",
              "      <td>5</td>\n",
              "      <td>1</td>\n",
              "      <td>0.931818</td>\n",
              "      <td>0.377919</td>\n",
              "    </tr>\n",
              "    <tr>\n",
              "      <th>7</th>\n",
              "      <td>5</td>\n",
              "      <td>2</td>\n",
              "      <td>0.943182</td>\n",
              "      <td>0.181298</td>\n",
              "    </tr>\n",
              "    <tr>\n",
              "      <th>8</th>\n",
              "      <td>5</td>\n",
              "      <td>3</td>\n",
              "      <td>0.943182</td>\n",
              "      <td>0.269574</td>\n",
              "    </tr>\n",
              "    <tr>\n",
              "      <th>9</th>\n",
              "      <td>5</td>\n",
              "      <td>4</td>\n",
              "      <td>0.943182</td>\n",
              "      <td>0.211808</td>\n",
              "    </tr>\n",
              "    <tr>\n",
              "      <th>10</th>\n",
              "      <td>6</td>\n",
              "      <td>0</td>\n",
              "      <td>0.943182</td>\n",
              "      <td>0.112625</td>\n",
              "    </tr>\n",
              "    <tr>\n",
              "      <th>11</th>\n",
              "      <td>6</td>\n",
              "      <td>1</td>\n",
              "      <td>0.931818</td>\n",
              "      <td>0.128710</td>\n",
              "    </tr>\n",
              "    <tr>\n",
              "      <th>12</th>\n",
              "      <td>6</td>\n",
              "      <td>2</td>\n",
              "      <td>0.931818</td>\n",
              "      <td>0.105832</td>\n",
              "    </tr>\n",
              "    <tr>\n",
              "      <th>13</th>\n",
              "      <td>6</td>\n",
              "      <td>3</td>\n",
              "      <td>0.943182</td>\n",
              "      <td>0.125517</td>\n",
              "    </tr>\n",
              "    <tr>\n",
              "      <th>14</th>\n",
              "      <td>6</td>\n",
              "      <td>4</td>\n",
              "      <td>0.943182</td>\n",
              "      <td>0.115829</td>\n",
              "    </tr>\n",
              "    <tr>\n",
              "      <th>15</th>\n",
              "      <td>7</td>\n",
              "      <td>0</td>\n",
              "      <td>0.897727</td>\n",
              "      <td>0.258315</td>\n",
              "    </tr>\n",
              "    <tr>\n",
              "      <th>16</th>\n",
              "      <td>7</td>\n",
              "      <td>1</td>\n",
              "      <td>0.920455</td>\n",
              "      <td>0.261653</td>\n",
              "    </tr>\n",
              "    <tr>\n",
              "      <th>17</th>\n",
              "      <td>7</td>\n",
              "      <td>2</td>\n",
              "      <td>0.920455</td>\n",
              "      <td>0.258357</td>\n",
              "    </tr>\n",
              "    <tr>\n",
              "      <th>18</th>\n",
              "      <td>7</td>\n",
              "      <td>3</td>\n",
              "      <td>0.886364</td>\n",
              "      <td>0.253639</td>\n",
              "    </tr>\n",
              "    <tr>\n",
              "      <th>19</th>\n",
              "      <td>7</td>\n",
              "      <td>4</td>\n",
              "      <td>0.920455</td>\n",
              "      <td>0.262852</td>\n",
              "    </tr>\n",
              "    <tr>\n",
              "      <th>20</th>\n",
              "      <td>8</td>\n",
              "      <td>0</td>\n",
              "      <td>0.943182</td>\n",
              "      <td>0.136806</td>\n",
              "    </tr>\n",
              "    <tr>\n",
              "      <th>21</th>\n",
              "      <td>8</td>\n",
              "      <td>1</td>\n",
              "      <td>0.931818</td>\n",
              "      <td>0.140848</td>\n",
              "    </tr>\n",
              "    <tr>\n",
              "      <th>22</th>\n",
              "      <td>8</td>\n",
              "      <td>2</td>\n",
              "      <td>0.931818</td>\n",
              "      <td>0.139579</td>\n",
              "    </tr>\n",
              "    <tr>\n",
              "      <th>23</th>\n",
              "      <td>8</td>\n",
              "      <td>3</td>\n",
              "      <td>0.943182</td>\n",
              "      <td>0.136786</td>\n",
              "    </tr>\n",
              "    <tr>\n",
              "      <th>24</th>\n",
              "      <td>8</td>\n",
              "      <td>4</td>\n",
              "      <td>0.943182</td>\n",
              "      <td>0.133434</td>\n",
              "    </tr>\n",
              "    <tr>\n",
              "      <th>25</th>\n",
              "      <td>9</td>\n",
              "      <td>0</td>\n",
              "      <td>0.965909</td>\n",
              "      <td>0.050710</td>\n",
              "    </tr>\n",
              "    <tr>\n",
              "      <th>26</th>\n",
              "      <td>9</td>\n",
              "      <td>1</td>\n",
              "      <td>0.965909</td>\n",
              "      <td>0.052607</td>\n",
              "    </tr>\n",
              "    <tr>\n",
              "      <th>27</th>\n",
              "      <td>9</td>\n",
              "      <td>2</td>\n",
              "      <td>0.965909</td>\n",
              "      <td>0.049590</td>\n",
              "    </tr>\n",
              "    <tr>\n",
              "      <th>28</th>\n",
              "      <td>9</td>\n",
              "      <td>3</td>\n",
              "      <td>0.965909</td>\n",
              "      <td>0.051483</td>\n",
              "    </tr>\n",
              "    <tr>\n",
              "      <th>29</th>\n",
              "      <td>9</td>\n",
              "      <td>4</td>\n",
              "      <td>0.977273</td>\n",
              "      <td>0.051414</td>\n",
              "    </tr>\n",
              "    <tr>\n",
              "      <th>30</th>\n",
              "      <td>10</td>\n",
              "      <td>0</td>\n",
              "      <td>0.965909</td>\n",
              "      <td>0.046788</td>\n",
              "    </tr>\n",
              "    <tr>\n",
              "      <th>31</th>\n",
              "      <td>10</td>\n",
              "      <td>1</td>\n",
              "      <td>0.977273</td>\n",
              "      <td>0.041667</td>\n",
              "    </tr>\n",
              "    <tr>\n",
              "      <th>32</th>\n",
              "      <td>10</td>\n",
              "      <td>2</td>\n",
              "      <td>0.965909</td>\n",
              "      <td>0.049671</td>\n",
              "    </tr>\n",
              "    <tr>\n",
              "      <th>33</th>\n",
              "      <td>10</td>\n",
              "      <td>3</td>\n",
              "      <td>0.965909</td>\n",
              "      <td>0.071610</td>\n",
              "    </tr>\n",
              "    <tr>\n",
              "      <th>34</th>\n",
              "      <td>10</td>\n",
              "      <td>4</td>\n",
              "      <td>0.977273</td>\n",
              "      <td>0.041733</td>\n",
              "    </tr>\n",
              "    <tr>\n",
              "      <th>35</th>\n",
              "      <td>11</td>\n",
              "      <td>0</td>\n",
              "      <td>0.977273</td>\n",
              "      <td>0.041788</td>\n",
              "    </tr>\n",
              "    <tr>\n",
              "      <th>36</th>\n",
              "      <td>11</td>\n",
              "      <td>1</td>\n",
              "      <td>0.977273</td>\n",
              "      <td>0.043912</td>\n",
              "    </tr>\n",
              "    <tr>\n",
              "      <th>37</th>\n",
              "      <td>11</td>\n",
              "      <td>2</td>\n",
              "      <td>0.977273</td>\n",
              "      <td>0.041616</td>\n",
              "    </tr>\n",
              "    <tr>\n",
              "      <th>38</th>\n",
              "      <td>11</td>\n",
              "      <td>3</td>\n",
              "      <td>0.965909</td>\n",
              "      <td>0.061425</td>\n",
              "    </tr>\n",
              "    <tr>\n",
              "      <th>39</th>\n",
              "      <td>11</td>\n",
              "      <td>4</td>\n",
              "      <td>0.965909</td>\n",
              "      <td>0.043150</td>\n",
              "    </tr>\n",
              "    <tr>\n",
              "      <th>40</th>\n",
              "      <td>12</td>\n",
              "      <td>0</td>\n",
              "      <td>0.977273</td>\n",
              "      <td>0.040621</td>\n",
              "    </tr>\n",
              "    <tr>\n",
              "      <th>41</th>\n",
              "      <td>12</td>\n",
              "      <td>1</td>\n",
              "      <td>0.977273</td>\n",
              "      <td>0.045152</td>\n",
              "    </tr>\n",
              "    <tr>\n",
              "      <th>42</th>\n",
              "      <td>12</td>\n",
              "      <td>2</td>\n",
              "      <td>0.965909</td>\n",
              "      <td>0.047971</td>\n",
              "    </tr>\n",
              "    <tr>\n",
              "      <th>43</th>\n",
              "      <td>12</td>\n",
              "      <td>3</td>\n",
              "      <td>0.965909</td>\n",
              "      <td>0.048438</td>\n",
              "    </tr>\n",
              "    <tr>\n",
              "      <th>44</th>\n",
              "      <td>12</td>\n",
              "      <td>4</td>\n",
              "      <td>0.965909</td>\n",
              "      <td>0.045072</td>\n",
              "    </tr>\n",
              "    <tr>\n",
              "      <th>45</th>\n",
              "      <td>13</td>\n",
              "      <td>0</td>\n",
              "      <td>0.965909</td>\n",
              "      <td>0.045291</td>\n",
              "    </tr>\n",
              "    <tr>\n",
              "      <th>46</th>\n",
              "      <td>13</td>\n",
              "      <td>1</td>\n",
              "      <td>0.965909</td>\n",
              "      <td>0.044081</td>\n",
              "    </tr>\n",
              "    <tr>\n",
              "      <th>47</th>\n",
              "      <td>13</td>\n",
              "      <td>2</td>\n",
              "      <td>0.965909</td>\n",
              "      <td>0.057743</td>\n",
              "    </tr>\n",
              "    <tr>\n",
              "      <th>48</th>\n",
              "      <td>13</td>\n",
              "      <td>3</td>\n",
              "      <td>0.965909</td>\n",
              "      <td>0.051313</td>\n",
              "    </tr>\n",
              "    <tr>\n",
              "      <th>49</th>\n",
              "      <td>13</td>\n",
              "      <td>4</td>\n",
              "      <td>0.977273</td>\n",
              "      <td>0.043901</td>\n",
              "    </tr>\n",
              "    <tr>\n",
              "      <th>50</th>\n",
              "      <td>14</td>\n",
              "      <td>0</td>\n",
              "      <td>0.965909</td>\n",
              "      <td>0.081160</td>\n",
              "    </tr>\n",
              "    <tr>\n",
              "      <th>51</th>\n",
              "      <td>14</td>\n",
              "      <td>1</td>\n",
              "      <td>0.965909</td>\n",
              "      <td>0.075743</td>\n",
              "    </tr>\n",
              "    <tr>\n",
              "      <th>52</th>\n",
              "      <td>14</td>\n",
              "      <td>2</td>\n",
              "      <td>0.965909</td>\n",
              "      <td>0.074262</td>\n",
              "    </tr>\n",
              "    <tr>\n",
              "      <th>53</th>\n",
              "      <td>14</td>\n",
              "      <td>3</td>\n",
              "      <td>0.965909</td>\n",
              "      <td>0.081147</td>\n",
              "    </tr>\n",
              "    <tr>\n",
              "      <th>54</th>\n",
              "      <td>14</td>\n",
              "      <td>4</td>\n",
              "      <td>0.965909</td>\n",
              "      <td>0.085841</td>\n",
              "    </tr>\n",
              "    <tr>\n",
              "      <th>55</th>\n",
              "      <td>15</td>\n",
              "      <td>0</td>\n",
              "      <td>0.965909</td>\n",
              "      <td>0.055615</td>\n",
              "    </tr>\n",
              "    <tr>\n",
              "      <th>56</th>\n",
              "      <td>15</td>\n",
              "      <td>1</td>\n",
              "      <td>0.977273</td>\n",
              "      <td>0.056909</td>\n",
              "    </tr>\n",
              "    <tr>\n",
              "      <th>57</th>\n",
              "      <td>15</td>\n",
              "      <td>2</td>\n",
              "      <td>0.965909</td>\n",
              "      <td>0.049347</td>\n",
              "    </tr>\n",
              "    <tr>\n",
              "      <th>58</th>\n",
              "      <td>15</td>\n",
              "      <td>3</td>\n",
              "      <td>0.977273</td>\n",
              "      <td>0.043344</td>\n",
              "    </tr>\n",
              "    <tr>\n",
              "      <th>59</th>\n",
              "      <td>15</td>\n",
              "      <td>4</td>\n",
              "      <td>0.977273</td>\n",
              "      <td>0.053568</td>\n",
              "    </tr>\n",
              "  </tbody>\n",
              "</table>\n",
              "</div>\n",
              "    <div class=\"colab-df-buttons\">\n",
              "\n",
              "  <div class=\"colab-df-container\">\n",
              "    <button class=\"colab-df-convert\" onclick=\"convertToInteractive('df-eec185a0-18fa-42be-a9fd-83d8e8c7352e')\"\n",
              "            title=\"Convert this dataframe to an interactive table.\"\n",
              "            style=\"display:none;\">\n",
              "\n",
              "  <svg xmlns=\"http://www.w3.org/2000/svg\" height=\"24px\" viewBox=\"0 -960 960 960\">\n",
              "    <path d=\"M120-120v-720h720v720H120Zm60-500h600v-160H180v160Zm220 220h160v-160H400v160Zm0 220h160v-160H400v160ZM180-400h160v-160H180v160Zm440 0h160v-160H620v160ZM180-180h160v-160H180v160Zm440 0h160v-160H620v160Z\"/>\n",
              "  </svg>\n",
              "    </button>\n",
              "\n",
              "  <style>\n",
              "    .colab-df-container {\n",
              "      display:flex;\n",
              "      gap: 12px;\n",
              "    }\n",
              "\n",
              "    .colab-df-convert {\n",
              "      background-color: #E8F0FE;\n",
              "      border: none;\n",
              "      border-radius: 50%;\n",
              "      cursor: pointer;\n",
              "      display: none;\n",
              "      fill: #1967D2;\n",
              "      height: 32px;\n",
              "      padding: 0 0 0 0;\n",
              "      width: 32px;\n",
              "    }\n",
              "\n",
              "    .colab-df-convert:hover {\n",
              "      background-color: #E2EBFA;\n",
              "      box-shadow: 0px 1px 2px rgba(60, 64, 67, 0.3), 0px 1px 3px 1px rgba(60, 64, 67, 0.15);\n",
              "      fill: #174EA6;\n",
              "    }\n",
              "\n",
              "    .colab-df-buttons div {\n",
              "      margin-bottom: 4px;\n",
              "    }\n",
              "\n",
              "    [theme=dark] .colab-df-convert {\n",
              "      background-color: #3B4455;\n",
              "      fill: #D2E3FC;\n",
              "    }\n",
              "\n",
              "    [theme=dark] .colab-df-convert:hover {\n",
              "      background-color: #434B5C;\n",
              "      box-shadow: 0px 1px 3px 1px rgba(0, 0, 0, 0.15);\n",
              "      filter: drop-shadow(0px 1px 2px rgba(0, 0, 0, 0.3));\n",
              "      fill: #FFFFFF;\n",
              "    }\n",
              "  </style>\n",
              "\n",
              "    <script>\n",
              "      const buttonEl =\n",
              "        document.querySelector('#df-eec185a0-18fa-42be-a9fd-83d8e8c7352e button.colab-df-convert');\n",
              "      buttonEl.style.display =\n",
              "        google.colab.kernel.accessAllowed ? 'block' : 'none';\n",
              "\n",
              "      async function convertToInteractive(key) {\n",
              "        const element = document.querySelector('#df-eec185a0-18fa-42be-a9fd-83d8e8c7352e');\n",
              "        const dataTable =\n",
              "          await google.colab.kernel.invokeFunction('convertToInteractive',\n",
              "                                                    [key], {});\n",
              "        if (!dataTable) return;\n",
              "\n",
              "        const docLinkHtml = 'Like what you see? Visit the ' +\n",
              "          '<a target=\"_blank\" href=https://colab.research.google.com/notebooks/data_table.ipynb>data table notebook</a>'\n",
              "          + ' to learn more about interactive tables.';\n",
              "        element.innerHTML = '';\n",
              "        dataTable['output_type'] = 'display_data';\n",
              "        await google.colab.output.renderOutput(dataTable, element);\n",
              "        const docLink = document.createElement('div');\n",
              "        docLink.innerHTML = docLinkHtml;\n",
              "        element.appendChild(docLink);\n",
              "      }\n",
              "    </script>\n",
              "  </div>\n",
              "\n",
              "\n",
              "<div id=\"df-57cc50b0-8d25-4b59-a8ca-98ea85aafa87\">\n",
              "  <button class=\"colab-df-quickchart\" onclick=\"quickchart('df-57cc50b0-8d25-4b59-a8ca-98ea85aafa87')\"\n",
              "            title=\"Suggest charts\"\n",
              "            style=\"display:none;\">\n",
              "\n",
              "<svg xmlns=\"http://www.w3.org/2000/svg\" height=\"24px\"viewBox=\"0 0 24 24\"\n",
              "     width=\"24px\">\n",
              "    <g>\n",
              "        <path d=\"M19 3H5c-1.1 0-2 .9-2 2v14c0 1.1.9 2 2 2h14c1.1 0 2-.9 2-2V5c0-1.1-.9-2-2-2zM9 17H7v-7h2v7zm4 0h-2V7h2v10zm4 0h-2v-4h2v4z\"/>\n",
              "    </g>\n",
              "</svg>\n",
              "  </button>\n",
              "\n",
              "<style>\n",
              "  .colab-df-quickchart {\n",
              "      --bg-color: #E8F0FE;\n",
              "      --fill-color: #1967D2;\n",
              "      --hover-bg-color: #E2EBFA;\n",
              "      --hover-fill-color: #174EA6;\n",
              "      --disabled-fill-color: #AAA;\n",
              "      --disabled-bg-color: #DDD;\n",
              "  }\n",
              "\n",
              "  [theme=dark] .colab-df-quickchart {\n",
              "      --bg-color: #3B4455;\n",
              "      --fill-color: #D2E3FC;\n",
              "      --hover-bg-color: #434B5C;\n",
              "      --hover-fill-color: #FFFFFF;\n",
              "      --disabled-bg-color: #3B4455;\n",
              "      --disabled-fill-color: #666;\n",
              "  }\n",
              "\n",
              "  .colab-df-quickchart {\n",
              "    background-color: var(--bg-color);\n",
              "    border: none;\n",
              "    border-radius: 50%;\n",
              "    cursor: pointer;\n",
              "    display: none;\n",
              "    fill: var(--fill-color);\n",
              "    height: 32px;\n",
              "    padding: 0;\n",
              "    width: 32px;\n",
              "  }\n",
              "\n",
              "  .colab-df-quickchart:hover {\n",
              "    background-color: var(--hover-bg-color);\n",
              "    box-shadow: 0 1px 2px rgba(60, 64, 67, 0.3), 0 1px 3px 1px rgba(60, 64, 67, 0.15);\n",
              "    fill: var(--button-hover-fill-color);\n",
              "  }\n",
              "\n",
              "  .colab-df-quickchart-complete:disabled,\n",
              "  .colab-df-quickchart-complete:disabled:hover {\n",
              "    background-color: var(--disabled-bg-color);\n",
              "    fill: var(--disabled-fill-color);\n",
              "    box-shadow: none;\n",
              "  }\n",
              "\n",
              "  .colab-df-spinner {\n",
              "    border: 2px solid var(--fill-color);\n",
              "    border-color: transparent;\n",
              "    border-bottom-color: var(--fill-color);\n",
              "    animation:\n",
              "      spin 1s steps(1) infinite;\n",
              "  }\n",
              "\n",
              "  @keyframes spin {\n",
              "    0% {\n",
              "      border-color: transparent;\n",
              "      border-bottom-color: var(--fill-color);\n",
              "      border-left-color: var(--fill-color);\n",
              "    }\n",
              "    20% {\n",
              "      border-color: transparent;\n",
              "      border-left-color: var(--fill-color);\n",
              "      border-top-color: var(--fill-color);\n",
              "    }\n",
              "    30% {\n",
              "      border-color: transparent;\n",
              "      border-left-color: var(--fill-color);\n",
              "      border-top-color: var(--fill-color);\n",
              "      border-right-color: var(--fill-color);\n",
              "    }\n",
              "    40% {\n",
              "      border-color: transparent;\n",
              "      border-right-color: var(--fill-color);\n",
              "      border-top-color: var(--fill-color);\n",
              "    }\n",
              "    60% {\n",
              "      border-color: transparent;\n",
              "      border-right-color: var(--fill-color);\n",
              "    }\n",
              "    80% {\n",
              "      border-color: transparent;\n",
              "      border-right-color: var(--fill-color);\n",
              "      border-bottom-color: var(--fill-color);\n",
              "    }\n",
              "    90% {\n",
              "      border-color: transparent;\n",
              "      border-bottom-color: var(--fill-color);\n",
              "    }\n",
              "  }\n",
              "</style>\n",
              "\n",
              "  <script>\n",
              "    async function quickchart(key) {\n",
              "      const quickchartButtonEl =\n",
              "        document.querySelector('#' + key + ' button');\n",
              "      quickchartButtonEl.disabled = true;  // To prevent multiple clicks.\n",
              "      quickchartButtonEl.classList.add('colab-df-spinner');\n",
              "      try {\n",
              "        const charts = await google.colab.kernel.invokeFunction(\n",
              "            'suggestCharts', [key], {});\n",
              "      } catch (error) {\n",
              "        console.error('Error during call to suggestCharts:', error);\n",
              "      }\n",
              "      quickchartButtonEl.classList.remove('colab-df-spinner');\n",
              "      quickchartButtonEl.classList.add('colab-df-quickchart-complete');\n",
              "    }\n",
              "    (() => {\n",
              "      let quickchartButtonEl =\n",
              "        document.querySelector('#df-57cc50b0-8d25-4b59-a8ca-98ea85aafa87 button');\n",
              "      quickchartButtonEl.style.display =\n",
              "        google.colab.kernel.accessAllowed ? 'block' : 'none';\n",
              "    })();\n",
              "  </script>\n",
              "</div>\n",
              "\n",
              "  <div id=\"id_ea9095ca-0d64-4bd2-8181-c352e34220d4\">\n",
              "    <style>\n",
              "      .colab-df-generate {\n",
              "        background-color: #E8F0FE;\n",
              "        border: none;\n",
              "        border-radius: 50%;\n",
              "        cursor: pointer;\n",
              "        display: none;\n",
              "        fill: #1967D2;\n",
              "        height: 32px;\n",
              "        padding: 0 0 0 0;\n",
              "        width: 32px;\n",
              "      }\n",
              "\n",
              "      .colab-df-generate:hover {\n",
              "        background-color: #E2EBFA;\n",
              "        box-shadow: 0px 1px 2px rgba(60, 64, 67, 0.3), 0px 1px 3px 1px rgba(60, 64, 67, 0.15);\n",
              "        fill: #174EA6;\n",
              "      }\n",
              "\n",
              "      [theme=dark] .colab-df-generate {\n",
              "        background-color: #3B4455;\n",
              "        fill: #D2E3FC;\n",
              "      }\n",
              "\n",
              "      [theme=dark] .colab-df-generate:hover {\n",
              "        background-color: #434B5C;\n",
              "        box-shadow: 0px 1px 3px 1px rgba(0, 0, 0, 0.15);\n",
              "        filter: drop-shadow(0px 1px 2px rgba(0, 0, 0, 0.3));\n",
              "        fill: #FFFFFF;\n",
              "      }\n",
              "    </style>\n",
              "    <button class=\"colab-df-generate\" onclick=\"generateWithVariable('experiment_data')\"\n",
              "            title=\"Generate code using this dataframe.\"\n",
              "            style=\"display:none;\">\n",
              "\n",
              "  <svg xmlns=\"http://www.w3.org/2000/svg\" height=\"24px\"viewBox=\"0 0 24 24\"\n",
              "       width=\"24px\">\n",
              "    <path d=\"M7,19H8.4L18.45,9,17,7.55,7,17.6ZM5,21V16.75L18.45,3.32a2,2,0,0,1,2.83,0l1.4,1.43a1.91,1.91,0,0,1,.58,1.4,1.91,1.91,0,0,1-.58,1.4L9.25,21ZM18.45,9,17,7.55Zm-12,3A5.31,5.31,0,0,0,4.9,8.1,5.31,5.31,0,0,0,1,6.5,5.31,5.31,0,0,0,4.9,4.9,5.31,5.31,0,0,0,6.5,1,5.31,5.31,0,0,0,8.1,4.9,5.31,5.31,0,0,0,12,6.5,5.46,5.46,0,0,0,6.5,12Z\"/>\n",
              "  </svg>\n",
              "    </button>\n",
              "    <script>\n",
              "      (() => {\n",
              "      const buttonEl =\n",
              "        document.querySelector('#id_ea9095ca-0d64-4bd2-8181-c352e34220d4 button.colab-df-generate');\n",
              "      buttonEl.style.display =\n",
              "        google.colab.kernel.accessAllowed ? 'block' : 'none';\n",
              "\n",
              "      buttonEl.onclick = () => {\n",
              "        google.colab.notebook.generateWithVariable('experiment_data');\n",
              "      }\n",
              "      })();\n",
              "    </script>\n",
              "  </div>\n",
              "\n",
              "    </div>\n",
              "  </div>\n"
            ],
            "application/vnd.google.colaboratory.intrinsic+json": {
              "type": "dataframe",
              "variable_name": "experiment_data",
              "summary": "{\n  \"name\": \"experiment_data\",\n  \"rows\": 60,\n  \"fields\": [\n    {\n      \"column\": \"layer\",\n      \"properties\": {\n        \"dtype\": \"number\",\n        \"std\": 3,\n        \"min\": 4,\n        \"max\": 15,\n        \"num_unique_values\": 12,\n        \"samples\": [\n          14,\n          13,\n          4\n        ],\n        \"semantic_type\": \"\",\n        \"description\": \"\"\n      }\n    },\n    {\n      \"column\": \"run\",\n      \"properties\": {\n        \"dtype\": \"number\",\n        \"std\": 1,\n        \"min\": 0,\n        \"max\": 4,\n        \"num_unique_values\": 5,\n        \"samples\": [\n          1,\n          4,\n          2\n        ],\n        \"semantic_type\": \"\",\n        \"description\": \"\"\n      }\n    },\n    {\n      \"column\": \"accuracy\",\n      \"properties\": {\n        \"dtype\": \"number\",\n        \"std\": 0.020651020425868,\n        \"min\": 0.8863636255264282,\n        \"max\": 0.9772727489471436,\n        \"num_unique_values\": 8,\n        \"samples\": [\n          0.9545454382896423,\n          0.8863636255264282,\n          0.9431818127632141\n        ],\n        \"semantic_type\": \"\",\n        \"description\": \"\"\n      }\n    },\n    {\n      \"column\": \"loss\",\n      \"properties\": {\n        \"dtype\": \"number\",\n        \"std\": 0.08718420191982039,\n        \"min\": 0.0406214234687716,\n        \"max\": 0.37791902577737346,\n        \"num_unique_values\": 60,\n        \"samples\": [\n          0.36993601157833905,\n          0.22164790628031286,\n          0.043911927851943554\n        ],\n        \"semantic_type\": \"\",\n        \"description\": \"\"\n      }\n    }\n  ]\n}"
            }
          },
          "metadata": {},
          "execution_count": 19
        }
      ]
    },
    {
      "cell_type": "code",
      "source": [
        "experiment_summary = experiment_data.groupby(\"layer\").agg(\n",
        "    accuracy_mean=(\"accuracy\", \"mean\"),\n",
        "    accuracy_std=(\"accuracy\", \"std\"),\n",
        "    loss_mean=(\"loss\", \"mean\"),\n",
        "    loss_std=(\"loss\", \"std\")\n",
        ").reset_index()"
      ],
      "metadata": {
        "id": "CkQTWQfs2BKV"
      },
      "execution_count": 20,
      "outputs": []
    },
    {
      "cell_type": "code",
      "source": [
        "experiment_summary"
      ],
      "metadata": {
        "colab": {
          "base_uri": "https://localhost:8080/",
          "height": 426
        },
        "id": "AMHDx-A22IG1",
        "outputId": "2bd72fdd-d2c0-4a88-a7a5-b74fbf3432fc"
      },
      "execution_count": 21,
      "outputs": [
        {
          "output_type": "execute_result",
          "data": {
            "text/plain": [
              "    layer  accuracy_mean  accuracy_std  loss_mean  loss_std\n",
              "0       4       0.943182      0.008035   0.210611  0.099506\n",
              "1       5       0.943182      0.008035   0.252449  0.076972\n",
              "2       6       0.938636      0.006224   0.117702  0.009387\n",
              "3       7       0.909091      0.016071   0.258963  0.003588\n",
              "4       8       0.938636      0.006224   0.137491  0.002875\n",
              "5       9       0.968182      0.005082   0.051161  0.001110\n",
              "6      10       0.970455      0.006224   0.050294  0.012397\n",
              "7      11       0.972727      0.006224   0.046378  0.008466\n",
              "8      12       0.970455      0.006224   0.045451  0.003116\n",
              "9      13       0.968182      0.005082   0.048466  0.006007\n",
              "10     14       0.965909      0.000000   0.079631  0.004668\n",
              "11     15       0.972727      0.006224   0.051756  0.005507"
            ],
            "text/html": [
              "\n",
              "  <div id=\"df-4735837c-a7e1-4334-94c2-a59db2bbe544\" class=\"colab-df-container\">\n",
              "    <div>\n",
              "<style scoped>\n",
              "    .dataframe tbody tr th:only-of-type {\n",
              "        vertical-align: middle;\n",
              "    }\n",
              "\n",
              "    .dataframe tbody tr th {\n",
              "        vertical-align: top;\n",
              "    }\n",
              "\n",
              "    .dataframe thead th {\n",
              "        text-align: right;\n",
              "    }\n",
              "</style>\n",
              "<table border=\"1\" class=\"dataframe\">\n",
              "  <thead>\n",
              "    <tr style=\"text-align: right;\">\n",
              "      <th></th>\n",
              "      <th>layer</th>\n",
              "      <th>accuracy_mean</th>\n",
              "      <th>accuracy_std</th>\n",
              "      <th>loss_mean</th>\n",
              "      <th>loss_std</th>\n",
              "    </tr>\n",
              "  </thead>\n",
              "  <tbody>\n",
              "    <tr>\n",
              "      <th>0</th>\n",
              "      <td>4</td>\n",
              "      <td>0.943182</td>\n",
              "      <td>0.008035</td>\n",
              "      <td>0.210611</td>\n",
              "      <td>0.099506</td>\n",
              "    </tr>\n",
              "    <tr>\n",
              "      <th>1</th>\n",
              "      <td>5</td>\n",
              "      <td>0.943182</td>\n",
              "      <td>0.008035</td>\n",
              "      <td>0.252449</td>\n",
              "      <td>0.076972</td>\n",
              "    </tr>\n",
              "    <tr>\n",
              "      <th>2</th>\n",
              "      <td>6</td>\n",
              "      <td>0.938636</td>\n",
              "      <td>0.006224</td>\n",
              "      <td>0.117702</td>\n",
              "      <td>0.009387</td>\n",
              "    </tr>\n",
              "    <tr>\n",
              "      <th>3</th>\n",
              "      <td>7</td>\n",
              "      <td>0.909091</td>\n",
              "      <td>0.016071</td>\n",
              "      <td>0.258963</td>\n",
              "      <td>0.003588</td>\n",
              "    </tr>\n",
              "    <tr>\n",
              "      <th>4</th>\n",
              "      <td>8</td>\n",
              "      <td>0.938636</td>\n",
              "      <td>0.006224</td>\n",
              "      <td>0.137491</td>\n",
              "      <td>0.002875</td>\n",
              "    </tr>\n",
              "    <tr>\n",
              "      <th>5</th>\n",
              "      <td>9</td>\n",
              "      <td>0.968182</td>\n",
              "      <td>0.005082</td>\n",
              "      <td>0.051161</td>\n",
              "      <td>0.001110</td>\n",
              "    </tr>\n",
              "    <tr>\n",
              "      <th>6</th>\n",
              "      <td>10</td>\n",
              "      <td>0.970455</td>\n",
              "      <td>0.006224</td>\n",
              "      <td>0.050294</td>\n",
              "      <td>0.012397</td>\n",
              "    </tr>\n",
              "    <tr>\n",
              "      <th>7</th>\n",
              "      <td>11</td>\n",
              "      <td>0.972727</td>\n",
              "      <td>0.006224</td>\n",
              "      <td>0.046378</td>\n",
              "      <td>0.008466</td>\n",
              "    </tr>\n",
              "    <tr>\n",
              "      <th>8</th>\n",
              "      <td>12</td>\n",
              "      <td>0.970455</td>\n",
              "      <td>0.006224</td>\n",
              "      <td>0.045451</td>\n",
              "      <td>0.003116</td>\n",
              "    </tr>\n",
              "    <tr>\n",
              "      <th>9</th>\n",
              "      <td>13</td>\n",
              "      <td>0.968182</td>\n",
              "      <td>0.005082</td>\n",
              "      <td>0.048466</td>\n",
              "      <td>0.006007</td>\n",
              "    </tr>\n",
              "    <tr>\n",
              "      <th>10</th>\n",
              "      <td>14</td>\n",
              "      <td>0.965909</td>\n",
              "      <td>0.000000</td>\n",
              "      <td>0.079631</td>\n",
              "      <td>0.004668</td>\n",
              "    </tr>\n",
              "    <tr>\n",
              "      <th>11</th>\n",
              "      <td>15</td>\n",
              "      <td>0.972727</td>\n",
              "      <td>0.006224</td>\n",
              "      <td>0.051756</td>\n",
              "      <td>0.005507</td>\n",
              "    </tr>\n",
              "  </tbody>\n",
              "</table>\n",
              "</div>\n",
              "    <div class=\"colab-df-buttons\">\n",
              "\n",
              "  <div class=\"colab-df-container\">\n",
              "    <button class=\"colab-df-convert\" onclick=\"convertToInteractive('df-4735837c-a7e1-4334-94c2-a59db2bbe544')\"\n",
              "            title=\"Convert this dataframe to an interactive table.\"\n",
              "            style=\"display:none;\">\n",
              "\n",
              "  <svg xmlns=\"http://www.w3.org/2000/svg\" height=\"24px\" viewBox=\"0 -960 960 960\">\n",
              "    <path d=\"M120-120v-720h720v720H120Zm60-500h600v-160H180v160Zm220 220h160v-160H400v160Zm0 220h160v-160H400v160ZM180-400h160v-160H180v160Zm440 0h160v-160H620v160ZM180-180h160v-160H180v160Zm440 0h160v-160H620v160Z\"/>\n",
              "  </svg>\n",
              "    </button>\n",
              "\n",
              "  <style>\n",
              "    .colab-df-container {\n",
              "      display:flex;\n",
              "      gap: 12px;\n",
              "    }\n",
              "\n",
              "    .colab-df-convert {\n",
              "      background-color: #E8F0FE;\n",
              "      border: none;\n",
              "      border-radius: 50%;\n",
              "      cursor: pointer;\n",
              "      display: none;\n",
              "      fill: #1967D2;\n",
              "      height: 32px;\n",
              "      padding: 0 0 0 0;\n",
              "      width: 32px;\n",
              "    }\n",
              "\n",
              "    .colab-df-convert:hover {\n",
              "      background-color: #E2EBFA;\n",
              "      box-shadow: 0px 1px 2px rgba(60, 64, 67, 0.3), 0px 1px 3px 1px rgba(60, 64, 67, 0.15);\n",
              "      fill: #174EA6;\n",
              "    }\n",
              "\n",
              "    .colab-df-buttons div {\n",
              "      margin-bottom: 4px;\n",
              "    }\n",
              "\n",
              "    [theme=dark] .colab-df-convert {\n",
              "      background-color: #3B4455;\n",
              "      fill: #D2E3FC;\n",
              "    }\n",
              "\n",
              "    [theme=dark] .colab-df-convert:hover {\n",
              "      background-color: #434B5C;\n",
              "      box-shadow: 0px 1px 3px 1px rgba(0, 0, 0, 0.15);\n",
              "      filter: drop-shadow(0px 1px 2px rgba(0, 0, 0, 0.3));\n",
              "      fill: #FFFFFF;\n",
              "    }\n",
              "  </style>\n",
              "\n",
              "    <script>\n",
              "      const buttonEl =\n",
              "        document.querySelector('#df-4735837c-a7e1-4334-94c2-a59db2bbe544 button.colab-df-convert');\n",
              "      buttonEl.style.display =\n",
              "        google.colab.kernel.accessAllowed ? 'block' : 'none';\n",
              "\n",
              "      async function convertToInteractive(key) {\n",
              "        const element = document.querySelector('#df-4735837c-a7e1-4334-94c2-a59db2bbe544');\n",
              "        const dataTable =\n",
              "          await google.colab.kernel.invokeFunction('convertToInteractive',\n",
              "                                                    [key], {});\n",
              "        if (!dataTable) return;\n",
              "\n",
              "        const docLinkHtml = 'Like what you see? Visit the ' +\n",
              "          '<a target=\"_blank\" href=https://colab.research.google.com/notebooks/data_table.ipynb>data table notebook</a>'\n",
              "          + ' to learn more about interactive tables.';\n",
              "        element.innerHTML = '';\n",
              "        dataTable['output_type'] = 'display_data';\n",
              "        await google.colab.output.renderOutput(dataTable, element);\n",
              "        const docLink = document.createElement('div');\n",
              "        docLink.innerHTML = docLinkHtml;\n",
              "        element.appendChild(docLink);\n",
              "      }\n",
              "    </script>\n",
              "  </div>\n",
              "\n",
              "\n",
              "<div id=\"df-0e2f12cd-b400-49d5-b05c-29786d74ca57\">\n",
              "  <button class=\"colab-df-quickchart\" onclick=\"quickchart('df-0e2f12cd-b400-49d5-b05c-29786d74ca57')\"\n",
              "            title=\"Suggest charts\"\n",
              "            style=\"display:none;\">\n",
              "\n",
              "<svg xmlns=\"http://www.w3.org/2000/svg\" height=\"24px\"viewBox=\"0 0 24 24\"\n",
              "     width=\"24px\">\n",
              "    <g>\n",
              "        <path d=\"M19 3H5c-1.1 0-2 .9-2 2v14c0 1.1.9 2 2 2h14c1.1 0 2-.9 2-2V5c0-1.1-.9-2-2-2zM9 17H7v-7h2v7zm4 0h-2V7h2v10zm4 0h-2v-4h2v4z\"/>\n",
              "    </g>\n",
              "</svg>\n",
              "  </button>\n",
              "\n",
              "<style>\n",
              "  .colab-df-quickchart {\n",
              "      --bg-color: #E8F0FE;\n",
              "      --fill-color: #1967D2;\n",
              "      --hover-bg-color: #E2EBFA;\n",
              "      --hover-fill-color: #174EA6;\n",
              "      --disabled-fill-color: #AAA;\n",
              "      --disabled-bg-color: #DDD;\n",
              "  }\n",
              "\n",
              "  [theme=dark] .colab-df-quickchart {\n",
              "      --bg-color: #3B4455;\n",
              "      --fill-color: #D2E3FC;\n",
              "      --hover-bg-color: #434B5C;\n",
              "      --hover-fill-color: #FFFFFF;\n",
              "      --disabled-bg-color: #3B4455;\n",
              "      --disabled-fill-color: #666;\n",
              "  }\n",
              "\n",
              "  .colab-df-quickchart {\n",
              "    background-color: var(--bg-color);\n",
              "    border: none;\n",
              "    border-radius: 50%;\n",
              "    cursor: pointer;\n",
              "    display: none;\n",
              "    fill: var(--fill-color);\n",
              "    height: 32px;\n",
              "    padding: 0;\n",
              "    width: 32px;\n",
              "  }\n",
              "\n",
              "  .colab-df-quickchart:hover {\n",
              "    background-color: var(--hover-bg-color);\n",
              "    box-shadow: 0 1px 2px rgba(60, 64, 67, 0.3), 0 1px 3px 1px rgba(60, 64, 67, 0.15);\n",
              "    fill: var(--button-hover-fill-color);\n",
              "  }\n",
              "\n",
              "  .colab-df-quickchart-complete:disabled,\n",
              "  .colab-df-quickchart-complete:disabled:hover {\n",
              "    background-color: var(--disabled-bg-color);\n",
              "    fill: var(--disabled-fill-color);\n",
              "    box-shadow: none;\n",
              "  }\n",
              "\n",
              "  .colab-df-spinner {\n",
              "    border: 2px solid var(--fill-color);\n",
              "    border-color: transparent;\n",
              "    border-bottom-color: var(--fill-color);\n",
              "    animation:\n",
              "      spin 1s steps(1) infinite;\n",
              "  }\n",
              "\n",
              "  @keyframes spin {\n",
              "    0% {\n",
              "      border-color: transparent;\n",
              "      border-bottom-color: var(--fill-color);\n",
              "      border-left-color: var(--fill-color);\n",
              "    }\n",
              "    20% {\n",
              "      border-color: transparent;\n",
              "      border-left-color: var(--fill-color);\n",
              "      border-top-color: var(--fill-color);\n",
              "    }\n",
              "    30% {\n",
              "      border-color: transparent;\n",
              "      border-left-color: var(--fill-color);\n",
              "      border-top-color: var(--fill-color);\n",
              "      border-right-color: var(--fill-color);\n",
              "    }\n",
              "    40% {\n",
              "      border-color: transparent;\n",
              "      border-right-color: var(--fill-color);\n",
              "      border-top-color: var(--fill-color);\n",
              "    }\n",
              "    60% {\n",
              "      border-color: transparent;\n",
              "      border-right-color: var(--fill-color);\n",
              "    }\n",
              "    80% {\n",
              "      border-color: transparent;\n",
              "      border-right-color: var(--fill-color);\n",
              "      border-bottom-color: var(--fill-color);\n",
              "    }\n",
              "    90% {\n",
              "      border-color: transparent;\n",
              "      border-bottom-color: var(--fill-color);\n",
              "    }\n",
              "  }\n",
              "</style>\n",
              "\n",
              "  <script>\n",
              "    async function quickchart(key) {\n",
              "      const quickchartButtonEl =\n",
              "        document.querySelector('#' + key + ' button');\n",
              "      quickchartButtonEl.disabled = true;  // To prevent multiple clicks.\n",
              "      quickchartButtonEl.classList.add('colab-df-spinner');\n",
              "      try {\n",
              "        const charts = await google.colab.kernel.invokeFunction(\n",
              "            'suggestCharts', [key], {});\n",
              "      } catch (error) {\n",
              "        console.error('Error during call to suggestCharts:', error);\n",
              "      }\n",
              "      quickchartButtonEl.classList.remove('colab-df-spinner');\n",
              "      quickchartButtonEl.classList.add('colab-df-quickchart-complete');\n",
              "    }\n",
              "    (() => {\n",
              "      let quickchartButtonEl =\n",
              "        document.querySelector('#df-0e2f12cd-b400-49d5-b05c-29786d74ca57 button');\n",
              "      quickchartButtonEl.style.display =\n",
              "        google.colab.kernel.accessAllowed ? 'block' : 'none';\n",
              "    })();\n",
              "  </script>\n",
              "</div>\n",
              "\n",
              "  <div id=\"id_cf43e572-d54c-4bca-8585-363c71edd654\">\n",
              "    <style>\n",
              "      .colab-df-generate {\n",
              "        background-color: #E8F0FE;\n",
              "        border: none;\n",
              "        border-radius: 50%;\n",
              "        cursor: pointer;\n",
              "        display: none;\n",
              "        fill: #1967D2;\n",
              "        height: 32px;\n",
              "        padding: 0 0 0 0;\n",
              "        width: 32px;\n",
              "      }\n",
              "\n",
              "      .colab-df-generate:hover {\n",
              "        background-color: #E2EBFA;\n",
              "        box-shadow: 0px 1px 2px rgba(60, 64, 67, 0.3), 0px 1px 3px 1px rgba(60, 64, 67, 0.15);\n",
              "        fill: #174EA6;\n",
              "      }\n",
              "\n",
              "      [theme=dark] .colab-df-generate {\n",
              "        background-color: #3B4455;\n",
              "        fill: #D2E3FC;\n",
              "      }\n",
              "\n",
              "      [theme=dark] .colab-df-generate:hover {\n",
              "        background-color: #434B5C;\n",
              "        box-shadow: 0px 1px 3px 1px rgba(0, 0, 0, 0.15);\n",
              "        filter: drop-shadow(0px 1px 2px rgba(0, 0, 0, 0.3));\n",
              "        fill: #FFFFFF;\n",
              "      }\n",
              "    </style>\n",
              "    <button class=\"colab-df-generate\" onclick=\"generateWithVariable('experiment_summary')\"\n",
              "            title=\"Generate code using this dataframe.\"\n",
              "            style=\"display:none;\">\n",
              "\n",
              "  <svg xmlns=\"http://www.w3.org/2000/svg\" height=\"24px\"viewBox=\"0 0 24 24\"\n",
              "       width=\"24px\">\n",
              "    <path d=\"M7,19H8.4L18.45,9,17,7.55,7,17.6ZM5,21V16.75L18.45,3.32a2,2,0,0,1,2.83,0l1.4,1.43a1.91,1.91,0,0,1,.58,1.4,1.91,1.91,0,0,1-.58,1.4L9.25,21ZM18.45,9,17,7.55Zm-12,3A5.31,5.31,0,0,0,4.9,8.1,5.31,5.31,0,0,0,1,6.5,5.31,5.31,0,0,0,4.9,4.9,5.31,5.31,0,0,0,6.5,1,5.31,5.31,0,0,0,8.1,4.9,5.31,5.31,0,0,0,12,6.5,5.46,5.46,0,0,0,6.5,12Z\"/>\n",
              "  </svg>\n",
              "    </button>\n",
              "    <script>\n",
              "      (() => {\n",
              "      const buttonEl =\n",
              "        document.querySelector('#id_cf43e572-d54c-4bca-8585-363c71edd654 button.colab-df-generate');\n",
              "      buttonEl.style.display =\n",
              "        google.colab.kernel.accessAllowed ? 'block' : 'none';\n",
              "\n",
              "      buttonEl.onclick = () => {\n",
              "        google.colab.notebook.generateWithVariable('experiment_summary');\n",
              "      }\n",
              "      })();\n",
              "    </script>\n",
              "  </div>\n",
              "\n",
              "    </div>\n",
              "  </div>\n"
            ],
            "application/vnd.google.colaboratory.intrinsic+json": {
              "type": "dataframe",
              "variable_name": "experiment_summary",
              "summary": "{\n  \"name\": \"experiment_summary\",\n  \"rows\": 12,\n  \"fields\": [\n    {\n      \"column\": \"layer\",\n      \"properties\": {\n        \"dtype\": \"number\",\n        \"std\": 3,\n        \"min\": 4,\n        \"max\": 15,\n        \"num_unique_values\": 12,\n        \"samples\": [\n          14,\n          13,\n          4\n        ],\n        \"semantic_type\": \"\",\n        \"description\": \"\"\n      }\n    },\n    {\n      \"column\": \"accuracy_mean\",\n      \"properties\": {\n        \"dtype\": \"number\",\n        \"std\": 0.020214961160321208,\n        \"min\": 0.9090909123420715,\n        \"max\": 0.9727272748947143,\n        \"num_unique_values\": 7,\n        \"samples\": [\n          0.9431818127632141,\n          0.9386363625526428,\n          0.9727272748947143\n        ],\n        \"semantic_type\": \"\",\n        \"description\": \"\"\n      }\n    },\n    {\n      \"column\": \"accuracy_std\",\n      \"properties\": {\n        \"dtype\": \"number\",\n        \"std\": 0.0036031846792018095,\n        \"min\": 0.0,\n        \"max\": 0.01607062494734235,\n        \"num_unique_values\": 8,\n        \"samples\": [\n          0.0062241140358662555,\n          0.006224146682674728,\n          0.008035296668601947\n        ],\n        \"semantic_type\": \"\",\n        \"description\": \"\"\n      }\n    },\n    {\n      \"column\": \"loss_mean\",\n      \"properties\": {\n        \"dtype\": \"number\",\n        \"std\": 0.08349465914825555,\n        \"min\": 0.04545070440131398,\n        \"max\": 0.2589631364088167,\n        \"num_unique_values\": 12,\n        \"samples\": [\n          0.07963063830406596,\n          0.04846608323026554,\n          0.21061099891520474\n        ],\n        \"semantic_type\": \"\",\n        \"description\": \"\"\n      }\n    },\n    {\n      \"column\": \"loss_std\",\n      \"properties\": {\n        \"dtype\": \"number\",\n        \"std\": 0.032630884707846794,\n        \"min\": 0.0011103218503182302,\n        \"max\": 0.09950555792081509,\n        \"num_unique_values\": 12,\n        \"samples\": [\n          0.004667556689984098,\n          0.006006505606390206,\n          0.09950555792081509\n        ],\n        \"semantic_type\": \"\",\n        \"description\": \"\"\n      }\n    }\n  ]\n}"
            }
          },
          "metadata": {},
          "execution_count": 21
        }
      ]
    },
    {
      "cell_type": "code",
      "source": [
        "fig, ax = plt.subplots(figsize=(8,4))\n",
        "ax.errorbar(layers, experiment_summary['accuracy_mean'], yerr=experiment_summary['accuracy_std'], marker='x')\n",
        "ax.set(title='Probe test accuracy over layers', xlabel='(Decoder) layer index', ylabel='Mean accuracy on test set')\n",
        "plt.show()"
      ],
      "metadata": {
        "colab": {
          "base_uri": "https://localhost:8080/",
          "height": 419
        },
        "id": "I-48OtQO3DK0",
        "outputId": "6962b379-e0fa-4e88-d6d8-66fc6f52957e"
      },
      "execution_count": 22,
      "outputs": [
        {
          "output_type": "display_data",
          "data": {
            "text/plain": [
              "<Figure size 800x400 with 1 Axes>"
            ],
            "image/png": "[encoded data removed]"
          },
          "metadata": {}
        }
      ]
    },
    {
      "cell_type": "code",
      "source": [
        "fig, ax = plt.subplots(figsize=(8,4))\n",
        "ax.errorbar(layers, experiment_summary['loss_mean'], yerr=experiment_summary['loss_std'], marker='x')\n",
        "ax.set(title='Probe test loss over layers', xlabel='(Decoder) layer index', ylabel='Mean loss on test set')\n",
        "plt.show()"
      ],
      "metadata": {
        "colab": {
          "base_uri": "https://localhost:8080/",
          "height": 419
        },
        "id": "eWbkK1R14hwi",
        "outputId": "ff2b71fc-d14a-419f-c4f4-b1f833227ee0"
      },
      "execution_count": 23,
      "outputs": [
        {
          "output_type": "display_data",
          "data": {
            "text/plain": [
              "<Figure size 800x400 with 1 Axes>"
            ],
            "image/png": "[encoded data removed]"
          },
          "metadata": {}
        }
      ]
    }
  ]
}