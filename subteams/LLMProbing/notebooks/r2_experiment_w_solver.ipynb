{
  "nbformat": 4,
  "nbformat_minor": 0,
  "metadata": {
    "colab": {
      "provenance": [],
      "collapsed_sections": [
        "LL-QXMoCphLr",
        "pzIssqp64UNe"
      ],
      "authorship_tag": "ABX9TyOrsyTP+dFfdgbb2eD9tf9T"
    },
    "kernelspec": {
      "name": "python3",
      "display_name": "Python 3"
    },
    "language_info": {
      "name": "python"
    }
  },
  "cells": [
    {
      "cell_type": "markdown",
      "source": [
        "# Setup"
      ],
      "metadata": {
        "id": "LL-QXMoCphLr"
      }
    },
    {
      "cell_type": "code",
      "execution_count": null,
      "metadata": {
        "colab": {
          "base_uri": "https://localhost:8080/"
        },
        "id": "knpG48-hio-V",
        "outputId": "c27554bf-048a-4ef6-8a64-a2ca79599ca6"
      },
      "outputs": [
        {
          "output_type": "stream",
          "name": "stdout",
          "text": [
            "Requirement already satisfied: numpy==1.23.5 in /usr/local/lib/python3.11/dist-packages (1.23.5)\n",
            "Requirement already satisfied: torch==2.0.0 in /usr/local/lib/python3.11/dist-packages (2.0.0)\n",
            "Requirement already satisfied: filelock in /usr/local/lib/python3.11/dist-packages (from torch==2.0.0) (3.18.0)\n",
            "Requirement already satisfied: typing-extensions in /usr/local/lib/python3.11/dist-packages (from torch==2.0.0) (4.13.1)\n",
            "Requirement already satisfied: sympy in /usr/local/lib/python3.11/dist-packages (from torch==2.0.0) (1.13.1)\n",
            "Requirement already satisfied: networkx in /usr/local/lib/python3.11/dist-packages (from torch==2.0.0) (3.4.2)\n",
            "Requirement already satisfied: jinja2 in /usr/local/lib/python3.11/dist-packages (from torch==2.0.0) (3.1.6)\n",
            "Requirement already satisfied: nvidia-cuda-nvrtc-cu11==11.7.99 in /usr/local/lib/python3.11/dist-packages (from torch==2.0.0) (11.7.99)\n",
            "Requirement already satisfied: nvidia-cuda-runtime-cu11==11.7.99 in /usr/local/lib/python3.11/dist-packages (from torch==2.0.0) (11.7.99)\n",
            "Requirement already satisfied: nvidia-cuda-cupti-cu11==11.7.101 in /usr/local/lib/python3.11/dist-packages (from torch==2.0.0) (11.7.101)\n",
            "Requirement already satisfied: nvidia-cudnn-cu11==8.5.0.96 in /usr/local/lib/python3.11/dist-packages (from torch==2.0.0) (8.5.0.96)\n",
            "Requirement already satisfied: nvidia-cublas-cu11==11.10.3.66 in /usr/local/lib/python3.11/dist-packages (from torch==2.0.0) (11.10.3.66)\n",
            "Requirement already satisfied: nvidia-cufft-cu11==10.9.0.58 in /usr/local/lib/python3.11/dist-packages (from torch==2.0.0) (10.9.0.58)\n",
            "Requirement already satisfied: nvidia-curand-cu11==10.2.10.91 in /usr/local/lib/python3.11/dist-packages (from torch==2.0.0) (10.2.10.91)\n",
            "Requirement already satisfied: nvidia-cusolver-cu11==11.4.0.1 in /usr/local/lib/python3.11/dist-packages (from torch==2.0.0) (11.4.0.1)\n",
            "Requirement already satisfied: nvidia-cusparse-cu11==11.7.4.91 in /usr/local/lib/python3.11/dist-packages (from torch==2.0.0) (11.7.4.91)\n",
            "Requirement already satisfied: nvidia-nccl-cu11==2.14.3 in /usr/local/lib/python3.11/dist-packages (from torch==2.0.0) (2.14.3)\n",
            "Requirement already satisfied: nvidia-nvtx-cu11==11.7.91 in /usr/local/lib/python3.11/dist-packages (from torch==2.0.0) (11.7.91)\n",
            "Requirement already satisfied: triton==2.0.0 in /usr/local/lib/python3.11/dist-packages (from torch==2.0.0) (2.0.0)\n",
            "Requirement already satisfied: setuptools in /usr/local/lib/python3.11/dist-packages (from nvidia-cublas-cu11==11.10.3.66->torch==2.0.0) (75.2.0)\n",
            "Requirement already satisfied: wheel in /usr/local/lib/python3.11/dist-packages (from nvidia-cublas-cu11==11.10.3.66->torch==2.0.0) (0.45.1)\n",
            "Requirement already satisfied: cmake in /usr/local/lib/python3.11/dist-packages (from triton==2.0.0->torch==2.0.0) (3.31.6)\n",
            "Requirement already satisfied: lit in /usr/local/lib/python3.11/dist-packages (from triton==2.0.0->torch==2.0.0) (18.1.8)\n",
            "Requirement already satisfied: MarkupSafe>=2.0 in /usr/local/lib/python3.11/dist-packages (from jinja2->torch==2.0.0) (3.0.2)\n",
            "Requirement already satisfied: mpmath<1.4,>=1.1.0 in /usr/local/lib/python3.11/dist-packages (from sympy->torch==2.0.0) (1.3.0)\n"
          ]
        }
      ],
      "source": [
        "%pip install numpy==1.23.5\n",
        "%pip install torch==2.0.0"
      ]
    },
    {
      "cell_type": "code",
      "source": [
        "# give colab permission to access drive\n",
        "from google.colab import drive\n",
        "drive.mount('/content/drive', force_remount=True)"
      ],
      "metadata": {
        "colab": {
          "base_uri": "https://localhost:8080/"
        },
        "id": "MjdlWBY1jxAq",
        "outputId": "cefbafa5-508a-4d60-ae1b-f87e9ac96202"
      },
      "execution_count": null,
      "outputs": [
        {
          "output_type": "stream",
          "name": "stdout",
          "text": [
            "Mounted at /content/drive\n"
          ]
        }
      ]
    },
    {
      "cell_type": "code",
      "source": [
        "# Update these as required\n",
        "repo_path = '/content/drive/MyDrive/github/subteams/LLMProbing'\n",
        "odeformer_path = '/content/drive/MyDrive/aisc' # This is because I cloned the odeformer repo into my aisc folder\n",
        "\n",
        "samples_path = '/content/drive/MyDrive/github/subteams/LLMProbing/probing_data/samples/r2_expt'\n",
        "activations_path = '/content/drive/MyDrive/github/subteams/LLMProbing/probing_data/activations/r2_expt'\n",
        "probes_path = '/content/drive/MyDrive/github/subteams/LLMProbing/probing_data/probes/r2_expt'"
      ],
      "metadata": {
        "id": "MoUMGO08jy2M"
      },
      "execution_count": null,
      "outputs": []
    },
    {
      "cell_type": "code",
      "source": [
        "import sys\n",
        "import importlib\n",
        "sys.path.append(repo_path)\n",
        "sys.path.append(odeformer_path)"
      ],
      "metadata": {
        "id": "7h7AmGISj5yh"
      },
      "execution_count": null,
      "outputs": []
    },
    {
      "cell_type": "code",
      "source": [
        "import numpy as np\n",
        "import os\n",
        "import pickle\n",
        "import matplotlib.pyplot as plt"
      ],
      "metadata": {
        "id": "S_1VbtVvj8va"
      },
      "execution_count": null,
      "outputs": []
    },
    {
      "cell_type": "code",
      "source": [
        "from odeformer.model import SymbolicTransformerRegressor\n",
        "dstr = SymbolicTransformerRegressor(from_pretrained=True)\n",
        "model_args = {'beam_size': 10, 'beam_temperature': 0.8}\n",
        "dstr.set_model_args(model_args)"
      ],
      "metadata": {
        "colab": {
          "base_uri": "https://localhost:8080/"
        },
        "id": "XtTA0xX4j-bo",
        "outputId": "f5d50fd4-14e9-4501-89b1-c88cd9cc9d92"
      },
      "execution_count": null,
      "outputs": [
        {
          "output_type": "stream",
          "name": "stdout",
          "text": [
            "Found pretrained model at odeformer.pt\n",
            "Loaded pretrained model\n"
          ]
        }
      ]
    },
    {
      "cell_type": "code",
      "source": [
        "%load_ext autoreload\n",
        "%autoreload 2"
      ],
      "metadata": {
        "id": "-pFhjnm4j-9g"
      },
      "execution_count": null,
      "outputs": []
    },
    {
      "cell_type": "markdown",
      "source": [
        "# Train probe with solver"
      ],
      "metadata": {
        "id": "pzIssqp64UNe"
      }
    },
    {
      "cell_type": "code",
      "source": [
        "from src.probes import LRProbe\n",
        "from src.probes.utils import load_probe_from_path, eval_regression_probe, train_regression_probe_w_solver\n",
        "from src.datasets.utils import split_dataset, get_d_in\n",
        "from src.datasets import ActivationsDataset\n",
        "from torch.utils.data import DataLoader\n",
        "from experiments.utils import plot_scalar_predictions"
      ],
      "metadata": {
        "id": "X6m1XdQa4tNN"
      },
      "execution_count": null,
      "outputs": []
    },
    {
      "cell_type": "code",
      "source": [
        "L7_r2_probes_path = f'{probes_path}/L7_probes_w_solver'"
      ],
      "metadata": {
        "id": "J2FT4D7D4W9-"
      },
      "execution_count": null,
      "outputs": []
    },
    {
      "cell_type": "code",
      "source": [
        "full_dataset = ActivationsDataset(activations_path=activations_path,\n",
        "                                  feature_label='r2_score',\n",
        "                                  layer_idx=7,\n",
        "                                  r2_threshold=0)"
      ],
      "metadata": {
        "id": "aLIyMTkX4_zX"
      },
      "execution_count": null,
      "outputs": []
    },
    {
      "cell_type": "code",
      "source": [
        "train_dataset, val_dataset, test_dataset = split_dataset(full_dataset, lengths=[0.8, 0.1, 0.1])\n",
        "val_dataloader = DataLoader(val_dataset)\n",
        "test_dataloader = DataLoader(test_dataset)\n",
        "\n",
        "d_in = get_d_in(train_dataset)"
      ],
      "metadata": {
        "id": "xTtvqZ5M5W_N"
      },
      "execution_count": null,
      "outputs": []
    },
    {
      "cell_type": "code",
      "source": [
        "solver_probe = LRProbe(d_in)"
      ],
      "metadata": {
        "id": "QnpIubt44Yu4"
      },
      "execution_count": null,
      "outputs": []
    },
    {
      "cell_type": "code",
      "source": [
        "solver_probe.hidden.weight.shape"
      ],
      "metadata": {
        "colab": {
          "base_uri": "https://localhost:8080/"
        },
        "id": "n0ojJoUVCNP4",
        "outputId": "5bf5512a-ef37-4ec2-c10c-c922c694c4ac"
      },
      "execution_count": null,
      "outputs": [
        {
          "output_type": "execute_result",
          "data": {
            "text/plain": [
              "torch.Size([1, 512])"
            ]
          },
          "metadata": {},
          "execution_count": 13
        }
      ]
    },
    {
      "cell_type": "code",
      "source": [
        "# acts, labels, ids = [], [], []\n",
        "# for i in range(len(train_dataset)):\n",
        "#     act, label, id = train_dataset[i]\n",
        "#     acts.append(act.numpy())\n",
        "#     labels.append(label.item())\n",
        "#     ids.append(id)\n",
        "\n",
        "# acts = np.array(acts)  # Convert to numpy arrays if needed\n",
        "# labels = np.array(labels)"
      ],
      "metadata": {
        "id": "Zjv_tAk2Csdr"
      },
      "execution_count": null,
      "outputs": []
    },
    {
      "cell_type": "code",
      "source": [
        "# from sklearn.linear_model import Ridge\n",
        "\n",
        "# sklearn_probe = Ridge(alpha=0.01, fit_intercept=False)\n",
        "# sklearn_probe.fit(acts, labels)\n",
        "\n",
        "# coeffs = sklearn_probe.coef_"
      ],
      "metadata": {
        "id": "8tuFM5QjCwX2"
      },
      "execution_count": null,
      "outputs": []
    },
    {
      "cell_type": "code",
      "source": [
        "# with torch.no_grad():\n",
        "#     solver_probe.hidden.weight.copy_(torch.tensor(coeffs).unsqueeze(0))"
      ],
      "metadata": {
        "id": "o8MACgXwDOxt"
      },
      "execution_count": null,
      "outputs": []
    },
    {
      "cell_type": "code",
      "source": [
        "solver_probe, losses, val_losses = train_regression_probe_w_solver(solver_probe,\n",
        "                               train_dataset,\n",
        "                               val_dataset)"
      ],
      "metadata": {
        "id": "n1Qw1nF85QDW"
      },
      "execution_count": null,
      "outputs": []
    },
    {
      "cell_type": "code",
      "source": [
        "losses"
      ],
      "metadata": {
        "colab": {
          "base_uri": "https://localhost:8080/"
        },
        "id": "EYDhpwgF7agF",
        "outputId": "c2323960-0059-4d2c-b7b8-564238effa4b"
      },
      "execution_count": null,
      "outputs": [
        {
          "output_type": "execute_result",
          "data": {
            "text/plain": [
              "[(1.5289708178521189,\n",
              "  -125.24316373521789,\n",
              "  0.2641976063283701,\n",
              "  0.11622228226446296)]"
            ]
          },
          "metadata": {},
          "execution_count": 18
        }
      ]
    },
    {
      "cell_type": "code",
      "source": [
        "val_losses"
      ],
      "metadata": {
        "colab": {
          "base_uri": "https://localhost:8080/"
        },
        "id": "rhl44L7W7bnk",
        "outputId": "b033e9ee-253b-4e8f-bf66-439798b7b1f0"
      },
      "execution_count": null,
      "outputs": [
        {
          "output_type": "execute_result",
          "data": {
            "text/plain": [
              "[(1.5305389755964278,\n",
              "  -96.36081850238332,\n",
              "  0.1348790896159317,\n",
              "  0.22358117499243235)]"
            ]
          },
          "metadata": {},
          "execution_count": 19
        }
      ]
    },
    {
      "cell_type": "code",
      "source": [
        "eval_regression_probe(solver_probe, test_dataloader)"
      ],
      "metadata": {
        "colab": {
          "base_uri": "https://localhost:8080/"
        },
        "id": "yepB0O_i5loN",
        "outputId": "96802e5b-aaec-45ce-91e1-a5487c5a21b2"
      },
      "execution_count": null,
      "outputs": [
        {
          "output_type": "execute_result",
          "data": {
            "text/plain": [
              "(0.04223852059685972,\n",
              " 0.14436272815008677,\n",
              " 0.745524505883052,\n",
              " 0.41048744844374596)"
            ]
          },
          "metadata": {},
          "execution_count": 20
        }
      ]
    },
    {
      "cell_type": "code",
      "source": [
        "fig, ax = plt.subplots()\n",
        "\n",
        "plot_scalar_predictions(solver_probe, test_dataloader, ax, 'tab:blue', 'r2_score', 'R^2 Score')"
      ],
      "metadata": {
        "colab": {
          "base_uri": "https://localhost:8080/",
          "height": 497
        },
        "id": "cI2xHmdz5oWt",
        "outputId": "1642355b-b484-4809-deb7-ed6e9f3715b2"
      },
      "execution_count": null,
      "outputs": [
        {
          "output_type": "execute_result",
          "data": {
            "text/plain": [
              "0.745524505883052"
            ]
          },
          "metadata": {},
          "execution_count": 22
        },
        {
          "output_type": "display_data",
          "data": {
            "text/plain": [
              "<Figure size 640x480 with 1 Axes>"
            ],
            "image/png": "[encoded data removed]"
          },
          "metadata": {}
        }
      ]
    },
    {
      "cell_type": "markdown",
      "source": [
        "# Redoing R^2 experiment"
      ],
      "metadata": {
        "id": "gdnH8-MPNJUN"
      }
    },
    {
      "cell_type": "code",
      "source": [
        "from experiments.run_experiment import scalar_prediction_experiment_w_solver"
      ],
      "metadata": {
        "id": "2Lt2h50rNK_O"
      },
      "execution_count": null,
      "outputs": []
    },
    {
      "cell_type": "code",
      "source": [
        "solver_r2_probes_path = f'{probes_path}/probes_w_solver'\n",
        "layers = [i for i in range(4,16)]"
      ],
      "metadata": {
        "id": "MkRlpWFGPNO0"
      },
      "execution_count": null,
      "outputs": []
    },
    {
      "cell_type": "code",
      "source": [
        "solver_r2_expt_results = scalar_prediction_experiment_w_solver('r2_score', activations_path, solver_r2_probes_path, \\\n",
        "                                                       layers=layers, \\\n",
        "                                                       r2_threshold=0)\n",
        "# save experiment results\n",
        "with open(f'{solver_r2_probes_path}/experiment_data.pt', 'wb') as f:\n",
        "    pickle.dump(solver_r2_expt_results, f)"
      ],
      "metadata": {
        "colab": {
          "base_uri": "https://localhost:8080/"
        },
        "id": "CCFQ5pesPTAh",
        "outputId": "f8867b2c-8fab-416f-c86a-0b6a20ee406e"
      },
      "execution_count": null,
      "outputs": [
        {
          "output_type": "stream",
          "name": "stderr",
          "text": [
            "\n",
            "Training on each layer:   0%|          | 0/12 [00:00<?, ?it/s]\n",
            "Training on each layer:   8%|▊         | 1/12 [00:32<05:58, 32.63s/it]"
          ]
        },
        {
          "output_type": "stream",
          "name": "stdout",
          "text": [
            "Regression probe trained on layer 4: Test Set Loss 0.06859186891141808\n",
            "Saved state dictionary to /content/drive/MyDrive/github/subteams/LLMProbing/probing_data/probes/r2_expt/probes_w_solver/probe_r2_score_4_0.pt\n"
          ]
        },
        {
          "output_type": "stream",
          "name": "stderr",
          "text": [
            "\r\n",
            "Training on each layer:  17%|█▋        | 2/12 [00:59<04:52, 29.27s/it]"
          ]
        },
        {
          "output_type": "stream",
          "name": "stdout",
          "text": [
            "Regression probe trained on layer 5: Test Set Loss 0.03709747046964822\n",
            "Saved state dictionary to /content/drive/MyDrive/github/subteams/LLMProbing/probing_data/probes/r2_expt/probes_w_solver/probe_r2_score_5_0.pt\n"
          ]
        },
        {
          "output_type": "stream",
          "name": "stderr",
          "text": [
            "\r\n",
            "Training on each layer:  25%|██▌       | 3/12 [01:23<04:01, 26.84s/it]"
          ]
        },
        {
          "output_type": "stream",
          "name": "stdout",
          "text": [
            "Regression probe trained on layer 6: Test Set Loss 0.04399016767188603\n",
            "Saved state dictionary to /content/drive/MyDrive/github/subteams/LLMProbing/probing_data/probes/r2_expt/probes_w_solver/probe_r2_score_6_0.pt\n"
          ]
        },
        {
          "output_type": "stream",
          "name": "stderr",
          "text": [
            "\r\n",
            "Training on each layer:  33%|███▎      | 4/12 [01:48<03:29, 26.13s/it]"
          ]
        },
        {
          "output_type": "stream",
          "name": "stdout",
          "text": [
            "Regression probe trained on layer 7: Test Set Loss 0.04223852059685972\n",
            "Saved state dictionary to /content/drive/MyDrive/github/subteams/LLMProbing/probing_data/probes/r2_expt/probes_w_solver/probe_r2_score_7_0.pt\n"
          ]
        },
        {
          "output_type": "stream",
          "name": "stderr",
          "text": [
            "\r\n",
            "Training on each layer:  42%|████▏     | 5/12 [02:15<03:03, 26.25s/it]"
          ]
        },
        {
          "output_type": "stream",
          "name": "stdout",
          "text": [
            "Regression probe trained on layer 8: Test Set Loss 0.03526353946662354\n",
            "Saved state dictionary to /content/drive/MyDrive/github/subteams/LLMProbing/probing_data/probes/r2_expt/probes_w_solver/probe_r2_score_8_0.pt\n"
          ]
        },
        {
          "output_type": "stream",
          "name": "stderr",
          "text": [
            "\r\n",
            "Training on each layer:  50%|█████     | 6/12 [02:43<02:41, 26.87s/it]"
          ]
        },
        {
          "output_type": "stream",
          "name": "stdout",
          "text": [
            "Regression probe trained on layer 9: Test Set Loss 0.0527929709913163\n",
            "Saved state dictionary to /content/drive/MyDrive/github/subteams/LLMProbing/probing_data/probes/r2_expt/probes_w_solver/probe_r2_score_9_0.pt\n"
          ]
        },
        {
          "output_type": "stream",
          "name": "stderr",
          "text": [
            "\r\n",
            "Training on each layer:  58%|█████▊    | 7/12 [03:06<02:08, 25.78s/it]"
          ]
        },
        {
          "output_type": "stream",
          "name": "stdout",
          "text": [
            "Regression probe trained on layer 10: Test Set Loss 0.055886715406990486\n",
            "Saved state dictionary to /content/drive/MyDrive/github/subteams/LLMProbing/probing_data/probes/r2_expt/probes_w_solver/probe_r2_score_10_0.pt\n"
          ]
        },
        {
          "output_type": "stream",
          "name": "stderr",
          "text": [
            "\r\n",
            "Training on each layer:  67%|██████▋   | 8/12 [03:32<01:43, 25.89s/it]"
          ]
        },
        {
          "output_type": "stream",
          "name": "stdout",
          "text": [
            "Regression probe trained on layer 11: Test Set Loss 0.18484719141671355\n",
            "Saved state dictionary to /content/drive/MyDrive/github/subteams/LLMProbing/probing_data/probes/r2_expt/probes_w_solver/probe_r2_score_11_0.pt\n"
          ]
        },
        {
          "output_type": "stream",
          "name": "stderr",
          "text": [
            "\r\n",
            "Training on each layer:  75%|███████▌  | 9/12 [03:56<01:15, 25.30s/it]"
          ]
        },
        {
          "output_type": "stream",
          "name": "stdout",
          "text": [
            "Regression probe trained on layer 12: Test Set Loss 0.11752151127047986\n",
            "Saved state dictionary to /content/drive/MyDrive/github/subteams/LLMProbing/probing_data/probes/r2_expt/probes_w_solver/probe_r2_score_12_0.pt\n"
          ]
        },
        {
          "output_type": "stream",
          "name": "stderr",
          "text": [
            "\r\n",
            "Training on each layer:  83%|████████▎ | 10/12 [04:20<00:49, 24.82s/it]"
          ]
        },
        {
          "output_type": "stream",
          "name": "stdout",
          "text": [
            "Regression probe trained on layer 13: Test Set Loss 0.052779429446456444\n",
            "Saved state dictionary to /content/drive/MyDrive/github/subteams/LLMProbing/probing_data/probes/r2_expt/probes_w_solver/probe_r2_score_13_0.pt\n"
          ]
        },
        {
          "output_type": "stream",
          "name": "stderr",
          "text": [
            "\r\n",
            "Training on each layer:  92%|█████████▏| 11/12 [04:49<00:26, 26.03s/it]"
          ]
        },
        {
          "output_type": "stream",
          "name": "stdout",
          "text": [
            "Regression probe trained on layer 14: Test Set Loss 0.08521449166952834\n",
            "Saved state dictionary to /content/drive/MyDrive/github/subteams/LLMProbing/probing_data/probes/r2_expt/probes_w_solver/probe_r2_score_14_0.pt\n"
          ]
        },
        {
          "output_type": "stream",
          "name": "stderr",
          "text": [
            "\n",
            "Training on each layer: 100%|██████████| 12/12 [05:12<00:00, 25.22s/it]\n",
            "Training on each layer: 100%|██████████| 12/12 [05:12<00:00, 26.05s/it]"
          ]
        },
        {
          "output_type": "stream",
          "name": "stdout",
          "text": [
            "Regression probe trained on layer 15: Test Set Loss 0.08182321810956182\n",
            "Saved state dictionary to /content/drive/MyDrive/github/subteams/LLMProbing/probing_data/probes/r2_expt/probes_w_solver/probe_r2_score_15_0.pt\n"
          ]
        },
        {
          "output_type": "stream",
          "name": "stderr",
          "text": [
            "\n"
          ]
        }
      ]
    },
    {
      "cell_type": "code",
      "source": [
        "solver_r2_expt_results"
      ],
      "metadata": {
        "colab": {
          "base_uri": "https://localhost:8080/",
          "height": 862
        },
        "id": "mN_squ3oQDac",
        "outputId": "568b576d-25fa-4c26-f9b9-36d8014d64f1"
      },
      "execution_count": null,
      "outputs": [
        {
          "output_type": "execute_result",
          "data": {
            "text/plain": [
              "    layer  test_loss                                   final_train_loss  \\\n",
              "0       4   0.068592  (18.809667156580257, -1552.065538373229, 0.265...   \n",
              "1       5   0.037097  (45.994267833645125, -3796.627677662813, -0.18...   \n",
              "2       6   0.043990  (2.281289546011591, -187.36017476559562, 0.124...   \n",
              "3       7   0.042239  (0.12400150645081857, -9.238483518074556, 0.14...   \n",
              "4       8   0.035264  (0.5669029616642062, -45.80771049396443, 0.062...   \n",
              "5       9   0.052793  (0.48586943716826164, -39.11698212666158, -0.1...   \n",
              "6      10   0.055887  (1.9364112111488825, -158.88446249672103, -0.0...   \n",
              "7      11   0.184847  (3.4605774783868966, -284.7309277606277, 0.135...   \n",
              "8      12   0.117522  (4.308304936580422, -354.7255894316189, 0.0097...   \n",
              "9      13   0.052779  (0.2388644259179476, -18.722417565017224, 0.00...   \n",
              "10     14   0.085214  (0.3757010826973828, -30.020666068040722, -0.2...   \n",
              "11     15   0.081823  (1.1172370614600613, -91.24737329075185, -0.01...   \n",
              "\n",
              "                                       final_val_loss   test_r2  \\\n",
              "0   (16.770705938156848, -1065.820014160221, 0.253... -0.389484   \n",
              "1   (36.53575635331528, -2323.1166967619315, -0.11...  0.248506   \n",
              "2   (2.075634767760833, -131.03551828727242, 0.088...  0.108879   \n",
              "3   (0.12545447836232293, -6.980424591010031, 0.06...  0.144363   \n",
              "4   (0.5523632649378851, -34.13699471887967, -0.00...  0.285657   \n",
              "5   (0.4964354075953209, -30.579305251209632, -0.1... -0.069442   \n",
              "6   (1.5680673140039048, -98.74807725029618, 0.105... -0.132113   \n",
              "7   (3.3962427379687625, -215.04217963752987, -0.0... -2.744500   \n",
              "8   (3.64078449010849, -230.59799924643153, 0.1860... -1.380666   \n",
              "9   (0.2722287020080451, -16.317043051095702, -0.0... -0.069167   \n",
              "10  (0.30949491291947195, -18.68762603204666, -0.3... -0.726213   \n",
              "11  (0.9767790333201022, -61.13497801669244, -0.17... -0.657515   \n",
              "\n",
              "    test_spearman  test_pearson  \n",
              "0        0.128237      0.280661  \n",
              "1        0.343544      0.541671  \n",
              "2        0.429249      0.353534  \n",
              "3        0.745525      0.410487  \n",
              "4        0.532280      0.579414  \n",
              "5        0.230869      0.298250  \n",
              "6        0.332364      0.565065  \n",
              "7        0.045790      0.037970  \n",
              "8        0.025249      0.344419  \n",
              "9        0.294270      0.515054  \n",
              "10       0.119830      0.489589  \n",
              "11       0.143145      0.259541  "
            ],
            "text/html": [
              "\n",
              "  <div id=\"df-1c549a8e-3696-4769-ae3b-1bde18c36d8e\" class=\"colab-df-container\">\n",
              "    <div>\n",
              "<style scoped>\n",
              "    .dataframe tbody tr th:only-of-type {\n",
              "        vertical-align: middle;\n",
              "    }\n",
              "\n",
              "    .dataframe tbody tr th {\n",
              "        vertical-align: top;\n",
              "    }\n",
              "\n",
              "    .dataframe thead th {\n",
              "        text-align: right;\n",
              "    }\n",
              "</style>\n",
              "<table border=\"1\" class=\"dataframe\">\n",
              "  <thead>\n",
              "    <tr style=\"text-align: right;\">\n",
              "      <th></th>\n",
              "      <th>layer</th>\n",
              "      <th>test_loss</th>\n",
              "      <th>final_train_loss</th>\n",
              "      <th>final_val_loss</th>\n",
              "      <th>test_r2</th>\n",
              "      <th>test_spearman</th>\n",
              "      <th>test_pearson</th>\n",
              "    </tr>\n",
              "  </thead>\n",
              "  <tbody>\n",
              "    <tr>\n",
              "      <th>0</th>\n",
              "      <td>4</td>\n",
              "      <td>0.068592</td>\n",
              "      <td>(18.809667156580257, -1552.065538373229, 0.265...</td>\n",
              "      <td>(16.770705938156848, -1065.820014160221, 0.253...</td>\n",
              "      <td>-0.389484</td>\n",
              "      <td>0.128237</td>\n",
              "      <td>0.280661</td>\n",
              "    </tr>\n",
              "    <tr>\n",
              "      <th>1</th>\n",
              "      <td>5</td>\n",
              "      <td>0.037097</td>\n",
              "      <td>(45.994267833645125, -3796.627677662813, -0.18...</td>\n",
              "      <td>(36.53575635331528, -2323.1166967619315, -0.11...</td>\n",
              "      <td>0.248506</td>\n",
              "      <td>0.343544</td>\n",
              "      <td>0.541671</td>\n",
              "    </tr>\n",
              "    <tr>\n",
              "      <th>2</th>\n",
              "      <td>6</td>\n",
              "      <td>0.043990</td>\n",
              "      <td>(2.281289546011591, -187.36017476559562, 0.124...</td>\n",
              "      <td>(2.075634767760833, -131.03551828727242, 0.088...</td>\n",
              "      <td>0.108879</td>\n",
              "      <td>0.429249</td>\n",
              "      <td>0.353534</td>\n",
              "    </tr>\n",
              "    <tr>\n",
              "      <th>3</th>\n",
              "      <td>7</td>\n",
              "      <td>0.042239</td>\n",
              "      <td>(0.12400150645081857, -9.238483518074556, 0.14...</td>\n",
              "      <td>(0.12545447836232293, -6.980424591010031, 0.06...</td>\n",
              "      <td>0.144363</td>\n",
              "      <td>0.745525</td>\n",
              "      <td>0.410487</td>\n",
              "    </tr>\n",
              "    <tr>\n",
              "      <th>4</th>\n",
              "      <td>8</td>\n",
              "      <td>0.035264</td>\n",
              "      <td>(0.5669029616642062, -45.80771049396443, 0.062...</td>\n",
              "      <td>(0.5523632649378851, -34.13699471887967, -0.00...</td>\n",
              "      <td>0.285657</td>\n",
              "      <td>0.532280</td>\n",
              "      <td>0.579414</td>\n",
              "    </tr>\n",
              "    <tr>\n",
              "      <th>5</th>\n",
              "      <td>9</td>\n",
              "      <td>0.052793</td>\n",
              "      <td>(0.48586943716826164, -39.11698212666158, -0.1...</td>\n",
              "      <td>(0.4964354075953209, -30.579305251209632, -0.1...</td>\n",
              "      <td>-0.069442</td>\n",
              "      <td>0.230869</td>\n",
              "      <td>0.298250</td>\n",
              "    </tr>\n",
              "    <tr>\n",
              "      <th>6</th>\n",
              "      <td>10</td>\n",
              "      <td>0.055887</td>\n",
              "      <td>(1.9364112111488825, -158.88446249672103, -0.0...</td>\n",
              "      <td>(1.5680673140039048, -98.74807725029618, 0.105...</td>\n",
              "      <td>-0.132113</td>\n",
              "      <td>0.332364</td>\n",
              "      <td>0.565065</td>\n",
              "    </tr>\n",
              "    <tr>\n",
              "      <th>7</th>\n",
              "      <td>11</td>\n",
              "      <td>0.184847</td>\n",
              "      <td>(3.4605774783868966, -284.7309277606277, 0.135...</td>\n",
              "      <td>(3.3962427379687625, -215.04217963752987, -0.0...</td>\n",
              "      <td>-2.744500</td>\n",
              "      <td>0.045790</td>\n",
              "      <td>0.037970</td>\n",
              "    </tr>\n",
              "    <tr>\n",
              "      <th>8</th>\n",
              "      <td>12</td>\n",
              "      <td>0.117522</td>\n",
              "      <td>(4.308304936580422, -354.7255894316189, 0.0097...</td>\n",
              "      <td>(3.64078449010849, -230.59799924643153, 0.1860...</td>\n",
              "      <td>-1.380666</td>\n",
              "      <td>0.025249</td>\n",
              "      <td>0.344419</td>\n",
              "    </tr>\n",
              "    <tr>\n",
              "      <th>9</th>\n",
              "      <td>13</td>\n",
              "      <td>0.052779</td>\n",
              "      <td>(0.2388644259179476, -18.722417565017224, 0.00...</td>\n",
              "      <td>(0.2722287020080451, -16.317043051095702, -0.0...</td>\n",
              "      <td>-0.069167</td>\n",
              "      <td>0.294270</td>\n",
              "      <td>0.515054</td>\n",
              "    </tr>\n",
              "    <tr>\n",
              "      <th>10</th>\n",
              "      <td>14</td>\n",
              "      <td>0.085214</td>\n",
              "      <td>(0.3757010826973828, -30.020666068040722, -0.2...</td>\n",
              "      <td>(0.30949491291947195, -18.68762603204666, -0.3...</td>\n",
              "      <td>-0.726213</td>\n",
              "      <td>0.119830</td>\n",
              "      <td>0.489589</td>\n",
              "    </tr>\n",
              "    <tr>\n",
              "      <th>11</th>\n",
              "      <td>15</td>\n",
              "      <td>0.081823</td>\n",
              "      <td>(1.1172370614600613, -91.24737329075185, -0.01...</td>\n",
              "      <td>(0.9767790333201022, -61.13497801669244, -0.17...</td>\n",
              "      <td>-0.657515</td>\n",
              "      <td>0.143145</td>\n",
              "      <td>0.259541</td>\n",
              "    </tr>\n",
              "  </tbody>\n",
              "</table>\n",
              "</div>\n",
              "    <div class=\"colab-df-buttons\">\n",
              "\n",
              "  <div class=\"colab-df-container\">\n",
              "    <button class=\"colab-df-convert\" onclick=\"convertToInteractive('df-1c549a8e-3696-4769-ae3b-1bde18c36d8e')\"\n",
              "            title=\"Convert this dataframe to an interactive table.\"\n",
              "            style=\"display:none;\">\n",
              "\n",
              "  <svg xmlns=\"http://www.w3.org/2000/svg\" height=\"24px\" viewBox=\"0 -960 960 960\">\n",
              "    <path d=\"M120-120v-720h720v720H120Zm60-500h600v-160H180v160Zm220 220h160v-160H400v160Zm0 220h160v-160H400v160ZM180-400h160v-160H180v160Zm440 0h160v-160H620v160ZM180-180h160v-160H180v160Zm440 0h160v-160H620v160Z\"/>\n",
              "  </svg>\n",
              "    </button>\n",
              "\n",
              "  <style>\n",
              "    .colab-df-container {\n",
              "      display:flex;\n",
              "      gap: 12px;\n",
              "    }\n",
              "\n",
              "    .colab-df-convert {\n",
              "      background-color: #E8F0FE;\n",
              "      border: none;\n",
              "      border-radius: 50%;\n",
              "      cursor: pointer;\n",
              "      display: none;\n",
              "      fill: #1967D2;\n",
              "      height: 32px;\n",
              "      padding: 0 0 0 0;\n",
              "      width: 32px;\n",
              "    }\n",
              "\n",
              "    .colab-df-convert:hover {\n",
              "      background-color: #E2EBFA;\n",
              "      box-shadow: 0px 1px 2px rgba(60, 64, 67, 0.3), 0px 1px 3px 1px rgba(60, 64, 67, 0.15);\n",
              "      fill: #174EA6;\n",
              "    }\n",
              "\n",
              "    .colab-df-buttons div {\n",
              "      margin-bottom: 4px;\n",
              "    }\n",
              "\n",
              "    [theme=dark] .colab-df-convert {\n",
              "      background-color: #3B4455;\n",
              "      fill: #D2E3FC;\n",
              "    }\n",
              "\n",
              "    [theme=dark] .colab-df-convert:hover {\n",
              "      background-color: #434B5C;\n",
              "      box-shadow: 0px 1px 3px 1px rgba(0, 0, 0, 0.15);\n",
              "      filter: drop-shadow(0px 1px 2px rgba(0, 0, 0, 0.3));\n",
              "      fill: #FFFFFF;\n",
              "    }\n",
              "  </style>\n",
              "\n",
              "    <script>\n",
              "      const buttonEl =\n",
              "        document.querySelector('#df-1c549a8e-3696-4769-ae3b-1bde18c36d8e button.colab-df-convert');\n",
              "      buttonEl.style.display =\n",
              "        google.colab.kernel.accessAllowed ? 'block' : 'none';\n",
              "\n",
              "      async function convertToInteractive(key) {\n",
              "        const element = document.querySelector('#df-1c549a8e-3696-4769-ae3b-1bde18c36d8e');\n",
              "        const dataTable =\n",
              "          await google.colab.kernel.invokeFunction('convertToInteractive',\n",
              "                                                    [key], {});\n",
              "        if (!dataTable) return;\n",
              "\n",
              "        const docLinkHtml = 'Like what you see? Visit the ' +\n",
              "          '<a target=\"_blank\" href=https://colab.research.google.com/notebooks/data_table.ipynb>data table notebook</a>'\n",
              "          + ' to learn more about interactive tables.';\n",
              "        element.innerHTML = '';\n",
              "        dataTable['output_type'] = 'display_data';\n",
              "        await google.colab.output.renderOutput(dataTable, element);\n",
              "        const docLink = document.createElement('div');\n",
              "        docLink.innerHTML = docLinkHtml;\n",
              "        element.appendChild(docLink);\n",
              "      }\n",
              "    </script>\n",
              "  </div>\n",
              "\n",
              "\n",
              "<div id=\"df-6c4d9f48-56d8-4292-996b-c4b11269122d\">\n",
              "  <button class=\"colab-df-quickchart\" onclick=\"quickchart('df-6c4d9f48-56d8-4292-996b-c4b11269122d')\"\n",
              "            title=\"Suggest charts\"\n",
              "            style=\"display:none;\">\n",
              "\n",
              "<svg xmlns=\"http://www.w3.org/2000/svg\" height=\"24px\"viewBox=\"0 0 24 24\"\n",
              "     width=\"24px\">\n",
              "    <g>\n",
              "        <path d=\"M19 3H5c-1.1 0-2 .9-2 2v14c0 1.1.9 2 2 2h14c1.1 0 2-.9 2-2V5c0-1.1-.9-2-2-2zM9 17H7v-7h2v7zm4 0h-2V7h2v10zm4 0h-2v-4h2v4z\"/>\n",
              "    </g>\n",
              "</svg>\n",
              "  </button>\n",
              "\n",
              "<style>\n",
              "  .colab-df-quickchart {\n",
              "      --bg-color: #E8F0FE;\n",
              "      --fill-color: #1967D2;\n",
              "      --hover-bg-color: #E2EBFA;\n",
              "      --hover-fill-color: #174EA6;\n",
              "      --disabled-fill-color: #AAA;\n",
              "      --disabled-bg-color: #DDD;\n",
              "  }\n",
              "\n",
              "  [theme=dark] .colab-df-quickchart {\n",
              "      --bg-color: #3B4455;\n",
              "      --fill-color: #D2E3FC;\n",
              "      --hover-bg-color: #434B5C;\n",
              "      --hover-fill-color: #FFFFFF;\n",
              "      --disabled-bg-color: #3B4455;\n",
              "      --disabled-fill-color: #666;\n",
              "  }\n",
              "\n",
              "  .colab-df-quickchart {\n",
              "    background-color: var(--bg-color);\n",
              "    border: none;\n",
              "    border-radius: 50%;\n",
              "    cursor: pointer;\n",
              "    display: none;\n",
              "    fill: var(--fill-color);\n",
              "    height: 32px;\n",
              "    padding: 0;\n",
              "    width: 32px;\n",
              "  }\n",
              "\n",
              "  .colab-df-quickchart:hover {\n",
              "    background-color: var(--hover-bg-color);\n",
              "    box-shadow: 0 1px 2px rgba(60, 64, 67, 0.3), 0 1px 3px 1px rgba(60, 64, 67, 0.15);\n",
              "    fill: var(--button-hover-fill-color);\n",
              "  }\n",
              "\n",
              "  .colab-df-quickchart-complete:disabled,\n",
              "  .colab-df-quickchart-complete:disabled:hover {\n",
              "    background-color: var(--disabled-bg-color);\n",
              "    fill: var(--disabled-fill-color);\n",
              "    box-shadow: none;\n",
              "  }\n",
              "\n",
              "  .colab-df-spinner {\n",
              "    border: 2px solid var(--fill-color);\n",
              "    border-color: transparent;\n",
              "    border-bottom-color: var(--fill-color);\n",
              "    animation:\n",
              "      spin 1s steps(1) infinite;\n",
              "  }\n",
              "\n",
              "  @keyframes spin {\n",
              "    0% {\n",
              "      border-color: transparent;\n",
              "      border-bottom-color: var(--fill-color);\n",
              "      border-left-color: var(--fill-color);\n",
              "    }\n",
              "    20% {\n",
              "      border-color: transparent;\n",
              "      border-left-color: var(--fill-color);\n",
              "      border-top-color: var(--fill-color);\n",
              "    }\n",
              "    30% {\n",
              "      border-color: transparent;\n",
              "      border-left-color: var(--fill-color);\n",
              "      border-top-color: var(--fill-color);\n",
              "      border-right-color: var(--fill-color);\n",
              "    }\n",
              "    40% {\n",
              "      border-color: transparent;\n",
              "      border-right-color: var(--fill-color);\n",
              "      border-top-color: var(--fill-color);\n",
              "    }\n",
              "    60% {\n",
              "      border-color: transparent;\n",
              "      border-right-color: var(--fill-color);\n",
              "    }\n",
              "    80% {\n",
              "      border-color: transparent;\n",
              "      border-right-color: var(--fill-color);\n",
              "      border-bottom-color: var(--fill-color);\n",
              "    }\n",
              "    90% {\n",
              "      border-color: transparent;\n",
              "      border-bottom-color: var(--fill-color);\n",
              "    }\n",
              "  }\n",
              "</style>\n",
              "\n",
              "  <script>\n",
              "    async function quickchart(key) {\n",
              "      const quickchartButtonEl =\n",
              "        document.querySelector('#' + key + ' button');\n",
              "      quickchartButtonEl.disabled = true;  // To prevent multiple clicks.\n",
              "      quickchartButtonEl.classList.add('colab-df-spinner');\n",
              "      try {\n",
              "        const charts = await google.colab.kernel.invokeFunction(\n",
              "            'suggestCharts', [key], {});\n",
              "      } catch (error) {\n",
              "        console.error('Error during call to suggestCharts:', error);\n",
              "      }\n",
              "      quickchartButtonEl.classList.remove('colab-df-spinner');\n",
              "      quickchartButtonEl.classList.add('colab-df-quickchart-complete');\n",
              "    }\n",
              "    (() => {\n",
              "      let quickchartButtonEl =\n",
              "        document.querySelector('#df-6c4d9f48-56d8-4292-996b-c4b11269122d button');\n",
              "      quickchartButtonEl.style.display =\n",
              "        google.colab.kernel.accessAllowed ? 'block' : 'none';\n",
              "    })();\n",
              "  </script>\n",
              "</div>\n",
              "\n",
              "  <div id=\"id_c5f8d746-5634-4751-8975-6ebfe40cb08a\">\n",
              "    <style>\n",
              "      .colab-df-generate {\n",
              "        background-color: #E8F0FE;\n",
              "        border: none;\n",
              "        border-radius: 50%;\n",
              "        cursor: pointer;\n",
              "        display: none;\n",
              "        fill: #1967D2;\n",
              "        height: 32px;\n",
              "        padding: 0 0 0 0;\n",
              "        width: 32px;\n",
              "      }\n",
              "\n",
              "      .colab-df-generate:hover {\n",
              "        background-color: #E2EBFA;\n",
              "        box-shadow: 0px 1px 2px rgba(60, 64, 67, 0.3), 0px 1px 3px 1px rgba(60, 64, 67, 0.15);\n",
              "        fill: #174EA6;\n",
              "      }\n",
              "\n",
              "      [theme=dark] .colab-df-generate {\n",
              "        background-color: #3B4455;\n",
              "        fill: #D2E3FC;\n",
              "      }\n",
              "\n",
              "      [theme=dark] .colab-df-generate:hover {\n",
              "        background-color: #434B5C;\n",
              "        box-shadow: 0px 1px 3px 1px rgba(0, 0, 0, 0.15);\n",
              "        filter: drop-shadow(0px 1px 2px rgba(0, 0, 0, 0.3));\n",
              "        fill: #FFFFFF;\n",
              "      }\n",
              "    </style>\n",
              "    <button class=\"colab-df-generate\" onclick=\"generateWithVariable('solver_r2_expt_results')\"\n",
              "            title=\"Generate code using this dataframe.\"\n",
              "            style=\"display:none;\">\n",
              "\n",
              "  <svg xmlns=\"http://www.w3.org/2000/svg\" height=\"24px\"viewBox=\"0 0 24 24\"\n",
              "       width=\"24px\">\n",
              "    <path d=\"M7,19H8.4L18.45,9,17,7.55,7,17.6ZM5,21V16.75L18.45,3.32a2,2,0,0,1,2.83,0l1.4,1.43a1.91,1.91,0,0,1,.58,1.4,1.91,1.91,0,0,1-.58,1.4L9.25,21ZM18.45,9,17,7.55Zm-12,3A5.31,5.31,0,0,0,4.9,8.1,5.31,5.31,0,0,0,1,6.5,5.31,5.31,0,0,0,4.9,4.9,5.31,5.31,0,0,0,6.5,1,5.31,5.31,0,0,0,8.1,4.9,5.31,5.31,0,0,0,12,6.5,5.46,5.46,0,0,0,6.5,12Z\"/>\n",
              "  </svg>\n",
              "    </button>\n",
              "    <script>\n",
              "      (() => {\n",
              "      const buttonEl =\n",
              "        document.querySelector('#id_c5f8d746-5634-4751-8975-6ebfe40cb08a button.colab-df-generate');\n",
              "      buttonEl.style.display =\n",
              "        google.colab.kernel.accessAllowed ? 'block' : 'none';\n",
              "\n",
              "      buttonEl.onclick = () => {\n",
              "        google.colab.notebook.generateWithVariable('solver_r2_expt_results');\n",
              "      }\n",
              "      })();\n",
              "    </script>\n",
              "  </div>\n",
              "\n",
              "    </div>\n",
              "  </div>\n"
            ],
            "application/vnd.google.colaboratory.intrinsic+json": {
              "type": "dataframe",
              "variable_name": "solver_r2_expt_results",
              "summary": "{\n  \"name\": \"solver_r2_expt_results\",\n  \"rows\": 12,\n  \"fields\": [\n    {\n      \"column\": \"layer\",\n      \"properties\": {\n        \"dtype\": \"number\",\n        \"std\": 3,\n        \"min\": 4,\n        \"max\": 15,\n        \"num_unique_values\": 12,\n        \"samples\": [\n          14,\n          13,\n          4\n        ],\n        \"semantic_type\": \"\",\n        \"description\": \"\"\n      }\n    },\n    {\n      \"column\": \"test_loss\",\n      \"properties\": {\n        \"dtype\": \"number\",\n        \"std\": 0.042982560914846285,\n        \"min\": 0.03526353946662354,\n        \"max\": 0.18484719141671355,\n        \"num_unique_values\": 12,\n        \"samples\": [\n          0.08521449166952834,\n          0.052779429446456444,\n          0.06859186891141808\n        ],\n        \"semantic_type\": \"\",\n        \"description\": \"\"\n      }\n    },\n    {\n      \"column\": \"final_train_loss\",\n      \"properties\": {\n        \"dtype\": \"string\",\n        \"num_unique_values\": 12,\n        \"samples\": [\n          [\n            0.3757010826973828,\n            -30.020666068040722,\n            -0.22748808565526227,\n            -0.15445749457748903\n          ],\n          [\n            0.2388644259179476,\n            -18.722417565017224,\n            0.0046239777219756716,\n            -0.04215622131764363\n          ],\n          [\n            18.809667156580257,\n            -1552.065538373229,\n            0.26506250060797554,\n            -0.041418932380632434\n          ]\n        ],\n        \"semantic_type\": \"\",\n        \"description\": \"\"\n      }\n    },\n    {\n      \"column\": \"final_val_loss\",\n      \"properties\": {\n        \"dtype\": \"string\",\n        \"num_unique_values\": 12,\n        \"samples\": [\n          [\n            0.30949491291947195,\n            -18.68762603204666,\n            -0.35752489331436693,\n            -0.10339071445923764\n          ],\n          [\n            0.2722287020080451,\n            -16.317043051095702,\n            -0.03331436699857752,\n            -0.020856854935118463\n          ],\n          [\n            16.770705938156848,\n            -1065.820014160221,\n            0.25382645803698434,\n            -0.09733538777072681\n          ]\n        ],\n        \"semantic_type\": \"\",\n        \"description\": \"\"\n      }\n    },\n    {\n      \"column\": \"test_r2\",\n      \"properties\": {\n        \"dtype\": \"number\",\n        \"std\": 0.8707095303319702,\n        \"min\": -2.7445002585922564,\n        \"max\": 0.2856568002620614,\n        \"num_unique_values\": 12,\n        \"samples\": [\n          -0.7262133554951833,\n          -0.06916734504853217,\n          -0.38948426771658373\n        ],\n        \"semantic_type\": \"\",\n        \"description\": \"\"\n      }\n    },\n    {\n      \"column\": \"test_spearman\",\n      \"properties\": {\n        \"dtype\": \"number\",\n        \"std\": 0.213027949933692,\n        \"min\": 0.025249112725480204,\n        \"max\": 0.745524505883052,\n        \"num_unique_values\": 12,\n        \"samples\": [\n          0.11983015526729307,\n          0.29426951828282194,\n          0.12823704294096003\n        ],\n        \"semantic_type\": \"\",\n        \"description\": \"\"\n      }\n    },\n    {\n      \"column\": \"test_pearson\",\n      \"properties\": {\n        \"dtype\": \"number\",\n        \"std\": 0.1596099305112218,\n        \"min\": 0.03797044077509781,\n        \"max\": 0.5794135040036963,\n        \"num_unique_values\": 12,\n        \"samples\": [\n          0.4895890685766062,\n          0.515053763958349,\n          0.2806614396255327\n        ],\n        \"semantic_type\": \"\",\n        \"description\": \"\"\n      }\n    }\n  ]\n}"
            }
          },
          "metadata": {},
          "execution_count": 11
        }
      ]
    },
    {
      "cell_type": "code",
      "source": [
        "from experiments.utils import summarise_experiment, plot_from_summary"
      ],
      "metadata": {
        "id": "sxffTrEkQHPT"
      },
      "execution_count": null,
      "outputs": []
    },
    {
      "cell_type": "code",
      "source": [
        "solver_r2_expt_summary = summarise_experiment(solver_r2_expt_results, incl_extras=True)\n",
        "solver_r2_expt_summary"
      ],
      "metadata": {
        "colab": {
          "base_uri": "https://localhost:8080/",
          "height": 446
        },
        "id": "ascLCkzlQbWy",
        "outputId": "e32f10e1-3065-4be6-adcf-027e241f7794"
      },
      "execution_count": null,
      "outputs": [
        {
          "output_type": "execute_result",
          "data": {
            "text/plain": [
              "    layer   r2_mean  r2_std  spearman_mean  spearman_std  pearson_mean  \\\n",
              "0       4 -0.389484     NaN       0.128237           NaN      0.280661   \n",
              "1       5  0.248506     NaN       0.343544           NaN      0.541671   \n",
              "2       6  0.108879     NaN       0.429249           NaN      0.353534   \n",
              "3       7  0.144363     NaN       0.745525           NaN      0.410487   \n",
              "4       8  0.285657     NaN       0.532280           NaN      0.579414   \n",
              "5       9 -0.069442     NaN       0.230869           NaN      0.298250   \n",
              "6      10 -0.132113     NaN       0.332364           NaN      0.565065   \n",
              "7      11 -2.744500     NaN       0.045790           NaN      0.037970   \n",
              "8      12 -1.380666     NaN       0.025249           NaN      0.344419   \n",
              "9      13 -0.069167     NaN       0.294270           NaN      0.515054   \n",
              "10     14 -0.726213     NaN       0.119830           NaN      0.489589   \n",
              "11     15 -0.657515     NaN       0.143145           NaN      0.259541   \n",
              "\n",
              "    pearson_std  loss_mean  loss_std  \n",
              "0           NaN   0.068592       NaN  \n",
              "1           NaN   0.037097       NaN  \n",
              "2           NaN   0.043990       NaN  \n",
              "3           NaN   0.042239       NaN  \n",
              "4           NaN   0.035264       NaN  \n",
              "5           NaN   0.052793       NaN  \n",
              "6           NaN   0.055887       NaN  \n",
              "7           NaN   0.184847       NaN  \n",
              "8           NaN   0.117522       NaN  \n",
              "9           NaN   0.052779       NaN  \n",
              "10          NaN   0.085214       NaN  \n",
              "11          NaN   0.081823       NaN  "
            ],
            "text/html": [
              "\n",
              "  <div id=\"df-6fca4225-7904-437c-b69c-163f1e9aa739\" class=\"colab-df-container\">\n",
              "    <div>\n",
              "<style scoped>\n",
              "    .dataframe tbody tr th:only-of-type {\n",
              "        vertical-align: middle;\n",
              "    }\n",
              "\n",
              "    .dataframe tbody tr th {\n",
              "        vertical-align: top;\n",
              "    }\n",
              "\n",
              "    .dataframe thead th {\n",
              "        text-align: right;\n",
              "    }\n",
              "</style>\n",
              "<table border=\"1\" class=\"dataframe\">\n",
              "  <thead>\n",
              "    <tr style=\"text-align: right;\">\n",
              "      <th></th>\n",
              "      <th>layer</th>\n",
              "      <th>r2_mean</th>\n",
              "      <th>r2_std</th>\n",
              "      <th>spearman_mean</th>\n",
              "      <th>spearman_std</th>\n",
              "      <th>pearson_mean</th>\n",
              "      <th>pearson_std</th>\n",
              "      <th>loss_mean</th>\n",
              "      <th>loss_std</th>\n",
              "    </tr>\n",
              "  </thead>\n",
              "  <tbody>\n",
              "    <tr>\n",
              "      <th>0</th>\n",
              "      <td>4</td>\n",
              "      <td>-0.389484</td>\n",
              "      <td>NaN</td>\n",
              "      <td>0.128237</td>\n",
              "      <td>NaN</td>\n",
              "      <td>0.280661</td>\n",
              "      <td>NaN</td>\n",
              "      <td>0.068592</td>\n",
              "      <td>NaN</td>\n",
              "    </tr>\n",
              "    <tr>\n",
              "      <th>1</th>\n",
              "      <td>5</td>\n",
              "      <td>0.248506</td>\n",
              "      <td>NaN</td>\n",
              "      <td>0.343544</td>\n",
              "      <td>NaN</td>\n",
              "      <td>0.541671</td>\n",
              "      <td>NaN</td>\n",
              "      <td>0.037097</td>\n",
              "      <td>NaN</td>\n",
              "    </tr>\n",
              "    <tr>\n",
              "      <th>2</th>\n",
              "      <td>6</td>\n",
              "      <td>0.108879</td>\n",
              "      <td>NaN</td>\n",
              "      <td>0.429249</td>\n",
              "      <td>NaN</td>\n",
              "      <td>0.353534</td>\n",
              "      <td>NaN</td>\n",
              "      <td>0.043990</td>\n",
              "      <td>NaN</td>\n",
              "    </tr>\n",
              "    <tr>\n",
              "      <th>3</th>\n",
              "      <td>7</td>\n",
              "      <td>0.144363</td>\n",
              "      <td>NaN</td>\n",
              "      <td>0.745525</td>\n",
              "      <td>NaN</td>\n",
              "      <td>0.410487</td>\n",
              "      <td>NaN</td>\n",
              "      <td>0.042239</td>\n",
              "      <td>NaN</td>\n",
              "    </tr>\n",
              "    <tr>\n",
              "      <th>4</th>\n",
              "      <td>8</td>\n",
              "      <td>0.285657</td>\n",
              "      <td>NaN</td>\n",
              "      <td>0.532280</td>\n",
              "      <td>NaN</td>\n",
              "      <td>0.579414</td>\n",
              "      <td>NaN</td>\n",
              "      <td>0.035264</td>\n",
              "      <td>NaN</td>\n",
              "    </tr>\n",
              "    <tr>\n",
              "      <th>5</th>\n",
              "      <td>9</td>\n",
              "      <td>-0.069442</td>\n",
              "      <td>NaN</td>\n",
              "      <td>0.230869</td>\n",
              "      <td>NaN</td>\n",
              "      <td>0.298250</td>\n",
              "      <td>NaN</td>\n",
              "      <td>0.052793</td>\n",
              "      <td>NaN</td>\n",
              "    </tr>\n",
              "    <tr>\n",
              "      <th>6</th>\n",
              "      <td>10</td>\n",
              "      <td>-0.132113</td>\n",
              "      <td>NaN</td>\n",
              "      <td>0.332364</td>\n",
              "      <td>NaN</td>\n",
              "      <td>0.565065</td>\n",
              "      <td>NaN</td>\n",
              "      <td>0.055887</td>\n",
              "      <td>NaN</td>\n",
              "    </tr>\n",
              "    <tr>\n",
              "      <th>7</th>\n",
              "      <td>11</td>\n",
              "      <td>-2.744500</td>\n",
              "      <td>NaN</td>\n",
              "      <td>0.045790</td>\n",
              "      <td>NaN</td>\n",
              "      <td>0.037970</td>\n",
              "      <td>NaN</td>\n",
              "      <td>0.184847</td>\n",
              "      <td>NaN</td>\n",
              "    </tr>\n",
              "    <tr>\n",
              "      <th>8</th>\n",
              "      <td>12</td>\n",
              "      <td>-1.380666</td>\n",
              "      <td>NaN</td>\n",
              "      <td>0.025249</td>\n",
              "      <td>NaN</td>\n",
              "      <td>0.344419</td>\n",
              "      <td>NaN</td>\n",
              "      <td>0.117522</td>\n",
              "      <td>NaN</td>\n",
              "    </tr>\n",
              "    <tr>\n",
              "      <th>9</th>\n",
              "      <td>13</td>\n",
              "      <td>-0.069167</td>\n",
              "      <td>NaN</td>\n",
              "      <td>0.294270</td>\n",
              "      <td>NaN</td>\n",
              "      <td>0.515054</td>\n",
              "      <td>NaN</td>\n",
              "      <td>0.052779</td>\n",
              "      <td>NaN</td>\n",
              "    </tr>\n",
              "    <tr>\n",
              "      <th>10</th>\n",
              "      <td>14</td>\n",
              "      <td>-0.726213</td>\n",
              "      <td>NaN</td>\n",
              "      <td>0.119830</td>\n",
              "      <td>NaN</td>\n",
              "      <td>0.489589</td>\n",
              "      <td>NaN</td>\n",
              "      <td>0.085214</td>\n",
              "      <td>NaN</td>\n",
              "    </tr>\n",
              "    <tr>\n",
              "      <th>11</th>\n",
              "      <td>15</td>\n",
              "      <td>-0.657515</td>\n",
              "      <td>NaN</td>\n",
              "      <td>0.143145</td>\n",
              "      <td>NaN</td>\n",
              "      <td>0.259541</td>\n",
              "      <td>NaN</td>\n",
              "      <td>0.081823</td>\n",
              "      <td>NaN</td>\n",
              "    </tr>\n",
              "  </tbody>\n",
              "</table>\n",
              "</div>\n",
              "    <div class=\"colab-df-buttons\">\n",
              "\n",
              "  <div class=\"colab-df-container\">\n",
              "    <button class=\"colab-df-convert\" onclick=\"convertToInteractive('df-6fca4225-7904-437c-b69c-163f1e9aa739')\"\n",
              "            title=\"Convert this dataframe to an interactive table.\"\n",
              "            style=\"display:none;\">\n",
              "\n",
              "  <svg xmlns=\"http://www.w3.org/2000/svg\" height=\"24px\" viewBox=\"0 -960 960 960\">\n",
              "    <path d=\"M120-120v-720h720v720H120Zm60-500h600v-160H180v160Zm220 220h160v-160H400v160Zm0 220h160v-160H400v160ZM180-400h160v-160H180v160Zm440 0h160v-160H620v160ZM180-180h160v-160H180v160Zm440 0h160v-160H620v160Z\"/>\n",
              "  </svg>\n",
              "    </button>\n",
              "\n",
              "  <style>\n",
              "    .colab-df-container {\n",
              "      display:flex;\n",
              "      gap: 12px;\n",
              "    }\n",
              "\n",
              "    .colab-df-convert {\n",
              "      background-color: #E8F0FE;\n",
              "      border: none;\n",
              "      border-radius: 50%;\n",
              "      cursor: pointer;\n",
              "      display: none;\n",
              "      fill: #1967D2;\n",
              "      height: 32px;\n",
              "      padding: 0 0 0 0;\n",
              "      width: 32px;\n",
              "    }\n",
              "\n",
              "    .colab-df-convert:hover {\n",
              "      background-color: #E2EBFA;\n",
              "      box-shadow: 0px 1px 2px rgba(60, 64, 67, 0.3), 0px 1px 3px 1px rgba(60, 64, 67, 0.15);\n",
              "      fill: #174EA6;\n",
              "    }\n",
              "\n",
              "    .colab-df-buttons div {\n",
              "      margin-bottom: 4px;\n",
              "    }\n",
              "\n",
              "    [theme=dark] .colab-df-convert {\n",
              "      background-color: #3B4455;\n",
              "      fill: #D2E3FC;\n",
              "    }\n",
              "\n",
              "    [theme=dark] .colab-df-convert:hover {\n",
              "      background-color: #434B5C;\n",
              "      box-shadow: 0px 1px 3px 1px rgba(0, 0, 0, 0.15);\n",
              "      filter: drop-shadow(0px 1px 2px rgba(0, 0, 0, 0.3));\n",
              "      fill: #FFFFFF;\n",
              "    }\n",
              "  </style>\n",
              "\n",
              "    <script>\n",
              "      const buttonEl =\n",
              "        document.querySelector('#df-6fca4225-7904-437c-b69c-163f1e9aa739 button.colab-df-convert');\n",
              "      buttonEl.style.display =\n",
              "        google.colab.kernel.accessAllowed ? 'block' : 'none';\n",
              "\n",
              "      async function convertToInteractive(key) {\n",
              "        const element = document.querySelector('#df-6fca4225-7904-437c-b69c-163f1e9aa739');\n",
              "        const dataTable =\n",
              "          await google.colab.kernel.invokeFunction('convertToInteractive',\n",
              "                                                    [key], {});\n",
              "        if (!dataTable) return;\n",
              "\n",
              "        const docLinkHtml = 'Like what you see? Visit the ' +\n",
              "          '<a target=\"_blank\" href=https://colab.research.google.com/notebooks/data_table.ipynb>data table notebook</a>'\n",
              "          + ' to learn more about interactive tables.';\n",
              "        element.innerHTML = '';\n",
              "        dataTable['output_type'] = 'display_data';\n",
              "        await google.colab.output.renderOutput(dataTable, element);\n",
              "        const docLink = document.createElement('div');\n",
              "        docLink.innerHTML = docLinkHtml;\n",
              "        element.appendChild(docLink);\n",
              "      }\n",
              "    </script>\n",
              "  </div>\n",
              "\n",
              "\n",
              "<div id=\"df-5a3ebce9-c058-46ab-9e62-d4d87dc452c5\">\n",
              "  <button class=\"colab-df-quickchart\" onclick=\"quickchart('df-5a3ebce9-c058-46ab-9e62-d4d87dc452c5')\"\n",
              "            title=\"Suggest charts\"\n",
              "            style=\"display:none;\">\n",
              "\n",
              "<svg xmlns=\"http://www.w3.org/2000/svg\" height=\"24px\"viewBox=\"0 0 24 24\"\n",
              "     width=\"24px\">\n",
              "    <g>\n",
              "        <path d=\"M19 3H5c-1.1 0-2 .9-2 2v14c0 1.1.9 2 2 2h14c1.1 0 2-.9 2-2V5c0-1.1-.9-2-2-2zM9 17H7v-7h2v7zm4 0h-2V7h2v10zm4 0h-2v-4h2v4z\"/>\n",
              "    </g>\n",
              "</svg>\n",
              "  </button>\n",
              "\n",
              "<style>\n",
              "  .colab-df-quickchart {\n",
              "      --bg-color: #E8F0FE;\n",
              "      --fill-color: #1967D2;\n",
              "      --hover-bg-color: #E2EBFA;\n",
              "      --hover-fill-color: #174EA6;\n",
              "      --disabled-fill-color: #AAA;\n",
              "      --disabled-bg-color: #DDD;\n",
              "  }\n",
              "\n",
              "  [theme=dark] .colab-df-quickchart {\n",
              "      --bg-color: #3B4455;\n",
              "      --fill-color: #D2E3FC;\n",
              "      --hover-bg-color: #434B5C;\n",
              "      --hover-fill-color: #FFFFFF;\n",
              "      --disabled-bg-color: #3B4455;\n",
              "      --disabled-fill-color: #666;\n",
              "  }\n",
              "\n",
              "  .colab-df-quickchart {\n",
              "    background-color: var(--bg-color);\n",
              "    border: none;\n",
              "    border-radius: 50%;\n",
              "    cursor: pointer;\n",
              "    display: none;\n",
              "    fill: var(--fill-color);\n",
              "    height: 32px;\n",
              "    padding: 0;\n",
              "    width: 32px;\n",
              "  }\n",
              "\n",
              "  .colab-df-quickchart:hover {\n",
              "    background-color: var(--hover-bg-color);\n",
              "    box-shadow: 0 1px 2px rgba(60, 64, 67, 0.3), 0 1px 3px 1px rgba(60, 64, 67, 0.15);\n",
              "    fill: var(--button-hover-fill-color);\n",
              "  }\n",
              "\n",
              "  .colab-df-quickchart-complete:disabled,\n",
              "  .colab-df-quickchart-complete:disabled:hover {\n",
              "    background-color: var(--disabled-bg-color);\n",
              "    fill: var(--disabled-fill-color);\n",
              "    box-shadow: none;\n",
              "  }\n",
              "\n",
              "  .colab-df-spinner {\n",
              "    border: 2px solid var(--fill-color);\n",
              "    border-color: transparent;\n",
              "    border-bottom-color: var(--fill-color);\n",
              "    animation:\n",
              "      spin 1s steps(1) infinite;\n",
              "  }\n",
              "\n",
              "  @keyframes spin {\n",
              "    0% {\n",
              "      border-color: transparent;\n",
              "      border-bottom-color: var(--fill-color);\n",
              "      border-left-color: var(--fill-color);\n",
              "    }\n",
              "    20% {\n",
              "      border-color: transparent;\n",
              "      border-left-color: var(--fill-color);\n",
              "      border-top-color: var(--fill-color);\n",
              "    }\n",
              "    30% {\n",
              "      border-color: transparent;\n",
              "      border-left-color: var(--fill-color);\n",
              "      border-top-color: var(--fill-color);\n",
              "      border-right-color: var(--fill-color);\n",
              "    }\n",
              "    40% {\n",
              "      border-color: transparent;\n",
              "      border-right-color: var(--fill-color);\n",
              "      border-top-color: var(--fill-color);\n",
              "    }\n",
              "    60% {\n",
              "      border-color: transparent;\n",
              "      border-right-color: var(--fill-color);\n",
              "    }\n",
              "    80% {\n",
              "      border-color: transparent;\n",
              "      border-right-color: var(--fill-color);\n",
              "      border-bottom-color: var(--fill-color);\n",
              "    }\n",
              "    90% {\n",
              "      border-color: transparent;\n",
              "      border-bottom-color: var(--fill-color);\n",
              "    }\n",
              "  }\n",
              "</style>\n",
              "\n",
              "  <script>\n",
              "    async function quickchart(key) {\n",
              "      const quickchartButtonEl =\n",
              "        document.querySelector('#' + key + ' button');\n",
              "      quickchartButtonEl.disabled = true;  // To prevent multiple clicks.\n",
              "      quickchartButtonEl.classList.add('colab-df-spinner');\n",
              "      try {\n",
              "        const charts = await google.colab.kernel.invokeFunction(\n",
              "            'suggestCharts', [key], {});\n",
              "      } catch (error) {\n",
              "        console.error('Error during call to suggestCharts:', error);\n",
              "      }\n",
              "      quickchartButtonEl.classList.remove('colab-df-spinner');\n",
              "      quickchartButtonEl.classList.add('colab-df-quickchart-complete');\n",
              "    }\n",
              "    (() => {\n",
              "      let quickchartButtonEl =\n",
              "        document.querySelector('#df-5a3ebce9-c058-46ab-9e62-d4d87dc452c5 button');\n",
              "      quickchartButtonEl.style.display =\n",
              "        google.colab.kernel.accessAllowed ? 'block' : 'none';\n",
              "    })();\n",
              "  </script>\n",
              "</div>\n",
              "\n",
              "  <div id=\"id_cd1b81dd-8fb0-4a02-bb21-1dd7492f520c\">\n",
              "    <style>\n",
              "      .colab-df-generate {\n",
              "        background-color: #E8F0FE;\n",
              "        border: none;\n",
              "        border-radius: 50%;\n",
              "        cursor: pointer;\n",
              "        display: none;\n",
              "        fill: #1967D2;\n",
              "        height: 32px;\n",
              "        padding: 0 0 0 0;\n",
              "        width: 32px;\n",
              "      }\n",
              "\n",
              "      .colab-df-generate:hover {\n",
              "        background-color: #E2EBFA;\n",
              "        box-shadow: 0px 1px 2px rgba(60, 64, 67, 0.3), 0px 1px 3px 1px rgba(60, 64, 67, 0.15);\n",
              "        fill: #174EA6;\n",
              "      }\n",
              "\n",
              "      [theme=dark] .colab-df-generate {\n",
              "        background-color: #3B4455;\n",
              "        fill: #D2E3FC;\n",
              "      }\n",
              "\n",
              "      [theme=dark] .colab-df-generate:hover {\n",
              "        background-color: #434B5C;\n",
              "        box-shadow: 0px 1px 3px 1px rgba(0, 0, 0, 0.15);\n",
              "        filter: drop-shadow(0px 1px 2px rgba(0, 0, 0, 0.3));\n",
              "        fill: #FFFFFF;\n",
              "      }\n",
              "    </style>\n",
              "    <button class=\"colab-df-generate\" onclick=\"generateWithVariable('solver_r2_expt_summary')\"\n",
              "            title=\"Generate code using this dataframe.\"\n",
              "            style=\"display:none;\">\n",
              "\n",
              "  <svg xmlns=\"http://www.w3.org/2000/svg\" height=\"24px\"viewBox=\"0 0 24 24\"\n",
              "       width=\"24px\">\n",
              "    <path d=\"M7,19H8.4L18.45,9,17,7.55,7,17.6ZM5,21V16.75L18.45,3.32a2,2,0,0,1,2.83,0l1.4,1.43a1.91,1.91,0,0,1,.58,1.4,1.91,1.91,0,0,1-.58,1.4L9.25,21ZM18.45,9,17,7.55Zm-12,3A5.31,5.31,0,0,0,4.9,8.1,5.31,5.31,0,0,0,1,6.5,5.31,5.31,0,0,0,4.9,4.9,5.31,5.31,0,0,0,6.5,1,5.31,5.31,0,0,0,8.1,4.9,5.31,5.31,0,0,0,12,6.5,5.46,5.46,0,0,0,6.5,12Z\"/>\n",
              "  </svg>\n",
              "    </button>\n",
              "    <script>\n",
              "      (() => {\n",
              "      const buttonEl =\n",
              "        document.querySelector('#id_cd1b81dd-8fb0-4a02-bb21-1dd7492f520c button.colab-df-generate');\n",
              "      buttonEl.style.display =\n",
              "        google.colab.kernel.accessAllowed ? 'block' : 'none';\n",
              "\n",
              "      buttonEl.onclick = () => {\n",
              "        google.colab.notebook.generateWithVariable('solver_r2_expt_summary');\n",
              "      }\n",
              "      })();\n",
              "    </script>\n",
              "  </div>\n",
              "\n",
              "    </div>\n",
              "  </div>\n"
            ],
            "application/vnd.google.colaboratory.intrinsic+json": {
              "type": "dataframe",
              "variable_name": "solver_r2_expt_summary",
              "summary": "{\n  \"name\": \"solver_r2_expt_summary\",\n  \"rows\": 12,\n  \"fields\": [\n    {\n      \"column\": \"layer\",\n      \"properties\": {\n        \"dtype\": \"number\",\n        \"std\": 3,\n        \"min\": 4,\n        \"max\": 15,\n        \"num_unique_values\": 12,\n        \"samples\": [\n          14,\n          13,\n          4\n        ],\n        \"semantic_type\": \"\",\n        \"description\": \"\"\n      }\n    },\n    {\n      \"column\": \"r2_mean\",\n      \"properties\": {\n        \"dtype\": \"number\",\n        \"std\": 0.8707095303319702,\n        \"min\": -2.7445002585922564,\n        \"max\": 0.2856568002620614,\n        \"num_unique_values\": 12,\n        \"samples\": [\n          -0.7262133554951833,\n          -0.06916734504853217,\n          -0.38948426771658373\n        ],\n        \"semantic_type\": \"\",\n        \"description\": \"\"\n      }\n    },\n    {\n      \"column\": \"r2_std\",\n      \"properties\": {\n        \"dtype\": \"number\",\n        \"std\": null,\n        \"min\": null,\n        \"max\": null,\n        \"num_unique_values\": 0,\n        \"samples\": [],\n        \"semantic_type\": \"\",\n        \"description\": \"\"\n      }\n    },\n    {\n      \"column\": \"spearman_mean\",\n      \"properties\": {\n        \"dtype\": \"number\",\n        \"std\": 0.213027949933692,\n        \"min\": 0.025249112725480204,\n        \"max\": 0.745524505883052,\n        \"num_unique_values\": 12,\n        \"samples\": [],\n        \"semantic_type\": \"\",\n        \"description\": \"\"\n      }\n    },\n    {\n      \"column\": \"spearman_std\",\n      \"properties\": {\n        \"dtype\": \"number\",\n        \"std\": null,\n        \"min\": null,\n        \"max\": null,\n        \"num_unique_values\": 0,\n        \"samples\": [],\n        \"semantic_type\": \"\",\n        \"description\": \"\"\n      }\n    },\n    {\n      \"column\": \"pearson_mean\",\n      \"properties\": {\n        \"dtype\": \"number\",\n        \"std\": 0.1596099305112218,\n        \"min\": 0.03797044077509781,\n        \"max\": 0.5794135040036963,\n        \"num_unique_values\": 12,\n        \"samples\": [],\n        \"semantic_type\": \"\",\n        \"description\": \"\"\n      }\n    },\n    {\n      \"column\": \"pearson_std\",\n      \"properties\": {\n        \"dtype\": \"number\",\n        \"std\": null,\n        \"min\": null,\n        \"max\": null,\n        \"num_unique_values\": 0,\n        \"samples\": [],\n        \"semantic_type\": \"\",\n        \"description\": \"\"\n      }\n    },\n    {\n      \"column\": \"loss_mean\",\n      \"properties\": {\n        \"dtype\": \"number\",\n        \"std\": 0.042982560914846285,\n        \"min\": 0.03526353946662354,\n        \"max\": 0.18484719141671355,\n        \"num_unique_values\": 12,\n        \"samples\": [],\n        \"semantic_type\": \"\",\n        \"description\": \"\"\n      }\n    },\n    {\n      \"column\": \"loss_std\",\n      \"properties\": {\n        \"dtype\": \"number\",\n        \"std\": null,\n        \"min\": null,\n        \"max\": null,\n        \"num_unique_values\": 0,\n        \"samples\": [],\n        \"semantic_type\": \"\",\n        \"description\": \"\"\n      }\n    }\n  ]\n}"
            }
          },
          "metadata": {},
          "execution_count": 13
        }
      ]
    },
    {
      "cell_type": "code",
      "source": [
        "plot_from_summary(solver_r2_expt_summary, incl_extras=True)"
      ],
      "metadata": {
        "colab": {
          "base_uri": "https://localhost:8080/",
          "height": 1000
        },
        "id": "cyq52093RQef",
        "outputId": "c3a5e8c4-9670-4e04-8bd6-12f9dd58035a"
      },
      "execution_count": null,
      "outputs": [
        {
          "output_type": "display_data",
          "data": {
            "text/plain": [
              "<Figure size 800x1600 with 4 Axes>"
            ],
            "image/png": "[encoded data removed]"
          },
          "metadata": {}
        }
      ]
    }
  ]
}