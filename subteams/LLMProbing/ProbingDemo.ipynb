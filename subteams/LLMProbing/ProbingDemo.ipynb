{
  "nbformat": 4,
  "nbformat_minor": 0,
  "metadata": {
    "colab": {
      "provenance": [],
      "authorship_tag": "ABX9TyOdQv6M6sozNvsKuTd/nqvC"
    },
    "kernelspec": {
      "name": "python3",
      "display_name": "Python 3"
    },
    "language_info": {
      "name": "python"
    },
    "widgets": {
      "application/vnd.jupyter.widget-state+json": {
        "5a58b2df50644706b60ac7543baf53b6": {
          "model_module": "@jupyter-widgets/controls",
          "model_name": "HBoxModel",
          "model_module_version": "1.5.0",
          "state": {
            "_dom_classes": [],
            "_model_module": "@jupyter-widgets/controls",
            "_model_module_version": "1.5.0",
            "_model_name": "HBoxModel",
            "_view_count": null,
            "_view_module": "@jupyter-widgets/controls",
            "_view_module_version": "1.5.0",
            "_view_name": "HBoxView",
            "box_style": "",
            "children": [
              "IPY_MODEL_3c52e6a13f224e44a4edaf9be0018309",
              "IPY_MODEL_df9ba03097594cbe9887db4813cf50de",
              "IPY_MODEL_bf0ad2f0a2564d2ebf326ea7a3b4f9ef"
            ],
            "layout": "IPY_MODEL_ec10c7e888ee423e9b2e6e5f213443b9"
          }
        },
        "3c52e6a13f224e44a4edaf9be0018309": {
          "model_module": "@jupyter-widgets/controls",
          "model_name": "HTMLModel",
          "model_module_version": "1.5.0",
          "state": {
            "_dom_classes": [],
            "_model_module": "@jupyter-widgets/controls",
            "_model_module_version": "1.5.0",
            "_model_name": "HTMLModel",
            "_view_count": null,
            "_view_module": "@jupyter-widgets/controls",
            "_view_module_version": "1.5.0",
            "_view_name": "HTMLView",
            "description": "",
            "description_tooltip": null,
            "layout": "IPY_MODEL_5c5d6fa36daf48d7adbfcfabaadf80f4",
            "placeholder": "​",
            "style": "IPY_MODEL_42af75fcd75a49ee8b59dc61bf96a8f6",
            "value": "Generating exponential samples: 100%"
          }
        },
        "df9ba03097594cbe9887db4813cf50de": {
          "model_module": "@jupyter-widgets/controls",
          "model_name": "FloatProgressModel",
          "model_module_version": "1.5.0",
          "state": {
            "_dom_classes": [],
            "_model_module": "@jupyter-widgets/controls",
            "_model_module_version": "1.5.0",
            "_model_name": "FloatProgressModel",
            "_view_count": null,
            "_view_module": "@jupyter-widgets/controls",
            "_view_module_version": "1.5.0",
            "_view_name": "ProgressView",
            "bar_style": "success",
            "description": "",
            "description_tooltip": null,
            "layout": "IPY_MODEL_a34cb2bf1e694b35bddb3f20bac4d067",
            "max": 10,
            "min": 0,
            "orientation": "horizontal",
            "style": "IPY_MODEL_1ef86be888404e2cb7013954766e0f3d",
            "value": 10
          }
        },
        "bf0ad2f0a2564d2ebf326ea7a3b4f9ef": {
          "model_module": "@jupyter-widgets/controls",
          "model_name": "HTMLModel",
          "model_module_version": "1.5.0",
          "state": {
            "_dom_classes": [],
            "_model_module": "@jupyter-widgets/controls",
            "_model_module_version": "1.5.0",
            "_model_name": "HTMLModel",
            "_view_count": null,
            "_view_module": "@jupyter-widgets/controls",
            "_view_module_version": "1.5.0",
            "_view_name": "HTMLView",
            "description": "",
            "description_tooltip": null,
            "layout": "IPY_MODEL_4b2f12b9c3f24fb59c1b50a629983220",
            "placeholder": "​",
            "style": "IPY_MODEL_e716c5fea7654ef6929747b1b188761f",
            "value": " 10/10 [00:00&lt;00:00, 248.82it/s]"
          }
        },
        "ec10c7e888ee423e9b2e6e5f213443b9": {
          "model_module": "@jupyter-widgets/base",
          "model_name": "LayoutModel",
          "model_module_version": "1.2.0",
          "state": {
            "_model_module": "@jupyter-widgets/base",
            "_model_module_version": "1.2.0",
            "_model_name": "LayoutModel",
            "_view_count": null,
            "_view_module": "@jupyter-widgets/base",
            "_view_module_version": "1.2.0",
            "_view_name": "LayoutView",
            "align_content": null,
            "align_items": null,
            "align_self": null,
            "border": null,
            "bottom": null,
            "display": null,
            "flex": null,
            "flex_flow": null,
            "grid_area": null,
            "grid_auto_columns": null,
            "grid_auto_flow": null,
            "grid_auto_rows": null,
            "grid_column": null,
            "grid_gap": null,
            "grid_row": null,
            "grid_template_areas": null,
            "grid_template_columns": null,
            "grid_template_rows": null,
            "height": null,
            "justify_content": null,
            "justify_items": null,
            "left": null,
            "margin": null,
            "max_height": null,
            "max_width": null,
            "min_height": null,
            "min_width": null,
            "object_fit": null,
            "object_position": null,
            "order": null,
            "overflow": null,
            "overflow_x": null,
            "overflow_y": null,
            "padding": null,
            "right": null,
            "top": null,
            "visibility": null,
            "width": null
          }
        },
        "5c5d6fa36daf48d7adbfcfabaadf80f4": {
          "model_module": "@jupyter-widgets/base",
          "model_name": "LayoutModel",
          "model_module_version": "1.2.0",
          "state": {
            "_model_module": "@jupyter-widgets/base",
            "_model_module_version": "1.2.0",
            "_model_name": "LayoutModel",
            "_view_count": null,
            "_view_module": "@jupyter-widgets/base",
            "_view_module_version": "1.2.0",
            "_view_name": "LayoutView",
            "align_content": null,
            "align_items": null,
            "align_self": null,
            "border": null,
            "bottom": null,
            "display": null,
            "flex": null,
            "flex_flow": null,
            "grid_area": null,
            "grid_auto_columns": null,
            "grid_auto_flow": null,
            "grid_auto_rows": null,
            "grid_column": null,
            "grid_gap": null,
            "grid_row": null,
            "grid_template_areas": null,
            "grid_template_columns": null,
            "grid_template_rows": null,
            "height": null,
            "justify_content": null,
            "justify_items": null,
            "left": null,
            "margin": null,
            "max_height": null,
            "max_width": null,
            "min_height": null,
            "min_width": null,
            "object_fit": null,
            "object_position": null,
            "order": null,
            "overflow": null,
            "overflow_x": null,
            "overflow_y": null,
            "padding": null,
            "right": null,
            "top": null,
            "visibility": null,
            "width": null
          }
        },
        "42af75fcd75a49ee8b59dc61bf96a8f6": {
          "model_module": "@jupyter-widgets/controls",
          "model_name": "DescriptionStyleModel",
          "model_module_version": "1.5.0",
          "state": {
            "_model_module": "@jupyter-widgets/controls",
            "_model_module_version": "1.5.0",
            "_model_name": "DescriptionStyleModel",
            "_view_count": null,
            "_view_module": "@jupyter-widgets/base",
            "_view_module_version": "1.2.0",
            "_view_name": "StyleView",
            "description_width": ""
          }
        },
        "a34cb2bf1e694b35bddb3f20bac4d067": {
          "model_module": "@jupyter-widgets/base",
          "model_name": "LayoutModel",
          "model_module_version": "1.2.0",
          "state": {
            "_model_module": "@jupyter-widgets/base",
            "_model_module_version": "1.2.0",
            "_model_name": "LayoutModel",
            "_view_count": null,
            "_view_module": "@jupyter-widgets/base",
            "_view_module_version": "1.2.0",
            "_view_name": "LayoutView",
            "align_content": null,
            "align_items": null,
            "align_self": null,
            "border": null,
            "bottom": null,
            "display": null,
            "flex": null,
            "flex_flow": null,
            "grid_area": null,
            "grid_auto_columns": null,
            "grid_auto_flow": null,
            "grid_auto_rows": null,
            "grid_column": null,
            "grid_gap": null,
            "grid_row": null,
            "grid_template_areas": null,
            "grid_template_columns": null,
            "grid_template_rows": null,
            "height": null,
            "justify_content": null,
            "justify_items": null,
            "left": null,
            "margin": null,
            "max_height": null,
            "max_width": null,
            "min_height": null,
            "min_width": null,
            "object_fit": null,
            "object_position": null,
            "order": null,
            "overflow": null,
            "overflow_x": null,
            "overflow_y": null,
            "padding": null,
            "right": null,
            "top": null,
            "visibility": null,
            "width": null
          }
        },
        "1ef86be888404e2cb7013954766e0f3d": {
          "model_module": "@jupyter-widgets/controls",
          "model_name": "ProgressStyleModel",
          "model_module_version": "1.5.0",
          "state": {
            "_model_module": "@jupyter-widgets/controls",
            "_model_module_version": "1.5.0",
            "_model_name": "ProgressStyleModel",
            "_view_count": null,
            "_view_module": "@jupyter-widgets/base",
            "_view_module_version": "1.2.0",
            "_view_name": "StyleView",
            "bar_color": null,
            "description_width": ""
          }
        },
        "4b2f12b9c3f24fb59c1b50a629983220": {
          "model_module": "@jupyter-widgets/base",
          "model_name": "LayoutModel",
          "model_module_version": "1.2.0",
          "state": {
            "_model_module": "@jupyter-widgets/base",
            "_model_module_version": "1.2.0",
            "_model_name": "LayoutModel",
            "_view_count": null,
            "_view_module": "@jupyter-widgets/base",
            "_view_module_version": "1.2.0",
            "_view_name": "LayoutView",
            "align_content": null,
            "align_items": null,
            "align_self": null,
            "border": null,
            "bottom": null,
            "display": null,
            "flex": null,
            "flex_flow": null,
            "grid_area": null,
            "grid_auto_columns": null,
            "grid_auto_flow": null,
            "grid_auto_rows": null,
            "grid_column": null,
            "grid_gap": null,
            "grid_row": null,
            "grid_template_areas": null,
            "grid_template_columns": null,
            "grid_template_rows": null,
            "height": null,
            "justify_content": null,
            "justify_items": null,
            "left": null,
            "margin": null,
            "max_height": null,
            "max_width": null,
            "min_height": null,
            "min_width": null,
            "object_fit": null,
            "object_position": null,
            "order": null,
            "overflow": null,
            "overflow_x": null,
            "overflow_y": null,
            "padding": null,
            "right": null,
            "top": null,
            "visibility": null,
            "width": null
          }
        },
        "e716c5fea7654ef6929747b1b188761f": {
          "model_module": "@jupyter-widgets/controls",
          "model_name": "DescriptionStyleModel",
          "model_module_version": "1.5.0",
          "state": {
            "_model_module": "@jupyter-widgets/controls",
            "_model_module_version": "1.5.0",
            "_model_name": "DescriptionStyleModel",
            "_view_count": null,
            "_view_module": "@jupyter-widgets/base",
            "_view_module_version": "1.2.0",
            "_view_name": "StyleView",
            "description_width": ""
          }
        },
        "1084989237194d2eb94d974eef583021": {
          "model_module": "@jupyter-widgets/controls",
          "model_name": "HBoxModel",
          "model_module_version": "1.5.0",
          "state": {
            "_dom_classes": [],
            "_model_module": "@jupyter-widgets/controls",
            "_model_module_version": "1.5.0",
            "_model_name": "HBoxModel",
            "_view_count": null,
            "_view_module": "@jupyter-widgets/controls",
            "_view_module_version": "1.5.0",
            "_view_name": "HBoxView",
            "box_style": "",
            "children": [
              "IPY_MODEL_a14ab42cff7243ef8e2ac6ead20c3163",
              "IPY_MODEL_38ae59ffbc834b3d93d3eb22afdca841",
              "IPY_MODEL_864ee1a6fca24ce7b8664799e4da97b3"
            ],
            "layout": "IPY_MODEL_e0570ba78aef48408c7aaa2393cd445f"
          }
        },
        "a14ab42cff7243ef8e2ac6ead20c3163": {
          "model_module": "@jupyter-widgets/controls",
          "model_name": "HTMLModel",
          "model_module_version": "1.5.0",
          "state": {
            "_dom_classes": [],
            "_model_module": "@jupyter-widgets/controls",
            "_model_module_version": "1.5.0",
            "_model_name": "HTMLModel",
            "_view_count": null,
            "_view_module": "@jupyter-widgets/controls",
            "_view_module_version": "1.5.0",
            "_view_name": "HTMLView",
            "description": "",
            "description_tooltip": null,
            "layout": "IPY_MODEL_7719c9c91a87426ca255c041157dcc79",
            "placeholder": "​",
            "style": "IPY_MODEL_013e274a122740388840433c7c9edc84",
            "value": "Generating hyperbolic samples: 100%"
          }
        },
        "38ae59ffbc834b3d93d3eb22afdca841": {
          "model_module": "@jupyter-widgets/controls",
          "model_name": "FloatProgressModel",
          "model_module_version": "1.5.0",
          "state": {
            "_dom_classes": [],
            "_model_module": "@jupyter-widgets/controls",
            "_model_module_version": "1.5.0",
            "_model_name": "FloatProgressModel",
            "_view_count": null,
            "_view_module": "@jupyter-widgets/controls",
            "_view_module_version": "1.5.0",
            "_view_name": "ProgressView",
            "bar_style": "success",
            "description": "",
            "description_tooltip": null,
            "layout": "IPY_MODEL_7bcbb457ab474dc2b25e51d3170824b6",
            "max": 10,
            "min": 0,
            "orientation": "horizontal",
            "style": "IPY_MODEL_74fa10cb2e5b45bd8b7524f5180c9d0e",
            "value": 10
          }
        },
        "864ee1a6fca24ce7b8664799e4da97b3": {
          "model_module": "@jupyter-widgets/controls",
          "model_name": "HTMLModel",
          "model_module_version": "1.5.0",
          "state": {
            "_dom_classes": [],
            "_model_module": "@jupyter-widgets/controls",
            "_model_module_version": "1.5.0",
            "_model_name": "HTMLModel",
            "_view_count": null,
            "_view_module": "@jupyter-widgets/controls",
            "_view_module_version": "1.5.0",
            "_view_name": "HTMLView",
            "description": "",
            "description_tooltip": null,
            "layout": "IPY_MODEL_b41e4c54ecd846fb9a1b872cb5f3067d",
            "placeholder": "​",
            "style": "IPY_MODEL_323c7e1866264e6b99290cf7130bff0f",
            "value": " 10/10 [00:00&lt;00:00, 439.47it/s]"
          }
        },
        "e0570ba78aef48408c7aaa2393cd445f": {
          "model_module": "@jupyter-widgets/base",
          "model_name": "LayoutModel",
          "model_module_version": "1.2.0",
          "state": {
            "_model_module": "@jupyter-widgets/base",
            "_model_module_version": "1.2.0",
            "_model_name": "LayoutModel",
            "_view_count": null,
            "_view_module": "@jupyter-widgets/base",
            "_view_module_version": "1.2.0",
            "_view_name": "LayoutView",
            "align_content": null,
            "align_items": null,
            "align_self": null,
            "border": null,
            "bottom": null,
            "display": null,
            "flex": null,
            "flex_flow": null,
            "grid_area": null,
            "grid_auto_columns": null,
            "grid_auto_flow": null,
            "grid_auto_rows": null,
            "grid_column": null,
            "grid_gap": null,
            "grid_row": null,
            "grid_template_areas": null,
            "grid_template_columns": null,
            "grid_template_rows": null,
            "height": null,
            "justify_content": null,
            "justify_items": null,
            "left": null,
            "margin": null,
            "max_height": null,
            "max_width": null,
            "min_height": null,
            "min_width": null,
            "object_fit": null,
            "object_position": null,
            "order": null,
            "overflow": null,
            "overflow_x": null,
            "overflow_y": null,
            "padding": null,
            "right": null,
            "top": null,
            "visibility": null,
            "width": null
          }
        },
        "7719c9c91a87426ca255c041157dcc79": {
          "model_module": "@jupyter-widgets/base",
          "model_name": "LayoutModel",
          "model_module_version": "1.2.0",
          "state": {
            "_model_module": "@jupyter-widgets/base",
            "_model_module_version": "1.2.0",
            "_model_name": "LayoutModel",
            "_view_count": null,
            "_view_module": "@jupyter-widgets/base",
            "_view_module_version": "1.2.0",
            "_view_name": "LayoutView",
            "align_content": null,
            "align_items": null,
            "align_self": null,
            "border": null,
            "bottom": null,
            "display": null,
            "flex": null,
            "flex_flow": null,
            "grid_area": null,
            "grid_auto_columns": null,
            "grid_auto_flow": null,
            "grid_auto_rows": null,
            "grid_column": null,
            "grid_gap": null,
            "grid_row": null,
            "grid_template_areas": null,
            "grid_template_columns": null,
            "grid_template_rows": null,
            "height": null,
            "justify_content": null,
            "justify_items": null,
            "left": null,
            "margin": null,
            "max_height": null,
            "max_width": null,
            "min_height": null,
            "min_width": null,
            "object_fit": null,
            "object_position": null,
            "order": null,
            "overflow": null,
            "overflow_x": null,
            "overflow_y": null,
            "padding": null,
            "right": null,
            "top": null,
            "visibility": null,
            "width": null
          }
        },
        "013e274a122740388840433c7c9edc84": {
          "model_module": "@jupyter-widgets/controls",
          "model_name": "DescriptionStyleModel",
          "model_module_version": "1.5.0",
          "state": {
            "_model_module": "@jupyter-widgets/controls",
            "_model_module_version": "1.5.0",
            "_model_name": "DescriptionStyleModel",
            "_view_count": null,
            "_view_module": "@jupyter-widgets/base",
            "_view_module_version": "1.2.0",
            "_view_name": "StyleView",
            "description_width": ""
          }
        },
        "7bcbb457ab474dc2b25e51d3170824b6": {
          "model_module": "@jupyter-widgets/base",
          "model_name": "LayoutModel",
          "model_module_version": "1.2.0",
          "state": {
            "_model_module": "@jupyter-widgets/base",
            "_model_module_version": "1.2.0",
            "_model_name": "LayoutModel",
            "_view_count": null,
            "_view_module": "@jupyter-widgets/base",
            "_view_module_version": "1.2.0",
            "_view_name": "LayoutView",
            "align_content": null,
            "align_items": null,
            "align_self": null,
            "border": null,
            "bottom": null,
            "display": null,
            "flex": null,
            "flex_flow": null,
            "grid_area": null,
            "grid_auto_columns": null,
            "grid_auto_flow": null,
            "grid_auto_rows": null,
            "grid_column": null,
            "grid_gap": null,
            "grid_row": null,
            "grid_template_areas": null,
            "grid_template_columns": null,
            "grid_template_rows": null,
            "height": null,
            "justify_content": null,
            "justify_items": null,
            "left": null,
            "margin": null,
            "max_height": null,
            "max_width": null,
            "min_height": null,
            "min_width": null,
            "object_fit": null,
            "object_position": null,
            "order": null,
            "overflow": null,
            "overflow_x": null,
            "overflow_y": null,
            "padding": null,
            "right": null,
            "top": null,
            "visibility": null,
            "width": null
          }
        },
        "74fa10cb2e5b45bd8b7524f5180c9d0e": {
          "model_module": "@jupyter-widgets/controls",
          "model_name": "ProgressStyleModel",
          "model_module_version": "1.5.0",
          "state": {
            "_model_module": "@jupyter-widgets/controls",
            "_model_module_version": "1.5.0",
            "_model_name": "ProgressStyleModel",
            "_view_count": null,
            "_view_module": "@jupyter-widgets/base",
            "_view_module_version": "1.2.0",
            "_view_name": "StyleView",
            "bar_color": null,
            "description_width": ""
          }
        },
        "b41e4c54ecd846fb9a1b872cb5f3067d": {
          "model_module": "@jupyter-widgets/base",
          "model_name": "LayoutModel",
          "model_module_version": "1.2.0",
          "state": {
            "_model_module": "@jupyter-widgets/base",
            "_model_module_version": "1.2.0",
            "_model_name": "LayoutModel",
            "_view_count": null,
            "_view_module": "@jupyter-widgets/base",
            "_view_module_version": "1.2.0",
            "_view_name": "LayoutView",
            "align_content": null,
            "align_items": null,
            "align_self": null,
            "border": null,
            "bottom": null,
            "display": null,
            "flex": null,
            "flex_flow": null,
            "grid_area": null,
            "grid_auto_columns": null,
            "grid_auto_flow": null,
            "grid_auto_rows": null,
            "grid_column": null,
            "grid_gap": null,
            "grid_row": null,
            "grid_template_areas": null,
            "grid_template_columns": null,
            "grid_template_rows": null,
            "height": null,
            "justify_content": null,
            "justify_items": null,
            "left": null,
            "margin": null,
            "max_height": null,
            "max_width": null,
            "min_height": null,
            "min_width": null,
            "object_fit": null,
            "object_position": null,
            "order": null,
            "overflow": null,
            "overflow_x": null,
            "overflow_y": null,
            "padding": null,
            "right": null,
            "top": null,
            "visibility": null,
            "width": null
          }
        },
        "323c7e1866264e6b99290cf7130bff0f": {
          "model_module": "@jupyter-widgets/controls",
          "model_name": "DescriptionStyleModel",
          "model_module_version": "1.5.0",
          "state": {
            "_model_module": "@jupyter-widgets/controls",
            "_model_module_version": "1.5.0",
            "_model_name": "DescriptionStyleModel",
            "_view_count": null,
            "_view_module": "@jupyter-widgets/base",
            "_view_module_version": "1.2.0",
            "_view_name": "StyleView",
            "description_width": ""
          }
        }
      }
    }
  },
  "cells": [
    {
      "cell_type": "code",
      "source": [
        "%pip install torch==2.0.0\n",
        "# Added because the default colab instance now has a newer version of colab\n",
        "# This ended up breaking the following line below:\n",
        "# dstr = SymbolicTransformerRegressor(from_pretrained=True)\n",
        "# This is because PyTorch changed how it loads pickled files"
      ],
      "metadata": {
        "colab": {
          "base_uri": "https://localhost:8080/"
        },
        "id": "0NmiuTkoYRR1",
        "outputId": "db742a23-4a6a-4b4a-8bef-3002d0a8cea0"
      },
      "execution_count": 1,
      "outputs": [
        {
          "output_type": "stream",
          "name": "stdout",
          "text": [
            "Requirement already satisfied: torch==2.0.0 in /usr/local/lib/python3.11/dist-packages (2.0.0)\n",
            "Requirement already satisfied: filelock in /usr/local/lib/python3.11/dist-packages (from torch==2.0.0) (3.17.0)\n",
            "Requirement already satisfied: typing-extensions in /usr/local/lib/python3.11/dist-packages (from torch==2.0.0) (4.12.2)\n",
            "Requirement already satisfied: sympy in /usr/local/lib/python3.11/dist-packages (from torch==2.0.0) (1.13.1)\n",
            "Requirement already satisfied: networkx in /usr/local/lib/python3.11/dist-packages (from torch==2.0.0) (3.4.2)\n",
            "Requirement already satisfied: jinja2 in /usr/local/lib/python3.11/dist-packages (from torch==2.0.0) (3.1.6)\n",
            "Requirement already satisfied: nvidia-cuda-nvrtc-cu11==11.7.99 in /usr/local/lib/python3.11/dist-packages (from torch==2.0.0) (11.7.99)\n",
            "Requirement already satisfied: nvidia-cuda-runtime-cu11==11.7.99 in /usr/local/lib/python3.11/dist-packages (from torch==2.0.0) (11.7.99)\n",
            "Requirement already satisfied: nvidia-cuda-cupti-cu11==11.7.101 in /usr/local/lib/python3.11/dist-packages (from torch==2.0.0) (11.7.101)\n",
            "Requirement already satisfied: nvidia-cudnn-cu11==8.5.0.96 in /usr/local/lib/python3.11/dist-packages (from torch==2.0.0) (8.5.0.96)\n",
            "Requirement already satisfied: nvidia-cublas-cu11==11.10.3.66 in /usr/local/lib/python3.11/dist-packages (from torch==2.0.0) (11.10.3.66)\n",
            "Requirement already satisfied: nvidia-cufft-cu11==10.9.0.58 in /usr/local/lib/python3.11/dist-packages (from torch==2.0.0) (10.9.0.58)\n",
            "Requirement already satisfied: nvidia-curand-cu11==10.2.10.91 in /usr/local/lib/python3.11/dist-packages (from torch==2.0.0) (10.2.10.91)\n",
            "Requirement already satisfied: nvidia-cusolver-cu11==11.4.0.1 in /usr/local/lib/python3.11/dist-packages (from torch==2.0.0) (11.4.0.1)\n",
            "Requirement already satisfied: nvidia-cusparse-cu11==11.7.4.91 in /usr/local/lib/python3.11/dist-packages (from torch==2.0.0) (11.7.4.91)\n",
            "Requirement already satisfied: nvidia-nccl-cu11==2.14.3 in /usr/local/lib/python3.11/dist-packages (from torch==2.0.0) (2.14.3)\n",
            "Requirement already satisfied: nvidia-nvtx-cu11==11.7.91 in /usr/local/lib/python3.11/dist-packages (from torch==2.0.0) (11.7.91)\n",
            "Requirement already satisfied: triton==2.0.0 in /usr/local/lib/python3.11/dist-packages (from torch==2.0.0) (2.0.0)\n",
            "Requirement already satisfied: setuptools in /usr/local/lib/python3.11/dist-packages (from nvidia-cublas-cu11==11.10.3.66->torch==2.0.0) (75.1.0)\n",
            "Requirement already satisfied: wheel in /usr/local/lib/python3.11/dist-packages (from nvidia-cublas-cu11==11.10.3.66->torch==2.0.0) (0.45.1)\n",
            "Requirement already satisfied: cmake in /usr/local/lib/python3.11/dist-packages (from triton==2.0.0->torch==2.0.0) (3.31.6)\n",
            "Requirement already satisfied: lit in /usr/local/lib/python3.11/dist-packages (from triton==2.0.0->torch==2.0.0) (18.1.8)\n",
            "Requirement already satisfied: MarkupSafe>=2.0 in /usr/local/lib/python3.11/dist-packages (from jinja2->torch==2.0.0) (3.0.2)\n",
            "Requirement already satisfied: mpmath<1.4,>=1.1.0 in /usr/local/lib/python3.11/dist-packages (from sympy->torch==2.0.0) (1.3.0)\n"
          ]
        }
      ]
    },
    {
      "cell_type": "code",
      "source": [
        "# give colab permission to access drive\n",
        "from google.colab import drive\n",
        "drive.mount('/content/drive')"
      ],
      "metadata": {
        "colab": {
          "base_uri": "https://localhost:8080/"
        },
        "id": "nm965IrO22Zw",
        "outputId": "2a713a0c-89d9-4607-d174-ed4c816daa04"
      },
      "execution_count": 2,
      "outputs": [
        {
          "output_type": "stream",
          "name": "stdout",
          "text": [
            "Drive already mounted at /content/drive; to attempt to forcibly remount, call drive.mount(\"/content/drive\", force_remount=True).\n"
          ]
        }
      ]
    },
    {
      "cell_type": "code",
      "source": [
        "# Update these as required\n",
        "repo_path = '/content/drive/MyDrive/github/subteams/LLMProbing'\n",
        "odeformer_path = '/content/drive/MyDrive/aisc' # This is because I cloned the odeformer repo into my aisc folder\n",
        "samples_path = '/content/drive/MyDrive/github/subteams/LLMProbing/local_experiment_data/samples'\n",
        "activations_path = '/content/drive/MyDrive/github/subteams/LLMProbing/local_experiment_data/activations'\n",
        "probes_path = '/content/drive/MyDrive/github/subteams/LLMProbing/local_experiment_data/probes'"
      ],
      "metadata": {
        "id": "oMt_fcLwzfl6"
      },
      "execution_count": 3,
      "outputs": []
    },
    {
      "cell_type": "code",
      "source": [
        "import sys\n",
        "import importlib\n",
        "sys.path.append(repo_path)\n",
        "sys.path.append(odeformer_path)"
      ],
      "metadata": {
        "id": "pNqQwNvG28hV"
      },
      "execution_count": 4,
      "outputs": []
    },
    {
      "cell_type": "code",
      "source": [
        "import numpy as np\n",
        "import os\n",
        "import pickle"
      ],
      "metadata": {
        "id": "5RUno2Vs4e_g"
      },
      "execution_count": 5,
      "outputs": []
    },
    {
      "cell_type": "code",
      "source": [
        "from odeformer.model import SymbolicTransformerRegressor\n",
        "dstr = SymbolicTransformerRegressor(from_pretrained=True)"
      ],
      "metadata": {
        "colab": {
          "base_uri": "https://localhost:8080/"
        },
        "id": "fJCeXP3U7LML",
        "outputId": "18361a08-25ad-42e9-b865-d284d77c74dc"
      },
      "execution_count": 6,
      "outputs": [
        {
          "output_type": "stream",
          "name": "stdout",
          "text": [
            "Found pretrained model at odeformer.pt\n",
            "Loaded pretrained model\n"
          ]
        }
      ]
    },
    {
      "cell_type": "code",
      "source": [
        "model_args = {'beam_size': 10, 'beam_temperature': 0.5}\n",
        "dstr.set_model_args(model_args)"
      ],
      "metadata": {
        "id": "SCgVxIyMWD4E"
      },
      "execution_count": 7,
      "outputs": []
    },
    {
      "cell_type": "code",
      "source": [
        "%load_ext autoreload\n",
        "%autoreload 2"
      ],
      "metadata": {
        "id": "XkBDbGPWT1_d"
      },
      "execution_count": 8,
      "outputs": []
    },
    {
      "cell_type": "markdown",
      "source": [
        "## Random Sample Generation"
      ],
      "metadata": {
        "id": "4OANH6idzPaa"
      }
    },
    {
      "cell_type": "code",
      "source": [
        "from src.sample_generation import RandomSamplesGenerator"
      ],
      "metadata": {
        "id": "LNbJcKUB3ES2"
      },
      "execution_count": 9,
      "outputs": []
    },
    {
      "cell_type": "code",
      "source": [
        "operators_to_use = \"id:1,add:1,mul:1,sin:0.5\"\n",
        "min_dimension = 1\n",
        "max_dimension = 1\n",
        "num_samples = 10\n",
        "seed = 42\n",
        "sample_descriptor = 'demo'\n",
        "\n",
        "random_samples_path = f'{samples_path}/demo_random'"
      ],
      "metadata": {
        "id": "5ZdMR6G56J0S"
      },
      "execution_count": 10,
      "outputs": []
    },
    {
      "cell_type": "code",
      "source": [
        "rsg = RandomSamplesGenerator()"
      ],
      "metadata": {
        "id": "MR8m17Ck39QH"
      },
      "execution_count": 11,
      "outputs": []
    },
    {
      "cell_type": "code",
      "source": [
        "rsg.generate_random_samples(random_samples_path, seed=seed, num_samples=num_samples, \\\n",
        "                            operators_to_use=operators_to_use, min_dimension=min_dimension, \\\n",
        "                            max_dimension=max_dimension, sample_descriptor='demo')"
      ],
      "metadata": {
        "colab": {
          "base_uri": "https://localhost:8080/"
        },
        "id": "FaPYyAfR3J4e",
        "outputId": "b558390f-f05f-4e75-df49-06074a24021b"
      },
      "execution_count": 12,
      "outputs": [
        {
          "output_type": "stream",
          "name": "stderr",
          "text": [
            "Generating demo samples: 100%|██████████| 10/10 [00:01<00:00,  5.15it/s]"
          ]
        },
        {
          "output_type": "stream",
          "name": "stdout",
          "text": [
            "\n",
            "[INFO] Data generation complete. Saved 10 demo samples to /content/drive/MyDrive/github/subteams/LLMProbing/local_experiment_data/samples/demo_random\n"
          ]
        },
        {
          "output_type": "stream",
          "name": "stderr",
          "text": [
            "\n"
          ]
        }
      ]
    },
    {
      "cell_type": "code",
      "source": [
        "# Inspect a random sample to see its keys and some data\n",
        "random_samples_dir = os.fsencode(random_samples_path)\n",
        "for random_sample_file in os.listdir(random_samples_dir):\n",
        "  random_sample_name = os.fsdecode(random_sample_file)\n",
        "  random_sample_path = os.path.join(random_samples_path, random_sample_name)\n",
        "  with open(random_sample_path, 'rb') as f:\n",
        "      random_sample = pickle.load(f)\n",
        "  print(random_sample.keys())\n",
        "  print(f\"Encoded equation: {random_sample['tree']}\")\n",
        "  print(f\"Feature dictionary: {random_sample['feature_dict']}\")\n",
        "  break"
      ],
      "metadata": {
        "colab": {
          "base_uri": "https://localhost:8080/"
        },
        "id": "eMz8dSe-4AS1",
        "outputId": "2f3c50ec-bc32-4dbd-c6f6-4bfc813104f0"
      },
      "execution_count": 13,
      "outputs": [
        {
          "output_type": "stream",
          "name": "stdout",
          "text": [
            "dict_keys(['times', 'trajectory', 'tree_encoded', 'skeleton_tree_encoded', 'tree', 'skeleton_tree', 'infos', 'operator_dict', 'feature_dict'])\n",
            "Encoded equation: -0.9998 * x_0\n",
            "Feature dictionary: {'log': 0, 'exp': 0, 'tan': 0, 'arctan': 0, 'sin_cos': 0, 'arc_sin_cos': 0, 'pow2': 0, 'pow3': 0, 'inv': 0, 'sqrt': 0}\n"
          ]
        }
      ]
    },
    {
      "cell_type": "markdown",
      "source": [
        "## Manual Sample Generation"
      ],
      "metadata": {
        "id": "x3OpISsvzN25"
      }
    },
    {
      "cell_type": "code",
      "source": [
        "from src.sample_generation import ManualSamplesGenerator"
      ],
      "metadata": {
        "id": "4d-5VwP7cBad"
      },
      "execution_count": 14,
      "outputs": []
    },
    {
      "cell_type": "code",
      "source": [
        "manual_samples_path = f'{samples_path}/demo_manual'\n",
        "msg = ManualSamplesGenerator(samples_path=manual_samples_path)"
      ],
      "metadata": {
        "id": "5GoSjUZezTbY"
      },
      "execution_count": 15,
      "outputs": []
    },
    {
      "cell_type": "code",
      "source": [
        "# Times array\n",
        "t_values = np.linspace(1, 10, 50)\n",
        "\n",
        "# Exponential parameters\n",
        "c_values = np.linspace(-10,10, 2)\n",
        "a_values = np.linspace(-10,10, 5)\n",
        "\n",
        "# Hyperbolic parameters\n",
        "t0_values = np.linspace(10.1, 100, 5)"
      ],
      "metadata": {
        "id": "7waihYWV4KLN"
      },
      "execution_count": 16,
      "outputs": []
    },
    {
      "cell_type": "code",
      "source": [
        "# Generate exponential samples\n",
        "msg.generate_exponential_samples(t_values, c_values, a_values)"
      ],
      "metadata": {
        "colab": {
          "base_uri": "https://localhost:8080/",
          "height": 101,
          "referenced_widgets": [
            "5a58b2df50644706b60ac7543baf53b6",
            "3c52e6a13f224e44a4edaf9be0018309",
            "df9ba03097594cbe9887db4813cf50de",
            "bf0ad2f0a2564d2ebf326ea7a3b4f9ef",
            "ec10c7e888ee423e9b2e6e5f213443b9",
            "5c5d6fa36daf48d7adbfcfabaadf80f4",
            "42af75fcd75a49ee8b59dc61bf96a8f6",
            "a34cb2bf1e694b35bddb3f20bac4d067",
            "1ef86be888404e2cb7013954766e0f3d",
            "4b2f12b9c3f24fb59c1b50a629983220",
            "e716c5fea7654ef6929747b1b188761f"
          ]
        },
        "id": "E4Buw9n65sr-",
        "outputId": "33e044f1-e385-4808-80f1-dc4ed537f971"
      },
      "execution_count": 17,
      "outputs": [
        {
          "output_type": "display_data",
          "data": {
            "text/plain": [
              "Generating exponential samples:   0%|          | 0/10 [00:00<?, ?it/s]"
            ],
            "application/vnd.jupyter.widget-view+json": {
              "version_major": 2,
              "version_minor": 0,
              "model_id": "5a58b2df50644706b60ac7543baf53b6"
            }
          },
          "metadata": {}
        },
        {
          "output_type": "stream",
          "name": "stderr",
          "text": [
            "Saving generated samples: 10it [00:00, 94.72it/s]"
          ]
        },
        {
          "output_type": "stream",
          "name": "stdout",
          "text": [
            "\n",
            "[INFO] Data generation complete. Saved 10 exponential samples to /content/drive/MyDrive/github/subteams/LLMProbing/local_experiment_data/samples/demo_manual\n"
          ]
        },
        {
          "output_type": "stream",
          "name": "stderr",
          "text": [
            "\n"
          ]
        }
      ]
    },
    {
      "cell_type": "code",
      "source": [
        "# Inspect an exponential sample to see its keys and some data\n",
        "manual_samples_dir = os.fsencode(manual_samples_path)\n",
        "for sample_file in os.listdir(manual_samples_dir):\n",
        "  sample_name = os.fsdecode(sample_file)\n",
        "  if \"exp\" in sample_name:\n",
        "    exp_sample_path = os.path.join(manual_samples_path, sample_name)\n",
        "    with open(exp_sample_path, 'rb') as f:\n",
        "        exp_sample = pickle.load(f)\n",
        "    print(exp_sample.keys())\n",
        "    print(exp_sample['expression'])\n",
        "    print(exp_sample['feature_dict'])\n",
        "    break"
      ],
      "metadata": {
        "colab": {
          "base_uri": "https://localhost:8080/"
        },
        "id": "cDBNG5ZC6hP0",
        "outputId": "59edec8c-1f64-4bee-f1e9-a6d10d7c2dd7"
      },
      "execution_count": 18,
      "outputs": [
        {
          "output_type": "stream",
          "name": "stdout",
          "text": [
            "dict_keys(['times', 'trajectory', 'parameters', 'feature_dict', 'expression'])\n",
            "-10.0 * np.exp(10.0 * t)\n",
            "{'exponential': 1, 'hyperbolic': 0}\n"
          ]
        }
      ]
    },
    {
      "cell_type": "code",
      "source": [
        "# Generate hyperbolic samples\n",
        "msg.generate_hyperbolic_samples(t_values, c_values, t0_values)"
      ],
      "metadata": {
        "colab": {
          "base_uri": "https://localhost:8080/",
          "height": 101,
          "referenced_widgets": [
            "1084989237194d2eb94d974eef583021",
            "a14ab42cff7243ef8e2ac6ead20c3163",
            "38ae59ffbc834b3d93d3eb22afdca841",
            "864ee1a6fca24ce7b8664799e4da97b3",
            "e0570ba78aef48408c7aaa2393cd445f",
            "7719c9c91a87426ca255c041157dcc79",
            "013e274a122740388840433c7c9edc84",
            "7bcbb457ab474dc2b25e51d3170824b6",
            "74fa10cb2e5b45bd8b7524f5180c9d0e",
            "b41e4c54ecd846fb9a1b872cb5f3067d",
            "323c7e1866264e6b99290cf7130bff0f"
          ]
        },
        "id": "-M2ADfC236CP",
        "outputId": "2c86f5bb-8235-4cef-f447-54318c037f5a"
      },
      "execution_count": 19,
      "outputs": [
        {
          "output_type": "display_data",
          "data": {
            "text/plain": [
              "Generating hyperbolic samples:   0%|          | 0/10 [00:00<?, ?it/s]"
            ],
            "application/vnd.jupyter.widget-view+json": {
              "version_major": 2,
              "version_minor": 0,
              "model_id": "1084989237194d2eb94d974eef583021"
            }
          },
          "metadata": {}
        },
        {
          "output_type": "stream",
          "name": "stderr",
          "text": [
            "Saving generated samples: 10it [00:00, 72.52it/s]"
          ]
        },
        {
          "output_type": "stream",
          "name": "stdout",
          "text": [
            "\n",
            "[INFO] Data generation complete. Saved 10 hyperbolic samples to /content/drive/MyDrive/github/subteams/LLMProbing/local_experiment_data/samples/demo_manual\n"
          ]
        },
        {
          "output_type": "stream",
          "name": "stderr",
          "text": [
            "\n"
          ]
        }
      ]
    },
    {
      "cell_type": "code",
      "source": [
        "# Inspect a hyperbolic sample to see its keys and some data\n",
        "manual_samples_dir = os.fsencode(manual_samples_path)\n",
        "for sample_file in os.listdir(manual_samples_dir):\n",
        "  sample_name = os.fsdecode(sample_file)\n",
        "  if \"hyp\" in sample_name:\n",
        "    hyp_sample_path = os.path.join(manual_samples_path, sample_name)\n",
        "    with open(hyp_sample_path, 'rb') as f:\n",
        "        hyp_sample = pickle.load(f)\n",
        "    print(hyp_sample.keys())\n",
        "    print(hyp_sample['expression'])\n",
        "    print(hyp_sample['parameters'])\n",
        "    print(hyp_sample['feature_dict'])\n",
        "    break"
      ],
      "metadata": {
        "colab": {
          "base_uri": "https://localhost:8080/"
        },
        "id": "FhZoC-MM6dsq",
        "outputId": "adb4beba-a8cf-4fa7-efdc-1a08bd05fc57"
      },
      "execution_count": 20,
      "outputs": [
        {
          "output_type": "stream",
          "name": "stdout",
          "text": [
            "dict_keys(['times', 'trajectory', 'parameters', 'feature_dict', 'expression'])\n",
            "-10.0 / (10.1-t)\n",
            "{'t0': 10.1, 'c': -10.0}\n",
            "{'exponential': 0, 'hyperbolic': 1}\n"
          ]
        }
      ]
    },
    {
      "cell_type": "markdown",
      "source": [
        "## Corresponding Activations Extraction"
      ],
      "metadata": {
        "id": "frWKyg3szUQx"
      }
    },
    {
      "cell_type": "code",
      "source": [
        "from src.activation_extraction import ActivationsExtractor"
      ],
      "metadata": {
        "id": "gV07FbFXzYy_"
      },
      "execution_count": 21,
      "outputs": []
    },
    {
      "cell_type": "code",
      "source": [
        "random_activations_path = f'{activations_path}/demo_random'\n",
        "manual_activations_path = f'{activations_path}/demo_manual'"
      ],
      "metadata": {
        "id": "93-zzRtQIshT"
      },
      "execution_count": 22,
      "outputs": []
    },
    {
      "cell_type": "code",
      "source": [
        "act_extractor = ActivationsExtractor()"
      ],
      "metadata": {
        "id": "wqT_igPg6wvD"
      },
      "execution_count": 23,
      "outputs": []
    },
    {
      "cell_type": "code",
      "source": [
        "act_extractor.extract_activations(dstr, random_samples_path, random_activations_path, layers_to_extract=['ffn'])"
      ],
      "metadata": {
        "colab": {
          "base_uri": "https://localhost:8080/"
        },
        "id": "W4Ind3Yx-b3x",
        "outputId": "89e7e01d-8d77-402a-e59c-6bdf01d4312a"
      },
      "execution_count": 24,
      "outputs": [
        {
          "output_type": "stream",
          "name": "stderr",
          "text": [
            "\rExtracting Activations:   0%|          | 0/10 [00:00<?, ?it/s]"
          ]
        },
        {
          "output_type": "stream",
          "name": "stdout",
          "text": [
            "\n",
            "Processing sample: demo_534895718\n"
          ]
        },
        {
          "output_type": "stream",
          "name": "stderr",
          "text": [
            "\rExtracting Activations:  10%|█         | 1/10 [00:02<00:20,  2.26s/it]"
          ]
        },
        {
          "output_type": "stream",
          "name": "stdout",
          "text": [
            "\n",
            "Processing sample: demo_199900595\n"
          ]
        },
        {
          "output_type": "stream",
          "name": "stderr",
          "text": [
            "\rExtracting Activations:  20%|██        | 2/10 [00:05<00:22,  2.79s/it]"
          ]
        },
        {
          "output_type": "stream",
          "name": "stdout",
          "text": [
            "\n",
            "Processing sample: demo_862061404\n"
          ]
        },
        {
          "output_type": "stream",
          "name": "stderr",
          "text": [
            "\rExtracting Activations:  30%|███       | 3/10 [00:07<00:16,  2.33s/it]"
          ]
        },
        {
          "output_type": "stream",
          "name": "stdout",
          "text": [
            "\n",
            "Processing sample: demo_787846414\n"
          ]
        },
        {
          "output_type": "stream",
          "name": "stderr",
          "text": [
            "\rExtracting Activations:  40%|████      | 4/10 [00:09<00:14,  2.47s/it]"
          ]
        },
        {
          "output_type": "stream",
          "name": "stdout",
          "text": [
            "\n",
            "Processing sample: demo_996406378\n"
          ]
        },
        {
          "output_type": "stream",
          "name": "stderr",
          "text": [
            "\rExtracting Activations:  50%|█████     | 5/10 [00:11<00:10,  2.17s/it]"
          ]
        },
        {
          "output_type": "stream",
          "name": "stdout",
          "text": [
            "\n",
            "Processing sample: demo_127521863\n"
          ]
        },
        {
          "output_type": "stream",
          "name": "stderr",
          "text": [
            "\rExtracting Activations:  60%|██████    | 6/10 [00:15<00:10,  2.65s/it]"
          ]
        },
        {
          "output_type": "stream",
          "name": "stdout",
          "text": [
            "\n",
            "Processing sample: demo_423734972\n"
          ]
        },
        {
          "output_type": "stream",
          "name": "stderr",
          "text": [
            "\rExtracting Activations:  70%|███████   | 7/10 [00:16<00:06,  2.15s/it]"
          ]
        },
        {
          "output_type": "stream",
          "name": "stdout",
          "text": [
            "\n",
            "Processing sample: demo_415968276\n"
          ]
        },
        {
          "output_type": "stream",
          "name": "stderr",
          "text": [
            "\rExtracting Activations:  80%|████████  | 8/10 [00:19<00:05,  2.60s/it]"
          ]
        },
        {
          "output_type": "stream",
          "name": "stdout",
          "text": [
            "\n",
            "Processing sample: demo_670094950\n"
          ]
        },
        {
          "output_type": "stream",
          "name": "stderr",
          "text": [
            "\rExtracting Activations:  90%|█████████ | 9/10 [00:22<00:02,  2.72s/it]"
          ]
        },
        {
          "output_type": "stream",
          "name": "stdout",
          "text": [
            "\n",
            "Processing sample: demo_841095289\n"
          ]
        },
        {
          "output_type": "stream",
          "name": "stderr",
          "text": [
            "Extracting Activations: 100%|██████████| 10/10 [00:25<00:00,  2.54s/it]"
          ]
        },
        {
          "output_type": "stream",
          "name": "stdout",
          "text": [
            "\n",
            "[INFO] Activation extraction complete. Activations saved to /content/drive/MyDrive/github/subteams/LLMProbing/local_experiment_data/activations/demo_random\n"
          ]
        },
        {
          "output_type": "stream",
          "name": "stderr",
          "text": [
            "\n"
          ]
        }
      ]
    },
    {
      "cell_type": "code",
      "source": [
        "act_extractor.extract_activations(dstr, manual_samples_path, manual_activations_path, layers_to_extract=['ffn'])"
      ],
      "metadata": {
        "colab": {
          "base_uri": "https://localhost:8080/"
        },
        "id": "SLMfIh5nI7hH",
        "outputId": "51d56f7e-b9fc-450f-9243-ebb8647d2117"
      },
      "execution_count": 25,
      "outputs": [
        {
          "output_type": "stream",
          "name": "stderr",
          "text": [
            "\rExtracting Activations:   0%|          | 0/20 [00:00<?, ?it/s]"
          ]
        },
        {
          "output_type": "stream",
          "name": "stdout",
          "text": [
            "\n",
            "Processing sample: exp_0\n"
          ]
        },
        {
          "output_type": "stream",
          "name": "stderr",
          "text": [
            "\rExtracting Activations:   5%|▌         | 1/20 [00:04<01:26,  4.56s/it]"
          ]
        },
        {
          "output_type": "stream",
          "name": "stdout",
          "text": [
            "\n",
            "Processing sample: exp_1\n"
          ]
        },
        {
          "output_type": "stream",
          "name": "stderr",
          "text": [
            "\rExtracting Activations:  10%|█         | 2/20 [00:15<02:32,  8.46s/it]"
          ]
        },
        {
          "output_type": "stream",
          "name": "stdout",
          "text": [
            "\n",
            "Processing sample: exp_2\n"
          ]
        },
        {
          "output_type": "stream",
          "name": "stderr",
          "text": [
            "\rExtracting Activations:  15%|█▌        | 3/20 [00:19<01:48,  6.38s/it]"
          ]
        },
        {
          "output_type": "stream",
          "name": "stdout",
          "text": [
            "\n",
            "Processing sample: exp_3\n"
          ]
        },
        {
          "output_type": "stream",
          "name": "stderr",
          "text": [
            "\rExtracting Activations:  20%|██        | 4/20 [00:28<01:55,  7.20s/it]"
          ]
        },
        {
          "output_type": "stream",
          "name": "stdout",
          "text": [
            "\n",
            "Processing sample: exp_4\n"
          ]
        },
        {
          "output_type": "stream",
          "name": "stderr",
          "text": [
            "\rExtracting Activations:  25%|██▌       | 5/20 [00:35<01:51,  7.43s/it]"
          ]
        },
        {
          "output_type": "stream",
          "name": "stdout",
          "text": [
            "\n",
            "Processing sample: exp_5\n"
          ]
        },
        {
          "output_type": "stream",
          "name": "stderr",
          "text": [
            "\rExtracting Activations:  30%|███       | 6/20 [00:41<01:33,  6.67s/it]"
          ]
        },
        {
          "output_type": "stream",
          "name": "stdout",
          "text": [
            "\n",
            "Processing sample: exp_6\n"
          ]
        },
        {
          "output_type": "stream",
          "name": "stderr",
          "text": [
            "\rExtracting Activations:  35%|███▌      | 7/20 [00:52<01:47,  8.30s/it]"
          ]
        },
        {
          "output_type": "stream",
          "name": "stdout",
          "text": [
            "\n",
            "Processing sample: exp_7\n"
          ]
        },
        {
          "output_type": "stream",
          "name": "stderr",
          "text": [
            "\rExtracting Activations:  40%|████      | 8/20 [00:57<01:27,  7.31s/it]"
          ]
        },
        {
          "output_type": "stream",
          "name": "stdout",
          "text": [
            "\n",
            "Processing sample: exp_8\n"
          ]
        },
        {
          "output_type": "stream",
          "name": "stderr",
          "text": [
            "\rExtracting Activations:  45%|████▌     | 9/20 [01:06<01:23,  7.62s/it]"
          ]
        },
        {
          "output_type": "stream",
          "name": "stdout",
          "text": [
            "\n",
            "Processing sample: exp_9\n"
          ]
        },
        {
          "output_type": "stream",
          "name": "stderr",
          "text": [
            "\rExtracting Activations:  50%|█████     | 10/20 [01:15<01:19,  7.98s/it]"
          ]
        },
        {
          "output_type": "stream",
          "name": "stdout",
          "text": [
            "\n",
            "Processing sample: hyp_0\n"
          ]
        },
        {
          "output_type": "stream",
          "name": "stderr",
          "text": [
            "\rExtracting Activations:  55%|█████▌    | 11/20 [01:16<00:53,  5.91s/it]"
          ]
        },
        {
          "output_type": "stream",
          "name": "stdout",
          "text": [
            "\n",
            "Processing sample: hyp_1\n"
          ]
        },
        {
          "output_type": "stream",
          "name": "stderr",
          "text": [
            "\rExtracting Activations:  60%|██████    | 12/20 [01:17<00:34,  4.37s/it]"
          ]
        },
        {
          "output_type": "stream",
          "name": "stdout",
          "text": [
            "\n",
            "Processing sample: hyp_2\n"
          ]
        },
        {
          "output_type": "stream",
          "name": "stderr",
          "text": [
            "\rExtracting Activations:  65%|██████▌   | 13/20 [01:18<00:23,  3.37s/it]"
          ]
        },
        {
          "output_type": "stream",
          "name": "stdout",
          "text": [
            "\n",
            "Processing sample: hyp_3\n"
          ]
        },
        {
          "output_type": "stream",
          "name": "stderr",
          "text": [
            "\rExtracting Activations:  70%|███████   | 14/20 [01:21<00:19,  3.29s/it]"
          ]
        },
        {
          "output_type": "stream",
          "name": "stdout",
          "text": [
            "\n",
            "Processing sample: hyp_4\n"
          ]
        },
        {
          "output_type": "stream",
          "name": "stderr",
          "text": [
            "\rExtracting Activations:  75%|███████▌  | 15/20 [01:25<00:17,  3.55s/it]"
          ]
        },
        {
          "output_type": "stream",
          "name": "stdout",
          "text": [
            "\n",
            "Processing sample: hyp_5\n"
          ]
        },
        {
          "output_type": "stream",
          "name": "stderr",
          "text": [
            "\rExtracting Activations:  80%|████████  | 16/20 [01:26<00:11,  2.86s/it]"
          ]
        },
        {
          "output_type": "stream",
          "name": "stdout",
          "text": [
            "\n",
            "Processing sample: hyp_6\n"
          ]
        },
        {
          "output_type": "stream",
          "name": "stderr",
          "text": [
            "\rExtracting Activations:  85%|████████▌ | 17/20 [01:27<00:06,  2.25s/it]"
          ]
        },
        {
          "output_type": "stream",
          "name": "stdout",
          "text": [
            "\n",
            "Processing sample: hyp_7\n"
          ]
        },
        {
          "output_type": "stream",
          "name": "stderr",
          "text": [
            "\rExtracting Activations:  90%|█████████ | 18/20 [01:28<00:03,  1.90s/it]"
          ]
        },
        {
          "output_type": "stream",
          "name": "stdout",
          "text": [
            "\n",
            "Processing sample: hyp_8\n"
          ]
        },
        {
          "output_type": "stream",
          "name": "stderr",
          "text": [
            "\rExtracting Activations:  95%|█████████▌| 19/20 [01:31<00:02,  2.22s/it]"
          ]
        },
        {
          "output_type": "stream",
          "name": "stdout",
          "text": [
            "\n",
            "Processing sample: hyp_9\n"
          ]
        },
        {
          "output_type": "stream",
          "name": "stderr",
          "text": [
            "Extracting Activations: 100%|██████████| 20/20 [01:34<00:00,  4.73s/it]"
          ]
        },
        {
          "output_type": "stream",
          "name": "stdout",
          "text": [
            "\n",
            "[INFO] Activation extraction complete. Activations saved to /content/drive/MyDrive/github/subteams/LLMProbing/local_experiment_data/activations/demo_manual\n"
          ]
        },
        {
          "output_type": "stream",
          "name": "stderr",
          "text": [
            "\n"
          ]
        }
      ]
    },
    {
      "cell_type": "code",
      "source": [
        "# Inspect a random activation and display its keys and some values\n",
        "random_acts_dir = os.fsencode(random_activations_path)\n",
        "for acts_file in os.listdir(random_acts_dir):\n",
        "  acts_name = os.fsdecode(acts_file)\n",
        "  random_acts_path = os.path.join(random_activations_path, acts_name)\n",
        "  with open(random_acts_path, 'rb') as f:\n",
        "      random_acts = pickle.load(f)\n",
        "  print(random_acts.keys())\n",
        "  print(random_acts['feature_dict'])\n",
        "  print(random_acts['r2_score'])\n",
        "  print(random_acts['expression'])\n",
        "  print(random_acts['pred_expression'])\n",
        "  break"
      ],
      "metadata": {
        "colab": {
          "base_uri": "https://localhost:8080/"
        },
        "id": "vcaqVrXl_VbH",
        "outputId": "929ee6ba-0817-4e34-b7c5-bf66fe34d2d6"
      },
      "execution_count": 26,
      "outputs": [
        {
          "output_type": "stream",
          "name": "stdout",
          "text": [
            "dict_keys(['encoder', 'decoder', 'operator_dict', 'feature_dict', 'r2_score', 'pred_expression', 'expression'])\n",
            "{'log': 0, 'exp': 0, 'tan': 0, 'arctan': 0, 'sin_cos': 0, 'arc_sin_cos': 0, 'pow2': 0, 'pow3': 0, 'inv': 0, 'sqrt': 0}\n",
            "0.9999999755587363\n",
            "-0.9998 * x_0\n",
            "x_0' = -1.0000000000000000 * x_0\n",
            "\n"
          ]
        }
      ]
    },
    {
      "cell_type": "code",
      "source": [
        "# Inspect a manual activation and display its keys and some values\n",
        "manual_acts_dir = os.fsencode(manual_activations_path)\n",
        "for acts_file in os.listdir(manual_acts_dir):\n",
        "  acts_name = os.fsdecode(acts_file)\n",
        "  manual_acts_path = os.path.join(manual_activations_path, acts_name)\n",
        "  with open(manual_acts_path, 'rb') as f:\n",
        "      manual_acts = pickle.load(f)\n",
        "  print(manual_acts.keys())\n",
        "  print(manual_acts['feature_dict'])\n",
        "  print(manual_acts['r2_score'])\n",
        "  print(manual_acts['expression'])\n",
        "  print(manual_acts['pred_expression'])\n",
        "  break"
      ],
      "metadata": {
        "id": "AOeQAVnUJotp",
        "colab": {
          "base_uri": "https://localhost:8080/"
        },
        "outputId": "4c93b4ec-9037-46ce-a3d7-a8c9f623669a"
      },
      "execution_count": 27,
      "outputs": [
        {
          "output_type": "stream",
          "name": "stdout",
          "text": [
            "dict_keys(['encoder', 'decoder', 'feature_dict', 'r2_score', 'pred_expression', 'expression'])\n",
            "{'exponential': 1, 'hyperbolic': 0}\n",
            "-0.028363800080476453\n",
            "-10.0 * np.exp(10.0 * t)\n",
            "x_0' = 3.5986289978027344 * x_0\n",
            "\n"
          ]
        }
      ]
    },
    {
      "cell_type": "markdown",
      "source": [
        "## Probe Training"
      ],
      "metadata": {
        "id": "LLY7KIPHzZrh"
      }
    },
    {
      "cell_type": "code",
      "source": [
        "import experiments"
      ],
      "metadata": {
        "id": "Elin36J0sfCF"
      },
      "execution_count": 28,
      "outputs": []
    },
    {
      "cell_type": "code",
      "source": [
        "dir(experiments)\n",
        "# Current experiment functions supported:\n",
        "#   - separability_testing"
      ],
      "metadata": {
        "colab": {
          "base_uri": "https://localhost:8080/"
        },
        "id": "dGFAdbmksgr4",
        "outputId": "f612f77d-4c37-473e-86d0-6728aa914df0"
      },
      "execution_count": 29,
      "outputs": [
        {
          "output_type": "execute_result",
          "data": {
            "text/plain": [
              "['__all__',\n",
              " '__builtins__',\n",
              " '__cached__',\n",
              " '__doc__',\n",
              " '__file__',\n",
              " '__loader__',\n",
              " '__name__',\n",
              " '__package__',\n",
              " '__path__',\n",
              " '__spec__',\n",
              " 'run_experiment',\n",
              " 'separability_testing']"
            ]
          },
          "metadata": {},
          "execution_count": 29
        }
      ]
    },
    {
      "cell_type": "code",
      "source": [
        "target_feature = 'exponential'\n",
        "activations_path = manual_activations_path\n",
        "demo_probes_path = f'{probes_path}/demo_exp'\n",
        "lr = 0.01\n",
        "num_epochs = 1\n",
        "num_repeats = 2\n",
        "layers = [idx for idx in range(16)]"
      ],
      "metadata": {
        "id": "4k6snzo5fm-6"
      },
      "execution_count": 30,
      "outputs": []
    },
    {
      "cell_type": "code",
      "source": [
        "demo_expt_results = experiments.separability_testing(target_feature=target_feature, activations_path=manual_activations_path, \\\n",
        "                     probes_path=demo_probes_path, \\\n",
        "                     lr=lr, num_epochs=num_epochs, \\\n",
        "                     layers=layers, num_repeats=num_repeats)"
      ],
      "metadata": {
        "id": "Sgr-mGCVhJG7",
        "colab": {
          "base_uri": "https://localhost:8080/"
        },
        "outputId": "e61951f1-7d4d-4be2-914a-0616c4ab43cc"
      },
      "execution_count": 31,
      "outputs": [
        {
          "output_type": "stream",
          "name": "stdout",
          "text": [
            "Repeat 0 of layer 0\n"
          ]
        },
        {
          "output_type": "stream",
          "name": "stderr",
          "text": [
            "\n",
            "Training LR Probe:   0%|          | 0/1 [00:00<?, ?it/s]\n",
            "Training LR Probe: 100%|██████████| 1/1 [00:00<00:00,  4.85it/s]\n",
            "Training LR Probe: 100%|██████████| 1/1 [00:00<00:00,  4.77it/s]\n"
          ]
        },
        {
          "output_type": "stream",
          "name": "stdout",
          "text": [
            "\n",
            "Training Set (Epoch 1 - Final): Loss 0.04819266125559807, Accuracy 0.4375\n",
            "Probe trained on layer 0: Test Set Loss 11.957834243774414, Test Set Accuracy 0.5\n",
            "Saved state dictionary to /content/drive/MyDrive/github/subteams/LLMProbing/local_experiment_data/probes/demo_exp/probe_exponential_0_0.pt\n",
            "Repeat 1 of layer 0\n"
          ]
        },
        {
          "output_type": "stream",
          "name": "stderr",
          "text": [
            "\n",
            "Training LR Probe:   0%|          | 0/1 [00:00<?, ?it/s]\n",
            "Training LR Probe: 100%|██████████| 1/1 [00:00<00:00,  7.52it/s]\n",
            "Training LR Probe: 100%|██████████| 1/1 [00:00<00:00,  7.36it/s]\n"
          ]
        },
        {
          "output_type": "stream",
          "name": "stdout",
          "text": [
            "\n",
            "Training Set (Epoch 1 - Final): Loss 0.04455079138278961, Accuracy 0.25\n",
            "Probe trained on layer 0: Test Set Loss 4.183528900146484, Test Set Accuracy 0.5\n",
            "Saved state dictionary to /content/drive/MyDrive/github/subteams/LLMProbing/local_experiment_data/probes/demo_exp/probe_exponential_0_1.pt\n",
            "Repeat 0 of layer 1\n"
          ]
        },
        {
          "output_type": "stream",
          "name": "stderr",
          "text": [
            "\n",
            "Training LR Probe:   0%|          | 0/1 [00:00<?, ?it/s]\n",
            "Training LR Probe: 100%|██████████| 1/1 [00:00<00:00,  7.86it/s]\n",
            "Training LR Probe: 100%|██████████| 1/1 [00:00<00:00,  7.69it/s]\n"
          ]
        },
        {
          "output_type": "stream",
          "name": "stdout",
          "text": [
            "\n",
            "Training Set (Epoch 1 - Final): Loss 0.04939766600728035, Accuracy 0.1875\n",
            "Probe trained on layer 1: Test Set Loss 1.5718964338302612, Test Set Accuracy 0.5\n",
            "Saved state dictionary to /content/drive/MyDrive/github/subteams/LLMProbing/local_experiment_data/probes/demo_exp/probe_exponential_1_0.pt\n",
            "Repeat 1 of layer 1\n"
          ]
        },
        {
          "output_type": "stream",
          "name": "stderr",
          "text": [
            "\n",
            "Training LR Probe:   0%|          | 0/1 [00:00<?, ?it/s]\n",
            "Training LR Probe: 100%|██████████| 1/1 [00:00<00:00,  5.56it/s]\n",
            "Training LR Probe: 100%|██████████| 1/1 [00:00<00:00,  5.50it/s]\n"
          ]
        },
        {
          "output_type": "stream",
          "name": "stdout",
          "text": [
            "\n",
            "Training Set (Epoch 1 - Final): Loss 0.045941226184368134, Accuracy 0.4375\n",
            "Probe trained on layer 1: Test Set Loss 0.5813103914260864, Test Set Accuracy 0.5\n",
            "Saved state dictionary to /content/drive/MyDrive/github/subteams/LLMProbing/local_experiment_data/probes/demo_exp/probe_exponential_1_1.pt\n",
            "Repeat 0 of layer 2\n"
          ]
        },
        {
          "output_type": "stream",
          "name": "stderr",
          "text": [
            "\n",
            "Training LR Probe:   0%|          | 0/1 [00:00<?, ?it/s]\n",
            "Training LR Probe: 100%|██████████| 1/1 [00:00<00:00,  6.53it/s]\n",
            "Training LR Probe: 100%|██████████| 1/1 [00:00<00:00,  6.40it/s]\n"
          ]
        },
        {
          "output_type": "stream",
          "name": "stdout",
          "text": [
            "\n",
            "Training Set (Epoch 1 - Final): Loss 0.051025841385126114, Accuracy 0.625\n",
            "Probe trained on layer 2: Test Set Loss 4.076800769325928e-05, Test Set Accuracy 1.0\n",
            "Saved state dictionary to /content/drive/MyDrive/github/subteams/LLMProbing/local_experiment_data/probes/demo_exp/probe_exponential_2_0.pt\n",
            "Repeat 1 of layer 2\n"
          ]
        },
        {
          "output_type": "stream",
          "name": "stderr",
          "text": [
            "\n",
            "Training LR Probe:   0%|          | 0/1 [00:00<?, ?it/s]\n",
            "Training LR Probe: 100%|██████████| 1/1 [00:00<00:00,  7.20it/s]\n",
            "Training LR Probe: 100%|██████████| 1/1 [00:00<00:00,  7.05it/s]\n"
          ]
        },
        {
          "output_type": "stream",
          "name": "stdout",
          "text": [
            "\n",
            "Training Set (Epoch 1 - Final): Loss 0.0645769014954567, Accuracy 0.375\n",
            "Probe trained on layer 2: Test Set Loss 6.6873369216918945, Test Set Accuracy 0.5\n",
            "Saved state dictionary to /content/drive/MyDrive/github/subteams/LLMProbing/local_experiment_data/probes/demo_exp/probe_exponential_2_1.pt\n",
            "Repeat 0 of layer 3\n"
          ]
        },
        {
          "output_type": "stream",
          "name": "stderr",
          "text": [
            "\n",
            "Training LR Probe:   0%|          | 0/1 [00:00<?, ?it/s]\n",
            "Training LR Probe: 100%|██████████| 1/1 [00:00<00:00,  6.16it/s]\n",
            "Training LR Probe: 100%|██████████| 1/1 [00:00<00:00,  6.00it/s]\n"
          ]
        },
        {
          "output_type": "stream",
          "name": "stdout",
          "text": [
            "\n",
            "Training Set (Epoch 1 - Final): Loss 0.04365973919630051, Accuracy 0.5\n",
            "Probe trained on layer 3: Test Set Loss 20.539142608642578, Test Set Accuracy 0.5\n",
            "Saved state dictionary to /content/drive/MyDrive/github/subteams/LLMProbing/local_experiment_data/probes/demo_exp/probe_exponential_3_0.pt\n",
            "Repeat 1 of layer 3\n"
          ]
        },
        {
          "output_type": "stream",
          "name": "stderr",
          "text": [
            "\n",
            "Training LR Probe:   0%|          | 0/1 [00:00<?, ?it/s]\n",
            "Training LR Probe: 100%|██████████| 1/1 [00:00<00:00,  7.59it/s]\n",
            "Training LR Probe: 100%|██████████| 1/1 [00:00<00:00,  7.42it/s]\n"
          ]
        },
        {
          "output_type": "stream",
          "name": "stdout",
          "text": [
            "\n",
            "Training Set (Epoch 1 - Final): Loss 0.08452016115188599, Accuracy 0.4375\n",
            "Probe trained on layer 3: Test Set Loss 37.985477447509766, Test Set Accuracy 0.5\n",
            "Saved state dictionary to /content/drive/MyDrive/github/subteams/LLMProbing/local_experiment_data/probes/demo_exp/probe_exponential_3_1.pt\n",
            "Repeat 0 of layer 4\n"
          ]
        },
        {
          "output_type": "stream",
          "name": "stderr",
          "text": [
            "\n",
            "Training LR Probe:   0%|          | 0/1 [00:00<?, ?it/s]\n",
            "Training LR Probe: 100%|██████████| 1/1 [00:00<00:00,  6.09it/s]\n",
            "Training LR Probe: 100%|██████████| 1/1 [00:00<00:00,  5.92it/s]\n"
          ]
        },
        {
          "output_type": "stream",
          "name": "stdout",
          "text": [
            "\n",
            "Training Set (Epoch 1 - Final): Loss 0.14556291699409485, Accuracy 0.6875\n",
            "Probe trained on layer 4: Test Set Loss 0.5370935628889129, Test Set Accuracy 0.5\n",
            "Saved state dictionary to /content/drive/MyDrive/github/subteams/LLMProbing/local_experiment_data/probes/demo_exp/probe_exponential_4_0.pt\n",
            "Repeat 1 of layer 4\n"
          ]
        },
        {
          "output_type": "stream",
          "name": "stderr",
          "text": [
            "\n",
            "Training LR Probe:   0%|          | 0/1 [00:00<?, ?it/s]\n",
            "Training LR Probe: 100%|██████████| 1/1 [00:00<00:00,  6.50it/s]\n",
            "Training LR Probe: 100%|██████████| 1/1 [00:00<00:00,  6.36it/s]\n"
          ]
        },
        {
          "output_type": "stream",
          "name": "stdout",
          "text": [
            "\n",
            "Training Set (Epoch 1 - Final): Loss 0.20246684551239014, Accuracy 0.5625\n",
            "Probe trained on layer 4: Test Set Loss 7.711726307868943, Test Set Accuracy 0.5\n",
            "Saved state dictionary to /content/drive/MyDrive/github/subteams/LLMProbing/local_experiment_data/probes/demo_exp/probe_exponential_4_1.pt\n",
            "Repeat 0 of layer 5\n"
          ]
        },
        {
          "output_type": "stream",
          "name": "stderr",
          "text": [
            "\n",
            "Training LR Probe:   0%|          | 0/1 [00:00<?, ?it/s]\n",
            "Training LR Probe: 100%|██████████| 1/1 [00:00<00:00,  5.98it/s]\n",
            "Training LR Probe: 100%|██████████| 1/1 [00:00<00:00,  5.94it/s]\n"
          ]
        },
        {
          "output_type": "stream",
          "name": "stdout",
          "text": [
            "\n",
            "Training Set (Epoch 1 - Final): Loss 0.13933679461479187, Accuracy 0.4375\n",
            "Probe trained on layer 5: Test Set Loss 0.9879175499081612, Test Set Accuracy 0.5\n",
            "Saved state dictionary to /content/drive/MyDrive/github/subteams/LLMProbing/local_experiment_data/probes/demo_exp/probe_exponential_5_0.pt\n",
            "Repeat 1 of layer 5\n"
          ]
        },
        {
          "output_type": "stream",
          "name": "stderr",
          "text": [
            "\n",
            "Training LR Probe:   0%|          | 0/1 [00:00<?, ?it/s]\n",
            "Training LR Probe: 100%|██████████| 1/1 [00:00<00:00,  6.86it/s]\n",
            "Training LR Probe: 100%|██████████| 1/1 [00:00<00:00,  6.78it/s]\n"
          ]
        },
        {
          "output_type": "stream",
          "name": "stdout",
          "text": [
            "\n",
            "Training Set (Epoch 1 - Final): Loss 0.1071503609418869, Accuracy 0.4375\n",
            "Probe trained on layer 5: Test Set Loss 1.473420411348343, Test Set Accuracy 0.5\n",
            "Saved state dictionary to /content/drive/MyDrive/github/subteams/LLMProbing/local_experiment_data/probes/demo_exp/probe_exponential_5_1.pt\n",
            "Repeat 0 of layer 6\n"
          ]
        },
        {
          "output_type": "stream",
          "name": "stderr",
          "text": [
            "\n",
            "Training LR Probe:   0%|          | 0/1 [00:00<?, ?it/s]\n",
            "Training LR Probe: 100%|██████████| 1/1 [00:00<00:00,  7.28it/s]\n",
            "Training LR Probe: 100%|██████████| 1/1 [00:00<00:00,  7.18it/s]\n"
          ]
        },
        {
          "output_type": "stream",
          "name": "stdout",
          "text": [
            "\n",
            "Training Set (Epoch 1 - Final): Loss 0.03946688771247864, Accuracy 0.5625\n",
            "Probe trained on layer 6: Test Set Loss 0.5167626366019249, Test Set Accuracy 0.5\n",
            "Saved state dictionary to /content/drive/MyDrive/github/subteams/LLMProbing/local_experiment_data/probes/demo_exp/probe_exponential_6_0.pt\n",
            "Repeat 1 of layer 6\n"
          ]
        },
        {
          "output_type": "stream",
          "name": "stderr",
          "text": [
            "\n",
            "Training LR Probe:   0%|          | 0/1 [00:00<?, ?it/s]\n",
            "Training LR Probe: 100%|██████████| 1/1 [00:00<00:00,  6.71it/s]\n",
            "Training LR Probe: 100%|██████████| 1/1 [00:00<00:00,  6.65it/s]\n"
          ]
        },
        {
          "output_type": "stream",
          "name": "stdout",
          "text": [
            "\n",
            "Training Set (Epoch 1 - Final): Loss 0.05316302552819252, Accuracy 0.4375\n",
            "Probe trained on layer 6: Test Set Loss 0.5576206147670746, Test Set Accuracy 1.0\n",
            "Saved state dictionary to /content/drive/MyDrive/github/subteams/LLMProbing/local_experiment_data/probes/demo_exp/probe_exponential_6_1.pt\n",
            "Repeat 0 of layer 7\n"
          ]
        },
        {
          "output_type": "stream",
          "name": "stderr",
          "text": [
            "\n",
            "Training LR Probe:   0%|          | 0/1 [00:00<?, ?it/s]\n",
            "Training LR Probe: 100%|██████████| 1/1 [00:00<00:00,  6.48it/s]\n",
            "Training LR Probe: 100%|██████████| 1/1 [00:00<00:00,  6.44it/s]\n"
          ]
        },
        {
          "output_type": "stream",
          "name": "stdout",
          "text": [
            "\n",
            "Training Set (Epoch 1 - Final): Loss 0.050469812005758286, Accuracy 0.4375\n",
            "Probe trained on layer 7: Test Set Loss 0.7370765954256058, Test Set Accuracy 0.5\n",
            "Saved state dictionary to /content/drive/MyDrive/github/subteams/LLMProbing/local_experiment_data/probes/demo_exp/probe_exponential_7_0.pt\n",
            "Repeat 1 of layer 7\n"
          ]
        },
        {
          "output_type": "stream",
          "name": "stderr",
          "text": [
            "\n",
            "Training LR Probe:   0%|          | 0/1 [00:00<?, ?it/s]\n",
            "Training LR Probe: 100%|██████████| 1/1 [00:00<00:00,  7.04it/s]\n",
            "Training LR Probe: 100%|██████████| 1/1 [00:00<00:00,  6.98it/s]\n"
          ]
        },
        {
          "output_type": "stream",
          "name": "stdout",
          "text": [
            "\n",
            "Training Set (Epoch 1 - Final): Loss 0.043484289199113846, Accuracy 0.5625\n",
            "Probe trained on layer 7: Test Set Loss 0.7639918476343155, Test Set Accuracy 0.5\n",
            "Saved state dictionary to /content/drive/MyDrive/github/subteams/LLMProbing/local_experiment_data/probes/demo_exp/probe_exponential_7_1.pt\n",
            "Repeat 0 of layer 8\n"
          ]
        },
        {
          "output_type": "stream",
          "name": "stderr",
          "text": [
            "\n",
            "Training LR Probe:   0%|          | 0/1 [00:00<?, ?it/s]\n",
            "Training LR Probe: 100%|██████████| 1/1 [00:00<00:00,  7.47it/s]\n",
            "Training LR Probe: 100%|██████████| 1/1 [00:00<00:00,  7.39it/s]\n"
          ]
        },
        {
          "output_type": "stream",
          "name": "stdout",
          "text": [
            "\n",
            "Training Set (Epoch 1 - Final): Loss 0.04775529354810715, Accuracy 0.1875\n",
            "Probe trained on layer 8: Test Set Loss 1.1568918228149414, Test Set Accuracy 0.5\n",
            "Saved state dictionary to /content/drive/MyDrive/github/subteams/LLMProbing/local_experiment_data/probes/demo_exp/probe_exponential_8_0.pt\n",
            "Repeat 1 of layer 8\n"
          ]
        },
        {
          "output_type": "stream",
          "name": "stderr",
          "text": [
            "\n",
            "Training LR Probe:   0%|          | 0/1 [00:00<?, ?it/s]\n",
            "Training LR Probe: 100%|██████████| 1/1 [00:00<00:00,  6.07it/s]\n",
            "Training LR Probe: 100%|██████████| 1/1 [00:00<00:00,  6.01it/s]\n"
          ]
        },
        {
          "output_type": "stream",
          "name": "stdout",
          "text": [
            "\n",
            "Training Set (Epoch 1 - Final): Loss 0.04798156023025513, Accuracy 0.5625\n",
            "Probe trained on layer 8: Test Set Loss 1.1941663846373558, Test Set Accuracy 0.5\n",
            "Saved state dictionary to /content/drive/MyDrive/github/subteams/LLMProbing/local_experiment_data/probes/demo_exp/probe_exponential_8_1.pt\n",
            "Repeat 0 of layer 9\n"
          ]
        },
        {
          "output_type": "stream",
          "name": "stderr",
          "text": [
            "\n",
            "Training LR Probe:   0%|          | 0/1 [00:00<?, ?it/s]\n",
            "Training LR Probe: 100%|██████████| 1/1 [00:00<00:00,  7.05it/s]\n",
            "Training LR Probe: 100%|██████████| 1/1 [00:00<00:00,  6.99it/s]\n"
          ]
        },
        {
          "output_type": "stream",
          "name": "stdout",
          "text": [
            "\n",
            "Training Set (Epoch 1 - Final): Loss 0.04219921678304672, Accuracy 0.5625\n",
            "Probe trained on layer 9: Test Set Loss 0.7899843277409673, Test Set Accuracy 0.5\n",
            "Saved state dictionary to /content/drive/MyDrive/github/subteams/LLMProbing/local_experiment_data/probes/demo_exp/probe_exponential_9_0.pt\n",
            "Repeat 1 of layer 9\n"
          ]
        },
        {
          "output_type": "stream",
          "name": "stderr",
          "text": [
            "\n",
            "Training LR Probe:   0%|          | 0/1 [00:00<?, ?it/s]\n",
            "Training LR Probe: 100%|██████████| 1/1 [00:00<00:00,  7.27it/s]\n",
            "Training LR Probe: 100%|██████████| 1/1 [00:00<00:00,  7.22it/s]\n"
          ]
        },
        {
          "output_type": "stream",
          "name": "stdout",
          "text": [
            "\n",
            "Training Set (Epoch 1 - Final): Loss 0.04261470213532448, Accuracy 0.5625\n",
            "Probe trained on layer 9: Test Set Loss 0.7204708782956004, Test Set Accuracy 0.5\n",
            "Saved state dictionary to /content/drive/MyDrive/github/subteams/LLMProbing/local_experiment_data/probes/demo_exp/probe_exponential_9_1.pt\n",
            "Repeat 0 of layer 10\n"
          ]
        },
        {
          "output_type": "stream",
          "name": "stderr",
          "text": [
            "\n",
            "Training LR Probe:   0%|          | 0/1 [00:00<?, ?it/s]\n",
            "Training LR Probe: 100%|██████████| 1/1 [00:00<00:00,  6.94it/s]\n",
            "Training LR Probe: 100%|██████████| 1/1 [00:00<00:00,  6.85it/s]\n"
          ]
        },
        {
          "output_type": "stream",
          "name": "stdout",
          "text": [
            "\n",
            "Training Set (Epoch 1 - Final): Loss 0.038910843431949615, Accuracy 0.5\n",
            "Probe trained on layer 10: Test Set Loss 0.13589703291654587, Test Set Accuracy 1.0\n",
            "Saved state dictionary to /content/drive/MyDrive/github/subteams/LLMProbing/local_experiment_data/probes/demo_exp/probe_exponential_10_0.pt\n",
            "Repeat 1 of layer 10\n"
          ]
        },
        {
          "output_type": "stream",
          "name": "stderr",
          "text": [
            "\n",
            "Training LR Probe:   0%|          | 0/1 [00:00<?, ?it/s]\n",
            "Training LR Probe: 100%|██████████| 1/1 [00:00<00:00,  5.98it/s]\n",
            "Training LR Probe: 100%|██████████| 1/1 [00:00<00:00,  5.93it/s]\n"
          ]
        },
        {
          "output_type": "stream",
          "name": "stdout",
          "text": [
            "\n",
            "Training Set (Epoch 1 - Final): Loss 0.06873979419469833, Accuracy 0.5625\n",
            "Probe trained on layer 10: Test Set Loss 0.267105957493186, Test Set Accuracy 1.0\n",
            "Saved state dictionary to /content/drive/MyDrive/github/subteams/LLMProbing/local_experiment_data/probes/demo_exp/probe_exponential_10_1.pt\n",
            "Repeat 0 of layer 11\n"
          ]
        },
        {
          "output_type": "stream",
          "name": "stderr",
          "text": [
            "\n",
            "Training LR Probe:   0%|          | 0/1 [00:00<?, ?it/s]\n",
            "Training LR Probe: 100%|██████████| 1/1 [00:00<00:00,  7.06it/s]\n",
            "Training LR Probe: 100%|██████████| 1/1 [00:00<00:00,  7.01it/s]\n"
          ]
        },
        {
          "output_type": "stream",
          "name": "stdout",
          "text": [
            "\n",
            "Training Set (Epoch 1 - Final): Loss 0.045700594782829285, Accuracy 0.5625\n",
            "Probe trained on layer 11: Test Set Loss 0.3973657637834549, Test Set Accuracy 1.0\n",
            "Saved state dictionary to /content/drive/MyDrive/github/subteams/LLMProbing/local_experiment_data/probes/demo_exp/probe_exponential_11_0.pt\n",
            "Repeat 1 of layer 11\n"
          ]
        },
        {
          "output_type": "stream",
          "name": "stderr",
          "text": [
            "\n",
            "Training LR Probe:   0%|          | 0/1 [00:00<?, ?it/s]\n",
            "Training LR Probe: 100%|██████████| 1/1 [00:00<00:00,  7.29it/s]\n",
            "Training LR Probe: 100%|██████████| 1/1 [00:00<00:00,  7.22it/s]\n"
          ]
        },
        {
          "output_type": "stream",
          "name": "stdout",
          "text": [
            "\n",
            "Training Set (Epoch 1 - Final): Loss 0.05451004207134247, Accuracy 0.4375\n",
            "Probe trained on layer 11: Test Set Loss 0.4765033572912216, Test Set Accuracy 1.0\n",
            "Saved state dictionary to /content/drive/MyDrive/github/subteams/LLMProbing/local_experiment_data/probes/demo_exp/probe_exponential_11_1.pt\n",
            "Repeat 0 of layer 12\n"
          ]
        },
        {
          "output_type": "stream",
          "name": "stderr",
          "text": [
            "\n",
            "Training LR Probe:   0%|          | 0/1 [00:00<?, ?it/s]\n",
            "Training LR Probe: 100%|██████████| 1/1 [00:00<00:00,  6.26it/s]\n",
            "Training LR Probe: 100%|██████████| 1/1 [00:00<00:00,  6.20it/s]\n"
          ]
        },
        {
          "output_type": "stream",
          "name": "stdout",
          "text": [
            "\n",
            "Training Set (Epoch 1 - Final): Loss 0.06839190423488617, Accuracy 0.4375\n",
            "Probe trained on layer 12: Test Set Loss 0.5281228125095367, Test Set Accuracy 1.0\n",
            "Saved state dictionary to /content/drive/MyDrive/github/subteams/LLMProbing/local_experiment_data/probes/demo_exp/probe_exponential_12_0.pt\n",
            "Repeat 1 of layer 12\n"
          ]
        },
        {
          "output_type": "stream",
          "name": "stderr",
          "text": [
            "\n",
            "Training LR Probe:   0%|          | 0/1 [00:00<?, ?it/s]\n",
            "Training LR Probe: 100%|██████████| 1/1 [00:00<00:00,  6.76it/s]\n",
            "Training LR Probe: 100%|██████████| 1/1 [00:00<00:00,  6.65it/s]\n"
          ]
        },
        {
          "output_type": "stream",
          "name": "stdout",
          "text": [
            "\n",
            "Training Set (Epoch 1 - Final): Loss 0.0408211424946785, Accuracy 0.375\n",
            "Probe trained on layer 12: Test Set Loss 0.30055584013462067, Test Set Accuracy 1.0\n",
            "Saved state dictionary to /content/drive/MyDrive/github/subteams/LLMProbing/local_experiment_data/probes/demo_exp/probe_exponential_12_1.pt\n",
            "Repeat 0 of layer 13\n"
          ]
        },
        {
          "output_type": "stream",
          "name": "stderr",
          "text": [
            "\n",
            "Training LR Probe:   0%|          | 0/1 [00:00<?, ?it/s]\n",
            "Training LR Probe: 100%|██████████| 1/1 [00:00<00:00,  6.83it/s]\n",
            "Training LR Probe: 100%|██████████| 1/1 [00:00<00:00,  6.78it/s]\n"
          ]
        },
        {
          "output_type": "stream",
          "name": "stdout",
          "text": [
            "\n",
            "Training Set (Epoch 1 - Final): Loss 0.05067812278866768, Accuracy 0.5625\n",
            "Probe trained on layer 13: Test Set Loss 0.5713530257344246, Test Set Accuracy 0.5\n",
            "Saved state dictionary to /content/drive/MyDrive/github/subteams/LLMProbing/local_experiment_data/probes/demo_exp/probe_exponential_13_0.pt\n",
            "Repeat 1 of layer 13\n"
          ]
        },
        {
          "output_type": "stream",
          "name": "stderr",
          "text": [
            "\n",
            "Training LR Probe:   0%|          | 0/1 [00:00<?, ?it/s]\n",
            "Training LR Probe: 100%|██████████| 1/1 [00:00<00:00,  6.78it/s]\n",
            "Training LR Probe: 100%|██████████| 1/1 [00:00<00:00,  6.67it/s]\n"
          ]
        },
        {
          "output_type": "stream",
          "name": "stdout",
          "text": [
            "\n",
            "Training Set (Epoch 1 - Final): Loss 0.049347057938575745, Accuracy 0.4375\n",
            "Probe trained on layer 13: Test Set Loss 0.41274628043174744, Test Set Accuracy 1.0\n",
            "Saved state dictionary to /content/drive/MyDrive/github/subteams/LLMProbing/local_experiment_data/probes/demo_exp/probe_exponential_13_1.pt\n",
            "Repeat 0 of layer 14\n"
          ]
        },
        {
          "output_type": "stream",
          "name": "stderr",
          "text": [
            "\n",
            "Training LR Probe:   0%|          | 0/1 [00:00<?, ?it/s]\n",
            "Training LR Probe: 100%|██████████| 1/1 [00:00<00:00,  7.42it/s]\n",
            "Training LR Probe: 100%|██████████| 1/1 [00:00<00:00,  7.34it/s]\n"
          ]
        },
        {
          "output_type": "stream",
          "name": "stdout",
          "text": [
            "\n",
            "Training Set (Epoch 1 - Final): Loss 0.12662802636623383, Accuracy 0.4375\n",
            "Probe trained on layer 14: Test Set Loss 0.7758118212223053, Test Set Accuracy 0.5\n",
            "Saved state dictionary to /content/drive/MyDrive/github/subteams/LLMProbing/local_experiment_data/probes/demo_exp/probe_exponential_14_0.pt\n",
            "Repeat 1 of layer 14\n"
          ]
        },
        {
          "output_type": "stream",
          "name": "stderr",
          "text": [
            "\n",
            "Training LR Probe:   0%|          | 0/1 [00:00<?, ?it/s]\n",
            "Training LR Probe: 100%|██████████| 1/1 [00:00<00:00,  6.88it/s]\n",
            "Training LR Probe: 100%|██████████| 1/1 [00:00<00:00,  6.75it/s]\n"
          ]
        },
        {
          "output_type": "stream",
          "name": "stdout",
          "text": [
            "\n",
            "Training Set (Epoch 1 - Final): Loss 0.03708064928650856, Accuracy 0.6875\n",
            "Probe trained on layer 14: Test Set Loss 0.7748744757845998, Test Set Accuracy 0.5\n",
            "Saved state dictionary to /content/drive/MyDrive/github/subteams/LLMProbing/local_experiment_data/probes/demo_exp/probe_exponential_14_1.pt\n",
            "Repeat 0 of layer 15\n"
          ]
        },
        {
          "output_type": "stream",
          "name": "stderr",
          "text": [
            "\n",
            "Training LR Probe:   0%|          | 0/1 [00:00<?, ?it/s]\n",
            "Training LR Probe: 100%|██████████| 1/1 [00:00<00:00,  7.31it/s]\n",
            "Training LR Probe: 100%|██████████| 1/1 [00:00<00:00,  7.26it/s]\n"
          ]
        },
        {
          "output_type": "stream",
          "name": "stdout",
          "text": [
            "\n",
            "Training Set (Epoch 1 - Final): Loss 0.052261654287576675, Accuracy 0.5625\n",
            "Probe trained on layer 15: Test Set Loss 1.210391603410244, Test Set Accuracy 0.5\n",
            "Saved state dictionary to /content/drive/MyDrive/github/subteams/LLMProbing/local_experiment_data/probes/demo_exp/probe_exponential_15_0.pt\n",
            "Repeat 1 of layer 15\n"
          ]
        },
        {
          "output_type": "stream",
          "name": "stderr",
          "text": [
            "\n",
            "Training LR Probe:   0%|          | 0/1 [00:00<?, ?it/s]\n",
            "Training LR Probe: 100%|██████████| 1/1 [00:00<00:00,  2.94it/s]\n",
            "Training LR Probe: 100%|██████████| 1/1 [00:00<00:00,  2.93it/s]"
          ]
        },
        {
          "output_type": "stream",
          "name": "stdout",
          "text": [
            "\n",
            "Training Set (Epoch 1 - Final): Loss 0.03565262630581856, Accuracy 0.625\n",
            "Probe trained on layer 15: Test Set Loss 0.36347758769989014, Test Set Accuracy 1.0\n",
            "Saved state dictionary to /content/drive/MyDrive/github/subteams/LLMProbing/local_experiment_data/probes/demo_exp/probe_exponential_15_1.pt\n"
          ]
        },
        {
          "output_type": "stream",
          "name": "stderr",
          "text": [
            "\n"
          ]
        }
      ]
    },
    {
      "cell_type": "code",
      "source": [
        "demo_expt_results"
      ],
      "metadata": {
        "colab": {
          "base_uri": "https://localhost:8080/",
          "height": 1000
        },
        "id": "bB7sDmbbucLn",
        "outputId": "514dc446-eff3-4f8e-fc38-71eec0cb7ddc"
      },
      "execution_count": 32,
      "outputs": [
        {
          "output_type": "execute_result",
          "data": {
            "text/plain": [
              "    layer  run  test_loss  test_accuracy test_fail_ids  final_train_loss  \\\n",
              "0       0    0  11.957834            0.5       [exp_4]          0.048193   \n",
              "1       0    1   4.183529            0.5       [exp_4]          0.044551   \n",
              "2       1    0   1.571896            0.5       [exp_4]          0.049398   \n",
              "3       1    1   0.581310            0.5       [exp_4]          0.045941   \n",
              "4       2    0   0.000041            1.0            []          0.051026   \n",
              "5       2    1   6.687337            0.5       [exp_4]          0.064577   \n",
              "6       3    0  20.539143            0.5       [exp_4]          0.043660   \n",
              "7       3    1  37.985477            0.5       [exp_4]          0.084520   \n",
              "8       4    0   0.537094            0.5       [exp_4]          0.145563   \n",
              "9       4    1   7.711726            0.5       [hyp_2]          0.202467   \n",
              "10      5    0   0.987918            0.5       [exp_4]          0.139337   \n",
              "11      5    1   1.473420            0.5       [exp_4]          0.107150   \n",
              "12      6    0   0.516763            0.5       [hyp_2]          0.039467   \n",
              "13      6    1   0.557621            1.0            []          0.053163   \n",
              "14      7    0   0.737077            0.5       [exp_4]          0.050470   \n",
              "15      7    1   0.763992            0.5       [hyp_2]          0.043484   \n",
              "16      8    0   1.156892            0.5       [hyp_2]          0.047755   \n",
              "17      8    1   1.194166            0.5       [hyp_2]          0.047982   \n",
              "18      9    0   0.789984            0.5       [hyp_2]          0.042199   \n",
              "19      9    1   0.720471            0.5       [hyp_2]          0.042615   \n",
              "20     10    0   0.135897            1.0            []          0.038911   \n",
              "21     10    1   0.267106            1.0            []          0.068740   \n",
              "22     11    0   0.397366            1.0            []          0.045701   \n",
              "23     11    1   0.476503            1.0            []          0.054510   \n",
              "24     12    0   0.528123            1.0            []          0.068392   \n",
              "25     12    1   0.300556            1.0            []          0.040821   \n",
              "26     13    0   0.571353            0.5       [hyp_2]          0.050678   \n",
              "27     13    1   0.412746            1.0            []          0.049347   \n",
              "28     14    0   0.775812            0.5       [hyp_2]          0.126628   \n",
              "29     14    1   0.774874            0.5       [hyp_2]          0.037081   \n",
              "30     15    0   1.210392            0.5       [exp_4]          0.052262   \n",
              "31     15    1   0.363478            1.0            []          0.035653   \n",
              "\n",
              "    final_train_accuracy  final_val_loss  final_val_accuracy  \n",
              "0                 0.4375    3.475827e+01                 0.0  \n",
              "1                 0.2500    1.959861e+01                 0.0  \n",
              "2                 0.1875    1.527595e+01                 0.0  \n",
              "3                 0.4375    1.311768e+01                 0.0  \n",
              "4                 0.6250    7.502457e+00                 0.5  \n",
              "5                 0.3750    2.515908e+01                 0.0  \n",
              "6                 0.5000    5.452056e+01                 0.0  \n",
              "7                 0.4375    8.382232e+01                 0.0  \n",
              "8                 0.6875    4.177241e+00                 0.0  \n",
              "9                 0.5625    4.172324e-07                 1.0  \n",
              "10                0.4375    1.888386e+00                 0.0  \n",
              "11                0.4375    2.285200e+00                 0.0  \n",
              "12                0.5625    3.667394e-01                 1.0  \n",
              "13                0.4375    5.765600e-01                 1.0  \n",
              "14                0.4375    1.129116e+00                 0.0  \n",
              "15                0.5625    3.564062e-01                 1.0  \n",
              "16                0.1875    8.786755e-02                 1.0  \n",
              "17                0.5625    1.036038e-01                 1.0  \n",
              "18                0.5625    8.498511e-02                 1.0  \n",
              "19                0.5625    1.346919e-01                 1.0  \n",
              "20                0.5000    3.264971e-01                 1.0  \n",
              "21                0.5625    1.236004e-01                 1.0  \n",
              "22                0.5625    1.546257e-01                 1.0  \n",
              "23                0.4375    4.182137e-01                 1.0  \n",
              "24                0.4375    6.382486e-01                 1.0  \n",
              "25                0.3750    3.601852e-01                 1.0  \n",
              "26                0.5625    1.479536e-01                 1.0  \n",
              "27                0.4375    1.072823e+00                 0.5  \n",
              "28                0.4375    6.957452e-01                 0.5  \n",
              "29                0.6875    5.948276e-02                 1.0  \n",
              "30                0.5625    1.547677e+00                 0.0  \n",
              "31                0.6250    2.971770e-01                 1.0  "
            ],
            "text/html": [
              "\n",
              "  <div id=\"df-81fcf388-4f11-4c24-9e5a-64ba26ea81af\" class=\"colab-df-container\">\n",
              "    <div>\n",
              "<style scoped>\n",
              "    .dataframe tbody tr th:only-of-type {\n",
              "        vertical-align: middle;\n",
              "    }\n",
              "\n",
              "    .dataframe tbody tr th {\n",
              "        vertical-align: top;\n",
              "    }\n",
              "\n",
              "    .dataframe thead th {\n",
              "        text-align: right;\n",
              "    }\n",
              "</style>\n",
              "<table border=\"1\" class=\"dataframe\">\n",
              "  <thead>\n",
              "    <tr style=\"text-align: right;\">\n",
              "      <th></th>\n",
              "      <th>layer</th>\n",
              "      <th>run</th>\n",
              "      <th>test_loss</th>\n",
              "      <th>test_accuracy</th>\n",
              "      <th>test_fail_ids</th>\n",
              "      <th>final_train_loss</th>\n",
              "      <th>final_train_accuracy</th>\n",
              "      <th>final_val_loss</th>\n",
              "      <th>final_val_accuracy</th>\n",
              "    </tr>\n",
              "  </thead>\n",
              "  <tbody>\n",
              "    <tr>\n",
              "      <th>0</th>\n",
              "      <td>0</td>\n",
              "      <td>0</td>\n",
              "      <td>11.957834</td>\n",
              "      <td>0.5</td>\n",
              "      <td>[exp_4]</td>\n",
              "      <td>0.048193</td>\n",
              "      <td>0.4375</td>\n",
              "      <td>3.475827e+01</td>\n",
              "      <td>0.0</td>\n",
              "    </tr>\n",
              "    <tr>\n",
              "      <th>1</th>\n",
              "      <td>0</td>\n",
              "      <td>1</td>\n",
              "      <td>4.183529</td>\n",
              "      <td>0.5</td>\n",
              "      <td>[exp_4]</td>\n",
              "      <td>0.044551</td>\n",
              "      <td>0.2500</td>\n",
              "      <td>1.959861e+01</td>\n",
              "      <td>0.0</td>\n",
              "    </tr>\n",
              "    <tr>\n",
              "      <th>2</th>\n",
              "      <td>1</td>\n",
              "      <td>0</td>\n",
              "      <td>1.571896</td>\n",
              "      <td>0.5</td>\n",
              "      <td>[exp_4]</td>\n",
              "      <td>0.049398</td>\n",
              "      <td>0.1875</td>\n",
              "      <td>1.527595e+01</td>\n",
              "      <td>0.0</td>\n",
              "    </tr>\n",
              "    <tr>\n",
              "      <th>3</th>\n",
              "      <td>1</td>\n",
              "      <td>1</td>\n",
              "      <td>0.581310</td>\n",
              "      <td>0.5</td>\n",
              "      <td>[exp_4]</td>\n",
              "      <td>0.045941</td>\n",
              "      <td>0.4375</td>\n",
              "      <td>1.311768e+01</td>\n",
              "      <td>0.0</td>\n",
              "    </tr>\n",
              "    <tr>\n",
              "      <th>4</th>\n",
              "      <td>2</td>\n",
              "      <td>0</td>\n",
              "      <td>0.000041</td>\n",
              "      <td>1.0</td>\n",
              "      <td>[]</td>\n",
              "      <td>0.051026</td>\n",
              "      <td>0.6250</td>\n",
              "      <td>7.502457e+00</td>\n",
              "      <td>0.5</td>\n",
              "    </tr>\n",
              "    <tr>\n",
              "      <th>5</th>\n",
              "      <td>2</td>\n",
              "      <td>1</td>\n",
              "      <td>6.687337</td>\n",
              "      <td>0.5</td>\n",
              "      <td>[exp_4]</td>\n",
              "      <td>0.064577</td>\n",
              "      <td>0.3750</td>\n",
              "      <td>2.515908e+01</td>\n",
              "      <td>0.0</td>\n",
              "    </tr>\n",
              "    <tr>\n",
              "      <th>6</th>\n",
              "      <td>3</td>\n",
              "      <td>0</td>\n",
              "      <td>20.539143</td>\n",
              "      <td>0.5</td>\n",
              "      <td>[exp_4]</td>\n",
              "      <td>0.043660</td>\n",
              "      <td>0.5000</td>\n",
              "      <td>5.452056e+01</td>\n",
              "      <td>0.0</td>\n",
              "    </tr>\n",
              "    <tr>\n",
              "      <th>7</th>\n",
              "      <td>3</td>\n",
              "      <td>1</td>\n",
              "      <td>37.985477</td>\n",
              "      <td>0.5</td>\n",
              "      <td>[exp_4]</td>\n",
              "      <td>0.084520</td>\n",
              "      <td>0.4375</td>\n",
              "      <td>8.382232e+01</td>\n",
              "      <td>0.0</td>\n",
              "    </tr>\n",
              "    <tr>\n",
              "      <th>8</th>\n",
              "      <td>4</td>\n",
              "      <td>0</td>\n",
              "      <td>0.537094</td>\n",
              "      <td>0.5</td>\n",
              "      <td>[exp_4]</td>\n",
              "      <td>0.145563</td>\n",
              "      <td>0.6875</td>\n",
              "      <td>4.177241e+00</td>\n",
              "      <td>0.0</td>\n",
              "    </tr>\n",
              "    <tr>\n",
              "      <th>9</th>\n",
              "      <td>4</td>\n",
              "      <td>1</td>\n",
              "      <td>7.711726</td>\n",
              "      <td>0.5</td>\n",
              "      <td>[hyp_2]</td>\n",
              "      <td>0.202467</td>\n",
              "      <td>0.5625</td>\n",
              "      <td>4.172324e-07</td>\n",
              "      <td>1.0</td>\n",
              "    </tr>\n",
              "    <tr>\n",
              "      <th>10</th>\n",
              "      <td>5</td>\n",
              "      <td>0</td>\n",
              "      <td>0.987918</td>\n",
              "      <td>0.5</td>\n",
              "      <td>[exp_4]</td>\n",
              "      <td>0.139337</td>\n",
              "      <td>0.4375</td>\n",
              "      <td>1.888386e+00</td>\n",
              "      <td>0.0</td>\n",
              "    </tr>\n",
              "    <tr>\n",
              "      <th>11</th>\n",
              "      <td>5</td>\n",
              "      <td>1</td>\n",
              "      <td>1.473420</td>\n",
              "      <td>0.5</td>\n",
              "      <td>[exp_4]</td>\n",
              "      <td>0.107150</td>\n",
              "      <td>0.4375</td>\n",
              "      <td>2.285200e+00</td>\n",
              "      <td>0.0</td>\n",
              "    </tr>\n",
              "    <tr>\n",
              "      <th>12</th>\n",
              "      <td>6</td>\n",
              "      <td>0</td>\n",
              "      <td>0.516763</td>\n",
              "      <td>0.5</td>\n",
              "      <td>[hyp_2]</td>\n",
              "      <td>0.039467</td>\n",
              "      <td>0.5625</td>\n",
              "      <td>3.667394e-01</td>\n",
              "      <td>1.0</td>\n",
              "    </tr>\n",
              "    <tr>\n",
              "      <th>13</th>\n",
              "      <td>6</td>\n",
              "      <td>1</td>\n",
              "      <td>0.557621</td>\n",
              "      <td>1.0</td>\n",
              "      <td>[]</td>\n",
              "      <td>0.053163</td>\n",
              "      <td>0.4375</td>\n",
              "      <td>5.765600e-01</td>\n",
              "      <td>1.0</td>\n",
              "    </tr>\n",
              "    <tr>\n",
              "      <th>14</th>\n",
              "      <td>7</td>\n",
              "      <td>0</td>\n",
              "      <td>0.737077</td>\n",
              "      <td>0.5</td>\n",
              "      <td>[exp_4]</td>\n",
              "      <td>0.050470</td>\n",
              "      <td>0.4375</td>\n",
              "      <td>1.129116e+00</td>\n",
              "      <td>0.0</td>\n",
              "    </tr>\n",
              "    <tr>\n",
              "      <th>15</th>\n",
              "      <td>7</td>\n",
              "      <td>1</td>\n",
              "      <td>0.763992</td>\n",
              "      <td>0.5</td>\n",
              "      <td>[hyp_2]</td>\n",
              "      <td>0.043484</td>\n",
              "      <td>0.5625</td>\n",
              "      <td>3.564062e-01</td>\n",
              "      <td>1.0</td>\n",
              "    </tr>\n",
              "    <tr>\n",
              "      <th>16</th>\n",
              "      <td>8</td>\n",
              "      <td>0</td>\n",
              "      <td>1.156892</td>\n",
              "      <td>0.5</td>\n",
              "      <td>[hyp_2]</td>\n",
              "      <td>0.047755</td>\n",
              "      <td>0.1875</td>\n",
              "      <td>8.786755e-02</td>\n",
              "      <td>1.0</td>\n",
              "    </tr>\n",
              "    <tr>\n",
              "      <th>17</th>\n",
              "      <td>8</td>\n",
              "      <td>1</td>\n",
              "      <td>1.194166</td>\n",
              "      <td>0.5</td>\n",
              "      <td>[hyp_2]</td>\n",
              "      <td>0.047982</td>\n",
              "      <td>0.5625</td>\n",
              "      <td>1.036038e-01</td>\n",
              "      <td>1.0</td>\n",
              "    </tr>\n",
              "    <tr>\n",
              "      <th>18</th>\n",
              "      <td>9</td>\n",
              "      <td>0</td>\n",
              "      <td>0.789984</td>\n",
              "      <td>0.5</td>\n",
              "      <td>[hyp_2]</td>\n",
              "      <td>0.042199</td>\n",
              "      <td>0.5625</td>\n",
              "      <td>8.498511e-02</td>\n",
              "      <td>1.0</td>\n",
              "    </tr>\n",
              "    <tr>\n",
              "      <th>19</th>\n",
              "      <td>9</td>\n",
              "      <td>1</td>\n",
              "      <td>0.720471</td>\n",
              "      <td>0.5</td>\n",
              "      <td>[hyp_2]</td>\n",
              "      <td>0.042615</td>\n",
              "      <td>0.5625</td>\n",
              "      <td>1.346919e-01</td>\n",
              "      <td>1.0</td>\n",
              "    </tr>\n",
              "    <tr>\n",
              "      <th>20</th>\n",
              "      <td>10</td>\n",
              "      <td>0</td>\n",
              "      <td>0.135897</td>\n",
              "      <td>1.0</td>\n",
              "      <td>[]</td>\n",
              "      <td>0.038911</td>\n",
              "      <td>0.5000</td>\n",
              "      <td>3.264971e-01</td>\n",
              "      <td>1.0</td>\n",
              "    </tr>\n",
              "    <tr>\n",
              "      <th>21</th>\n",
              "      <td>10</td>\n",
              "      <td>1</td>\n",
              "      <td>0.267106</td>\n",
              "      <td>1.0</td>\n",
              "      <td>[]</td>\n",
              "      <td>0.068740</td>\n",
              "      <td>0.5625</td>\n",
              "      <td>1.236004e-01</td>\n",
              "      <td>1.0</td>\n",
              "    </tr>\n",
              "    <tr>\n",
              "      <th>22</th>\n",
              "      <td>11</td>\n",
              "      <td>0</td>\n",
              "      <td>0.397366</td>\n",
              "      <td>1.0</td>\n",
              "      <td>[]</td>\n",
              "      <td>0.045701</td>\n",
              "      <td>0.5625</td>\n",
              "      <td>1.546257e-01</td>\n",
              "      <td>1.0</td>\n",
              "    </tr>\n",
              "    <tr>\n",
              "      <th>23</th>\n",
              "      <td>11</td>\n",
              "      <td>1</td>\n",
              "      <td>0.476503</td>\n",
              "      <td>1.0</td>\n",
              "      <td>[]</td>\n",
              "      <td>0.054510</td>\n",
              "      <td>0.4375</td>\n",
              "      <td>4.182137e-01</td>\n",
              "      <td>1.0</td>\n",
              "    </tr>\n",
              "    <tr>\n",
              "      <th>24</th>\n",
              "      <td>12</td>\n",
              "      <td>0</td>\n",
              "      <td>0.528123</td>\n",
              "      <td>1.0</td>\n",
              "      <td>[]</td>\n",
              "      <td>0.068392</td>\n",
              "      <td>0.4375</td>\n",
              "      <td>6.382486e-01</td>\n",
              "      <td>1.0</td>\n",
              "    </tr>\n",
              "    <tr>\n",
              "      <th>25</th>\n",
              "      <td>12</td>\n",
              "      <td>1</td>\n",
              "      <td>0.300556</td>\n",
              "      <td>1.0</td>\n",
              "      <td>[]</td>\n",
              "      <td>0.040821</td>\n",
              "      <td>0.3750</td>\n",
              "      <td>3.601852e-01</td>\n",
              "      <td>1.0</td>\n",
              "    </tr>\n",
              "    <tr>\n",
              "      <th>26</th>\n",
              "      <td>13</td>\n",
              "      <td>0</td>\n",
              "      <td>0.571353</td>\n",
              "      <td>0.5</td>\n",
              "      <td>[hyp_2]</td>\n",
              "      <td>0.050678</td>\n",
              "      <td>0.5625</td>\n",
              "      <td>1.479536e-01</td>\n",
              "      <td>1.0</td>\n",
              "    </tr>\n",
              "    <tr>\n",
              "      <th>27</th>\n",
              "      <td>13</td>\n",
              "      <td>1</td>\n",
              "      <td>0.412746</td>\n",
              "      <td>1.0</td>\n",
              "      <td>[]</td>\n",
              "      <td>0.049347</td>\n",
              "      <td>0.4375</td>\n",
              "      <td>1.072823e+00</td>\n",
              "      <td>0.5</td>\n",
              "    </tr>\n",
              "    <tr>\n",
              "      <th>28</th>\n",
              "      <td>14</td>\n",
              "      <td>0</td>\n",
              "      <td>0.775812</td>\n",
              "      <td>0.5</td>\n",
              "      <td>[hyp_2]</td>\n",
              "      <td>0.126628</td>\n",
              "      <td>0.4375</td>\n",
              "      <td>6.957452e-01</td>\n",
              "      <td>0.5</td>\n",
              "    </tr>\n",
              "    <tr>\n",
              "      <th>29</th>\n",
              "      <td>14</td>\n",
              "      <td>1</td>\n",
              "      <td>0.774874</td>\n",
              "      <td>0.5</td>\n",
              "      <td>[hyp_2]</td>\n",
              "      <td>0.037081</td>\n",
              "      <td>0.6875</td>\n",
              "      <td>5.948276e-02</td>\n",
              "      <td>1.0</td>\n",
              "    </tr>\n",
              "    <tr>\n",
              "      <th>30</th>\n",
              "      <td>15</td>\n",
              "      <td>0</td>\n",
              "      <td>1.210392</td>\n",
              "      <td>0.5</td>\n",
              "      <td>[exp_4]</td>\n",
              "      <td>0.052262</td>\n",
              "      <td>0.5625</td>\n",
              "      <td>1.547677e+00</td>\n",
              "      <td>0.0</td>\n",
              "    </tr>\n",
              "    <tr>\n",
              "      <th>31</th>\n",
              "      <td>15</td>\n",
              "      <td>1</td>\n",
              "      <td>0.363478</td>\n",
              "      <td>1.0</td>\n",
              "      <td>[]</td>\n",
              "      <td>0.035653</td>\n",
              "      <td>0.6250</td>\n",
              "      <td>2.971770e-01</td>\n",
              "      <td>1.0</td>\n",
              "    </tr>\n",
              "  </tbody>\n",
              "</table>\n",
              "</div>\n",
              "    <div class=\"colab-df-buttons\">\n",
              "\n",
              "  <div class=\"colab-df-container\">\n",
              "    <button class=\"colab-df-convert\" onclick=\"convertToInteractive('df-81fcf388-4f11-4c24-9e5a-64ba26ea81af')\"\n",
              "            title=\"Convert this dataframe to an interactive table.\"\n",
              "            style=\"display:none;\">\n",
              "\n",
              "  <svg xmlns=\"http://www.w3.org/2000/svg\" height=\"24px\" viewBox=\"0 -960 960 960\">\n",
              "    <path d=\"M120-120v-720h720v720H120Zm60-500h600v-160H180v160Zm220 220h160v-160H400v160Zm0 220h160v-160H400v160ZM180-400h160v-160H180v160Zm440 0h160v-160H620v160ZM180-180h160v-160H180v160Zm440 0h160v-160H620v160Z\"/>\n",
              "  </svg>\n",
              "    </button>\n",
              "\n",
              "  <style>\n",
              "    .colab-df-container {\n",
              "      display:flex;\n",
              "      gap: 12px;\n",
              "    }\n",
              "\n",
              "    .colab-df-convert {\n",
              "      background-color: #E8F0FE;\n",
              "      border: none;\n",
              "      border-radius: 50%;\n",
              "      cursor: pointer;\n",
              "      display: none;\n",
              "      fill: #1967D2;\n",
              "      height: 32px;\n",
              "      padding: 0 0 0 0;\n",
              "      width: 32px;\n",
              "    }\n",
              "\n",
              "    .colab-df-convert:hover {\n",
              "      background-color: #E2EBFA;\n",
              "      box-shadow: 0px 1px 2px rgba(60, 64, 67, 0.3), 0px 1px 3px 1px rgba(60, 64, 67, 0.15);\n",
              "      fill: #174EA6;\n",
              "    }\n",
              "\n",
              "    .colab-df-buttons div {\n",
              "      margin-bottom: 4px;\n",
              "    }\n",
              "\n",
              "    [theme=dark] .colab-df-convert {\n",
              "      background-color: #3B4455;\n",
              "      fill: #D2E3FC;\n",
              "    }\n",
              "\n",
              "    [theme=dark] .colab-df-convert:hover {\n",
              "      background-color: #434B5C;\n",
              "      box-shadow: 0px 1px 3px 1px rgba(0, 0, 0, 0.15);\n",
              "      filter: drop-shadow(0px 1px 2px rgba(0, 0, 0, 0.3));\n",
              "      fill: #FFFFFF;\n",
              "    }\n",
              "  </style>\n",
              "\n",
              "    <script>\n",
              "      const buttonEl =\n",
              "        document.querySelector('#df-81fcf388-4f11-4c24-9e5a-64ba26ea81af button.colab-df-convert');\n",
              "      buttonEl.style.display =\n",
              "        google.colab.kernel.accessAllowed ? 'block' : 'none';\n",
              "\n",
              "      async function convertToInteractive(key) {\n",
              "        const element = document.querySelector('#df-81fcf388-4f11-4c24-9e5a-64ba26ea81af');\n",
              "        const dataTable =\n",
              "          await google.colab.kernel.invokeFunction('convertToInteractive',\n",
              "                                                    [key], {});\n",
              "        if (!dataTable) return;\n",
              "\n",
              "        const docLinkHtml = 'Like what you see? Visit the ' +\n",
              "          '<a target=\"_blank\" href=https://colab.research.google.com/notebooks/data_table.ipynb>data table notebook</a>'\n",
              "          + ' to learn more about interactive tables.';\n",
              "        element.innerHTML = '';\n",
              "        dataTable['output_type'] = 'display_data';\n",
              "        await google.colab.output.renderOutput(dataTable, element);\n",
              "        const docLink = document.createElement('div');\n",
              "        docLink.innerHTML = docLinkHtml;\n",
              "        element.appendChild(docLink);\n",
              "      }\n",
              "    </script>\n",
              "  </div>\n",
              "\n",
              "\n",
              "<div id=\"df-5981fe44-d5f3-42c1-8225-327e516c9d7e\">\n",
              "  <button class=\"colab-df-quickchart\" onclick=\"quickchart('df-5981fe44-d5f3-42c1-8225-327e516c9d7e')\"\n",
              "            title=\"Suggest charts\"\n",
              "            style=\"display:none;\">\n",
              "\n",
              "<svg xmlns=\"http://www.w3.org/2000/svg\" height=\"24px\"viewBox=\"0 0 24 24\"\n",
              "     width=\"24px\">\n",
              "    <g>\n",
              "        <path d=\"M19 3H5c-1.1 0-2 .9-2 2v14c0 1.1.9 2 2 2h14c1.1 0 2-.9 2-2V5c0-1.1-.9-2-2-2zM9 17H7v-7h2v7zm4 0h-2V7h2v10zm4 0h-2v-4h2v4z\"/>\n",
              "    </g>\n",
              "</svg>\n",
              "  </button>\n",
              "\n",
              "<style>\n",
              "  .colab-df-quickchart {\n",
              "      --bg-color: #E8F0FE;\n",
              "      --fill-color: #1967D2;\n",
              "      --hover-bg-color: #E2EBFA;\n",
              "      --hover-fill-color: #174EA6;\n",
              "      --disabled-fill-color: #AAA;\n",
              "      --disabled-bg-color: #DDD;\n",
              "  }\n",
              "\n",
              "  [theme=dark] .colab-df-quickchart {\n",
              "      --bg-color: #3B4455;\n",
              "      --fill-color: #D2E3FC;\n",
              "      --hover-bg-color: #434B5C;\n",
              "      --hover-fill-color: #FFFFFF;\n",
              "      --disabled-bg-color: #3B4455;\n",
              "      --disabled-fill-color: #666;\n",
              "  }\n",
              "\n",
              "  .colab-df-quickchart {\n",
              "    background-color: var(--bg-color);\n",
              "    border: none;\n",
              "    border-radius: 50%;\n",
              "    cursor: pointer;\n",
              "    display: none;\n",
              "    fill: var(--fill-color);\n",
              "    height: 32px;\n",
              "    padding: 0;\n",
              "    width: 32px;\n",
              "  }\n",
              "\n",
              "  .colab-df-quickchart:hover {\n",
              "    background-color: var(--hover-bg-color);\n",
              "    box-shadow: 0 1px 2px rgba(60, 64, 67, 0.3), 0 1px 3px 1px rgba(60, 64, 67, 0.15);\n",
              "    fill: var(--button-hover-fill-color);\n",
              "  }\n",
              "\n",
              "  .colab-df-quickchart-complete:disabled,\n",
              "  .colab-df-quickchart-complete:disabled:hover {\n",
              "    background-color: var(--disabled-bg-color);\n",
              "    fill: var(--disabled-fill-color);\n",
              "    box-shadow: none;\n",
              "  }\n",
              "\n",
              "  .colab-df-spinner {\n",
              "    border: 2px solid var(--fill-color);\n",
              "    border-color: transparent;\n",
              "    border-bottom-color: var(--fill-color);\n",
              "    animation:\n",
              "      spin 1s steps(1) infinite;\n",
              "  }\n",
              "\n",
              "  @keyframes spin {\n",
              "    0% {\n",
              "      border-color: transparent;\n",
              "      border-bottom-color: var(--fill-color);\n",
              "      border-left-color: var(--fill-color);\n",
              "    }\n",
              "    20% {\n",
              "      border-color: transparent;\n",
              "      border-left-color: var(--fill-color);\n",
              "      border-top-color: var(--fill-color);\n",
              "    }\n",
              "    30% {\n",
              "      border-color: transparent;\n",
              "      border-left-color: var(--fill-color);\n",
              "      border-top-color: var(--fill-color);\n",
              "      border-right-color: var(--fill-color);\n",
              "    }\n",
              "    40% {\n",
              "      border-color: transparent;\n",
              "      border-right-color: var(--fill-color);\n",
              "      border-top-color: var(--fill-color);\n",
              "    }\n",
              "    60% {\n",
              "      border-color: transparent;\n",
              "      border-right-color: var(--fill-color);\n",
              "    }\n",
              "    80% {\n",
              "      border-color: transparent;\n",
              "      border-right-color: var(--fill-color);\n",
              "      border-bottom-color: var(--fill-color);\n",
              "    }\n",
              "    90% {\n",
              "      border-color: transparent;\n",
              "      border-bottom-color: var(--fill-color);\n",
              "    }\n",
              "  }\n",
              "</style>\n",
              "\n",
              "  <script>\n",
              "    async function quickchart(key) {\n",
              "      const quickchartButtonEl =\n",
              "        document.querySelector('#' + key + ' button');\n",
              "      quickchartButtonEl.disabled = true;  // To prevent multiple clicks.\n",
              "      quickchartButtonEl.classList.add('colab-df-spinner');\n",
              "      try {\n",
              "        const charts = await google.colab.kernel.invokeFunction(\n",
              "            'suggestCharts', [key], {});\n",
              "      } catch (error) {\n",
              "        console.error('Error during call to suggestCharts:', error);\n",
              "      }\n",
              "      quickchartButtonEl.classList.remove('colab-df-spinner');\n",
              "      quickchartButtonEl.classList.add('colab-df-quickchart-complete');\n",
              "    }\n",
              "    (() => {\n",
              "      let quickchartButtonEl =\n",
              "        document.querySelector('#df-5981fe44-d5f3-42c1-8225-327e516c9d7e button');\n",
              "      quickchartButtonEl.style.display =\n",
              "        google.colab.kernel.accessAllowed ? 'block' : 'none';\n",
              "    })();\n",
              "  </script>\n",
              "</div>\n",
              "\n",
              "  <div id=\"id_b939d2f0-4bab-491a-bf2b-dbccb0427034\">\n",
              "    <style>\n",
              "      .colab-df-generate {\n",
              "        background-color: #E8F0FE;\n",
              "        border: none;\n",
              "        border-radius: 50%;\n",
              "        cursor: pointer;\n",
              "        display: none;\n",
              "        fill: #1967D2;\n",
              "        height: 32px;\n",
              "        padding: 0 0 0 0;\n",
              "        width: 32px;\n",
              "      }\n",
              "\n",
              "      .colab-df-generate:hover {\n",
              "        background-color: #E2EBFA;\n",
              "        box-shadow: 0px 1px 2px rgba(60, 64, 67, 0.3), 0px 1px 3px 1px rgba(60, 64, 67, 0.15);\n",
              "        fill: #174EA6;\n",
              "      }\n",
              "\n",
              "      [theme=dark] .colab-df-generate {\n",
              "        background-color: #3B4455;\n",
              "        fill: #D2E3FC;\n",
              "      }\n",
              "\n",
              "      [theme=dark] .colab-df-generate:hover {\n",
              "        background-color: #434B5C;\n",
              "        box-shadow: 0px 1px 3px 1px rgba(0, 0, 0, 0.15);\n",
              "        filter: drop-shadow(0px 1px 2px rgba(0, 0, 0, 0.3));\n",
              "        fill: #FFFFFF;\n",
              "      }\n",
              "    </style>\n",
              "    <button class=\"colab-df-generate\" onclick=\"generateWithVariable('demo_expt_results')\"\n",
              "            title=\"Generate code using this dataframe.\"\n",
              "            style=\"display:none;\">\n",
              "\n",
              "  <svg xmlns=\"http://www.w3.org/2000/svg\" height=\"24px\"viewBox=\"0 0 24 24\"\n",
              "       width=\"24px\">\n",
              "    <path d=\"M7,19H8.4L18.45,9,17,7.55,7,17.6ZM5,21V16.75L18.45,3.32a2,2,0,0,1,2.83,0l1.4,1.43a1.91,1.91,0,0,1,.58,1.4,1.91,1.91,0,0,1-.58,1.4L9.25,21ZM18.45,9,17,7.55Zm-12,3A5.31,5.31,0,0,0,4.9,8.1,5.31,5.31,0,0,0,1,6.5,5.31,5.31,0,0,0,4.9,4.9,5.31,5.31,0,0,0,6.5,1,5.31,5.31,0,0,0,8.1,4.9,5.31,5.31,0,0,0,12,6.5,5.46,5.46,0,0,0,6.5,12Z\"/>\n",
              "  </svg>\n",
              "    </button>\n",
              "    <script>\n",
              "      (() => {\n",
              "      const buttonEl =\n",
              "        document.querySelector('#id_b939d2f0-4bab-491a-bf2b-dbccb0427034 button.colab-df-generate');\n",
              "      buttonEl.style.display =\n",
              "        google.colab.kernel.accessAllowed ? 'block' : 'none';\n",
              "\n",
              "      buttonEl.onclick = () => {\n",
              "        google.colab.notebook.generateWithVariable('demo_expt_results');\n",
              "      }\n",
              "      })();\n",
              "    </script>\n",
              "  </div>\n",
              "\n",
              "    </div>\n",
              "  </div>\n"
            ],
            "application/vnd.google.colaboratory.intrinsic+json": {
              "type": "dataframe",
              "variable_name": "demo_expt_results",
              "summary": "{\n  \"name\": \"demo_expt_results\",\n  \"rows\": 32,\n  \"fields\": [\n    {\n      \"column\": \"layer\",\n      \"properties\": {\n        \"dtype\": \"number\",\n        \"std\": 4,\n        \"min\": 0,\n        \"max\": 15,\n        \"num_unique_values\": 16,\n        \"samples\": [\n          0,\n          1,\n          5\n        ],\n        \"semantic_type\": \"\",\n        \"description\": \"\"\n      }\n    },\n    {\n      \"column\": \"run\",\n      \"properties\": {\n        \"dtype\": \"number\",\n        \"std\": 0,\n        \"min\": 0,\n        \"max\": 1,\n        \"num_unique_values\": 2,\n        \"samples\": [\n          1,\n          0\n        ],\n        \"semantic_type\": \"\",\n        \"description\": \"\"\n      }\n    },\n    {\n      \"column\": \"test_loss\",\n      \"properties\": {\n        \"dtype\": \"number\",\n        \"std\": 7.59570011703507,\n        \"min\": 4.076800769325928e-05,\n        \"max\": 37.985477447509766,\n        \"num_unique_values\": 32,\n        \"samples\": [\n          0.7748744757845998,\n          0.7639918476343155\n        ],\n        \"semantic_type\": \"\",\n        \"description\": \"\"\n      }\n    },\n    {\n      \"column\": \"test_accuracy\",\n      \"properties\": {\n        \"dtype\": \"number\",\n        \"std\": 0.23546453742994247,\n        \"min\": 0.5,\n        \"max\": 1.0,\n        \"num_unique_values\": 2,\n        \"samples\": [\n          1.0,\n          0.5\n        ],\n        \"semantic_type\": \"\",\n        \"description\": \"\"\n      }\n    },\n    {\n      \"column\": \"test_fail_ids\",\n      \"properties\": {\n        \"dtype\": \"object\",\n        \"semantic_type\": \"\",\n        \"description\": \"\"\n      }\n    },\n    {\n      \"column\": \"final_train_loss\",\n      \"properties\": {\n        \"dtype\": \"number\",\n        \"std\": 0.03848670267507114,\n        \"min\": 0.03565262630581856,\n        \"max\": 0.20246684551239014,\n        \"num_unique_values\": 32,\n        \"samples\": [\n          0.03708064928650856,\n          0.043484289199113846\n        ],\n        \"semantic_type\": \"\",\n        \"description\": \"\"\n      }\n    },\n    {\n      \"column\": \"final_train_accuracy\",\n      \"properties\": {\n        \"dtype\": \"number\",\n        \"std\": 0.12218026801879737,\n        \"min\": 0.1875,\n        \"max\": 0.6875,\n        \"num_unique_values\": 8,\n        \"samples\": [\n          0.25,\n          0.5\n        ],\n        \"semantic_type\": \"\",\n        \"description\": \"\"\n      }\n    },\n    {\n      \"column\": \"final_val_loss\",\n      \"properties\": {\n        \"dtype\": \"number\",\n        \"std\": 18.340261109154877,\n        \"min\": 4.1723241395175137e-07,\n        \"max\": 83.82231521606445,\n        \"num_unique_values\": 32,\n        \"samples\": [\n          0.059482757933437824,\n          0.35640622675418854\n        ],\n        \"semantic_type\": \"\",\n        \"description\": \"\"\n      }\n    },\n    {\n      \"column\": \"final_val_accuracy\",\n      \"properties\": {\n        \"dtype\": \"number\",\n        \"std\": 0.47704356668561104,\n        \"min\": 0.0,\n        \"max\": 1.0,\n        \"num_unique_values\": 3,\n        \"samples\": [\n          0.0,\n          0.5\n        ],\n        \"semantic_type\": \"\",\n        \"description\": \"\"\n      }\n    }\n  ]\n}"
            }
          },
          "metadata": {},
          "execution_count": 32
        }
      ]
    },
    {
      "cell_type": "code",
      "source": [
        "import experiments.utils as expt_utils\n",
        "\n",
        "demo_expt_summary = expt_utils.summarise_experiment(demo_expt_results)"
      ],
      "metadata": {
        "id": "WaqEyQp7m3U5"
      },
      "execution_count": 33,
      "outputs": []
    },
    {
      "cell_type": "code",
      "source": [
        "demo_expt_summary"
      ],
      "metadata": {
        "colab": {
          "base_uri": "https://localhost:8080/",
          "height": 551
        },
        "id": "ZCbqOPbdev9e",
        "outputId": "199898cc-e1d5-4ecb-c9bf-60f2967b07fb"
      },
      "execution_count": 34,
      "outputs": [
        {
          "output_type": "execute_result",
          "data": {
            "text/plain": [
              "    layer  accuracy_mean  accuracy_std  loss_mean   loss_std\n",
              "0       0           0.50      0.000000   8.070682   5.497264\n",
              "1       1           0.50      0.000000   1.076603   0.700450\n",
              "2       2           0.75      0.353553   3.343689   4.728632\n",
              "3       3           0.50      0.000000  29.262310  12.336422\n",
              "4       4           0.50      0.000000   4.124410   5.073231\n",
              "5       5           0.50      0.000000   1.230669   0.343302\n",
              "6       6           0.75      0.353553   0.537192   0.028891\n",
              "7       7           0.50      0.000000   0.750534   0.019032\n",
              "8       8           0.50      0.000000   1.175529   0.026357\n",
              "9       9           0.50      0.000000   0.755228   0.049153\n",
              "10     10           1.00      0.000000   0.201501   0.092779\n",
              "11     11           1.00      0.000000   0.436935   0.055959\n",
              "12     12           1.00      0.000000   0.414339   0.160914\n",
              "13     13           0.75      0.353553   0.492050   0.112152\n",
              "14     14           0.50      0.000000   0.775343   0.000663\n",
              "15     15           0.75      0.353553   0.786935   0.598859"
            ],
            "text/html": [
              "\n",
              "  <div id=\"df-cb5d28e1-a787-47dd-adab-dd239f434b2e\" class=\"colab-df-container\">\n",
              "    <div>\n",
              "<style scoped>\n",
              "    .dataframe tbody tr th:only-of-type {\n",
              "        vertical-align: middle;\n",
              "    }\n",
              "\n",
              "    .dataframe tbody tr th {\n",
              "        vertical-align: top;\n",
              "    }\n",
              "\n",
              "    .dataframe thead th {\n",
              "        text-align: right;\n",
              "    }\n",
              "</style>\n",
              "<table border=\"1\" class=\"dataframe\">\n",
              "  <thead>\n",
              "    <tr style=\"text-align: right;\">\n",
              "      <th></th>\n",
              "      <th>layer</th>\n",
              "      <th>accuracy_mean</th>\n",
              "      <th>accuracy_std</th>\n",
              "      <th>loss_mean</th>\n",
              "      <th>loss_std</th>\n",
              "    </tr>\n",
              "  </thead>\n",
              "  <tbody>\n",
              "    <tr>\n",
              "      <th>0</th>\n",
              "      <td>0</td>\n",
              "      <td>0.50</td>\n",
              "      <td>0.000000</td>\n",
              "      <td>8.070682</td>\n",
              "      <td>5.497264</td>\n",
              "    </tr>\n",
              "    <tr>\n",
              "      <th>1</th>\n",
              "      <td>1</td>\n",
              "      <td>0.50</td>\n",
              "      <td>0.000000</td>\n",
              "      <td>1.076603</td>\n",
              "      <td>0.700450</td>\n",
              "    </tr>\n",
              "    <tr>\n",
              "      <th>2</th>\n",
              "      <td>2</td>\n",
              "      <td>0.75</td>\n",
              "      <td>0.353553</td>\n",
              "      <td>3.343689</td>\n",
              "      <td>4.728632</td>\n",
              "    </tr>\n",
              "    <tr>\n",
              "      <th>3</th>\n",
              "      <td>3</td>\n",
              "      <td>0.50</td>\n",
              "      <td>0.000000</td>\n",
              "      <td>29.262310</td>\n",
              "      <td>12.336422</td>\n",
              "    </tr>\n",
              "    <tr>\n",
              "      <th>4</th>\n",
              "      <td>4</td>\n",
              "      <td>0.50</td>\n",
              "      <td>0.000000</td>\n",
              "      <td>4.124410</td>\n",
              "      <td>5.073231</td>\n",
              "    </tr>\n",
              "    <tr>\n",
              "      <th>5</th>\n",
              "      <td>5</td>\n",
              "      <td>0.50</td>\n",
              "      <td>0.000000</td>\n",
              "      <td>1.230669</td>\n",
              "      <td>0.343302</td>\n",
              "    </tr>\n",
              "    <tr>\n",
              "      <th>6</th>\n",
              "      <td>6</td>\n",
              "      <td>0.75</td>\n",
              "      <td>0.353553</td>\n",
              "      <td>0.537192</td>\n",
              "      <td>0.028891</td>\n",
              "    </tr>\n",
              "    <tr>\n",
              "      <th>7</th>\n",
              "      <td>7</td>\n",
              "      <td>0.50</td>\n",
              "      <td>0.000000</td>\n",
              "      <td>0.750534</td>\n",
              "      <td>0.019032</td>\n",
              "    </tr>\n",
              "    <tr>\n",
              "      <th>8</th>\n",
              "      <td>8</td>\n",
              "      <td>0.50</td>\n",
              "      <td>0.000000</td>\n",
              "      <td>1.175529</td>\n",
              "      <td>0.026357</td>\n",
              "    </tr>\n",
              "    <tr>\n",
              "      <th>9</th>\n",
              "      <td>9</td>\n",
              "      <td>0.50</td>\n",
              "      <td>0.000000</td>\n",
              "      <td>0.755228</td>\n",
              "      <td>0.049153</td>\n",
              "    </tr>\n",
              "    <tr>\n",
              "      <th>10</th>\n",
              "      <td>10</td>\n",
              "      <td>1.00</td>\n",
              "      <td>0.000000</td>\n",
              "      <td>0.201501</td>\n",
              "      <td>0.092779</td>\n",
              "    </tr>\n",
              "    <tr>\n",
              "      <th>11</th>\n",
              "      <td>11</td>\n",
              "      <td>1.00</td>\n",
              "      <td>0.000000</td>\n",
              "      <td>0.436935</td>\n",
              "      <td>0.055959</td>\n",
              "    </tr>\n",
              "    <tr>\n",
              "      <th>12</th>\n",
              "      <td>12</td>\n",
              "      <td>1.00</td>\n",
              "      <td>0.000000</td>\n",
              "      <td>0.414339</td>\n",
              "      <td>0.160914</td>\n",
              "    </tr>\n",
              "    <tr>\n",
              "      <th>13</th>\n",
              "      <td>13</td>\n",
              "      <td>0.75</td>\n",
              "      <td>0.353553</td>\n",
              "      <td>0.492050</td>\n",
              "      <td>0.112152</td>\n",
              "    </tr>\n",
              "    <tr>\n",
              "      <th>14</th>\n",
              "      <td>14</td>\n",
              "      <td>0.50</td>\n",
              "      <td>0.000000</td>\n",
              "      <td>0.775343</td>\n",
              "      <td>0.000663</td>\n",
              "    </tr>\n",
              "    <tr>\n",
              "      <th>15</th>\n",
              "      <td>15</td>\n",
              "      <td>0.75</td>\n",
              "      <td>0.353553</td>\n",
              "      <td>0.786935</td>\n",
              "      <td>0.598859</td>\n",
              "    </tr>\n",
              "  </tbody>\n",
              "</table>\n",
              "</div>\n",
              "    <div class=\"colab-df-buttons\">\n",
              "\n",
              "  <div class=\"colab-df-container\">\n",
              "    <button class=\"colab-df-convert\" onclick=\"convertToInteractive('df-cb5d28e1-a787-47dd-adab-dd239f434b2e')\"\n",
              "            title=\"Convert this dataframe to an interactive table.\"\n",
              "            style=\"display:none;\">\n",
              "\n",
              "  <svg xmlns=\"http://www.w3.org/2000/svg\" height=\"24px\" viewBox=\"0 -960 960 960\">\n",
              "    <path d=\"M120-120v-720h720v720H120Zm60-500h600v-160H180v160Zm220 220h160v-160H400v160Zm0 220h160v-160H400v160ZM180-400h160v-160H180v160Zm440 0h160v-160H620v160ZM180-180h160v-160H180v160Zm440 0h160v-160H620v160Z\"/>\n",
              "  </svg>\n",
              "    </button>\n",
              "\n",
              "  <style>\n",
              "    .colab-df-container {\n",
              "      display:flex;\n",
              "      gap: 12px;\n",
              "    }\n",
              "\n",
              "    .colab-df-convert {\n",
              "      background-color: #E8F0FE;\n",
              "      border: none;\n",
              "      border-radius: 50%;\n",
              "      cursor: pointer;\n",
              "      display: none;\n",
              "      fill: #1967D2;\n",
              "      height: 32px;\n",
              "      padding: 0 0 0 0;\n",
              "      width: 32px;\n",
              "    }\n",
              "\n",
              "    .colab-df-convert:hover {\n",
              "      background-color: #E2EBFA;\n",
              "      box-shadow: 0px 1px 2px rgba(60, 64, 67, 0.3), 0px 1px 3px 1px rgba(60, 64, 67, 0.15);\n",
              "      fill: #174EA6;\n",
              "    }\n",
              "\n",
              "    .colab-df-buttons div {\n",
              "      margin-bottom: 4px;\n",
              "    }\n",
              "\n",
              "    [theme=dark] .colab-df-convert {\n",
              "      background-color: #3B4455;\n",
              "      fill: #D2E3FC;\n",
              "    }\n",
              "\n",
              "    [theme=dark] .colab-df-convert:hover {\n",
              "      background-color: #434B5C;\n",
              "      box-shadow: 0px 1px 3px 1px rgba(0, 0, 0, 0.15);\n",
              "      filter: drop-shadow(0px 1px 2px rgba(0, 0, 0, 0.3));\n",
              "      fill: #FFFFFF;\n",
              "    }\n",
              "  </style>\n",
              "\n",
              "    <script>\n",
              "      const buttonEl =\n",
              "        document.querySelector('#df-cb5d28e1-a787-47dd-adab-dd239f434b2e button.colab-df-convert');\n",
              "      buttonEl.style.display =\n",
              "        google.colab.kernel.accessAllowed ? 'block' : 'none';\n",
              "\n",
              "      async function convertToInteractive(key) {\n",
              "        const element = document.querySelector('#df-cb5d28e1-a787-47dd-adab-dd239f434b2e');\n",
              "        const dataTable =\n",
              "          await google.colab.kernel.invokeFunction('convertToInteractive',\n",
              "                                                    [key], {});\n",
              "        if (!dataTable) return;\n",
              "\n",
              "        const docLinkHtml = 'Like what you see? Visit the ' +\n",
              "          '<a target=\"_blank\" href=https://colab.research.google.com/notebooks/data_table.ipynb>data table notebook</a>'\n",
              "          + ' to learn more about interactive tables.';\n",
              "        element.innerHTML = '';\n",
              "        dataTable['output_type'] = 'display_data';\n",
              "        await google.colab.output.renderOutput(dataTable, element);\n",
              "        const docLink = document.createElement('div');\n",
              "        docLink.innerHTML = docLinkHtml;\n",
              "        element.appendChild(docLink);\n",
              "      }\n",
              "    </script>\n",
              "  </div>\n",
              "\n",
              "\n",
              "<div id=\"df-83588655-71a3-4669-96dc-c2c0fb2227c3\">\n",
              "  <button class=\"colab-df-quickchart\" onclick=\"quickchart('df-83588655-71a3-4669-96dc-c2c0fb2227c3')\"\n",
              "            title=\"Suggest charts\"\n",
              "            style=\"display:none;\">\n",
              "\n",
              "<svg xmlns=\"http://www.w3.org/2000/svg\" height=\"24px\"viewBox=\"0 0 24 24\"\n",
              "     width=\"24px\">\n",
              "    <g>\n",
              "        <path d=\"M19 3H5c-1.1 0-2 .9-2 2v14c0 1.1.9 2 2 2h14c1.1 0 2-.9 2-2V5c0-1.1-.9-2-2-2zM9 17H7v-7h2v7zm4 0h-2V7h2v10zm4 0h-2v-4h2v4z\"/>\n",
              "    </g>\n",
              "</svg>\n",
              "  </button>\n",
              "\n",
              "<style>\n",
              "  .colab-df-quickchart {\n",
              "      --bg-color: #E8F0FE;\n",
              "      --fill-color: #1967D2;\n",
              "      --hover-bg-color: #E2EBFA;\n",
              "      --hover-fill-color: #174EA6;\n",
              "      --disabled-fill-color: #AAA;\n",
              "      --disabled-bg-color: #DDD;\n",
              "  }\n",
              "\n",
              "  [theme=dark] .colab-df-quickchart {\n",
              "      --bg-color: #3B4455;\n",
              "      --fill-color: #D2E3FC;\n",
              "      --hover-bg-color: #434B5C;\n",
              "      --hover-fill-color: #FFFFFF;\n",
              "      --disabled-bg-color: #3B4455;\n",
              "      --disabled-fill-color: #666;\n",
              "  }\n",
              "\n",
              "  .colab-df-quickchart {\n",
              "    background-color: var(--bg-color);\n",
              "    border: none;\n",
              "    border-radius: 50%;\n",
              "    cursor: pointer;\n",
              "    display: none;\n",
              "    fill: var(--fill-color);\n",
              "    height: 32px;\n",
              "    padding: 0;\n",
              "    width: 32px;\n",
              "  }\n",
              "\n",
              "  .colab-df-quickchart:hover {\n",
              "    background-color: var(--hover-bg-color);\n",
              "    box-shadow: 0 1px 2px rgba(60, 64, 67, 0.3), 0 1px 3px 1px rgba(60, 64, 67, 0.15);\n",
              "    fill: var(--button-hover-fill-color);\n",
              "  }\n",
              "\n",
              "  .colab-df-quickchart-complete:disabled,\n",
              "  .colab-df-quickchart-complete:disabled:hover {\n",
              "    background-color: var(--disabled-bg-color);\n",
              "    fill: var(--disabled-fill-color);\n",
              "    box-shadow: none;\n",
              "  }\n",
              "\n",
              "  .colab-df-spinner {\n",
              "    border: 2px solid var(--fill-color);\n",
              "    border-color: transparent;\n",
              "    border-bottom-color: var(--fill-color);\n",
              "    animation:\n",
              "      spin 1s steps(1) infinite;\n",
              "  }\n",
              "\n",
              "  @keyframes spin {\n",
              "    0% {\n",
              "      border-color: transparent;\n",
              "      border-bottom-color: var(--fill-color);\n",
              "      border-left-color: var(--fill-color);\n",
              "    }\n",
              "    20% {\n",
              "      border-color: transparent;\n",
              "      border-left-color: var(--fill-color);\n",
              "      border-top-color: var(--fill-color);\n",
              "    }\n",
              "    30% {\n",
              "      border-color: transparent;\n",
              "      border-left-color: var(--fill-color);\n",
              "      border-top-color: var(--fill-color);\n",
              "      border-right-color: var(--fill-color);\n",
              "    }\n",
              "    40% {\n",
              "      border-color: transparent;\n",
              "      border-right-color: var(--fill-color);\n",
              "      border-top-color: var(--fill-color);\n",
              "    }\n",
              "    60% {\n",
              "      border-color: transparent;\n",
              "      border-right-color: var(--fill-color);\n",
              "    }\n",
              "    80% {\n",
              "      border-color: transparent;\n",
              "      border-right-color: var(--fill-color);\n",
              "      border-bottom-color: var(--fill-color);\n",
              "    }\n",
              "    90% {\n",
              "      border-color: transparent;\n",
              "      border-bottom-color: var(--fill-color);\n",
              "    }\n",
              "  }\n",
              "</style>\n",
              "\n",
              "  <script>\n",
              "    async function quickchart(key) {\n",
              "      const quickchartButtonEl =\n",
              "        document.querySelector('#' + key + ' button');\n",
              "      quickchartButtonEl.disabled = true;  // To prevent multiple clicks.\n",
              "      quickchartButtonEl.classList.add('colab-df-spinner');\n",
              "      try {\n",
              "        const charts = await google.colab.kernel.invokeFunction(\n",
              "            'suggestCharts', [key], {});\n",
              "      } catch (error) {\n",
              "        console.error('Error during call to suggestCharts:', error);\n",
              "      }\n",
              "      quickchartButtonEl.classList.remove('colab-df-spinner');\n",
              "      quickchartButtonEl.classList.add('colab-df-quickchart-complete');\n",
              "    }\n",
              "    (() => {\n",
              "      let quickchartButtonEl =\n",
              "        document.querySelector('#df-83588655-71a3-4669-96dc-c2c0fb2227c3 button');\n",
              "      quickchartButtonEl.style.display =\n",
              "        google.colab.kernel.accessAllowed ? 'block' : 'none';\n",
              "    })();\n",
              "  </script>\n",
              "</div>\n",
              "\n",
              "  <div id=\"id_e55bd8d6-ea2b-4d09-baa3-9dc3434aa5c8\">\n",
              "    <style>\n",
              "      .colab-df-generate {\n",
              "        background-color: #E8F0FE;\n",
              "        border: none;\n",
              "        border-radius: 50%;\n",
              "        cursor: pointer;\n",
              "        display: none;\n",
              "        fill: #1967D2;\n",
              "        height: 32px;\n",
              "        padding: 0 0 0 0;\n",
              "        width: 32px;\n",
              "      }\n",
              "\n",
              "      .colab-df-generate:hover {\n",
              "        background-color: #E2EBFA;\n",
              "        box-shadow: 0px 1px 2px rgba(60, 64, 67, 0.3), 0px 1px 3px 1px rgba(60, 64, 67, 0.15);\n",
              "        fill: #174EA6;\n",
              "      }\n",
              "\n",
              "      [theme=dark] .colab-df-generate {\n",
              "        background-color: #3B4455;\n",
              "        fill: #D2E3FC;\n",
              "      }\n",
              "\n",
              "      [theme=dark] .colab-df-generate:hover {\n",
              "        background-color: #434B5C;\n",
              "        box-shadow: 0px 1px 3px 1px rgba(0, 0, 0, 0.15);\n",
              "        filter: drop-shadow(0px 1px 2px rgba(0, 0, 0, 0.3));\n",
              "        fill: #FFFFFF;\n",
              "      }\n",
              "    </style>\n",
              "    <button class=\"colab-df-generate\" onclick=\"generateWithVariable('demo_expt_summary')\"\n",
              "            title=\"Generate code using this dataframe.\"\n",
              "            style=\"display:none;\">\n",
              "\n",
              "  <svg xmlns=\"http://www.w3.org/2000/svg\" height=\"24px\"viewBox=\"0 0 24 24\"\n",
              "       width=\"24px\">\n",
              "    <path d=\"M7,19H8.4L18.45,9,17,7.55,7,17.6ZM5,21V16.75L18.45,3.32a2,2,0,0,1,2.83,0l1.4,1.43a1.91,1.91,0,0,1,.58,1.4,1.91,1.91,0,0,1-.58,1.4L9.25,21ZM18.45,9,17,7.55Zm-12,3A5.31,5.31,0,0,0,4.9,8.1,5.31,5.31,0,0,0,1,6.5,5.31,5.31,0,0,0,4.9,4.9,5.31,5.31,0,0,0,6.5,1,5.31,5.31,0,0,0,8.1,4.9,5.31,5.31,0,0,0,12,6.5,5.46,5.46,0,0,0,6.5,12Z\"/>\n",
              "  </svg>\n",
              "    </button>\n",
              "    <script>\n",
              "      (() => {\n",
              "      const buttonEl =\n",
              "        document.querySelector('#id_e55bd8d6-ea2b-4d09-baa3-9dc3434aa5c8 button.colab-df-generate');\n",
              "      buttonEl.style.display =\n",
              "        google.colab.kernel.accessAllowed ? 'block' : 'none';\n",
              "\n",
              "      buttonEl.onclick = () => {\n",
              "        google.colab.notebook.generateWithVariable('demo_expt_summary');\n",
              "      }\n",
              "      })();\n",
              "    </script>\n",
              "  </div>\n",
              "\n",
              "    </div>\n",
              "  </div>\n"
            ],
            "application/vnd.google.colaboratory.intrinsic+json": {
              "type": "dataframe",
              "variable_name": "demo_expt_summary",
              "summary": "{\n  \"name\": \"demo_expt_summary\",\n  \"rows\": 16,\n  \"fields\": [\n    {\n      \"column\": \"layer\",\n      \"properties\": {\n        \"dtype\": \"number\",\n        \"std\": 4,\n        \"min\": 0,\n        \"max\": 15,\n        \"num_unique_values\": 16,\n        \"samples\": [\n          0,\n          1,\n          5\n        ],\n        \"semantic_type\": \"\",\n        \"description\": \"\"\n      }\n    },\n    {\n      \"column\": \"accuracy_mean\",\n      \"properties\": {\n        \"dtype\": \"number\",\n        \"std\": 0.20155644370746376,\n        \"min\": 0.5,\n        \"max\": 1.0,\n        \"num_unique_values\": 3,\n        \"samples\": [\n          0.5,\n          0.75,\n          1.0\n        ],\n        \"semantic_type\": \"\",\n        \"description\": \"\"\n      }\n    },\n    {\n      \"column\": \"accuracy_std\",\n      \"properties\": {\n        \"dtype\": \"number\",\n        \"std\": 0.15811388300841897,\n        \"min\": 0.0,\n        \"max\": 0.3535533905932738,\n        \"num_unique_values\": 2,\n        \"samples\": [\n          0.3535533905932738,\n          0.0\n        ],\n        \"semantic_type\": \"\",\n        \"description\": \"\"\n      }\n    },\n    {\n      \"column\": \"loss_mean\",\n      \"properties\": {\n        \"dtype\": \"number\",\n        \"std\": 7.204183916544307,\n        \"min\": 0.20150149520486593,\n        \"max\": 29.262310028076172,\n        \"num_unique_values\": 16,\n        \"samples\": [\n          8.07068157196045,\n          1.0766034126281738\n        ],\n        \"semantic_type\": \"\",\n        \"description\": \"\"\n      }\n    },\n    {\n      \"column\": \"loss_std\",\n      \"properties\": {\n        \"dtype\": \"number\",\n        \"std\": 3.4247562415825246,\n        \"min\": 0.0006628033153158435,\n        \"max\": 12.3364216714141,\n        \"num_unique_values\": 16,\n        \"samples\": [\n          5.497264027494122,\n          0.7004501079327369\n        ],\n        \"semantic_type\": \"\",\n        \"description\": \"\"\n      }\n    }\n  ]\n}"
            }
          },
          "metadata": {},
          "execution_count": 34
        }
      ]
    },
    {
      "cell_type": "code",
      "source": [
        "expt_utils.plot_from_summary(demo_expt_summary, descriptor='demo')"
      ],
      "metadata": {
        "colab": {
          "base_uri": "https://localhost:8080/",
          "height": 419
        },
        "id": "RXadjLCBZDCt",
        "outputId": "13151c5f-6a21-48d6-8470-e590db47cd25"
      },
      "execution_count": 35,
      "outputs": [
        {
          "output_type": "display_data",
          "data": {
            "text/plain": [
              "<Figure size 800x400 with 1 Axes>"
            ],
            "image/png": "[encoded data removed]"
          },
          "metadata": {}
        }
      ]
    },
    {
      "cell_type": "markdown",
      "source": [
        "## Probe Loading and Evaluation"
      ],
      "metadata": {
        "id": "LcY7GtWxzbgh"
      }
    },
    {
      "cell_type": "code",
      "source": [
        "# TODO: write extra loading functionality for running an experiment using pretrained\n",
        "# TODO: extend failure detection functionality"
      ],
      "metadata": {
        "id": "-cctwkQazc8Q"
      },
      "execution_count": 36,
      "outputs": []
    }
  ]
}