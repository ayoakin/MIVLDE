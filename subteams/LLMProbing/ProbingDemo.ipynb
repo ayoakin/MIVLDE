{
  "nbformat": 4,
  "nbformat_minor": 0,
  "metadata": {
    "colab": {
      "provenance": [],
      "authorship_tag": "ABX9TyNtnhL6hkQoENvKc8j3G00u"
    },
    "kernelspec": {
      "name": "python3",
      "display_name": "Python 3"
    },
    "language_info": {
      "name": "python"
    },
    "widgets": {
      "application/vnd.jupyter.widget-state+json": {
        "e4e322268052461c8cce2363ebdce177": {
          "model_module": "@jupyter-widgets/controls",
          "model_name": "HBoxModel",
          "model_module_version": "1.5.0",
          "state": {
            "_dom_classes": [],
            "_model_module": "@jupyter-widgets/controls",
            "_model_module_version": "1.5.0",
            "_model_name": "HBoxModel",
            "_view_count": null,
            "_view_module": "@jupyter-widgets/controls",
            "_view_module_version": "1.5.0",
            "_view_name": "HBoxView",
            "box_style": "",
            "children": [
              "IPY_MODEL_183ae51e19c54de88b5fd1f5e2812a30",
              "IPY_MODEL_794b36acf00a4cb890701878c4ace387",
              "IPY_MODEL_640fd7e6ff25451a88561e06d14163a0"
            ],
            "layout": "IPY_MODEL_fadef2c1e76147089072268d6bcd389e"
          }
        },
        "183ae51e19c54de88b5fd1f5e2812a30": {
          "model_module": "@jupyter-widgets/controls",
          "model_name": "HTMLModel",
          "model_module_version": "1.5.0",
          "state": {
            "_dom_classes": [],
            "_model_module": "@jupyter-widgets/controls",
            "_model_module_version": "1.5.0",
            "_model_name": "HTMLModel",
            "_view_count": null,
            "_view_module": "@jupyter-widgets/controls",
            "_view_module_version": "1.5.0",
            "_view_name": "HTMLView",
            "description": "",
            "description_tooltip": null,
            "layout": "IPY_MODEL_460eef622f78405fa92c39d5a2525f6f",
            "placeholder": "​",
            "style": "IPY_MODEL_a480ab9c8dc943018610e6207f3a1aab",
            "value": "Generating exponential samples: 100%"
          }
        },
        "794b36acf00a4cb890701878c4ace387": {
          "model_module": "@jupyter-widgets/controls",
          "model_name": "FloatProgressModel",
          "model_module_version": "1.5.0",
          "state": {
            "_dom_classes": [],
            "_model_module": "@jupyter-widgets/controls",
            "_model_module_version": "1.5.0",
            "_model_name": "FloatProgressModel",
            "_view_count": null,
            "_view_module": "@jupyter-widgets/controls",
            "_view_module_version": "1.5.0",
            "_view_name": "ProgressView",
            "bar_style": "success",
            "description": "",
            "description_tooltip": null,
            "layout": "IPY_MODEL_23cc6886564b4012a7460da767de84f7",
            "max": 10,
            "min": 0,
            "orientation": "horizontal",
            "style": "IPY_MODEL_7bb086c578a94ca1b32c10bf66b7d2be",
            "value": 10
          }
        },
        "640fd7e6ff25451a88561e06d14163a0": {
          "model_module": "@jupyter-widgets/controls",
          "model_name": "HTMLModel",
          "model_module_version": "1.5.0",
          "state": {
            "_dom_classes": [],
            "_model_module": "@jupyter-widgets/controls",
            "_model_module_version": "1.5.0",
            "_model_name": "HTMLModel",
            "_view_count": null,
            "_view_module": "@jupyter-widgets/controls",
            "_view_module_version": "1.5.0",
            "_view_name": "HTMLView",
            "description": "",
            "description_tooltip": null,
            "layout": "IPY_MODEL_a585a51295124971ab85f0c80166bb3c",
            "placeholder": "​",
            "style": "IPY_MODEL_2759e7d470fd43cf875451ab8ae0017f",
            "value": " 10/10 [00:00&lt;00:00, 689.57it/s]"
          }
        },
        "fadef2c1e76147089072268d6bcd389e": {
          "model_module": "@jupyter-widgets/base",
          "model_name": "LayoutModel",
          "model_module_version": "1.2.0",
          "state": {
            "_model_module": "@jupyter-widgets/base",
            "_model_module_version": "1.2.0",
            "_model_name": "LayoutModel",
            "_view_count": null,
            "_view_module": "@jupyter-widgets/base",
            "_view_module_version": "1.2.0",
            "_view_name": "LayoutView",
            "align_content": null,
            "align_items": null,
            "align_self": null,
            "border": null,
            "bottom": null,
            "display": null,
            "flex": null,
            "flex_flow": null,
            "grid_area": null,
            "grid_auto_columns": null,
            "grid_auto_flow": null,
            "grid_auto_rows": null,
            "grid_column": null,
            "grid_gap": null,
            "grid_row": null,
            "grid_template_areas": null,
            "grid_template_columns": null,
            "grid_template_rows": null,
            "height": null,
            "justify_content": null,
            "justify_items": null,
            "left": null,
            "margin": null,
            "max_height": null,
            "max_width": null,
            "min_height": null,
            "min_width": null,
            "object_fit": null,
            "object_position": null,
            "order": null,
            "overflow": null,
            "overflow_x": null,
            "overflow_y": null,
            "padding": null,
            "right": null,
            "top": null,
            "visibility": null,
            "width": null
          }
        },
        "460eef622f78405fa92c39d5a2525f6f": {
          "model_module": "@jupyter-widgets/base",
          "model_name": "LayoutModel",
          "model_module_version": "1.2.0",
          "state": {
            "_model_module": "@jupyter-widgets/base",
            "_model_module_version": "1.2.0",
            "_model_name": "LayoutModel",
            "_view_count": null,
            "_view_module": "@jupyter-widgets/base",
            "_view_module_version": "1.2.0",
            "_view_name": "LayoutView",
            "align_content": null,
            "align_items": null,
            "align_self": null,
            "border": null,
            "bottom": null,
            "display": null,
            "flex": null,
            "flex_flow": null,
            "grid_area": null,
            "grid_auto_columns": null,
            "grid_auto_flow": null,
            "grid_auto_rows": null,
            "grid_column": null,
            "grid_gap": null,
            "grid_row": null,
            "grid_template_areas": null,
            "grid_template_columns": null,
            "grid_template_rows": null,
            "height": null,
            "justify_content": null,
            "justify_items": null,
            "left": null,
            "margin": null,
            "max_height": null,
            "max_width": null,
            "min_height": null,
            "min_width": null,
            "object_fit": null,
            "object_position": null,
            "order": null,
            "overflow": null,
            "overflow_x": null,
            "overflow_y": null,
            "padding": null,
            "right": null,
            "top": null,
            "visibility": null,
            "width": null
          }
        },
        "a480ab9c8dc943018610e6207f3a1aab": {
          "model_module": "@jupyter-widgets/controls",
          "model_name": "DescriptionStyleModel",
          "model_module_version": "1.5.0",
          "state": {
            "_model_module": "@jupyter-widgets/controls",
            "_model_module_version": "1.5.0",
            "_model_name": "DescriptionStyleModel",
            "_view_count": null,
            "_view_module": "@jupyter-widgets/base",
            "_view_module_version": "1.2.0",
            "_view_name": "StyleView",
            "description_width": ""
          }
        },
        "23cc6886564b4012a7460da767de84f7": {
          "model_module": "@jupyter-widgets/base",
          "model_name": "LayoutModel",
          "model_module_version": "1.2.0",
          "state": {
            "_model_module": "@jupyter-widgets/base",
            "_model_module_version": "1.2.0",
            "_model_name": "LayoutModel",
            "_view_count": null,
            "_view_module": "@jupyter-widgets/base",
            "_view_module_version": "1.2.0",
            "_view_name": "LayoutView",
            "align_content": null,
            "align_items": null,
            "align_self": null,
            "border": null,
            "bottom": null,
            "display": null,
            "flex": null,
            "flex_flow": null,
            "grid_area": null,
            "grid_auto_columns": null,
            "grid_auto_flow": null,
            "grid_auto_rows": null,
            "grid_column": null,
            "grid_gap": null,
            "grid_row": null,
            "grid_template_areas": null,
            "grid_template_columns": null,
            "grid_template_rows": null,
            "height": null,
            "justify_content": null,
            "justify_items": null,
            "left": null,
            "margin": null,
            "max_height": null,
            "max_width": null,
            "min_height": null,
            "min_width": null,
            "object_fit": null,
            "object_position": null,
            "order": null,
            "overflow": null,
            "overflow_x": null,
            "overflow_y": null,
            "padding": null,
            "right": null,
            "top": null,
            "visibility": null,
            "width": null
          }
        },
        "7bb086c578a94ca1b32c10bf66b7d2be": {
          "model_module": "@jupyter-widgets/controls",
          "model_name": "ProgressStyleModel",
          "model_module_version": "1.5.0",
          "state": {
            "_model_module": "@jupyter-widgets/controls",
            "_model_module_version": "1.5.0",
            "_model_name": "ProgressStyleModel",
            "_view_count": null,
            "_view_module": "@jupyter-widgets/base",
            "_view_module_version": "1.2.0",
            "_view_name": "StyleView",
            "bar_color": null,
            "description_width": ""
          }
        },
        "a585a51295124971ab85f0c80166bb3c": {
          "model_module": "@jupyter-widgets/base",
          "model_name": "LayoutModel",
          "model_module_version": "1.2.0",
          "state": {
            "_model_module": "@jupyter-widgets/base",
            "_model_module_version": "1.2.0",
            "_model_name": "LayoutModel",
            "_view_count": null,
            "_view_module": "@jupyter-widgets/base",
            "_view_module_version": "1.2.0",
            "_view_name": "LayoutView",
            "align_content": null,
            "align_items": null,
            "align_self": null,
            "border": null,
            "bottom": null,
            "display": null,
            "flex": null,
            "flex_flow": null,
            "grid_area": null,
            "grid_auto_columns": null,
            "grid_auto_flow": null,
            "grid_auto_rows": null,
            "grid_column": null,
            "grid_gap": null,
            "grid_row": null,
            "grid_template_areas": null,
            "grid_template_columns": null,
            "grid_template_rows": null,
            "height": null,
            "justify_content": null,
            "justify_items": null,
            "left": null,
            "margin": null,
            "max_height": null,
            "max_width": null,
            "min_height": null,
            "min_width": null,
            "object_fit": null,
            "object_position": null,
            "order": null,
            "overflow": null,
            "overflow_x": null,
            "overflow_y": null,
            "padding": null,
            "right": null,
            "top": null,
            "visibility": null,
            "width": null
          }
        },
        "2759e7d470fd43cf875451ab8ae0017f": {
          "model_module": "@jupyter-widgets/controls",
          "model_name": "DescriptionStyleModel",
          "model_module_version": "1.5.0",
          "state": {
            "_model_module": "@jupyter-widgets/controls",
            "_model_module_version": "1.5.0",
            "_model_name": "DescriptionStyleModel",
            "_view_count": null,
            "_view_module": "@jupyter-widgets/base",
            "_view_module_version": "1.2.0",
            "_view_name": "StyleView",
            "description_width": ""
          }
        },
        "c24f4a7c0e724d1ba72c33c039da6b5b": {
          "model_module": "@jupyter-widgets/controls",
          "model_name": "HBoxModel",
          "model_module_version": "1.5.0",
          "state": {
            "_dom_classes": [],
            "_model_module": "@jupyter-widgets/controls",
            "_model_module_version": "1.5.0",
            "_model_name": "HBoxModel",
            "_view_count": null,
            "_view_module": "@jupyter-widgets/controls",
            "_view_module_version": "1.5.0",
            "_view_name": "HBoxView",
            "box_style": "",
            "children": [
              "IPY_MODEL_fba1a884067045e2803aabae1c308b12",
              "IPY_MODEL_c0209ca5215142559daadba19af45f5f",
              "IPY_MODEL_fc4896a4c9b1461699fc48c6703b93f1"
            ],
            "layout": "IPY_MODEL_acab5a0e378f4b84b9baa49568aa4155"
          }
        },
        "fba1a884067045e2803aabae1c308b12": {
          "model_module": "@jupyter-widgets/controls",
          "model_name": "HTMLModel",
          "model_module_version": "1.5.0",
          "state": {
            "_dom_classes": [],
            "_model_module": "@jupyter-widgets/controls",
            "_model_module_version": "1.5.0",
            "_model_name": "HTMLModel",
            "_view_count": null,
            "_view_module": "@jupyter-widgets/controls",
            "_view_module_version": "1.5.0",
            "_view_name": "HTMLView",
            "description": "",
            "description_tooltip": null,
            "layout": "IPY_MODEL_3f06de230c0d4c29a023fc5438493256",
            "placeholder": "​",
            "style": "IPY_MODEL_2021ab028268468583092d1d6d93a103",
            "value": "Generating hyperbolic samples: 100%"
          }
        },
        "c0209ca5215142559daadba19af45f5f": {
          "model_module": "@jupyter-widgets/controls",
          "model_name": "FloatProgressModel",
          "model_module_version": "1.5.0",
          "state": {
            "_dom_classes": [],
            "_model_module": "@jupyter-widgets/controls",
            "_model_module_version": "1.5.0",
            "_model_name": "FloatProgressModel",
            "_view_count": null,
            "_view_module": "@jupyter-widgets/controls",
            "_view_module_version": "1.5.0",
            "_view_name": "ProgressView",
            "bar_style": "success",
            "description": "",
            "description_tooltip": null,
            "layout": "IPY_MODEL_d89e1de63a444bd4a71853033b68ff53",
            "max": 10,
            "min": 0,
            "orientation": "horizontal",
            "style": "IPY_MODEL_b70a77a7134b472e82f4dfcd3f78a62f",
            "value": 10
          }
        },
        "fc4896a4c9b1461699fc48c6703b93f1": {
          "model_module": "@jupyter-widgets/controls",
          "model_name": "HTMLModel",
          "model_module_version": "1.5.0",
          "state": {
            "_dom_classes": [],
            "_model_module": "@jupyter-widgets/controls",
            "_model_module_version": "1.5.0",
            "_model_name": "HTMLModel",
            "_view_count": null,
            "_view_module": "@jupyter-widgets/controls",
            "_view_module_version": "1.5.0",
            "_view_name": "HTMLView",
            "description": "",
            "description_tooltip": null,
            "layout": "IPY_MODEL_65c4e90414c340de94a06bdd5bd52b90",
            "placeholder": "​",
            "style": "IPY_MODEL_cc21fb997e544939b1a8aed76e30a461",
            "value": " 10/10 [00:00&lt;00:00, 689.64it/s]"
          }
        },
        "acab5a0e378f4b84b9baa49568aa4155": {
          "model_module": "@jupyter-widgets/base",
          "model_name": "LayoutModel",
          "model_module_version": "1.2.0",
          "state": {
            "_model_module": "@jupyter-widgets/base",
            "_model_module_version": "1.2.0",
            "_model_name": "LayoutModel",
            "_view_count": null,
            "_view_module": "@jupyter-widgets/base",
            "_view_module_version": "1.2.0",
            "_view_name": "LayoutView",
            "align_content": null,
            "align_items": null,
            "align_self": null,
            "border": null,
            "bottom": null,
            "display": null,
            "flex": null,
            "flex_flow": null,
            "grid_area": null,
            "grid_auto_columns": null,
            "grid_auto_flow": null,
            "grid_auto_rows": null,
            "grid_column": null,
            "grid_gap": null,
            "grid_row": null,
            "grid_template_areas": null,
            "grid_template_columns": null,
            "grid_template_rows": null,
            "height": null,
            "justify_content": null,
            "justify_items": null,
            "left": null,
            "margin": null,
            "max_height": null,
            "max_width": null,
            "min_height": null,
            "min_width": null,
            "object_fit": null,
            "object_position": null,
            "order": null,
            "overflow": null,
            "overflow_x": null,
            "overflow_y": null,
            "padding": null,
            "right": null,
            "top": null,
            "visibility": null,
            "width": null
          }
        },
        "3f06de230c0d4c29a023fc5438493256": {
          "model_module": "@jupyter-widgets/base",
          "model_name": "LayoutModel",
          "model_module_version": "1.2.0",
          "state": {
            "_model_module": "@jupyter-widgets/base",
            "_model_module_version": "1.2.0",
            "_model_name": "LayoutModel",
            "_view_count": null,
            "_view_module": "@jupyter-widgets/base",
            "_view_module_version": "1.2.0",
            "_view_name": "LayoutView",
            "align_content": null,
            "align_items": null,
            "align_self": null,
            "border": null,
            "bottom": null,
            "display": null,
            "flex": null,
            "flex_flow": null,
            "grid_area": null,
            "grid_auto_columns": null,
            "grid_auto_flow": null,
            "grid_auto_rows": null,
            "grid_column": null,
            "grid_gap": null,
            "grid_row": null,
            "grid_template_areas": null,
            "grid_template_columns": null,
            "grid_template_rows": null,
            "height": null,
            "justify_content": null,
            "justify_items": null,
            "left": null,
            "margin": null,
            "max_height": null,
            "max_width": null,
            "min_height": null,
            "min_width": null,
            "object_fit": null,
            "object_position": null,
            "order": null,
            "overflow": null,
            "overflow_x": null,
            "overflow_y": null,
            "padding": null,
            "right": null,
            "top": null,
            "visibility": null,
            "width": null
          }
        },
        "2021ab028268468583092d1d6d93a103": {
          "model_module": "@jupyter-widgets/controls",
          "model_name": "DescriptionStyleModel",
          "model_module_version": "1.5.0",
          "state": {
            "_model_module": "@jupyter-widgets/controls",
            "_model_module_version": "1.5.0",
            "_model_name": "DescriptionStyleModel",
            "_view_count": null,
            "_view_module": "@jupyter-widgets/base",
            "_view_module_version": "1.2.0",
            "_view_name": "StyleView",
            "description_width": ""
          }
        },
        "d89e1de63a444bd4a71853033b68ff53": {
          "model_module": "@jupyter-widgets/base",
          "model_name": "LayoutModel",
          "model_module_version": "1.2.0",
          "state": {
            "_model_module": "@jupyter-widgets/base",
            "_model_module_version": "1.2.0",
            "_model_name": "LayoutModel",
            "_view_count": null,
            "_view_module": "@jupyter-widgets/base",
            "_view_module_version": "1.2.0",
            "_view_name": "LayoutView",
            "align_content": null,
            "align_items": null,
            "align_self": null,
            "border": null,
            "bottom": null,
            "display": null,
            "flex": null,
            "flex_flow": null,
            "grid_area": null,
            "grid_auto_columns": null,
            "grid_auto_flow": null,
            "grid_auto_rows": null,
            "grid_column": null,
            "grid_gap": null,
            "grid_row": null,
            "grid_template_areas": null,
            "grid_template_columns": null,
            "grid_template_rows": null,
            "height": null,
            "justify_content": null,
            "justify_items": null,
            "left": null,
            "margin": null,
            "max_height": null,
            "max_width": null,
            "min_height": null,
            "min_width": null,
            "object_fit": null,
            "object_position": null,
            "order": null,
            "overflow": null,
            "overflow_x": null,
            "overflow_y": null,
            "padding": null,
            "right": null,
            "top": null,
            "visibility": null,
            "width": null
          }
        },
        "b70a77a7134b472e82f4dfcd3f78a62f": {
          "model_module": "@jupyter-widgets/controls",
          "model_name": "ProgressStyleModel",
          "model_module_version": "1.5.0",
          "state": {
            "_model_module": "@jupyter-widgets/controls",
            "_model_module_version": "1.5.0",
            "_model_name": "ProgressStyleModel",
            "_view_count": null,
            "_view_module": "@jupyter-widgets/base",
            "_view_module_version": "1.2.0",
            "_view_name": "StyleView",
            "bar_color": null,
            "description_width": ""
          }
        },
        "65c4e90414c340de94a06bdd5bd52b90": {
          "model_module": "@jupyter-widgets/base",
          "model_name": "LayoutModel",
          "model_module_version": "1.2.0",
          "state": {
            "_model_module": "@jupyter-widgets/base",
            "_model_module_version": "1.2.0",
            "_model_name": "LayoutModel",
            "_view_count": null,
            "_view_module": "@jupyter-widgets/base",
            "_view_module_version": "1.2.0",
            "_view_name": "LayoutView",
            "align_content": null,
            "align_items": null,
            "align_self": null,
            "border": null,
            "bottom": null,
            "display": null,
            "flex": null,
            "flex_flow": null,
            "grid_area": null,
            "grid_auto_columns": null,
            "grid_auto_flow": null,
            "grid_auto_rows": null,
            "grid_column": null,
            "grid_gap": null,
            "grid_row": null,
            "grid_template_areas": null,
            "grid_template_columns": null,
            "grid_template_rows": null,
            "height": null,
            "justify_content": null,
            "justify_items": null,
            "left": null,
            "margin": null,
            "max_height": null,
            "max_width": null,
            "min_height": null,
            "min_width": null,
            "object_fit": null,
            "object_position": null,
            "order": null,
            "overflow": null,
            "overflow_x": null,
            "overflow_y": null,
            "padding": null,
            "right": null,
            "top": null,
            "visibility": null,
            "width": null
          }
        },
        "cc21fb997e544939b1a8aed76e30a461": {
          "model_module": "@jupyter-widgets/controls",
          "model_name": "DescriptionStyleModel",
          "model_module_version": "1.5.0",
          "state": {
            "_model_module": "@jupyter-widgets/controls",
            "_model_module_version": "1.5.0",
            "_model_name": "DescriptionStyleModel",
            "_view_count": null,
            "_view_module": "@jupyter-widgets/base",
            "_view_module_version": "1.2.0",
            "_view_name": "StyleView",
            "description_width": ""
          }
        }
      }
    }
  },
  "cells": [
    {
      "cell_type": "code",
      "source": [
        "# give colab permission to access drive\n",
        "from google.colab import drive\n",
        "drive.mount('/content/drive')"
      ],
      "metadata": {
        "colab": {
          "base_uri": "https://localhost:8080/"
        },
        "id": "nm965IrO22Zw",
        "outputId": "5bf52482-aeef-4195-f3d6-bf925a356eeb"
      },
      "execution_count": 1,
      "outputs": [
        {
          "output_type": "stream",
          "name": "stdout",
          "text": [
            "Drive already mounted at /content/drive; to attempt to forcibly remount, call drive.mount(\"/content/drive\", force_remount=True).\n"
          ]
        }
      ]
    },
    {
      "cell_type": "code",
      "source": [
        "# Update these as required\n",
        "repo_path = '/content/drive/MyDrive/github/subteams/LLMProbing'\n",
        "odeformer_path = '/content/drive/MyDrive/aisc' # This is because I cloned the odeformer repo into my aisc folder\n",
        "samples_path = '/content/drive/MyDrive/github/subteams/LLMProbing/local_experiment_data/samples'\n",
        "activations_path = '/content/drive/MyDrive/github/subteams/LLMProbing/local_experiment_data/activations'\n",
        "probes_path = '/content/drive/MyDrive/github/subteams/LLMProbing/local_experiment_data/probes'"
      ],
      "metadata": {
        "id": "oMt_fcLwzfl6"
      },
      "execution_count": 2,
      "outputs": []
    },
    {
      "cell_type": "code",
      "source": [
        "import sys\n",
        "import importlib\n",
        "sys.path.append(repo_path)\n",
        "sys.path.append(odeformer_path)"
      ],
      "metadata": {
        "id": "pNqQwNvG28hV"
      },
      "execution_count": 3,
      "outputs": []
    },
    {
      "cell_type": "code",
      "source": [
        "import numpy as np\n",
        "import os\n",
        "import pickle"
      ],
      "metadata": {
        "id": "5RUno2Vs4e_g"
      },
      "execution_count": 4,
      "outputs": []
    },
    {
      "cell_type": "code",
      "source": [
        "from odeformer.model import SymbolicTransformerRegressor\n",
        "dstr = SymbolicTransformerRegressor(from_pretrained=True)\n",
        "model_args = {'beam_size': 10, 'beam_temperature': 0.8}\n",
        "dstr.set_model_args(model_args)"
      ],
      "metadata": {
        "colab": {
          "base_uri": "https://localhost:8080/"
        },
        "id": "fJCeXP3U7LML",
        "outputId": "4f1f39ca-fb17-4b82-f4fd-c303fdd93507"
      },
      "execution_count": 5,
      "outputs": [
        {
          "output_type": "stream",
          "name": "stdout",
          "text": [
            "Found pretrained model at odeformer.pt\n",
            "Loaded pretrained model\n"
          ]
        }
      ]
    },
    {
      "cell_type": "code",
      "source": [
        "%load_ext autoreload\n",
        "%autoreload 2"
      ],
      "metadata": {
        "id": "XkBDbGPWT1_d"
      },
      "execution_count": 6,
      "outputs": []
    },
    {
      "cell_type": "markdown",
      "source": [
        "## Random Sample Generation"
      ],
      "metadata": {
        "id": "4OANH6idzPaa"
      }
    },
    {
      "cell_type": "code",
      "source": [
        "from src.sample_generation import RandomSamplesGenerator"
      ],
      "metadata": {
        "id": "LNbJcKUB3ES2"
      },
      "execution_count": 7,
      "outputs": []
    },
    {
      "cell_type": "code",
      "source": [
        "operators_to_use = \"id:1,add:1,mul:1,sin:0.5\"\n",
        "min_dimension = 1\n",
        "max_dimension = 1\n",
        "num_samples = 10\n",
        "seed = 42\n",
        "sample_descriptor = 'demo'\n",
        "\n",
        "random_samples_path = f'{samples_path}/demo_random'"
      ],
      "metadata": {
        "id": "5ZdMR6G56J0S"
      },
      "execution_count": 8,
      "outputs": []
    },
    {
      "cell_type": "code",
      "source": [
        "# rsg = RandomSamplesGenerator(samples_path=random_samples_path, num_samples=num_samples, operators_to_use=operators_to_use, min_dimension=min_dimension, max_dimension=max_dimension)\n",
        "rsg = RandomSamplesGenerator()\n",
        "# TODO: possibly restructure this class to give important parameters to generate_random_samples()\n",
        "# Then we will be able to rerun generation with different parameters without having to instantiate a new instance of RSG\n",
        "# Probably what is most useful is to specify samples_path only"
      ],
      "metadata": {
        "id": "MR8m17Ck39QH"
      },
      "execution_count": 9,
      "outputs": []
    },
    {
      "cell_type": "code",
      "source": [
        "rsg.generate_random_samples(random_samples_path, seed=seed, num_samples=num_samples, \\\n",
        "                            operators_to_use=operators_to_use, min_dimension=min_dimension, \\\n",
        "                            max_dimension=max_dimension, sample_descriptor='demo')"
      ],
      "metadata": {
        "colab": {
          "base_uri": "https://localhost:8080/"
        },
        "id": "FaPYyAfR3J4e",
        "outputId": "e45546f7-c39e-49ca-8427-0a1727f7a78d"
      },
      "execution_count": 10,
      "outputs": [
        {
          "output_type": "stream",
          "name": "stderr",
          "text": [
            "Generating demo samples: 100%|██████████| 10/10 [00:01<00:00,  5.39it/s]"
          ]
        },
        {
          "output_type": "stream",
          "name": "stdout",
          "text": [
            "\n",
            "[INFO] Data generation complete. Saved 10 demo samples to /content/drive/MyDrive/github/subteams/LLMProbing/local_experiment_data/samples/demo_random\n"
          ]
        },
        {
          "output_type": "stream",
          "name": "stderr",
          "text": [
            "\n"
          ]
        }
      ]
    },
    {
      "cell_type": "code",
      "source": [
        "# Inspect a random sample to see its keys and some data\n",
        "random_samples_dir = os.fsencode(random_samples_path)\n",
        "for random_sample_file in os.listdir(random_samples_dir):\n",
        "  random_sample_name = os.fsdecode(random_sample_file)\n",
        "  random_sample_path = os.path.join(random_samples_path, random_sample_name)\n",
        "  with open(random_sample_path, 'rb') as f:\n",
        "      random_sample = pickle.load(f)\n",
        "  print(random_sample.keys())\n",
        "  print(f\"Encoded equation: {random_sample['tree']}\")\n",
        "  print(f\"Feature dictionary: {random_sample['feature_dict']}\")\n",
        "  break"
      ],
      "metadata": {
        "colab": {
          "base_uri": "https://localhost:8080/"
        },
        "id": "eMz8dSe-4AS1",
        "outputId": "bded8d90-5895-4e27-aa04-acf912e57439"
      },
      "execution_count": 11,
      "outputs": [
        {
          "output_type": "stream",
          "name": "stdout",
          "text": [
            "dict_keys(['times', 'trajectory', 'tree_encoded', 'skeleton_tree_encoded', 'tree', 'skeleton_tree', 'infos', 'operator_dict', 'feature_dict'])\n",
            "Encoded equation: -0.9998 * x_0\n",
            "Feature dictionary: {'log': 0, 'exp': 0, 'tan': 0, 'arctan': 0, 'sin_cos': 0, 'arc_sin_cos': 0, 'pow2': 0, 'pow3': 0, 'inv': 0, 'sqrt': 0}\n"
          ]
        }
      ]
    },
    {
      "cell_type": "markdown",
      "source": [
        "## Manual Sample Generation"
      ],
      "metadata": {
        "id": "x3OpISsvzN25"
      }
    },
    {
      "cell_type": "code",
      "source": [
        "from src.sample_generation import ManualSamplesGenerator"
      ],
      "metadata": {
        "id": "4d-5VwP7cBad"
      },
      "execution_count": 12,
      "outputs": []
    },
    {
      "cell_type": "code",
      "source": [
        "manual_samples_path = f'{samples_path}/demo_manual'\n",
        "msg = ManualSamplesGenerator(samples_path=manual_samples_path)"
      ],
      "metadata": {
        "id": "5GoSjUZezTbY"
      },
      "execution_count": 13,
      "outputs": []
    },
    {
      "cell_type": "code",
      "source": [
        "# Times array\n",
        "t_values = np.linspace(1, 10, 50)\n",
        "\n",
        "# Exponential parameters\n",
        "c_values = np.linspace(-10,10, 2)\n",
        "a_values = np.linspace(-10,10, 5)\n",
        "\n",
        "# Hyperbolic parameters\n",
        "t0_values = np.linspace(10.1, 100, 5)"
      ],
      "metadata": {
        "id": "7waihYWV4KLN"
      },
      "execution_count": 14,
      "outputs": []
    },
    {
      "cell_type": "code",
      "source": [
        "# Generate exponential samples\n",
        "msg.generate_exponential_samples(t_values, c_values, a_values)"
      ],
      "metadata": {
        "colab": {
          "base_uri": "https://localhost:8080/",
          "height": 121,
          "referenced_widgets": [
            "e4e322268052461c8cce2363ebdce177",
            "183ae51e19c54de88b5fd1f5e2812a30",
            "794b36acf00a4cb890701878c4ace387",
            "640fd7e6ff25451a88561e06d14163a0",
            "fadef2c1e76147089072268d6bcd389e",
            "460eef622f78405fa92c39d5a2525f6f",
            "a480ab9c8dc943018610e6207f3a1aab",
            "23cc6886564b4012a7460da767de84f7",
            "7bb086c578a94ca1b32c10bf66b7d2be",
            "a585a51295124971ab85f0c80166bb3c",
            "2759e7d470fd43cf875451ab8ae0017f"
          ]
        },
        "id": "E4Buw9n65sr-",
        "outputId": "4546dc32-9637-44d1-f8ab-96f5155d42dd"
      },
      "execution_count": 15,
      "outputs": [
        {
          "output_type": "display_data",
          "data": {
            "text/plain": [
              "Generating exponential samples:   0%|          | 0/10 [00:00<?, ?it/s]"
            ],
            "application/vnd.jupyter.widget-view+json": {
              "version_major": 2,
              "version_minor": 0,
              "model_id": "e4e322268052461c8cce2363ebdce177"
            }
          },
          "metadata": {}
        },
        {
          "output_type": "stream",
          "name": "stderr",
          "text": [
            "Saving generated samples: 10it [00:00, 75.19it/s]"
          ]
        },
        {
          "output_type": "stream",
          "name": "stdout",
          "text": [
            "\n",
            "[INFO] Data generation complete. Saved 10 exponential samples to /content/drive/MyDrive/github/subteams/LLMProbing/local_experiment_data/samples/demo_manual\n"
          ]
        },
        {
          "output_type": "stream",
          "name": "stderr",
          "text": [
            "\n"
          ]
        }
      ]
    },
    {
      "cell_type": "code",
      "source": [
        "# Inspect an exponential sample to see its keys and some data\n",
        "manual_samples_dir = os.fsencode(manual_samples_path)\n",
        "for sample_file in os.listdir(manual_samples_dir):\n",
        "  sample_name = os.fsdecode(sample_file)\n",
        "  if \"exp\" in sample_name:\n",
        "    exp_sample_path = os.path.join(manual_samples_path, sample_name)\n",
        "    with open(exp_sample_path, 'rb') as f:\n",
        "        exp_sample = pickle.load(f)\n",
        "    print(exp_sample.keys())\n",
        "    print(exp_sample['expression'])\n",
        "    print(exp_sample['feature_dict'])\n",
        "    break"
      ],
      "metadata": {
        "colab": {
          "base_uri": "https://localhost:8080/"
        },
        "id": "cDBNG5ZC6hP0",
        "outputId": "0657bb03-1941-40ee-b810-05245dbc12cc"
      },
      "execution_count": 16,
      "outputs": [
        {
          "output_type": "stream",
          "name": "stdout",
          "text": [
            "dict_keys(['times', 'trajectory', 'parameters', 'feature_dict', 'expression'])\n",
            "-10.0 * np.exp(10.0 * t)\n",
            "{'exponential': 1, 'hyperbolic': 0}\n"
          ]
        }
      ]
    },
    {
      "cell_type": "code",
      "source": [
        "# Generate hyperbolic samples\n",
        "msg.generate_hyperbolic_samples(t_values, c_values, t0_values)"
      ],
      "metadata": {
        "colab": {
          "base_uri": "https://localhost:8080/",
          "height": 121,
          "referenced_widgets": [
            "c24f4a7c0e724d1ba72c33c039da6b5b",
            "fba1a884067045e2803aabae1c308b12",
            "c0209ca5215142559daadba19af45f5f",
            "fc4896a4c9b1461699fc48c6703b93f1",
            "acab5a0e378f4b84b9baa49568aa4155",
            "3f06de230c0d4c29a023fc5438493256",
            "2021ab028268468583092d1d6d93a103",
            "d89e1de63a444bd4a71853033b68ff53",
            "b70a77a7134b472e82f4dfcd3f78a62f",
            "65c4e90414c340de94a06bdd5bd52b90",
            "cc21fb997e544939b1a8aed76e30a461"
          ]
        },
        "id": "-M2ADfC236CP",
        "outputId": "ce46678f-00bb-43c5-fda8-de42fdc72347"
      },
      "execution_count": 17,
      "outputs": [
        {
          "output_type": "display_data",
          "data": {
            "text/plain": [
              "Generating hyperbolic samples:   0%|          | 0/10 [00:00<?, ?it/s]"
            ],
            "application/vnd.jupyter.widget-view+json": {
              "version_major": 2,
              "version_minor": 0,
              "model_id": "c24f4a7c0e724d1ba72c33c039da6b5b"
            }
          },
          "metadata": {}
        },
        {
          "output_type": "stream",
          "name": "stderr",
          "text": [
            "Saving generated samples: 10it [00:00, 81.67it/s]"
          ]
        },
        {
          "output_type": "stream",
          "name": "stdout",
          "text": [
            "\n",
            "[INFO] Data generation complete. Saved 10 hyperbolic samples to /content/drive/MyDrive/github/subteams/LLMProbing/local_experiment_data/samples/demo_manual\n"
          ]
        },
        {
          "output_type": "stream",
          "name": "stderr",
          "text": [
            "\n"
          ]
        }
      ]
    },
    {
      "cell_type": "code",
      "source": [
        "# Inspect a hyperbolic sample to see its keys and some data\n",
        "manual_samples_dir = os.fsencode(manual_samples_path)\n",
        "for sample_file in os.listdir(manual_samples_dir):\n",
        "  sample_name = os.fsdecode(sample_file)\n",
        "  if \"hyp\" in sample_name:\n",
        "    hyp_sample_path = os.path.join(manual_samples_path, sample_name)\n",
        "    with open(hyp_sample_path, 'rb') as f:\n",
        "        hyp_sample = pickle.load(f)\n",
        "    print(hyp_sample.keys())\n",
        "    print(hyp_sample['expression'])\n",
        "    print(hyp_sample['parameters'])\n",
        "    print(hyp_sample['feature_dict'])\n",
        "    break"
      ],
      "metadata": {
        "colab": {
          "base_uri": "https://localhost:8080/"
        },
        "id": "FhZoC-MM6dsq",
        "outputId": "2b728c8e-ba41-414b-8779-4e1c08865040"
      },
      "execution_count": 18,
      "outputs": [
        {
          "output_type": "stream",
          "name": "stdout",
          "text": [
            "dict_keys(['times', 'trajectory', 'parameters', 'feature_dict', 'expression'])\n",
            "-10.0 / (10.1-t)\n",
            "{'t0': 10.1, 'c': -10.0}\n",
            "{'exponential': 0, 'hyperbolic': 1}\n"
          ]
        }
      ]
    },
    {
      "cell_type": "markdown",
      "source": [
        "## Corresponding Activations Extraction"
      ],
      "metadata": {
        "id": "frWKyg3szUQx"
      }
    },
    {
      "cell_type": "code",
      "source": [
        "from src.activation_extraction import ActivationsExtractor"
      ],
      "metadata": {
        "id": "gV07FbFXzYy_"
      },
      "execution_count": 19,
      "outputs": []
    },
    {
      "cell_type": "code",
      "source": [
        "random_activations_path = f'{activations_path}/demo_random'\n",
        "manual_activations_path = f'{activations_path}/demo_manual'"
      ],
      "metadata": {
        "id": "93-zzRtQIshT"
      },
      "execution_count": 20,
      "outputs": []
    },
    {
      "cell_type": "code",
      "source": [
        "act_extractor = ActivationsExtractor()"
      ],
      "metadata": {
        "id": "wqT_igPg6wvD"
      },
      "execution_count": 21,
      "outputs": []
    },
    {
      "cell_type": "code",
      "source": [
        "act_extractor.extract_activations(dstr, random_samples_path, random_activations_path, layers_to_extract=['ffn'])"
      ],
      "metadata": {
        "colab": {
          "base_uri": "https://localhost:8080/"
        },
        "id": "W4Ind3Yx-b3x",
        "outputId": "24fd15c9-8b4b-42cd-deb7-82c3c9b4b04e"
      },
      "execution_count": 22,
      "outputs": [
        {
          "output_type": "stream",
          "name": "stderr",
          "text": [
            "Extracting Activations: 100%|██████████| 10/10 [00:33<00:00,  3.38s/it]"
          ]
        },
        {
          "output_type": "stream",
          "name": "stdout",
          "text": [
            "\n",
            "[INFO] Activation extraction complete. Activations saved to /content/drive/MyDrive/github/subteams/LLMProbing/local_experiment_data/activations/demo_random\n"
          ]
        },
        {
          "output_type": "stream",
          "name": "stderr",
          "text": [
            "\n"
          ]
        }
      ]
    },
    {
      "cell_type": "code",
      "source": [
        "act_extractor.extract_activations(dstr, manual_samples_path, manual_activations_path, layers_to_extract=['ffn'])"
      ],
      "metadata": {
        "colab": {
          "base_uri": "https://localhost:8080/"
        },
        "id": "SLMfIh5nI7hH",
        "outputId": "602106fa-dfd1-40e7-fd15-8c74eec68714"
      },
      "execution_count": 23,
      "outputs": [
        {
          "output_type": "stream",
          "name": "stderr",
          "text": [
            "Extracting Activations: 100%|██████████| 20/20 [01:35<00:00,  4.77s/it]"
          ]
        },
        {
          "output_type": "stream",
          "name": "stdout",
          "text": [
            "\n",
            "[INFO] Activation extraction complete. Activations saved to /content/drive/MyDrive/github/subteams/LLMProbing/local_experiment_data/activations/demo_manual\n"
          ]
        },
        {
          "output_type": "stream",
          "name": "stderr",
          "text": [
            "\n"
          ]
        }
      ]
    },
    {
      "cell_type": "code",
      "source": [
        "# Inspect a random activation and display its keys and some values\n",
        "random_acts_dir = os.fsencode(random_activations_path)\n",
        "for acts_file in os.listdir(random_acts_dir):\n",
        "  acts_name = os.fsdecode(acts_file)\n",
        "  random_acts_path = os.path.join(random_activations_path, acts_name)\n",
        "  with open(random_acts_path, 'rb') as f:\n",
        "      random_acts = pickle.load(f)\n",
        "  print(random_acts.keys())\n",
        "  print(random_acts['feature_dict'])\n",
        "  print(random_acts['r2_score'])\n",
        "  print(random_acts['expression'])\n",
        "  print(random_acts['pred_expression'])\n",
        "  break"
      ],
      "metadata": {
        "colab": {
          "base_uri": "https://localhost:8080/"
        },
        "id": "vcaqVrXl_VbH",
        "outputId": "c85fd9d2-ec25-46c1-fbb3-cc2d45954a2b"
      },
      "execution_count": 24,
      "outputs": [
        {
          "output_type": "stream",
          "name": "stdout",
          "text": [
            "dict_keys(['encoder', 'decoder', 'operator_dict', 'feature_dict', 'r2_score', 'pred_expression', 'expression'])\n",
            "{'log': 0, 'exp': 0, 'tan': 0, 'arctan': 0, 'sin_cos': 0, 'arc_sin_cos': 0, 'pow2': 0, 'pow3': 0, 'inv': 0, 'sqrt': 0}\n",
            "0.9999999755587363\n",
            "-0.9998 * x_0\n",
            "x_0' = -1.0000000000000000 * x_0\n",
            "\n"
          ]
        }
      ]
    },
    {
      "cell_type": "code",
      "source": [
        "# Inspect a manual activation and display its keys and some values\n",
        "manual_acts_dir = os.fsencode(manual_activations_path)\n",
        "for acts_file in os.listdir(manual_acts_dir):\n",
        "  acts_name = os.fsdecode(acts_file)\n",
        "  manual_acts_path = os.path.join(manual_activations_path, acts_name)\n",
        "  with open(manual_acts_path, 'rb') as f:\n",
        "      manual_acts = pickle.load(f)\n",
        "  print(manual_acts.keys())\n",
        "  print(manual_acts['feature_dict'])\n",
        "  print(manual_acts['r2_score'])\n",
        "  print(manual_acts['expression'])\n",
        "  print(manual_acts['pred_expression'])\n",
        "  break"
      ],
      "metadata": {
        "id": "AOeQAVnUJotp",
        "colab": {
          "base_uri": "https://localhost:8080/"
        },
        "outputId": "24400008-e07c-4a25-9eb4-11df9814d849"
      },
      "execution_count": 25,
      "outputs": [
        {
          "output_type": "stream",
          "name": "stdout",
          "text": [
            "dict_keys(['encoder', 'decoder', 'feature_dict', 'r2_score', 'pred_expression', 'expression'])\n",
            "{'exponential': 1, 'hyperbolic': 0}\n",
            "-0.0374609619209898\n",
            "-10.0 * np.exp(5.0 * t)\n",
            "x_0' = 8.5950 * x_0 + 0.2052 * x_0 * (-22.7200 + 0.1314 * (0.0555 + -0.e-4 * x_0)**-1)\n",
            "\n"
          ]
        }
      ]
    },
    {
      "cell_type": "markdown",
      "source": [
        "## Probe Training"
      ],
      "metadata": {
        "id": "LLY7KIPHzZrh"
      }
    },
    {
      "cell_type": "code",
      "source": [
        "import experiments"
      ],
      "metadata": {
        "id": "Elin36J0sfCF"
      },
      "execution_count": 26,
      "outputs": []
    },
    {
      "cell_type": "code",
      "source": [
        "dir(experiments)\n",
        "# Current experiment functions supported:\n",
        "#   - separability_testing"
      ],
      "metadata": {
        "colab": {
          "base_uri": "https://localhost:8080/"
        },
        "id": "dGFAdbmksgr4",
        "outputId": "e11b9653-0bc0-4854-8f77-ba792c249e15"
      },
      "execution_count": 27,
      "outputs": [
        {
          "output_type": "execute_result",
          "data": {
            "text/plain": [
              "['__all__',\n",
              " '__builtins__',\n",
              " '__cached__',\n",
              " '__doc__',\n",
              " '__file__',\n",
              " '__loader__',\n",
              " '__name__',\n",
              " '__package__',\n",
              " '__path__',\n",
              " '__spec__',\n",
              " 'run_experiment',\n",
              " 'separability_testing']"
            ]
          },
          "metadata": {},
          "execution_count": 27
        }
      ]
    },
    {
      "cell_type": "code",
      "source": [
        "# from experiments.run_experiment import separability_testing"
      ],
      "metadata": {
        "id": "62wGV9swzbMx"
      },
      "execution_count": 28,
      "outputs": []
    },
    {
      "cell_type": "code",
      "source": [
        "target_feature = 'exponential'\n",
        "activations_path = manual_activations_path\n",
        "demo_probes_path = f'{probes_path}/demo_exp'\n",
        "lr = 0.01\n",
        "num_epochs = 1\n",
        "num_repeats = 2\n",
        "layers = [idx for idx in range(4, 16)]"
      ],
      "metadata": {
        "id": "4k6snzo5fm-6"
      },
      "execution_count": 29,
      "outputs": []
    },
    {
      "cell_type": "code",
      "source": [
        "demo_expt_results = experiments.separability_testing(target_feature=target_feature, activations_path=manual_activations_path, \\\n",
        "                     probes_path=demo_probes_path, \\\n",
        "                     lr=lr, num_epochs=num_epochs, \\\n",
        "                     layers=layers, num_repeats=num_repeats)"
      ],
      "metadata": {
        "id": "Sgr-mGCVhJG7",
        "colab": {
          "base_uri": "https://localhost:8080/"
        },
        "outputId": "e28f8116-e6f9-4b3a-af37-1519034667bb"
      },
      "execution_count": 30,
      "outputs": [
        {
          "output_type": "stream",
          "name": "stderr",
          "text": [
            "Training LR Probe: 100%|██████████| 1/1 [00:00<00:00,  5.66it/s]\n"
          ]
        },
        {
          "output_type": "stream",
          "name": "stdout",
          "text": [
            "\n",
            "Epoch 1 (Final): Loss 0.14097990095615387, Accuracy 0.25\n",
            "\n",
            "Probe trained on layer 4:\n",
            "Test Set: Loss 6.704820013684298, Accuracy 0.5\n",
            "Saved state dictionary to /content/drive/MyDrive/github/subteams/LLMProbing/local_experiment_data/probes/demo_exp/probe_exponential_4_0.pt\n"
          ]
        },
        {
          "output_type": "stream",
          "name": "stderr",
          "text": [
            "Training LR Probe: 100%|██████████| 1/1 [00:00<00:00,  4.58it/s]\n"
          ]
        },
        {
          "output_type": "stream",
          "name": "stdout",
          "text": [
            "\n",
            "Epoch 1 (Final): Loss 0.11276042461395264, Accuracy 0.3125\n",
            "\n",
            "Probe trained on layer 4:\n",
            "Test Set: Loss 6.717358599098406, Accuracy 0.5\n",
            "Saved state dictionary to /content/drive/MyDrive/github/subteams/LLMProbing/local_experiment_data/probes/demo_exp/probe_exponential_4_1.pt\n"
          ]
        },
        {
          "output_type": "stream",
          "name": "stderr",
          "text": [
            "Training LR Probe: 100%|██████████| 1/1 [00:00<00:00,  6.55it/s]\n"
          ]
        },
        {
          "output_type": "stream",
          "name": "stdout",
          "text": [
            "\n",
            "Epoch 1 (Final): Loss 0.05968490242958069, Accuracy 0.1875\n",
            "\n",
            "Probe trained on layer 5:\n",
            "Test Set: Loss 0.9212905208432858, Accuracy 0.5\n",
            "Saved state dictionary to /content/drive/MyDrive/github/subteams/LLMProbing/local_experiment_data/probes/demo_exp/probe_exponential_5_0.pt\n"
          ]
        },
        {
          "output_type": "stream",
          "name": "stderr",
          "text": [
            "Training LR Probe: 100%|██████████| 1/1 [00:00<00:00,  6.86it/s]\n"
          ]
        },
        {
          "output_type": "stream",
          "name": "stdout",
          "text": [
            "\n",
            "Epoch 1 (Final): Loss 0.040515512228012085, Accuracy 0.5625\n",
            "\n",
            "Probe trained on layer 5:\n",
            "Test Set: Loss 2.0036001205444336, Accuracy 0.5\n",
            "Saved state dictionary to /content/drive/MyDrive/github/subteams/LLMProbing/local_experiment_data/probes/demo_exp/probe_exponential_5_1.pt\n"
          ]
        },
        {
          "output_type": "stream",
          "name": "stderr",
          "text": [
            "Training LR Probe: 100%|██████████| 1/1 [00:00<00:00,  5.41it/s]\n"
          ]
        },
        {
          "output_type": "stream",
          "name": "stdout",
          "text": [
            "\n",
            "Epoch 1 (Final): Loss 0.047724850475788116, Accuracy 0.5625\n",
            "\n",
            "Probe trained on layer 6:\n",
            "Test Set: Loss 0.4625440984964371, Accuracy 1.0\n",
            "Saved state dictionary to /content/drive/MyDrive/github/subteams/LLMProbing/local_experiment_data/probes/demo_exp/probe_exponential_6_0.pt\n"
          ]
        },
        {
          "output_type": "stream",
          "name": "stderr",
          "text": [
            "Training LR Probe: 100%|██████████| 1/1 [00:00<00:00,  5.93it/s]\n"
          ]
        },
        {
          "output_type": "stream",
          "name": "stdout",
          "text": [
            "\n",
            "Epoch 1 (Final): Loss 0.04937492311000824, Accuracy 0.1875\n",
            "\n",
            "Probe trained on layer 6:\n",
            "Test Set: Loss 0.5374684631824493, Accuracy 1.0\n",
            "Saved state dictionary to /content/drive/MyDrive/github/subteams/LLMProbing/local_experiment_data/probes/demo_exp/probe_exponential_6_1.pt\n"
          ]
        },
        {
          "output_type": "stream",
          "name": "stderr",
          "text": [
            "Training LR Probe: 100%|██████████| 1/1 [00:00<00:00,  6.71it/s]\n"
          ]
        },
        {
          "output_type": "stream",
          "name": "stdout",
          "text": [
            "\n",
            "Epoch 1 (Final): Loss 0.04508540406823158, Accuracy 0.4375\n",
            "\n",
            "Probe trained on layer 7:\n",
            "Test Set: Loss 0.7908468842506409, Accuracy 0.5\n",
            "Saved state dictionary to /content/drive/MyDrive/github/subteams/LLMProbing/local_experiment_data/probes/demo_exp/probe_exponential_7_0.pt\n"
          ]
        },
        {
          "output_type": "stream",
          "name": "stderr",
          "text": [
            "Training LR Probe: 100%|██████████| 1/1 [00:00<00:00,  6.08it/s]\n"
          ]
        },
        {
          "output_type": "stream",
          "name": "stdout",
          "text": [
            "\n",
            "Epoch 1 (Final): Loss 0.045069508254528046, Accuracy 0.4375\n",
            "\n",
            "Probe trained on layer 7:\n",
            "Test Set: Loss 0.8255224823951721, Accuracy 0.5\n",
            "Saved state dictionary to /content/drive/MyDrive/github/subteams/LLMProbing/local_experiment_data/probes/demo_exp/probe_exponential_7_1.pt\n"
          ]
        },
        {
          "output_type": "stream",
          "name": "stderr",
          "text": [
            "Training LR Probe: 100%|██████████| 1/1 [00:00<00:00,  5.94it/s]\n"
          ]
        },
        {
          "output_type": "stream",
          "name": "stdout",
          "text": [
            "\n",
            "Epoch 1 (Final): Loss 0.04676589369773865, Accuracy 0.4375\n",
            "\n",
            "Probe trained on layer 8:\n",
            "Test Set: Loss 0.3598311096429825, Accuracy 1.0\n",
            "Saved state dictionary to /content/drive/MyDrive/github/subteams/LLMProbing/local_experiment_data/probes/demo_exp/probe_exponential_8_0.pt\n"
          ]
        },
        {
          "output_type": "stream",
          "name": "stderr",
          "text": [
            "Training LR Probe: 100%|██████████| 1/1 [00:00<00:00,  6.56it/s]\n"
          ]
        },
        {
          "output_type": "stream",
          "name": "stdout",
          "text": [
            "\n",
            "Epoch 1 (Final): Loss 0.0428621843457222, Accuracy 0.4375\n",
            "\n",
            "Probe trained on layer 8:\n",
            "Test Set: Loss 0.5989388227462769, Accuracy 0.5\n",
            "Saved state dictionary to /content/drive/MyDrive/github/subteams/LLMProbing/local_experiment_data/probes/demo_exp/probe_exponential_8_1.pt\n"
          ]
        },
        {
          "output_type": "stream",
          "name": "stderr",
          "text": [
            "Training LR Probe: 100%|██████████| 1/1 [00:00<00:00,  6.43it/s]\n"
          ]
        },
        {
          "output_type": "stream",
          "name": "stdout",
          "text": [
            "\n",
            "Epoch 1 (Final): Loss 0.04289824515581131, Accuracy 0.5625\n",
            "\n",
            "Probe trained on layer 9:\n",
            "Test Set: Loss 0.29004987329244614, Accuracy 1.0\n",
            "Saved state dictionary to /content/drive/MyDrive/github/subteams/LLMProbing/local_experiment_data/probes/demo_exp/probe_exponential_9_0.pt\n"
          ]
        },
        {
          "output_type": "stream",
          "name": "stderr",
          "text": [
            "Training LR Probe: 100%|██████████| 1/1 [00:00<00:00,  6.25it/s]\n"
          ]
        },
        {
          "output_type": "stream",
          "name": "stdout",
          "text": [
            "\n",
            "Epoch 1 (Final): Loss 0.04088063910603523, Accuracy 0.75\n",
            "\n",
            "Probe trained on layer 9:\n",
            "Test Set: Loss 0.2388858050107956, Accuracy 1.0\n",
            "Saved state dictionary to /content/drive/MyDrive/github/subteams/LLMProbing/local_experiment_data/probes/demo_exp/probe_exponential_9_1.pt\n"
          ]
        },
        {
          "output_type": "stream",
          "name": "stderr",
          "text": [
            "Training LR Probe: 100%|██████████| 1/1 [00:00<00:00,  5.89it/s]\n"
          ]
        },
        {
          "output_type": "stream",
          "name": "stdout",
          "text": [
            "\n",
            "Epoch 1 (Final): Loss 0.042507387697696686, Accuracy 0.5625\n",
            "\n",
            "Probe trained on layer 10:\n",
            "Test Set: Loss 0.15165770705789328, Accuracy 1.0\n",
            "Saved state dictionary to /content/drive/MyDrive/github/subteams/LLMProbing/local_experiment_data/probes/demo_exp/probe_exponential_10_0.pt\n"
          ]
        },
        {
          "output_type": "stream",
          "name": "stderr",
          "text": [
            "Training LR Probe: 100%|██████████| 1/1 [00:00<00:00,  7.15it/s]\n"
          ]
        },
        {
          "output_type": "stream",
          "name": "stdout",
          "text": [
            "\n",
            "Epoch 1 (Final): Loss 0.06682878732681274, Accuracy 0.3125\n",
            "\n",
            "Probe trained on layer 10:\n",
            "Test Set: Loss 0.28553202748298645, Accuracy 1.0\n",
            "Saved state dictionary to /content/drive/MyDrive/github/subteams/LLMProbing/local_experiment_data/probes/demo_exp/probe_exponential_10_1.pt\n"
          ]
        },
        {
          "output_type": "stream",
          "name": "stderr",
          "text": [
            "Training LR Probe: 100%|██████████| 1/1 [00:00<00:00,  6.21it/s]\n"
          ]
        },
        {
          "output_type": "stream",
          "name": "stdout",
          "text": [
            "\n",
            "Epoch 1 (Final): Loss 0.04143805801868439, Accuracy 0.4375\n",
            "\n",
            "Probe trained on layer 11:\n",
            "Test Set: Loss 0.4749494194984436, Accuracy 0.5\n",
            "Saved state dictionary to /content/drive/MyDrive/github/subteams/LLMProbing/local_experiment_data/probes/demo_exp/probe_exponential_11_0.pt\n"
          ]
        },
        {
          "output_type": "stream",
          "name": "stderr",
          "text": [
            "Training LR Probe: 100%|██████████| 1/1 [00:00<00:00,  6.57it/s]\n"
          ]
        },
        {
          "output_type": "stream",
          "name": "stdout",
          "text": [
            "\n",
            "Epoch 1 (Final): Loss 0.05039084702730179, Accuracy 0.5625\n",
            "\n",
            "Probe trained on layer 11:\n",
            "Test Set: Loss 0.45596282184123993, Accuracy 1.0\n",
            "Saved state dictionary to /content/drive/MyDrive/github/subteams/LLMProbing/local_experiment_data/probes/demo_exp/probe_exponential_11_1.pt\n"
          ]
        },
        {
          "output_type": "stream",
          "name": "stderr",
          "text": [
            "Training LR Probe: 100%|██████████| 1/1 [00:00<00:00,  6.64it/s]\n"
          ]
        },
        {
          "output_type": "stream",
          "name": "stdout",
          "text": [
            "\n",
            "Epoch 1 (Final): Loss 0.048560068011283875, Accuracy 0.4375\n",
            "\n",
            "Probe trained on layer 12:\n",
            "Test Set: Loss 0.6829623579978943, Accuracy 0.5\n",
            "Saved state dictionary to /content/drive/MyDrive/github/subteams/LLMProbing/local_experiment_data/probes/demo_exp/probe_exponential_12_0.pt\n"
          ]
        },
        {
          "output_type": "stream",
          "name": "stderr",
          "text": [
            "Training LR Probe: 100%|██████████| 1/1 [00:00<00:00,  6.30it/s]\n"
          ]
        },
        {
          "output_type": "stream",
          "name": "stdout",
          "text": [
            "\n",
            "Epoch 1 (Final): Loss 0.056828562170267105, Accuracy 0.4375\n",
            "\n",
            "Probe trained on layer 12:\n",
            "Test Set: Loss 0.3908030092716217, Accuracy 1.0\n",
            "Saved state dictionary to /content/drive/MyDrive/github/subteams/LLMProbing/local_experiment_data/probes/demo_exp/probe_exponential_12_1.pt\n"
          ]
        },
        {
          "output_type": "stream",
          "name": "stderr",
          "text": [
            "Training LR Probe: 100%|██████████| 1/1 [00:00<00:00,  7.15it/s]\n"
          ]
        },
        {
          "output_type": "stream",
          "name": "stdout",
          "text": [
            "\n",
            "Epoch 1 (Final): Loss 0.05458279326558113, Accuracy 0.5625\n",
            "\n",
            "Probe trained on layer 13:\n",
            "Test Set: Loss 0.6158061102032661, Accuracy 0.5\n",
            "Saved state dictionary to /content/drive/MyDrive/github/subteams/LLMProbing/local_experiment_data/probes/demo_exp/probe_exponential_13_0.pt\n"
          ]
        },
        {
          "output_type": "stream",
          "name": "stderr",
          "text": [
            "Training LR Probe: 100%|██████████| 1/1 [00:00<00:00,  5.54it/s]\n"
          ]
        },
        {
          "output_type": "stream",
          "name": "stdout",
          "text": [
            "\n",
            "Epoch 1 (Final): Loss 0.05126982554793358, Accuracy 0.4375\n",
            "\n",
            "Probe trained on layer 13:\n",
            "Test Set: Loss 0.7577482461929321, Accuracy 0.5\n",
            "Saved state dictionary to /content/drive/MyDrive/github/subteams/LLMProbing/local_experiment_data/probes/demo_exp/probe_exponential_13_1.pt\n"
          ]
        },
        {
          "output_type": "stream",
          "name": "stderr",
          "text": [
            "Training LR Probe: 100%|██████████| 1/1 [00:00<00:00,  5.24it/s]\n"
          ]
        },
        {
          "output_type": "stream",
          "name": "stdout",
          "text": [
            "\n",
            "Epoch 1 (Final): Loss 0.044611893594264984, Accuracy 0.5625\n",
            "\n",
            "Probe trained on layer 14:\n",
            "Test Set: Loss 0.8013050723820925, Accuracy 0.5\n",
            "Saved state dictionary to /content/drive/MyDrive/github/subteams/LLMProbing/local_experiment_data/probes/demo_exp/probe_exponential_14_0.pt\n"
          ]
        },
        {
          "output_type": "stream",
          "name": "stderr",
          "text": [
            "Training LR Probe: 100%|██████████| 1/1 [00:00<00:00,  6.12it/s]\n"
          ]
        },
        {
          "output_type": "stream",
          "name": "stdout",
          "text": [
            "\n",
            "Epoch 1 (Final): Loss 0.05744853988289833, Accuracy 0.5625\n",
            "\n",
            "Probe trained on layer 14:\n",
            "Test Set: Loss 0.7286160010844469, Accuracy 0.5\n",
            "Saved state dictionary to /content/drive/MyDrive/github/subteams/LLMProbing/local_experiment_data/probes/demo_exp/probe_exponential_14_1.pt\n"
          ]
        },
        {
          "output_type": "stream",
          "name": "stderr",
          "text": [
            "Training LR Probe: 100%|██████████| 1/1 [00:00<00:00,  5.59it/s]\n"
          ]
        },
        {
          "output_type": "stream",
          "name": "stdout",
          "text": [
            "\n",
            "Epoch 1 (Final): Loss 0.0690440833568573, Accuracy 0.4375\n",
            "\n",
            "Probe trained on layer 15:\n",
            "Test Set: Loss 1.1409718990325928, Accuracy 0.5\n",
            "Saved state dictionary to /content/drive/MyDrive/github/subteams/LLMProbing/local_experiment_data/probes/demo_exp/probe_exponential_15_0.pt\n"
          ]
        },
        {
          "output_type": "stream",
          "name": "stderr",
          "text": [
            "Training LR Probe: 100%|██████████| 1/1 [00:00<00:00,  5.77it/s]\n"
          ]
        },
        {
          "output_type": "stream",
          "name": "stdout",
          "text": [
            "\n",
            "Epoch 1 (Final): Loss 0.038657963275909424, Accuracy 0.8125\n",
            "\n",
            "Probe trained on layer 15:\n",
            "Test Set: Loss 0.1157916821539402, Accuracy 1.0\n",
            "Saved state dictionary to /content/drive/MyDrive/github/subteams/LLMProbing/local_experiment_data/probes/demo_exp/probe_exponential_15_1.pt\n"
          ]
        }
      ]
    },
    {
      "cell_type": "code",
      "source": [
        "demo_expt_results"
      ],
      "metadata": {
        "colab": {
          "base_uri": "https://localhost:8080/",
          "height": 822
        },
        "id": "bB7sDmbbucLn",
        "outputId": "9fd92d55-459a-42c2-95ac-dffd25d8dba3"
      },
      "execution_count": 31,
      "outputs": [
        {
          "output_type": "execute_result",
          "data": {
            "text/plain": [
              "    layer  run  test_loss  test_accuracy test_fail_ids  final_train_loss  \\\n",
              "0       4    0   6.704820            0.5       [hyp_1]          0.140980   \n",
              "1       4    1   6.717359            0.5       [hyp_1]          0.112760   \n",
              "2       5    0   0.921291            0.5       [hyp_1]          0.059685   \n",
              "3       5    1   2.003600            0.5       [exp_8]          0.040516   \n",
              "4       6    0   0.462544            1.0            []          0.047725   \n",
              "5       6    1   0.537468            1.0            []          0.049375   \n",
              "6       7    0   0.790847            0.5       [exp_8]          0.045085   \n",
              "7       7    1   0.825522            0.5       [exp_8]          0.045070   \n",
              "8       8    0   0.359831            1.0            []          0.046766   \n",
              "9       8    1   0.598939            0.5       [exp_8]          0.042862   \n",
              "10      9    0   0.290050            1.0            []          0.042898   \n",
              "11      9    1   0.238886            1.0            []          0.040881   \n",
              "12     10    0   0.151658            1.0            []          0.042507   \n",
              "13     10    1   0.285532            1.0            []          0.066829   \n",
              "14     11    0   0.474949            0.5       [exp_8]          0.041438   \n",
              "15     11    1   0.455963            1.0            []          0.050391   \n",
              "16     12    0   0.682962            0.5       [exp_8]          0.048560   \n",
              "17     12    1   0.390803            1.0            []          0.056829   \n",
              "18     13    0   0.615806            0.5       [hyp_1]          0.054583   \n",
              "19     13    1   0.757748            0.5       [exp_8]          0.051270   \n",
              "20     14    0   0.801305            0.5       [hyp_1]          0.044612   \n",
              "21     14    1   0.728616            0.5       [hyp_1]          0.057449   \n",
              "22     15    0   1.140972            0.5       [exp_8]          0.069044   \n",
              "23     15    1   0.115792            1.0            []          0.038658   \n",
              "\n",
              "    final_train_accuracy  final_val_loss  final_val_accuracy  \n",
              "0                 0.2500    1.290589e-06                 1.0  \n",
              "1                 0.3125    1.771318e-07                 1.0  \n",
              "2                 0.1875    6.766988e-02                 1.0  \n",
              "3                 0.5625    4.165272e+00                 0.0  \n",
              "4                 0.5625    4.247469e-01                 1.0  \n",
              "5                 0.1875    7.081534e-01                 0.5  \n",
              "6                 0.4375    1.326330e+00                 0.0  \n",
              "7                 0.4375    1.396905e+00                 0.0  \n",
              "8                 0.4375    7.004579e-01                 0.5  \n",
              "9                 0.4375    1.504264e+00                 0.0  \n",
              "10                0.5625    1.053106e-01                 1.0  \n",
              "11                0.7500    1.213437e-01                 1.0  \n",
              "12                0.5625    2.008027e-02                 1.0  \n",
              "13                0.3125    4.954347e-01                 1.0  \n",
              "14                0.4375    8.127730e-01                 0.0  \n",
              "15                0.5625    3.141804e-01                 1.0  \n",
              "16                0.4375    1.055441e+00                 0.0  \n",
              "17                0.4375    6.734980e-01                 1.0  \n",
              "18                0.5625    2.036531e-01                 1.0  \n",
              "19                0.4375    1.499446e+00                 0.0  \n",
              "20                0.5625    8.752022e-02                 1.0  \n",
              "21                0.5625    9.032946e-02                 1.0  \n",
              "22                0.4375    4.089518e+00                 0.0  \n",
              "23                0.8125    3.302368e-01                 1.0  "
            ],
            "text/html": [
              "\n",
              "  <div id=\"df-eef340f3-350d-47f9-ae21-911e7919fccc\" class=\"colab-df-container\">\n",
              "    <div>\n",
              "<style scoped>\n",
              "    .dataframe tbody tr th:only-of-type {\n",
              "        vertical-align: middle;\n",
              "    }\n",
              "\n",
              "    .dataframe tbody tr th {\n",
              "        vertical-align: top;\n",
              "    }\n",
              "\n",
              "    .dataframe thead th {\n",
              "        text-align: right;\n",
              "    }\n",
              "</style>\n",
              "<table border=\"1\" class=\"dataframe\">\n",
              "  <thead>\n",
              "    <tr style=\"text-align: right;\">\n",
              "      <th></th>\n",
              "      <th>layer</th>\n",
              "      <th>run</th>\n",
              "      <th>test_loss</th>\n",
              "      <th>test_accuracy</th>\n",
              "      <th>test_fail_ids</th>\n",
              "      <th>final_train_loss</th>\n",
              "      <th>final_train_accuracy</th>\n",
              "      <th>final_val_loss</th>\n",
              "      <th>final_val_accuracy</th>\n",
              "    </tr>\n",
              "  </thead>\n",
              "  <tbody>\n",
              "    <tr>\n",
              "      <th>0</th>\n",
              "      <td>4</td>\n",
              "      <td>0</td>\n",
              "      <td>6.704820</td>\n",
              "      <td>0.5</td>\n",
              "      <td>[hyp_1]</td>\n",
              "      <td>0.140980</td>\n",
              "      <td>0.2500</td>\n",
              "      <td>1.290589e-06</td>\n",
              "      <td>1.0</td>\n",
              "    </tr>\n",
              "    <tr>\n",
              "      <th>1</th>\n",
              "      <td>4</td>\n",
              "      <td>1</td>\n",
              "      <td>6.717359</td>\n",
              "      <td>0.5</td>\n",
              "      <td>[hyp_1]</td>\n",
              "      <td>0.112760</td>\n",
              "      <td>0.3125</td>\n",
              "      <td>1.771318e-07</td>\n",
              "      <td>1.0</td>\n",
              "    </tr>\n",
              "    <tr>\n",
              "      <th>2</th>\n",
              "      <td>5</td>\n",
              "      <td>0</td>\n",
              "      <td>0.921291</td>\n",
              "      <td>0.5</td>\n",
              "      <td>[hyp_1]</td>\n",
              "      <td>0.059685</td>\n",
              "      <td>0.1875</td>\n",
              "      <td>6.766988e-02</td>\n",
              "      <td>1.0</td>\n",
              "    </tr>\n",
              "    <tr>\n",
              "      <th>3</th>\n",
              "      <td>5</td>\n",
              "      <td>1</td>\n",
              "      <td>2.003600</td>\n",
              "      <td>0.5</td>\n",
              "      <td>[exp_8]</td>\n",
              "      <td>0.040516</td>\n",
              "      <td>0.5625</td>\n",
              "      <td>4.165272e+00</td>\n",
              "      <td>0.0</td>\n",
              "    </tr>\n",
              "    <tr>\n",
              "      <th>4</th>\n",
              "      <td>6</td>\n",
              "      <td>0</td>\n",
              "      <td>0.462544</td>\n",
              "      <td>1.0</td>\n",
              "      <td>[]</td>\n",
              "      <td>0.047725</td>\n",
              "      <td>0.5625</td>\n",
              "      <td>4.247469e-01</td>\n",
              "      <td>1.0</td>\n",
              "    </tr>\n",
              "    <tr>\n",
              "      <th>5</th>\n",
              "      <td>6</td>\n",
              "      <td>1</td>\n",
              "      <td>0.537468</td>\n",
              "      <td>1.0</td>\n",
              "      <td>[]</td>\n",
              "      <td>0.049375</td>\n",
              "      <td>0.1875</td>\n",
              "      <td>7.081534e-01</td>\n",
              "      <td>0.5</td>\n",
              "    </tr>\n",
              "    <tr>\n",
              "      <th>6</th>\n",
              "      <td>7</td>\n",
              "      <td>0</td>\n",
              "      <td>0.790847</td>\n",
              "      <td>0.5</td>\n",
              "      <td>[exp_8]</td>\n",
              "      <td>0.045085</td>\n",
              "      <td>0.4375</td>\n",
              "      <td>1.326330e+00</td>\n",
              "      <td>0.0</td>\n",
              "    </tr>\n",
              "    <tr>\n",
              "      <th>7</th>\n",
              "      <td>7</td>\n",
              "      <td>1</td>\n",
              "      <td>0.825522</td>\n",
              "      <td>0.5</td>\n",
              "      <td>[exp_8]</td>\n",
              "      <td>0.045070</td>\n",
              "      <td>0.4375</td>\n",
              "      <td>1.396905e+00</td>\n",
              "      <td>0.0</td>\n",
              "    </tr>\n",
              "    <tr>\n",
              "      <th>8</th>\n",
              "      <td>8</td>\n",
              "      <td>0</td>\n",
              "      <td>0.359831</td>\n",
              "      <td>1.0</td>\n",
              "      <td>[]</td>\n",
              "      <td>0.046766</td>\n",
              "      <td>0.4375</td>\n",
              "      <td>7.004579e-01</td>\n",
              "      <td>0.5</td>\n",
              "    </tr>\n",
              "    <tr>\n",
              "      <th>9</th>\n",
              "      <td>8</td>\n",
              "      <td>1</td>\n",
              "      <td>0.598939</td>\n",
              "      <td>0.5</td>\n",
              "      <td>[exp_8]</td>\n",
              "      <td>0.042862</td>\n",
              "      <td>0.4375</td>\n",
              "      <td>1.504264e+00</td>\n",
              "      <td>0.0</td>\n",
              "    </tr>\n",
              "    <tr>\n",
              "      <th>10</th>\n",
              "      <td>9</td>\n",
              "      <td>0</td>\n",
              "      <td>0.290050</td>\n",
              "      <td>1.0</td>\n",
              "      <td>[]</td>\n",
              "      <td>0.042898</td>\n",
              "      <td>0.5625</td>\n",
              "      <td>1.053106e-01</td>\n",
              "      <td>1.0</td>\n",
              "    </tr>\n",
              "    <tr>\n",
              "      <th>11</th>\n",
              "      <td>9</td>\n",
              "      <td>1</td>\n",
              "      <td>0.238886</td>\n",
              "      <td>1.0</td>\n",
              "      <td>[]</td>\n",
              "      <td>0.040881</td>\n",
              "      <td>0.7500</td>\n",
              "      <td>1.213437e-01</td>\n",
              "      <td>1.0</td>\n",
              "    </tr>\n",
              "    <tr>\n",
              "      <th>12</th>\n",
              "      <td>10</td>\n",
              "      <td>0</td>\n",
              "      <td>0.151658</td>\n",
              "      <td>1.0</td>\n",
              "      <td>[]</td>\n",
              "      <td>0.042507</td>\n",
              "      <td>0.5625</td>\n",
              "      <td>2.008027e-02</td>\n",
              "      <td>1.0</td>\n",
              "    </tr>\n",
              "    <tr>\n",
              "      <th>13</th>\n",
              "      <td>10</td>\n",
              "      <td>1</td>\n",
              "      <td>0.285532</td>\n",
              "      <td>1.0</td>\n",
              "      <td>[]</td>\n",
              "      <td>0.066829</td>\n",
              "      <td>0.3125</td>\n",
              "      <td>4.954347e-01</td>\n",
              "      <td>1.0</td>\n",
              "    </tr>\n",
              "    <tr>\n",
              "      <th>14</th>\n",
              "      <td>11</td>\n",
              "      <td>0</td>\n",
              "      <td>0.474949</td>\n",
              "      <td>0.5</td>\n",
              "      <td>[exp_8]</td>\n",
              "      <td>0.041438</td>\n",
              "      <td>0.4375</td>\n",
              "      <td>8.127730e-01</td>\n",
              "      <td>0.0</td>\n",
              "    </tr>\n",
              "    <tr>\n",
              "      <th>15</th>\n",
              "      <td>11</td>\n",
              "      <td>1</td>\n",
              "      <td>0.455963</td>\n",
              "      <td>1.0</td>\n",
              "      <td>[]</td>\n",
              "      <td>0.050391</td>\n",
              "      <td>0.5625</td>\n",
              "      <td>3.141804e-01</td>\n",
              "      <td>1.0</td>\n",
              "    </tr>\n",
              "    <tr>\n",
              "      <th>16</th>\n",
              "      <td>12</td>\n",
              "      <td>0</td>\n",
              "      <td>0.682962</td>\n",
              "      <td>0.5</td>\n",
              "      <td>[exp_8]</td>\n",
              "      <td>0.048560</td>\n",
              "      <td>0.4375</td>\n",
              "      <td>1.055441e+00</td>\n",
              "      <td>0.0</td>\n",
              "    </tr>\n",
              "    <tr>\n",
              "      <th>17</th>\n",
              "      <td>12</td>\n",
              "      <td>1</td>\n",
              "      <td>0.390803</td>\n",
              "      <td>1.0</td>\n",
              "      <td>[]</td>\n",
              "      <td>0.056829</td>\n",
              "      <td>0.4375</td>\n",
              "      <td>6.734980e-01</td>\n",
              "      <td>1.0</td>\n",
              "    </tr>\n",
              "    <tr>\n",
              "      <th>18</th>\n",
              "      <td>13</td>\n",
              "      <td>0</td>\n",
              "      <td>0.615806</td>\n",
              "      <td>0.5</td>\n",
              "      <td>[hyp_1]</td>\n",
              "      <td>0.054583</td>\n",
              "      <td>0.5625</td>\n",
              "      <td>2.036531e-01</td>\n",
              "      <td>1.0</td>\n",
              "    </tr>\n",
              "    <tr>\n",
              "      <th>19</th>\n",
              "      <td>13</td>\n",
              "      <td>1</td>\n",
              "      <td>0.757748</td>\n",
              "      <td>0.5</td>\n",
              "      <td>[exp_8]</td>\n",
              "      <td>0.051270</td>\n",
              "      <td>0.4375</td>\n",
              "      <td>1.499446e+00</td>\n",
              "      <td>0.0</td>\n",
              "    </tr>\n",
              "    <tr>\n",
              "      <th>20</th>\n",
              "      <td>14</td>\n",
              "      <td>0</td>\n",
              "      <td>0.801305</td>\n",
              "      <td>0.5</td>\n",
              "      <td>[hyp_1]</td>\n",
              "      <td>0.044612</td>\n",
              "      <td>0.5625</td>\n",
              "      <td>8.752022e-02</td>\n",
              "      <td>1.0</td>\n",
              "    </tr>\n",
              "    <tr>\n",
              "      <th>21</th>\n",
              "      <td>14</td>\n",
              "      <td>1</td>\n",
              "      <td>0.728616</td>\n",
              "      <td>0.5</td>\n",
              "      <td>[hyp_1]</td>\n",
              "      <td>0.057449</td>\n",
              "      <td>0.5625</td>\n",
              "      <td>9.032946e-02</td>\n",
              "      <td>1.0</td>\n",
              "    </tr>\n",
              "    <tr>\n",
              "      <th>22</th>\n",
              "      <td>15</td>\n",
              "      <td>0</td>\n",
              "      <td>1.140972</td>\n",
              "      <td>0.5</td>\n",
              "      <td>[exp_8]</td>\n",
              "      <td>0.069044</td>\n",
              "      <td>0.4375</td>\n",
              "      <td>4.089518e+00</td>\n",
              "      <td>0.0</td>\n",
              "    </tr>\n",
              "    <tr>\n",
              "      <th>23</th>\n",
              "      <td>15</td>\n",
              "      <td>1</td>\n",
              "      <td>0.115792</td>\n",
              "      <td>1.0</td>\n",
              "      <td>[]</td>\n",
              "      <td>0.038658</td>\n",
              "      <td>0.8125</td>\n",
              "      <td>3.302368e-01</td>\n",
              "      <td>1.0</td>\n",
              "    </tr>\n",
              "  </tbody>\n",
              "</table>\n",
              "</div>\n",
              "    <div class=\"colab-df-buttons\">\n",
              "\n",
              "  <div class=\"colab-df-container\">\n",
              "    <button class=\"colab-df-convert\" onclick=\"convertToInteractive('df-eef340f3-350d-47f9-ae21-911e7919fccc')\"\n",
              "            title=\"Convert this dataframe to an interactive table.\"\n",
              "            style=\"display:none;\">\n",
              "\n",
              "  <svg xmlns=\"http://www.w3.org/2000/svg\" height=\"24px\" viewBox=\"0 -960 960 960\">\n",
              "    <path d=\"M120-120v-720h720v720H120Zm60-500h600v-160H180v160Zm220 220h160v-160H400v160Zm0 220h160v-160H400v160ZM180-400h160v-160H180v160Zm440 0h160v-160H620v160ZM180-180h160v-160H180v160Zm440 0h160v-160H620v160Z\"/>\n",
              "  </svg>\n",
              "    </button>\n",
              "\n",
              "  <style>\n",
              "    .colab-df-container {\n",
              "      display:flex;\n",
              "      gap: 12px;\n",
              "    }\n",
              "\n",
              "    .colab-df-convert {\n",
              "      background-color: #E8F0FE;\n",
              "      border: none;\n",
              "      border-radius: 50%;\n",
              "      cursor: pointer;\n",
              "      display: none;\n",
              "      fill: #1967D2;\n",
              "      height: 32px;\n",
              "      padding: 0 0 0 0;\n",
              "      width: 32px;\n",
              "    }\n",
              "\n",
              "    .colab-df-convert:hover {\n",
              "      background-color: #E2EBFA;\n",
              "      box-shadow: 0px 1px 2px rgba(60, 64, 67, 0.3), 0px 1px 3px 1px rgba(60, 64, 67, 0.15);\n",
              "      fill: #174EA6;\n",
              "    }\n",
              "\n",
              "    .colab-df-buttons div {\n",
              "      margin-bottom: 4px;\n",
              "    }\n",
              "\n",
              "    [theme=dark] .colab-df-convert {\n",
              "      background-color: #3B4455;\n",
              "      fill: #D2E3FC;\n",
              "    }\n",
              "\n",
              "    [theme=dark] .colab-df-convert:hover {\n",
              "      background-color: #434B5C;\n",
              "      box-shadow: 0px 1px 3px 1px rgba(0, 0, 0, 0.15);\n",
              "      filter: drop-shadow(0px 1px 2px rgba(0, 0, 0, 0.3));\n",
              "      fill: #FFFFFF;\n",
              "    }\n",
              "  </style>\n",
              "\n",
              "    <script>\n",
              "      const buttonEl =\n",
              "        document.querySelector('#df-eef340f3-350d-47f9-ae21-911e7919fccc button.colab-df-convert');\n",
              "      buttonEl.style.display =\n",
              "        google.colab.kernel.accessAllowed ? 'block' : 'none';\n",
              "\n",
              "      async function convertToInteractive(key) {\n",
              "        const element = document.querySelector('#df-eef340f3-350d-47f9-ae21-911e7919fccc');\n",
              "        const dataTable =\n",
              "          await google.colab.kernel.invokeFunction('convertToInteractive',\n",
              "                                                    [key], {});\n",
              "        if (!dataTable) return;\n",
              "\n",
              "        const docLinkHtml = 'Like what you see? Visit the ' +\n",
              "          '<a target=\"_blank\" href=https://colab.research.google.com/notebooks/data_table.ipynb>data table notebook</a>'\n",
              "          + ' to learn more about interactive tables.';\n",
              "        element.innerHTML = '';\n",
              "        dataTable['output_type'] = 'display_data';\n",
              "        await google.colab.output.renderOutput(dataTable, element);\n",
              "        const docLink = document.createElement('div');\n",
              "        docLink.innerHTML = docLinkHtml;\n",
              "        element.appendChild(docLink);\n",
              "      }\n",
              "    </script>\n",
              "  </div>\n",
              "\n",
              "\n",
              "<div id=\"df-0be3444f-8055-4454-82ef-d9cff27572de\">\n",
              "  <button class=\"colab-df-quickchart\" onclick=\"quickchart('df-0be3444f-8055-4454-82ef-d9cff27572de')\"\n",
              "            title=\"Suggest charts\"\n",
              "            style=\"display:none;\">\n",
              "\n",
              "<svg xmlns=\"http://www.w3.org/2000/svg\" height=\"24px\"viewBox=\"0 0 24 24\"\n",
              "     width=\"24px\">\n",
              "    <g>\n",
              "        <path d=\"M19 3H5c-1.1 0-2 .9-2 2v14c0 1.1.9 2 2 2h14c1.1 0 2-.9 2-2V5c0-1.1-.9-2-2-2zM9 17H7v-7h2v7zm4 0h-2V7h2v10zm4 0h-2v-4h2v4z\"/>\n",
              "    </g>\n",
              "</svg>\n",
              "  </button>\n",
              "\n",
              "<style>\n",
              "  .colab-df-quickchart {\n",
              "      --bg-color: #E8F0FE;\n",
              "      --fill-color: #1967D2;\n",
              "      --hover-bg-color: #E2EBFA;\n",
              "      --hover-fill-color: #174EA6;\n",
              "      --disabled-fill-color: #AAA;\n",
              "      --disabled-bg-color: #DDD;\n",
              "  }\n",
              "\n",
              "  [theme=dark] .colab-df-quickchart {\n",
              "      --bg-color: #3B4455;\n",
              "      --fill-color: #D2E3FC;\n",
              "      --hover-bg-color: #434B5C;\n",
              "      --hover-fill-color: #FFFFFF;\n",
              "      --disabled-bg-color: #3B4455;\n",
              "      --disabled-fill-color: #666;\n",
              "  }\n",
              "\n",
              "  .colab-df-quickchart {\n",
              "    background-color: var(--bg-color);\n",
              "    border: none;\n",
              "    border-radius: 50%;\n",
              "    cursor: pointer;\n",
              "    display: none;\n",
              "    fill: var(--fill-color);\n",
              "    height: 32px;\n",
              "    padding: 0;\n",
              "    width: 32px;\n",
              "  }\n",
              "\n",
              "  .colab-df-quickchart:hover {\n",
              "    background-color: var(--hover-bg-color);\n",
              "    box-shadow: 0 1px 2px rgba(60, 64, 67, 0.3), 0 1px 3px 1px rgba(60, 64, 67, 0.15);\n",
              "    fill: var(--button-hover-fill-color);\n",
              "  }\n",
              "\n",
              "  .colab-df-quickchart-complete:disabled,\n",
              "  .colab-df-quickchart-complete:disabled:hover {\n",
              "    background-color: var(--disabled-bg-color);\n",
              "    fill: var(--disabled-fill-color);\n",
              "    box-shadow: none;\n",
              "  }\n",
              "\n",
              "  .colab-df-spinner {\n",
              "    border: 2px solid var(--fill-color);\n",
              "    border-color: transparent;\n",
              "    border-bottom-color: var(--fill-color);\n",
              "    animation:\n",
              "      spin 1s steps(1) infinite;\n",
              "  }\n",
              "\n",
              "  @keyframes spin {\n",
              "    0% {\n",
              "      border-color: transparent;\n",
              "      border-bottom-color: var(--fill-color);\n",
              "      border-left-color: var(--fill-color);\n",
              "    }\n",
              "    20% {\n",
              "      border-color: transparent;\n",
              "      border-left-color: var(--fill-color);\n",
              "      border-top-color: var(--fill-color);\n",
              "    }\n",
              "    30% {\n",
              "      border-color: transparent;\n",
              "      border-left-color: var(--fill-color);\n",
              "      border-top-color: var(--fill-color);\n",
              "      border-right-color: var(--fill-color);\n",
              "    }\n",
              "    40% {\n",
              "      border-color: transparent;\n",
              "      border-right-color: var(--fill-color);\n",
              "      border-top-color: var(--fill-color);\n",
              "    }\n",
              "    60% {\n",
              "      border-color: transparent;\n",
              "      border-right-color: var(--fill-color);\n",
              "    }\n",
              "    80% {\n",
              "      border-color: transparent;\n",
              "      border-right-color: var(--fill-color);\n",
              "      border-bottom-color: var(--fill-color);\n",
              "    }\n",
              "    90% {\n",
              "      border-color: transparent;\n",
              "      border-bottom-color: var(--fill-color);\n",
              "    }\n",
              "  }\n",
              "</style>\n",
              "\n",
              "  <script>\n",
              "    async function quickchart(key) {\n",
              "      const quickchartButtonEl =\n",
              "        document.querySelector('#' + key + ' button');\n",
              "      quickchartButtonEl.disabled = true;  // To prevent multiple clicks.\n",
              "      quickchartButtonEl.classList.add('colab-df-spinner');\n",
              "      try {\n",
              "        const charts = await google.colab.kernel.invokeFunction(\n",
              "            'suggestCharts', [key], {});\n",
              "      } catch (error) {\n",
              "        console.error('Error during call to suggestCharts:', error);\n",
              "      }\n",
              "      quickchartButtonEl.classList.remove('colab-df-spinner');\n",
              "      quickchartButtonEl.classList.add('colab-df-quickchart-complete');\n",
              "    }\n",
              "    (() => {\n",
              "      let quickchartButtonEl =\n",
              "        document.querySelector('#df-0be3444f-8055-4454-82ef-d9cff27572de button');\n",
              "      quickchartButtonEl.style.display =\n",
              "        google.colab.kernel.accessAllowed ? 'block' : 'none';\n",
              "    })();\n",
              "  </script>\n",
              "</div>\n",
              "\n",
              "  <div id=\"id_5f433499-9927-4dc9-b332-64e91755426b\">\n",
              "    <style>\n",
              "      .colab-df-generate {\n",
              "        background-color: #E8F0FE;\n",
              "        border: none;\n",
              "        border-radius: 50%;\n",
              "        cursor: pointer;\n",
              "        display: none;\n",
              "        fill: #1967D2;\n",
              "        height: 32px;\n",
              "        padding: 0 0 0 0;\n",
              "        width: 32px;\n",
              "      }\n",
              "\n",
              "      .colab-df-generate:hover {\n",
              "        background-color: #E2EBFA;\n",
              "        box-shadow: 0px 1px 2px rgba(60, 64, 67, 0.3), 0px 1px 3px 1px rgba(60, 64, 67, 0.15);\n",
              "        fill: #174EA6;\n",
              "      }\n",
              "\n",
              "      [theme=dark] .colab-df-generate {\n",
              "        background-color: #3B4455;\n",
              "        fill: #D2E3FC;\n",
              "      }\n",
              "\n",
              "      [theme=dark] .colab-df-generate:hover {\n",
              "        background-color: #434B5C;\n",
              "        box-shadow: 0px 1px 3px 1px rgba(0, 0, 0, 0.15);\n",
              "        filter: drop-shadow(0px 1px 2px rgba(0, 0, 0, 0.3));\n",
              "        fill: #FFFFFF;\n",
              "      }\n",
              "    </style>\n",
              "    <button class=\"colab-df-generate\" onclick=\"generateWithVariable('demo_expt_results')\"\n",
              "            title=\"Generate code using this dataframe.\"\n",
              "            style=\"display:none;\">\n",
              "\n",
              "  <svg xmlns=\"http://www.w3.org/2000/svg\" height=\"24px\"viewBox=\"0 0 24 24\"\n",
              "       width=\"24px\">\n",
              "    <path d=\"M7,19H8.4L18.45,9,17,7.55,7,17.6ZM5,21V16.75L18.45,3.32a2,2,0,0,1,2.83,0l1.4,1.43a1.91,1.91,0,0,1,.58,1.4,1.91,1.91,0,0,1-.58,1.4L9.25,21ZM18.45,9,17,7.55Zm-12,3A5.31,5.31,0,0,0,4.9,8.1,5.31,5.31,0,0,0,1,6.5,5.31,5.31,0,0,0,4.9,4.9,5.31,5.31,0,0,0,6.5,1,5.31,5.31,0,0,0,8.1,4.9,5.31,5.31,0,0,0,12,6.5,5.46,5.46,0,0,0,6.5,12Z\"/>\n",
              "  </svg>\n",
              "    </button>\n",
              "    <script>\n",
              "      (() => {\n",
              "      const buttonEl =\n",
              "        document.querySelector('#id_5f433499-9927-4dc9-b332-64e91755426b button.colab-df-generate');\n",
              "      buttonEl.style.display =\n",
              "        google.colab.kernel.accessAllowed ? 'block' : 'none';\n",
              "\n",
              "      buttonEl.onclick = () => {\n",
              "        google.colab.notebook.generateWithVariable('demo_expt_results');\n",
              "      }\n",
              "      })();\n",
              "    </script>\n",
              "  </div>\n",
              "\n",
              "    </div>\n",
              "  </div>\n"
            ],
            "application/vnd.google.colaboratory.intrinsic+json": {
              "type": "dataframe",
              "variable_name": "demo_expt_results",
              "summary": "{\n  \"name\": \"demo_expt_results\",\n  \"rows\": 24,\n  \"fields\": [\n    {\n      \"column\": \"layer\",\n      \"properties\": {\n        \"dtype\": \"number\",\n        \"std\": 3,\n        \"min\": 4,\n        \"max\": 15,\n        \"num_unique_values\": 12,\n        \"samples\": [\n          14,\n          13,\n          4\n        ],\n        \"semantic_type\": \"\",\n        \"description\": \"\"\n      }\n    },\n    {\n      \"column\": \"run\",\n      \"properties\": {\n        \"dtype\": \"number\",\n        \"std\": 0,\n        \"min\": 0,\n        \"max\": 1,\n        \"num_unique_values\": 2,\n        \"samples\": [\n          1,\n          0\n        ],\n        \"semantic_type\": \"\",\n        \"description\": \"\"\n      }\n    },\n    {\n      \"column\": \"test_loss\",\n      \"properties\": {\n        \"dtype\": \"number\",\n        \"std\": 1.7629479001590465,\n        \"min\": 0.1157916821539402,\n        \"max\": 6.717358599098406,\n        \"num_unique_values\": 24,\n        \"samples\": [\n          0.3598311096429825,\n          0.6829623579978943\n        ],\n        \"semantic_type\": \"\",\n        \"description\": \"\"\n      }\n    },\n    {\n      \"column\": \"test_accuracy\",\n      \"properties\": {\n        \"dtype\": \"number\",\n        \"std\": 0.2518050775926674,\n        \"min\": 0.5,\n        \"max\": 1.0,\n        \"num_unique_values\": 2,\n        \"samples\": [\n          1.0,\n          0.5\n        ],\n        \"semantic_type\": \"\",\n        \"description\": \"\"\n      }\n    },\n    {\n      \"column\": \"test_fail_ids\",\n      \"properties\": {\n        \"dtype\": \"object\",\n        \"semantic_type\": \"\",\n        \"description\": \"\"\n      }\n    },\n    {\n      \"column\": \"final_train_loss\",\n      \"properties\": {\n        \"dtype\": \"number\",\n        \"std\": 0.02370977176683097,\n        \"min\": 0.038657963275909424,\n        \"max\": 0.14097990095615387,\n        \"num_unique_values\": 24,\n        \"samples\": [\n          0.04676589369773865,\n          0.048560068011283875\n        ],\n        \"semantic_type\": \"\",\n        \"description\": \"\"\n      }\n    },\n    {\n      \"column\": \"final_train_accuracy\",\n      \"properties\": {\n        \"dtype\": \"number\",\n        \"std\": 0.1519796897185822,\n        \"min\": 0.1875,\n        \"max\": 0.8125,\n        \"num_unique_values\": 7,\n        \"samples\": [\n          0.25,\n          0.3125\n        ],\n        \"semantic_type\": \"\",\n        \"description\": \"\"\n      }\n    },\n    {\n      \"column\": \"final_val_loss\",\n      \"properties\": {\n        \"dtype\": \"number\",\n        \"std\": 1.1276781659170305,\n        \"min\": 1.7713180255896077e-07,\n        \"max\": 4.165271759033203,\n        \"num_unique_values\": 24,\n        \"samples\": [\n          0.7004578709602356,\n          1.0554407238960266\n        ],\n        \"semantic_type\": \"\",\n        \"description\": \"\"\n      }\n    },\n    {\n      \"column\": \"final_val_accuracy\",\n      \"properties\": {\n        \"dtype\": \"number\",\n        \"std\": 0.4720445815349666,\n        \"min\": 0.0,\n        \"max\": 1.0,\n        \"num_unique_values\": 3,\n        \"samples\": [\n          1.0,\n          0.0\n        ],\n        \"semantic_type\": \"\",\n        \"description\": \"\"\n      }\n    }\n  ]\n}"
            }
          },
          "metadata": {},
          "execution_count": 31
        }
      ]
    },
    {
      "cell_type": "code",
      "source": [
        "# TODO: view and summarise experiment results\n",
        "import experiments.utils as expt_utils\n",
        "\n",
        "expt_utils.summarise_experiment(demo_expt_results)"
      ],
      "metadata": {
        "id": "WaqEyQp7m3U5",
        "colab": {
          "base_uri": "https://localhost:8080/",
          "height": 426
        },
        "outputId": "c5702796-e29b-4646-cb64-8cb50d06be7a"
      },
      "execution_count": 32,
      "outputs": [
        {
          "output_type": "execute_result",
          "data": {
            "text/plain": [
              "    layer  accuracy_mean  accuracy_std  loss_mean  loss_std\n",
              "0       4           0.50      0.000000   6.711089  0.008866\n",
              "1       5           0.50      0.000000   1.462445  0.765308\n",
              "2       6           1.00      0.000000   0.500006  0.052980\n",
              "3       7           0.50      0.000000   0.808185  0.024519\n",
              "4       8           0.75      0.353553   0.479385  0.169075\n",
              "5       9           1.00      0.000000   0.264468  0.036178\n",
              "6      10           1.00      0.000000   0.218595  0.094663\n",
              "7      11           0.75      0.353553   0.465456  0.013426\n",
              "8      12           0.75      0.353553   0.536883  0.206588\n",
              "9      13           0.50      0.000000   0.686777  0.100368\n",
              "10     14           0.50      0.000000   0.764961  0.051399\n",
              "11     15           0.75      0.353553   0.628382  0.724912"
            ],
            "text/html": [
              "\n",
              "  <div id=\"df-bdfe9a9d-53d8-480a-a17b-17f070b8bcf6\" class=\"colab-df-container\">\n",
              "    <div>\n",
              "<style scoped>\n",
              "    .dataframe tbody tr th:only-of-type {\n",
              "        vertical-align: middle;\n",
              "    }\n",
              "\n",
              "    .dataframe tbody tr th {\n",
              "        vertical-align: top;\n",
              "    }\n",
              "\n",
              "    .dataframe thead th {\n",
              "        text-align: right;\n",
              "    }\n",
              "</style>\n",
              "<table border=\"1\" class=\"dataframe\">\n",
              "  <thead>\n",
              "    <tr style=\"text-align: right;\">\n",
              "      <th></th>\n",
              "      <th>layer</th>\n",
              "      <th>accuracy_mean</th>\n",
              "      <th>accuracy_std</th>\n",
              "      <th>loss_mean</th>\n",
              "      <th>loss_std</th>\n",
              "    </tr>\n",
              "  </thead>\n",
              "  <tbody>\n",
              "    <tr>\n",
              "      <th>0</th>\n",
              "      <td>4</td>\n",
              "      <td>0.50</td>\n",
              "      <td>0.000000</td>\n",
              "      <td>6.711089</td>\n",
              "      <td>0.008866</td>\n",
              "    </tr>\n",
              "    <tr>\n",
              "      <th>1</th>\n",
              "      <td>5</td>\n",
              "      <td>0.50</td>\n",
              "      <td>0.000000</td>\n",
              "      <td>1.462445</td>\n",
              "      <td>0.765308</td>\n",
              "    </tr>\n",
              "    <tr>\n",
              "      <th>2</th>\n",
              "      <td>6</td>\n",
              "      <td>1.00</td>\n",
              "      <td>0.000000</td>\n",
              "      <td>0.500006</td>\n",
              "      <td>0.052980</td>\n",
              "    </tr>\n",
              "    <tr>\n",
              "      <th>3</th>\n",
              "      <td>7</td>\n",
              "      <td>0.50</td>\n",
              "      <td>0.000000</td>\n",
              "      <td>0.808185</td>\n",
              "      <td>0.024519</td>\n",
              "    </tr>\n",
              "    <tr>\n",
              "      <th>4</th>\n",
              "      <td>8</td>\n",
              "      <td>0.75</td>\n",
              "      <td>0.353553</td>\n",
              "      <td>0.479385</td>\n",
              "      <td>0.169075</td>\n",
              "    </tr>\n",
              "    <tr>\n",
              "      <th>5</th>\n",
              "      <td>9</td>\n",
              "      <td>1.00</td>\n",
              "      <td>0.000000</td>\n",
              "      <td>0.264468</td>\n",
              "      <td>0.036178</td>\n",
              "    </tr>\n",
              "    <tr>\n",
              "      <th>6</th>\n",
              "      <td>10</td>\n",
              "      <td>1.00</td>\n",
              "      <td>0.000000</td>\n",
              "      <td>0.218595</td>\n",
              "      <td>0.094663</td>\n",
              "    </tr>\n",
              "    <tr>\n",
              "      <th>7</th>\n",
              "      <td>11</td>\n",
              "      <td>0.75</td>\n",
              "      <td>0.353553</td>\n",
              "      <td>0.465456</td>\n",
              "      <td>0.013426</td>\n",
              "    </tr>\n",
              "    <tr>\n",
              "      <th>8</th>\n",
              "      <td>12</td>\n",
              "      <td>0.75</td>\n",
              "      <td>0.353553</td>\n",
              "      <td>0.536883</td>\n",
              "      <td>0.206588</td>\n",
              "    </tr>\n",
              "    <tr>\n",
              "      <th>9</th>\n",
              "      <td>13</td>\n",
              "      <td>0.50</td>\n",
              "      <td>0.000000</td>\n",
              "      <td>0.686777</td>\n",
              "      <td>0.100368</td>\n",
              "    </tr>\n",
              "    <tr>\n",
              "      <th>10</th>\n",
              "      <td>14</td>\n",
              "      <td>0.50</td>\n",
              "      <td>0.000000</td>\n",
              "      <td>0.764961</td>\n",
              "      <td>0.051399</td>\n",
              "    </tr>\n",
              "    <tr>\n",
              "      <th>11</th>\n",
              "      <td>15</td>\n",
              "      <td>0.75</td>\n",
              "      <td>0.353553</td>\n",
              "      <td>0.628382</td>\n",
              "      <td>0.724912</td>\n",
              "    </tr>\n",
              "  </tbody>\n",
              "</table>\n",
              "</div>\n",
              "    <div class=\"colab-df-buttons\">\n",
              "\n",
              "  <div class=\"colab-df-container\">\n",
              "    <button class=\"colab-df-convert\" onclick=\"convertToInteractive('df-bdfe9a9d-53d8-480a-a17b-17f070b8bcf6')\"\n",
              "            title=\"Convert this dataframe to an interactive table.\"\n",
              "            style=\"display:none;\">\n",
              "\n",
              "  <svg xmlns=\"http://www.w3.org/2000/svg\" height=\"24px\" viewBox=\"0 -960 960 960\">\n",
              "    <path d=\"M120-120v-720h720v720H120Zm60-500h600v-160H180v160Zm220 220h160v-160H400v160Zm0 220h160v-160H400v160ZM180-400h160v-160H180v160Zm440 0h160v-160H620v160ZM180-180h160v-160H180v160Zm440 0h160v-160H620v160Z\"/>\n",
              "  </svg>\n",
              "    </button>\n",
              "\n",
              "  <style>\n",
              "    .colab-df-container {\n",
              "      display:flex;\n",
              "      gap: 12px;\n",
              "    }\n",
              "\n",
              "    .colab-df-convert {\n",
              "      background-color: #E8F0FE;\n",
              "      border: none;\n",
              "      border-radius: 50%;\n",
              "      cursor: pointer;\n",
              "      display: none;\n",
              "      fill: #1967D2;\n",
              "      height: 32px;\n",
              "      padding: 0 0 0 0;\n",
              "      width: 32px;\n",
              "    }\n",
              "\n",
              "    .colab-df-convert:hover {\n",
              "      background-color: #E2EBFA;\n",
              "      box-shadow: 0px 1px 2px rgba(60, 64, 67, 0.3), 0px 1px 3px 1px rgba(60, 64, 67, 0.15);\n",
              "      fill: #174EA6;\n",
              "    }\n",
              "\n",
              "    .colab-df-buttons div {\n",
              "      margin-bottom: 4px;\n",
              "    }\n",
              "\n",
              "    [theme=dark] .colab-df-convert {\n",
              "      background-color: #3B4455;\n",
              "      fill: #D2E3FC;\n",
              "    }\n",
              "\n",
              "    [theme=dark] .colab-df-convert:hover {\n",
              "      background-color: #434B5C;\n",
              "      box-shadow: 0px 1px 3px 1px rgba(0, 0, 0, 0.15);\n",
              "      filter: drop-shadow(0px 1px 2px rgba(0, 0, 0, 0.3));\n",
              "      fill: #FFFFFF;\n",
              "    }\n",
              "  </style>\n",
              "\n",
              "    <script>\n",
              "      const buttonEl =\n",
              "        document.querySelector('#df-bdfe9a9d-53d8-480a-a17b-17f070b8bcf6 button.colab-df-convert');\n",
              "      buttonEl.style.display =\n",
              "        google.colab.kernel.accessAllowed ? 'block' : 'none';\n",
              "\n",
              "      async function convertToInteractive(key) {\n",
              "        const element = document.querySelector('#df-bdfe9a9d-53d8-480a-a17b-17f070b8bcf6');\n",
              "        const dataTable =\n",
              "          await google.colab.kernel.invokeFunction('convertToInteractive',\n",
              "                                                    [key], {});\n",
              "        if (!dataTable) return;\n",
              "\n",
              "        const docLinkHtml = 'Like what you see? Visit the ' +\n",
              "          '<a target=\"_blank\" href=https://colab.research.google.com/notebooks/data_table.ipynb>data table notebook</a>'\n",
              "          + ' to learn more about interactive tables.';\n",
              "        element.innerHTML = '';\n",
              "        dataTable['output_type'] = 'display_data';\n",
              "        await google.colab.output.renderOutput(dataTable, element);\n",
              "        const docLink = document.createElement('div');\n",
              "        docLink.innerHTML = docLinkHtml;\n",
              "        element.appendChild(docLink);\n",
              "      }\n",
              "    </script>\n",
              "  </div>\n",
              "\n",
              "\n",
              "<div id=\"df-9b20b792-6a11-418c-abd8-6fb4fc9d1df7\">\n",
              "  <button class=\"colab-df-quickchart\" onclick=\"quickchart('df-9b20b792-6a11-418c-abd8-6fb4fc9d1df7')\"\n",
              "            title=\"Suggest charts\"\n",
              "            style=\"display:none;\">\n",
              "\n",
              "<svg xmlns=\"http://www.w3.org/2000/svg\" height=\"24px\"viewBox=\"0 0 24 24\"\n",
              "     width=\"24px\">\n",
              "    <g>\n",
              "        <path d=\"M19 3H5c-1.1 0-2 .9-2 2v14c0 1.1.9 2 2 2h14c1.1 0 2-.9 2-2V5c0-1.1-.9-2-2-2zM9 17H7v-7h2v7zm4 0h-2V7h2v10zm4 0h-2v-4h2v4z\"/>\n",
              "    </g>\n",
              "</svg>\n",
              "  </button>\n",
              "\n",
              "<style>\n",
              "  .colab-df-quickchart {\n",
              "      --bg-color: #E8F0FE;\n",
              "      --fill-color: #1967D2;\n",
              "      --hover-bg-color: #E2EBFA;\n",
              "      --hover-fill-color: #174EA6;\n",
              "      --disabled-fill-color: #AAA;\n",
              "      --disabled-bg-color: #DDD;\n",
              "  }\n",
              "\n",
              "  [theme=dark] .colab-df-quickchart {\n",
              "      --bg-color: #3B4455;\n",
              "      --fill-color: #D2E3FC;\n",
              "      --hover-bg-color: #434B5C;\n",
              "      --hover-fill-color: #FFFFFF;\n",
              "      --disabled-bg-color: #3B4455;\n",
              "      --disabled-fill-color: #666;\n",
              "  }\n",
              "\n",
              "  .colab-df-quickchart {\n",
              "    background-color: var(--bg-color);\n",
              "    border: none;\n",
              "    border-radius: 50%;\n",
              "    cursor: pointer;\n",
              "    display: none;\n",
              "    fill: var(--fill-color);\n",
              "    height: 32px;\n",
              "    padding: 0;\n",
              "    width: 32px;\n",
              "  }\n",
              "\n",
              "  .colab-df-quickchart:hover {\n",
              "    background-color: var(--hover-bg-color);\n",
              "    box-shadow: 0 1px 2px rgba(60, 64, 67, 0.3), 0 1px 3px 1px rgba(60, 64, 67, 0.15);\n",
              "    fill: var(--button-hover-fill-color);\n",
              "  }\n",
              "\n",
              "  .colab-df-quickchart-complete:disabled,\n",
              "  .colab-df-quickchart-complete:disabled:hover {\n",
              "    background-color: var(--disabled-bg-color);\n",
              "    fill: var(--disabled-fill-color);\n",
              "    box-shadow: none;\n",
              "  }\n",
              "\n",
              "  .colab-df-spinner {\n",
              "    border: 2px solid var(--fill-color);\n",
              "    border-color: transparent;\n",
              "    border-bottom-color: var(--fill-color);\n",
              "    animation:\n",
              "      spin 1s steps(1) infinite;\n",
              "  }\n",
              "\n",
              "  @keyframes spin {\n",
              "    0% {\n",
              "      border-color: transparent;\n",
              "      border-bottom-color: var(--fill-color);\n",
              "      border-left-color: var(--fill-color);\n",
              "    }\n",
              "    20% {\n",
              "      border-color: transparent;\n",
              "      border-left-color: var(--fill-color);\n",
              "      border-top-color: var(--fill-color);\n",
              "    }\n",
              "    30% {\n",
              "      border-color: transparent;\n",
              "      border-left-color: var(--fill-color);\n",
              "      border-top-color: var(--fill-color);\n",
              "      border-right-color: var(--fill-color);\n",
              "    }\n",
              "    40% {\n",
              "      border-color: transparent;\n",
              "      border-right-color: var(--fill-color);\n",
              "      border-top-color: var(--fill-color);\n",
              "    }\n",
              "    60% {\n",
              "      border-color: transparent;\n",
              "      border-right-color: var(--fill-color);\n",
              "    }\n",
              "    80% {\n",
              "      border-color: transparent;\n",
              "      border-right-color: var(--fill-color);\n",
              "      border-bottom-color: var(--fill-color);\n",
              "    }\n",
              "    90% {\n",
              "      border-color: transparent;\n",
              "      border-bottom-color: var(--fill-color);\n",
              "    }\n",
              "  }\n",
              "</style>\n",
              "\n",
              "  <script>\n",
              "    async function quickchart(key) {\n",
              "      const quickchartButtonEl =\n",
              "        document.querySelector('#' + key + ' button');\n",
              "      quickchartButtonEl.disabled = true;  // To prevent multiple clicks.\n",
              "      quickchartButtonEl.classList.add('colab-df-spinner');\n",
              "      try {\n",
              "        const charts = await google.colab.kernel.invokeFunction(\n",
              "            'suggestCharts', [key], {});\n",
              "      } catch (error) {\n",
              "        console.error('Error during call to suggestCharts:', error);\n",
              "      }\n",
              "      quickchartButtonEl.classList.remove('colab-df-spinner');\n",
              "      quickchartButtonEl.classList.add('colab-df-quickchart-complete');\n",
              "    }\n",
              "    (() => {\n",
              "      let quickchartButtonEl =\n",
              "        document.querySelector('#df-9b20b792-6a11-418c-abd8-6fb4fc9d1df7 button');\n",
              "      quickchartButtonEl.style.display =\n",
              "        google.colab.kernel.accessAllowed ? 'block' : 'none';\n",
              "    })();\n",
              "  </script>\n",
              "</div>\n",
              "\n",
              "    </div>\n",
              "  </div>\n"
            ],
            "application/vnd.google.colaboratory.intrinsic+json": {
              "type": "dataframe",
              "summary": "{\n  \"name\": \"expt_utils\",\n  \"rows\": 12,\n  \"fields\": [\n    {\n      \"column\": \"layer\",\n      \"properties\": {\n        \"dtype\": \"number\",\n        \"std\": 3,\n        \"min\": 4,\n        \"max\": 15,\n        \"num_unique_values\": 12,\n        \"samples\": [\n          14,\n          13,\n          4\n        ],\n        \"semantic_type\": \"\",\n        \"description\": \"\"\n      }\n    },\n    {\n      \"column\": \"accuracy_mean\",\n      \"properties\": {\n        \"dtype\": \"number\",\n        \"std\": 0.20871177748418046,\n        \"min\": 0.5,\n        \"max\": 1.0,\n        \"num_unique_values\": 3,\n        \"samples\": [\n          0.5,\n          1.0,\n          0.75\n        ],\n        \"semantic_type\": \"\",\n        \"description\": \"\"\n      }\n    },\n    {\n      \"column\": \"accuracy_std\",\n      \"properties\": {\n        \"dtype\": \"number\",\n        \"std\": 0.17407765595569785,\n        \"min\": 0.0,\n        \"max\": 0.3535533905932738,\n        \"num_unique_values\": 2,\n        \"samples\": [\n          0.3535533905932738,\n          0.0\n        ],\n        \"semantic_type\": \"\",\n        \"description\": \"\"\n      }\n    },\n    {\n      \"column\": \"loss_mean\",\n      \"properties\": {\n        \"dtype\": \"number\",\n        \"std\": 1.7872598406862164,\n        \"min\": 0.21859486727043986,\n        \"max\": 6.711089306391353,\n        \"num_unique_values\": 12,\n        \"samples\": [\n          0.7649605367332697,\n          0.6867771781980991\n        ],\n        \"semantic_type\": \"\",\n        \"description\": \"\"\n      }\n    },\n    {\n      \"column\": \"loss_std\",\n      \"properties\": {\n        \"dtype\": \"number\",\n        \"std\": 0.26762939825570814,\n        \"min\": 0.008866118772802514,\n        \"max\": 0.7653084572919794,\n        \"num_unique_values\": 12,\n        \"samples\": [\n          0.051398935232717616,\n          0.10036824689439591\n        ],\n        \"semantic_type\": \"\",\n        \"description\": \"\"\n      }\n    }\n  ]\n}"
            }
          },
          "metadata": {},
          "execution_count": 32
        }
      ]
    },
    {
      "cell_type": "markdown",
      "source": [
        "## Probe Loading and Evaluation"
      ],
      "metadata": {
        "id": "LcY7GtWxzbgh"
      }
    },
    {
      "cell_type": "code",
      "source": [
        "# TODO: write extra loading functionality for running an experiment using pretrained\n",
        "# TODO: extend failure detection functionality"
      ],
      "metadata": {
        "id": "-cctwkQazc8Q"
      },
      "execution_count": 33,
      "outputs": []
    }
  ]
}