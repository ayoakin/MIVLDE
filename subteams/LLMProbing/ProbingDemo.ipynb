{
  "nbformat": 4,
  "nbformat_minor": 0,
  "metadata": {
    "colab": {
      "provenance": [],
      "authorship_tag": "ABX9TyOFvRv6NWY0TXha7p/miugG"
    },
    "kernelspec": {
      "name": "python3",
      "display_name": "Python 3"
    },
    "language_info": {
      "name": "python"
    },
    "widgets": {
      "application/vnd.jupyter.widget-state+json": {
        "96b90284769a468d856e9c2d758a4548": {
          "model_module": "@jupyter-widgets/controls",
          "model_name": "HBoxModel",
          "model_module_version": "1.5.0",
          "state": {
            "_dom_classes": [],
            "_model_module": "@jupyter-widgets/controls",
            "_model_module_version": "1.5.0",
            "_model_name": "HBoxModel",
            "_view_count": null,
            "_view_module": "@jupyter-widgets/controls",
            "_view_module_version": "1.5.0",
            "_view_name": "HBoxView",
            "box_style": "",
            "children": [
              "IPY_MODEL_83a2dec9726a486caccde02f9b765656",
              "IPY_MODEL_d692affdac364a4f87ac1e1559aac71b",
              "IPY_MODEL_6f1423b30f1b4e5e9f2b42341987574a"
            ],
            "layout": "IPY_MODEL_4021373d1ce84ed9a232a3f115e7e44f"
          }
        },
        "83a2dec9726a486caccde02f9b765656": {
          "model_module": "@jupyter-widgets/controls",
          "model_name": "HTMLModel",
          "model_module_version": "1.5.0",
          "state": {
            "_dom_classes": [],
            "_model_module": "@jupyter-widgets/controls",
            "_model_module_version": "1.5.0",
            "_model_name": "HTMLModel",
            "_view_count": null,
            "_view_module": "@jupyter-widgets/controls",
            "_view_module_version": "1.5.0",
            "_view_name": "HTMLView",
            "description": "",
            "description_tooltip": null,
            "layout": "IPY_MODEL_e1e92d1a08e94142af07372eaac8de8f",
            "placeholder": "​",
            "style": "IPY_MODEL_3e71a6d883ae446db15766a30ca0f316",
            "value": "Generating exponential samples: 100%"
          }
        },
        "d692affdac364a4f87ac1e1559aac71b": {
          "model_module": "@jupyter-widgets/controls",
          "model_name": "FloatProgressModel",
          "model_module_version": "1.5.0",
          "state": {
            "_dom_classes": [],
            "_model_module": "@jupyter-widgets/controls",
            "_model_module_version": "1.5.0",
            "_model_name": "FloatProgressModel",
            "_view_count": null,
            "_view_module": "@jupyter-widgets/controls",
            "_view_module_version": "1.5.0",
            "_view_name": "ProgressView",
            "bar_style": "success",
            "description": "",
            "description_tooltip": null,
            "layout": "IPY_MODEL_57da56d85b9f48458d70675ba0de2e52",
            "max": 10,
            "min": 0,
            "orientation": "horizontal",
            "style": "IPY_MODEL_d8e62a08e2794a01b2373a4b8f33afa3",
            "value": 10
          }
        },
        "6f1423b30f1b4e5e9f2b42341987574a": {
          "model_module": "@jupyter-widgets/controls",
          "model_name": "HTMLModel",
          "model_module_version": "1.5.0",
          "state": {
            "_dom_classes": [],
            "_model_module": "@jupyter-widgets/controls",
            "_model_module_version": "1.5.0",
            "_model_name": "HTMLModel",
            "_view_count": null,
            "_view_module": "@jupyter-widgets/controls",
            "_view_module_version": "1.5.0",
            "_view_name": "HTMLView",
            "description": "",
            "description_tooltip": null,
            "layout": "IPY_MODEL_42e28db0843e45c5bf397304a9b21eb3",
            "placeholder": "​",
            "style": "IPY_MODEL_a3935510efea4b0592a1d159234e84c3",
            "value": " 10/10 [00:00&lt;00:00, 587.68it/s]"
          }
        },
        "4021373d1ce84ed9a232a3f115e7e44f": {
          "model_module": "@jupyter-widgets/base",
          "model_name": "LayoutModel",
          "model_module_version": "1.2.0",
          "state": {
            "_model_module": "@jupyter-widgets/base",
            "_model_module_version": "1.2.0",
            "_model_name": "LayoutModel",
            "_view_count": null,
            "_view_module": "@jupyter-widgets/base",
            "_view_module_version": "1.2.0",
            "_view_name": "LayoutView",
            "align_content": null,
            "align_items": null,
            "align_self": null,
            "border": null,
            "bottom": null,
            "display": null,
            "flex": null,
            "flex_flow": null,
            "grid_area": null,
            "grid_auto_columns": null,
            "grid_auto_flow": null,
            "grid_auto_rows": null,
            "grid_column": null,
            "grid_gap": null,
            "grid_row": null,
            "grid_template_areas": null,
            "grid_template_columns": null,
            "grid_template_rows": null,
            "height": null,
            "justify_content": null,
            "justify_items": null,
            "left": null,
            "margin": null,
            "max_height": null,
            "max_width": null,
            "min_height": null,
            "min_width": null,
            "object_fit": null,
            "object_position": null,
            "order": null,
            "overflow": null,
            "overflow_x": null,
            "overflow_y": null,
            "padding": null,
            "right": null,
            "top": null,
            "visibility": null,
            "width": null
          }
        },
        "e1e92d1a08e94142af07372eaac8de8f": {
          "model_module": "@jupyter-widgets/base",
          "model_name": "LayoutModel",
          "model_module_version": "1.2.0",
          "state": {
            "_model_module": "@jupyter-widgets/base",
            "_model_module_version": "1.2.0",
            "_model_name": "LayoutModel",
            "_view_count": null,
            "_view_module": "@jupyter-widgets/base",
            "_view_module_version": "1.2.0",
            "_view_name": "LayoutView",
            "align_content": null,
            "align_items": null,
            "align_self": null,
            "border": null,
            "bottom": null,
            "display": null,
            "flex": null,
            "flex_flow": null,
            "grid_area": null,
            "grid_auto_columns": null,
            "grid_auto_flow": null,
            "grid_auto_rows": null,
            "grid_column": null,
            "grid_gap": null,
            "grid_row": null,
            "grid_template_areas": null,
            "grid_template_columns": null,
            "grid_template_rows": null,
            "height": null,
            "justify_content": null,
            "justify_items": null,
            "left": null,
            "margin": null,
            "max_height": null,
            "max_width": null,
            "min_height": null,
            "min_width": null,
            "object_fit": null,
            "object_position": null,
            "order": null,
            "overflow": null,
            "overflow_x": null,
            "overflow_y": null,
            "padding": null,
            "right": null,
            "top": null,
            "visibility": null,
            "width": null
          }
        },
        "3e71a6d883ae446db15766a30ca0f316": {
          "model_module": "@jupyter-widgets/controls",
          "model_name": "DescriptionStyleModel",
          "model_module_version": "1.5.0",
          "state": {
            "_model_module": "@jupyter-widgets/controls",
            "_model_module_version": "1.5.0",
            "_model_name": "DescriptionStyleModel",
            "_view_count": null,
            "_view_module": "@jupyter-widgets/base",
            "_view_module_version": "1.2.0",
            "_view_name": "StyleView",
            "description_width": ""
          }
        },
        "57da56d85b9f48458d70675ba0de2e52": {
          "model_module": "@jupyter-widgets/base",
          "model_name": "LayoutModel",
          "model_module_version": "1.2.0",
          "state": {
            "_model_module": "@jupyter-widgets/base",
            "_model_module_version": "1.2.0",
            "_model_name": "LayoutModel",
            "_view_count": null,
            "_view_module": "@jupyter-widgets/base",
            "_view_module_version": "1.2.0",
            "_view_name": "LayoutView",
            "align_content": null,
            "align_items": null,
            "align_self": null,
            "border": null,
            "bottom": null,
            "display": null,
            "flex": null,
            "flex_flow": null,
            "grid_area": null,
            "grid_auto_columns": null,
            "grid_auto_flow": null,
            "grid_auto_rows": null,
            "grid_column": null,
            "grid_gap": null,
            "grid_row": null,
            "grid_template_areas": null,
            "grid_template_columns": null,
            "grid_template_rows": null,
            "height": null,
            "justify_content": null,
            "justify_items": null,
            "left": null,
            "margin": null,
            "max_height": null,
            "max_width": null,
            "min_height": null,
            "min_width": null,
            "object_fit": null,
            "object_position": null,
            "order": null,
            "overflow": null,
            "overflow_x": null,
            "overflow_y": null,
            "padding": null,
            "right": null,
            "top": null,
            "visibility": null,
            "width": null
          }
        },
        "d8e62a08e2794a01b2373a4b8f33afa3": {
          "model_module": "@jupyter-widgets/controls",
          "model_name": "ProgressStyleModel",
          "model_module_version": "1.5.0",
          "state": {
            "_model_module": "@jupyter-widgets/controls",
            "_model_module_version": "1.5.0",
            "_model_name": "ProgressStyleModel",
            "_view_count": null,
            "_view_module": "@jupyter-widgets/base",
            "_view_module_version": "1.2.0",
            "_view_name": "StyleView",
            "bar_color": null,
            "description_width": ""
          }
        },
        "42e28db0843e45c5bf397304a9b21eb3": {
          "model_module": "@jupyter-widgets/base",
          "model_name": "LayoutModel",
          "model_module_version": "1.2.0",
          "state": {
            "_model_module": "@jupyter-widgets/base",
            "_model_module_version": "1.2.0",
            "_model_name": "LayoutModel",
            "_view_count": null,
            "_view_module": "@jupyter-widgets/base",
            "_view_module_version": "1.2.0",
            "_view_name": "LayoutView",
            "align_content": null,
            "align_items": null,
            "align_self": null,
            "border": null,
            "bottom": null,
            "display": null,
            "flex": null,
            "flex_flow": null,
            "grid_area": null,
            "grid_auto_columns": null,
            "grid_auto_flow": null,
            "grid_auto_rows": null,
            "grid_column": null,
            "grid_gap": null,
            "grid_row": null,
            "grid_template_areas": null,
            "grid_template_columns": null,
            "grid_template_rows": null,
            "height": null,
            "justify_content": null,
            "justify_items": null,
            "left": null,
            "margin": null,
            "max_height": null,
            "max_width": null,
            "min_height": null,
            "min_width": null,
            "object_fit": null,
            "object_position": null,
            "order": null,
            "overflow": null,
            "overflow_x": null,
            "overflow_y": null,
            "padding": null,
            "right": null,
            "top": null,
            "visibility": null,
            "width": null
          }
        },
        "a3935510efea4b0592a1d159234e84c3": {
          "model_module": "@jupyter-widgets/controls",
          "model_name": "DescriptionStyleModel",
          "model_module_version": "1.5.0",
          "state": {
            "_model_module": "@jupyter-widgets/controls",
            "_model_module_version": "1.5.0",
            "_model_name": "DescriptionStyleModel",
            "_view_count": null,
            "_view_module": "@jupyter-widgets/base",
            "_view_module_version": "1.2.0",
            "_view_name": "StyleView",
            "description_width": ""
          }
        },
        "7b04bc6d3f6c497a920ecfe66c0ced60": {
          "model_module": "@jupyter-widgets/controls",
          "model_name": "HBoxModel",
          "model_module_version": "1.5.0",
          "state": {
            "_dom_classes": [],
            "_model_module": "@jupyter-widgets/controls",
            "_model_module_version": "1.5.0",
            "_model_name": "HBoxModel",
            "_view_count": null,
            "_view_module": "@jupyter-widgets/controls",
            "_view_module_version": "1.5.0",
            "_view_name": "HBoxView",
            "box_style": "",
            "children": [
              "IPY_MODEL_0fa84354b7194213ac9899286015a657",
              "IPY_MODEL_aab5b53448b041d1af0bb856ec886e2a",
              "IPY_MODEL_8961b5bb1cd24e2e980f500bdc10e253"
            ],
            "layout": "IPY_MODEL_1001c2ba6f7942d780a2b2af1929546e"
          }
        },
        "0fa84354b7194213ac9899286015a657": {
          "model_module": "@jupyter-widgets/controls",
          "model_name": "HTMLModel",
          "model_module_version": "1.5.0",
          "state": {
            "_dom_classes": [],
            "_model_module": "@jupyter-widgets/controls",
            "_model_module_version": "1.5.0",
            "_model_name": "HTMLModel",
            "_view_count": null,
            "_view_module": "@jupyter-widgets/controls",
            "_view_module_version": "1.5.0",
            "_view_name": "HTMLView",
            "description": "",
            "description_tooltip": null,
            "layout": "IPY_MODEL_0a9b299e5c7d41c7b2948d0be2c16d0a",
            "placeholder": "​",
            "style": "IPY_MODEL_b59fa49bef70410cbe9d545c69cc64bc",
            "value": "Generating hyperbolic samples: 100%"
          }
        },
        "aab5b53448b041d1af0bb856ec886e2a": {
          "model_module": "@jupyter-widgets/controls",
          "model_name": "FloatProgressModel",
          "model_module_version": "1.5.0",
          "state": {
            "_dom_classes": [],
            "_model_module": "@jupyter-widgets/controls",
            "_model_module_version": "1.5.0",
            "_model_name": "FloatProgressModel",
            "_view_count": null,
            "_view_module": "@jupyter-widgets/controls",
            "_view_module_version": "1.5.0",
            "_view_name": "ProgressView",
            "bar_style": "success",
            "description": "",
            "description_tooltip": null,
            "layout": "IPY_MODEL_9ce8a162d2864c5d90455c7005345fcc",
            "max": 10,
            "min": 0,
            "orientation": "horizontal",
            "style": "IPY_MODEL_81d1f4cd0490466cb2b44a250b17e3b0",
            "value": 10
          }
        },
        "8961b5bb1cd24e2e980f500bdc10e253": {
          "model_module": "@jupyter-widgets/controls",
          "model_name": "HTMLModel",
          "model_module_version": "1.5.0",
          "state": {
            "_dom_classes": [],
            "_model_module": "@jupyter-widgets/controls",
            "_model_module_version": "1.5.0",
            "_model_name": "HTMLModel",
            "_view_count": null,
            "_view_module": "@jupyter-widgets/controls",
            "_view_module_version": "1.5.0",
            "_view_name": "HTMLView",
            "description": "",
            "description_tooltip": null,
            "layout": "IPY_MODEL_a7267f6a7b08414b88326f3fd68b691d",
            "placeholder": "​",
            "style": "IPY_MODEL_9c54dee6113b4907a6dea545640db3b0",
            "value": " 10/10 [00:00&lt;00:00, 551.25it/s]"
          }
        },
        "1001c2ba6f7942d780a2b2af1929546e": {
          "model_module": "@jupyter-widgets/base",
          "model_name": "LayoutModel",
          "model_module_version": "1.2.0",
          "state": {
            "_model_module": "@jupyter-widgets/base",
            "_model_module_version": "1.2.0",
            "_model_name": "LayoutModel",
            "_view_count": null,
            "_view_module": "@jupyter-widgets/base",
            "_view_module_version": "1.2.0",
            "_view_name": "LayoutView",
            "align_content": null,
            "align_items": null,
            "align_self": null,
            "border": null,
            "bottom": null,
            "display": null,
            "flex": null,
            "flex_flow": null,
            "grid_area": null,
            "grid_auto_columns": null,
            "grid_auto_flow": null,
            "grid_auto_rows": null,
            "grid_column": null,
            "grid_gap": null,
            "grid_row": null,
            "grid_template_areas": null,
            "grid_template_columns": null,
            "grid_template_rows": null,
            "height": null,
            "justify_content": null,
            "justify_items": null,
            "left": null,
            "margin": null,
            "max_height": null,
            "max_width": null,
            "min_height": null,
            "min_width": null,
            "object_fit": null,
            "object_position": null,
            "order": null,
            "overflow": null,
            "overflow_x": null,
            "overflow_y": null,
            "padding": null,
            "right": null,
            "top": null,
            "visibility": null,
            "width": null
          }
        },
        "0a9b299e5c7d41c7b2948d0be2c16d0a": {
          "model_module": "@jupyter-widgets/base",
          "model_name": "LayoutModel",
          "model_module_version": "1.2.0",
          "state": {
            "_model_module": "@jupyter-widgets/base",
            "_model_module_version": "1.2.0",
            "_model_name": "LayoutModel",
            "_view_count": null,
            "_view_module": "@jupyter-widgets/base",
            "_view_module_version": "1.2.0",
            "_view_name": "LayoutView",
            "align_content": null,
            "align_items": null,
            "align_self": null,
            "border": null,
            "bottom": null,
            "display": null,
            "flex": null,
            "flex_flow": null,
            "grid_area": null,
            "grid_auto_columns": null,
            "grid_auto_flow": null,
            "grid_auto_rows": null,
            "grid_column": null,
            "grid_gap": null,
            "grid_row": null,
            "grid_template_areas": null,
            "grid_template_columns": null,
            "grid_template_rows": null,
            "height": null,
            "justify_content": null,
            "justify_items": null,
            "left": null,
            "margin": null,
            "max_height": null,
            "max_width": null,
            "min_height": null,
            "min_width": null,
            "object_fit": null,
            "object_position": null,
            "order": null,
            "overflow": null,
            "overflow_x": null,
            "overflow_y": null,
            "padding": null,
            "right": null,
            "top": null,
            "visibility": null,
            "width": null
          }
        },
        "b59fa49bef70410cbe9d545c69cc64bc": {
          "model_module": "@jupyter-widgets/controls",
          "model_name": "DescriptionStyleModel",
          "model_module_version": "1.5.0",
          "state": {
            "_model_module": "@jupyter-widgets/controls",
            "_model_module_version": "1.5.0",
            "_model_name": "DescriptionStyleModel",
            "_view_count": null,
            "_view_module": "@jupyter-widgets/base",
            "_view_module_version": "1.2.0",
            "_view_name": "StyleView",
            "description_width": ""
          }
        },
        "9ce8a162d2864c5d90455c7005345fcc": {
          "model_module": "@jupyter-widgets/base",
          "model_name": "LayoutModel",
          "model_module_version": "1.2.0",
          "state": {
            "_model_module": "@jupyter-widgets/base",
            "_model_module_version": "1.2.0",
            "_model_name": "LayoutModel",
            "_view_count": null,
            "_view_module": "@jupyter-widgets/base",
            "_view_module_version": "1.2.0",
            "_view_name": "LayoutView",
            "align_content": null,
            "align_items": null,
            "align_self": null,
            "border": null,
            "bottom": null,
            "display": null,
            "flex": null,
            "flex_flow": null,
            "grid_area": null,
            "grid_auto_columns": null,
            "grid_auto_flow": null,
            "grid_auto_rows": null,
            "grid_column": null,
            "grid_gap": null,
            "grid_row": null,
            "grid_template_areas": null,
            "grid_template_columns": null,
            "grid_template_rows": null,
            "height": null,
            "justify_content": null,
            "justify_items": null,
            "left": null,
            "margin": null,
            "max_height": null,
            "max_width": null,
            "min_height": null,
            "min_width": null,
            "object_fit": null,
            "object_position": null,
            "order": null,
            "overflow": null,
            "overflow_x": null,
            "overflow_y": null,
            "padding": null,
            "right": null,
            "top": null,
            "visibility": null,
            "width": null
          }
        },
        "81d1f4cd0490466cb2b44a250b17e3b0": {
          "model_module": "@jupyter-widgets/controls",
          "model_name": "ProgressStyleModel",
          "model_module_version": "1.5.0",
          "state": {
            "_model_module": "@jupyter-widgets/controls",
            "_model_module_version": "1.5.0",
            "_model_name": "ProgressStyleModel",
            "_view_count": null,
            "_view_module": "@jupyter-widgets/base",
            "_view_module_version": "1.2.0",
            "_view_name": "StyleView",
            "bar_color": null,
            "description_width": ""
          }
        },
        "a7267f6a7b08414b88326f3fd68b691d": {
          "model_module": "@jupyter-widgets/base",
          "model_name": "LayoutModel",
          "model_module_version": "1.2.0",
          "state": {
            "_model_module": "@jupyter-widgets/base",
            "_model_module_version": "1.2.0",
            "_model_name": "LayoutModel",
            "_view_count": null,
            "_view_module": "@jupyter-widgets/base",
            "_view_module_version": "1.2.0",
            "_view_name": "LayoutView",
            "align_content": null,
            "align_items": null,
            "align_self": null,
            "border": null,
            "bottom": null,
            "display": null,
            "flex": null,
            "flex_flow": null,
            "grid_area": null,
            "grid_auto_columns": null,
            "grid_auto_flow": null,
            "grid_auto_rows": null,
            "grid_column": null,
            "grid_gap": null,
            "grid_row": null,
            "grid_template_areas": null,
            "grid_template_columns": null,
            "grid_template_rows": null,
            "height": null,
            "justify_content": null,
            "justify_items": null,
            "left": null,
            "margin": null,
            "max_height": null,
            "max_width": null,
            "min_height": null,
            "min_width": null,
            "object_fit": null,
            "object_position": null,
            "order": null,
            "overflow": null,
            "overflow_x": null,
            "overflow_y": null,
            "padding": null,
            "right": null,
            "top": null,
            "visibility": null,
            "width": null
          }
        },
        "9c54dee6113b4907a6dea545640db3b0": {
          "model_module": "@jupyter-widgets/controls",
          "model_name": "DescriptionStyleModel",
          "model_module_version": "1.5.0",
          "state": {
            "_model_module": "@jupyter-widgets/controls",
            "_model_module_version": "1.5.0",
            "_model_name": "DescriptionStyleModel",
            "_view_count": null,
            "_view_module": "@jupyter-widgets/base",
            "_view_module_version": "1.2.0",
            "_view_name": "StyleView",
            "description_width": ""
          }
        }
      }
    }
  },
  "cells": [
    {
      "cell_type": "code",
      "source": [
        "%pip install torch==2.0.0"
      ],
      "metadata": {
        "colab": {
          "base_uri": "https://localhost:8080/"
        },
        "id": "0NmiuTkoYRR1",
        "outputId": "cae78258-8ef9-4d0a-90a0-cb5ecb64d0da"
      },
      "execution_count": 1,
      "outputs": [
        {
          "output_type": "stream",
          "name": "stdout",
          "text": [
            "Requirement already satisfied: torch==2.0.0 in /usr/local/lib/python3.11/dist-packages (2.0.0)\n",
            "Requirement already satisfied: filelock in /usr/local/lib/python3.11/dist-packages (from torch==2.0.0) (3.17.0)\n",
            "Requirement already satisfied: typing-extensions in /usr/local/lib/python3.11/dist-packages (from torch==2.0.0) (4.12.2)\n",
            "Requirement already satisfied: sympy in /usr/local/lib/python3.11/dist-packages (from torch==2.0.0) (1.13.1)\n",
            "Requirement already satisfied: networkx in /usr/local/lib/python3.11/dist-packages (from torch==2.0.0) (3.4.2)\n",
            "Requirement already satisfied: jinja2 in /usr/local/lib/python3.11/dist-packages (from torch==2.0.0) (3.1.6)\n",
            "Requirement already satisfied: nvidia-cuda-nvrtc-cu11==11.7.99 in /usr/local/lib/python3.11/dist-packages (from torch==2.0.0) (11.7.99)\n",
            "Requirement already satisfied: nvidia-cuda-runtime-cu11==11.7.99 in /usr/local/lib/python3.11/dist-packages (from torch==2.0.0) (11.7.99)\n",
            "Requirement already satisfied: nvidia-cuda-cupti-cu11==11.7.101 in /usr/local/lib/python3.11/dist-packages (from torch==2.0.0) (11.7.101)\n",
            "Requirement already satisfied: nvidia-cudnn-cu11==8.5.0.96 in /usr/local/lib/python3.11/dist-packages (from torch==2.0.0) (8.5.0.96)\n",
            "Requirement already satisfied: nvidia-cublas-cu11==11.10.3.66 in /usr/local/lib/python3.11/dist-packages (from torch==2.0.0) (11.10.3.66)\n",
            "Requirement already satisfied: nvidia-cufft-cu11==10.9.0.58 in /usr/local/lib/python3.11/dist-packages (from torch==2.0.0) (10.9.0.58)\n",
            "Requirement already satisfied: nvidia-curand-cu11==10.2.10.91 in /usr/local/lib/python3.11/dist-packages (from torch==2.0.0) (10.2.10.91)\n",
            "Requirement already satisfied: nvidia-cusolver-cu11==11.4.0.1 in /usr/local/lib/python3.11/dist-packages (from torch==2.0.0) (11.4.0.1)\n",
            "Requirement already satisfied: nvidia-cusparse-cu11==11.7.4.91 in /usr/local/lib/python3.11/dist-packages (from torch==2.0.0) (11.7.4.91)\n",
            "Requirement already satisfied: nvidia-nccl-cu11==2.14.3 in /usr/local/lib/python3.11/dist-packages (from torch==2.0.0) (2.14.3)\n",
            "Requirement already satisfied: nvidia-nvtx-cu11==11.7.91 in /usr/local/lib/python3.11/dist-packages (from torch==2.0.0) (11.7.91)\n",
            "Requirement already satisfied: triton==2.0.0 in /usr/local/lib/python3.11/dist-packages (from torch==2.0.0) (2.0.0)\n",
            "Requirement already satisfied: setuptools in /usr/local/lib/python3.11/dist-packages (from nvidia-cublas-cu11==11.10.3.66->torch==2.0.0) (75.1.0)\n",
            "Requirement already satisfied: wheel in /usr/local/lib/python3.11/dist-packages (from nvidia-cublas-cu11==11.10.3.66->torch==2.0.0) (0.45.1)\n",
            "Requirement already satisfied: cmake in /usr/local/lib/python3.11/dist-packages (from triton==2.0.0->torch==2.0.0) (3.31.6)\n",
            "Requirement already satisfied: lit in /usr/local/lib/python3.11/dist-packages (from triton==2.0.0->torch==2.0.0) (18.1.8)\n",
            "Requirement already satisfied: MarkupSafe>=2.0 in /usr/local/lib/python3.11/dist-packages (from jinja2->torch==2.0.0) (3.0.2)\n",
            "Requirement already satisfied: mpmath<1.4,>=1.1.0 in /usr/local/lib/python3.11/dist-packages (from sympy->torch==2.0.0) (1.3.0)\n"
          ]
        }
      ]
    },
    {
      "cell_type": "code",
      "source": [
        "# give colab permission to access drive\n",
        "from google.colab import drive\n",
        "drive.mount('/content/drive')"
      ],
      "metadata": {
        "colab": {
          "base_uri": "https://localhost:8080/"
        },
        "id": "nm965IrO22Zw",
        "outputId": "eb988d70-2f21-433d-bd9c-e7ba18b116b8"
      },
      "execution_count": 2,
      "outputs": [
        {
          "output_type": "stream",
          "name": "stdout",
          "text": [
            "Drive already mounted at /content/drive; to attempt to forcibly remount, call drive.mount(\"/content/drive\", force_remount=True).\n"
          ]
        }
      ]
    },
    {
      "cell_type": "code",
      "source": [
        "# Update these as required\n",
        "repo_path = '/content/drive/MyDrive/github/subteams/LLMProbing'\n",
        "odeformer_path = '/content/drive/MyDrive/aisc' # This is because I cloned the odeformer repo into my aisc folder\n",
        "samples_path = '/content/drive/MyDrive/github/subteams/LLMProbing/local_experiment_data/samples'\n",
        "activations_path = '/content/drive/MyDrive/github/subteams/LLMProbing/local_experiment_data/activations'\n",
        "probes_path = '/content/drive/MyDrive/github/subteams/LLMProbing/local_experiment_data/probes'"
      ],
      "metadata": {
        "id": "oMt_fcLwzfl6"
      },
      "execution_count": 3,
      "outputs": []
    },
    {
      "cell_type": "code",
      "source": [
        "import sys\n",
        "import importlib\n",
        "sys.path.append(repo_path)\n",
        "sys.path.append(odeformer_path)"
      ],
      "metadata": {
        "id": "pNqQwNvG28hV"
      },
      "execution_count": 4,
      "outputs": []
    },
    {
      "cell_type": "code",
      "source": [
        "import numpy as np\n",
        "import os\n",
        "import pickle"
      ],
      "metadata": {
        "id": "5RUno2Vs4e_g"
      },
      "execution_count": 5,
      "outputs": []
    },
    {
      "cell_type": "code",
      "source": [
        "from odeformer.model import SymbolicTransformerRegressor\n",
        "dstr = SymbolicTransformerRegressor(from_pretrained=True)"
      ],
      "metadata": {
        "colab": {
          "base_uri": "https://localhost:8080/"
        },
        "id": "fJCeXP3U7LML",
        "outputId": "83aff81b-e983-4cb1-9c1d-675c1ed25724"
      },
      "execution_count": 6,
      "outputs": [
        {
          "output_type": "stream",
          "name": "stdout",
          "text": [
            "Found pretrained model at odeformer.pt\n",
            "Loaded pretrained model\n"
          ]
        }
      ]
    },
    {
      "cell_type": "code",
      "source": [
        "model_args = {'beam_size': 10, 'beam_temperature': 0.1}\n",
        "dstr.set_model_args(model_args)"
      ],
      "metadata": {
        "id": "SCgVxIyMWD4E"
      },
      "execution_count": 7,
      "outputs": []
    },
    {
      "cell_type": "code",
      "source": [
        "%load_ext autoreload\n",
        "%autoreload 2"
      ],
      "metadata": {
        "id": "XkBDbGPWT1_d"
      },
      "execution_count": 8,
      "outputs": []
    },
    {
      "cell_type": "markdown",
      "source": [
        "## Random Sample Generation"
      ],
      "metadata": {
        "id": "4OANH6idzPaa"
      }
    },
    {
      "cell_type": "code",
      "source": [
        "from src.sample_generation import RandomSamplesGenerator"
      ],
      "metadata": {
        "id": "LNbJcKUB3ES2"
      },
      "execution_count": 9,
      "outputs": []
    },
    {
      "cell_type": "code",
      "source": [
        "operators_to_use = \"id:1,add:1,mul:1,sin:0.5\"\n",
        "min_dimension = 1\n",
        "max_dimension = 1\n",
        "num_samples = 10\n",
        "seed = 42\n",
        "sample_descriptor = 'demo'\n",
        "\n",
        "random_samples_path = f'{samples_path}/demo_random'"
      ],
      "metadata": {
        "id": "5ZdMR6G56J0S"
      },
      "execution_count": 10,
      "outputs": []
    },
    {
      "cell_type": "code",
      "source": [
        "rsg = RandomSamplesGenerator()"
      ],
      "metadata": {
        "id": "MR8m17Ck39QH"
      },
      "execution_count": 11,
      "outputs": []
    },
    {
      "cell_type": "code",
      "source": [
        "rsg.generate_random_samples(random_samples_path, seed=seed, num_samples=num_samples, \\\n",
        "                            operators_to_use=operators_to_use, min_dimension=min_dimension, \\\n",
        "                            max_dimension=max_dimension, sample_descriptor='demo')"
      ],
      "metadata": {
        "colab": {
          "base_uri": "https://localhost:8080/"
        },
        "id": "FaPYyAfR3J4e",
        "outputId": "2887b0a5-d08d-4b35-bd54-d1fbc1b9db5c"
      },
      "execution_count": 12,
      "outputs": [
        {
          "output_type": "stream",
          "name": "stderr",
          "text": [
            "Generating demo samples: 100%|██████████| 10/10 [00:01<00:00,  5.05it/s]"
          ]
        },
        {
          "output_type": "stream",
          "name": "stdout",
          "text": [
            "\n",
            "[INFO] Data generation complete. Saved 10 demo samples to /content/drive/MyDrive/github/subteams/LLMProbing/local_experiment_data/samples/demo_random\n"
          ]
        },
        {
          "output_type": "stream",
          "name": "stderr",
          "text": [
            "\n"
          ]
        }
      ]
    },
    {
      "cell_type": "code",
      "source": [
        "# Inspect a random sample to see its keys and some data\n",
        "random_samples_dir = os.fsencode(random_samples_path)\n",
        "for random_sample_file in os.listdir(random_samples_dir):\n",
        "  random_sample_name = os.fsdecode(random_sample_file)\n",
        "  random_sample_path = os.path.join(random_samples_path, random_sample_name)\n",
        "  with open(random_sample_path, 'rb') as f:\n",
        "      random_sample = pickle.load(f)\n",
        "  print(random_sample.keys())\n",
        "  print(f\"Encoded equation: {random_sample['tree']}\")\n",
        "  print(f\"Feature dictionary: {random_sample['feature_dict']}\")\n",
        "  break"
      ],
      "metadata": {
        "colab": {
          "base_uri": "https://localhost:8080/"
        },
        "id": "eMz8dSe-4AS1",
        "outputId": "344e0fe3-0327-458b-ef09-f6b83ab0f95b"
      },
      "execution_count": 13,
      "outputs": [
        {
          "output_type": "stream",
          "name": "stdout",
          "text": [
            "dict_keys(['times', 'trajectory', 'tree_encoded', 'skeleton_tree_encoded', 'tree', 'skeleton_tree', 'infos', 'operator_dict', 'feature_dict'])\n",
            "Encoded equation: -0.9998 * x_0\n",
            "Feature dictionary: {'log': 0, 'exp': 0, 'tan': 0, 'arctan': 0, 'sin_cos': 0, 'arc_sin_cos': 0, 'pow2': 0, 'pow3': 0, 'inv': 0, 'sqrt': 0}\n"
          ]
        }
      ]
    },
    {
      "cell_type": "markdown",
      "source": [
        "## Manual Sample Generation"
      ],
      "metadata": {
        "id": "x3OpISsvzN25"
      }
    },
    {
      "cell_type": "code",
      "source": [
        "from src.sample_generation import ManualSamplesGenerator"
      ],
      "metadata": {
        "id": "4d-5VwP7cBad"
      },
      "execution_count": 14,
      "outputs": []
    },
    {
      "cell_type": "code",
      "source": [
        "manual_samples_path = f'{samples_path}/demo_manual'\n",
        "msg = ManualSamplesGenerator(samples_path=manual_samples_path)"
      ],
      "metadata": {
        "id": "5GoSjUZezTbY"
      },
      "execution_count": 15,
      "outputs": []
    },
    {
      "cell_type": "code",
      "source": [
        "# Times array\n",
        "t_values = np.linspace(1, 10, 50)\n",
        "\n",
        "# Exponential parameters\n",
        "c_values = np.linspace(-10,10, 2)\n",
        "a_values = np.linspace(-10,10, 5)\n",
        "\n",
        "# Hyperbolic parameters\n",
        "t0_values = np.linspace(10.1, 100, 5)"
      ],
      "metadata": {
        "id": "7waihYWV4KLN"
      },
      "execution_count": 16,
      "outputs": []
    },
    {
      "cell_type": "code",
      "source": [
        "# Generate exponential samples\n",
        "msg.generate_exponential_samples(t_values, c_values, a_values)"
      ],
      "metadata": {
        "colab": {
          "base_uri": "https://localhost:8080/",
          "height": 101,
          "referenced_widgets": [
            "96b90284769a468d856e9c2d758a4548",
            "83a2dec9726a486caccde02f9b765656",
            "d692affdac364a4f87ac1e1559aac71b",
            "6f1423b30f1b4e5e9f2b42341987574a",
            "4021373d1ce84ed9a232a3f115e7e44f",
            "e1e92d1a08e94142af07372eaac8de8f",
            "3e71a6d883ae446db15766a30ca0f316",
            "57da56d85b9f48458d70675ba0de2e52",
            "d8e62a08e2794a01b2373a4b8f33afa3",
            "42e28db0843e45c5bf397304a9b21eb3",
            "a3935510efea4b0592a1d159234e84c3"
          ]
        },
        "id": "E4Buw9n65sr-",
        "outputId": "5136c9da-2a97-42da-f370-fd991d1c1c99"
      },
      "execution_count": 17,
      "outputs": [
        {
          "output_type": "display_data",
          "data": {
            "text/plain": [
              "Generating exponential samples:   0%|          | 0/10 [00:00<?, ?it/s]"
            ],
            "application/vnd.jupyter.widget-view+json": {
              "version_major": 2,
              "version_minor": 0,
              "model_id": "96b90284769a468d856e9c2d758a4548"
            }
          },
          "metadata": {}
        },
        {
          "output_type": "stream",
          "name": "stderr",
          "text": [
            "Saving generated samples: 10it [00:00, 81.45it/s]"
          ]
        },
        {
          "output_type": "stream",
          "name": "stdout",
          "text": [
            "\n",
            "[INFO] Data generation complete. Saved 10 exponential samples to /content/drive/MyDrive/github/subteams/LLMProbing/local_experiment_data/samples/demo_manual\n"
          ]
        },
        {
          "output_type": "stream",
          "name": "stderr",
          "text": [
            "\n"
          ]
        }
      ]
    },
    {
      "cell_type": "code",
      "source": [
        "# Inspect an exponential sample to see its keys and some data\n",
        "manual_samples_dir = os.fsencode(manual_samples_path)\n",
        "for sample_file in os.listdir(manual_samples_dir):\n",
        "  sample_name = os.fsdecode(sample_file)\n",
        "  if \"exp\" in sample_name:\n",
        "    exp_sample_path = os.path.join(manual_samples_path, sample_name)\n",
        "    with open(exp_sample_path, 'rb') as f:\n",
        "        exp_sample = pickle.load(f)\n",
        "    print(exp_sample.keys())\n",
        "    print(exp_sample['expression'])\n",
        "    print(exp_sample['feature_dict'])\n",
        "    break"
      ],
      "metadata": {
        "colab": {
          "base_uri": "https://localhost:8080/"
        },
        "id": "cDBNG5ZC6hP0",
        "outputId": "89cadf12-042b-4e4d-ed91-5fc2a3e83b54"
      },
      "execution_count": 18,
      "outputs": [
        {
          "output_type": "stream",
          "name": "stdout",
          "text": [
            "dict_keys(['times', 'trajectory', 'parameters', 'feature_dict', 'expression'])\n",
            "-10.0 * np.exp(10.0 * t)\n",
            "{'exponential': 1, 'hyperbolic': 0}\n"
          ]
        }
      ]
    },
    {
      "cell_type": "code",
      "source": [
        "# Generate hyperbolic samples\n",
        "msg.generate_hyperbolic_samples(t_values, c_values, t0_values)"
      ],
      "metadata": {
        "colab": {
          "base_uri": "https://localhost:8080/",
          "height": 101,
          "referenced_widgets": [
            "7b04bc6d3f6c497a920ecfe66c0ced60",
            "0fa84354b7194213ac9899286015a657",
            "aab5b53448b041d1af0bb856ec886e2a",
            "8961b5bb1cd24e2e980f500bdc10e253",
            "1001c2ba6f7942d780a2b2af1929546e",
            "0a9b299e5c7d41c7b2948d0be2c16d0a",
            "b59fa49bef70410cbe9d545c69cc64bc",
            "9ce8a162d2864c5d90455c7005345fcc",
            "81d1f4cd0490466cb2b44a250b17e3b0",
            "a7267f6a7b08414b88326f3fd68b691d",
            "9c54dee6113b4907a6dea545640db3b0"
          ]
        },
        "id": "-M2ADfC236CP",
        "outputId": "928818d2-0002-4aeb-8d8a-a4329616118a"
      },
      "execution_count": 19,
      "outputs": [
        {
          "output_type": "display_data",
          "data": {
            "text/plain": [
              "Generating hyperbolic samples:   0%|          | 0/10 [00:00<?, ?it/s]"
            ],
            "application/vnd.jupyter.widget-view+json": {
              "version_major": 2,
              "version_minor": 0,
              "model_id": "7b04bc6d3f6c497a920ecfe66c0ced60"
            }
          },
          "metadata": {}
        },
        {
          "output_type": "stream",
          "name": "stderr",
          "text": [
            "Saving generated samples: 10it [00:00, 86.45it/s]"
          ]
        },
        {
          "output_type": "stream",
          "name": "stdout",
          "text": [
            "\n",
            "[INFO] Data generation complete. Saved 10 hyperbolic samples to /content/drive/MyDrive/github/subteams/LLMProbing/local_experiment_data/samples/demo_manual\n"
          ]
        },
        {
          "output_type": "stream",
          "name": "stderr",
          "text": [
            "\n"
          ]
        }
      ]
    },
    {
      "cell_type": "code",
      "source": [
        "# Inspect a hyperbolic sample to see its keys and some data\n",
        "manual_samples_dir = os.fsencode(manual_samples_path)\n",
        "for sample_file in os.listdir(manual_samples_dir):\n",
        "  sample_name = os.fsdecode(sample_file)\n",
        "  if \"hyp\" in sample_name:\n",
        "    hyp_sample_path = os.path.join(manual_samples_path, sample_name)\n",
        "    with open(hyp_sample_path, 'rb') as f:\n",
        "        hyp_sample = pickle.load(f)\n",
        "    print(hyp_sample.keys())\n",
        "    print(hyp_sample['expression'])\n",
        "    print(hyp_sample['parameters'])\n",
        "    print(hyp_sample['feature_dict'])\n",
        "    break"
      ],
      "metadata": {
        "colab": {
          "base_uri": "https://localhost:8080/"
        },
        "id": "FhZoC-MM6dsq",
        "outputId": "5cc30411-264d-4811-905c-08eae731c378"
      },
      "execution_count": 20,
      "outputs": [
        {
          "output_type": "stream",
          "name": "stdout",
          "text": [
            "dict_keys(['times', 'trajectory', 'parameters', 'feature_dict', 'expression'])\n",
            "-10.0 / (10.1-t)\n",
            "{'t0': 10.1, 'c': -10.0}\n",
            "{'exponential': 0, 'hyperbolic': 1}\n"
          ]
        }
      ]
    },
    {
      "cell_type": "markdown",
      "source": [
        "## Corresponding Activations Extraction"
      ],
      "metadata": {
        "id": "frWKyg3szUQx"
      }
    },
    {
      "cell_type": "code",
      "source": [
        "from src.activation_extraction import ActivationsExtractor"
      ],
      "metadata": {
        "id": "gV07FbFXzYy_"
      },
      "execution_count": 21,
      "outputs": []
    },
    {
      "cell_type": "code",
      "source": [
        "random_activations_path = f'{activations_path}/demo_random'\n",
        "manual_activations_path = f'{activations_path}/demo_manual'"
      ],
      "metadata": {
        "id": "93-zzRtQIshT"
      },
      "execution_count": 22,
      "outputs": []
    },
    {
      "cell_type": "code",
      "source": [
        "act_extractor = ActivationsExtractor()"
      ],
      "metadata": {
        "id": "wqT_igPg6wvD"
      },
      "execution_count": 23,
      "outputs": []
    },
    {
      "cell_type": "code",
      "source": [
        "act_extractor.extract_activations(dstr, random_samples_path, random_activations_path, layers_to_extract=['ffn'])"
      ],
      "metadata": {
        "colab": {
          "base_uri": "https://localhost:8080/"
        },
        "id": "W4Ind3Yx-b3x",
        "outputId": "3148595d-8a71-4c97-c36c-8559fcb115f8"
      },
      "execution_count": 24,
      "outputs": [
        {
          "output_type": "stream",
          "name": "stderr",
          "text": [
            "Extracting Activations: 100%|██████████| 10/10 [00:00<00:00, 180.12it/s]"
          ]
        },
        {
          "output_type": "stream",
          "name": "stdout",
          "text": [
            "\n",
            "Skipping sample: demo_534895718 (activation file already exists)\n",
            "\n",
            "Skipping sample: demo_862061404 (activation file already exists)\n",
            "\n",
            "Skipping sample: demo_199900595 (activation file already exists)\n",
            "\n",
            "Skipping sample: demo_787846414 (activation file already exists)\n",
            "\n",
            "Skipping sample: demo_996406378 (activation file already exists)\n",
            "\n",
            "Skipping sample: demo_423734972 (activation file already exists)\n",
            "\n",
            "Skipping sample: demo_127521863 (activation file already exists)\n",
            "\n",
            "Skipping sample: demo_670094950 (activation file already exists)\n",
            "\n",
            "Skipping sample: demo_841095289 (activation file already exists)\n",
            "\n",
            "Skipping sample: demo_415968276 (activation file already exists)\n",
            "\n",
            "[INFO] Activation extraction complete. Activations saved to /content/drive/MyDrive/github/subteams/LLMProbing/local_experiment_data/activations/demo_random\n"
          ]
        },
        {
          "output_type": "stream",
          "name": "stderr",
          "text": [
            "\n"
          ]
        }
      ]
    },
    {
      "cell_type": "code",
      "source": [
        "act_extractor.extract_activations(dstr, manual_samples_path, manual_activations_path, layers_to_extract=['ffn'])"
      ],
      "metadata": {
        "colab": {
          "base_uri": "https://localhost:8080/"
        },
        "id": "SLMfIh5nI7hH",
        "outputId": "2e25a875-b84d-4d08-e348-06da005fdd97"
      },
      "execution_count": 25,
      "outputs": [
        {
          "output_type": "stream",
          "name": "stderr",
          "text": [
            "\rExtracting Activations:   0%|          | 0/20 [00:00<?, ?it/s]"
          ]
        },
        {
          "output_type": "stream",
          "name": "stdout",
          "text": [
            "\n",
            "Skipping sample: exp_0 (activation file already exists)\n",
            "\n",
            "Skipping sample: exp_1 (activation file already exists)\n",
            "\n",
            "Skipping sample: exp_3 (activation file already exists)\n",
            "\n",
            "Skipping sample: exp_2 (activation file already exists)\n",
            "\n",
            "Skipping sample: exp_6 (activation file already exists)\n",
            "\n",
            "Skipping sample: exp_5 (activation file already exists)\n",
            "\n",
            "Skipping sample: exp_4 (activation file already exists)\n",
            "\n",
            "Skipping sample: exp_7 (activation file already exists)\n",
            "\n",
            "Skipping sample: exp_8 (activation file already exists)\n",
            "\n",
            "Skipping sample: exp_9 (activation file already exists)\n",
            "\n",
            "Skipping sample: hyp_0 (activation file already exists)\n",
            "\n",
            "Skipping sample: hyp_1 (activation file already exists)\n",
            "\n",
            "Skipping sample: hyp_2 (activation file already exists)\n",
            "\n",
            "Skipping sample: hyp_3 (activation file already exists)\n",
            "\n",
            "Skipping sample: hyp_5 (activation file already exists)\n",
            "\n",
            "Skipping sample: hyp_4 (activation file already exists)\n",
            "\n",
            "Skipping sample: hyp_6 (activation file already exists)\n"
          ]
        },
        {
          "output_type": "stream",
          "name": "stderr",
          "text": [
            "Extracting Activations: 100%|██████████| 20/20 [00:00<00:00, 185.00it/s]"
          ]
        },
        {
          "output_type": "stream",
          "name": "stdout",
          "text": [
            "\n",
            "Skipping sample: hyp_7 (activation file already exists)\n",
            "\n",
            "Skipping sample: hyp_8 (activation file already exists)\n",
            "\n",
            "Skipping sample: hyp_9 (activation file already exists)\n",
            "\n",
            "[INFO] Activation extraction complete. Activations saved to /content/drive/MyDrive/github/subteams/LLMProbing/local_experiment_data/activations/demo_manual\n"
          ]
        },
        {
          "output_type": "stream",
          "name": "stderr",
          "text": [
            "\n"
          ]
        }
      ]
    },
    {
      "cell_type": "code",
      "source": [
        "# Inspect a random activation and display its keys and some values\n",
        "random_acts_dir = os.fsencode(random_activations_path)\n",
        "for acts_file in os.listdir(random_acts_dir):\n",
        "  acts_name = os.fsdecode(acts_file)\n",
        "  random_acts_path = os.path.join(random_activations_path, acts_name)\n",
        "  with open(random_acts_path, 'rb') as f:\n",
        "      random_acts = pickle.load(f)\n",
        "  print(random_acts.keys())\n",
        "  print(random_acts['feature_dict'])\n",
        "  print(random_acts['r2_score'])\n",
        "  print(random_acts['expression'])\n",
        "  print(random_acts['pred_expression'])\n",
        "  break"
      ],
      "metadata": {
        "colab": {
          "base_uri": "https://localhost:8080/"
        },
        "id": "vcaqVrXl_VbH",
        "outputId": "4abaae18-b7f8-489e-d45d-b24cee485729"
      },
      "execution_count": 26,
      "outputs": [
        {
          "output_type": "stream",
          "name": "stdout",
          "text": [
            "dict_keys(['encoder', 'decoder', 'operator_dict', 'feature_dict', 'r2_score', 'pred_expression', 'expression'])\n",
            "{'log': 0, 'exp': 0, 'tan': 0, 'arctan': 0, 'sin_cos': 0, 'arc_sin_cos': 0, 'pow2': 0, 'pow3': 0, 'inv': 0, 'sqrt': 0}\n",
            "0.9999999755587363\n",
            "-0.9998 * x_0\n",
            "x_0' = -1.0000000000000000 * x_0\n",
            "\n"
          ]
        }
      ]
    },
    {
      "cell_type": "code",
      "source": [
        "# Inspect a manual activation and display its keys and some values\n",
        "manual_acts_dir = os.fsencode(manual_activations_path)\n",
        "for acts_file in os.listdir(manual_acts_dir):\n",
        "  acts_name = os.fsdecode(acts_file)\n",
        "  manual_acts_path = os.path.join(manual_activations_path, acts_name)\n",
        "  with open(manual_acts_path, 'rb') as f:\n",
        "      manual_acts = pickle.load(f)\n",
        "  print(manual_acts.keys())\n",
        "  print(manual_acts['feature_dict'])\n",
        "  print(manual_acts['r2_score'])\n",
        "  print(manual_acts['expression'])\n",
        "  print(manual_acts['pred_expression'])\n",
        "  break"
      ],
      "metadata": {
        "id": "AOeQAVnUJotp",
        "colab": {
          "base_uri": "https://localhost:8080/"
        },
        "outputId": "03ef7380-1d84-4894-fdd6-9be2516892f5"
      },
      "execution_count": 27,
      "outputs": [
        {
          "output_type": "stream",
          "name": "stdout",
          "text": [
            "dict_keys(['encoder', 'decoder', 'feature_dict', 'r2_score', 'pred_expression', 'expression'])\n",
            "{'exponential': 1, 'hyperbolic': 0}\n",
            "-0.028362499160339283\n",
            "-10.0 * np.exp(10.0 * t)\n",
            "x_0' = 8.41372 * x_0\n",
            "\n"
          ]
        }
      ]
    },
    {
      "cell_type": "markdown",
      "source": [
        "## Probe Training"
      ],
      "metadata": {
        "id": "LLY7KIPHzZrh"
      }
    },
    {
      "cell_type": "code",
      "source": [
        "import experiments"
      ],
      "metadata": {
        "id": "Elin36J0sfCF"
      },
      "execution_count": 28,
      "outputs": []
    },
    {
      "cell_type": "code",
      "source": [
        "dir(experiments)\n",
        "# Current experiment functions supported:\n",
        "#   - separability_testing"
      ],
      "metadata": {
        "colab": {
          "base_uri": "https://localhost:8080/"
        },
        "id": "dGFAdbmksgr4",
        "outputId": "25a89887-4b4a-490e-ebfe-370ab3256c48"
      },
      "execution_count": 29,
      "outputs": [
        {
          "output_type": "execute_result",
          "data": {
            "text/plain": [
              "['__all__',\n",
              " '__builtins__',\n",
              " '__cached__',\n",
              " '__doc__',\n",
              " '__file__',\n",
              " '__loader__',\n",
              " '__name__',\n",
              " '__package__',\n",
              " '__path__',\n",
              " '__spec__',\n",
              " 'run_experiment',\n",
              " 'separability_testing']"
            ]
          },
          "metadata": {},
          "execution_count": 29
        }
      ]
    },
    {
      "cell_type": "code",
      "source": [
        "target_feature = 'exponential'\n",
        "activations_path = manual_activations_path\n",
        "demo_probes_path = f'{probes_path}/demo_exp'\n",
        "lr = 0.01\n",
        "num_epochs = 1\n",
        "num_repeats = 2\n",
        "layers = [idx for idx in range(16)]"
      ],
      "metadata": {
        "id": "4k6snzo5fm-6"
      },
      "execution_count": 30,
      "outputs": []
    },
    {
      "cell_type": "code",
      "source": [
        "demo_expt_results = experiments.separability_testing(target_feature=target_feature, activations_path=manual_activations_path, \\\n",
        "                     probes_path=demo_probes_path, \\\n",
        "                     lr=lr, num_epochs=num_epochs, \\\n",
        "                     layers=layers, num_repeats=num_repeats)"
      ],
      "metadata": {
        "id": "Sgr-mGCVhJG7",
        "colab": {
          "base_uri": "https://localhost:8080/"
        },
        "outputId": "050f968c-9b36-4dcb-b12c-481077a76d1b"
      },
      "execution_count": 31,
      "outputs": [
        {
          "output_type": "stream",
          "name": "stdout",
          "text": [
            "Repeat 0 of layer 0\n"
          ]
        },
        {
          "output_type": "stream",
          "name": "stderr",
          "text": [
            "\n",
            "Training LR Probe:   0%|          | 0/1 [00:00<?, ?it/s]\n",
            "Training LR Probe: 100%|██████████| 1/1 [00:00<00:00,  7.11it/s]\n",
            "Training LR Probe: 100%|██████████| 1/1 [00:00<00:00,  7.03it/s]\n"
          ]
        },
        {
          "output_type": "stream",
          "name": "stdout",
          "text": [
            "\n",
            "Training Set (Epoch 1 - Final): Loss 0.05465790629386902, Accuracy 0.125\n",
            "Probe trained on layer 0: Test Set Loss 0.00035452190786600113, Test Set Accuracy 1.0\n",
            "Saved state dictionary to /content/drive/MyDrive/github/subteams/LLMProbing/local_experiment_data/probes/demo_exp/probe_exponential_0_0.pt\n",
            "Repeat 1 of layer 0\n"
          ]
        },
        {
          "output_type": "stream",
          "name": "stderr",
          "text": [
            "\n",
            "Training LR Probe:   0%|          | 0/1 [00:00<?, ?it/s]\n",
            "Training LR Probe: 100%|██████████| 1/1 [00:00<00:00,  7.96it/s]\n",
            "Training LR Probe: 100%|██████████| 1/1 [00:00<00:00,  7.87it/s]\n"
          ]
        },
        {
          "output_type": "stream",
          "name": "stdout",
          "text": [
            "\n",
            "Training Set (Epoch 1 - Final): Loss 0.04426798224449158, Accuracy 0.375\n",
            "Probe trained on layer 0: Test Set Loss 2.1457626644405536e-06, Test Set Accuracy 1.0\n",
            "Saved state dictionary to /content/drive/MyDrive/github/subteams/LLMProbing/local_experiment_data/probes/demo_exp/probe_exponential_0_1.pt\n",
            "Repeat 0 of layer 1\n"
          ]
        },
        {
          "output_type": "stream",
          "name": "stderr",
          "text": [
            "\n",
            "Training LR Probe:   0%|          | 0/1 [00:00<?, ?it/s]\n",
            "Training LR Probe: 100%|██████████| 1/1 [00:00<00:00,  6.71it/s]\n",
            "Training LR Probe: 100%|██████████| 1/1 [00:00<00:00,  6.66it/s]\n"
          ]
        },
        {
          "output_type": "stream",
          "name": "stdout",
          "text": [
            "\n",
            "Training Set (Epoch 1 - Final): Loss 0.04264803230762482, Accuracy 0.625\n",
            "Probe trained on layer 1: Test Set Loss 0.00026117896777222427, Test Set Accuracy 1.0\n",
            "Saved state dictionary to /content/drive/MyDrive/github/subteams/LLMProbing/local_experiment_data/probes/demo_exp/probe_exponential_1_0.pt\n",
            "Repeat 1 of layer 1\n"
          ]
        },
        {
          "output_type": "stream",
          "name": "stderr",
          "text": [
            "\n",
            "Training LR Probe:   0%|          | 0/1 [00:00<?, ?it/s]\n",
            "Training LR Probe: 100%|██████████| 1/1 [00:00<00:00,  7.90it/s]\n",
            "Training LR Probe: 100%|██████████| 1/1 [00:00<00:00,  7.80it/s]\n"
          ]
        },
        {
          "output_type": "stream",
          "name": "stdout",
          "text": [
            "\n",
            "Training Set (Epoch 1 - Final): Loss 0.04248829558491707, Accuracy 0.5625\n",
            "Probe trained on layer 1: Test Set Loss 3.337850074558446e-06, Test Set Accuracy 1.0\n",
            "Saved state dictionary to /content/drive/MyDrive/github/subteams/LLMProbing/local_experiment_data/probes/demo_exp/probe_exponential_1_1.pt\n",
            "Repeat 0 of layer 2\n"
          ]
        },
        {
          "output_type": "stream",
          "name": "stderr",
          "text": [
            "\n",
            "Training LR Probe:   0%|          | 0/1 [00:00<?, ?it/s]\n",
            "Training LR Probe: 100%|██████████| 1/1 [00:00<00:00,  7.34it/s]\n",
            "Training LR Probe: 100%|██████████| 1/1 [00:00<00:00,  7.28it/s]\n"
          ]
        },
        {
          "output_type": "stream",
          "name": "stdout",
          "text": [
            "\n",
            "Training Set (Epoch 1 - Final): Loss 0.07006152719259262, Accuracy 0.375\n",
            "Probe trained on layer 2: Test Set Loss 0.411988765001297, Test Set Accuracy 0.5\n",
            "Saved state dictionary to /content/drive/MyDrive/github/subteams/LLMProbing/local_experiment_data/probes/demo_exp/probe_exponential_2_0.pt\n",
            "Repeat 1 of layer 2\n"
          ]
        },
        {
          "output_type": "stream",
          "name": "stderr",
          "text": [
            "\n",
            "Training LR Probe:   0%|          | 0/1 [00:00<?, ?it/s]\n",
            "Training LR Probe: 100%|██████████| 1/1 [00:00<00:00,  8.02it/s]\n",
            "Training LR Probe: 100%|██████████| 1/1 [00:00<00:00,  7.93it/s]\n"
          ]
        },
        {
          "output_type": "stream",
          "name": "stdout",
          "text": [
            "\n",
            "Training Set (Epoch 1 - Final): Loss 0.07098400592803955, Accuracy 0.375\n",
            "Probe trained on layer 2: Test Set Loss 0.08671104162931442, Test Set Accuracy 1.0\n",
            "Saved state dictionary to /content/drive/MyDrive/github/subteams/LLMProbing/local_experiment_data/probes/demo_exp/probe_exponential_2_1.pt\n",
            "Repeat 0 of layer 3\n"
          ]
        },
        {
          "output_type": "stream",
          "name": "stderr",
          "text": [
            "\n",
            "Training LR Probe:   0%|          | 0/1 [00:00<?, ?it/s]\n",
            "Training LR Probe: 100%|██████████| 1/1 [00:00<00:00,  7.52it/s]\n",
            "Training LR Probe: 100%|██████████| 1/1 [00:00<00:00,  7.47it/s]\n"
          ]
        },
        {
          "output_type": "stream",
          "name": "stdout",
          "text": [
            "\n",
            "Training Set (Epoch 1 - Final): Loss 0.048227421939373016, Accuracy 0.5\n",
            "Probe trained on layer 3: Test Set Loss 35.506629943847656, Test Set Accuracy 0.5\n",
            "Saved state dictionary to /content/drive/MyDrive/github/subteams/LLMProbing/local_experiment_data/probes/demo_exp/probe_exponential_3_0.pt\n",
            "Repeat 1 of layer 3\n"
          ]
        },
        {
          "output_type": "stream",
          "name": "stderr",
          "text": [
            "\n",
            "Training LR Probe:   0%|          | 0/1 [00:00<?, ?it/s]\n",
            "Training LR Probe: 100%|██████████| 1/1 [00:00<00:00,  7.91it/s]\n",
            "Training LR Probe: 100%|██████████| 1/1 [00:00<00:00,  7.82it/s]\n"
          ]
        },
        {
          "output_type": "stream",
          "name": "stdout",
          "text": [
            "\n",
            "Training Set (Epoch 1 - Final): Loss 0.05396951362490654, Accuracy 0.5\n",
            "Probe trained on layer 3: Test Set Loss 41.74501037597656, Test Set Accuracy 0.5\n",
            "Saved state dictionary to /content/drive/MyDrive/github/subteams/LLMProbing/local_experiment_data/probes/demo_exp/probe_exponential_3_1.pt\n",
            "Repeat 0 of layer 4\n"
          ]
        },
        {
          "output_type": "stream",
          "name": "stderr",
          "text": [
            "\n",
            "Training LR Probe:   0%|          | 0/1 [00:00<?, ?it/s]\n",
            "Training LR Probe: 100%|██████████| 1/1 [00:00<00:00,  6.95it/s]\n",
            "Training LR Probe: 100%|██████████| 1/1 [00:00<00:00,  6.88it/s]\n"
          ]
        },
        {
          "output_type": "stream",
          "name": "stdout",
          "text": [
            "\n",
            "Training Set (Epoch 1 - Final): Loss 0.2241860181093216, Accuracy 0.5\n",
            "Probe trained on layer 4: Test Set Loss 6.360774219036074, Test Set Accuracy 0.5\n",
            "Saved state dictionary to /content/drive/MyDrive/github/subteams/LLMProbing/local_experiment_data/probes/demo_exp/probe_exponential_4_0.pt\n",
            "Repeat 1 of layer 4\n"
          ]
        },
        {
          "output_type": "stream",
          "name": "stderr",
          "text": [
            "\n",
            "Training LR Probe:   0%|          | 0/1 [00:00<?, ?it/s]\n",
            "Training LR Probe: 100%|██████████| 1/1 [00:00<00:00,  7.06it/s]\n",
            "Training LR Probe: 100%|██████████| 1/1 [00:00<00:00,  6.99it/s]\n"
          ]
        },
        {
          "output_type": "stream",
          "name": "stdout",
          "text": [
            "\n",
            "Training Set (Epoch 1 - Final): Loss 0.03939239680767059, Accuracy 0.75\n",
            "Probe trained on layer 4: Test Set Loss 3.0998341441152775, Test Set Accuracy 0.5\n",
            "Saved state dictionary to /content/drive/MyDrive/github/subteams/LLMProbing/local_experiment_data/probes/demo_exp/probe_exponential_4_1.pt\n",
            "Repeat 0 of layer 5\n"
          ]
        },
        {
          "output_type": "stream",
          "name": "stderr",
          "text": [
            "\n",
            "Training LR Probe:   0%|          | 0/1 [00:00<?, ?it/s]\n",
            "Training LR Probe: 100%|██████████| 1/1 [00:00<00:00,  7.75it/s]\n",
            "Training LR Probe: 100%|██████████| 1/1 [00:00<00:00,  7.66it/s]\n"
          ]
        },
        {
          "output_type": "stream",
          "name": "stdout",
          "text": [
            "\n",
            "Training Set (Epoch 1 - Final): Loss 0.12564723193645477, Accuracy 0.5\n",
            "Probe trained on layer 5: Test Set Loss 1.1190574144820857, Test Set Accuracy 0.5\n",
            "Saved state dictionary to /content/drive/MyDrive/github/subteams/LLMProbing/local_experiment_data/probes/demo_exp/probe_exponential_5_0.pt\n",
            "Repeat 1 of layer 5\n"
          ]
        },
        {
          "output_type": "stream",
          "name": "stderr",
          "text": [
            "\n",
            "Training LR Probe:   0%|          | 0/1 [00:00<?, ?it/s]\n",
            "Training LR Probe: 100%|██████████| 1/1 [00:00<00:00,  5.60it/s]\n",
            "Training LR Probe: 100%|██████████| 1/1 [00:00<00:00,  5.56it/s]\n"
          ]
        },
        {
          "output_type": "stream",
          "name": "stdout",
          "text": [
            "\n",
            "Training Set (Epoch 1 - Final): Loss 0.03501882404088974, Accuracy 0.8125\n",
            "Probe trained on layer 5: Test Set Loss 0.7145131826400615, Test Set Accuracy 0.5\n",
            "Saved state dictionary to /content/drive/MyDrive/github/subteams/LLMProbing/local_experiment_data/probes/demo_exp/probe_exponential_5_1.pt\n",
            "Repeat 0 of layer 6\n"
          ]
        },
        {
          "output_type": "stream",
          "name": "stderr",
          "text": [
            "\n",
            "Training LR Probe:   0%|          | 0/1 [00:00<?, ?it/s]\n",
            "Training LR Probe: 100%|██████████| 1/1 [00:00<00:00,  7.01it/s]\n",
            "Training LR Probe: 100%|██████████| 1/1 [00:00<00:00,  6.79it/s]\n"
          ]
        },
        {
          "output_type": "stream",
          "name": "stdout",
          "text": [
            "\n",
            "Training Set (Epoch 1 - Final): Loss 0.047501854598522186, Accuracy 0.5\n",
            "Probe trained on layer 6: Test Set Loss 0.4648214131593704, Test Set Accuracy 1.0\n",
            "Saved state dictionary to /content/drive/MyDrive/github/subteams/LLMProbing/local_experiment_data/probes/demo_exp/probe_exponential_6_0.pt\n",
            "Repeat 1 of layer 6\n"
          ]
        },
        {
          "output_type": "stream",
          "name": "stderr",
          "text": [
            "\n",
            "Training LR Probe:   0%|          | 0/1 [00:00<?, ?it/s]\n",
            "Training LR Probe: 100%|██████████| 1/1 [00:00<00:00,  6.47it/s]\n",
            "Training LR Probe: 100%|██████████| 1/1 [00:00<00:00,  6.43it/s]\n"
          ]
        },
        {
          "output_type": "stream",
          "name": "stdout",
          "text": [
            "\n",
            "Training Set (Epoch 1 - Final): Loss 0.049973051995038986, Accuracy 0.5\n",
            "Probe trained on layer 6: Test Set Loss 0.5674329549074173, Test Set Accuracy 0.5\n",
            "Saved state dictionary to /content/drive/MyDrive/github/subteams/LLMProbing/local_experiment_data/probes/demo_exp/probe_exponential_6_1.pt\n",
            "Repeat 0 of layer 7\n"
          ]
        },
        {
          "output_type": "stream",
          "name": "stderr",
          "text": [
            "\n",
            "Training LR Probe:   0%|          | 0/1 [00:00<?, ?it/s]\n",
            "Training LR Probe: 100%|██████████| 1/1 [00:00<00:00,  7.69it/s]\n",
            "Training LR Probe: 100%|██████████| 1/1 [00:00<00:00,  7.62it/s]\n"
          ]
        },
        {
          "output_type": "stream",
          "name": "stdout",
          "text": [
            "\n",
            "Training Set (Epoch 1 - Final): Loss 0.043049924075603485, Accuracy 0.5\n",
            "Probe trained on layer 7: Test Set Loss 0.6551757752895355, Test Set Accuracy 0.5\n",
            "Saved state dictionary to /content/drive/MyDrive/github/subteams/LLMProbing/local_experiment_data/probes/demo_exp/probe_exponential_7_0.pt\n",
            "Repeat 1 of layer 7\n"
          ]
        },
        {
          "output_type": "stream",
          "name": "stderr",
          "text": [
            "\n",
            "Training LR Probe:   0%|          | 0/1 [00:00<?, ?it/s]\n",
            "Training LR Probe: 100%|██████████| 1/1 [00:00<00:00,  6.13it/s]\n",
            "Training LR Probe: 100%|██████████| 1/1 [00:00<00:00,  6.08it/s]\n"
          ]
        },
        {
          "output_type": "stream",
          "name": "stdout",
          "text": [
            "\n",
            "Training Set (Epoch 1 - Final): Loss 0.05023470148444176, Accuracy 0.5\n",
            "Probe trained on layer 7: Test Set Loss 0.6631457805633545, Test Set Accuracy 0.5\n",
            "Saved state dictionary to /content/drive/MyDrive/github/subteams/LLMProbing/local_experiment_data/probes/demo_exp/probe_exponential_7_1.pt\n",
            "Repeat 0 of layer 8\n"
          ]
        },
        {
          "output_type": "stream",
          "name": "stderr",
          "text": [
            "\n",
            "Training LR Probe:   0%|          | 0/1 [00:00<?, ?it/s]\n",
            "Training LR Probe: 100%|██████████| 1/1 [00:00<00:00,  7.28it/s]\n",
            "Training LR Probe: 100%|██████████| 1/1 [00:00<00:00,  7.14it/s]\n"
          ]
        },
        {
          "output_type": "stream",
          "name": "stdout",
          "text": [
            "\n",
            "Training Set (Epoch 1 - Final): Loss 0.05419036000967026, Accuracy 0.5\n",
            "Probe trained on layer 8: Test Set Loss 0.48717455565929413, Test Set Accuracy 0.5\n",
            "Saved state dictionary to /content/drive/MyDrive/github/subteams/LLMProbing/local_experiment_data/probes/demo_exp/probe_exponential_8_0.pt\n",
            "Repeat 1 of layer 8\n"
          ]
        },
        {
          "output_type": "stream",
          "name": "stderr",
          "text": [
            "\n",
            "Training LR Probe:   0%|          | 0/1 [00:00<?, ?it/s]\n",
            "Training LR Probe: 100%|██████████| 1/1 [00:00<00:00,  7.28it/s]\n",
            "Training LR Probe: 100%|██████████| 1/1 [00:00<00:00,  7.17it/s]\n"
          ]
        },
        {
          "output_type": "stream",
          "name": "stdout",
          "text": [
            "\n",
            "Training Set (Epoch 1 - Final): Loss 0.058689575642347336, Accuracy 0.25\n",
            "Probe trained on layer 8: Test Set Loss 0.4626878350973129, Test Set Accuracy 1.0\n",
            "Saved state dictionary to /content/drive/MyDrive/github/subteams/LLMProbing/local_experiment_data/probes/demo_exp/probe_exponential_8_1.pt\n",
            "Repeat 0 of layer 9\n"
          ]
        },
        {
          "output_type": "stream",
          "name": "stderr",
          "text": [
            "\n",
            "Training LR Probe:   0%|          | 0/1 [00:00<?, ?it/s]\n",
            "Training LR Probe: 100%|██████████| 1/1 [00:00<00:00,  5.92it/s]\n",
            "Training LR Probe: 100%|██████████| 1/1 [00:00<00:00,  5.86it/s]\n"
          ]
        },
        {
          "output_type": "stream",
          "name": "stdout",
          "text": [
            "\n",
            "Training Set (Epoch 1 - Final): Loss 0.04700568690896034, Accuracy 0.5\n",
            "Probe trained on layer 9: Test Set Loss 0.21440967172384262, Test Set Accuracy 1.0\n",
            "Saved state dictionary to /content/drive/MyDrive/github/subteams/LLMProbing/local_experiment_data/probes/demo_exp/probe_exponential_9_0.pt\n",
            "Repeat 1 of layer 9\n"
          ]
        },
        {
          "output_type": "stream",
          "name": "stderr",
          "text": [
            "\n",
            "Training LR Probe:   0%|          | 0/1 [00:00<?, ?it/s]\n",
            "Training LR Probe: 100%|██████████| 1/1 [00:00<00:00,  6.66it/s]\n",
            "Training LR Probe: 100%|██████████| 1/1 [00:00<00:00,  6.61it/s]\n"
          ]
        },
        {
          "output_type": "stream",
          "name": "stdout",
          "text": [
            "\n",
            "Training Set (Epoch 1 - Final): Loss 0.04536478593945503, Accuracy 0.75\n",
            "Probe trained on layer 9: Test Set Loss 0.32327553257346153, Test Set Accuracy 1.0\n",
            "Saved state dictionary to /content/drive/MyDrive/github/subteams/LLMProbing/local_experiment_data/probes/demo_exp/probe_exponential_9_1.pt\n",
            "Repeat 0 of layer 10\n"
          ]
        },
        {
          "output_type": "stream",
          "name": "stderr",
          "text": [
            "\n",
            "Training LR Probe:   0%|          | 0/1 [00:00<?, ?it/s]\n",
            "Training LR Probe: 100%|██████████| 1/1 [00:00<00:00,  8.29it/s]\n",
            "Training LR Probe: 100%|██████████| 1/1 [00:00<00:00,  8.22it/s]\n"
          ]
        },
        {
          "output_type": "stream",
          "name": "stdout",
          "text": [
            "\n",
            "Training Set (Epoch 1 - Final): Loss 0.04684990644454956, Accuracy 0.5\n",
            "Probe trained on layer 10: Test Set Loss 0.1907372623682022, Test Set Accuracy 1.0\n",
            "Saved state dictionary to /content/drive/MyDrive/github/subteams/LLMProbing/local_experiment_data/probes/demo_exp/probe_exponential_10_0.pt\n",
            "Repeat 1 of layer 10\n"
          ]
        },
        {
          "output_type": "stream",
          "name": "stderr",
          "text": [
            "\n",
            "Training LR Probe:   0%|          | 0/1 [00:00<?, ?it/s]\n",
            "Training LR Probe: 100%|██████████| 1/1 [00:00<00:00,  6.79it/s]\n",
            "Training LR Probe: 100%|██████████| 1/1 [00:00<00:00,  6.72it/s]\n"
          ]
        },
        {
          "output_type": "stream",
          "name": "stdout",
          "text": [
            "\n",
            "Training Set (Epoch 1 - Final): Loss 0.05817430093884468, Accuracy 0.5\n",
            "Probe trained on layer 10: Test Set Loss 0.1375561784952879, Test Set Accuracy 1.0\n",
            "Saved state dictionary to /content/drive/MyDrive/github/subteams/LLMProbing/local_experiment_data/probes/demo_exp/probe_exponential_10_1.pt\n",
            "Repeat 0 of layer 11\n"
          ]
        },
        {
          "output_type": "stream",
          "name": "stderr",
          "text": [
            "\n",
            "Training LR Probe:   0%|          | 0/1 [00:00<?, ?it/s]\n",
            "Training LR Probe: 100%|██████████| 1/1 [00:00<00:00,  7.88it/s]\n",
            "Training LR Probe: 100%|██████████| 1/1 [00:00<00:00,  7.76it/s]\n"
          ]
        },
        {
          "output_type": "stream",
          "name": "stdout",
          "text": [
            "\n",
            "Training Set (Epoch 1 - Final): Loss 0.05138526111841202, Accuracy 0.5\n",
            "Probe trained on layer 11: Test Set Loss 0.45694027841091156, Test Set Accuracy 1.0\n",
            "Saved state dictionary to /content/drive/MyDrive/github/subteams/LLMProbing/local_experiment_data/probes/demo_exp/probe_exponential_11_0.pt\n",
            "Repeat 1 of layer 11\n"
          ]
        },
        {
          "output_type": "stream",
          "name": "stderr",
          "text": [
            "\n",
            "Training LR Probe:   0%|          | 0/1 [00:00<?, ?it/s]\n",
            "Training LR Probe: 100%|██████████| 1/1 [00:00<00:00,  7.43it/s]\n",
            "Training LR Probe: 100%|██████████| 1/1 [00:00<00:00,  7.35it/s]\n"
          ]
        },
        {
          "output_type": "stream",
          "name": "stdout",
          "text": [
            "\n",
            "Training Set (Epoch 1 - Final): Loss 0.05604877322912216, Accuracy 0.5\n",
            "Probe trained on layer 11: Test Set Loss 0.5188421159982681, Test Set Accuracy 0.5\n",
            "Saved state dictionary to /content/drive/MyDrive/github/subteams/LLMProbing/local_experiment_data/probes/demo_exp/probe_exponential_11_1.pt\n",
            "Repeat 0 of layer 12\n"
          ]
        },
        {
          "output_type": "stream",
          "name": "stderr",
          "text": [
            "\n",
            "Training LR Probe:   0%|          | 0/1 [00:00<?, ?it/s]\n",
            "Training LR Probe: 100%|██████████| 1/1 [00:00<00:00,  7.48it/s]\n",
            "Training LR Probe: 100%|██████████| 1/1 [00:00<00:00,  7.40it/s]\n"
          ]
        },
        {
          "output_type": "stream",
          "name": "stdout",
          "text": [
            "\n",
            "Training Set (Epoch 1 - Final): Loss 0.039762359112501144, Accuracy 0.5625\n",
            "Probe trained on layer 12: Test Set Loss 0.25918419659137726, Test Set Accuracy 1.0\n",
            "Saved state dictionary to /content/drive/MyDrive/github/subteams/LLMProbing/local_experiment_data/probes/demo_exp/probe_exponential_12_0.pt\n",
            "Repeat 1 of layer 12\n"
          ]
        },
        {
          "output_type": "stream",
          "name": "stderr",
          "text": [
            "\n",
            "Training LR Probe:   0%|          | 0/1 [00:00<?, ?it/s]\n",
            "Training LR Probe: 100%|██████████| 1/1 [00:00<00:00,  8.39it/s]\n",
            "Training LR Probe: 100%|██████████| 1/1 [00:00<00:00,  8.31it/s]\n"
          ]
        },
        {
          "output_type": "stream",
          "name": "stdout",
          "text": [
            "\n",
            "Training Set (Epoch 1 - Final): Loss 0.043313197791576385, Accuracy 0.625\n",
            "Probe trained on layer 12: Test Set Loss 0.36564332246780396, Test Set Accuracy 1.0\n",
            "Saved state dictionary to /content/drive/MyDrive/github/subteams/LLMProbing/local_experiment_data/probes/demo_exp/probe_exponential_12_1.pt\n",
            "Repeat 0 of layer 13\n"
          ]
        },
        {
          "output_type": "stream",
          "name": "stderr",
          "text": [
            "\n",
            "Training LR Probe:   0%|          | 0/1 [00:00<?, ?it/s]\n",
            "Training LR Probe: 100%|██████████| 1/1 [00:00<00:00,  7.97it/s]\n",
            "Training LR Probe: 100%|██████████| 1/1 [00:00<00:00,  7.89it/s]\n"
          ]
        },
        {
          "output_type": "stream",
          "name": "stdout",
          "text": [
            "\n",
            "Training Set (Epoch 1 - Final): Loss 0.04630352184176445, Accuracy 0.5\n",
            "Probe trained on layer 13: Test Set Loss 0.6470373198390007, Test Set Accuracy 0.5\n",
            "Saved state dictionary to /content/drive/MyDrive/github/subteams/LLMProbing/local_experiment_data/probes/demo_exp/probe_exponential_13_0.pt\n",
            "Repeat 1 of layer 13\n"
          ]
        },
        {
          "output_type": "stream",
          "name": "stderr",
          "text": [
            "\n",
            "Training LR Probe:   0%|          | 0/1 [00:00<?, ?it/s]\n",
            "Training LR Probe: 100%|██████████| 1/1 [00:00<00:00,  7.39it/s]\n",
            "Training LR Probe: 100%|██████████| 1/1 [00:00<00:00,  7.25it/s]\n"
          ]
        },
        {
          "output_type": "stream",
          "name": "stdout",
          "text": [
            "\n",
            "Training Set (Epoch 1 - Final): Loss 0.04111747071146965, Accuracy 0.625\n",
            "Probe trained on layer 13: Test Set Loss 0.3218267932534218, Test Set Accuracy 1.0\n",
            "Saved state dictionary to /content/drive/MyDrive/github/subteams/LLMProbing/local_experiment_data/probes/demo_exp/probe_exponential_13_1.pt\n",
            "Repeat 0 of layer 14\n"
          ]
        },
        {
          "output_type": "stream",
          "name": "stderr",
          "text": [
            "\n",
            "Training LR Probe:   0%|          | 0/1 [00:00<?, ?it/s]\n",
            "Training LR Probe: 100%|██████████| 1/1 [00:00<00:00,  7.65it/s]\n",
            "Training LR Probe: 100%|██████████| 1/1 [00:00<00:00,  7.60it/s]\n"
          ]
        },
        {
          "output_type": "stream",
          "name": "stdout",
          "text": [
            "\n",
            "Training Set (Epoch 1 - Final): Loss 0.07795225828886032, Accuracy 0.5\n",
            "Probe trained on layer 14: Test Set Loss 0.5208145827054977, Test Set Accuracy 0.5\n",
            "Saved state dictionary to /content/drive/MyDrive/github/subteams/LLMProbing/local_experiment_data/probes/demo_exp/probe_exponential_14_0.pt\n",
            "Repeat 1 of layer 14\n"
          ]
        },
        {
          "output_type": "stream",
          "name": "stderr",
          "text": [
            "\n",
            "Training LR Probe:   0%|          | 0/1 [00:00<?, ?it/s]\n",
            "Training LR Probe: 100%|██████████| 1/1 [00:00<00:00,  6.37it/s]\n",
            "Training LR Probe: 100%|██████████| 1/1 [00:00<00:00,  6.31it/s]\n"
          ]
        },
        {
          "output_type": "stream",
          "name": "stdout",
          "text": [
            "\n",
            "Training Set (Epoch 1 - Final): Loss 0.0384380966424942, Accuracy 0.625\n",
            "Probe trained on layer 14: Test Set Loss 0.5793816552031785, Test Set Accuracy 0.5\n",
            "Saved state dictionary to /content/drive/MyDrive/github/subteams/LLMProbing/local_experiment_data/probes/demo_exp/probe_exponential_14_1.pt\n",
            "Repeat 0 of layer 15\n"
          ]
        },
        {
          "output_type": "stream",
          "name": "stderr",
          "text": [
            "\n",
            "Training LR Probe:   0%|          | 0/1 [00:00<?, ?it/s]\n",
            "Training LR Probe: 100%|██████████| 1/1 [00:00<00:00,  7.49it/s]\n",
            "Training LR Probe: 100%|██████████| 1/1 [00:00<00:00,  7.41it/s]\n"
          ]
        },
        {
          "output_type": "stream",
          "name": "stdout",
          "text": [
            "\n",
            "Training Set (Epoch 1 - Final): Loss 0.048755668103694916, Accuracy 0.5\n",
            "Probe trained on layer 15: Test Set Loss 1.659764653770253, Test Set Accuracy 0.5\n",
            "Saved state dictionary to /content/drive/MyDrive/github/subteams/LLMProbing/local_experiment_data/probes/demo_exp/probe_exponential_15_0.pt\n",
            "Repeat 1 of layer 15\n"
          ]
        },
        {
          "output_type": "stream",
          "name": "stderr",
          "text": [
            "\n",
            "Training LR Probe:   0%|          | 0/1 [00:00<?, ?it/s]\n",
            "Training LR Probe: 100%|██████████| 1/1 [00:00<00:00,  5.48it/s]\n",
            "Training LR Probe: 100%|██████████| 1/1 [00:00<00:00,  5.35it/s]\n"
          ]
        },
        {
          "output_type": "stream",
          "name": "stdout",
          "text": [
            "\n",
            "Training Set (Epoch 1 - Final): Loss 0.07181479036808014, Accuracy 0.5\n",
            "Probe trained on layer 15: Test Set Loss 0.7109376717125997, Test Set Accuracy 0.5\n",
            "Saved state dictionary to /content/drive/MyDrive/github/subteams/LLMProbing/local_experiment_data/probes/demo_exp/probe_exponential_15_1.pt\n"
          ]
        }
      ]
    },
    {
      "cell_type": "code",
      "source": [
        "demo_expt_results"
      ],
      "metadata": {
        "colab": {
          "base_uri": "https://localhost:8080/",
          "height": 1000
        },
        "id": "bB7sDmbbucLn",
        "outputId": "6675a16e-3f3b-471d-e5de-3053d6ea5560"
      },
      "execution_count": 32,
      "outputs": [
        {
          "output_type": "execute_result",
          "data": {
            "text/plain": [
              "    layer  run  test_loss  test_accuracy test_fail_ids  final_train_loss  \\\n",
              "0       0    0   0.000355            1.0            []          0.054658   \n",
              "1       0    1   0.000002            1.0            []          0.044268   \n",
              "2       1    0   0.000261            1.0            []          0.042648   \n",
              "3       1    1   0.000003            1.0            []          0.042488   \n",
              "4       2    0   0.411989            0.5       [hyp_2]          0.070062   \n",
              "5       2    1   0.086711            1.0            []          0.070984   \n",
              "6       3    0  35.506630            0.5       [exp_3]          0.048227   \n",
              "7       3    1  41.745010            0.5       [hyp_2]          0.053970   \n",
              "8       4    0   6.360774            0.5       [hyp_2]          0.224186   \n",
              "9       4    1   3.099834            0.5       [exp_3]          0.039392   \n",
              "10      5    0   1.119057            0.5       [hyp_2]          0.125647   \n",
              "11      5    1   0.714513            0.5       [hyp_2]          0.035019   \n",
              "12      6    0   0.464821            1.0            []          0.047502   \n",
              "13      6    1   0.567433            0.5       [hyp_2]          0.049973   \n",
              "14      7    0   0.655176            0.5       [hyp_2]          0.043050   \n",
              "15      7    1   0.663146            0.5       [exp_3]          0.050235   \n",
              "16      8    0   0.487175            0.5       [hyp_2]          0.054190   \n",
              "17      8    1   0.462688            1.0            []          0.058690   \n",
              "18      9    0   0.214410            1.0            []          0.047006   \n",
              "19      9    1   0.323276            1.0            []          0.045365   \n",
              "20     10    0   0.190737            1.0            []          0.046850   \n",
              "21     10    1   0.137556            1.0            []          0.058174   \n",
              "22     11    0   0.456940            1.0            []          0.051385   \n",
              "23     11    1   0.518842            0.5       [hyp_2]          0.056049   \n",
              "24     12    0   0.259184            1.0            []          0.039762   \n",
              "25     12    1   0.365643            1.0            []          0.043313   \n",
              "26     13    0   0.647037            0.5       [hyp_2]          0.046304   \n",
              "27     13    1   0.321827            1.0            []          0.041117   \n",
              "28     14    0   0.520815            0.5       [exp_3]          0.077952   \n",
              "29     14    1   0.579382            0.5       [hyp_2]          0.038438   \n",
              "30     15    0   1.659765            0.5       [hyp_2]          0.048756   \n",
              "31     15    1   0.710938            0.5       [exp_3]          0.071815   \n",
              "\n",
              "    final_train_accuracy  final_val_loss  final_val_accuracy  \n",
              "0                 0.1250       20.041088                 0.0  \n",
              "1                 0.3750       19.451593                 0.0  \n",
              "2                 0.6250        6.479182                 0.0  \n",
              "3                 0.5625        7.729250                 0.0  \n",
              "4                 0.3750        6.312723                 0.0  \n",
              "5                 0.3750        9.365321                 0.5  \n",
              "6                 0.5000       44.809975                 0.5  \n",
              "7                 0.5000       41.514088                 0.5  \n",
              "8                 0.5000        6.025636                 0.5  \n",
              "9                 0.7500        8.208691                 0.5  \n",
              "10                0.5000        2.035763                 0.5  \n",
              "11                0.8125        2.368704                 0.5  \n",
              "12                0.5000        0.559391                 1.0  \n",
              "13                0.5000        0.660611                 0.5  \n",
              "14                0.5000        0.807382                 0.5  \n",
              "15                0.5000        0.765027                 0.5  \n",
              "16                0.5000        0.887073                 0.5  \n",
              "17                0.2500        0.910664                 0.0  \n",
              "18                0.5000        0.465537                 1.0  \n",
              "19                0.7500        0.686367                 0.5  \n",
              "20                0.5000        0.637247                 0.5  \n",
              "21                0.5000        0.593816                 0.5  \n",
              "22                0.5000        0.434730                 1.0  \n",
              "23                0.5000        0.580531                 0.5  \n",
              "24                0.5625        0.509600                 0.5  \n",
              "25                0.6250        0.548150                 0.5  \n",
              "26                0.5000        0.918146                 0.5  \n",
              "27                0.6250        0.663658                 0.5  \n",
              "28                0.5000        0.560233                 0.5  \n",
              "29                0.6250        0.769245                 0.5  \n",
              "30                0.5000        1.226827                 0.5  \n",
              "31                0.5000        1.817351                 0.5  "
            ],
            "text/html": [
              "\n",
              "  <div id=\"df-f021c8d3-0a5e-429e-a2b3-886ce501a661\" class=\"colab-df-container\">\n",
              "    <div>\n",
              "<style scoped>\n",
              "    .dataframe tbody tr th:only-of-type {\n",
              "        vertical-align: middle;\n",
              "    }\n",
              "\n",
              "    .dataframe tbody tr th {\n",
              "        vertical-align: top;\n",
              "    }\n",
              "\n",
              "    .dataframe thead th {\n",
              "        text-align: right;\n",
              "    }\n",
              "</style>\n",
              "<table border=\"1\" class=\"dataframe\">\n",
              "  <thead>\n",
              "    <tr style=\"text-align: right;\">\n",
              "      <th></th>\n",
              "      <th>layer</th>\n",
              "      <th>run</th>\n",
              "      <th>test_loss</th>\n",
              "      <th>test_accuracy</th>\n",
              "      <th>test_fail_ids</th>\n",
              "      <th>final_train_loss</th>\n",
              "      <th>final_train_accuracy</th>\n",
              "      <th>final_val_loss</th>\n",
              "      <th>final_val_accuracy</th>\n",
              "    </tr>\n",
              "  </thead>\n",
              "  <tbody>\n",
              "    <tr>\n",
              "      <th>0</th>\n",
              "      <td>0</td>\n",
              "      <td>0</td>\n",
              "      <td>0.000355</td>\n",
              "      <td>1.0</td>\n",
              "      <td>[]</td>\n",
              "      <td>0.054658</td>\n",
              "      <td>0.1250</td>\n",
              "      <td>20.041088</td>\n",
              "      <td>0.0</td>\n",
              "    </tr>\n",
              "    <tr>\n",
              "      <th>1</th>\n",
              "      <td>0</td>\n",
              "      <td>1</td>\n",
              "      <td>0.000002</td>\n",
              "      <td>1.0</td>\n",
              "      <td>[]</td>\n",
              "      <td>0.044268</td>\n",
              "      <td>0.3750</td>\n",
              "      <td>19.451593</td>\n",
              "      <td>0.0</td>\n",
              "    </tr>\n",
              "    <tr>\n",
              "      <th>2</th>\n",
              "      <td>1</td>\n",
              "      <td>0</td>\n",
              "      <td>0.000261</td>\n",
              "      <td>1.0</td>\n",
              "      <td>[]</td>\n",
              "      <td>0.042648</td>\n",
              "      <td>0.6250</td>\n",
              "      <td>6.479182</td>\n",
              "      <td>0.0</td>\n",
              "    </tr>\n",
              "    <tr>\n",
              "      <th>3</th>\n",
              "      <td>1</td>\n",
              "      <td>1</td>\n",
              "      <td>0.000003</td>\n",
              "      <td>1.0</td>\n",
              "      <td>[]</td>\n",
              "      <td>0.042488</td>\n",
              "      <td>0.5625</td>\n",
              "      <td>7.729250</td>\n",
              "      <td>0.0</td>\n",
              "    </tr>\n",
              "    <tr>\n",
              "      <th>4</th>\n",
              "      <td>2</td>\n",
              "      <td>0</td>\n",
              "      <td>0.411989</td>\n",
              "      <td>0.5</td>\n",
              "      <td>[hyp_2]</td>\n",
              "      <td>0.070062</td>\n",
              "      <td>0.3750</td>\n",
              "      <td>6.312723</td>\n",
              "      <td>0.0</td>\n",
              "    </tr>\n",
              "    <tr>\n",
              "      <th>5</th>\n",
              "      <td>2</td>\n",
              "      <td>1</td>\n",
              "      <td>0.086711</td>\n",
              "      <td>1.0</td>\n",
              "      <td>[]</td>\n",
              "      <td>0.070984</td>\n",
              "      <td>0.3750</td>\n",
              "      <td>9.365321</td>\n",
              "      <td>0.5</td>\n",
              "    </tr>\n",
              "    <tr>\n",
              "      <th>6</th>\n",
              "      <td>3</td>\n",
              "      <td>0</td>\n",
              "      <td>35.506630</td>\n",
              "      <td>0.5</td>\n",
              "      <td>[exp_3]</td>\n",
              "      <td>0.048227</td>\n",
              "      <td>0.5000</td>\n",
              "      <td>44.809975</td>\n",
              "      <td>0.5</td>\n",
              "    </tr>\n",
              "    <tr>\n",
              "      <th>7</th>\n",
              "      <td>3</td>\n",
              "      <td>1</td>\n",
              "      <td>41.745010</td>\n",
              "      <td>0.5</td>\n",
              "      <td>[hyp_2]</td>\n",
              "      <td>0.053970</td>\n",
              "      <td>0.5000</td>\n",
              "      <td>41.514088</td>\n",
              "      <td>0.5</td>\n",
              "    </tr>\n",
              "    <tr>\n",
              "      <th>8</th>\n",
              "      <td>4</td>\n",
              "      <td>0</td>\n",
              "      <td>6.360774</td>\n",
              "      <td>0.5</td>\n",
              "      <td>[hyp_2]</td>\n",
              "      <td>0.224186</td>\n",
              "      <td>0.5000</td>\n",
              "      <td>6.025636</td>\n",
              "      <td>0.5</td>\n",
              "    </tr>\n",
              "    <tr>\n",
              "      <th>9</th>\n",
              "      <td>4</td>\n",
              "      <td>1</td>\n",
              "      <td>3.099834</td>\n",
              "      <td>0.5</td>\n",
              "      <td>[exp_3]</td>\n",
              "      <td>0.039392</td>\n",
              "      <td>0.7500</td>\n",
              "      <td>8.208691</td>\n",
              "      <td>0.5</td>\n",
              "    </tr>\n",
              "    <tr>\n",
              "      <th>10</th>\n",
              "      <td>5</td>\n",
              "      <td>0</td>\n",
              "      <td>1.119057</td>\n",
              "      <td>0.5</td>\n",
              "      <td>[hyp_2]</td>\n",
              "      <td>0.125647</td>\n",
              "      <td>0.5000</td>\n",
              "      <td>2.035763</td>\n",
              "      <td>0.5</td>\n",
              "    </tr>\n",
              "    <tr>\n",
              "      <th>11</th>\n",
              "      <td>5</td>\n",
              "      <td>1</td>\n",
              "      <td>0.714513</td>\n",
              "      <td>0.5</td>\n",
              "      <td>[hyp_2]</td>\n",
              "      <td>0.035019</td>\n",
              "      <td>0.8125</td>\n",
              "      <td>2.368704</td>\n",
              "      <td>0.5</td>\n",
              "    </tr>\n",
              "    <tr>\n",
              "      <th>12</th>\n",
              "      <td>6</td>\n",
              "      <td>0</td>\n",
              "      <td>0.464821</td>\n",
              "      <td>1.0</td>\n",
              "      <td>[]</td>\n",
              "      <td>0.047502</td>\n",
              "      <td>0.5000</td>\n",
              "      <td>0.559391</td>\n",
              "      <td>1.0</td>\n",
              "    </tr>\n",
              "    <tr>\n",
              "      <th>13</th>\n",
              "      <td>6</td>\n",
              "      <td>1</td>\n",
              "      <td>0.567433</td>\n",
              "      <td>0.5</td>\n",
              "      <td>[hyp_2]</td>\n",
              "      <td>0.049973</td>\n",
              "      <td>0.5000</td>\n",
              "      <td>0.660611</td>\n",
              "      <td>0.5</td>\n",
              "    </tr>\n",
              "    <tr>\n",
              "      <th>14</th>\n",
              "      <td>7</td>\n",
              "      <td>0</td>\n",
              "      <td>0.655176</td>\n",
              "      <td>0.5</td>\n",
              "      <td>[hyp_2]</td>\n",
              "      <td>0.043050</td>\n",
              "      <td>0.5000</td>\n",
              "      <td>0.807382</td>\n",
              "      <td>0.5</td>\n",
              "    </tr>\n",
              "    <tr>\n",
              "      <th>15</th>\n",
              "      <td>7</td>\n",
              "      <td>1</td>\n",
              "      <td>0.663146</td>\n",
              "      <td>0.5</td>\n",
              "      <td>[exp_3]</td>\n",
              "      <td>0.050235</td>\n",
              "      <td>0.5000</td>\n",
              "      <td>0.765027</td>\n",
              "      <td>0.5</td>\n",
              "    </tr>\n",
              "    <tr>\n",
              "      <th>16</th>\n",
              "      <td>8</td>\n",
              "      <td>0</td>\n",
              "      <td>0.487175</td>\n",
              "      <td>0.5</td>\n",
              "      <td>[hyp_2]</td>\n",
              "      <td>0.054190</td>\n",
              "      <td>0.5000</td>\n",
              "      <td>0.887073</td>\n",
              "      <td>0.5</td>\n",
              "    </tr>\n",
              "    <tr>\n",
              "      <th>17</th>\n",
              "      <td>8</td>\n",
              "      <td>1</td>\n",
              "      <td>0.462688</td>\n",
              "      <td>1.0</td>\n",
              "      <td>[]</td>\n",
              "      <td>0.058690</td>\n",
              "      <td>0.2500</td>\n",
              "      <td>0.910664</td>\n",
              "      <td>0.0</td>\n",
              "    </tr>\n",
              "    <tr>\n",
              "      <th>18</th>\n",
              "      <td>9</td>\n",
              "      <td>0</td>\n",
              "      <td>0.214410</td>\n",
              "      <td>1.0</td>\n",
              "      <td>[]</td>\n",
              "      <td>0.047006</td>\n",
              "      <td>0.5000</td>\n",
              "      <td>0.465537</td>\n",
              "      <td>1.0</td>\n",
              "    </tr>\n",
              "    <tr>\n",
              "      <th>19</th>\n",
              "      <td>9</td>\n",
              "      <td>1</td>\n",
              "      <td>0.323276</td>\n",
              "      <td>1.0</td>\n",
              "      <td>[]</td>\n",
              "      <td>0.045365</td>\n",
              "      <td>0.7500</td>\n",
              "      <td>0.686367</td>\n",
              "      <td>0.5</td>\n",
              "    </tr>\n",
              "    <tr>\n",
              "      <th>20</th>\n",
              "      <td>10</td>\n",
              "      <td>0</td>\n",
              "      <td>0.190737</td>\n",
              "      <td>1.0</td>\n",
              "      <td>[]</td>\n",
              "      <td>0.046850</td>\n",
              "      <td>0.5000</td>\n",
              "      <td>0.637247</td>\n",
              "      <td>0.5</td>\n",
              "    </tr>\n",
              "    <tr>\n",
              "      <th>21</th>\n",
              "      <td>10</td>\n",
              "      <td>1</td>\n",
              "      <td>0.137556</td>\n",
              "      <td>1.0</td>\n",
              "      <td>[]</td>\n",
              "      <td>0.058174</td>\n",
              "      <td>0.5000</td>\n",
              "      <td>0.593816</td>\n",
              "      <td>0.5</td>\n",
              "    </tr>\n",
              "    <tr>\n",
              "      <th>22</th>\n",
              "      <td>11</td>\n",
              "      <td>0</td>\n",
              "      <td>0.456940</td>\n",
              "      <td>1.0</td>\n",
              "      <td>[]</td>\n",
              "      <td>0.051385</td>\n",
              "      <td>0.5000</td>\n",
              "      <td>0.434730</td>\n",
              "      <td>1.0</td>\n",
              "    </tr>\n",
              "    <tr>\n",
              "      <th>23</th>\n",
              "      <td>11</td>\n",
              "      <td>1</td>\n",
              "      <td>0.518842</td>\n",
              "      <td>0.5</td>\n",
              "      <td>[hyp_2]</td>\n",
              "      <td>0.056049</td>\n",
              "      <td>0.5000</td>\n",
              "      <td>0.580531</td>\n",
              "      <td>0.5</td>\n",
              "    </tr>\n",
              "    <tr>\n",
              "      <th>24</th>\n",
              "      <td>12</td>\n",
              "      <td>0</td>\n",
              "      <td>0.259184</td>\n",
              "      <td>1.0</td>\n",
              "      <td>[]</td>\n",
              "      <td>0.039762</td>\n",
              "      <td>0.5625</td>\n",
              "      <td>0.509600</td>\n",
              "      <td>0.5</td>\n",
              "    </tr>\n",
              "    <tr>\n",
              "      <th>25</th>\n",
              "      <td>12</td>\n",
              "      <td>1</td>\n",
              "      <td>0.365643</td>\n",
              "      <td>1.0</td>\n",
              "      <td>[]</td>\n",
              "      <td>0.043313</td>\n",
              "      <td>0.6250</td>\n",
              "      <td>0.548150</td>\n",
              "      <td>0.5</td>\n",
              "    </tr>\n",
              "    <tr>\n",
              "      <th>26</th>\n",
              "      <td>13</td>\n",
              "      <td>0</td>\n",
              "      <td>0.647037</td>\n",
              "      <td>0.5</td>\n",
              "      <td>[hyp_2]</td>\n",
              "      <td>0.046304</td>\n",
              "      <td>0.5000</td>\n",
              "      <td>0.918146</td>\n",
              "      <td>0.5</td>\n",
              "    </tr>\n",
              "    <tr>\n",
              "      <th>27</th>\n",
              "      <td>13</td>\n",
              "      <td>1</td>\n",
              "      <td>0.321827</td>\n",
              "      <td>1.0</td>\n",
              "      <td>[]</td>\n",
              "      <td>0.041117</td>\n",
              "      <td>0.6250</td>\n",
              "      <td>0.663658</td>\n",
              "      <td>0.5</td>\n",
              "    </tr>\n",
              "    <tr>\n",
              "      <th>28</th>\n",
              "      <td>14</td>\n",
              "      <td>0</td>\n",
              "      <td>0.520815</td>\n",
              "      <td>0.5</td>\n",
              "      <td>[exp_3]</td>\n",
              "      <td>0.077952</td>\n",
              "      <td>0.5000</td>\n",
              "      <td>0.560233</td>\n",
              "      <td>0.5</td>\n",
              "    </tr>\n",
              "    <tr>\n",
              "      <th>29</th>\n",
              "      <td>14</td>\n",
              "      <td>1</td>\n",
              "      <td>0.579382</td>\n",
              "      <td>0.5</td>\n",
              "      <td>[hyp_2]</td>\n",
              "      <td>0.038438</td>\n",
              "      <td>0.6250</td>\n",
              "      <td>0.769245</td>\n",
              "      <td>0.5</td>\n",
              "    </tr>\n",
              "    <tr>\n",
              "      <th>30</th>\n",
              "      <td>15</td>\n",
              "      <td>0</td>\n",
              "      <td>1.659765</td>\n",
              "      <td>0.5</td>\n",
              "      <td>[hyp_2]</td>\n",
              "      <td>0.048756</td>\n",
              "      <td>0.5000</td>\n",
              "      <td>1.226827</td>\n",
              "      <td>0.5</td>\n",
              "    </tr>\n",
              "    <tr>\n",
              "      <th>31</th>\n",
              "      <td>15</td>\n",
              "      <td>1</td>\n",
              "      <td>0.710938</td>\n",
              "      <td>0.5</td>\n",
              "      <td>[exp_3]</td>\n",
              "      <td>0.071815</td>\n",
              "      <td>0.5000</td>\n",
              "      <td>1.817351</td>\n",
              "      <td>0.5</td>\n",
              "    </tr>\n",
              "  </tbody>\n",
              "</table>\n",
              "</div>\n",
              "    <div class=\"colab-df-buttons\">\n",
              "\n",
              "  <div class=\"colab-df-container\">\n",
              "    <button class=\"colab-df-convert\" onclick=\"convertToInteractive('df-f021c8d3-0a5e-429e-a2b3-886ce501a661')\"\n",
              "            title=\"Convert this dataframe to an interactive table.\"\n",
              "            style=\"display:none;\">\n",
              "\n",
              "  <svg xmlns=\"http://www.w3.org/2000/svg\" height=\"24px\" viewBox=\"0 -960 960 960\">\n",
              "    <path d=\"M120-120v-720h720v720H120Zm60-500h600v-160H180v160Zm220 220h160v-160H400v160Zm0 220h160v-160H400v160ZM180-400h160v-160H180v160Zm440 0h160v-160H620v160ZM180-180h160v-160H180v160Zm440 0h160v-160H620v160Z\"/>\n",
              "  </svg>\n",
              "    </button>\n",
              "\n",
              "  <style>\n",
              "    .colab-df-container {\n",
              "      display:flex;\n",
              "      gap: 12px;\n",
              "    }\n",
              "\n",
              "    .colab-df-convert {\n",
              "      background-color: #E8F0FE;\n",
              "      border: none;\n",
              "      border-radius: 50%;\n",
              "      cursor: pointer;\n",
              "      display: none;\n",
              "      fill: #1967D2;\n",
              "      height: 32px;\n",
              "      padding: 0 0 0 0;\n",
              "      width: 32px;\n",
              "    }\n",
              "\n",
              "    .colab-df-convert:hover {\n",
              "      background-color: #E2EBFA;\n",
              "      box-shadow: 0px 1px 2px rgba(60, 64, 67, 0.3), 0px 1px 3px 1px rgba(60, 64, 67, 0.15);\n",
              "      fill: #174EA6;\n",
              "    }\n",
              "\n",
              "    .colab-df-buttons div {\n",
              "      margin-bottom: 4px;\n",
              "    }\n",
              "\n",
              "    [theme=dark] .colab-df-convert {\n",
              "      background-color: #3B4455;\n",
              "      fill: #D2E3FC;\n",
              "    }\n",
              "\n",
              "    [theme=dark] .colab-df-convert:hover {\n",
              "      background-color: #434B5C;\n",
              "      box-shadow: 0px 1px 3px 1px rgba(0, 0, 0, 0.15);\n",
              "      filter: drop-shadow(0px 1px 2px rgba(0, 0, 0, 0.3));\n",
              "      fill: #FFFFFF;\n",
              "    }\n",
              "  </style>\n",
              "\n",
              "    <script>\n",
              "      const buttonEl =\n",
              "        document.querySelector('#df-f021c8d3-0a5e-429e-a2b3-886ce501a661 button.colab-df-convert');\n",
              "      buttonEl.style.display =\n",
              "        google.colab.kernel.accessAllowed ? 'block' : 'none';\n",
              "\n",
              "      async function convertToInteractive(key) {\n",
              "        const element = document.querySelector('#df-f021c8d3-0a5e-429e-a2b3-886ce501a661');\n",
              "        const dataTable =\n",
              "          await google.colab.kernel.invokeFunction('convertToInteractive',\n",
              "                                                    [key], {});\n",
              "        if (!dataTable) return;\n",
              "\n",
              "        const docLinkHtml = 'Like what you see? Visit the ' +\n",
              "          '<a target=\"_blank\" href=https://colab.research.google.com/notebooks/data_table.ipynb>data table notebook</a>'\n",
              "          + ' to learn more about interactive tables.';\n",
              "        element.innerHTML = '';\n",
              "        dataTable['output_type'] = 'display_data';\n",
              "        await google.colab.output.renderOutput(dataTable, element);\n",
              "        const docLink = document.createElement('div');\n",
              "        docLink.innerHTML = docLinkHtml;\n",
              "        element.appendChild(docLink);\n",
              "      }\n",
              "    </script>\n",
              "  </div>\n",
              "\n",
              "\n",
              "<div id=\"df-4e8030df-8ab1-47c0-a216-29b3e095dc3f\">\n",
              "  <button class=\"colab-df-quickchart\" onclick=\"quickchart('df-4e8030df-8ab1-47c0-a216-29b3e095dc3f')\"\n",
              "            title=\"Suggest charts\"\n",
              "            style=\"display:none;\">\n",
              "\n",
              "<svg xmlns=\"http://www.w3.org/2000/svg\" height=\"24px\"viewBox=\"0 0 24 24\"\n",
              "     width=\"24px\">\n",
              "    <g>\n",
              "        <path d=\"M19 3H5c-1.1 0-2 .9-2 2v14c0 1.1.9 2 2 2h14c1.1 0 2-.9 2-2V5c0-1.1-.9-2-2-2zM9 17H7v-7h2v7zm4 0h-2V7h2v10zm4 0h-2v-4h2v4z\"/>\n",
              "    </g>\n",
              "</svg>\n",
              "  </button>\n",
              "\n",
              "<style>\n",
              "  .colab-df-quickchart {\n",
              "      --bg-color: #E8F0FE;\n",
              "      --fill-color: #1967D2;\n",
              "      --hover-bg-color: #E2EBFA;\n",
              "      --hover-fill-color: #174EA6;\n",
              "      --disabled-fill-color: #AAA;\n",
              "      --disabled-bg-color: #DDD;\n",
              "  }\n",
              "\n",
              "  [theme=dark] .colab-df-quickchart {\n",
              "      --bg-color: #3B4455;\n",
              "      --fill-color: #D2E3FC;\n",
              "      --hover-bg-color: #434B5C;\n",
              "      --hover-fill-color: #FFFFFF;\n",
              "      --disabled-bg-color: #3B4455;\n",
              "      --disabled-fill-color: #666;\n",
              "  }\n",
              "\n",
              "  .colab-df-quickchart {\n",
              "    background-color: var(--bg-color);\n",
              "    border: none;\n",
              "    border-radius: 50%;\n",
              "    cursor: pointer;\n",
              "    display: none;\n",
              "    fill: var(--fill-color);\n",
              "    height: 32px;\n",
              "    padding: 0;\n",
              "    width: 32px;\n",
              "  }\n",
              "\n",
              "  .colab-df-quickchart:hover {\n",
              "    background-color: var(--hover-bg-color);\n",
              "    box-shadow: 0 1px 2px rgba(60, 64, 67, 0.3), 0 1px 3px 1px rgba(60, 64, 67, 0.15);\n",
              "    fill: var(--button-hover-fill-color);\n",
              "  }\n",
              "\n",
              "  .colab-df-quickchart-complete:disabled,\n",
              "  .colab-df-quickchart-complete:disabled:hover {\n",
              "    background-color: var(--disabled-bg-color);\n",
              "    fill: var(--disabled-fill-color);\n",
              "    box-shadow: none;\n",
              "  }\n",
              "\n",
              "  .colab-df-spinner {\n",
              "    border: 2px solid var(--fill-color);\n",
              "    border-color: transparent;\n",
              "    border-bottom-color: var(--fill-color);\n",
              "    animation:\n",
              "      spin 1s steps(1) infinite;\n",
              "  }\n",
              "\n",
              "  @keyframes spin {\n",
              "    0% {\n",
              "      border-color: transparent;\n",
              "      border-bottom-color: var(--fill-color);\n",
              "      border-left-color: var(--fill-color);\n",
              "    }\n",
              "    20% {\n",
              "      border-color: transparent;\n",
              "      border-left-color: var(--fill-color);\n",
              "      border-top-color: var(--fill-color);\n",
              "    }\n",
              "    30% {\n",
              "      border-color: transparent;\n",
              "      border-left-color: var(--fill-color);\n",
              "      border-top-color: var(--fill-color);\n",
              "      border-right-color: var(--fill-color);\n",
              "    }\n",
              "    40% {\n",
              "      border-color: transparent;\n",
              "      border-right-color: var(--fill-color);\n",
              "      border-top-color: var(--fill-color);\n",
              "    }\n",
              "    60% {\n",
              "      border-color: transparent;\n",
              "      border-right-color: var(--fill-color);\n",
              "    }\n",
              "    80% {\n",
              "      border-color: transparent;\n",
              "      border-right-color: var(--fill-color);\n",
              "      border-bottom-color: var(--fill-color);\n",
              "    }\n",
              "    90% {\n",
              "      border-color: transparent;\n",
              "      border-bottom-color: var(--fill-color);\n",
              "    }\n",
              "  }\n",
              "</style>\n",
              "\n",
              "  <script>\n",
              "    async function quickchart(key) {\n",
              "      const quickchartButtonEl =\n",
              "        document.querySelector('#' + key + ' button');\n",
              "      quickchartButtonEl.disabled = true;  // To prevent multiple clicks.\n",
              "      quickchartButtonEl.classList.add('colab-df-spinner');\n",
              "      try {\n",
              "        const charts = await google.colab.kernel.invokeFunction(\n",
              "            'suggestCharts', [key], {});\n",
              "      } catch (error) {\n",
              "        console.error('Error during call to suggestCharts:', error);\n",
              "      }\n",
              "      quickchartButtonEl.classList.remove('colab-df-spinner');\n",
              "      quickchartButtonEl.classList.add('colab-df-quickchart-complete');\n",
              "    }\n",
              "    (() => {\n",
              "      let quickchartButtonEl =\n",
              "        document.querySelector('#df-4e8030df-8ab1-47c0-a216-29b3e095dc3f button');\n",
              "      quickchartButtonEl.style.display =\n",
              "        google.colab.kernel.accessAllowed ? 'block' : 'none';\n",
              "    })();\n",
              "  </script>\n",
              "</div>\n",
              "\n",
              "  <div id=\"id_f6e5bfbe-3e3f-4d15-ae53-ce25e38d7487\">\n",
              "    <style>\n",
              "      .colab-df-generate {\n",
              "        background-color: #E8F0FE;\n",
              "        border: none;\n",
              "        border-radius: 50%;\n",
              "        cursor: pointer;\n",
              "        display: none;\n",
              "        fill: #1967D2;\n",
              "        height: 32px;\n",
              "        padding: 0 0 0 0;\n",
              "        width: 32px;\n",
              "      }\n",
              "\n",
              "      .colab-df-generate:hover {\n",
              "        background-color: #E2EBFA;\n",
              "        box-shadow: 0px 1px 2px rgba(60, 64, 67, 0.3), 0px 1px 3px 1px rgba(60, 64, 67, 0.15);\n",
              "        fill: #174EA6;\n",
              "      }\n",
              "\n",
              "      [theme=dark] .colab-df-generate {\n",
              "        background-color: #3B4455;\n",
              "        fill: #D2E3FC;\n",
              "      }\n",
              "\n",
              "      [theme=dark] .colab-df-generate:hover {\n",
              "        background-color: #434B5C;\n",
              "        box-shadow: 0px 1px 3px 1px rgba(0, 0, 0, 0.15);\n",
              "        filter: drop-shadow(0px 1px 2px rgba(0, 0, 0, 0.3));\n",
              "        fill: #FFFFFF;\n",
              "      }\n",
              "    </style>\n",
              "    <button class=\"colab-df-generate\" onclick=\"generateWithVariable('demo_expt_results')\"\n",
              "            title=\"Generate code using this dataframe.\"\n",
              "            style=\"display:none;\">\n",
              "\n",
              "  <svg xmlns=\"http://www.w3.org/2000/svg\" height=\"24px\"viewBox=\"0 0 24 24\"\n",
              "       width=\"24px\">\n",
              "    <path d=\"M7,19H8.4L18.45,9,17,7.55,7,17.6ZM5,21V16.75L18.45,3.32a2,2,0,0,1,2.83,0l1.4,1.43a1.91,1.91,0,0,1,.58,1.4,1.91,1.91,0,0,1-.58,1.4L9.25,21ZM18.45,9,17,7.55Zm-12,3A5.31,5.31,0,0,0,4.9,8.1,5.31,5.31,0,0,0,1,6.5,5.31,5.31,0,0,0,4.9,4.9,5.31,5.31,0,0,0,6.5,1,5.31,5.31,0,0,0,8.1,4.9,5.31,5.31,0,0,0,12,6.5,5.46,5.46,0,0,0,6.5,12Z\"/>\n",
              "  </svg>\n",
              "    </button>\n",
              "    <script>\n",
              "      (() => {\n",
              "      const buttonEl =\n",
              "        document.querySelector('#id_f6e5bfbe-3e3f-4d15-ae53-ce25e38d7487 button.colab-df-generate');\n",
              "      buttonEl.style.display =\n",
              "        google.colab.kernel.accessAllowed ? 'block' : 'none';\n",
              "\n",
              "      buttonEl.onclick = () => {\n",
              "        google.colab.notebook.generateWithVariable('demo_expt_results');\n",
              "      }\n",
              "      })();\n",
              "    </script>\n",
              "  </div>\n",
              "\n",
              "    </div>\n",
              "  </div>\n"
            ],
            "application/vnd.google.colaboratory.intrinsic+json": {
              "type": "dataframe",
              "variable_name": "demo_expt_results",
              "summary": "{\n  \"name\": \"demo_expt_results\",\n  \"rows\": 32,\n  \"fields\": [\n    {\n      \"column\": \"layer\",\n      \"properties\": {\n        \"dtype\": \"number\",\n        \"std\": 4,\n        \"min\": 0,\n        \"max\": 15,\n        \"num_unique_values\": 16,\n        \"samples\": [\n          0,\n          1,\n          5\n        ],\n        \"semantic_type\": \"\",\n        \"description\": \"\"\n      }\n    },\n    {\n      \"column\": \"run\",\n      \"properties\": {\n        \"dtype\": \"number\",\n        \"std\": 0,\n        \"min\": 0,\n        \"max\": 1,\n        \"num_unique_values\": 2,\n        \"samples\": [\n          1,\n          0\n        ],\n        \"semantic_type\": \"\",\n        \"description\": \"\"\n      }\n    },\n    {\n      \"column\": \"test_loss\",\n      \"properties\": {\n        \"dtype\": \"number\",\n        \"std\": 9.426567870679106,\n        \"min\": 2.1457626644405536e-06,\n        \"max\": 41.74501037597656,\n        \"num_unique_values\": 32,\n        \"samples\": [\n          0.5793816552031785,\n          0.6631457805633545\n        ],\n        \"semantic_type\": \"\",\n        \"description\": \"\"\n      }\n    },\n    {\n      \"column\": \"test_accuracy\",\n      \"properties\": {\n        \"dtype\": \"number\",\n        \"std\": 0.2535036743387082,\n        \"min\": 0.5,\n        \"max\": 1.0,\n        \"num_unique_values\": 2,\n        \"samples\": [\n          0.5,\n          1.0\n        ],\n        \"semantic_type\": \"\",\n        \"description\": \"\"\n      }\n    },\n    {\n      \"column\": \"test_fail_ids\",\n      \"properties\": {\n        \"dtype\": \"object\",\n        \"semantic_type\": \"\",\n        \"description\": \"\"\n      }\n    },\n    {\n      \"column\": \"final_train_loss\",\n      \"properties\": {\n        \"dtype\": \"number\",\n        \"std\": 0.03460334449139024,\n        \"min\": 0.03501882404088974,\n        \"max\": 0.2241860181093216,\n        \"num_unique_values\": 32,\n        \"samples\": [\n          0.0384380966424942,\n          0.05023470148444176\n        ],\n        \"semantic_type\": \"\",\n        \"description\": \"\"\n      }\n    },\n    {\n      \"column\": \"final_train_accuracy\",\n      \"properties\": {\n        \"dtype\": \"number\",\n        \"std\": 0.13161371934168417,\n        \"min\": 0.125,\n        \"max\": 0.8125,\n        \"num_unique_values\": 8,\n        \"samples\": [\n          0.375,\n          0.75\n        ],\n        \"semantic_type\": \"\",\n        \"description\": \"\"\n      }\n    },\n    {\n      \"column\": \"final_val_loss\",\n      \"properties\": {\n        \"dtype\": \"number\",\n        \"std\": 10.993954861990714,\n        \"min\": 0.43472951650619507,\n        \"max\": 44.809974670410156,\n        \"num_unique_values\": 32,\n        \"samples\": [\n          0.7692447453737259,\n          0.7650274336338043\n        ],\n        \"semantic_type\": \"\",\n        \"description\": \"\"\n      }\n    },\n    {\n      \"column\": \"final_val_accuracy\",\n      \"properties\": {\n        \"dtype\": \"number\",\n        \"std\": 0.2651650429449553,\n        \"min\": 0.0,\n        \"max\": 1.0,\n        \"num_unique_values\": 3,\n        \"samples\": [\n          0.0,\n          0.5\n        ],\n        \"semantic_type\": \"\",\n        \"description\": \"\"\n      }\n    }\n  ]\n}"
            }
          },
          "metadata": {},
          "execution_count": 32
        }
      ]
    },
    {
      "cell_type": "code",
      "source": [
        "import experiments.utils as expt_utils\n",
        "\n",
        "demo_expt_summary = expt_utils.summarise_experiment(demo_expt_results)"
      ],
      "metadata": {
        "id": "WaqEyQp7m3U5"
      },
      "execution_count": 33,
      "outputs": []
    },
    {
      "cell_type": "code",
      "source": [
        "demo_expt_summary"
      ],
      "metadata": {
        "colab": {
          "base_uri": "https://localhost:8080/",
          "height": 551
        },
        "id": "ZCbqOPbdev9e",
        "outputId": "ea8e538a-014a-4a38-b534-9d375590ccf5"
      },
      "execution_count": 34,
      "outputs": [
        {
          "output_type": "execute_result",
          "data": {
            "text/plain": [
              "    layer  accuracy_mean  accuracy_std  loss_mean  loss_std\n",
              "0       0           1.00      0.000000   0.000178  0.000249\n",
              "1       1           1.00      0.000000   0.000132  0.000182\n",
              "2       2           0.75      0.353553   0.249350  0.230006\n",
              "3       3           0.50      0.000000  38.625820  4.411201\n",
              "4       4           0.50      0.000000   4.730304  2.305833\n",
              "5       5           0.50      0.000000   0.916785  0.286056\n",
              "6       6           0.75      0.353553   0.516127  0.072557\n",
              "7       7           0.50      0.000000   0.659161  0.005636\n",
              "8       8           0.75      0.353553   0.474931  0.017315\n",
              "9       9           1.00      0.000000   0.268843  0.076980\n",
              "10     10           1.00      0.000000   0.164147  0.037605\n",
              "11     11           0.75      0.353553   0.487891  0.043771\n",
              "12     12           1.00      0.000000   0.312414  0.075278\n",
              "13     13           0.75      0.353553   0.484432  0.229959\n",
              "14     14           0.50      0.000000   0.550098  0.041413\n",
              "15     15           0.50      0.000000   1.185351  0.670922"
            ],
            "text/html": [
              "\n",
              "  <div id=\"df-e6237b3f-8952-4c2c-8872-4f822c3d67dd\" class=\"colab-df-container\">\n",
              "    <div>\n",
              "<style scoped>\n",
              "    .dataframe tbody tr th:only-of-type {\n",
              "        vertical-align: middle;\n",
              "    }\n",
              "\n",
              "    .dataframe tbody tr th {\n",
              "        vertical-align: top;\n",
              "    }\n",
              "\n",
              "    .dataframe thead th {\n",
              "        text-align: right;\n",
              "    }\n",
              "</style>\n",
              "<table border=\"1\" class=\"dataframe\">\n",
              "  <thead>\n",
              "    <tr style=\"text-align: right;\">\n",
              "      <th></th>\n",
              "      <th>layer</th>\n",
              "      <th>accuracy_mean</th>\n",
              "      <th>accuracy_std</th>\n",
              "      <th>loss_mean</th>\n",
              "      <th>loss_std</th>\n",
              "    </tr>\n",
              "  </thead>\n",
              "  <tbody>\n",
              "    <tr>\n",
              "      <th>0</th>\n",
              "      <td>0</td>\n",
              "      <td>1.00</td>\n",
              "      <td>0.000000</td>\n",
              "      <td>0.000178</td>\n",
              "      <td>0.000249</td>\n",
              "    </tr>\n",
              "    <tr>\n",
              "      <th>1</th>\n",
              "      <td>1</td>\n",
              "      <td>1.00</td>\n",
              "      <td>0.000000</td>\n",
              "      <td>0.000132</td>\n",
              "      <td>0.000182</td>\n",
              "    </tr>\n",
              "    <tr>\n",
              "      <th>2</th>\n",
              "      <td>2</td>\n",
              "      <td>0.75</td>\n",
              "      <td>0.353553</td>\n",
              "      <td>0.249350</td>\n",
              "      <td>0.230006</td>\n",
              "    </tr>\n",
              "    <tr>\n",
              "      <th>3</th>\n",
              "      <td>3</td>\n",
              "      <td>0.50</td>\n",
              "      <td>0.000000</td>\n",
              "      <td>38.625820</td>\n",
              "      <td>4.411201</td>\n",
              "    </tr>\n",
              "    <tr>\n",
              "      <th>4</th>\n",
              "      <td>4</td>\n",
              "      <td>0.50</td>\n",
              "      <td>0.000000</td>\n",
              "      <td>4.730304</td>\n",
              "      <td>2.305833</td>\n",
              "    </tr>\n",
              "    <tr>\n",
              "      <th>5</th>\n",
              "      <td>5</td>\n",
              "      <td>0.50</td>\n",
              "      <td>0.000000</td>\n",
              "      <td>0.916785</td>\n",
              "      <td>0.286056</td>\n",
              "    </tr>\n",
              "    <tr>\n",
              "      <th>6</th>\n",
              "      <td>6</td>\n",
              "      <td>0.75</td>\n",
              "      <td>0.353553</td>\n",
              "      <td>0.516127</td>\n",
              "      <td>0.072557</td>\n",
              "    </tr>\n",
              "    <tr>\n",
              "      <th>7</th>\n",
              "      <td>7</td>\n",
              "      <td>0.50</td>\n",
              "      <td>0.000000</td>\n",
              "      <td>0.659161</td>\n",
              "      <td>0.005636</td>\n",
              "    </tr>\n",
              "    <tr>\n",
              "      <th>8</th>\n",
              "      <td>8</td>\n",
              "      <td>0.75</td>\n",
              "      <td>0.353553</td>\n",
              "      <td>0.474931</td>\n",
              "      <td>0.017315</td>\n",
              "    </tr>\n",
              "    <tr>\n",
              "      <th>9</th>\n",
              "      <td>9</td>\n",
              "      <td>1.00</td>\n",
              "      <td>0.000000</td>\n",
              "      <td>0.268843</td>\n",
              "      <td>0.076980</td>\n",
              "    </tr>\n",
              "    <tr>\n",
              "      <th>10</th>\n",
              "      <td>10</td>\n",
              "      <td>1.00</td>\n",
              "      <td>0.000000</td>\n",
              "      <td>0.164147</td>\n",
              "      <td>0.037605</td>\n",
              "    </tr>\n",
              "    <tr>\n",
              "      <th>11</th>\n",
              "      <td>11</td>\n",
              "      <td>0.75</td>\n",
              "      <td>0.353553</td>\n",
              "      <td>0.487891</td>\n",
              "      <td>0.043771</td>\n",
              "    </tr>\n",
              "    <tr>\n",
              "      <th>12</th>\n",
              "      <td>12</td>\n",
              "      <td>1.00</td>\n",
              "      <td>0.000000</td>\n",
              "      <td>0.312414</td>\n",
              "      <td>0.075278</td>\n",
              "    </tr>\n",
              "    <tr>\n",
              "      <th>13</th>\n",
              "      <td>13</td>\n",
              "      <td>0.75</td>\n",
              "      <td>0.353553</td>\n",
              "      <td>0.484432</td>\n",
              "      <td>0.229959</td>\n",
              "    </tr>\n",
              "    <tr>\n",
              "      <th>14</th>\n",
              "      <td>14</td>\n",
              "      <td>0.50</td>\n",
              "      <td>0.000000</td>\n",
              "      <td>0.550098</td>\n",
              "      <td>0.041413</td>\n",
              "    </tr>\n",
              "    <tr>\n",
              "      <th>15</th>\n",
              "      <td>15</td>\n",
              "      <td>0.50</td>\n",
              "      <td>0.000000</td>\n",
              "      <td>1.185351</td>\n",
              "      <td>0.670922</td>\n",
              "    </tr>\n",
              "  </tbody>\n",
              "</table>\n",
              "</div>\n",
              "    <div class=\"colab-df-buttons\">\n",
              "\n",
              "  <div class=\"colab-df-container\">\n",
              "    <button class=\"colab-df-convert\" onclick=\"convertToInteractive('df-e6237b3f-8952-4c2c-8872-4f822c3d67dd')\"\n",
              "            title=\"Convert this dataframe to an interactive table.\"\n",
              "            style=\"display:none;\">\n",
              "\n",
              "  <svg xmlns=\"http://www.w3.org/2000/svg\" height=\"24px\" viewBox=\"0 -960 960 960\">\n",
              "    <path d=\"M120-120v-720h720v720H120Zm60-500h600v-160H180v160Zm220 220h160v-160H400v160Zm0 220h160v-160H400v160ZM180-400h160v-160H180v160Zm440 0h160v-160H620v160ZM180-180h160v-160H180v160Zm440 0h160v-160H620v160Z\"/>\n",
              "  </svg>\n",
              "    </button>\n",
              "\n",
              "  <style>\n",
              "    .colab-df-container {\n",
              "      display:flex;\n",
              "      gap: 12px;\n",
              "    }\n",
              "\n",
              "    .colab-df-convert {\n",
              "      background-color: #E8F0FE;\n",
              "      border: none;\n",
              "      border-radius: 50%;\n",
              "      cursor: pointer;\n",
              "      display: none;\n",
              "      fill: #1967D2;\n",
              "      height: 32px;\n",
              "      padding: 0 0 0 0;\n",
              "      width: 32px;\n",
              "    }\n",
              "\n",
              "    .colab-df-convert:hover {\n",
              "      background-color: #E2EBFA;\n",
              "      box-shadow: 0px 1px 2px rgba(60, 64, 67, 0.3), 0px 1px 3px 1px rgba(60, 64, 67, 0.15);\n",
              "      fill: #174EA6;\n",
              "    }\n",
              "\n",
              "    .colab-df-buttons div {\n",
              "      margin-bottom: 4px;\n",
              "    }\n",
              "\n",
              "    [theme=dark] .colab-df-convert {\n",
              "      background-color: #3B4455;\n",
              "      fill: #D2E3FC;\n",
              "    }\n",
              "\n",
              "    [theme=dark] .colab-df-convert:hover {\n",
              "      background-color: #434B5C;\n",
              "      box-shadow: 0px 1px 3px 1px rgba(0, 0, 0, 0.15);\n",
              "      filter: drop-shadow(0px 1px 2px rgba(0, 0, 0, 0.3));\n",
              "      fill: #FFFFFF;\n",
              "    }\n",
              "  </style>\n",
              "\n",
              "    <script>\n",
              "      const buttonEl =\n",
              "        document.querySelector('#df-e6237b3f-8952-4c2c-8872-4f822c3d67dd button.colab-df-convert');\n",
              "      buttonEl.style.display =\n",
              "        google.colab.kernel.accessAllowed ? 'block' : 'none';\n",
              "\n",
              "      async function convertToInteractive(key) {\n",
              "        const element = document.querySelector('#df-e6237b3f-8952-4c2c-8872-4f822c3d67dd');\n",
              "        const dataTable =\n",
              "          await google.colab.kernel.invokeFunction('convertToInteractive',\n",
              "                                                    [key], {});\n",
              "        if (!dataTable) return;\n",
              "\n",
              "        const docLinkHtml = 'Like what you see? Visit the ' +\n",
              "          '<a target=\"_blank\" href=https://colab.research.google.com/notebooks/data_table.ipynb>data table notebook</a>'\n",
              "          + ' to learn more about interactive tables.';\n",
              "        element.innerHTML = '';\n",
              "        dataTable['output_type'] = 'display_data';\n",
              "        await google.colab.output.renderOutput(dataTable, element);\n",
              "        const docLink = document.createElement('div');\n",
              "        docLink.innerHTML = docLinkHtml;\n",
              "        element.appendChild(docLink);\n",
              "      }\n",
              "    </script>\n",
              "  </div>\n",
              "\n",
              "\n",
              "<div id=\"df-acb276da-3e01-4abf-b357-de6a396fa5c2\">\n",
              "  <button class=\"colab-df-quickchart\" onclick=\"quickchart('df-acb276da-3e01-4abf-b357-de6a396fa5c2')\"\n",
              "            title=\"Suggest charts\"\n",
              "            style=\"display:none;\">\n",
              "\n",
              "<svg xmlns=\"http://www.w3.org/2000/svg\" height=\"24px\"viewBox=\"0 0 24 24\"\n",
              "     width=\"24px\">\n",
              "    <g>\n",
              "        <path d=\"M19 3H5c-1.1 0-2 .9-2 2v14c0 1.1.9 2 2 2h14c1.1 0 2-.9 2-2V5c0-1.1-.9-2-2-2zM9 17H7v-7h2v7zm4 0h-2V7h2v10zm4 0h-2v-4h2v4z\"/>\n",
              "    </g>\n",
              "</svg>\n",
              "  </button>\n",
              "\n",
              "<style>\n",
              "  .colab-df-quickchart {\n",
              "      --bg-color: #E8F0FE;\n",
              "      --fill-color: #1967D2;\n",
              "      --hover-bg-color: #E2EBFA;\n",
              "      --hover-fill-color: #174EA6;\n",
              "      --disabled-fill-color: #AAA;\n",
              "      --disabled-bg-color: #DDD;\n",
              "  }\n",
              "\n",
              "  [theme=dark] .colab-df-quickchart {\n",
              "      --bg-color: #3B4455;\n",
              "      --fill-color: #D2E3FC;\n",
              "      --hover-bg-color: #434B5C;\n",
              "      --hover-fill-color: #FFFFFF;\n",
              "      --disabled-bg-color: #3B4455;\n",
              "      --disabled-fill-color: #666;\n",
              "  }\n",
              "\n",
              "  .colab-df-quickchart {\n",
              "    background-color: var(--bg-color);\n",
              "    border: none;\n",
              "    border-radius: 50%;\n",
              "    cursor: pointer;\n",
              "    display: none;\n",
              "    fill: var(--fill-color);\n",
              "    height: 32px;\n",
              "    padding: 0;\n",
              "    width: 32px;\n",
              "  }\n",
              "\n",
              "  .colab-df-quickchart:hover {\n",
              "    background-color: var(--hover-bg-color);\n",
              "    box-shadow: 0 1px 2px rgba(60, 64, 67, 0.3), 0 1px 3px 1px rgba(60, 64, 67, 0.15);\n",
              "    fill: var(--button-hover-fill-color);\n",
              "  }\n",
              "\n",
              "  .colab-df-quickchart-complete:disabled,\n",
              "  .colab-df-quickchart-complete:disabled:hover {\n",
              "    background-color: var(--disabled-bg-color);\n",
              "    fill: var(--disabled-fill-color);\n",
              "    box-shadow: none;\n",
              "  }\n",
              "\n",
              "  .colab-df-spinner {\n",
              "    border: 2px solid var(--fill-color);\n",
              "    border-color: transparent;\n",
              "    border-bottom-color: var(--fill-color);\n",
              "    animation:\n",
              "      spin 1s steps(1) infinite;\n",
              "  }\n",
              "\n",
              "  @keyframes spin {\n",
              "    0% {\n",
              "      border-color: transparent;\n",
              "      border-bottom-color: var(--fill-color);\n",
              "      border-left-color: var(--fill-color);\n",
              "    }\n",
              "    20% {\n",
              "      border-color: transparent;\n",
              "      border-left-color: var(--fill-color);\n",
              "      border-top-color: var(--fill-color);\n",
              "    }\n",
              "    30% {\n",
              "      border-color: transparent;\n",
              "      border-left-color: var(--fill-color);\n",
              "      border-top-color: var(--fill-color);\n",
              "      border-right-color: var(--fill-color);\n",
              "    }\n",
              "    40% {\n",
              "      border-color: transparent;\n",
              "      border-right-color: var(--fill-color);\n",
              "      border-top-color: var(--fill-color);\n",
              "    }\n",
              "    60% {\n",
              "      border-color: transparent;\n",
              "      border-right-color: var(--fill-color);\n",
              "    }\n",
              "    80% {\n",
              "      border-color: transparent;\n",
              "      border-right-color: var(--fill-color);\n",
              "      border-bottom-color: var(--fill-color);\n",
              "    }\n",
              "    90% {\n",
              "      border-color: transparent;\n",
              "      border-bottom-color: var(--fill-color);\n",
              "    }\n",
              "  }\n",
              "</style>\n",
              "\n",
              "  <script>\n",
              "    async function quickchart(key) {\n",
              "      const quickchartButtonEl =\n",
              "        document.querySelector('#' + key + ' button');\n",
              "      quickchartButtonEl.disabled = true;  // To prevent multiple clicks.\n",
              "      quickchartButtonEl.classList.add('colab-df-spinner');\n",
              "      try {\n",
              "        const charts = await google.colab.kernel.invokeFunction(\n",
              "            'suggestCharts', [key], {});\n",
              "      } catch (error) {\n",
              "        console.error('Error during call to suggestCharts:', error);\n",
              "      }\n",
              "      quickchartButtonEl.classList.remove('colab-df-spinner');\n",
              "      quickchartButtonEl.classList.add('colab-df-quickchart-complete');\n",
              "    }\n",
              "    (() => {\n",
              "      let quickchartButtonEl =\n",
              "        document.querySelector('#df-acb276da-3e01-4abf-b357-de6a396fa5c2 button');\n",
              "      quickchartButtonEl.style.display =\n",
              "        google.colab.kernel.accessAllowed ? 'block' : 'none';\n",
              "    })();\n",
              "  </script>\n",
              "</div>\n",
              "\n",
              "  <div id=\"id_7a6005c9-40d9-4e85-a8d1-8b2f0b9c21e1\">\n",
              "    <style>\n",
              "      .colab-df-generate {\n",
              "        background-color: #E8F0FE;\n",
              "        border: none;\n",
              "        border-radius: 50%;\n",
              "        cursor: pointer;\n",
              "        display: none;\n",
              "        fill: #1967D2;\n",
              "        height: 32px;\n",
              "        padding: 0 0 0 0;\n",
              "        width: 32px;\n",
              "      }\n",
              "\n",
              "      .colab-df-generate:hover {\n",
              "        background-color: #E2EBFA;\n",
              "        box-shadow: 0px 1px 2px rgba(60, 64, 67, 0.3), 0px 1px 3px 1px rgba(60, 64, 67, 0.15);\n",
              "        fill: #174EA6;\n",
              "      }\n",
              "\n",
              "      [theme=dark] .colab-df-generate {\n",
              "        background-color: #3B4455;\n",
              "        fill: #D2E3FC;\n",
              "      }\n",
              "\n",
              "      [theme=dark] .colab-df-generate:hover {\n",
              "        background-color: #434B5C;\n",
              "        box-shadow: 0px 1px 3px 1px rgba(0, 0, 0, 0.15);\n",
              "        filter: drop-shadow(0px 1px 2px rgba(0, 0, 0, 0.3));\n",
              "        fill: #FFFFFF;\n",
              "      }\n",
              "    </style>\n",
              "    <button class=\"colab-df-generate\" onclick=\"generateWithVariable('demo_expt_summary')\"\n",
              "            title=\"Generate code using this dataframe.\"\n",
              "            style=\"display:none;\">\n",
              "\n",
              "  <svg xmlns=\"http://www.w3.org/2000/svg\" height=\"24px\"viewBox=\"0 0 24 24\"\n",
              "       width=\"24px\">\n",
              "    <path d=\"M7,19H8.4L18.45,9,17,7.55,7,17.6ZM5,21V16.75L18.45,3.32a2,2,0,0,1,2.83,0l1.4,1.43a1.91,1.91,0,0,1,.58,1.4,1.91,1.91,0,0,1-.58,1.4L9.25,21ZM18.45,9,17,7.55Zm-12,3A5.31,5.31,0,0,0,4.9,8.1,5.31,5.31,0,0,0,1,6.5,5.31,5.31,0,0,0,4.9,4.9,5.31,5.31,0,0,0,6.5,1,5.31,5.31,0,0,0,8.1,4.9,5.31,5.31,0,0,0,12,6.5,5.46,5.46,0,0,0,6.5,12Z\"/>\n",
              "  </svg>\n",
              "    </button>\n",
              "    <script>\n",
              "      (() => {\n",
              "      const buttonEl =\n",
              "        document.querySelector('#id_7a6005c9-40d9-4e85-a8d1-8b2f0b9c21e1 button.colab-df-generate');\n",
              "      buttonEl.style.display =\n",
              "        google.colab.kernel.accessAllowed ? 'block' : 'none';\n",
              "\n",
              "      buttonEl.onclick = () => {\n",
              "        google.colab.notebook.generateWithVariable('demo_expt_summary');\n",
              "      }\n",
              "      })();\n",
              "    </script>\n",
              "  </div>\n",
              "\n",
              "    </div>\n",
              "  </div>\n"
            ],
            "application/vnd.google.colaboratory.intrinsic+json": {
              "type": "dataframe",
              "variable_name": "demo_expt_summary",
              "summary": "{\n  \"name\": \"demo_expt_summary\",\n  \"rows\": 16,\n  \"fields\": [\n    {\n      \"column\": \"layer\",\n      \"properties\": {\n        \"dtype\": \"number\",\n        \"std\": 4,\n        \"min\": 0,\n        \"max\": 15,\n        \"num_unique_values\": 16,\n        \"samples\": [\n          0,\n          1,\n          5\n        ],\n        \"semantic_type\": \"\",\n        \"description\": \"\"\n      }\n    },\n    {\n      \"column\": \"accuracy_mean\",\n      \"properties\": {\n        \"dtype\": \"number\",\n        \"std\": 0.21347814095749162,\n        \"min\": 0.5,\n        \"max\": 1.0,\n        \"num_unique_values\": 3,\n        \"samples\": [\n          1.0,\n          0.75,\n          0.5\n        ],\n        \"semantic_type\": \"\",\n        \"description\": \"\"\n      }\n    },\n    {\n      \"column\": \"accuracy_std\",\n      \"properties\": {\n        \"dtype\": \"number\",\n        \"std\": 0.16925080009658253,\n        \"min\": 0.0,\n        \"max\": 0.3535533905932738,\n        \"num_unique_values\": 2,\n        \"samples\": [\n          0.3535533905932738,\n          0.0\n        ],\n        \"semantic_type\": \"\",\n        \"description\": \"\"\n      }\n    },\n    {\n      \"column\": \"loss_mean\",\n      \"properties\": {\n        \"dtype\": \"number\",\n        \"std\": 9.538046784846099,\n        \"min\": 0.00013225840892339136,\n        \"max\": 38.62582015991211,\n        \"num_unique_values\": 16,\n        \"samples\": [\n          0.00017833383526522084,\n          0.00013225840892339136\n        ],\n        \"semantic_type\": \"\",\n        \"description\": \"\"\n      }\n    },\n    {\n      \"column\": \"loss_std\",\n      \"properties\": {\n        \"dtype\": \"number\",\n        \"std\": 1.180808848544307,\n        \"min\": 0.00018232120279273821,\n        \"max\": 4.4112011071798145,\n        \"num_unique_values\": 16,\n        \"samples\": [\n          0.000249167561800399,\n          0.00018232120279273821\n        ],\n        \"semantic_type\": \"\",\n        \"description\": \"\"\n      }\n    }\n  ]\n}"
            }
          },
          "metadata": {},
          "execution_count": 34
        }
      ]
    },
    {
      "cell_type": "code",
      "source": [
        "expt_utils.plot_from_summary(demo_expt_summary, descriptor='demo')"
      ],
      "metadata": {
        "colab": {
          "base_uri": "https://localhost:8080/",
          "height": 419
        },
        "id": "RXadjLCBZDCt",
        "outputId": "5cd5c0dc-ea1b-41d2-c197-26691cc5b4de"
      },
      "execution_count": 35,
      "outputs": [
        {
          "output_type": "display_data",
          "data": {
            "text/plain": [
              "<Figure size 800x400 with 1 Axes>"
            ],
            "image/png": "[encoded data removed]"
          },
          "metadata": {}
        }
      ]
    },
    {
      "cell_type": "markdown",
      "source": [
        "## Probe Loading and Evaluation"
      ],
      "metadata": {
        "id": "LcY7GtWxzbgh"
      }
    },
    {
      "cell_type": "code",
      "source": [
        "# TODO: write extra loading functionality for running an experiment using pretrained\n",
        "# TODO: extend failure detection functionality"
      ],
      "metadata": {
        "id": "-cctwkQazc8Q"
      },
      "execution_count": 36,
      "outputs": []
    }
  ]
}