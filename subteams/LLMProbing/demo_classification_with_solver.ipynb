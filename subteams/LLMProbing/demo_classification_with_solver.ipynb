{
  "nbformat": 4,
  "nbformat_minor": 0,
  "metadata": {
    "colab": {
      "provenance": [],
      "collapsed_sections": [
        "PR6gKWGCA33U"
      ],
      "authorship_tag": "ABX9TyNR21B5ZcK+NOrBumJDpOmn"
    },
    "kernelspec": {
      "name": "python3",
      "display_name": "Python 3"
    },
    "language_info": {
      "name": "python"
    }
  },
  "cells": [
    {
      "cell_type": "markdown",
      "metadata": {
        "id": "PR6gKWGCA33U"
      },
      "source": [
        "# Setup"
      ]
    },
    {
      "cell_type": "code",
      "execution_count": 1,
      "metadata": {
        "id": "Cj47fHvbAkG7",
        "colab": {
          "base_uri": "https://localhost:8080/"
        },
        "outputId": "4f4e9064-b631-4d44-b53a-c2b705dbb198"
      },
      "outputs": [
        {
          "output_type": "stream",
          "name": "stdout",
          "text": [
            "Requirement already satisfied: torch==2.0.0 in /usr/local/lib/python3.11/dist-packages (2.0.0)\n",
            "Requirement already satisfied: filelock in /usr/local/lib/python3.11/dist-packages (from torch==2.0.0) (3.18.0)\n",
            "Requirement already satisfied: typing-extensions in /usr/local/lib/python3.11/dist-packages (from torch==2.0.0) (4.13.1)\n",
            "Requirement already satisfied: sympy in /usr/local/lib/python3.11/dist-packages (from torch==2.0.0) (1.13.1)\n",
            "Requirement already satisfied: networkx in /usr/local/lib/python3.11/dist-packages (from torch==2.0.0) (3.4.2)\n",
            "Requirement already satisfied: jinja2 in /usr/local/lib/python3.11/dist-packages (from torch==2.0.0) (3.1.6)\n",
            "Requirement already satisfied: nvidia-cuda-nvrtc-cu11==11.7.99 in /usr/local/lib/python3.11/dist-packages (from torch==2.0.0) (11.7.99)\n",
            "Requirement already satisfied: nvidia-cuda-runtime-cu11==11.7.99 in /usr/local/lib/python3.11/dist-packages (from torch==2.0.0) (11.7.99)\n",
            "Requirement already satisfied: nvidia-cuda-cupti-cu11==11.7.101 in /usr/local/lib/python3.11/dist-packages (from torch==2.0.0) (11.7.101)\n",
            "Requirement already satisfied: nvidia-cudnn-cu11==8.5.0.96 in /usr/local/lib/python3.11/dist-packages (from torch==2.0.0) (8.5.0.96)\n",
            "Requirement already satisfied: nvidia-cublas-cu11==11.10.3.66 in /usr/local/lib/python3.11/dist-packages (from torch==2.0.0) (11.10.3.66)\n",
            "Requirement already satisfied: nvidia-cufft-cu11==10.9.0.58 in /usr/local/lib/python3.11/dist-packages (from torch==2.0.0) (10.9.0.58)\n",
            "Requirement already satisfied: nvidia-curand-cu11==10.2.10.91 in /usr/local/lib/python3.11/dist-packages (from torch==2.0.0) (10.2.10.91)\n",
            "Requirement already satisfied: nvidia-cusolver-cu11==11.4.0.1 in /usr/local/lib/python3.11/dist-packages (from torch==2.0.0) (11.4.0.1)\n",
            "Requirement already satisfied: nvidia-cusparse-cu11==11.7.4.91 in /usr/local/lib/python3.11/dist-packages (from torch==2.0.0) (11.7.4.91)\n",
            "Requirement already satisfied: nvidia-nccl-cu11==2.14.3 in /usr/local/lib/python3.11/dist-packages (from torch==2.0.0) (2.14.3)\n",
            "Requirement already satisfied: nvidia-nvtx-cu11==11.7.91 in /usr/local/lib/python3.11/dist-packages (from torch==2.0.0) (11.7.91)\n",
            "Requirement already satisfied: triton==2.0.0 in /usr/local/lib/python3.11/dist-packages (from torch==2.0.0) (2.0.0)\n",
            "Requirement already satisfied: setuptools in /usr/local/lib/python3.11/dist-packages (from nvidia-cublas-cu11==11.10.3.66->torch==2.0.0) (75.2.0)\n",
            "Requirement already satisfied: wheel in /usr/local/lib/python3.11/dist-packages (from nvidia-cublas-cu11==11.10.3.66->torch==2.0.0) (0.45.1)\n",
            "Requirement already satisfied: cmake in /usr/local/lib/python3.11/dist-packages (from triton==2.0.0->torch==2.0.0) (3.31.6)\n",
            "Requirement already satisfied: lit in /usr/local/lib/python3.11/dist-packages (from triton==2.0.0->torch==2.0.0) (18.1.8)\n",
            "Requirement already satisfied: MarkupSafe>=2.0 in /usr/local/lib/python3.11/dist-packages (from jinja2->torch==2.0.0) (3.0.2)\n",
            "Requirement already satisfied: mpmath<1.4,>=1.1.0 in /usr/local/lib/python3.11/dist-packages (from sympy->torch==2.0.0) (1.3.0)\n",
            "Requirement already satisfied: numpy==1.23.5 in /usr/local/lib/python3.11/dist-packages (1.23.5)\n"
          ]
        }
      ],
      "source": [
        "# required for odeformer, although it's annoying to run these so i made the required changes in odeformer\n",
        "%pip install torch==2.0.0\n",
        "%pip install numpy==1.23.5\n",
        "\n",
        "# changed arg weights_only = False in torch.load in sklearn_wrapper to fix a loading error from running dstr = odeformer.model.SymbolicTransformerRegressor, i.e.\n",
        "# model = torch.load(model_path, weights_only=False)\n",
        "\n",
        "# also changed np.infty to np.inf"
      ]
    },
    {
      "cell_type": "code",
      "execution_count": 2,
      "metadata": {
        "colab": {
          "base_uri": "https://localhost:8080/"
        },
        "id": "DnJbChKm_rAW",
        "outputId": "7902107f-b3a4-44e2-fab1-4a3600bbe355"
      },
      "outputs": [
        {
          "output_type": "stream",
          "name": "stdout",
          "text": [
            "Mounted at /content/drive\n"
          ]
        }
      ],
      "source": [
        "# give colab permission to access drive\n",
        "from google.colab import drive\n",
        "drive.mount('/content/drive', force_remount=True)"
      ]
    },
    {
      "cell_type": "code",
      "execution_count": 3,
      "metadata": {
        "id": "KGLNHQRhAmoK"
      },
      "outputs": [],
      "source": [
        "# replace with your drive paths to MIVLE repo, odeformer repo, and shared probing_data folder\n",
        "repo_path = '/content/drive/MyDrive/github/subteams/LLMProbing'\n",
        "odeformer_path = '/content/drive/MyDrive/aisc'\n",
        "samples_path = '/content/drive/MyDrive/github/subteams/LLMProbing/local_experiment_data/samples/demo_manual'\n",
        "activations_path = '/content/drive/MyDrive/github/subteams/LLMProbing/local_experiment_data/activations/demo_manual_new'\n",
        "probes_path = '/content/drive/MyDrive/github/subteams/LLMProbing/local_experiment_data/probes/demo_exp_solver'"
      ]
    },
    {
      "cell_type": "code",
      "execution_count": 4,
      "metadata": {
        "id": "mXd7gMCkAujo"
      },
      "outputs": [],
      "source": [
        "import sys\n",
        "import importlib\n",
        "sys.path.append(repo_path)\n",
        "sys.path.append(odeformer_path)\n",
        "import numpy as np\n",
        "import os\n",
        "import pickle"
      ]
    },
    {
      "cell_type": "code",
      "execution_count": 5,
      "metadata": {
        "colab": {
          "base_uri": "https://localhost:8080/"
        },
        "id": "hFXUhPhXAzxc",
        "outputId": "c066acad-7ee3-4449-8ed8-9eb74a815d6e"
      },
      "outputs": [
        {
          "output_type": "stream",
          "name": "stdout",
          "text": [
            "Downloading pretrained model and saving to odeformer.pt\n"
          ]
        },
        {
          "output_type": "stream",
          "name": "stderr",
          "text": [
            "Downloading...\n",
            "From (original): https://drive.google.com/uc?id=1L_UZ0qgrBVkRuhg5j3BQoGxlvMk_Pm1W\n",
            "From (redirected): https://drive.google.com/uc?id=1L_UZ0qgrBVkRuhg5j3BQoGxlvMk_Pm1W&confirm=t&uuid=791aba31-a528-41c0-a258-97ad4ac3cec7\n",
            "To: /content/odeformer.pt\n",
            "100%|██████████| 465M/465M [00:06<00:00, 69.6MB/s]\n"
          ]
        },
        {
          "output_type": "stream",
          "name": "stdout",
          "text": [
            "Loaded pretrained model\n"
          ]
        }
      ],
      "source": [
        "import odeformer.model\n",
        "dstr = odeformer.model.SymbolicTransformerRegressor(from_pretrained=True)\n",
        "model_args = {'beam_size': 10, 'beam_temperature': 0.8} # higher beam temp seems to be better for avoiding nans in solutions\n",
        "dstr.set_model_args(model_args)"
      ]
    },
    {
      "cell_type": "markdown",
      "source": [
        "# Manual Sample Generation"
      ],
      "metadata": {
        "id": "x3OpISsvzN25"
      }
    },
    {
      "cell_type": "code",
      "source": [
        "# from src.sample_generation import ManualSamplesGenerator"
      ],
      "metadata": {
        "id": "4d-5VwP7cBad"
      },
      "execution_count": 6,
      "outputs": []
    },
    {
      "cell_type": "code",
      "source": [
        "# msg = ManualSamplesGenerator(samples_path=samples_path)"
      ],
      "metadata": {
        "id": "5GoSjUZezTbY"
      },
      "execution_count": 7,
      "outputs": []
    },
    {
      "cell_type": "code",
      "source": [
        "# # Times array\n",
        "# t_values = np.linspace(1, 10, 50)\n",
        "\n",
        "# # Exponential parameters\n",
        "# c_values = np.linspace(-10,10, 2)\n",
        "# a_values = np.linspace(-10,10, 5)\n",
        "\n",
        "# # Hyperbolic parameters\n",
        "# t0_values = np.linspace(10.1, 100, 5)"
      ],
      "metadata": {
        "id": "7waihYWV4KLN"
      },
      "execution_count": 8,
      "outputs": []
    },
    {
      "cell_type": "code",
      "source": [
        "# # Generate exponential samples\n",
        "# msg.generate_exponential_samples(t_values, c_values, a_values)"
      ],
      "metadata": {
        "id": "E4Buw9n65sr-"
      },
      "execution_count": 9,
      "outputs": []
    },
    {
      "cell_type": "code",
      "source": [
        "# # Generate hyperbolic samples\n",
        "# msg.generate_hyperbolic_samples(t_values, c_values, t0_values)"
      ],
      "metadata": {
        "id": "-M2ADfC236CP"
      },
      "execution_count": 10,
      "outputs": []
    },
    {
      "cell_type": "markdown",
      "source": [
        "# Extract activations"
      ],
      "metadata": {
        "id": "RKk-SImVTxfO"
      }
    },
    {
      "cell_type": "code",
      "source": [
        "# from src.activation_extraction import ActivationsExtractor"
      ],
      "metadata": {
        "id": "YX-bd7VgT01W"
      },
      "execution_count": 11,
      "outputs": []
    },
    {
      "cell_type": "code",
      "source": [
        "# act_extractor = ActivationsExtractor()"
      ],
      "metadata": {
        "id": "ESVnE-zzT1Xe"
      },
      "execution_count": 12,
      "outputs": []
    },
    {
      "cell_type": "code",
      "source": [
        "# act_extractor.extract_activations(dstr, samples_path, activations_path)"
      ],
      "metadata": {
        "id": "TymDdmgdT41N"
      },
      "execution_count": 13,
      "outputs": []
    },
    {
      "cell_type": "markdown",
      "source": [
        "# Train probes"
      ],
      "metadata": {
        "id": "f_mtmBTVOYUJ"
      }
    },
    {
      "cell_type": "code",
      "source": [
        "import experiments"
      ],
      "metadata": {
        "id": "CAq3gAqyOZPB"
      },
      "execution_count": 6,
      "outputs": []
    },
    {
      "cell_type": "code",
      "source": [
        "target_feature = 'exponential'\n",
        "r2_threshold = -1\n",
        "layers = [idx for idx in range(0, 16)]"
      ],
      "metadata": {
        "id": "haQf0n4JOb-Z"
      },
      "execution_count": 7,
      "outputs": []
    },
    {
      "cell_type": "code",
      "execution_count": 8,
      "metadata": {
        "colab": {
          "base_uri": "https://localhost:8080/"
        },
        "collapsed": true,
        "id": "nNG3-ZRq5mvn",
        "outputId": "a0b12659-c3ee-4bf3-9bec-4546e200350e"
      },
      "outputs": [
        {
          "output_type": "stream",
          "name": "stdout",
          "text": [
            "Probe trained on layer 0: Test Set Loss 0.8947817087173462, Test Set Accuracy 1.0\n",
            "Saved state dictionary to /content/drive/MyDrive/github/subteams/LLMProbing/local_experiment_data/probes/demo_exp_solver/probe_exponential_0_0.pt\n",
            "Probe trained on layer 1: Test Set Loss 0.37383314967155457, Test Set Accuracy 1.0\n",
            "Saved state dictionary to /content/drive/MyDrive/github/subteams/LLMProbing/local_experiment_data/probes/demo_exp_solver/probe_exponential_1_0.pt\n",
            "Probe trained on layer 2: Test Set Loss 0.6128058433532715, Test Set Accuracy 1.0\n",
            "Saved state dictionary to /content/drive/MyDrive/github/subteams/LLMProbing/local_experiment_data/probes/demo_exp_solver/probe_exponential_2_0.pt\n",
            "Probe trained on layer 3: Test Set Loss 0.6654530763626099, Test Set Accuracy 0.5\n",
            "Saved state dictionary to /content/drive/MyDrive/github/subteams/LLMProbing/local_experiment_data/probes/demo_exp_solver/probe_exponential_3_0.pt\n",
            "Probe trained on layer 4: Test Set Loss 5.045936859460198e-07, Test Set Accuracy 1.0\n",
            "Saved state dictionary to /content/drive/MyDrive/github/subteams/LLMProbing/local_experiment_data/probes/demo_exp_solver/probe_exponential_4_0.pt\n",
            "Probe trained on layer 5: Test Set Loss 8.3425227785483e-05, Test Set Accuracy 1.0\n",
            "Saved state dictionary to /content/drive/MyDrive/github/subteams/LLMProbing/local_experiment_data/probes/demo_exp_solver/probe_exponential_5_0.pt\n",
            "Probe trained on layer 6: Test Set Loss 0.014485156163573265, Test Set Accuracy 1.0\n",
            "Saved state dictionary to /content/drive/MyDrive/github/subteams/LLMProbing/local_experiment_data/probes/demo_exp_solver/probe_exponential_6_0.pt\n",
            "Probe trained on layer 7: Test Set Loss 0.024202853441238403, Test Set Accuracy 1.0\n",
            "Saved state dictionary to /content/drive/MyDrive/github/subteams/LLMProbing/local_experiment_data/probes/demo_exp_solver/probe_exponential_7_0.pt\n",
            "Probe trained on layer 8: Test Set Loss 3.312778176223219e-07, Test Set Accuracy 1.0\n",
            "Saved state dictionary to /content/drive/MyDrive/github/subteams/LLMProbing/local_experiment_data/probes/demo_exp_solver/probe_exponential_8_0.pt\n",
            "Probe trained on layer 9: Test Set Loss 5.458161922433646e-07, Test Set Accuracy 1.0\n",
            "Saved state dictionary to /content/drive/MyDrive/github/subteams/LLMProbing/local_experiment_data/probes/demo_exp_solver/probe_exponential_9_0.pt\n",
            "Probe trained on layer 10: Test Set Loss 6.179713096798878e-08, Test Set Accuracy 1.0\n",
            "Saved state dictionary to /content/drive/MyDrive/github/subteams/LLMProbing/local_experiment_data/probes/demo_exp_solver/probe_exponential_10_0.pt\n",
            "Probe trained on layer 11: Test Set Loss 2.3102657564777473e-09, Test Set Accuracy 1.0\n",
            "Saved state dictionary to /content/drive/MyDrive/github/subteams/LLMProbing/local_experiment_data/probes/demo_exp_solver/probe_exponential_11_0.pt\n",
            "Probe trained on layer 12: Test Set Loss 2.945064636605821e-09, Test Set Accuracy 1.0\n",
            "Saved state dictionary to /content/drive/MyDrive/github/subteams/LLMProbing/local_experiment_data/probes/demo_exp_solver/probe_exponential_12_0.pt\n",
            "Probe trained on layer 13: Test Set Loss 3.95830923594076e-10, Test Set Accuracy 1.0\n",
            "Saved state dictionary to /content/drive/MyDrive/github/subteams/LLMProbing/local_experiment_data/probes/demo_exp_solver/probe_exponential_13_0.pt\n",
            "Probe trained on layer 14: Test Set Loss 3.042814000764338e-08, Test Set Accuracy 1.0\n",
            "Saved state dictionary to /content/drive/MyDrive/github/subteams/LLMProbing/local_experiment_data/probes/demo_exp_solver/probe_exponential_14_0.pt\n",
            "Probe trained on layer 15: Test Set Loss 5.7128080044321905e-09, Test Set Accuracy 1.0\n",
            "Saved state dictionary to /content/drive/MyDrive/github/subteams/LLMProbing/local_experiment_data/probes/demo_exp_solver/probe_exponential_15_0.pt\n"
          ]
        }
      ],
      "source": [
        "expt_results = experiments.run_experiment.separability_testing_w_solver(target_feature=target_feature, activations_path=activations_path, \\\n",
        "                     probes_path=probes_path, \\\n",
        "                     layers=layers, r2_threshold=r2_threshold)\n",
        "# save experiment results\n",
        "with open(f'{probes_path}/experiment_data.pt', 'wb') as f:\n",
        "    pickle.dump(expt_results, f)"
      ]
    },
    {
      "cell_type": "code",
      "execution_count": 9,
      "metadata": {
        "colab": {
          "base_uri": "https://localhost:8080/",
          "height": 551
        },
        "collapsed": true,
        "id": "FcXZgYpC6ju8",
        "outputId": "7c4ff9d8-9d18-4971-bea3-d3017f80ec9a"
      },
      "outputs": [
        {
          "output_type": "execute_result",
          "data": {
            "text/plain": [
              "    layer     test_loss  test_accuracy test_fail_ids  final_train_loss  \\\n",
              "0       0  8.947817e-01            1.0            []      9.327872e-12   \n",
              "1       1  3.738331e-01            1.0            []      1.016587e-11   \n",
              "2       2  6.128058e-01            1.0            []      1.171885e-11   \n",
              "3       3  6.654531e-01            0.5       [exp_9]      6.607557e-10   \n",
              "4       4  5.045937e-07            1.0            []      6.736886e-07   \n",
              "5       5  8.342523e-05            1.0            []      9.685049e-05   \n",
              "6       6  1.448516e-02            1.0            []      8.324804e-02   \n",
              "7       7  2.420285e-02            1.0            []      2.538686e-02   \n",
              "8       8  3.312778e-07            1.0            []      8.758691e-06   \n",
              "9       9  5.458162e-07            1.0            []      6.134441e-07   \n",
              "10     10  6.179713e-08            1.0            []      1.254278e-07   \n",
              "11     11  2.310266e-09            1.0            []      8.382096e-07   \n",
              "12     12  2.945065e-09            1.0            []      4.191776e-08   \n",
              "13     13  3.958309e-10            1.0            []      2.481155e-08   \n",
              "14     14  3.042814e-08            1.0            []      8.334803e-08   \n",
              "15     15  5.712808e-09            1.0            []      2.613993e-09   \n",
              "\n",
              "    final_train_accuracy  final_val_loss  final_val_accuracy  \n",
              "0                    1.0    5.867131e-01                 1.0  \n",
              "1                    1.0    4.074759e-01                 1.0  \n",
              "2                    1.0    6.535728e-01                 0.5  \n",
              "3                    1.0    4.360937e-01                 1.0  \n",
              "4                    1.0    2.320766e-06                 1.0  \n",
              "5                    1.0    5.001225e-05                 1.0  \n",
              "6                    1.0    3.524316e-02                 1.0  \n",
              "7                    1.0    5.574674e-02                 1.0  \n",
              "8                    1.0    1.785763e-06                 1.0  \n",
              "9                    1.0    9.160642e-07                 1.0  \n",
              "10                   1.0    3.963904e-07                 1.0  \n",
              "11                   1.0    5.142156e-06                 1.0  \n",
              "12                   1.0    2.501006e-07                 1.0  \n",
              "13                   1.0    1.314638e-07                 1.0  \n",
              "14                   1.0    2.845483e-07                 1.0  \n",
              "15                   1.0    5.846474e-09                 1.0  "
            ],
            "text/html": [
              "\n",
              "  <div id=\"df-e905bf8a-93d4-4b5e-bc88-8cc146ea693d\" class=\"colab-df-container\">\n",
              "    <div>\n",
              "<style scoped>\n",
              "    .dataframe tbody tr th:only-of-type {\n",
              "        vertical-align: middle;\n",
              "    }\n",
              "\n",
              "    .dataframe tbody tr th {\n",
              "        vertical-align: top;\n",
              "    }\n",
              "\n",
              "    .dataframe thead th {\n",
              "        text-align: right;\n",
              "    }\n",
              "</style>\n",
              "<table border=\"1\" class=\"dataframe\">\n",
              "  <thead>\n",
              "    <tr style=\"text-align: right;\">\n",
              "      <th></th>\n",
              "      <th>layer</th>\n",
              "      <th>test_loss</th>\n",
              "      <th>test_accuracy</th>\n",
              "      <th>test_fail_ids</th>\n",
              "      <th>final_train_loss</th>\n",
              "      <th>final_train_accuracy</th>\n",
              "      <th>final_val_loss</th>\n",
              "      <th>final_val_accuracy</th>\n",
              "    </tr>\n",
              "  </thead>\n",
              "  <tbody>\n",
              "    <tr>\n",
              "      <th>0</th>\n",
              "      <td>0</td>\n",
              "      <td>8.947817e-01</td>\n",
              "      <td>1.0</td>\n",
              "      <td>[]</td>\n",
              "      <td>9.327872e-12</td>\n",
              "      <td>1.0</td>\n",
              "      <td>5.867131e-01</td>\n",
              "      <td>1.0</td>\n",
              "    </tr>\n",
              "    <tr>\n",
              "      <th>1</th>\n",
              "      <td>1</td>\n",
              "      <td>3.738331e-01</td>\n",
              "      <td>1.0</td>\n",
              "      <td>[]</td>\n",
              "      <td>1.016587e-11</td>\n",
              "      <td>1.0</td>\n",
              "      <td>4.074759e-01</td>\n",
              "      <td>1.0</td>\n",
              "    </tr>\n",
              "    <tr>\n",
              "      <th>2</th>\n",
              "      <td>2</td>\n",
              "      <td>6.128058e-01</td>\n",
              "      <td>1.0</td>\n",
              "      <td>[]</td>\n",
              "      <td>1.171885e-11</td>\n",
              "      <td>1.0</td>\n",
              "      <td>6.535728e-01</td>\n",
              "      <td>0.5</td>\n",
              "    </tr>\n",
              "    <tr>\n",
              "      <th>3</th>\n",
              "      <td>3</td>\n",
              "      <td>6.654531e-01</td>\n",
              "      <td>0.5</td>\n",
              "      <td>[exp_9]</td>\n",
              "      <td>6.607557e-10</td>\n",
              "      <td>1.0</td>\n",
              "      <td>4.360937e-01</td>\n",
              "      <td>1.0</td>\n",
              "    </tr>\n",
              "    <tr>\n",
              "      <th>4</th>\n",
              "      <td>4</td>\n",
              "      <td>5.045937e-07</td>\n",
              "      <td>1.0</td>\n",
              "      <td>[]</td>\n",
              "      <td>6.736886e-07</td>\n",
              "      <td>1.0</td>\n",
              "      <td>2.320766e-06</td>\n",
              "      <td>1.0</td>\n",
              "    </tr>\n",
              "    <tr>\n",
              "      <th>5</th>\n",
              "      <td>5</td>\n",
              "      <td>8.342523e-05</td>\n",
              "      <td>1.0</td>\n",
              "      <td>[]</td>\n",
              "      <td>9.685049e-05</td>\n",
              "      <td>1.0</td>\n",
              "      <td>5.001225e-05</td>\n",
              "      <td>1.0</td>\n",
              "    </tr>\n",
              "    <tr>\n",
              "      <th>6</th>\n",
              "      <td>6</td>\n",
              "      <td>1.448516e-02</td>\n",
              "      <td>1.0</td>\n",
              "      <td>[]</td>\n",
              "      <td>8.324804e-02</td>\n",
              "      <td>1.0</td>\n",
              "      <td>3.524316e-02</td>\n",
              "      <td>1.0</td>\n",
              "    </tr>\n",
              "    <tr>\n",
              "      <th>7</th>\n",
              "      <td>7</td>\n",
              "      <td>2.420285e-02</td>\n",
              "      <td>1.0</td>\n",
              "      <td>[]</td>\n",
              "      <td>2.538686e-02</td>\n",
              "      <td>1.0</td>\n",
              "      <td>5.574674e-02</td>\n",
              "      <td>1.0</td>\n",
              "    </tr>\n",
              "    <tr>\n",
              "      <th>8</th>\n",
              "      <td>8</td>\n",
              "      <td>3.312778e-07</td>\n",
              "      <td>1.0</td>\n",
              "      <td>[]</td>\n",
              "      <td>8.758691e-06</td>\n",
              "      <td>1.0</td>\n",
              "      <td>1.785763e-06</td>\n",
              "      <td>1.0</td>\n",
              "    </tr>\n",
              "    <tr>\n",
              "      <th>9</th>\n",
              "      <td>9</td>\n",
              "      <td>5.458162e-07</td>\n",
              "      <td>1.0</td>\n",
              "      <td>[]</td>\n",
              "      <td>6.134441e-07</td>\n",
              "      <td>1.0</td>\n",
              "      <td>9.160642e-07</td>\n",
              "      <td>1.0</td>\n",
              "    </tr>\n",
              "    <tr>\n",
              "      <th>10</th>\n",
              "      <td>10</td>\n",
              "      <td>6.179713e-08</td>\n",
              "      <td>1.0</td>\n",
              "      <td>[]</td>\n",
              "      <td>1.254278e-07</td>\n",
              "      <td>1.0</td>\n",
              "      <td>3.963904e-07</td>\n",
              "      <td>1.0</td>\n",
              "    </tr>\n",
              "    <tr>\n",
              "      <th>11</th>\n",
              "      <td>11</td>\n",
              "      <td>2.310266e-09</td>\n",
              "      <td>1.0</td>\n",
              "      <td>[]</td>\n",
              "      <td>8.382096e-07</td>\n",
              "      <td>1.0</td>\n",
              "      <td>5.142156e-06</td>\n",
              "      <td>1.0</td>\n",
              "    </tr>\n",
              "    <tr>\n",
              "      <th>12</th>\n",
              "      <td>12</td>\n",
              "      <td>2.945065e-09</td>\n",
              "      <td>1.0</td>\n",
              "      <td>[]</td>\n",
              "      <td>4.191776e-08</td>\n",
              "      <td>1.0</td>\n",
              "      <td>2.501006e-07</td>\n",
              "      <td>1.0</td>\n",
              "    </tr>\n",
              "    <tr>\n",
              "      <th>13</th>\n",
              "      <td>13</td>\n",
              "      <td>3.958309e-10</td>\n",
              "      <td>1.0</td>\n",
              "      <td>[]</td>\n",
              "      <td>2.481155e-08</td>\n",
              "      <td>1.0</td>\n",
              "      <td>1.314638e-07</td>\n",
              "      <td>1.0</td>\n",
              "    </tr>\n",
              "    <tr>\n",
              "      <th>14</th>\n",
              "      <td>14</td>\n",
              "      <td>3.042814e-08</td>\n",
              "      <td>1.0</td>\n",
              "      <td>[]</td>\n",
              "      <td>8.334803e-08</td>\n",
              "      <td>1.0</td>\n",
              "      <td>2.845483e-07</td>\n",
              "      <td>1.0</td>\n",
              "    </tr>\n",
              "    <tr>\n",
              "      <th>15</th>\n",
              "      <td>15</td>\n",
              "      <td>5.712808e-09</td>\n",
              "      <td>1.0</td>\n",
              "      <td>[]</td>\n",
              "      <td>2.613993e-09</td>\n",
              "      <td>1.0</td>\n",
              "      <td>5.846474e-09</td>\n",
              "      <td>1.0</td>\n",
              "    </tr>\n",
              "  </tbody>\n",
              "</table>\n",
              "</div>\n",
              "    <div class=\"colab-df-buttons\">\n",
              "\n",
              "  <div class=\"colab-df-container\">\n",
              "    <button class=\"colab-df-convert\" onclick=\"convertToInteractive('df-e905bf8a-93d4-4b5e-bc88-8cc146ea693d')\"\n",
              "            title=\"Convert this dataframe to an interactive table.\"\n",
              "            style=\"display:none;\">\n",
              "\n",
              "  <svg xmlns=\"http://www.w3.org/2000/svg\" height=\"24px\" viewBox=\"0 -960 960 960\">\n",
              "    <path d=\"M120-120v-720h720v720H120Zm60-500h600v-160H180v160Zm220 220h160v-160H400v160Zm0 220h160v-160H400v160ZM180-400h160v-160H180v160Zm440 0h160v-160H620v160ZM180-180h160v-160H180v160Zm440 0h160v-160H620v160Z\"/>\n",
              "  </svg>\n",
              "    </button>\n",
              "\n",
              "  <style>\n",
              "    .colab-df-container {\n",
              "      display:flex;\n",
              "      gap: 12px;\n",
              "    }\n",
              "\n",
              "    .colab-df-convert {\n",
              "      background-color: #E8F0FE;\n",
              "      border: none;\n",
              "      border-radius: 50%;\n",
              "      cursor: pointer;\n",
              "      display: none;\n",
              "      fill: #1967D2;\n",
              "      height: 32px;\n",
              "      padding: 0 0 0 0;\n",
              "      width: 32px;\n",
              "    }\n",
              "\n",
              "    .colab-df-convert:hover {\n",
              "      background-color: #E2EBFA;\n",
              "      box-shadow: 0px 1px 2px rgba(60, 64, 67, 0.3), 0px 1px 3px 1px rgba(60, 64, 67, 0.15);\n",
              "      fill: #174EA6;\n",
              "    }\n",
              "\n",
              "    .colab-df-buttons div {\n",
              "      margin-bottom: 4px;\n",
              "    }\n",
              "\n",
              "    [theme=dark] .colab-df-convert {\n",
              "      background-color: #3B4455;\n",
              "      fill: #D2E3FC;\n",
              "    }\n",
              "\n",
              "    [theme=dark] .colab-df-convert:hover {\n",
              "      background-color: #434B5C;\n",
              "      box-shadow: 0px 1px 3px 1px rgba(0, 0, 0, 0.15);\n",
              "      filter: drop-shadow(0px 1px 2px rgba(0, 0, 0, 0.3));\n",
              "      fill: #FFFFFF;\n",
              "    }\n",
              "  </style>\n",
              "\n",
              "    <script>\n",
              "      const buttonEl =\n",
              "        document.querySelector('#df-e905bf8a-93d4-4b5e-bc88-8cc146ea693d button.colab-df-convert');\n",
              "      buttonEl.style.display =\n",
              "        google.colab.kernel.accessAllowed ? 'block' : 'none';\n",
              "\n",
              "      async function convertToInteractive(key) {\n",
              "        const element = document.querySelector('#df-e905bf8a-93d4-4b5e-bc88-8cc146ea693d');\n",
              "        const dataTable =\n",
              "          await google.colab.kernel.invokeFunction('convertToInteractive',\n",
              "                                                    [key], {});\n",
              "        if (!dataTable) return;\n",
              "\n",
              "        const docLinkHtml = 'Like what you see? Visit the ' +\n",
              "          '<a target=\"_blank\" href=https://colab.research.google.com/notebooks/data_table.ipynb>data table notebook</a>'\n",
              "          + ' to learn more about interactive tables.';\n",
              "        element.innerHTML = '';\n",
              "        dataTable['output_type'] = 'display_data';\n",
              "        await google.colab.output.renderOutput(dataTable, element);\n",
              "        const docLink = document.createElement('div');\n",
              "        docLink.innerHTML = docLinkHtml;\n",
              "        element.appendChild(docLink);\n",
              "      }\n",
              "    </script>\n",
              "  </div>\n",
              "\n",
              "\n",
              "<div id=\"df-0f2cca0e-f49e-4140-9aa3-50adbcf2d031\">\n",
              "  <button class=\"colab-df-quickchart\" onclick=\"quickchart('df-0f2cca0e-f49e-4140-9aa3-50adbcf2d031')\"\n",
              "            title=\"Suggest charts\"\n",
              "            style=\"display:none;\">\n",
              "\n",
              "<svg xmlns=\"http://www.w3.org/2000/svg\" height=\"24px\"viewBox=\"0 0 24 24\"\n",
              "     width=\"24px\">\n",
              "    <g>\n",
              "        <path d=\"M19 3H5c-1.1 0-2 .9-2 2v14c0 1.1.9 2 2 2h14c1.1 0 2-.9 2-2V5c0-1.1-.9-2-2-2zM9 17H7v-7h2v7zm4 0h-2V7h2v10zm4 0h-2v-4h2v4z\"/>\n",
              "    </g>\n",
              "</svg>\n",
              "  </button>\n",
              "\n",
              "<style>\n",
              "  .colab-df-quickchart {\n",
              "      --bg-color: #E8F0FE;\n",
              "      --fill-color: #1967D2;\n",
              "      --hover-bg-color: #E2EBFA;\n",
              "      --hover-fill-color: #174EA6;\n",
              "      --disabled-fill-color: #AAA;\n",
              "      --disabled-bg-color: #DDD;\n",
              "  }\n",
              "\n",
              "  [theme=dark] .colab-df-quickchart {\n",
              "      --bg-color: #3B4455;\n",
              "      --fill-color: #D2E3FC;\n",
              "      --hover-bg-color: #434B5C;\n",
              "      --hover-fill-color: #FFFFFF;\n",
              "      --disabled-bg-color: #3B4455;\n",
              "      --disabled-fill-color: #666;\n",
              "  }\n",
              "\n",
              "  .colab-df-quickchart {\n",
              "    background-color: var(--bg-color);\n",
              "    border: none;\n",
              "    border-radius: 50%;\n",
              "    cursor: pointer;\n",
              "    display: none;\n",
              "    fill: var(--fill-color);\n",
              "    height: 32px;\n",
              "    padding: 0;\n",
              "    width: 32px;\n",
              "  }\n",
              "\n",
              "  .colab-df-quickchart:hover {\n",
              "    background-color: var(--hover-bg-color);\n",
              "    box-shadow: 0 1px 2px rgba(60, 64, 67, 0.3), 0 1px 3px 1px rgba(60, 64, 67, 0.15);\n",
              "    fill: var(--button-hover-fill-color);\n",
              "  }\n",
              "\n",
              "  .colab-df-quickchart-complete:disabled,\n",
              "  .colab-df-quickchart-complete:disabled:hover {\n",
              "    background-color: var(--disabled-bg-color);\n",
              "    fill: var(--disabled-fill-color);\n",
              "    box-shadow: none;\n",
              "  }\n",
              "\n",
              "  .colab-df-spinner {\n",
              "    border: 2px solid var(--fill-color);\n",
              "    border-color: transparent;\n",
              "    border-bottom-color: var(--fill-color);\n",
              "    animation:\n",
              "      spin 1s steps(1) infinite;\n",
              "  }\n",
              "\n",
              "  @keyframes spin {\n",
              "    0% {\n",
              "      border-color: transparent;\n",
              "      border-bottom-color: var(--fill-color);\n",
              "      border-left-color: var(--fill-color);\n",
              "    }\n",
              "    20% {\n",
              "      border-color: transparent;\n",
              "      border-left-color: var(--fill-color);\n",
              "      border-top-color: var(--fill-color);\n",
              "    }\n",
              "    30% {\n",
              "      border-color: transparent;\n",
              "      border-left-color: var(--fill-color);\n",
              "      border-top-color: var(--fill-color);\n",
              "      border-right-color: var(--fill-color);\n",
              "    }\n",
              "    40% {\n",
              "      border-color: transparent;\n",
              "      border-right-color: var(--fill-color);\n",
              "      border-top-color: var(--fill-color);\n",
              "    }\n",
              "    60% {\n",
              "      border-color: transparent;\n",
              "      border-right-color: var(--fill-color);\n",
              "    }\n",
              "    80% {\n",
              "      border-color: transparent;\n",
              "      border-right-color: var(--fill-color);\n",
              "      border-bottom-color: var(--fill-color);\n",
              "    }\n",
              "    90% {\n",
              "      border-color: transparent;\n",
              "      border-bottom-color: var(--fill-color);\n",
              "    }\n",
              "  }\n",
              "</style>\n",
              "\n",
              "  <script>\n",
              "    async function quickchart(key) {\n",
              "      const quickchartButtonEl =\n",
              "        document.querySelector('#' + key + ' button');\n",
              "      quickchartButtonEl.disabled = true;  // To prevent multiple clicks.\n",
              "      quickchartButtonEl.classList.add('colab-df-spinner');\n",
              "      try {\n",
              "        const charts = await google.colab.kernel.invokeFunction(\n",
              "            'suggestCharts', [key], {});\n",
              "      } catch (error) {\n",
              "        console.error('Error during call to suggestCharts:', error);\n",
              "      }\n",
              "      quickchartButtonEl.classList.remove('colab-df-spinner');\n",
              "      quickchartButtonEl.classList.add('colab-df-quickchart-complete');\n",
              "    }\n",
              "    (() => {\n",
              "      let quickchartButtonEl =\n",
              "        document.querySelector('#df-0f2cca0e-f49e-4140-9aa3-50adbcf2d031 button');\n",
              "      quickchartButtonEl.style.display =\n",
              "        google.colab.kernel.accessAllowed ? 'block' : 'none';\n",
              "    })();\n",
              "  </script>\n",
              "</div>\n",
              "\n",
              "  <div id=\"id_d3aa8f1c-d4de-440b-9c39-686766f0bfd9\">\n",
              "    <style>\n",
              "      .colab-df-generate {\n",
              "        background-color: #E8F0FE;\n",
              "        border: none;\n",
              "        border-radius: 50%;\n",
              "        cursor: pointer;\n",
              "        display: none;\n",
              "        fill: #1967D2;\n",
              "        height: 32px;\n",
              "        padding: 0 0 0 0;\n",
              "        width: 32px;\n",
              "      }\n",
              "\n",
              "      .colab-df-generate:hover {\n",
              "        background-color: #E2EBFA;\n",
              "        box-shadow: 0px 1px 2px rgba(60, 64, 67, 0.3), 0px 1px 3px 1px rgba(60, 64, 67, 0.15);\n",
              "        fill: #174EA6;\n",
              "      }\n",
              "\n",
              "      [theme=dark] .colab-df-generate {\n",
              "        background-color: #3B4455;\n",
              "        fill: #D2E3FC;\n",
              "      }\n",
              "\n",
              "      [theme=dark] .colab-df-generate:hover {\n",
              "        background-color: #434B5C;\n",
              "        box-shadow: 0px 1px 3px 1px rgba(0, 0, 0, 0.15);\n",
              "        filter: drop-shadow(0px 1px 2px rgba(0, 0, 0, 0.3));\n",
              "        fill: #FFFFFF;\n",
              "      }\n",
              "    </style>\n",
              "    <button class=\"colab-df-generate\" onclick=\"generateWithVariable('expt_results')\"\n",
              "            title=\"Generate code using this dataframe.\"\n",
              "            style=\"display:none;\">\n",
              "\n",
              "  <svg xmlns=\"http://www.w3.org/2000/svg\" height=\"24px\"viewBox=\"0 0 24 24\"\n",
              "       width=\"24px\">\n",
              "    <path d=\"M7,19H8.4L18.45,9,17,7.55,7,17.6ZM5,21V16.75L18.45,3.32a2,2,0,0,1,2.83,0l1.4,1.43a1.91,1.91,0,0,1,.58,1.4,1.91,1.91,0,0,1-.58,1.4L9.25,21ZM18.45,9,17,7.55Zm-12,3A5.31,5.31,0,0,0,4.9,8.1,5.31,5.31,0,0,0,1,6.5,5.31,5.31,0,0,0,4.9,4.9,5.31,5.31,0,0,0,6.5,1,5.31,5.31,0,0,0,8.1,4.9,5.31,5.31,0,0,0,12,6.5,5.46,5.46,0,0,0,6.5,12Z\"/>\n",
              "  </svg>\n",
              "    </button>\n",
              "    <script>\n",
              "      (() => {\n",
              "      const buttonEl =\n",
              "        document.querySelector('#id_d3aa8f1c-d4de-440b-9c39-686766f0bfd9 button.colab-df-generate');\n",
              "      buttonEl.style.display =\n",
              "        google.colab.kernel.accessAllowed ? 'block' : 'none';\n",
              "\n",
              "      buttonEl.onclick = () => {\n",
              "        google.colab.notebook.generateWithVariable('expt_results');\n",
              "      }\n",
              "      })();\n",
              "    </script>\n",
              "  </div>\n",
              "\n",
              "    </div>\n",
              "  </div>\n"
            ],
            "application/vnd.google.colaboratory.intrinsic+json": {
              "type": "dataframe",
              "variable_name": "expt_results",
              "summary": "{\n  \"name\": \"expt_results\",\n  \"rows\": 16,\n  \"fields\": [\n    {\n      \"column\": \"layer\",\n      \"properties\": {\n        \"dtype\": \"number\",\n        \"std\": 4,\n        \"min\": 0,\n        \"max\": 15,\n        \"num_unique_values\": 16,\n        \"samples\": [\n          0,\n          1,\n          5\n        ],\n        \"semantic_type\": \"\",\n        \"description\": \"\"\n      }\n    },\n    {\n      \"column\": \"test_loss\",\n      \"properties\": {\n        \"dtype\": \"number\",\n        \"std\": 0.2990754509441744,\n        \"min\": 3.95830923594076e-10,\n        \"max\": 0.8947817087173462,\n        \"num_unique_values\": 16,\n        \"samples\": [\n          0.8947817087173462,\n          0.37383314967155457,\n          8.3425227785483e-05\n        ],\n        \"semantic_type\": \"\",\n        \"description\": \"\"\n      }\n    },\n    {\n      \"column\": \"test_accuracy\",\n      \"properties\": {\n        \"dtype\": \"number\",\n        \"std\": 0.125,\n        \"min\": 0.5,\n        \"max\": 1.0,\n        \"num_unique_values\": 2,\n        \"samples\": [\n          0.5,\n          1.0\n        ],\n        \"semantic_type\": \"\",\n        \"description\": \"\"\n      }\n    },\n    {\n      \"column\": \"test_fail_ids\",\n      \"properties\": {\n        \"dtype\": \"object\",\n        \"semantic_type\": \"\",\n        \"description\": \"\"\n      }\n    },\n    {\n      \"column\": \"final_train_loss\",\n      \"properties\": {\n        \"dtype\": \"number\",\n        \"std\": 0.021347403668331738,\n        \"min\": 9.32787180829564e-12,\n        \"max\": 0.08324804157018661,\n        \"num_unique_values\": 16,\n        \"samples\": [\n          9.32787180829564e-12,\n          1.0165868147282708e-11\n        ],\n        \"semantic_type\": \"\",\n        \"description\": \"\"\n      }\n    },\n    {\n      \"column\": \"final_train_accuracy\",\n      \"properties\": {\n        \"dtype\": \"number\",\n        \"std\": 0.0,\n        \"min\": 1.0,\n        \"max\": 1.0,\n        \"num_unique_values\": 1,\n        \"samples\": [\n          1.0\n        ],\n        \"semantic_type\": \"\",\n        \"description\": \"\"\n      }\n    },\n    {\n      \"column\": \"final_val_loss\",\n      \"properties\": {\n        \"dtype\": \"number\",\n        \"std\": 0.23612357214873433,\n        \"min\": 5.846473527526541e-09,\n        \"max\": 0.6535727977752686,\n        \"num_unique_values\": 16,\n        \"samples\": [\n          0.5867130756378174\n        ],\n        \"semantic_type\": \"\",\n        \"description\": \"\"\n      }\n    },\n    {\n      \"column\": \"final_val_accuracy\",\n      \"properties\": {\n        \"dtype\": \"number\",\n        \"std\": 0.125,\n        \"min\": 0.5,\n        \"max\": 1.0,\n        \"num_unique_values\": 2,\n        \"samples\": [\n          0.5\n        ],\n        \"semantic_type\": \"\",\n        \"description\": \"\"\n      }\n    }\n  ]\n}"
            }
          },
          "metadata": {},
          "execution_count": 9
        }
      ],
      "source": [
        "expt_results"
      ]
    },
    {
      "cell_type": "markdown",
      "metadata": {
        "id": "x2AwmdFJ_qk_"
      },
      "source": [
        "# Plot results"
      ]
    },
    {
      "cell_type": "code",
      "execution_count": 10,
      "metadata": {
        "id": "3dCGDVIsOYUW"
      },
      "outputs": [],
      "source": [
        "import experiments.utils as expt_utils"
      ]
    },
    {
      "cell_type": "code",
      "execution_count": 14,
      "metadata": {
        "id": "w7P8pM5wOnRp",
        "colab": {
          "base_uri": "https://localhost:8080/",
          "height": 1000
        },
        "outputId": "a4e08cb6-1e55-4804-f64d-17ca5684d350"
      },
      "outputs": [
        {
          "output_type": "display_data",
          "data": {
            "text/plain": [
              "<Figure size 800x800 with 2 Axes>"
            ],
            "image/png": "[encoded data removed]"
          },
          "metadata": {}
        },
        {
          "output_type": "display_data",
          "data": {
            "text/plain": [
              "<Figure size 800x800 with 2 Axes>"
            ],
            "image/png": "[encoded data removed]"
          },
          "metadata": {}
        }
      ],
      "source": [
        "# load expt results\n",
        "with open(f'{probes_path}/experiment_data.pt', 'rb') as f:\n",
        "    expt_results = pickle.load(f)\n",
        "expt_summary = expt_utils.summarise_experiment(expt_results, incl_acc=True)\n",
        "\n",
        "# plot encoder layers\n",
        "expt_utils.plot_from_summary(expt_summary, descriptor='expvshyp', layers = [0,1,2,3], incl_acc=True)\n",
        "\n",
        "# plot decover layers\n",
        "expt_utils.plot_from_summary(expt_summary, descriptor='evpvshyp', layers = range(4,16), incl_acc=True)"
      ]
    }
  ]
}