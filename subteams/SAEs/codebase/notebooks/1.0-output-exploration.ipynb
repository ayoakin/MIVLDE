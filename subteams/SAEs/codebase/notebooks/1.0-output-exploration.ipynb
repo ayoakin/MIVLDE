{
 "cells": [
  {
   "cell_type": "code",
   "execution_count": 1,
   "metadata": {},
   "outputs": [],
   "source": [
    "import sys\n",
    "import os\n",
    "\n",
    "parent_dir = os.path.abspath(os.path.join(os.getcwd(), \"..\"))\n",
    "\n",
    "if parent_dir not in sys.path:\n",
    "    sys.path.append(parent_dir)\n"
   ]
  },
  {
   "cell_type": "code",
   "execution_count": 2,
   "metadata": {},
   "outputs": [
    {
     "name": "stdout",
     "output_type": "stream",
     "text": [
      "residual_stream\n",
      "\tencoder.outer.residual1\n",
      "\tencoder.outer.residual2\n",
      "\tencoder.outer.residual3\n",
      "mlp_output\n",
      "\tencoder.ffns.1.output\n",
      "\tencoder.ffns.2.output\n",
      "\tencoder.ffns.3.output\n"
     ]
    }
   ],
   "source": [
    "import gzip, pickle\n",
    "\n",
    "with gzip.open('../output/random_10k/batch_1.pkl.gz', 'rb') as file:\n",
    "    collected_activations = pickle.loads(file.read())\n",
    "\n",
    "for key, value in collected_activations[0][1].items():\n",
    "    print(f'{key}')\n",
    "    for subkey in value:\n",
    "        print(f'\\t{subkey}')"
   ]
  }
 ],
 "metadata": {
  "kernelspec": {
   "display_name": ".virt_env",
   "language": "python",
   "name": "python3"
  },
  "language_info": {
   "codemirror_mode": {
    "name": "ipython",
    "version": 3
   },
   "file_extension": ".py",
   "mimetype": "text/x-python",
   "name": "python",
   "nbconvert_exporter": "python",
   "pygments_lexer": "ipython3",
   "version": "3.12.6"
  }
 },
 "nbformat": 4,
 "nbformat_minor": 2
}
