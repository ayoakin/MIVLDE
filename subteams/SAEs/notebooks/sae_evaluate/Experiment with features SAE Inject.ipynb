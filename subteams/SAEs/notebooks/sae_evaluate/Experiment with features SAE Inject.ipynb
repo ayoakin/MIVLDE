{
 "cells": [
  {
   "cell_type": "code",
   "execution_count": 1,
   "metadata": {
    "colab": {
     "base_uri": "https://localhost:8080/"
    },
    "id": "RjfcoooM8Y_3",
    "outputId": "9b79bc0c-e56b-4573-aee9-b31be0c3db56",
    "scrolled": true
   },
   "outputs": [
    {
     "name": "stdout",
     "output_type": "stream",
     "text": [
      "env: CUDA_VISIBLE_DEVICES=0\n"
     ]
    }
   ],
   "source": [
    "import os\n",
    "import sys\n",
    "import warnings\n",
    "import numpy as np\n",
    "from pathlib import Path\n",
    "import pickle\n",
    "from tqdm import tqdm\n",
    "import matplotlib.pyplot as plt\n",
    "\n",
    "import numpy as np\n",
    "import scipy.integrate\n",
    "import sympy as sp\n",
    "import pickle\n",
    "from pathlib import Path\n",
    "import matplotlib.pyplot as plt\n",
    "\n",
    "sys.path.append(\"../sae/\")\n",
    "sys.path.append(\"../odeformer/\")\n",
    "sys.path.append(\"../odeformer/odeformer\")\n",
    "sys.path.append(\"../odeformer/odeformer/model\")\n",
    "sys.path.append(\"../odeformer/odeformer/envs\")\n",
    "\n",
    "\n",
    "import sys\n",
    "import os\n",
    "import gzip\n",
    "import pickle\n",
    "import torch\n",
    "import torch.nn as nn\n",
    "import torch.optim as optim\n",
    "import numpy as np\n",
    "import matplotlib.pyplot as plt\n",
    "from datetime import datetime\n",
    "from tqdm import tqdm\n",
    "\n",
    "from sae import SparseAutoencoder\n",
    "\n",
    "%env CUDA_VISIBLE_DEVICES=0\n",
    "\n",
    "import enum\n",
    "import strenum\n",
    "import sys\n",
    "from typing import Callable, TypeAlias\n",
    "import torch\n",
    "import torch.nn as nn\n",
    "import torch.nn.functional as F\n",
    "from mishax import ast_patcher\n",
    "from mishax import safe_greenlet\n",
    "import numpy as np\n",
    "import matplotlib.pyplot as plt\n",
    "import odeformer\n",
    "\n",
    "import scipy.integrate\n",
    "import sympy as sp\n",
    "import pickle\n",
    "from pathlib import Path\n",
    "import matplotlib.pyplot as plt\n",
    "\n",
    "from tqdm import tqdm\n",
    "import matplotlib.pyplot as plt\n",
    "\n",
    "from odeformer.model import SymbolicTransformerRegressor\n",
    "from transformer import MultiHeadAttention, TransformerFFN\n",
    "\n",
    "from odeformer.metrics import r2_score\n",
    "\n",
    "from IPython.utils import io\n",
    "import time\n",
    "from joblib import Parallel, delayed"
   ]
  },
  {
   "cell_type": "code",
   "execution_count": 2,
   "metadata": {},
   "outputs": [
    {
     "name": "stdout",
     "output_type": "stream",
     "text": [
      "Using device: cpu\n",
      "Attempting to load model from: ../sae/sae.encoder.outer.residual1_20250308_230626/checkpoints/sae_best_encoder.outer.residual1.pt\n",
      "Model loaded successfully\n",
      "Model name: None\n",
      "Model input dimension: 256\n",
      "Model latent dimension: 1280\n"
     ]
    }
   ],
   "source": [
    "run_dir = '../sae/sae.encoder.outer.residual1_20250308_230626'\n",
    "model_path = f'{run_dir}/checkpoints/sae_best_encoder.outer.residual1.pt'\n",
    "output_dir = f\"{run_dir}/feature_activations\"\n",
    "device = \"cpu\"\n",
    "print(f\"Using device: {device}\")\n",
    "\n",
    "print(f\"Attempting to load model from: {model_path}\")\n",
    "sae_model = SparseAutoencoder(input_dim=256, latent_dim=1280)\n",
    "sae_model.load_state_dict(torch.load(model_path, map_location=device,weights_only=True))\n",
    "sae_model.eval()\n",
    "\n",
    "print(\"Model loaded successfully\")\n",
    "print(f\"Model name: {sae_model.name}\")\n",
    "print(f\"Model input dimension: {sae_model.input_dim}\")\n",
    "print(f\"Model latent dimension: {sae_model.latent_dim}\")"
   ]
  },
  {
   "cell_type": "markdown",
   "metadata": {},
   "source": [
    "# Generate two types of systems"
   ]
  },
  {
   "cell_type": "code",
   "execution_count": 3,
   "metadata": {},
   "outputs": [],
   "source": [
    "def parse_system(system):\n",
    "    \"\"\"Parse ODE system using SymPy.\"\"\"\n",
    "    equations = [eq.strip() for eq in system.split(',')]\n",
    "    expressions = []\n",
    "    \n",
    "    vars = []\n",
    "    for eq in equations:\n",
    "        var = eq.split('/')[0].strip()[1:]\n",
    "        vars.append(var)\n",
    "    \n",
    "    for eq in equations:\n",
    "        right = eq.split('=')[1].strip()\n",
    "        expressions.append(sp.sympify(right))\n",
    "    \n",
    "    return sp.lambdify(vars, expressions, modules='numpy')\n",
    "\n",
    "def integrate_ode(y0, times, system, events=None, debug=False):\n",
    "    \"\"\"Integrate an ODE system.\"\"\"\n",
    "    system_fn = parse_system(system)\n",
    "    \n",
    "    try:\n",
    "        sol = scipy.integrate.solve_ivp(\n",
    "            lambda t, y: system_fn(*y),\n",
    "            (min(times), max(times)),\n",
    "            y0,\n",
    "            t_eval=times,\n",
    "            events=events\n",
    "        )\n",
    "        return sol.y.T\n",
    "            \n",
    "    except Exception as e:\n",
    "        if debug:\n",
    "            import traceback\n",
    "            print(traceback.format_exc())\n",
    "        return None"
   ]
  },
  {
   "cell_type": "code",
   "execution_count": 4,
   "metadata": {},
   "outputs": [
    {
     "name": "stdout",
     "output_type": "stream",
     "text": [
      "100\n",
      "100\n"
     ]
    }
   ],
   "source": [
    "def solve_simple(v_range, y0=np.array([1.0,1.0]), t=np.linspace(0, 10, 100)):\n",
    "    solutions = []\n",
    "    template = \"dx/dt = {},dy/dt={}\"\n",
    "\n",
    "    for k in v_range:\n",
    "        for b in v_range:\n",
    "            system = template.format(k,b)\n",
    "            solution = integrate_ode(y0, t, system)\n",
    "            if solution is not None:\n",
    "                solutions.append({\n",
    "                    'params': (k,b,),\n",
    "                    'equations': system,\n",
    "                    'solution': solution,\n",
    "                    'time_points': t\n",
    "                })\n",
    "    return solutions\n",
    "\n",
    "def solve_ho(omega_range, gamma_range, y0=np.array([1.0, 1.0]), t=np.linspace(0, 10, 100)):\n",
    "    solutions = []\n",
    "    template = \"dx/dt = y, dy/dt = -{}*x - {}*y\"\n",
    "    for omega in omega_range:\n",
    "        for gamma in gamma_range:\n",
    "            system = template.format(omega**2, gamma)\n",
    "            solution = integrate_ode(y0, t, system)\n",
    "            if solution is not None:\n",
    "                solutions.append({\n",
    "                    'params': (omega, gamma),\n",
    "                    'equations': system,\n",
    "                    'solution': solution,\n",
    "                    'time_points': t\n",
    "                })\n",
    "    return solutions\n",
    "\n",
    "k_range = np.linspace(-2.0, 2.0, 10) # linear coeficient range\n",
    "simp_solutions = solve_simple(k_range)\n",
    "\n",
    "omega_range = np.linspace(0.1, 5.0, 10)  # natural frequency\n",
    "gamma_range = np.linspace(0.1, 5.0, 10)  # damping\n",
    "ho_solutions = solve_ho(omega_range, gamma_range)\n",
    "\n",
    "print(len(ho_solutions))\n",
    "print(len(simp_solutions))\n"
   ]
  },
  {
   "cell_type": "code",
   "execution_count": 5,
   "metadata": {},
   "outputs": [],
   "source": [
    "def solve_simple(v_range, y0=np.array([1.0,1.0]), t=np.linspace(0, 10, 100)):\n",
    "    solutions = []\n",
    "    template = \"dx/dt = {},dy/dt={}\"\n",
    "\n",
    "    for k in v_range:\n",
    "        for b in v_range:\n",
    "            system = template.format(k,b)\n",
    "            solution = integrate_ode(y0, t, system)\n",
    "            if solution is not None:\n",
    "                solutions.append({\n",
    "                    'params': (k,b,),\n",
    "                    'equations': system,\n",
    "                    'solution': solution,\n",
    "                    'time_points': t\n",
    "                })\n",
    "    return solutions\n",
    "\n",
    "k_range = np.linspace(-2.0, 2.0, 10) # linear coeficient range\n",
    "simp_solutions = solve_simple(k_range)"
   ]
  },
  {
   "cell_type": "code",
   "execution_count": 6,
   "metadata": {},
   "outputs": [],
   "source": [
    "solutions = []\n",
    "template = \"dx/dt =1,dy/dt=0.1\"\n",
    "y0=np.array([1.0, 0.0])\n",
    "t=np.linspace(0, 10, 100)\n",
    "solution = integrate_ode(y0, t, template)"
   ]
  },
  {
   "cell_type": "code",
   "execution_count": 7,
   "metadata": {},
   "outputs": [
    {
     "data": {
      "image/png": "[encoded data removed]",
      "text/plain": [
       "<Figure size 640x480 with 1 Axes>"
      ]
     },
     "metadata": {},
     "output_type": "display_data"
    }
   ],
   "source": [
    "plt.plot(ho_solutions[10]['solution'])\n",
    "plt.show()"
   ]
  },
  {
   "cell_type": "markdown",
   "metadata": {},
   "source": [
    "# Collect activation"
   ]
  },
  {
   "cell_type": "code",
   "execution_count": 21,
   "metadata": {},
   "outputs": [],
   "source": [
    "class Site(strenum.StrEnum):\n",
    "    \"\"\"Instrumentation sites within an ODEFormer forward pass.\"\"\"\n",
    "    # Attention sites\n",
    "    QUERY = enum.auto()\n",
    "    KEY = enum.auto()\n",
    "    VALUE = enum.auto()\n",
    "    ATTN_SCORES = enum.auto()\n",
    "    ATTN_PROBS = enum.auto()\n",
    "    ATTN_OUTPUT = enum.auto()\n",
    "    POST_ATTN_RESIDUAL = enum.auto()\n",
    "    \n",
    "    # Layer norm sites\n",
    "    RESIDUAL = enum.auto()\n",
    "    \n",
    "    # Layer norm sites\n",
    "    PRE_ATTN_LAYERNORM = enum.auto()\n",
    "    PRE_MLP_LAYERNORM = enum.auto()\n",
    "\n",
    "    # MLP sites\n",
    "    MLP_INPUT = enum.auto()\n",
    "    MLP_HIDDEN = enum.auto()\n",
    "    MLP_OUTPUT = enum.auto()\n",
    "    POST_MLP_RESIDUAL = enum.auto()\n",
    "\n",
    "    # Cross attention (decoder only)\n",
    "    CROSS_ATTN_SCORES = enum.auto()\n",
    "    CROSS_ATTN_PROBS = enum.auto()\n",
    "    CROSS_ATTN_OUTPUT = enum.auto()\n",
    "\n",
    "class ModulePathMapper:\n",
    "    \"\"\"Maps modules to their full paths including component names.\"\"\"\n",
    "    def __init__(self, model):\n",
    "        self.path_map = {}\n",
    "        self.model = model\n",
    "\n",
    "        # Get paths from transformer components\n",
    "        if hasattr(model, 'model'):\n",
    "            model = model.model\n",
    "            if hasattr(model, 'encoder'):\n",
    "                for name, module in model.encoder.named_modules():\n",
    "                    if len(name)==0:\n",
    "                        name = \"transformer\"\n",
    "                    self.path_map[id(module)] = f\"encoder.{name}\"\n",
    "\n",
    "            if hasattr(model, 'decoder'):\n",
    "                for name, module in model.decoder.named_modules():\n",
    "                    if len(name)==0:\n",
    "                        name = \"transformer\"\n",
    "                    self.path_map[id(module)] = f\"decoder.{name}\"\n",
    "\n",
    "    def get_layer_path(self, module: nn.Module, accessing_component: str = None) -> str:\n",
    "        \"\"\"Gets the full hierarchical path including the accessed component.\"\"\"\n",
    "        base_path = self.path_map.get(id(module))\n",
    "        if base_path is None:\n",
    "            return None\n",
    "\n",
    "        # If accessing a specific component, append it\n",
    "        if accessing_component:\n",
    "            return f\"{base_path}.{accessing_component}\"\n",
    "\n",
    "        return base_path\n",
    "\n",
    "    def get_accessing_component(self, module: nn.Module, attr_name: str) -> str:\n",
    "        \"\"\"Gets the name of the component being accessed.\"\"\"\n",
    "        if hasattr(module, attr_name):\n",
    "            component = getattr(module, attr_name)\n",
    "            if isinstance(component, nn.Linear):\n",
    "                return attr_name\n",
    "        return None\n",
    "\n",
    "_path_mapper = None\n",
    "\n",
    "def _tag(module: nn.Module, site: Site, value: torch.Tensor, accessing: str = None) -> torch.Tensor:\n",
    "    \"\"\"Tags a value at a particular site for instrumentation.\"\"\"\n",
    "    try:\n",
    "        parent = safe_greenlet.getparent()\n",
    "        if parent is None:\n",
    "            return value\n",
    "\n",
    "        # Get full path including component\n",
    "        path = None\n",
    "        if _path_mapper is not None:\n",
    "            path = _path_mapper.get_layer_path(module, accessing)\n",
    "\n",
    "        if accessing=='residual3' and value.shape[2]==256:\n",
    "            print(f\"Using SAE {accessing}\")\n",
    "            mid,_ = sae_model(value)\n",
    "            value[:,:,:] = 1 #mid\n",
    "        \n",
    "        ret = parent.switch((site, value, path))\n",
    "\n",
    "        return ret if ret is not None else value\n",
    "    except Exception as e:\n",
    "        print(f\"Error in tag at {site}: {e}\")\n",
    "        return value\n",
    "\n",
    "def collect_activations_during_fit(model, times, trajectories):\n",
    "    \"\"\"Collects activations during model.fit().\"\"\"\n",
    "    global _path_mapper\n",
    "    _path_mapper = ModulePathMapper(model)\n",
    "    return collect_activations(lambda: model.fit(times, trajectories))\n",
    "\n",
    "def view_layer_paths(activations):\n",
    "    \"\"\"Displays activations organized by full layer paths.\"\"\"\n",
    "    print(\"\\nActivations by Layer Path:\")\n",
    "    print(\"-------------------------\")\n",
    "\n",
    "    # Group by model section and type\n",
    "    sections = {\n",
    "        'encoder': {\n",
    "            'attention': [],\n",
    "            'ffn': [],\n",
    "            'residual': []\n",
    "        },\n",
    "        'decoder': {\n",
    "            'attention': [],\n",
    "            'ffn': [],\n",
    "            'encoder_attn': [],\n",
    "             'residual': []\n",
    "        }\n",
    "    }\n",
    "\n",
    "    # Collect unique paths and sort them\n",
    "    for site_data in activations.values():\n",
    "        for path in site_data.keys():\n",
    "            if path is None:\n",
    "                continue\n",
    "\n",
    "            # Determine section and type\n",
    "            if 'encoder.' in path:\n",
    "                if any(x in path for x in ['q_lin', 'k_lin', 'v_lin', 'out_lin']):\n",
    "                    sections['encoder']['attention'].append(path)\n",
    "                elif any(x in path for x in ['lin1', 'lin2']):\n",
    "                    sections['encoder']['ffn'].append(path)\n",
    "            elif 'decoder.' in path:\n",
    "                if 'encoder_attn' in path:\n",
    "                    sections['decoder']['encoder_attn'].append(path)\n",
    "                elif any(x in path for x in ['q_lin', 'k_lin', 'v_lin', 'out_lin']):\n",
    "                    sections['decoder']['attention'].append(path)\n",
    "                elif any(x in path for x in ['lin1', 'lin2']):\n",
    "                    sections['decoder']['ffn'].append(path)\n",
    "\n",
    "    # Print organized by section\n",
    "    for section in ['encoder', 'decoder']:\n",
    "        print(f\"\\n{section.upper()}:\")\n",
    "        for component_type, paths in sections[section].items():\n",
    "            if paths:\n",
    "                print(f\"\\n  {component_type}:\")\n",
    "                for path in sorted(set(paths)):\n",
    "                    # Find this path in activations\n",
    "                    for site, site_data in activations.items():\n",
    "                        if path in site_data:\n",
    "                            print(f\"    {path}:\")\n",
    "                            for shape, tensor in site_data[path].items():\n",
    "                                print(f\"      Shape {shape}: {tensor.shape[0]} activations\")\n",
    "\n",
    "def install():\n",
    "    \"\"\"Installs the patchers to instrument the model.\"\"\"\n",
    "    print(\"\\nInstalling patches...\")\n",
    "\n",
    "    PREFIX = f\"\"\"from {__name__} import Site, _tag as tag\"\"\"\n",
    "\n",
    "\n",
    "    patcher = ast_patcher.ModuleASTPatcher(\n",
    "        odeformer.model.transformer,\n",
    "        ast_patcher.PatchSettings(\n",
    "            prefix=PREFIX,\n",
    "            allow_num_matches_upto={}  # If need to allow multiple matches\n",
    "        ),\n",
    "        TransformerModel=[\n",
    "         #   # LayerNorm and attention\n",
    "            \"\"\"            attn = self.attentions[i](tensor, attn_mask, use_cache=use_cache)\"\"\",\n",
    "            \"\"\"            attn = tag(self, Site.ATTN_OUTPUT, self.attentions[i](tag(self, Site.RESIDUAL,tensor, accessing=\"residual\"+str(i)), attn_mask, use_cache=use_cache), accessing='attention_layer')\"\"\",\n",
    "\n",
    "            # Add this new patch\n",
    "            \"\"\"    generated[-1].masked_fill_(unfinished_sents.byte(), self.eos_index)\"\"\",\n",
    "            \"\"\"    generated[-1].masked_fill_(unfinished_sents.bool(), self.eos_index)\"\"\",\n",
    "        ]\n",
    "    )\n",
    "\n",
    "    try:\n",
    "        patcher.install()\n",
    "        print(\"\\nPatches installed successfully\")\n",
    "    except Exception as e:\n",
    "        print(f\"\\nError installing patches: {e}\")\n",
    "        import traceback\n",
    "        traceback.print_exc()\n",
    "\n",
    "    return patcher\n",
    "\n",
    "\n",
    "\n",
    "def collect_activations(model_fn):\n",
    "    \"\"\"Collects activations during a model function execution.\"\"\"\n",
    "    print(\"\\nStarting activation collection\")\n",
    "    activations = {}\n",
    "\n",
    "    patcher = install()\n",
    "    with patcher():\n",
    "        def run_in_greenlet():\n",
    "            try:\n",
    "                print(\"Starting model execution in greenlet...\")\n",
    "                with torch.cuda.device(0):\n",
    "                    result = model_fn()\n",
    "                print(\"Model execution completed\")\n",
    "                return result\n",
    "            except Exception as e:\n",
    "                print(f\"Error in greenlet execution: {e}\")\n",
    "                import traceback\n",
    "                traceback.print_exc()\n",
    "                raise\n",
    "\n",
    "        glet = safe_greenlet.SafeGreenlet(run_in_greenlet)\n",
    "        print(f\"Created SafeGreenlet: {glet}\")\n",
    "\n",
    "        with glet:\n",
    "            try:\n",
    "                print(\"Starting greenlet...\")\n",
    "                result = glet.switch()\n",
    "                print(\"Initial switch complete\")\n",
    "\n",
    "                while glet:\n",
    "                    site, value, name = result\n",
    "\n",
    "                    # Initialize storage for this site if needed\n",
    "                    if site not in activations:\n",
    "                        activations[site] = {}\n",
    "\n",
    "                    # Store by name within each site\n",
    "                    if name not in activations[site]:\n",
    "                        activations[site][name] = []\n",
    "\n",
    "                    if torch.is_tensor(value):\n",
    "                        activations[site][name].append(value.detach().cpu())\n",
    "\n",
    "                    try:\n",
    "                        if \"encoder.transformer.residual3\" == name:\n",
    "                            #lattent_vector = sae_model.encode(value.detach().cpu())\n",
    "                            #lattent_vector[0,:,:]=0\n",
    "                           # encoded_value = sae_model.decode(lattent_vector)\n",
    "                            result = glet.switch(value)\n",
    "                        else:\n",
    "                            result = glet.switch(value)\n",
    "                    except StopIteration:\n",
    "                        break\n",
    "\n",
    "            except Exception as e:\n",
    "                print(f\"Error in activation collection: {e},{site},{name}\")\n",
    "                import traceback\n",
    "                traceback.print_exc()\n",
    "                raise\n",
    "\n",
    "    print(f\"Collection complete. Found sites: {list(activations.keys())}\")\n",
    "\n",
    "    if activations:\n",
    "        print(\"\\nProcessing activations...\")\n",
    "\n",
    "        # Process activations into a more structured format\n",
    "        processed_activations = {}\n",
    "        for site, name_data in activations.items():\n",
    "            processed_activations[site] = {}\n",
    "\n",
    "            for name, tensor_list in name_data.items():\n",
    "                # Group tensors by shape\n",
    "                shape_groups = {}\n",
    "                for tensor in tensor_list:\n",
    "                    shape = tuple(tensor.shape)\n",
    "                    if shape not in shape_groups:\n",
    "                        shape_groups[shape] = []\n",
    "                    shape_groups[shape].append(tensor)\n",
    "\n",
    "                # Store processed data\n",
    "                processed_activations[site][name] = {\n",
    "                    shape: torch.stack(tensors)\n",
    "                    for shape, tensors in shape_groups.items()\n",
    "                }\n",
    "\n",
    "            # Print information\n",
    "            print(f\"\\n{site}:\")\n",
    "            for name in processed_activations[site]:\n",
    "                print(f\"  Name: {name}\")\n",
    "                for shape, tensor in processed_activations[site][name].items():\n",
    "                    print(f\"    Shape {shape}: {tensor.shape[0]} tensors\")\n",
    "\n",
    "    return processed_activations, result"
   ]
  },
  {
   "cell_type": "code",
   "execution_count": 22,
   "metadata": {},
   "outputs": [
    {
     "name": "stdout",
     "output_type": "stream",
     "text": [
      "\n",
      "Installing patches...\n",
      "\n",
      "Patches installed successfully\n"
     ]
    },
    {
     "data": {
      "text/plain": [
       "<mishax.ast_patcher.ModuleASTPatcher at 0x7f1a28af4a40>"
      ]
     },
     "execution_count": 22,
     "metadata": {},
     "output_type": "execute_result"
    }
   ],
   "source": [
    "# First install patches\n",
    "install()"
   ]
  },
  {
   "cell_type": "code",
   "execution_count": 23,
   "metadata": {},
   "outputs": [
    {
     "name": "stdout",
     "output_type": "stream",
     "text": [
      "Found pretrained model at odeformer.pt\n",
      "Loaded pretrained model\n"
     ]
    }
   ],
   "source": [
    "model = SymbolicTransformerRegressor(\n",
    "    from_pretrained=True)\n",
    "\n",
    "model_args = {'beam_size':20,\n",
    "        'beam_temperature':0.1}\n",
    "model.set_model_args(model_args)"
   ]
  },
  {
   "cell_type": "code",
   "execution_count": 24,
   "metadata": {
    "scrolled": true
   },
   "outputs": [
    {
     "name": "stdout",
     "output_type": "stream",
     "text": [
      "\n",
      "Starting activation collection\n",
      "\n",
      "Installing patches...\n",
      "\n",
      "Patches installed successfully\n",
      "Created SafeGreenlet: <SafeGreenlet object at 0x7f1a29bed0c0 (otid=0x(nil)) pending>\n",
      "Starting greenlet...\n",
      "Starting model execution in greenlet...\n",
      "Initial switch complete\n",
      "Using SAE residual3\n",
      "Model execution completed\n",
      "Collection complete. Found sites: [<Site.RESIDUAL: 'RESIDUAL'>, <Site.ATTN_OUTPUT: 'ATTN_OUTPUT'>]\n",
      "\n",
      "Processing activations...\n",
      "\n",
      "RESIDUAL:\n",
      "  Name: encoder.transformer.residual0\n",
      "    Shape (1, 100, 256): 1 tensors\n",
      "  Name: encoder.transformer.residual1\n",
      "    Shape (1, 100, 256): 1 tensors\n",
      "  Name: encoder.transformer.residual2\n",
      "    Shape (1, 100, 256): 1 tensors\n",
      "  Name: encoder.transformer.residual3\n",
      "    Shape (1, 100, 256): 1 tensors\n",
      "  Name: decoder.transformer.residual0\n",
      "    Shape (1, 1, 512): 199 tensors\n",
      "    Shape (20, 1, 512): 199 tensors\n",
      "  Name: decoder.transformer.residual1\n",
      "    Shape (1, 1, 512): 199 tensors\n",
      "    Shape (20, 1, 512): 199 tensors\n",
      "  Name: decoder.transformer.residual2\n",
      "    Shape (1, 1, 512): 199 tensors\n",
      "    Shape (20, 1, 512): 199 tensors\n",
      "  Name: decoder.transformer.residual3\n",
      "    Shape (1, 1, 512): 199 tensors\n",
      "    Shape (20, 1, 512): 199 tensors\n",
      "  Name: decoder.transformer.residual4\n",
      "    Shape (1, 1, 512): 199 tensors\n",
      "    Shape (20, 1, 512): 199 tensors\n",
      "  Name: decoder.transformer.residual5\n",
      "    Shape (1, 1, 512): 199 tensors\n",
      "    Shape (20, 1, 512): 199 tensors\n",
      "  Name: decoder.transformer.residual6\n",
      "    Shape (1, 1, 512): 199 tensors\n",
      "    Shape (20, 1, 512): 199 tensors\n",
      "  Name: decoder.transformer.residual7\n",
      "    Shape (1, 1, 512): 199 tensors\n",
      "    Shape (20, 1, 512): 199 tensors\n",
      "  Name: decoder.transformer.residual8\n",
      "    Shape (1, 1, 512): 199 tensors\n",
      "    Shape (20, 1, 512): 199 tensors\n",
      "  Name: decoder.transformer.residual9\n",
      "    Shape (1, 1, 512): 199 tensors\n",
      "    Shape (20, 1, 512): 199 tensors\n",
      "  Name: decoder.transformer.residual10\n",
      "    Shape (1, 1, 512): 199 tensors\n",
      "    Shape (20, 1, 512): 199 tensors\n",
      "  Name: decoder.transformer.residual11\n",
      "    Shape (1, 1, 512): 199 tensors\n",
      "    Shape (20, 1, 512): 199 tensors\n",
      "\n",
      "ATTN_OUTPUT:\n",
      "  Name: encoder.transformer.attention_layer\n",
      "    Shape (1, 100, 256): 4 tensors\n",
      "  Name: decoder.transformer.attention_layer\n",
      "    Shape (1, 1, 512): 2388 tensors\n",
      "    Shape (20, 1, 512): 2388 tensors\n"
     ]
    }
   ],
   "source": [
    "solution = ho_solutions[10]\n",
    "\n",
    "np.infty=np.inf\n",
    "collected_values = []\n",
    "#model.model.cuda(0)\n",
    "\n",
    "#for solution in ho_solutions:\n",
    "fit_activations, result = collect_activations_during_fit(model, solution['time_points'], solution['solution'])\n",
    "collected_values.append({\n",
    "    'params': solution['params'],\n",
    "    'equations': solution['equations'],\n",
    "    'solution': solution['solution'],\n",
    "    'time_points': solution['time_points'],\n",
    "    'activations': fit_activations['RESIDUAL']['encoder.transformer.residual3'][(1,100,256)][0][0],\n",
    "})"
   ]
  },
  {
   "cell_type": "code",
   "execution_count": 25,
   "metadata": {},
   "outputs": [
    {
     "name": "stdout",
     "output_type": "stream",
     "text": [
      "x_0' = 0.9855 * x_1\n",
      "x_1' = -0.0877 * x_1 + -0.4211 * x_0\n"
     ]
    }
   ],
   "source": [
    "trajectory=solution['solution']\n",
    "times = solution['time_points']\n",
    "\n",
    "model.fit(times, trajectory)\n",
    "pred_traj = model.predict(times, trajectory[0])\n",
    "\n",
    "model.print()"
   ]
  },
  {
   "cell_type": "code",
   "execution_count": 26,
   "metadata": {},
   "outputs": [
    {
     "data": {
      "text/plain": [
       "<matplotlib.legend.Legend at 0x7f19ffa32210>"
      ]
     },
     "execution_count": 26,
     "metadata": {},
     "output_type": "execute_result"
    },
    {
     "data": {
      "image/png": "[encoded data removed]",
      "text/plain": [
       "<Figure size 640x480 with 1 Axes>"
      ]
     },
     "metadata": {},
     "output_type": "display_data"
    }
   ],
   "source": [
    "pred_traj = model.predict(times, trajectory[0])\n",
    "dimension = len(trajectory[0])\n",
    "for dim in range(dimension):\n",
    "    plt.scatter(times, trajectory[:, dim], color = f'C{dim}', label=f'$x_{dim}$', marker='o', alpha=.3)\n",
    "    plt.plot(times, pred_traj[:, dim],  color = f'C{dim}', label=f'$x_{dim}$ predicted')\n",
    "plt.legend()"
   ]
  },
  {
   "cell_type": "code",
   "execution_count": 27,
   "metadata": {},
   "outputs": [
    {
     "data": {
      "image/png": "[encoded data removed]",
      "text/plain": [
       "<Figure size 640x480 with 1 Axes>"
      ]
     },
     "metadata": {},
     "output_type": "display_data"
    }
   ],
   "source": [
    "x=collected_values[0]['activations']\n",
    "plt.plot(x)\n",
    "plt.show()"
   ]
  },
  {
   "cell_type": "code",
   "execution_count": 164,
   "metadata": {},
   "outputs": [
    {
     "data": {
      "text/plain": [
       "torch.Size([100, 256])"
      ]
     },
     "execution_count": 164,
     "metadata": {},
     "output_type": "execute_result"
    }
   ],
   "source": []
  },
  {
   "cell_type": "markdown",
   "metadata": {},
   "source": [
    "# Apply SAE"
   ]
  },
  {
   "cell_type": "code",
   "execution_count": 24,
   "metadata": {},
   "outputs": [
    {
     "name": "stdout",
     "output_type": "stream",
     "text": [
      "Using device: cpu\n",
      "Attempting to load model from: ../sae/sae.encoder.outer.residual1_20250308_230626/checkpoints/sae_best_encoder.outer.residual1.pt\n",
      "Model loaded successfully\n",
      "Model name: None\n",
      "Model input dimension: 256\n",
      "Model latent dimension: 1280\n"
     ]
    }
   ],
   "source": [
    "run_dir = '../sae/sae.encoder.outer.residual1_20250308_230626'\n",
    "model_path = f'{run_dir}/checkpoints/sae_best_encoder.outer.residual1.pt'\n",
    "output_dir = f\"{run_dir}/feature_activations\"\n",
    "device = \"cpu\"\n",
    "print(f\"Using device: {device}\")\n",
    "\n",
    "print(f\"Attempting to load model from: {model_path}\")\n",
    "sae_model = SparseAutoencoder(input_dim=256, latent_dim=1280)\n",
    "sae_model.load_state_dict(torch.load(model_path, map_location=device,weights_only=True))\n",
    "sae_model.eval()\n",
    "\n",
    "print(\"Model loaded successfully\")\n",
    "print(f\"Model name: {sae_model.name}\")\n",
    "print(f\"Model input dimension: {sae_model.input_dim}\")\n",
    "print(f\"Model latent dimension: {sae_model.latent_dim}\")"
   ]
  },
  {
   "cell_type": "code",
   "execution_count": 46,
   "metadata": {},
   "outputs": [
    {
     "data": {
      "text/plain": [
       "100"
      ]
     },
     "execution_count": 46,
     "metadata": {},
     "output_type": "execute_result"
    }
   ],
   "source": []
  },
  {
   "cell_type": "code",
   "execution_count": 197,
   "metadata": {},
   "outputs": [],
   "source": [
    "feature_arrays = []\n",
    "\n",
    "for value in collected_values:\n",
    "    inputs = torch.tensor(value['activations'], dtype=torch.float32).to(device)\n",
    "    output,lattent = sae_model(inputs)\n",
    "    activations_np = lattent.squeeze(0).cpu().detach().numpy()\n",
    "    value['lattent'] = activations_np\n",
    "\n",
    "    transposed_features = activations_np.T\n",
    "    feature_arrays.append(transposed_features)\n",
    "\n",
    "stacked_features = np.stack(feature_arrays)\n",
    "feature_collections = np.transpose(stacked_features, (1, 2, 0))"
   ]
  },
  {
   "cell_type": "code",
   "execution_count": 204,
   "metadata": {},
   "outputs": [],
   "source": [
    "solution_idx = 0"
   ]
  },
  {
   "cell_type": "code",
   "execution_count": 205,
   "metadata": {},
   "outputs": [
    {
     "data": {
      "image/png": "[encoded data removed]",
      "text/plain": [
       "<Figure size 640x480 with 1 Axes>"
      ]
     },
     "metadata": {},
     "output_type": "display_data"
    }
   ],
   "source": [
    "plt.plot(collected_values[0]['lattent'])\n",
    "plt.show()"
   ]
  },
  {
   "cell_type": "code",
   "execution_count": 208,
   "metadata": {},
   "outputs": [],
   "source": [
    "feature_idx = 0\n",
    "time_point = 41"
   ]
  },
  {
   "cell_type": "code",
   "execution_count": 209,
   "metadata": {},
   "outputs": [
    {
     "data": {
      "image/png": "[encoded data removed]",
      "text/plain": [
       "<Figure size 640x480 with 1 Axes>"
      ]
     },
     "metadata": {},
     "output_type": "display_data"
    }
   ],
   "source": [
    "feature_per_time = feature_collections[feature_idx, time_point, :]\n",
    "solution_indices = np.arange(len(feature_per_time))\n",
    "plt.bar(solution_indices,feature_per_time)\n",
    "plt.show()"
   ]
  },
  {
   "cell_type": "code",
   "execution_count": 210,
   "metadata": {},
   "outputs": [
    {
     "data": {
      "image/png": "[encoded data removed]",
      "text/plain": [
       "<Figure size 640x480 with 1 Axes>"
      ]
     },
     "metadata": {},
     "output_type": "display_data"
    }
   ],
   "source": [
    "feature_per_solution = feature_collections[feature_idx, :, solution_idx]\n",
    "solution_indices = np.arange(len(feature_per_solution))\n",
    "plt.bar(solution_indices,feature_per_solution)\n",
    "plt.show()"
   ]
  },
  {
   "cell_type": "code",
   "execution_count": null,
   "metadata": {},
   "outputs": [],
   "source": []
  }
 ],
 "metadata": {
  "colab": {
   "provenance": []
  },
  "kernelspec": {
   "display_name": "odeformer-wsl",
   "language": "python",
   "name": "odeformer-wsl"
  },
  "language_info": {
   "codemirror_mode": {
    "name": "ipython",
    "version": 3
   },
   "file_extension": ".py",
   "mimetype": "text/x-python",
   "name": "python",
   "nbconvert_exporter": "python",
   "pygments_lexer": "ipython3",
   "version": "3.12.3"
  }
 },
 "nbformat": 4,
 "nbformat_minor": 4
}
