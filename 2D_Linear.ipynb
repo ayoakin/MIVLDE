{
  "nbformat": 4,
  "nbformat_minor": 0,
  "metadata": {
    "colab": {
      "provenance": [],
      "include_colab_link": true
    },
    "kernelspec": {
      "name": "python3",
      "display_name": "Python 3"
    },
    "language_info": {
      "name": "python"
    },
    "widgets": {
      "application/vnd.jupyter.widget-state+json": {
        "0e2f2432a1a44453945898dc005cd7f2": {
          "model_module": "@jupyter-widgets/controls",
          "model_name": "HBoxModel",
          "model_module_version": "1.5.0",
          "state": {
            "_dom_classes": [],
            "_model_module": "@jupyter-widgets/controls",
            "_model_module_version": "1.5.0",
            "_model_name": "HBoxModel",
            "_view_count": null,
            "_view_module": "@jupyter-widgets/controls",
            "_view_module_version": "1.5.0",
            "_view_name": "HBoxView",
            "box_style": "",
            "children": [
              "IPY_MODEL_43a605f460444f89be5305e7a0864532",
              "IPY_MODEL_38bb91e0b7bc4b2aa088c7c13012d775",
              "IPY_MODEL_b7aefd72066144ddadd7bc525f7fe616"
            ],
            "layout": "IPY_MODEL_4b00dd401dc9478092284a95b49a8a9f"
          }
        },
        "43a605f460444f89be5305e7a0864532": {
          "model_module": "@jupyter-widgets/controls",
          "model_name": "HTMLModel",
          "model_module_version": "1.5.0",
          "state": {
            "_dom_classes": [],
            "_model_module": "@jupyter-widgets/controls",
            "_model_module_version": "1.5.0",
            "_model_name": "HTMLModel",
            "_view_count": null,
            "_view_module": "@jupyter-widgets/controls",
            "_view_module_version": "1.5.0",
            "_view_name": "HTMLView",
            "description": "",
            "description_tooltip": null,
            "layout": "IPY_MODEL_312abd939b484b6b884c3c39a0a6f141",
            "placeholder": "​",
            "style": "IPY_MODEL_097eac080ca24d5c888e55b62c1a93e9",
            "value": "Generating exponential samples: 100%"
          }
        },
        "38bb91e0b7bc4b2aa088c7c13012d775": {
          "model_module": "@jupyter-widgets/controls",
          "model_name": "FloatProgressModel",
          "model_module_version": "1.5.0",
          "state": {
            "_dom_classes": [],
            "_model_module": "@jupyter-widgets/controls",
            "_model_module_version": "1.5.0",
            "_model_name": "FloatProgressModel",
            "_view_count": null,
            "_view_module": "@jupyter-widgets/controls",
            "_view_module_version": "1.5.0",
            "_view_name": "ProgressView",
            "bar_style": "success",
            "description": "",
            "description_tooltip": null,
            "layout": "IPY_MODEL_a6f804e4321f4b6d986f7f2cc1753d76",
            "max": 10,
            "min": 0,
            "orientation": "horizontal",
            "style": "IPY_MODEL_9b37ae901cae484ab348eec8f639a86b",
            "value": 10
          }
        },
        "b7aefd72066144ddadd7bc525f7fe616": {
          "model_module": "@jupyter-widgets/controls",
          "model_name": "HTMLModel",
          "model_module_version": "1.5.0",
          "state": {
            "_dom_classes": [],
            "_model_module": "@jupyter-widgets/controls",
            "_model_module_version": "1.5.0",
            "_model_name": "HTMLModel",
            "_view_count": null,
            "_view_module": "@jupyter-widgets/controls",
            "_view_module_version": "1.5.0",
            "_view_name": "HTMLView",
            "description": "",
            "description_tooltip": null,
            "layout": "IPY_MODEL_0723bb30c9f1447a997f6c40f874fc27",
            "placeholder": "​",
            "style": "IPY_MODEL_22dfa59e08da41889b0a2bcdeb0bbd1c",
            "value": " 10/10 [00:00&lt;00:00, 189.45it/s]"
          }
        },
        "4b00dd401dc9478092284a95b49a8a9f": {
          "model_module": "@jupyter-widgets/base",
          "model_name": "LayoutModel",
          "model_module_version": "1.2.0",
          "state": {
            "_model_module": "@jupyter-widgets/base",
            "_model_module_version": "1.2.0",
            "_model_name": "LayoutModel",
            "_view_count": null,
            "_view_module": "@jupyter-widgets/base",
            "_view_module_version": "1.2.0",
            "_view_name": "LayoutView",
            "align_content": null,
            "align_items": null,
            "align_self": null,
            "border": null,
            "bottom": null,
            "display": null,
            "flex": null,
            "flex_flow": null,
            "grid_area": null,
            "grid_auto_columns": null,
            "grid_auto_flow": null,
            "grid_auto_rows": null,
            "grid_column": null,
            "grid_gap": null,
            "grid_row": null,
            "grid_template_areas": null,
            "grid_template_columns": null,
            "grid_template_rows": null,
            "height": null,
            "justify_content": null,
            "justify_items": null,
            "left": null,
            "margin": null,
            "max_height": null,
            "max_width": null,
            "min_height": null,
            "min_width": null,
            "object_fit": null,
            "object_position": null,
            "order": null,
            "overflow": null,
            "overflow_x": null,
            "overflow_y": null,
            "padding": null,
            "right": null,
            "top": null,
            "visibility": null,
            "width": null
          }
        },
        "312abd939b484b6b884c3c39a0a6f141": {
          "model_module": "@jupyter-widgets/base",
          "model_name": "LayoutModel",
          "model_module_version": "1.2.0",
          "state": {
            "_model_module": "@jupyter-widgets/base",
            "_model_module_version": "1.2.0",
            "_model_name": "LayoutModel",
            "_view_count": null,
            "_view_module": "@jupyter-widgets/base",
            "_view_module_version": "1.2.0",
            "_view_name": "LayoutView",
            "align_content": null,
            "align_items": null,
            "align_self": null,
            "border": null,
            "bottom": null,
            "display": null,
            "flex": null,
            "flex_flow": null,
            "grid_area": null,
            "grid_auto_columns": null,
            "grid_auto_flow": null,
            "grid_auto_rows": null,
            "grid_column": null,
            "grid_gap": null,
            "grid_row": null,
            "grid_template_areas": null,
            "grid_template_columns": null,
            "grid_template_rows": null,
            "height": null,
            "justify_content": null,
            "justify_items": null,
            "left": null,
            "margin": null,
            "max_height": null,
            "max_width": null,
            "min_height": null,
            "min_width": null,
            "object_fit": null,
            "object_position": null,
            "order": null,
            "overflow": null,
            "overflow_x": null,
            "overflow_y": null,
            "padding": null,
            "right": null,
            "top": null,
            "visibility": null,
            "width": null
          }
        },
        "097eac080ca24d5c888e55b62c1a93e9": {
          "model_module": "@jupyter-widgets/controls",
          "model_name": "DescriptionStyleModel",
          "model_module_version": "1.5.0",
          "state": {
            "_model_module": "@jupyter-widgets/controls",
            "_model_module_version": "1.5.0",
            "_model_name": "DescriptionStyleModel",
            "_view_count": null,
            "_view_module": "@jupyter-widgets/base",
            "_view_module_version": "1.2.0",
            "_view_name": "StyleView",
            "description_width": ""
          }
        },
        "a6f804e4321f4b6d986f7f2cc1753d76": {
          "model_module": "@jupyter-widgets/base",
          "model_name": "LayoutModel",
          "model_module_version": "1.2.0",
          "state": {
            "_model_module": "@jupyter-widgets/base",
            "_model_module_version": "1.2.0",
            "_model_name": "LayoutModel",
            "_view_count": null,
            "_view_module": "@jupyter-widgets/base",
            "_view_module_version": "1.2.0",
            "_view_name": "LayoutView",
            "align_content": null,
            "align_items": null,
            "align_self": null,
            "border": null,
            "bottom": null,
            "display": null,
            "flex": null,
            "flex_flow": null,
            "grid_area": null,
            "grid_auto_columns": null,
            "grid_auto_flow": null,
            "grid_auto_rows": null,
            "grid_column": null,
            "grid_gap": null,
            "grid_row": null,
            "grid_template_areas": null,
            "grid_template_columns": null,
            "grid_template_rows": null,
            "height": null,
            "justify_content": null,
            "justify_items": null,
            "left": null,
            "margin": null,
            "max_height": null,
            "max_width": null,
            "min_height": null,
            "min_width": null,
            "object_fit": null,
            "object_position": null,
            "order": null,
            "overflow": null,
            "overflow_x": null,
            "overflow_y": null,
            "padding": null,
            "right": null,
            "top": null,
            "visibility": null,
            "width": null
          }
        },
        "9b37ae901cae484ab348eec8f639a86b": {
          "model_module": "@jupyter-widgets/controls",
          "model_name": "ProgressStyleModel",
          "model_module_version": "1.5.0",
          "state": {
            "_model_module": "@jupyter-widgets/controls",
            "_model_module_version": "1.5.0",
            "_model_name": "ProgressStyleModel",
            "_view_count": null,
            "_view_module": "@jupyter-widgets/base",
            "_view_module_version": "1.2.0",
            "_view_name": "StyleView",
            "bar_color": null,
            "description_width": ""
          }
        },
        "0723bb30c9f1447a997f6c40f874fc27": {
          "model_module": "@jupyter-widgets/base",
          "model_name": "LayoutModel",
          "model_module_version": "1.2.0",
          "state": {
            "_model_module": "@jupyter-widgets/base",
            "_model_module_version": "1.2.0",
            "_model_name": "LayoutModel",
            "_view_count": null,
            "_view_module": "@jupyter-widgets/base",
            "_view_module_version": "1.2.0",
            "_view_name": "LayoutView",
            "align_content": null,
            "align_items": null,
            "align_self": null,
            "border": null,
            "bottom": null,
            "display": null,
            "flex": null,
            "flex_flow": null,
            "grid_area": null,
            "grid_auto_columns": null,
            "grid_auto_flow": null,
            "grid_auto_rows": null,
            "grid_column": null,
            "grid_gap": null,
            "grid_row": null,
            "grid_template_areas": null,
            "grid_template_columns": null,
            "grid_template_rows": null,
            "height": null,
            "justify_content": null,
            "justify_items": null,
            "left": null,
            "margin": null,
            "max_height": null,
            "max_width": null,
            "min_height": null,
            "min_width": null,
            "object_fit": null,
            "object_position": null,
            "order": null,
            "overflow": null,
            "overflow_x": null,
            "overflow_y": null,
            "padding": null,
            "right": null,
            "top": null,
            "visibility": null,
            "width": null
          }
        },
        "22dfa59e08da41889b0a2bcdeb0bbd1c": {
          "model_module": "@jupyter-widgets/controls",
          "model_name": "DescriptionStyleModel",
          "model_module_version": "1.5.0",
          "state": {
            "_model_module": "@jupyter-widgets/controls",
            "_model_module_version": "1.5.0",
            "_model_name": "DescriptionStyleModel",
            "_view_count": null,
            "_view_module": "@jupyter-widgets/base",
            "_view_module_version": "1.2.0",
            "_view_name": "StyleView",
            "description_width": ""
          }
        }
      }
    }
  },
  "cells": [
    {
      "cell_type": "markdown",
      "metadata": {
        "id": "view-in-github",
        "colab_type": "text"
      },
      "source": [
        "<a href=\"https://colab.research.google.com/github/ayoakin/MIVLDE/blob/LLMProbing/2D_Linear.ipynb\" target=\"_parent\"><img src=\"https://colab.research.google.com/assets/colab-badge.svg\" alt=\"Open In Colab\"/></a>"
      ]
    },
    {
      "cell_type": "code",
      "source": [
        "!pip install numpy==1.25.2"
      ],
      "metadata": {
        "colab": {
          "base_uri": "https://localhost:8080/"
        },
        "id": "x5_6kdrYvIB8",
        "outputId": "d1cb9dca-843a-4e70-cd19-8d32a39fc938"
      },
      "execution_count": 75,
      "outputs": [
        {
          "output_type": "stream",
          "name": "stdout",
          "text": [
            "Requirement already satisfied: numpy==1.25.2 in /usr/local/lib/python3.11/dist-packages (1.25.2)\n"
          ]
        }
      ]
    },
    {
      "cell_type": "code",
      "source": [
        "%pip install torch==2.0.0\n",
        "# Added because the default colab instance now has a newer version of colab\n",
        "# This ended up breaking the following line below:\n",
        "# dstr = SymbolicTransformerRegressor(from_pretrained=True)\n",
        "# This is because PyTorch changed how it loads pickled files\n",
        "!pip install odeformer"
      ],
      "metadata": {
        "colab": {
          "base_uri": "https://localhost:8080/"
        },
        "id": "0NmiuTkoYRR1",
        "outputId": "27f29ccd-a0e5-4809-cd3b-cfe15a2c4dee"
      },
      "execution_count": 76,
      "outputs": [
        {
          "output_type": "stream",
          "name": "stdout",
          "text": [
            "Requirement already satisfied: torch==2.0.0 in /usr/local/lib/python3.11/dist-packages (2.0.0)\n",
            "Requirement already satisfied: filelock in /usr/local/lib/python3.11/dist-packages (from torch==2.0.0) (3.18.0)\n",
            "Requirement already satisfied: typing-extensions in /usr/local/lib/python3.11/dist-packages (from torch==2.0.0) (4.13.0)\n",
            "Requirement already satisfied: sympy in /usr/local/lib/python3.11/dist-packages (from torch==2.0.0) (1.11.1)\n",
            "Requirement already satisfied: networkx in /usr/local/lib/python3.11/dist-packages (from torch==2.0.0) (3.4.2)\n",
            "Requirement already satisfied: jinja2 in /usr/local/lib/python3.11/dist-packages (from torch==2.0.0) (3.1.6)\n",
            "Requirement already satisfied: nvidia-cuda-nvrtc-cu11==11.7.99 in /usr/local/lib/python3.11/dist-packages (from torch==2.0.0) (11.7.99)\n",
            "Requirement already satisfied: nvidia-cuda-runtime-cu11==11.7.99 in /usr/local/lib/python3.11/dist-packages (from torch==2.0.0) (11.7.99)\n",
            "Requirement already satisfied: nvidia-cuda-cupti-cu11==11.7.101 in /usr/local/lib/python3.11/dist-packages (from torch==2.0.0) (11.7.101)\n",
            "Requirement already satisfied: nvidia-cudnn-cu11==8.5.0.96 in /usr/local/lib/python3.11/dist-packages (from torch==2.0.0) (8.5.0.96)\n",
            "Requirement already satisfied: nvidia-cublas-cu11==11.10.3.66 in /usr/local/lib/python3.11/dist-packages (from torch==2.0.0) (11.10.3.66)\n",
            "Requirement already satisfied: nvidia-cufft-cu11==10.9.0.58 in /usr/local/lib/python3.11/dist-packages (from torch==2.0.0) (10.9.0.58)\n",
            "Requirement already satisfied: nvidia-curand-cu11==10.2.10.91 in /usr/local/lib/python3.11/dist-packages (from torch==2.0.0) (10.2.10.91)\n",
            "Requirement already satisfied: nvidia-cusolver-cu11==11.4.0.1 in /usr/local/lib/python3.11/dist-packages (from torch==2.0.0) (11.4.0.1)\n",
            "Requirement already satisfied: nvidia-cusparse-cu11==11.7.4.91 in /usr/local/lib/python3.11/dist-packages (from torch==2.0.0) (11.7.4.91)\n",
            "Requirement already satisfied: nvidia-nccl-cu11==2.14.3 in /usr/local/lib/python3.11/dist-packages (from torch==2.0.0) (2.14.3)\n",
            "Requirement already satisfied: nvidia-nvtx-cu11==11.7.91 in /usr/local/lib/python3.11/dist-packages (from torch==2.0.0) (11.7.91)\n",
            "Requirement already satisfied: triton==2.0.0 in /usr/local/lib/python3.11/dist-packages (from torch==2.0.0) (2.0.0)\n",
            "Requirement already satisfied: setuptools in /usr/local/lib/python3.11/dist-packages (from nvidia-cublas-cu11==11.10.3.66->torch==2.0.0) (75.2.0)\n",
            "Requirement already satisfied: wheel in /usr/local/lib/python3.11/dist-packages (from nvidia-cublas-cu11==11.10.3.66->torch==2.0.0) (0.45.1)\n",
            "Requirement already satisfied: cmake in /usr/local/lib/python3.11/dist-packages (from triton==2.0.0->torch==2.0.0) (3.31.6)\n",
            "Requirement already satisfied: lit in /usr/local/lib/python3.11/dist-packages (from triton==2.0.0->torch==2.0.0) (18.1.8)\n",
            "Requirement already satisfied: MarkupSafe>=2.0 in /usr/local/lib/python3.11/dist-packages (from jinja2->torch==2.0.0) (3.0.2)\n",
            "Requirement already satisfied: mpmath>=0.19 in /usr/local/lib/python3.11/dist-packages (from sympy->torch==2.0.0) (1.3.0)\n",
            "Requirement already satisfied: odeformer in /usr/local/lib/python3.11/dist-packages (0.1.7)\n",
            "Requirement already satisfied: numexpr>=2.8.4 in /usr/local/lib/python3.11/dist-packages (from odeformer) (2.10.2)\n",
            "Requirement already satisfied: sympy==1.11.1 in /usr/local/lib/python3.11/dist-packages (from odeformer) (1.11.1)\n",
            "Requirement already satisfied: matplotlib in /usr/local/lib/python3.11/dist-packages (from odeformer) (3.10.0)\n",
            "Requirement already satisfied: numpy in /usr/local/lib/python3.11/dist-packages (from odeformer) (1.25.2)\n",
            "Requirement already satisfied: pandas in /usr/local/lib/python3.11/dist-packages (from odeformer) (2.2.2)\n",
            "Requirement already satisfied: requests in /usr/local/lib/python3.11/dist-packages (from odeformer) (2.32.3)\n",
            "Requirement already satisfied: scikit-learn in /usr/local/lib/python3.11/dist-packages (from odeformer) (1.6.1)\n",
            "Requirement already satisfied: scipy in /usr/local/lib/python3.11/dist-packages (from odeformer) (1.14.1)\n",
            "Requirement already satisfied: seaborn in /usr/local/lib/python3.11/dist-packages (from odeformer) (0.13.2)\n",
            "Requirement already satisfied: setproctitle in /usr/local/lib/python3.11/dist-packages (from odeformer) (1.3.5)\n",
            "Requirement already satisfied: torch>=2.0.0 in /usr/local/lib/python3.11/dist-packages (from odeformer) (2.0.0)\n",
            "Requirement already satisfied: tqdm in /usr/local/lib/python3.11/dist-packages (from odeformer) (4.67.1)\n",
            "Requirement already satisfied: wandb in /usr/local/lib/python3.11/dist-packages (from odeformer) (0.19.8)\n",
            "Requirement already satisfied: gdown in /usr/local/lib/python3.11/dist-packages (from odeformer) (5.2.0)\n",
            "Requirement already satisfied: regex in /usr/local/lib/python3.11/dist-packages (from odeformer) (2024.11.6)\n",
            "Requirement already satisfied: mpmath>=0.19 in /usr/local/lib/python3.11/dist-packages (from sympy==1.11.1->odeformer) (1.3.0)\n",
            "Requirement already satisfied: filelock in /usr/local/lib/python3.11/dist-packages (from torch>=2.0.0->odeformer) (3.18.0)\n",
            "Requirement already satisfied: typing-extensions in /usr/local/lib/python3.11/dist-packages (from torch>=2.0.0->odeformer) (4.13.0)\n",
            "Requirement already satisfied: networkx in /usr/local/lib/python3.11/dist-packages (from torch>=2.0.0->odeformer) (3.4.2)\n",
            "Requirement already satisfied: jinja2 in /usr/local/lib/python3.11/dist-packages (from torch>=2.0.0->odeformer) (3.1.6)\n",
            "Requirement already satisfied: nvidia-cuda-nvrtc-cu11==11.7.99 in /usr/local/lib/python3.11/dist-packages (from torch>=2.0.0->odeformer) (11.7.99)\n",
            "Requirement already satisfied: nvidia-cuda-runtime-cu11==11.7.99 in /usr/local/lib/python3.11/dist-packages (from torch>=2.0.0->odeformer) (11.7.99)\n",
            "Requirement already satisfied: nvidia-cuda-cupti-cu11==11.7.101 in /usr/local/lib/python3.11/dist-packages (from torch>=2.0.0->odeformer) (11.7.101)\n",
            "Requirement already satisfied: nvidia-cudnn-cu11==8.5.0.96 in /usr/local/lib/python3.11/dist-packages (from torch>=2.0.0->odeformer) (8.5.0.96)\n",
            "Requirement already satisfied: nvidia-cublas-cu11==11.10.3.66 in /usr/local/lib/python3.11/dist-packages (from torch>=2.0.0->odeformer) (11.10.3.66)\n",
            "Requirement already satisfied: nvidia-cufft-cu11==10.9.0.58 in /usr/local/lib/python3.11/dist-packages (from torch>=2.0.0->odeformer) (10.9.0.58)\n",
            "Requirement already satisfied: nvidia-curand-cu11==10.2.10.91 in /usr/local/lib/python3.11/dist-packages (from torch>=2.0.0->odeformer) (10.2.10.91)\n",
            "Requirement already satisfied: nvidia-cusolver-cu11==11.4.0.1 in /usr/local/lib/python3.11/dist-packages (from torch>=2.0.0->odeformer) (11.4.0.1)\n",
            "Requirement already satisfied: nvidia-cusparse-cu11==11.7.4.91 in /usr/local/lib/python3.11/dist-packages (from torch>=2.0.0->odeformer) (11.7.4.91)\n",
            "Requirement already satisfied: nvidia-nccl-cu11==2.14.3 in /usr/local/lib/python3.11/dist-packages (from torch>=2.0.0->odeformer) (2.14.3)\n",
            "Requirement already satisfied: nvidia-nvtx-cu11==11.7.91 in /usr/local/lib/python3.11/dist-packages (from torch>=2.0.0->odeformer) (11.7.91)\n",
            "Requirement already satisfied: triton==2.0.0 in /usr/local/lib/python3.11/dist-packages (from torch>=2.0.0->odeformer) (2.0.0)\n",
            "Requirement already satisfied: setuptools in /usr/local/lib/python3.11/dist-packages (from nvidia-cublas-cu11==11.10.3.66->torch>=2.0.0->odeformer) (75.2.0)\n",
            "Requirement already satisfied: wheel in /usr/local/lib/python3.11/dist-packages (from nvidia-cublas-cu11==11.10.3.66->torch>=2.0.0->odeformer) (0.45.1)\n",
            "Requirement already satisfied: cmake in /usr/local/lib/python3.11/dist-packages (from triton==2.0.0->torch>=2.0.0->odeformer) (3.31.6)\n",
            "Requirement already satisfied: lit in /usr/local/lib/python3.11/dist-packages (from triton==2.0.0->torch>=2.0.0->odeformer) (18.1.8)\n",
            "Requirement already satisfied: beautifulsoup4 in /usr/local/lib/python3.11/dist-packages (from gdown->odeformer) (4.13.3)\n",
            "Requirement already satisfied: contourpy>=1.0.1 in /usr/local/lib/python3.11/dist-packages (from matplotlib->odeformer) (1.3.1)\n",
            "Requirement already satisfied: cycler>=0.10 in /usr/local/lib/python3.11/dist-packages (from matplotlib->odeformer) (0.12.1)\n",
            "Requirement already satisfied: fonttools>=4.22.0 in /usr/local/lib/python3.11/dist-packages (from matplotlib->odeformer) (4.56.0)\n",
            "Requirement already satisfied: kiwisolver>=1.3.1 in /usr/local/lib/python3.11/dist-packages (from matplotlib->odeformer) (1.4.8)\n",
            "Requirement already satisfied: packaging>=20.0 in /usr/local/lib/python3.11/dist-packages (from matplotlib->odeformer) (24.2)\n",
            "Requirement already satisfied: pillow>=8 in /usr/local/lib/python3.11/dist-packages (from matplotlib->odeformer) (11.1.0)\n",
            "Requirement already satisfied: pyparsing>=2.3.1 in /usr/local/lib/python3.11/dist-packages (from matplotlib->odeformer) (3.2.3)\n",
            "Requirement already satisfied: python-dateutil>=2.7 in /usr/local/lib/python3.11/dist-packages (from matplotlib->odeformer) (2.8.2)\n",
            "Requirement already satisfied: pytz>=2020.1 in /usr/local/lib/python3.11/dist-packages (from pandas->odeformer) (2025.2)\n",
            "Requirement already satisfied: tzdata>=2022.7 in /usr/local/lib/python3.11/dist-packages (from pandas->odeformer) (2025.2)\n",
            "Requirement already satisfied: charset-normalizer<4,>=2 in /usr/local/lib/python3.11/dist-packages (from requests->odeformer) (3.4.1)\n",
            "Requirement already satisfied: idna<4,>=2.5 in /usr/local/lib/python3.11/dist-packages (from requests->odeformer) (3.10)\n",
            "Requirement already satisfied: urllib3<3,>=1.21.1 in /usr/local/lib/python3.11/dist-packages (from requests->odeformer) (2.3.0)\n",
            "Requirement already satisfied: certifi>=2017.4.17 in /usr/local/lib/python3.11/dist-packages (from requests->odeformer) (2025.1.31)\n",
            "Requirement already satisfied: joblib>=1.2.0 in /usr/local/lib/python3.11/dist-packages (from scikit-learn->odeformer) (1.4.2)\n",
            "Requirement already satisfied: threadpoolctl>=3.1.0 in /usr/local/lib/python3.11/dist-packages (from scikit-learn->odeformer) (3.6.0)\n",
            "Requirement already satisfied: click!=8.0.0,>=7.1 in /usr/local/lib/python3.11/dist-packages (from wandb->odeformer) (8.1.8)\n",
            "Requirement already satisfied: docker-pycreds>=0.4.0 in /usr/local/lib/python3.11/dist-packages (from wandb->odeformer) (0.4.0)\n",
            "Requirement already satisfied: gitpython!=3.1.29,>=1.0.0 in /usr/local/lib/python3.11/dist-packages (from wandb->odeformer) (3.1.44)\n",
            "Requirement already satisfied: platformdirs in /usr/local/lib/python3.11/dist-packages (from wandb->odeformer) (4.3.7)\n",
            "Requirement already satisfied: protobuf!=4.21.0,!=5.28.0,<6,>=3.19.0 in /usr/local/lib/python3.11/dist-packages (from wandb->odeformer) (5.29.4)\n",
            "Requirement already satisfied: psutil>=5.0.0 in /usr/local/lib/python3.11/dist-packages (from wandb->odeformer) (5.9.5)\n",
            "Requirement already satisfied: pydantic<3,>=2.6 in /usr/local/lib/python3.11/dist-packages (from wandb->odeformer) (2.11.1)\n",
            "Requirement already satisfied: pyyaml in /usr/local/lib/python3.11/dist-packages (from wandb->odeformer) (6.0.2)\n",
            "Requirement already satisfied: sentry-sdk>=2.0.0 in /usr/local/lib/python3.11/dist-packages (from wandb->odeformer) (2.25.0)\n",
            "Requirement already satisfied: six>=1.4.0 in /usr/local/lib/python3.11/dist-packages (from docker-pycreds>=0.4.0->wandb->odeformer) (1.17.0)\n",
            "Requirement already satisfied: gitdb<5,>=4.0.1 in /usr/local/lib/python3.11/dist-packages (from gitpython!=3.1.29,>=1.0.0->wandb->odeformer) (4.0.12)\n",
            "Requirement already satisfied: annotated-types>=0.6.0 in /usr/local/lib/python3.11/dist-packages (from pydantic<3,>=2.6->wandb->odeformer) (0.7.0)\n",
            "Requirement already satisfied: pydantic-core==2.33.0 in /usr/local/lib/python3.11/dist-packages (from pydantic<3,>=2.6->wandb->odeformer) (2.33.0)\n",
            "Requirement already satisfied: typing-inspection>=0.4.0 in /usr/local/lib/python3.11/dist-packages (from pydantic<3,>=2.6->wandb->odeformer) (0.4.0)\n",
            "Requirement already satisfied: soupsieve>1.2 in /usr/local/lib/python3.11/dist-packages (from beautifulsoup4->gdown->odeformer) (2.6)\n",
            "Requirement already satisfied: MarkupSafe>=2.0 in /usr/local/lib/python3.11/dist-packages (from jinja2->torch>=2.0.0->odeformer) (3.0.2)\n",
            "Requirement already satisfied: PySocks!=1.5.7,>=1.5.6 in /usr/local/lib/python3.11/dist-packages (from requests[socks]->gdown->odeformer) (1.7.1)\n",
            "Requirement already satisfied: smmap<6,>=3.0.1 in /usr/local/lib/python3.11/dist-packages (from gitdb<5,>=4.0.1->gitpython!=3.1.29,>=1.0.0->wandb->odeformer) (5.0.2)\n"
          ]
        }
      ]
    },
    {
      "cell_type": "code",
      "source": [
        "# give colab permission to access drive\n",
        "from google.colab import drive\n",
        "drive.mount('/content/drive')"
      ],
      "metadata": {
        "colab": {
          "base_uri": "https://localhost:8080/"
        },
        "id": "nm965IrO22Zw",
        "outputId": "7974761a-38af-4b81-d426-a79bac4add00"
      },
      "execution_count": 77,
      "outputs": [
        {
          "output_type": "stream",
          "name": "stdout",
          "text": [
            "Drive already mounted at /content/drive; to attempt to forcibly remount, call drive.mount(\"/content/drive\", force_remount=True).\n"
          ]
        }
      ]
    },
    {
      "cell_type": "code",
      "source": [
        "# Update these as required\n",
        "#repo_path = '/content/drive/MyDrive/github/subteams/LLMProbing'\n",
        "repo_path = \"/content/drive/MyDrive/Personlig/AISC Mech Interp Diff eq/MIVLDE/subteams/LLMProbing\"\n",
        "#odeformer_path = '/content/drive/MyDrive/aisc' # This is because I cloned the odeformer repo into my aisc folder\n",
        "odeformer_path = '/content/drive/MyDrive'\n",
        "#samples_path = '/content/drive/MyDrive/github/subteams/LLMProbing/local_experiment_data/samples'\n",
        "samples_path = '/content/drive/MyDrive/aisc/samples'\n",
        "activations_path = '/content/drive/MyDrive/aisc/activations'\n",
        "probes_path = '/content/drive/MyDrive/aisc/probes'"
      ],
      "metadata": {
        "id": "3TvMZ3QZ3GoZ"
      },
      "execution_count": 78,
      "outputs": []
    },
    {
      "cell_type": "code",
      "source": [
        "import sys\n",
        "import importlib\n",
        "sys.path.append(repo_path)\n",
        "sys.path.append(odeformer_path)"
      ],
      "metadata": {
        "id": "pNqQwNvG28hV"
      },
      "execution_count": 79,
      "outputs": []
    },
    {
      "cell_type": "code",
      "source": [
        "import numpy as np\n",
        "import os\n",
        "import pickle\n",
        "import matplotlib.pyplot as plt\n",
        "from scipy.integrate import solve_ivp\n",
        "from scipy import linalg\n",
        "from tqdm import tqdm\n",
        "from tqdm.contrib import itertools"
      ],
      "metadata": {
        "id": "5RUno2Vs4e_g"
      },
      "execution_count": 80,
      "outputs": []
    },
    {
      "cell_type": "code",
      "source": [
        "from odeformer.model import SymbolicTransformerRegressor\n",
        "dstr = SymbolicTransformerRegressor(from_pretrained=True)"
      ],
      "metadata": {
        "colab": {
          "base_uri": "https://localhost:8080/"
        },
        "id": "fJCeXP3U7LML",
        "outputId": "272bef86-fe80-4c5f-a73c-e41745684eb1"
      },
      "execution_count": 81,
      "outputs": [
        {
          "output_type": "stream",
          "name": "stdout",
          "text": [
            "Found pretrained model at odeformer.pt\n",
            "Loaded pretrained model\n"
          ]
        }
      ]
    },
    {
      "cell_type": "code",
      "source": [
        "model_args = {'beam_size': 10, 'beam_temperature': 0.5}\n",
        "dstr.set_model_args(model_args)"
      ],
      "metadata": {
        "id": "SCgVxIyMWD4E"
      },
      "execution_count": 82,
      "outputs": []
    },
    {
      "cell_type": "code",
      "source": [
        "%load_ext autoreload\n",
        "%autoreload 2"
      ],
      "metadata": {
        "id": "XkBDbGPWT1_d",
        "colab": {
          "base_uri": "https://localhost:8080/"
        },
        "outputId": "cb4add7a-807b-4cc6-d70f-7868e8b8ccda"
      },
      "execution_count": 83,
      "outputs": [
        {
          "output_type": "stream",
          "name": "stdout",
          "text": [
            "The autoreload extension is already loaded. To reload it, use:\n",
            "  %reload_ext autoreload\n"
          ]
        }
      ]
    },
    {
      "cell_type": "code",
      "source": [
        "times = np.linspace(0, 10, 50)\n",
        "times_eval = np.linspace(110, 210, 500)\n",
        "x_0 = 2.3 * np.cos(times + 0.5)\n",
        "x_1 = 1.2 * np.sin(times + 0.1)\n",
        "x_0_eval = 2.3 * np.cos(times_eval + 0.5)\n",
        "x_1_eval = 1.2 * np.sin(times_eval + 0.1)\n",
        "trajectory = np.stack([x_0, x_1], axis=1)  # (time, state) format\n",
        "trajectory_eval = np.stack([x_0_eval, x_1_eval], axis=1)\n",
        "\n",
        "\n"
      ],
      "metadata": {
        "id": "DymusoKVmW8O"
      },
      "execution_count": 88,
      "outputs": []
    },
    {
      "cell_type": "code",
      "source": [
        "candidates = dstr.fit(times, trajectory)\n",
        "dstr.print(n_predictions=2)\n",
        "#pred_trajectory = dstr.predict(times, trajectory[0])\n",
        "pred_trajectory_eval = dstr.predict(times_eval, trajectory_eval[0])\n",
        "#pred_trajectory = dstr.predict(times, 110)\n",
        "\n",
        "\n",
        "# evaluating prediction using R2 score\n",
        "from odeformer.metrics import r2_score\n",
        "#print(\"R2 Score:\", r2_score(trajectory, pred_trajectory))\n",
        "print(\"R2 Score:\", r2_score(trajectory_eval, pred_trajectory_eval))"
      ],
      "metadata": {
        "colab": {
          "base_uri": "https://localhost:8080/"
        },
        "id": "rKhB17X7maDa",
        "outputId": "7a5d313c-493a-4405-f622-470f69438876"
      },
      "execution_count": 89,
      "outputs": [
        {
          "output_type": "stream",
          "name": "stdout",
          "text": [
            "x_0' = -0.2718 * x_0 + -2.0077 * x_1\n",
            "x_1' = 0.5443 * x_0 + 0.2902 * x_1\n",
            "x_0' = -0.2708 * x_0 + -1.9425 * x_1\n",
            "x_1' = 0.5812 * x_0 + 0.2980 * x_1\n",
            "R2 Score: 0.2792608870361351\n"
          ]
        }
      ]
    },
    {
      "cell_type": "code",
      "source": [
        "#plt.plot(times, trajectory[:, 0], label='True X')\n",
        "plt.plot(times_eval, trajectory_eval[:, 0], label='True X')\n",
        "#plt.plot(times, pred_trajectory[:, 0], label='Predicted X', linestyle='--')\n",
        "plt.plot(times_eval, pred_trajectory_eval[:, 0], label='Predicted X', linestyle='--')\n",
        "#plt.plot(times, trajectory[:, 1], label='True Y')\n",
        "plt.plot(times_eval, trajectory_eval[:, 1], label='True Y')\n",
        "#plt.plot(times, pred_trajectory[:, 1], label='Predicted Y', linestyle='--')\n",
        "plt.plot(times_eval, pred_trajectory_eval[:, 1], label='Predicted Y', linestyle='--')\n",
        "plt.legend()\n",
        "plt.xlabel('Time')\n",
        "plt.ylabel('Trajectory')\n",
        "plt.title('True vs Predicted Trajectories')\n",
        "plt.show()"
      ],
      "metadata": {
        "colab": {
          "base_uri": "https://localhost:8080/",
          "height": 480
        },
        "id": "imyKbSR-mfkE",
        "outputId": "32224674-81a6-456b-a3f5-ba9e80549df0"
      },
      "execution_count": 90,
      "outputs": [
        {
          "output_type": "display_data",
          "data": {
            "text/plain": [
              "<Figure size 640x480 with 1 Axes>"
            ],
            "image/png": "[encoded data removed]"
          },
          "metadata": {}
        }
      ]
    },
    {
      "cell_type": "code",
      "source": [
        "scale = 1\n",
        "alpha = -1 * scale\n",
        "beta = 0.5 * scale\n",
        "gamma = 0.5 * scale\n",
        "delta = -1 * scale\n",
        "\n",
        "\n",
        "# Defining the system of ODEs\n",
        "def lotka_volterra(t, z):\n",
        "    x, y = z\n",
        "    dxdt = alpha * x + beta * y\n",
        "    dydt = gamma * x + delta * y\n",
        "    return [dxdt, dydt]\n",
        "\n",
        "# initial conditions\n",
        "initial_conditions = [1, 1] # (with 40 prey and 9 predators)\n",
        "\n",
        "# time span and points for the simulation\n",
        "t_span = (0, 200)\n",
        "t_points = np.linspace(0, 200, 1000)\n",
        "t_points = np.linspace(0, 30, 50)\n",
        "\n",
        "solution = solve_ivp(lotka_volterra, t_span, initial_conditions, t_eval=t_points)\n",
        "\n",
        "# extracting prey and predator populations over time\n",
        "prey = solution.y[0]\n",
        "predator = solution.y[1]\n",
        "trajectory = np.stack([prey, predator], axis=1)\n",
        "candidates = dstr.fit(t_points, trajectory)\n",
        "dstr.print(n_predictions=2)\n",
        "pred_trajectory = dstr.predict(t_points, trajectory[0])\n",
        "\n",
        "# plotting results\n",
        "plt.figure(figsize=(10, 6))\n",
        "plt.plot(t_points, prey, label='Prey Population (x)', color='blue')\n",
        "plt.plot(t_points, predator, label='Predator Population (y)', color='red')\n",
        "plt.title(\"Lotka-Volterra Predator-Prey Model\")\n",
        "plt.xlabel(\"Time\")\n",
        "plt.ylabel(\"Population\")\n",
        "plt.plot(t_points, pred_trajectory[:, 1], label='Predicted Predator', linestyle='--', color='red')\n",
        "plt.plot(t_points, pred_trajectory[:, 0], label='Predicted Prey', linestyle='--', color='blue')\n",
        "plt.legend()\n",
        "plt.grid(True)\n",
        "plt.show()\n",
        "print(\"R2 Score: \" ,r2_score(trajectory, pred_trajectory))"
      ],
      "metadata": {
        "colab": {
          "base_uri": "https://localhost:8080/",
          "height": 662
        },
        "id": "NCW8LB5an4it",
        "outputId": "69c478b2-a127-40f1-a2c0-a7832666ce3a"
      },
      "execution_count": 91,
      "outputs": [
        {
          "output_type": "stream",
          "name": "stdout",
          "text": [
            "x_0' = 0.0638 * x_1 + -0.5655 * x_0\n",
            "x_1' = 3.4110 * x_0 + -3.8370 * x_1\n",
            "x_0' = -0.5076 * x_1\n",
            "x_1' = 0.6798 * x_0 + -1.2012 * x_1\n"
          ]
        },
        {
          "output_type": "display_data",
          "data": {
            "text/plain": [
              "<Figure size 1000x600 with 1 Axes>"
            ],
            "image/png": "[encoded data removed]"
          },
          "metadata": {}
        },
        {
          "output_type": "stream",
          "name": "stdout",
          "text": [
            "R2 Score:  0.9998787231605939\n"
          ]
        }
      ]
    },
    {
      "cell_type": "markdown",
      "source": [
        "## Random Sample Generation"
      ],
      "metadata": {
        "id": "4OANH6idzPaa"
      }
    },
    {
      "cell_type": "markdown",
      "source": [
        "## Manual Sample Generation"
      ],
      "metadata": {
        "id": "x3OpISsvzN25"
      }
    },
    {
      "cell_type": "code",
      "source": [
        "# Times array\n",
        "t_values = np.linspace(1, 10, 50)\n",
        "\n",
        "# Exponential parameters\n",
        "alpha_values = np.linspace(-1,1, 5)\n",
        "beta_values = np.linspace(-1,1, 5)\n",
        "gamma_values = np.linspace(-1,1, 5)\n",
        "delta_values = np.linspace(-1,1, 5)\n",
        "# Hyperbolic parameters\n",
        "initial_conditions = [1,1]"
      ],
      "metadata": {
        "id": "0JIHe0K3HMNt"
      },
      "execution_count": 33,
      "outputs": []
    },
    {
      "cell_type": "code",
      "source": [
        " def clean_expression(expression):\n",
        "    # In order to make expressions for equations easier to read\n",
        "    cleaned = expression.replace('--', '')\n",
        "    cleaned = cleaned.replace(' -', '-')\n",
        "    cleaned = cleaned.replace('- ', '-')\n",
        "    cleaned = cleaned.replace('+-', '-')\n",
        "    return cleaned"
      ],
      "metadata": {
        "id": "Ss5PlubIPp0J"
      },
      "execution_count": 28,
      "outputs": []
    },
    {
      "cell_type": "code",
      "source": [
        "def save_generated_samples(samples, template='sample_man_'):\n",
        "    for idx, sample in tqdm(enumerate(samples), desc='Saving generated samples'):\n",
        "        sample_filename = template + f\"_{idx}.pt\"\n",
        "        sample_filepath = os.path.join(manual_samples_path, sample_filename)\n",
        "        os.makedirs(os.path.dirname(sample_filepath), exist_ok=True)\n",
        "        # Save file using pickle\n",
        "        with open(sample_filepath, 'wb') as f:\n",
        "          pickle.dump(sample, f)"
      ],
      "metadata": {
        "id": "woFEd2E8XsNE"
      },
      "execution_count": 29,
      "outputs": []
    },
    {
      "cell_type": "code",
      "source": [
        "dataset_name = '2D3'"
      ],
      "metadata": {
        "id": "Y1Vgcv76YX5P"
      },
      "execution_count": 50,
      "outputs": []
    },
    {
      "cell_type": "code",
      "source": [
        "manual_samples_path = samples_path + '/' + dataset_name"
      ],
      "metadata": {
        "id": "iJQTogZxZJ9a"
      },
      "execution_count": 51,
      "outputs": []
    },
    {
      "cell_type": "code",
      "source": [
        "print(manual_samples_path)"
      ],
      "metadata": {
        "colab": {
          "base_uri": "https://localhost:8080/"
        },
        "id": "yr-XTz2hbtxt",
        "outputId": "0ce5d1da-71aa-441d-9bdf-8d76de90aa1b"
      },
      "execution_count": 32,
      "outputs": [
        {
          "output_type": "stream",
          "name": "stdout",
          "text": [
            "/content/drive/MyDrive/aisc/samples/2D\n"
          ]
        }
      ]
    },
    {
      "cell_type": "code",
      "source": [
        "alpha = -1.0\n",
        "beta = -1.0\n",
        "gamam = -1.0\n",
        "delta = -0.5\n",
        "\n",
        "def lotka_volterra(t, z):\n",
        "  x, y = z\n",
        "  dxdt = alpha * x + beta * y\n",
        "  dydt = gamma * x + delta * y\n",
        "  return [dxdt, dydt]\n",
        "\n",
        "\n",
        "solution = solve_ivp(lotka_volterra, t_span, initial_conditions, t_eval=t_points)\n",
        "\n",
        "x = solution.y[0]\n",
        "y = solution.y[1]\n",
        "trajectory = np.stack([x, y], axis=1)\n",
        "candidates = dstr.fit(t_points, trajectory)\n",
        "#print('dstr: ', dstr)\n",
        "pred_trajectory = dstr.predict(t_points, trajectory[0])\n",
        "print(trajectory)"
      ],
      "metadata": {
        "colab": {
          "base_uri": "https://localhost:8080/"
        },
        "id": "r1V8VA5Sh-jz",
        "outputId": "319be66d-9a3a-42dc-e217-40c3f6e56e4f"
      },
      "execution_count": 42,
      "outputs": [
        {
          "output_type": "stream",
          "name": "stdout",
          "text": [
            "[[ 1.00000000e+00  1.00000000e+00]\n",
            " [ 1.10820356e-01  8.62905339e-01]\n",
            " [-2.71303696e-01  6.03224597e-01]\n",
            " [-3.59181546e-01  3.55936640e-01]\n",
            " [-3.08746589e-01  1.72624704e-01]\n",
            " [-2.15250962e-01  5.83872574e-02]\n",
            " [-1.26696849e-01 -1.15468481e-03]\n",
            " [-6.12038175e-02 -2.46347444e-02]\n",
            " [-2.05142089e-02 -2.81414980e-02]\n",
            " [ 6.11787568e-04 -2.28519778e-02]\n",
            " [ 8.90116218e-03 -1.53052279e-02]\n",
            " [ 1.00929139e-02 -8.65210770e-03]\n",
            " [ 8.16789842e-03 -3.94032742e-03]\n",
            " [ 5.45965743e-03 -1.12190055e-03]\n",
            " [ 3.07726577e-03  2.73278469e-04]\n",
            " [ 1.39505806e-03  7.63261068e-04]\n",
            " [ 3.91739797e-04  7.77757445e-04]\n",
            " [-1.02969223e-04  5.98707754e-04]\n",
            " [-2.75227443e-04  3.84719487e-04]\n",
            " [-2.78928797e-04  2.07907828e-04]\n",
            " [-2.14064686e-04  8.76792938e-05]\n",
            " [-1.37393024e-04  1.90452536e-05]\n",
            " [-7.39264834e-05 -1.31905563e-05]\n",
            " [-3.10803907e-05 -2.29003782e-05]\n",
            " [-6.48790745e-06 -2.13112295e-05]\n",
            " [ 5.01462080e-06 -1.57047982e-05]\n",
            " [ 8.18843943e-06 -9.67802103e-06]\n",
            " [ 7.88854709e-06 -4.96799113e-06]\n",
            " [ 5.72255651e-06 -1.99460484e-06]\n",
            " [ 3.51030758e-06 -3.74828280e-07]\n",
            " [ 1.89778198e-06  6.15533769e-07]\n",
            " [ 7.62295691e-07  8.27180866e-07]\n",
            " [ 2.90257006e-07  5.86932476e-07]\n",
            " [-7.50389105e-08  4.37971610e-07]\n",
            " [-4.78511323e-07  4.38155187e-07]\n",
            " [-4.88496111e-07  2.77137641e-07]\n",
            " [-2.70096120e-07  2.02240675e-07]\n",
            " [-1.45875155e-07  1.40596865e-07]\n",
            " [-1.71615569e-07 -2.03379476e-09]\n",
            " [-2.15628352e-07 -1.63402397e-07]\n",
            " [-1.91364448e-07 -1.13357474e-07]\n",
            " [-6.27808835e-07  1.85959697e-07]\n",
            " [-9.35634405e-07  3.52454190e-07]\n",
            " [-7.20018884e-07  1.94094017e-07]\n",
            " [ 2.90262128e-08 -2.46518478e-07]\n",
            " [ 9.36655576e-07 -6.92146620e-07]\n",
            " [ 1.24319011e-06 -6.30919403e-07]\n",
            " [ 7.40993629e-07 -4.90222094e-07]\n",
            " [ 3.25569084e-07 -6.19960079e-07]\n",
            " [ 2.69232121e-07 -4.37869220e-07]]\n"
          ]
        }
      ]
    },
    {
      "cell_type": "code",
      "source": [
        " def generate_2d_samples(t_values, alpha_values, beta_values, gamma_values, delta_values, is_performance_filter = False, performance_filter = -1):\n",
        "    manual_samples = []\n",
        "    for alpha in alpha_values:\n",
        "        for beta in beta_values:\n",
        "            for gamma in gamma_values:\n",
        "                for delta in delta_values:\n",
        "                    def lotka_volterra(t, z):\n",
        "                      x, y = z\n",
        "                      dxdt = alpha * x + beta * y\n",
        "                      dydt = gamma * x + delta * y\n",
        "                      return [dxdt, dydt]\n",
        "\n",
        "                    solution = solve_ivp(lotka_volterra, t_span, initial_conditions, t_eval=t_points)\n",
        "                    x = solution.y[0]\n",
        "                    y = solution.y[1]\n",
        "                    trajectory = np.stack([x, y], axis=1)\n",
        "                    #candidates = dstr.fit(t_points, trajectory)\n",
        "                    #print('dstr: ', dstr)\n",
        "                    #pred_trajectory = dstr.predict(t_points, trajectory[0])\n",
        "                    '''\n",
        "                    if pred_trajectory is None:\n",
        "                      print(alpha,beta,gamma,delta)\n",
        "                      dstr.print(n_predictions = 2)\n",
        "                      #print('trajectory: ', trajectory)\n",
        "                      continue\n",
        "                    '''\n",
        "                    #r2 = r2_score(trajectory, pred_trajectory)\n",
        "                    A = np.array([[alpha, beta],\n",
        "                      [gamma, delta]])\n",
        "\n",
        "                    # Calculate eigenvalues\n",
        "                    eigenvalues = linalg.eigvals(A)\n",
        "                    real_parts = np.real(eigenvalues)\n",
        "                    imag_parts = np.imag(eigenvalues)\n",
        "                    #print(eigenvalues[0])\n",
        "                    #eigenv1 = eigenvalues[0]\n",
        "\n",
        "                    #eigenv2 =\n",
        "                    #if (is_performance_filter and r2 < performance_filter):\n",
        "                        #continue\n",
        "                    #print(alpha,beta,gamma,delta)\n",
        "                    sample_dict = {\n",
        "                        'times' : t_values,\n",
        "                        'trajectory': trajectory,\n",
        "                        'parameters': {'alpha': float(alpha), 'beta': float(beta), 'gamma': float(gamma), 'delta': float(delta)}, # Convert to float for better serialization\n",
        "                        'feature_dict': {\"real_0\": real_parts[0],\"real_1\": real_parts[1], \"imag_0\": imag_parts[0], \"imag_1\" : imag_parts[1]},\n",
        "                        'expression': clean_expression(f\"dxdt = {alpha} * x + {beta} * y, dydt = {gamma} * x + {delta} * y\")\n",
        "                    }\n",
        "\n",
        "                    manual_samples.append(sample_dict)\n",
        "\n",
        "\n",
        "    save_generated_samples(manual_samples, template='sample_' + dataset_name)\n",
        "    return 0\n",
        "generate_2d_samples(t_values, alpha_values, beta_values, gamma_values, delta_values)"
      ],
      "metadata": {
        "colab": {
          "base_uri": "https://localhost:8080/"
        },
        "id": "ahgAznHAH0i0",
        "outputId": "10e09294-7b70-46f4-d9b9-c16dd7d7ce36"
      },
      "execution_count": 54,
      "outputs": [
        {
          "output_type": "stream",
          "name": "stderr",
          "text": [
            "Saving generated samples: 625it [00:07, 89.10it/s]\n"
          ]
        },
        {
          "output_type": "execute_result",
          "data": {
            "text/plain": [
              "0"
            ]
          },
          "metadata": {},
          "execution_count": 54
        }
      ]
    },
    {
      "cell_type": "code",
      "source": [
        "from src.sample_generation import ManualSamplesGenerator"
      ],
      "metadata": {
        "id": "4d-5VwP7cBad"
      },
      "execution_count": 55,
      "outputs": []
    },
    {
      "cell_type": "code",
      "source": [
        "#manual_samples_path = f'{samples_path}/demo_manual2'\n",
        "manual_samples_path = f'{samples_path}/' + dataset_name\n",
        "msg = ManualSamplesGenerator(samples_path=manual_samples_path)"
      ],
      "metadata": {
        "id": "MQOfJRDZ3-nI"
      },
      "execution_count": null,
      "outputs": []
    },
    {
      "cell_type": "code",
      "source": [
        "# Times array\n",
        "t_values = np.linspace(1, 10, 50)\n",
        "\n",
        "# Exponential parameters\n",
        "c_values = np.linspace(-10,10, 2)\n",
        "a_values = np.linspace(-10,10, 5)\n",
        "\n",
        "# Hyperbolic parameters\n",
        "t0_values = np.linspace(10.1, 100, 5)"
      ],
      "metadata": {
        "id": "7waihYWV4KLN"
      },
      "execution_count": null,
      "outputs": []
    },
    {
      "cell_type": "code",
      "source": [
        "# Generate exponential samples\n",
        "msg.generate_exponential_samples(t_values, c_values, a_values)"
      ],
      "metadata": {
        "colab": {
          "base_uri": "https://localhost:8080/",
          "height": 101,
          "referenced_widgets": [
            "0e2f2432a1a44453945898dc005cd7f2",
            "43a605f460444f89be5305e7a0864532",
            "38bb91e0b7bc4b2aa088c7c13012d775",
            "b7aefd72066144ddadd7bc525f7fe616",
            "4b00dd401dc9478092284a95b49a8a9f",
            "312abd939b484b6b884c3c39a0a6f141",
            "097eac080ca24d5c888e55b62c1a93e9",
            "a6f804e4321f4b6d986f7f2cc1753d76",
            "9b37ae901cae484ab348eec8f639a86b",
            "0723bb30c9f1447a997f6c40f874fc27",
            "22dfa59e08da41889b0a2bcdeb0bbd1c"
          ]
        },
        "id": "E4Buw9n65sr-",
        "outputId": "97ecfad9-9ee9-40cf-9881-5d1c8c505df4"
      },
      "execution_count": null,
      "outputs": [
        {
          "output_type": "display_data",
          "data": {
            "text/plain": [
              "Generating exponential samples:   0%|          | 0/10 [00:00<?, ?it/s]"
            ],
            "application/vnd.jupyter.widget-view+json": {
              "version_major": 2,
              "version_minor": 0,
              "model_id": "0e2f2432a1a44453945898dc005cd7f2"
            }
          },
          "metadata": {}
        },
        {
          "output_type": "stream",
          "name": "stderr",
          "text": [
            "Saving generated samples: 10it [00:00, 57.64it/s]"
          ]
        },
        {
          "output_type": "stream",
          "name": "stdout",
          "text": [
            "\n",
            "[INFO] Data generation complete. Saved 10 exponential samples to /content/drive/MyDrive/aisc/samples/demo_manual_3\n"
          ]
        },
        {
          "output_type": "stream",
          "name": "stderr",
          "text": [
            "\n"
          ]
        }
      ]
    },
    {
      "cell_type": "code",
      "source": [
        "# Inspect an exponential sample to see its keys and some data\n",
        "manual_samples_dir = os.fsencode(manual_samples_path)\n",
        "for sample_file in os.listdir(manual_samples_dir):\n",
        "  sample_name = os.fsdecode(sample_file)\n",
        "  if \"2D\" in sample_name:\n",
        "    exp_sample_path = os.path.join(manual_samples_path, sample_name)\n",
        "    with open(exp_sample_path, 'rb') as f:\n",
        "        exp_sample = pickle.load(f)\n",
        "    print(exp_sample.keys())\n",
        "    print(exp_sample['expression'])\n",
        "    print(exp_sample['feature_dict'])\n",
        "    #print(exp_sample['expression'])\n",
        "    break"
      ],
      "metadata": {
        "colab": {
          "base_uri": "https://localhost:8080/"
        },
        "id": "cDBNG5ZC6hP0",
        "outputId": "3d54e122-a77c-45c9-af05-b6e9cbcafa72"
      },
      "execution_count": 56,
      "outputs": [
        {
          "output_type": "stream",
          "name": "stdout",
          "text": [
            "dict_keys(['times', 'trajectory', 'parameters', 'feature_dict', 'expression'])\n",
            "dxdt =-1.0 * x -1.0 * y, dydt =-1.0 * x -1.0 * y\n",
            "{'real_0': 0.0, 'real_1': -2.0, 'imag_0': 0.0, 'imag_1': 0.0}\n"
          ]
        }
      ]
    },
    {
      "cell_type": "markdown",
      "source": [
        "## Corresponding Activations Extraction"
      ],
      "metadata": {
        "id": "frWKyg3szUQx"
      }
    },
    {
      "cell_type": "code",
      "source": [
        "from src.activation_extraction import ActivationsExtractor"
      ],
      "metadata": {
        "id": "gV07FbFXzYy_"
      },
      "execution_count": 43,
      "outputs": []
    },
    {
      "cell_type": "code",
      "source": [
        "random_activations_path = f'{activations_path}/demo_random3'\n",
        "manual_activations_path = f'{activations_path}/{dataset_name}'"
      ],
      "metadata": {
        "id": "93-zzRtQIshT"
      },
      "execution_count": 57,
      "outputs": []
    },
    {
      "cell_type": "code",
      "source": [
        "act_extractor = ActivationsExtractor()"
      ],
      "metadata": {
        "id": "wqT_igPg6wvD"
      },
      "execution_count": 45,
      "outputs": []
    },
    {
      "cell_type": "code",
      "source": [
        "act_extractor.extract_activations(dstr, random_samples_path, random_activations_path, layers_to_extract=['ffn'])"
      ],
      "metadata": {
        "colab": {
          "base_uri": "https://localhost:8080/"
        },
        "id": "W4Ind3Yx-b3x",
        "outputId": "d8be504c-e641-4f51-f195-cb913e8df0c0"
      },
      "execution_count": null,
      "outputs": [
        {
          "output_type": "stream",
          "name": "stderr",
          "text": [
            "Extracting Activations: 100%|██████████| 10/10 [00:28<00:00,  2.81s/it]"
          ]
        },
        {
          "output_type": "stream",
          "name": "stdout",
          "text": [
            "\n",
            "[INFO] Activation extraction complete. Activations saved to /content/drive/MyDrive/aisc/activations/demo_random3\n"
          ]
        },
        {
          "output_type": "stream",
          "name": "stderr",
          "text": [
            "\n"
          ]
        }
      ]
    },
    {
      "cell_type": "code",
      "source": [
        "act_extractor.extract_activations(dstr, manual_samples_path, manual_activations_path, layers_to_extract=['ffn'])"
      ],
      "metadata": {
        "colab": {
          "base_uri": "https://localhost:8080/"
        },
        "id": "SLMfIh5nI7hH",
        "outputId": "50513a9a-19af-4e70-9b01-6f515ea51720"
      },
      "execution_count": 58,
      "outputs": [
        {
          "output_type": "stream",
          "name": "stderr",
          "text": [
            "Extracting Activations:   0%|          | 2/625 [00:15<1:26:50,  8.36s/it]"
          ]
        },
        {
          "output_type": "stream",
          "name": "stdout",
          "text": [
            "\n",
            "nan in trajectory of sample 2D3_1\n"
          ]
        },
        {
          "output_type": "stream",
          "name": "stderr",
          "text": [
            "Extracting Activations:   5%|▌         | 34/625 [03:37<1:08:37,  6.97s/it]"
          ]
        },
        {
          "output_type": "stream",
          "name": "stdout",
          "text": [
            "\n",
            "nan in trajectory of sample 2D3_33\n"
          ]
        },
        {
          "output_type": "stream",
          "name": "stderr",
          "text": [
            "Extracting Activations:  15%|█▌        | 95/625 [10:27<1:11:06,  8.05s/it]"
          ]
        },
        {
          "output_type": "stream",
          "name": "stdout",
          "text": [
            "\n",
            "nan in trajectory of sample 2D3_94\n"
          ]
        },
        {
          "output_type": "stream",
          "name": "stderr",
          "text": [
            "Extracting Activations:  25%|██▌       | 158/625 [17:36<55:17,  7.10s/it]"
          ]
        },
        {
          "output_type": "stream",
          "name": "stdout",
          "text": [
            "\n",
            "nan in trajectory of sample 2D3_157\n"
          ]
        },
        {
          "output_type": "stream",
          "name": "stderr",
          "text": [
            "Extracting Activations:  34%|███▍      | 215/625 [23:17<55:02,  8.05s/it]"
          ]
        },
        {
          "output_type": "stream",
          "name": "stdout",
          "text": [
            "\n",
            "nan in trajectory of sample 2D3_214\n"
          ]
        },
        {
          "output_type": "stream",
          "name": "stderr",
          "text": [
            "Extracting Activations:  61%|██████    | 381/625 [43:11<32:49,  8.07s/it]"
          ]
        },
        {
          "output_type": "stream",
          "name": "stdout",
          "text": [
            "\n",
            "nan in trajectory of sample 2D3_380\n"
          ]
        },
        {
          "output_type": "stream",
          "name": "stderr",
          "text": [
            "Extracting Activations:  71%|███████   | 444/625 [52:33<26:58,  8.94s/it]"
          ]
        },
        {
          "output_type": "stream",
          "name": "stdout",
          "text": [
            "\n",
            "nan in trajectory of sample 2D3_443\n"
          ]
        },
        {
          "output_type": "stream",
          "name": "stderr",
          "text": [
            "Extracting Activations:  79%|███████▊  | 492/625 [59:28<21:55,  9.89s/it]"
          ]
        },
        {
          "output_type": "stream",
          "name": "stdout",
          "text": [
            "\n",
            "nan in trajectory of sample 2D3_491\n"
          ]
        },
        {
          "output_type": "stream",
          "name": "stderr",
          "text": [
            "Extracting Activations:  89%|████████▉ | 558/625 [1:10:18<12:31, 11.21s/it]"
          ]
        },
        {
          "output_type": "stream",
          "name": "stdout",
          "text": [
            "\n",
            "nan in trajectory of sample 2D3_557\n"
          ]
        },
        {
          "output_type": "stream",
          "name": "stderr",
          "text": [
            "Extracting Activations:  91%|█████████ | 567/625 [1:11:47<09:06,  9.42s/it]"
          ]
        },
        {
          "output_type": "stream",
          "name": "stdout",
          "text": [
            "\n",
            "nan in trajectory of sample 2D3_566\n"
          ]
        },
        {
          "output_type": "stream",
          "name": "stderr",
          "text": [
            "Extracting Activations: 100%|██████████| 625/625 [1:21:49<00:00,  7.85s/it]"
          ]
        },
        {
          "output_type": "stream",
          "name": "stdout",
          "text": [
            "\n",
            "[INFO] Activation extraction complete. Activations saved to /content/drive/MyDrive/aisc/activations/2D3\n"
          ]
        },
        {
          "output_type": "stream",
          "name": "stderr",
          "text": [
            "\n"
          ]
        }
      ]
    },
    {
      "cell_type": "code",
      "source": [
        "# Inspect a random activation and display its keys and some values\n",
        "random_acts_dir = os.fsencode(random_activations_path)\n",
        "for acts_file in os.listdir(random_acts_dir):\n",
        "  acts_name = os.fsdecode(acts_file)\n",
        "  random_acts_path = os.path.join(random_activations_path, acts_name)\n",
        "  with open(random_acts_path, 'rb') as f:\n",
        "      random_acts = pickle.load(f)\n",
        "  print(random_acts.keys())\n",
        "  print(random_acts['feature_dict'])\n",
        "  #print(random_acts['r2_score'])\n",
        "  print(random_acts['expression'])\n",
        "  print(random_acts['pred_expression'])\n",
        "  break"
      ],
      "metadata": {
        "colab": {
          "base_uri": "https://localhost:8080/"
        },
        "id": "vcaqVrXl_VbH",
        "outputId": "f3b7ce16-3e2b-4fe7-c58c-432d75b013b8"
      },
      "execution_count": 46,
      "outputs": [
        {
          "output_type": "stream",
          "name": "stdout",
          "text": [
            "dict_keys(['encoder', 'decoder', 'operator_dict', 'feature_dict', 'pred_expression', 'expression'])\n",
            "{'log': 0, 'exp': 0, 'tan': 0, 'arctan': 0, 'sin_cos': 0, 'arc_sin_cos': 0, 'pow2': 0, 'pow3': 0, 'inv': 0, 'sqrt': 0, 'r2_score': 0.9999999755587363}\n",
            "-0.9998 * x_0\n",
            "x_0' = -1.0000000000000000 * x_0\n",
            "\n"
          ]
        }
      ]
    },
    {
      "cell_type": "code",
      "source": [
        "# Inspect a manual activation and display its keys and some values\n",
        "manual_acts_dir = os.fsencode(manual_activations_path)\n",
        "for acts_file in os.listdir(manual_acts_dir):\n",
        "  acts_name = os.fsdecode(acts_file)\n",
        "  manual_acts_path = os.path.join(manual_activations_path, acts_name)\n",
        "  with open(manual_acts_path, 'rb') as f:\n",
        "      manual_acts = pickle.load(f)\n",
        "  print(manual_acts.keys())\n",
        "  print(manual_acts['feature_dict'])\n",
        "  #print(manual_acts['r2_score'])\n",
        "  print(manual_acts['expression'])\n",
        "  print(manual_acts['pred_expression'])\n",
        "  break"
      ],
      "metadata": {
        "id": "AOeQAVnUJotp",
        "colab": {
          "base_uri": "https://localhost:8080/"
        },
        "outputId": "3a33cf33-51aa-40a6-a5c2-0596d863e3e3"
      },
      "execution_count": 59,
      "outputs": [
        {
          "output_type": "stream",
          "name": "stdout",
          "text": [
            "dict_keys(['encoder', 'decoder', 'feature_dict', 'pred_expression', 'expression'])\n",
            "{'real_0': 0.0, 'real_1': -2.0, 'imag_0': 0.0, 'imag_1': 0.0, 'r2_score': 0.999903635525919}\n",
            "dxdt =-1.0 * x -1.0 * y, dydt =-1.0 * x -1.0 * y\n",
            "x_0' = -6.7740 * x_0\n",
            "x_1' = 0.1897 * x_0 + -7.0580 * x_1\n",
            "\n"
          ]
        }
      ]
    },
    {
      "cell_type": "markdown",
      "source": [
        "## Probe Training"
      ],
      "metadata": {
        "id": "LLY7KIPHzZrh"
      }
    },
    {
      "cell_type": "code",
      "source": [
        "import experiments"
      ],
      "metadata": {
        "id": "Elin36J0sfCF"
      },
      "execution_count": 92,
      "outputs": []
    },
    {
      "cell_type": "code",
      "source": [
        "dir(experiments)\n",
        "# Current experiment functions supported:\n",
        "#   - separability_testing"
      ],
      "metadata": {
        "colab": {
          "base_uri": "https://localhost:8080/"
        },
        "id": "dGFAdbmksgr4",
        "outputId": "09d8b5ff-80df-435a-c10e-c9a904e080d2"
      },
      "execution_count": 61,
      "outputs": [
        {
          "output_type": "execute_result",
          "data": {
            "text/plain": [
              "['__all__',\n",
              " '__builtins__',\n",
              " '__cached__',\n",
              " '__doc__',\n",
              " '__file__',\n",
              " '__loader__',\n",
              " '__name__',\n",
              " '__package__',\n",
              " '__path__',\n",
              " '__spec__',\n",
              " 'r2_prediction_experiment',\n",
              " 'run_experiment',\n",
              " 'separability_testing']"
            ]
          },
          "metadata": {},
          "execution_count": 61
        }
      ]
    },
    {
      "cell_type": "code",
      "source": [
        "target_feature = 'real_1'\n",
        "activations_path = manual_activations_path\n",
        "demo_probes_path = f'{probes_path}/{dataset_name}/real_1'\n",
        "lr = 0.01\n",
        "num_epochs = 50\n",
        "num_repeats = 1\n",
        "layers = [idx for idx in range(16)]"
      ],
      "metadata": {
        "id": "4k6snzo5fm-6"
      },
      "execution_count": 129,
      "outputs": []
    },
    {
      "cell_type": "code",
      "source": [
        "\n",
        "\n",
        "demo_expt_results = experiments.separability_testing(target_feature=target_feature, activations_path=manual_activations_path, \\\n",
        "                     probes_path=demo_probes_path, \\\n",
        "                     lr=lr, num_epochs=num_epochs, \\\n",
        "                     layers=layers, num_repeats=num_repeats)"
      ],
      "metadata": {
        "id": "Sgr-mGCVhJG7",
        "colab": {
          "base_uri": "https://localhost:8080/",
          "height": 365
        },
        "outputId": "1c192c51-db67-4b95-d6ff-89a4d86687af"
      },
      "execution_count": 130,
      "outputs": [
        {
          "output_type": "stream",
          "name": "stdout",
          "text": [
            "Repeat 0 of layer 0\n"
          ]
        },
        {
          "output_type": "error",
          "ename": "KeyboardInterrupt",
          "evalue": "",
          "traceback": [
            "\u001b[0;31m---------------------------------------------------------------------------\u001b[0m",
            "\u001b[0;31mKeyboardInterrupt\u001b[0m                         Traceback (most recent call last)",
            "\u001b[0;32m<ipython-input-130-2f0890a7ebd4>\u001b[0m in \u001b[0;36m<cell line: 0>\u001b[0;34m()\u001b[0m\n\u001b[0;32m----> 1\u001b[0;31m demo_expt_results = experiments.separability_testing(target_feature=target_feature, activations_path=manual_activations_path, \\\n\u001b[0m\u001b[1;32m      2\u001b[0m                      \u001b[0mprobes_path\u001b[0m\u001b[0;34m=\u001b[0m\u001b[0mdemo_probes_path\u001b[0m\u001b[0;34m,\u001b[0m\u001b[0;31m \u001b[0m\u001b[0;31m\\\u001b[0m\u001b[0;34m\u001b[0m\u001b[0;34m\u001b[0m\u001b[0m\n\u001b[1;32m      3\u001b[0m                      \u001b[0mlr\u001b[0m\u001b[0;34m=\u001b[0m\u001b[0mlr\u001b[0m\u001b[0;34m,\u001b[0m \u001b[0mnum_epochs\u001b[0m\u001b[0;34m=\u001b[0m\u001b[0mnum_epochs\u001b[0m\u001b[0;34m,\u001b[0m\u001b[0;31m \u001b[0m\u001b[0;31m\\\u001b[0m\u001b[0;34m\u001b[0m\u001b[0;34m\u001b[0m\u001b[0m\n\u001b[1;32m      4\u001b[0m                      layers=layers, num_repeats=num_repeats)\n",
            "\u001b[0;32m/content/drive/MyDrive/Personlig/AISC Mech Interp Diff eq/MIVLDE/subteams/LLMProbing/experiments/run_experiment.py\u001b[0m in \u001b[0;36mseparability_testing\u001b[0;34m(target_feature, activations_path, probes_path, lr, num_epochs, layers, num_repeats, shuffle_datasets, use_val, data_split, write_log)\u001b[0m\n\u001b[1;32m    126\u001b[0m       \u001b[0;31m# Train and save the probe for the correct layer\u001b[0m\u001b[0;34m\u001b[0m\u001b[0;34m\u001b[0m\u001b[0m\n\u001b[1;32m    127\u001b[0m       \u001b[0mtest_loss\u001b[0m\u001b[0;34m,\u001b[0m \u001b[0mtest_acc\u001b[0m\u001b[0;34m,\u001b[0m \u001b[0mtest_fail_ids\u001b[0m\u001b[0;34m,\u001b[0m \u001b[0mfinal_train_loss\u001b[0m\u001b[0;34m,\u001b[0m \u001b[0mfinal_train_acc\u001b[0m\u001b[0;34m,\u001b[0m\u001b[0;31m \u001b[0m\u001b[0;31m\\\u001b[0m\u001b[0;34m\u001b[0m\u001b[0;34m\u001b[0m\u001b[0m\n\u001b[0;32m--> 128\u001b[0;31m         final_val_loss, final_val_acc = train_and_save_probe_separation_expt(target_layer_idx=layer_idx, target_feature=target_feature, activations_path=activations_path, \\\n\u001b[0m\u001b[1;32m    129\u001b[0m           \u001b[0mprobe_name\u001b[0m\u001b[0;34m=\u001b[0m\u001b[0mprobe_name\u001b[0m\u001b[0;34m,\u001b[0m \u001b[0mprobes_path\u001b[0m\u001b[0;34m=\u001b[0m\u001b[0mprobes_path\u001b[0m\u001b[0;34m,\u001b[0m\u001b[0;31m \u001b[0m\u001b[0;31m\\\u001b[0m\u001b[0;34m\u001b[0m\u001b[0;34m\u001b[0m\u001b[0m\n\u001b[1;32m    130\u001b[0m           \u001b[0mlr\u001b[0m\u001b[0;34m=\u001b[0m\u001b[0mlr\u001b[0m\u001b[0;34m,\u001b[0m \u001b[0mnum_epochs\u001b[0m\u001b[0;34m=\u001b[0m\u001b[0mnum_epochs\u001b[0m\u001b[0;34m,\u001b[0m\u001b[0;31m \u001b[0m\u001b[0;31m\\\u001b[0m\u001b[0;34m\u001b[0m\u001b[0;34m\u001b[0m\u001b[0m\n",
            "\u001b[0;32m/content/drive/MyDrive/Personlig/AISC Mech Interp Diff eq/MIVLDE/subteams/LLMProbing/experiments/run_experiment.py\u001b[0m in \u001b[0;36mtrain_and_save_probe_separation_expt\u001b[0;34m(target_layer_idx, target_feature, activations_path, probe_name, probes_path, lr, num_epochs, shuffle_datasets, use_val, data_split, write_log)\u001b[0m\n\u001b[1;32m     54\u001b[0m   \u001b[0;31m# Training loop\u001b[0m\u001b[0;34m\u001b[0m\u001b[0;34m\u001b[0m\u001b[0m\n\u001b[1;32m     55\u001b[0m   \u001b[0;32mif\u001b[0m \u001b[0muse_val\u001b[0m\u001b[0;34m:\u001b[0m\u001b[0;34m\u001b[0m\u001b[0;34m\u001b[0m\u001b[0m\n\u001b[0;32m---> 56\u001b[0;31m     \u001b[0mprobe\u001b[0m\u001b[0;34m,\u001b[0m \u001b[0mtrain_losses\u001b[0m\u001b[0;34m,\u001b[0m \u001b[0mtrain_accuracies\u001b[0m\u001b[0;34m,\u001b[0m \u001b[0mval_losses\u001b[0m\u001b[0;34m,\u001b[0m \u001b[0mval_accuracies\u001b[0m \u001b[0;34m=\u001b[0m \u001b[0mtrain_classifier_probe\u001b[0m\u001b[0;34m(\u001b[0m\u001b[0mprobe\u001b[0m\u001b[0;34m,\u001b[0m \u001b[0mtrain_dataloader\u001b[0m\u001b[0;34m,\u001b[0m \u001b[0mlr\u001b[0m\u001b[0;34m=\u001b[0m\u001b[0mlr\u001b[0m\u001b[0;34m,\u001b[0m \u001b[0mwrite_log\u001b[0m\u001b[0;34m=\u001b[0m\u001b[0mwrite_log\u001b[0m\u001b[0;34m,\u001b[0m \u001b[0mnum_epochs\u001b[0m\u001b[0;34m=\u001b[0m\u001b[0mnum_epochs\u001b[0m\u001b[0;34m,\u001b[0m \u001b[0mval_dataloader\u001b[0m\u001b[0;34m=\u001b[0m\u001b[0mval_dataloader\u001b[0m\u001b[0;34m)\u001b[0m\u001b[0;34m\u001b[0m\u001b[0;34m\u001b[0m\u001b[0m\n\u001b[0m\u001b[1;32m     57\u001b[0m   \u001b[0;32melse\u001b[0m\u001b[0;34m:\u001b[0m\u001b[0;34m\u001b[0m\u001b[0;34m\u001b[0m\u001b[0m\n\u001b[1;32m     58\u001b[0m     \u001b[0mprobe\u001b[0m\u001b[0;34m,\u001b[0m \u001b[0mtrain_losses\u001b[0m\u001b[0;34m,\u001b[0m \u001b[0mtrain_accuracies\u001b[0m\u001b[0;34m,\u001b[0m \u001b[0mval_losses\u001b[0m\u001b[0;34m,\u001b[0m \u001b[0mval_accuracies\u001b[0m \u001b[0;34m=\u001b[0m \u001b[0mtrain_classifier_probe\u001b[0m\u001b[0;34m(\u001b[0m\u001b[0mprobe\u001b[0m\u001b[0;34m,\u001b[0m \u001b[0mtrain_dataloader\u001b[0m\u001b[0;34m,\u001b[0m \u001b[0mlr\u001b[0m\u001b[0;34m=\u001b[0m\u001b[0mlr\u001b[0m\u001b[0;34m,\u001b[0m \u001b[0mwrite_log\u001b[0m\u001b[0;34m=\u001b[0m\u001b[0mwrite_log\u001b[0m\u001b[0;34m,\u001b[0m \u001b[0mnum_epochs\u001b[0m\u001b[0;34m=\u001b[0m\u001b[0mnum_epochs\u001b[0m\u001b[0;34m)\u001b[0m\u001b[0;34m\u001b[0m\u001b[0;34m\u001b[0m\u001b[0m\n",
            "\u001b[0;32m/content/drive/MyDrive/Personlig/AISC Mech Interp Diff eq/MIVLDE/subteams/LLMProbing/src/probes/utils.py\u001b[0m in \u001b[0;36mtrain_classifier_probe\u001b[0;34m(probe, train_dataloader, val_dataloader, lr, num_epochs, device, logs_path, write_log)\u001b[0m\n\u001b[1;32m    121\u001b[0m \u001b[0;34m\u001b[0m\u001b[0m\n\u001b[1;32m    122\u001b[0m   \u001b[0;31m# Epoch 0 (for comparison against epoch 1)\u001b[0m\u001b[0;34m\u001b[0m\u001b[0;34m\u001b[0m\u001b[0m\n\u001b[0;32m--> 123\u001b[0;31m   \u001b[0me0_train_loss\u001b[0m\u001b[0;34m,\u001b[0m \u001b[0me0_train_acc\u001b[0m\u001b[0;34m,\u001b[0m \u001b[0me0_train_fail_ids\u001b[0m \u001b[0;34m=\u001b[0m \u001b[0meval_classifier_probe\u001b[0m\u001b[0;34m(\u001b[0m\u001b[0mprobe\u001b[0m\u001b[0;34m,\u001b[0m \u001b[0mtrain_dataloader\u001b[0m\u001b[0;34m)\u001b[0m\u001b[0;34m\u001b[0m\u001b[0;34m\u001b[0m\u001b[0m\n\u001b[0m\u001b[1;32m    124\u001b[0m   \u001b[0mlosses\u001b[0m\u001b[0;34m.\u001b[0m\u001b[0mappend\u001b[0m\u001b[0;34m(\u001b[0m\u001b[0me0_train_loss\u001b[0m\u001b[0;34m)\u001b[0m\u001b[0;34m\u001b[0m\u001b[0;34m\u001b[0m\u001b[0m\n\u001b[1;32m    125\u001b[0m   \u001b[0maccuracies\u001b[0m\u001b[0;34m.\u001b[0m\u001b[0mappend\u001b[0m\u001b[0;34m(\u001b[0m\u001b[0me0_train_acc\u001b[0m\u001b[0;34m)\u001b[0m\u001b[0;34m\u001b[0m\u001b[0;34m\u001b[0m\u001b[0m\n",
            "\u001b[0;32m/content/drive/MyDrive/Personlig/AISC Mech Interp Diff eq/MIVLDE/subteams/LLMProbing/src/probes/utils.py\u001b[0m in \u001b[0;36meval_classifier_probe\u001b[0;34m(probe, dataloader)\u001b[0m\n\u001b[1;32m     28\u001b[0m     \u001b[0mfail_ids\u001b[0m \u001b[0;34m=\u001b[0m \u001b[0;34m[\u001b[0m\u001b[0;34m]\u001b[0m\u001b[0;34m\u001b[0m\u001b[0;34m\u001b[0m\u001b[0m\n\u001b[1;32m     29\u001b[0m \u001b[0;34m\u001b[0m\u001b[0m\n\u001b[0;32m---> 30\u001b[0;31m     \u001b[0;32mfor\u001b[0m \u001b[0macts\u001b[0m\u001b[0;34m,\u001b[0m \u001b[0mlabels\u001b[0m\u001b[0;34m,\u001b[0m \u001b[0mids\u001b[0m \u001b[0;32min\u001b[0m \u001b[0mdataloader\u001b[0m\u001b[0;34m:\u001b[0m\u001b[0;34m\u001b[0m\u001b[0;34m\u001b[0m\u001b[0m\n\u001b[0m\u001b[1;32m     31\u001b[0m       \u001b[0moutputs\u001b[0m \u001b[0;34m=\u001b[0m \u001b[0mprobe\u001b[0m\u001b[0;34m(\u001b[0m\u001b[0macts\u001b[0m\u001b[0;34m)\u001b[0m\u001b[0;34m\u001b[0m\u001b[0;34m\u001b[0m\u001b[0m\n\u001b[1;32m     32\u001b[0m       \u001b[0mloss\u001b[0m \u001b[0;34m=\u001b[0m \u001b[0mcriterion\u001b[0m\u001b[0;34m(\u001b[0m\u001b[0moutputs\u001b[0m\u001b[0;34m,\u001b[0m \u001b[0mlabels\u001b[0m\u001b[0;34m)\u001b[0m\u001b[0;34m\u001b[0m\u001b[0;34m\u001b[0m\u001b[0m\n",
            "\u001b[0;32m/usr/local/lib/python3.11/dist-packages/torch/utils/data/dataloader.py\u001b[0m in \u001b[0;36m__next__\u001b[0;34m(self)\u001b[0m\n\u001b[1;32m    632\u001b[0m                 \u001b[0;31m# TODO(https://github.com/pytorch/pytorch/issues/76750)\u001b[0m\u001b[0;34m\u001b[0m\u001b[0;34m\u001b[0m\u001b[0m\n\u001b[1;32m    633\u001b[0m                 \u001b[0mself\u001b[0m\u001b[0;34m.\u001b[0m\u001b[0m_reset\u001b[0m\u001b[0;34m(\u001b[0m\u001b[0;34m)\u001b[0m  \u001b[0;31m# type: ignore[call-arg]\u001b[0m\u001b[0;34m\u001b[0m\u001b[0;34m\u001b[0m\u001b[0m\n\u001b[0;32m--> 634\u001b[0;31m             \u001b[0mdata\u001b[0m \u001b[0;34m=\u001b[0m \u001b[0mself\u001b[0m\u001b[0;34m.\u001b[0m\u001b[0m_next_data\u001b[0m\u001b[0;34m(\u001b[0m\u001b[0;34m)\u001b[0m\u001b[0;34m\u001b[0m\u001b[0;34m\u001b[0m\u001b[0m\n\u001b[0m\u001b[1;32m    635\u001b[0m             \u001b[0mself\u001b[0m\u001b[0;34m.\u001b[0m\u001b[0m_num_yielded\u001b[0m \u001b[0;34m+=\u001b[0m \u001b[0;36m1\u001b[0m\u001b[0;34m\u001b[0m\u001b[0;34m\u001b[0m\u001b[0m\n\u001b[1;32m    636\u001b[0m             \u001b[0;32mif\u001b[0m \u001b[0mself\u001b[0m\u001b[0;34m.\u001b[0m\u001b[0m_dataset_kind\u001b[0m \u001b[0;34m==\u001b[0m \u001b[0m_DatasetKind\u001b[0m\u001b[0;34m.\u001b[0m\u001b[0mIterable\u001b[0m \u001b[0;32mand\u001b[0m\u001b[0;31m \u001b[0m\u001b[0;31m\\\u001b[0m\u001b[0;34m\u001b[0m\u001b[0;34m\u001b[0m\u001b[0m\n",
            "\u001b[0;32m/usr/local/lib/python3.11/dist-packages/torch/utils/data/dataloader.py\u001b[0m in \u001b[0;36m_next_data\u001b[0;34m(self)\u001b[0m\n\u001b[1;32m    676\u001b[0m     \u001b[0;32mdef\u001b[0m \u001b[0m_next_data\u001b[0m\u001b[0;34m(\u001b[0m\u001b[0mself\u001b[0m\u001b[0;34m)\u001b[0m\u001b[0;34m:\u001b[0m\u001b[0;34m\u001b[0m\u001b[0;34m\u001b[0m\u001b[0m\n\u001b[1;32m    677\u001b[0m         \u001b[0mindex\u001b[0m \u001b[0;34m=\u001b[0m \u001b[0mself\u001b[0m\u001b[0;34m.\u001b[0m\u001b[0m_next_index\u001b[0m\u001b[0;34m(\u001b[0m\u001b[0;34m)\u001b[0m  \u001b[0;31m# may raise StopIteration\u001b[0m\u001b[0;34m\u001b[0m\u001b[0;34m\u001b[0m\u001b[0m\n\u001b[0;32m--> 678\u001b[0;31m         \u001b[0mdata\u001b[0m \u001b[0;34m=\u001b[0m \u001b[0mself\u001b[0m\u001b[0;34m.\u001b[0m\u001b[0m_dataset_fetcher\u001b[0m\u001b[0;34m.\u001b[0m\u001b[0mfetch\u001b[0m\u001b[0;34m(\u001b[0m\u001b[0mindex\u001b[0m\u001b[0;34m)\u001b[0m  \u001b[0;31m# may raise StopIteration\u001b[0m\u001b[0;34m\u001b[0m\u001b[0;34m\u001b[0m\u001b[0m\n\u001b[0m\u001b[1;32m    679\u001b[0m         \u001b[0;32mif\u001b[0m \u001b[0mself\u001b[0m\u001b[0;34m.\u001b[0m\u001b[0m_pin_memory\u001b[0m\u001b[0;34m:\u001b[0m\u001b[0;34m\u001b[0m\u001b[0;34m\u001b[0m\u001b[0m\n\u001b[1;32m    680\u001b[0m             \u001b[0mdata\u001b[0m \u001b[0;34m=\u001b[0m \u001b[0m_utils\u001b[0m\u001b[0;34m.\u001b[0m\u001b[0mpin_memory\u001b[0m\u001b[0;34m.\u001b[0m\u001b[0mpin_memory\u001b[0m\u001b[0;34m(\u001b[0m\u001b[0mdata\u001b[0m\u001b[0;34m,\u001b[0m \u001b[0mself\u001b[0m\u001b[0;34m.\u001b[0m\u001b[0m_pin_memory_device\u001b[0m\u001b[0;34m)\u001b[0m\u001b[0;34m\u001b[0m\u001b[0;34m\u001b[0m\u001b[0m\n",
            "\u001b[0;32m/usr/local/lib/python3.11/dist-packages/torch/utils/data/_utils/fetch.py\u001b[0m in \u001b[0;36mfetch\u001b[0;34m(self, possibly_batched_index)\u001b[0m\n\u001b[1;32m     49\u001b[0m                 \u001b[0mdata\u001b[0m \u001b[0;34m=\u001b[0m \u001b[0mself\u001b[0m\u001b[0;34m.\u001b[0m\u001b[0mdataset\u001b[0m\u001b[0;34m.\u001b[0m\u001b[0m__getitems__\u001b[0m\u001b[0;34m(\u001b[0m\u001b[0mpossibly_batched_index\u001b[0m\u001b[0;34m)\u001b[0m\u001b[0;34m\u001b[0m\u001b[0;34m\u001b[0m\u001b[0m\n\u001b[1;32m     50\u001b[0m             \u001b[0;32melse\u001b[0m\u001b[0;34m:\u001b[0m\u001b[0;34m\u001b[0m\u001b[0;34m\u001b[0m\u001b[0m\n\u001b[0;32m---> 51\u001b[0;31m                 \u001b[0mdata\u001b[0m \u001b[0;34m=\u001b[0m \u001b[0;34m[\u001b[0m\u001b[0mself\u001b[0m\u001b[0;34m.\u001b[0m\u001b[0mdataset\u001b[0m\u001b[0;34m[\u001b[0m\u001b[0midx\u001b[0m\u001b[0;34m]\u001b[0m \u001b[0;32mfor\u001b[0m \u001b[0midx\u001b[0m \u001b[0;32min\u001b[0m \u001b[0mpossibly_batched_index\u001b[0m\u001b[0;34m]\u001b[0m\u001b[0;34m\u001b[0m\u001b[0;34m\u001b[0m\u001b[0m\n\u001b[0m\u001b[1;32m     52\u001b[0m         \u001b[0;32melse\u001b[0m\u001b[0;34m:\u001b[0m\u001b[0;34m\u001b[0m\u001b[0;34m\u001b[0m\u001b[0m\n\u001b[1;32m     53\u001b[0m             \u001b[0mdata\u001b[0m \u001b[0;34m=\u001b[0m \u001b[0mself\u001b[0m\u001b[0;34m.\u001b[0m\u001b[0mdataset\u001b[0m\u001b[0;34m[\u001b[0m\u001b[0mpossibly_batched_index\u001b[0m\u001b[0;34m]\u001b[0m\u001b[0;34m\u001b[0m\u001b[0;34m\u001b[0m\u001b[0m\n",
            "\u001b[0;32m/usr/local/lib/python3.11/dist-packages/torch/utils/data/_utils/fetch.py\u001b[0m in \u001b[0;36m<listcomp>\u001b[0;34m(.0)\u001b[0m\n\u001b[1;32m     49\u001b[0m                 \u001b[0mdata\u001b[0m \u001b[0;34m=\u001b[0m \u001b[0mself\u001b[0m\u001b[0;34m.\u001b[0m\u001b[0mdataset\u001b[0m\u001b[0;34m.\u001b[0m\u001b[0m__getitems__\u001b[0m\u001b[0;34m(\u001b[0m\u001b[0mpossibly_batched_index\u001b[0m\u001b[0;34m)\u001b[0m\u001b[0;34m\u001b[0m\u001b[0;34m\u001b[0m\u001b[0m\n\u001b[1;32m     50\u001b[0m             \u001b[0;32melse\u001b[0m\u001b[0;34m:\u001b[0m\u001b[0;34m\u001b[0m\u001b[0;34m\u001b[0m\u001b[0m\n\u001b[0;32m---> 51\u001b[0;31m                 \u001b[0mdata\u001b[0m \u001b[0;34m=\u001b[0m \u001b[0;34m[\u001b[0m\u001b[0mself\u001b[0m\u001b[0;34m.\u001b[0m\u001b[0mdataset\u001b[0m\u001b[0;34m[\u001b[0m\u001b[0midx\u001b[0m\u001b[0;34m]\u001b[0m \u001b[0;32mfor\u001b[0m \u001b[0midx\u001b[0m \u001b[0;32min\u001b[0m \u001b[0mpossibly_batched_index\u001b[0m\u001b[0;34m]\u001b[0m\u001b[0;34m\u001b[0m\u001b[0;34m\u001b[0m\u001b[0m\n\u001b[0m\u001b[1;32m     52\u001b[0m         \u001b[0;32melse\u001b[0m\u001b[0;34m:\u001b[0m\u001b[0;34m\u001b[0m\u001b[0;34m\u001b[0m\u001b[0m\n\u001b[1;32m     53\u001b[0m             \u001b[0mdata\u001b[0m \u001b[0;34m=\u001b[0m \u001b[0mself\u001b[0m\u001b[0;34m.\u001b[0m\u001b[0mdataset\u001b[0m\u001b[0;34m[\u001b[0m\u001b[0mpossibly_batched_index\u001b[0m\u001b[0;34m]\u001b[0m\u001b[0;34m\u001b[0m\u001b[0;34m\u001b[0m\u001b[0m\n",
            "\u001b[0;32m/usr/local/lib/python3.11/dist-packages/torch/utils/data/dataset.py\u001b[0m in \u001b[0;36m__getitem__\u001b[0;34m(self, idx)\u001b[0m\n\u001b[1;32m    296\u001b[0m         \u001b[0;32mif\u001b[0m \u001b[0misinstance\u001b[0m\u001b[0;34m(\u001b[0m\u001b[0midx\u001b[0m\u001b[0;34m,\u001b[0m \u001b[0mlist\u001b[0m\u001b[0;34m)\u001b[0m\u001b[0;34m:\u001b[0m\u001b[0;34m\u001b[0m\u001b[0;34m\u001b[0m\u001b[0m\n\u001b[1;32m    297\u001b[0m             \u001b[0;32mreturn\u001b[0m \u001b[0mself\u001b[0m\u001b[0;34m.\u001b[0m\u001b[0mdataset\u001b[0m\u001b[0;34m[\u001b[0m\u001b[0;34m[\u001b[0m\u001b[0mself\u001b[0m\u001b[0;34m.\u001b[0m\u001b[0mindices\u001b[0m\u001b[0;34m[\u001b[0m\u001b[0mi\u001b[0m\u001b[0;34m]\u001b[0m \u001b[0;32mfor\u001b[0m \u001b[0mi\u001b[0m \u001b[0;32min\u001b[0m \u001b[0midx\u001b[0m\u001b[0;34m]\u001b[0m\u001b[0;34m]\u001b[0m\u001b[0;34m\u001b[0m\u001b[0;34m\u001b[0m\u001b[0m\n\u001b[0;32m--> 298\u001b[0;31m         \u001b[0;32mreturn\u001b[0m \u001b[0mself\u001b[0m\u001b[0;34m.\u001b[0m\u001b[0mdataset\u001b[0m\u001b[0;34m[\u001b[0m\u001b[0mself\u001b[0m\u001b[0;34m.\u001b[0m\u001b[0mindices\u001b[0m\u001b[0;34m[\u001b[0m\u001b[0midx\u001b[0m\u001b[0;34m]\u001b[0m\u001b[0;34m]\u001b[0m\u001b[0;34m\u001b[0m\u001b[0;34m\u001b[0m\u001b[0m\n\u001b[0m\u001b[1;32m    299\u001b[0m \u001b[0;34m\u001b[0m\u001b[0m\n\u001b[1;32m    300\u001b[0m     \u001b[0;32mdef\u001b[0m \u001b[0m__len__\u001b[0m\u001b[0;34m(\u001b[0m\u001b[0mself\u001b[0m\u001b[0;34m)\u001b[0m\u001b[0;34m:\u001b[0m\u001b[0;34m\u001b[0m\u001b[0;34m\u001b[0m\u001b[0m\n",
            "\u001b[0;32m/content/drive/MyDrive/Personlig/AISC Mech Interp Diff eq/MIVLDE/subteams/LLMProbing/src/datasets/activations_dataset.py\u001b[0m in \u001b[0;36m__getitem__\u001b[0;34m(self, idx)\u001b[0m\n\u001b[1;32m     66\u001b[0m     \u001b[0mact_path\u001b[0m \u001b[0;34m=\u001b[0m \u001b[0mself\u001b[0m\u001b[0;34m.\u001b[0m\u001b[0mact_paths\u001b[0m\u001b[0;34m[\u001b[0m\u001b[0midx\u001b[0m\u001b[0;34m]\u001b[0m\u001b[0;34m\u001b[0m\u001b[0;34m\u001b[0m\u001b[0m\n\u001b[1;32m     67\u001b[0m     \u001b[0;32mwith\u001b[0m \u001b[0mopen\u001b[0m\u001b[0;34m(\u001b[0m\u001b[0mact_path\u001b[0m\u001b[0;34m,\u001b[0m \u001b[0;34m'rb'\u001b[0m\u001b[0;34m)\u001b[0m \u001b[0;32mas\u001b[0m \u001b[0mf\u001b[0m\u001b[0;34m:\u001b[0m\u001b[0;34m\u001b[0m\u001b[0;34m\u001b[0m\u001b[0m\n\u001b[0;32m---> 68\u001b[0;31m       \u001b[0mactivation\u001b[0m \u001b[0;34m=\u001b[0m \u001b[0mpickle\u001b[0m\u001b[0;34m.\u001b[0m\u001b[0mload\u001b[0m\u001b[0;34m(\u001b[0m\u001b[0mf\u001b[0m\u001b[0;34m)\u001b[0m\u001b[0;34m\u001b[0m\u001b[0;34m\u001b[0m\u001b[0m\n\u001b[0m\u001b[1;32m     69\u001b[0m     \u001b[0mlayer_name\u001b[0m \u001b[0;34m=\u001b[0m \u001b[0mself\u001b[0m\u001b[0;34m.\u001b[0m\u001b[0mget_layer_name\u001b[0m\u001b[0;34m(\u001b[0m\u001b[0mself\u001b[0m\u001b[0;34m.\u001b[0m\u001b[0mlayer_idx\u001b[0m\u001b[0;34m)\u001b[0m\u001b[0;34m\u001b[0m\u001b[0;34m\u001b[0m\u001b[0m\n\u001b[1;32m     70\u001b[0m     \u001b[0;32mif\u001b[0m \u001b[0;34m'encoder'\u001b[0m \u001b[0;32min\u001b[0m \u001b[0mlayer_name\u001b[0m\u001b[0;34m:\u001b[0m\u001b[0;34m\u001b[0m\u001b[0;34m\u001b[0m\u001b[0m\n",
            "\u001b[0;32m/usr/local/lib/python3.11/dist-packages/torch/storage.py\u001b[0m in \u001b[0;36m_load_from_bytes\u001b[0;34m(b)\u001b[0m\n\u001b[1;32m    238\u001b[0m         \u001b[0;32mreturn\u001b[0m \u001b[0mself\u001b[0m\u001b[0;34m.\u001b[0m\u001b[0mdevice\u001b[0m\u001b[0;34m.\u001b[0m\u001b[0mtype\u001b[0m \u001b[0;34m==\u001b[0m \u001b[0;34m'cuda'\u001b[0m\u001b[0;34m\u001b[0m\u001b[0;34m\u001b[0m\u001b[0m\n\u001b[1;32m    239\u001b[0m \u001b[0;34m\u001b[0m\u001b[0m\n\u001b[0;32m--> 240\u001b[0;31m \u001b[0;32mdef\u001b[0m \u001b[0m_load_from_bytes\u001b[0m\u001b[0;34m(\u001b[0m\u001b[0mb\u001b[0m\u001b[0;34m)\u001b[0m\u001b[0;34m:\u001b[0m\u001b[0;34m\u001b[0m\u001b[0;34m\u001b[0m\u001b[0m\n\u001b[0m\u001b[1;32m    241\u001b[0m     \u001b[0;32mreturn\u001b[0m \u001b[0mtorch\u001b[0m\u001b[0;34m.\u001b[0m\u001b[0mload\u001b[0m\u001b[0;34m(\u001b[0m\u001b[0mio\u001b[0m\u001b[0;34m.\u001b[0m\u001b[0mBytesIO\u001b[0m\u001b[0;34m(\u001b[0m\u001b[0mb\u001b[0m\u001b[0;34m)\u001b[0m\u001b[0;34m)\u001b[0m\u001b[0;34m\u001b[0m\u001b[0;34m\u001b[0m\u001b[0m\n\u001b[1;32m    242\u001b[0m \u001b[0;34m\u001b[0m\u001b[0m\n",
            "\u001b[0;31mKeyboardInterrupt\u001b[0m: "
          ]
        }
      ]
    },
    {
      "cell_type": "code",
      "source": [
        "expt_results = experiments.scalar_prediction_experiment(target_feature=target_feature, activations_path=manual_activations_path, \\\n",
        "                     probes_path=demo_probes_path, \\\n",
        "                     lr=lr, num_epochs=num_epochs, \\\n",
        "                     layers=layers, num_repeats=num_repeats)\n",
        "# save experiment results\n",
        "with open(f'{demo_probes_path}/experiment_data.pt', 'wb') as f:\n",
        "    pickle.dump(expt_results, f)"
      ],
      "metadata": {
        "colab": {
          "base_uri": "https://localhost:8080/"
        },
        "collapsed": true,
        "id": "Oep1FiFEoElT",
        "outputId": "3179e4b3-5d91-4403-cbb4-a21ca244c33e"
      },
      "execution_count": null,
      "outputs": [
        {
          "output_type": "stream",
          "name": "stdout",
          "text": [
            "Repeat 0 of layer 0\n"
          ]
        },
        {
          "output_type": "stream",
          "name": "stderr",
          "text": [
            "\n",
            "Training LR Probe:   0%|          | 0/50 [00:00<?, ?it/s]\n",
            "Training LR Probe:   2%|▏         | 1/50 [00:04<03:48,  4.66s/it]\n",
            "Training LR Probe:   4%|▍         | 2/50 [00:08<03:28,  4.34s/it]\n",
            "Training LR Probe:   6%|▌         | 3/50 [00:12<03:20,  4.26s/it]\n",
            "Training LR Probe:   8%|▊         | 4/50 [00:17<03:21,  4.38s/it]\n",
            "Training LR Probe:  10%|█         | 5/50 [00:21<03:12,  4.29s/it]\n",
            "Training LR Probe:  12%|█▏        | 6/50 [00:26<03:10,  4.32s/it]\n",
            "Training LR Probe:  14%|█▍        | 7/50 [00:30<03:06,  4.33s/it]\n",
            "Training LR Probe:  16%|█▌        | 8/50 [00:34<03:00,  4.30s/it]\n",
            "Training LR Probe:  18%|█▊        | 9/50 [00:38<02:54,  4.26s/it]\n",
            "Training LR Probe:  20%|██        | 10/50 [00:43<02:52,  4.31s/it]\n",
            "Training LR Probe:  22%|██▏       | 11/50 [00:47<02:48,  4.33s/it]\n",
            "Training LR Probe:  24%|██▍       | 12/50 [00:51<02:42,  4.29s/it]\n",
            "Training LR Probe:  26%|██▌       | 13/50 [00:55<02:37,  4.26s/it]\n",
            "Training LR Probe:  28%|██▊       | 14/50 [01:00<02:35,  4.32s/it]\n",
            "Training LR Probe:  30%|███       | 15/50 [01:04<02:29,  4.27s/it]\n",
            "Training LR Probe:  32%|███▏      | 16/50 [01:08<02:25,  4.29s/it]\n",
            "Training LR Probe:  34%|███▍      | 17/50 [01:13<02:24,  4.38s/it]\n",
            "Training LR Probe:  36%|███▌      | 18/50 [01:17<02:18,  4.34s/it]\n",
            "Training LR Probe:  38%|███▊      | 19/50 [01:21<02:13,  4.31s/it]"
          ]
        }
      ]
    },
    {
      "cell_type": "code",
      "source": [
        "expt_results"
      ],
      "metadata": {
        "colab": {
          "base_uri": "https://localhost:8080/",
          "height": 551
        },
        "id": "oGDVsoS6honc",
        "outputId": "2713b57c-7aae-4ce1-c009-79bd21f2dda6"
      },
      "execution_count": 110,
      "outputs": [
        {
          "output_type": "execute_result",
          "data": {
            "text/plain": [
              "    layer  run   test_loss  final_train_loss  final_val_loss\n",
              "0       0    0   54.571992          6.118677      142.718837\n",
              "1       1    0  207.978291         33.811070      285.845791\n",
              "2       2    0  857.645282         25.739553      315.479900\n",
              "3       3    0   56.916670          6.487603       41.283610\n",
              "4       4    0    1.666486          0.936969       15.433470\n",
              "5       5    0    0.122432          0.152436        1.977946\n",
              "6       6    0    0.078865          0.005546        0.090992\n",
              "7       7    0    0.077120          0.003918        0.074523\n",
              "8       8    0    0.296642          0.003423        0.213766\n",
              "9       9    0    0.133659          0.002524        0.159806\n",
              "10     10    0    8.925102          0.193887        7.461833\n",
              "11     11    0    0.553587          0.180068        0.572595\n",
              "12     12    0    0.229964          0.032881        0.212536\n",
              "13     13    0    0.127017          0.012991        0.176930\n",
              "14     14    0    0.199524          0.003941        0.118957\n",
              "15     15    0    0.216481          0.067109        0.428478"
            ],
            "text/html": [
              "\n",
              "  <div id=\"df-98fc5dd3-411f-44b3-a2d0-4d86427e59ba\" class=\"colab-df-container\">\n",
              "    <div>\n",
              "<style scoped>\n",
              "    .dataframe tbody tr th:only-of-type {\n",
              "        vertical-align: middle;\n",
              "    }\n",
              "\n",
              "    .dataframe tbody tr th {\n",
              "        vertical-align: top;\n",
              "    }\n",
              "\n",
              "    .dataframe thead th {\n",
              "        text-align: right;\n",
              "    }\n",
              "</style>\n",
              "<table border=\"1\" class=\"dataframe\">\n",
              "  <thead>\n",
              "    <tr style=\"text-align: right;\">\n",
              "      <th></th>\n",
              "      <th>layer</th>\n",
              "      <th>run</th>\n",
              "      <th>test_loss</th>\n",
              "      <th>final_train_loss</th>\n",
              "      <th>final_val_loss</th>\n",
              "    </tr>\n",
              "  </thead>\n",
              "  <tbody>\n",
              "    <tr>\n",
              "      <th>0</th>\n",
              "      <td>0</td>\n",
              "      <td>0</td>\n",
              "      <td>54.571992</td>\n",
              "      <td>6.118677</td>\n",
              "      <td>142.718837</td>\n",
              "    </tr>\n",
              "    <tr>\n",
              "      <th>1</th>\n",
              "      <td>1</td>\n",
              "      <td>0</td>\n",
              "      <td>207.978291</td>\n",
              "      <td>33.811070</td>\n",
              "      <td>285.845791</td>\n",
              "    </tr>\n",
              "    <tr>\n",
              "      <th>2</th>\n",
              "      <td>2</td>\n",
              "      <td>0</td>\n",
              "      <td>857.645282</td>\n",
              "      <td>25.739553</td>\n",
              "      <td>315.479900</td>\n",
              "    </tr>\n",
              "    <tr>\n",
              "      <th>3</th>\n",
              "      <td>3</td>\n",
              "      <td>0</td>\n",
              "      <td>56.916670</td>\n",
              "      <td>6.487603</td>\n",
              "      <td>41.283610</td>\n",
              "    </tr>\n",
              "    <tr>\n",
              "      <th>4</th>\n",
              "      <td>4</td>\n",
              "      <td>0</td>\n",
              "      <td>1.666486</td>\n",
              "      <td>0.936969</td>\n",
              "      <td>15.433470</td>\n",
              "    </tr>\n",
              "    <tr>\n",
              "      <th>5</th>\n",
              "      <td>5</td>\n",
              "      <td>0</td>\n",
              "      <td>0.122432</td>\n",
              "      <td>0.152436</td>\n",
              "      <td>1.977946</td>\n",
              "    </tr>\n",
              "    <tr>\n",
              "      <th>6</th>\n",
              "      <td>6</td>\n",
              "      <td>0</td>\n",
              "      <td>0.078865</td>\n",
              "      <td>0.005546</td>\n",
              "      <td>0.090992</td>\n",
              "    </tr>\n",
              "    <tr>\n",
              "      <th>7</th>\n",
              "      <td>7</td>\n",
              "      <td>0</td>\n",
              "      <td>0.077120</td>\n",
              "      <td>0.003918</td>\n",
              "      <td>0.074523</td>\n",
              "    </tr>\n",
              "    <tr>\n",
              "      <th>8</th>\n",
              "      <td>8</td>\n",
              "      <td>0</td>\n",
              "      <td>0.296642</td>\n",
              "      <td>0.003423</td>\n",
              "      <td>0.213766</td>\n",
              "    </tr>\n",
              "    <tr>\n",
              "      <th>9</th>\n",
              "      <td>9</td>\n",
              "      <td>0</td>\n",
              "      <td>0.133659</td>\n",
              "      <td>0.002524</td>\n",
              "      <td>0.159806</td>\n",
              "    </tr>\n",
              "    <tr>\n",
              "      <th>10</th>\n",
              "      <td>10</td>\n",
              "      <td>0</td>\n",
              "      <td>8.925102</td>\n",
              "      <td>0.193887</td>\n",
              "      <td>7.461833</td>\n",
              "    </tr>\n",
              "    <tr>\n",
              "      <th>11</th>\n",
              "      <td>11</td>\n",
              "      <td>0</td>\n",
              "      <td>0.553587</td>\n",
              "      <td>0.180068</td>\n",
              "      <td>0.572595</td>\n",
              "    </tr>\n",
              "    <tr>\n",
              "      <th>12</th>\n",
              "      <td>12</td>\n",
              "      <td>0</td>\n",
              "      <td>0.229964</td>\n",
              "      <td>0.032881</td>\n",
              "      <td>0.212536</td>\n",
              "    </tr>\n",
              "    <tr>\n",
              "      <th>13</th>\n",
              "      <td>13</td>\n",
              "      <td>0</td>\n",
              "      <td>0.127017</td>\n",
              "      <td>0.012991</td>\n",
              "      <td>0.176930</td>\n",
              "    </tr>\n",
              "    <tr>\n",
              "      <th>14</th>\n",
              "      <td>14</td>\n",
              "      <td>0</td>\n",
              "      <td>0.199524</td>\n",
              "      <td>0.003941</td>\n",
              "      <td>0.118957</td>\n",
              "    </tr>\n",
              "    <tr>\n",
              "      <th>15</th>\n",
              "      <td>15</td>\n",
              "      <td>0</td>\n",
              "      <td>0.216481</td>\n",
              "      <td>0.067109</td>\n",
              "      <td>0.428478</td>\n",
              "    </tr>\n",
              "  </tbody>\n",
              "</table>\n",
              "</div>\n",
              "    <div class=\"colab-df-buttons\">\n",
              "\n",
              "  <div class=\"colab-df-container\">\n",
              "    <button class=\"colab-df-convert\" onclick=\"convertToInteractive('df-98fc5dd3-411f-44b3-a2d0-4d86427e59ba')\"\n",
              "            title=\"Convert this dataframe to an interactive table.\"\n",
              "            style=\"display:none;\">\n",
              "\n",
              "  <svg xmlns=\"http://www.w3.org/2000/svg\" height=\"24px\" viewBox=\"0 -960 960 960\">\n",
              "    <path d=\"M120-120v-720h720v720H120Zm60-500h600v-160H180v160Zm220 220h160v-160H400v160Zm0 220h160v-160H400v160ZM180-400h160v-160H180v160Zm440 0h160v-160H620v160ZM180-180h160v-160H180v160Zm440 0h160v-160H620v160Z\"/>\n",
              "  </svg>\n",
              "    </button>\n",
              "\n",
              "  <style>\n",
              "    .colab-df-container {\n",
              "      display:flex;\n",
              "      gap: 12px;\n",
              "    }\n",
              "\n",
              "    .colab-df-convert {\n",
              "      background-color: #E8F0FE;\n",
              "      border: none;\n",
              "      border-radius: 50%;\n",
              "      cursor: pointer;\n",
              "      display: none;\n",
              "      fill: #1967D2;\n",
              "      height: 32px;\n",
              "      padding: 0 0 0 0;\n",
              "      width: 32px;\n",
              "    }\n",
              "\n",
              "    .colab-df-convert:hover {\n",
              "      background-color: #E2EBFA;\n",
              "      box-shadow: 0px 1px 2px rgba(60, 64, 67, 0.3), 0px 1px 3px 1px rgba(60, 64, 67, 0.15);\n",
              "      fill: #174EA6;\n",
              "    }\n",
              "\n",
              "    .colab-df-buttons div {\n",
              "      margin-bottom: 4px;\n",
              "    }\n",
              "\n",
              "    [theme=dark] .colab-df-convert {\n",
              "      background-color: #3B4455;\n",
              "      fill: #D2E3FC;\n",
              "    }\n",
              "\n",
              "    [theme=dark] .colab-df-convert:hover {\n",
              "      background-color: #434B5C;\n",
              "      box-shadow: 0px 1px 3px 1px rgba(0, 0, 0, 0.15);\n",
              "      filter: drop-shadow(0px 1px 2px rgba(0, 0, 0, 0.3));\n",
              "      fill: #FFFFFF;\n",
              "    }\n",
              "  </style>\n",
              "\n",
              "    <script>\n",
              "      const buttonEl =\n",
              "        document.querySelector('#df-98fc5dd3-411f-44b3-a2d0-4d86427e59ba button.colab-df-convert');\n",
              "      buttonEl.style.display =\n",
              "        google.colab.kernel.accessAllowed ? 'block' : 'none';\n",
              "\n",
              "      async function convertToInteractive(key) {\n",
              "        const element = document.querySelector('#df-98fc5dd3-411f-44b3-a2d0-4d86427e59ba');\n",
              "        const dataTable =\n",
              "          await google.colab.kernel.invokeFunction('convertToInteractive',\n",
              "                                                    [key], {});\n",
              "        if (!dataTable) return;\n",
              "\n",
              "        const docLinkHtml = 'Like what you see? Visit the ' +\n",
              "          '<a target=\"_blank\" href=https://colab.research.google.com/notebooks/data_table.ipynb>data table notebook</a>'\n",
              "          + ' to learn more about interactive tables.';\n",
              "        element.innerHTML = '';\n",
              "        dataTable['output_type'] = 'display_data';\n",
              "        await google.colab.output.renderOutput(dataTable, element);\n",
              "        const docLink = document.createElement('div');\n",
              "        docLink.innerHTML = docLinkHtml;\n",
              "        element.appendChild(docLink);\n",
              "      }\n",
              "    </script>\n",
              "  </div>\n",
              "\n",
              "\n",
              "<div id=\"df-6edfa8c5-fd89-4495-bce9-709042e87d10\">\n",
              "  <button class=\"colab-df-quickchart\" onclick=\"quickchart('df-6edfa8c5-fd89-4495-bce9-709042e87d10')\"\n",
              "            title=\"Suggest charts\"\n",
              "            style=\"display:none;\">\n",
              "\n",
              "<svg xmlns=\"http://www.w3.org/2000/svg\" height=\"24px\"viewBox=\"0 0 24 24\"\n",
              "     width=\"24px\">\n",
              "    <g>\n",
              "        <path d=\"M19 3H5c-1.1 0-2 .9-2 2v14c0 1.1.9 2 2 2h14c1.1 0 2-.9 2-2V5c0-1.1-.9-2-2-2zM9 17H7v-7h2v7zm4 0h-2V7h2v10zm4 0h-2v-4h2v4z\"/>\n",
              "    </g>\n",
              "</svg>\n",
              "  </button>\n",
              "\n",
              "<style>\n",
              "  .colab-df-quickchart {\n",
              "      --bg-color: #E8F0FE;\n",
              "      --fill-color: #1967D2;\n",
              "      --hover-bg-color: #E2EBFA;\n",
              "      --hover-fill-color: #174EA6;\n",
              "      --disabled-fill-color: #AAA;\n",
              "      --disabled-bg-color: #DDD;\n",
              "  }\n",
              "\n",
              "  [theme=dark] .colab-df-quickchart {\n",
              "      --bg-color: #3B4455;\n",
              "      --fill-color: #D2E3FC;\n",
              "      --hover-bg-color: #434B5C;\n",
              "      --hover-fill-color: #FFFFFF;\n",
              "      --disabled-bg-color: #3B4455;\n",
              "      --disabled-fill-color: #666;\n",
              "  }\n",
              "\n",
              "  .colab-df-quickchart {\n",
              "    background-color: var(--bg-color);\n",
              "    border: none;\n",
              "    border-radius: 50%;\n",
              "    cursor: pointer;\n",
              "    display: none;\n",
              "    fill: var(--fill-color);\n",
              "    height: 32px;\n",
              "    padding: 0;\n",
              "    width: 32px;\n",
              "  }\n",
              "\n",
              "  .colab-df-quickchart:hover {\n",
              "    background-color: var(--hover-bg-color);\n",
              "    box-shadow: 0 1px 2px rgba(60, 64, 67, 0.3), 0 1px 3px 1px rgba(60, 64, 67, 0.15);\n",
              "    fill: var(--button-hover-fill-color);\n",
              "  }\n",
              "\n",
              "  .colab-df-quickchart-complete:disabled,\n",
              "  .colab-df-quickchart-complete:disabled:hover {\n",
              "    background-color: var(--disabled-bg-color);\n",
              "    fill: var(--disabled-fill-color);\n",
              "    box-shadow: none;\n",
              "  }\n",
              "\n",
              "  .colab-df-spinner {\n",
              "    border: 2px solid var(--fill-color);\n",
              "    border-color: transparent;\n",
              "    border-bottom-color: var(--fill-color);\n",
              "    animation:\n",
              "      spin 1s steps(1) infinite;\n",
              "  }\n",
              "\n",
              "  @keyframes spin {\n",
              "    0% {\n",
              "      border-color: transparent;\n",
              "      border-bottom-color: var(--fill-color);\n",
              "      border-left-color: var(--fill-color);\n",
              "    }\n",
              "    20% {\n",
              "      border-color: transparent;\n",
              "      border-left-color: var(--fill-color);\n",
              "      border-top-color: var(--fill-color);\n",
              "    }\n",
              "    30% {\n",
              "      border-color: transparent;\n",
              "      border-left-color: var(--fill-color);\n",
              "      border-top-color: var(--fill-color);\n",
              "      border-right-color: var(--fill-color);\n",
              "    }\n",
              "    40% {\n",
              "      border-color: transparent;\n",
              "      border-right-color: var(--fill-color);\n",
              "      border-top-color: var(--fill-color);\n",
              "    }\n",
              "    60% {\n",
              "      border-color: transparent;\n",
              "      border-right-color: var(--fill-color);\n",
              "    }\n",
              "    80% {\n",
              "      border-color: transparent;\n",
              "      border-right-color: var(--fill-color);\n",
              "      border-bottom-color: var(--fill-color);\n",
              "    }\n",
              "    90% {\n",
              "      border-color: transparent;\n",
              "      border-bottom-color: var(--fill-color);\n",
              "    }\n",
              "  }\n",
              "</style>\n",
              "\n",
              "  <script>\n",
              "    async function quickchart(key) {\n",
              "      const quickchartButtonEl =\n",
              "        document.querySelector('#' + key + ' button');\n",
              "      quickchartButtonEl.disabled = true;  // To prevent multiple clicks.\n",
              "      quickchartButtonEl.classList.add('colab-df-spinner');\n",
              "      try {\n",
              "        const charts = await google.colab.kernel.invokeFunction(\n",
              "            'suggestCharts', [key], {});\n",
              "      } catch (error) {\n",
              "        console.error('Error during call to suggestCharts:', error);\n",
              "      }\n",
              "      quickchartButtonEl.classList.remove('colab-df-spinner');\n",
              "      quickchartButtonEl.classList.add('colab-df-quickchart-complete');\n",
              "    }\n",
              "    (() => {\n",
              "      let quickchartButtonEl =\n",
              "        document.querySelector('#df-6edfa8c5-fd89-4495-bce9-709042e87d10 button');\n",
              "      quickchartButtonEl.style.display =\n",
              "        google.colab.kernel.accessAllowed ? 'block' : 'none';\n",
              "    })();\n",
              "  </script>\n",
              "</div>\n",
              "\n",
              "  <div id=\"id_552003bb-fa46-4514-a01a-6b56b8b7410e\">\n",
              "    <style>\n",
              "      .colab-df-generate {\n",
              "        background-color: #E8F0FE;\n",
              "        border: none;\n",
              "        border-radius: 50%;\n",
              "        cursor: pointer;\n",
              "        display: none;\n",
              "        fill: #1967D2;\n",
              "        height: 32px;\n",
              "        padding: 0 0 0 0;\n",
              "        width: 32px;\n",
              "      }\n",
              "\n",
              "      .colab-df-generate:hover {\n",
              "        background-color: #E2EBFA;\n",
              "        box-shadow: 0px 1px 2px rgba(60, 64, 67, 0.3), 0px 1px 3px 1px rgba(60, 64, 67, 0.15);\n",
              "        fill: #174EA6;\n",
              "      }\n",
              "\n",
              "      [theme=dark] .colab-df-generate {\n",
              "        background-color: #3B4455;\n",
              "        fill: #D2E3FC;\n",
              "      }\n",
              "\n",
              "      [theme=dark] .colab-df-generate:hover {\n",
              "        background-color: #434B5C;\n",
              "        box-shadow: 0px 1px 3px 1px rgba(0, 0, 0, 0.15);\n",
              "        filter: drop-shadow(0px 1px 2px rgba(0, 0, 0, 0.3));\n",
              "        fill: #FFFFFF;\n",
              "      }\n",
              "    </style>\n",
              "    <button class=\"colab-df-generate\" onclick=\"generateWithVariable('expt_results')\"\n",
              "            title=\"Generate code using this dataframe.\"\n",
              "            style=\"display:none;\">\n",
              "\n",
              "  <svg xmlns=\"http://www.w3.org/2000/svg\" height=\"24px\"viewBox=\"0 0 24 24\"\n",
              "       width=\"24px\">\n",
              "    <path d=\"M7,19H8.4L18.45,9,17,7.55,7,17.6ZM5,21V16.75L18.45,3.32a2,2,0,0,1,2.83,0l1.4,1.43a1.91,1.91,0,0,1,.58,1.4,1.91,1.91,0,0,1-.58,1.4L9.25,21ZM18.45,9,17,7.55Zm-12,3A5.31,5.31,0,0,0,4.9,8.1,5.31,5.31,0,0,0,1,6.5,5.31,5.31,0,0,0,4.9,4.9,5.31,5.31,0,0,0,6.5,1,5.31,5.31,0,0,0,8.1,4.9,5.31,5.31,0,0,0,12,6.5,5.46,5.46,0,0,0,6.5,12Z\"/>\n",
              "  </svg>\n",
              "    </button>\n",
              "    <script>\n",
              "      (() => {\n",
              "      const buttonEl =\n",
              "        document.querySelector('#id_552003bb-fa46-4514-a01a-6b56b8b7410e button.colab-df-generate');\n",
              "      buttonEl.style.display =\n",
              "        google.colab.kernel.accessAllowed ? 'block' : 'none';\n",
              "\n",
              "      buttonEl.onclick = () => {\n",
              "        google.colab.notebook.generateWithVariable('expt_results');\n",
              "      }\n",
              "      })();\n",
              "    </script>\n",
              "  </div>\n",
              "\n",
              "    </div>\n",
              "  </div>\n"
            ],
            "application/vnd.google.colaboratory.intrinsic+json": {
              "type": "dataframe",
              "variable_name": "expt_results",
              "summary": "{\n  \"name\": \"expt_results\",\n  \"rows\": 16,\n  \"fields\": [\n    {\n      \"column\": \"layer\",\n      \"properties\": {\n        \"dtype\": \"number\",\n        \"std\": 4,\n        \"min\": 0,\n        \"max\": 15,\n        \"num_unique_values\": 16,\n        \"samples\": [\n          0,\n          1,\n          5\n        ],\n        \"semantic_type\": \"\",\n        \"description\": \"\"\n      }\n    },\n    {\n      \"column\": \"run\",\n      \"properties\": {\n        \"dtype\": \"number\",\n        \"std\": 0,\n        \"min\": 0,\n        \"max\": 0,\n        \"num_unique_values\": 1,\n        \"samples\": [\n          0\n        ],\n        \"semantic_type\": \"\",\n        \"description\": \"\"\n      }\n    },\n    {\n      \"column\": \"test_loss\",\n      \"properties\": {\n        \"dtype\": \"number\",\n        \"std\": 215.5061625767672,\n        \"min\": 0.07711979990727419,\n        \"max\": 857.6452824225829,\n        \"num_unique_values\": 16,\n        \"samples\": [\n          54.57199151334428\n        ],\n        \"semantic_type\": \"\",\n        \"description\": \"\"\n      }\n    },\n    {\n      \"column\": \"final_train_loss\",\n      \"properties\": {\n        \"dtype\": \"number\",\n        \"std\": 10.153002699109525,\n        \"min\": 0.002524057641149519,\n        \"max\": 33.8110704555245,\n        \"num_unique_values\": 16,\n        \"samples\": [\n          6.118677066947647\n        ],\n        \"semantic_type\": \"\",\n        \"description\": \"\"\n      }\n    },\n    {\n      \"column\": \"final_val_loss\",\n      \"properties\": {\n        \"dtype\": \"number\",\n        \"std\": 104.04245317382275,\n        \"min\": 0.07452341734231213,\n        \"max\": 315.4798997294518,\n        \"num_unique_values\": 16,\n        \"samples\": [\n          142.71883702194017\n        ],\n        \"semantic_type\": \"\",\n        \"description\": \"\"\n      }\n    }\n  ]\n}"
            }
          },
          "metadata": {},
          "execution_count": 110
        }
      ]
    },
    {
      "cell_type": "code",
      "source": [
        "demo_expt_results"
      ],
      "metadata": {
        "colab": {
          "base_uri": "https://localhost:8080/",
          "height": 1000
        },
        "id": "bB7sDmbbucLn",
        "outputId": "3e88244f-d5ce-4e2b-8ebe-affd4dc0b6b7",
        "collapsed": true
      },
      "execution_count": 106,
      "outputs": [
        {
          "output_type": "execute_result",
          "data": {
            "text/plain": [
              "    layer  run  test_loss  test_accuracy  \\\n",
              "0       0    0 -67.409128       0.096774   \n",
              "1       0    1 -76.395791       0.096774   \n",
              "2       1    0 -63.822525       0.096774   \n",
              "3       1    1 -67.414984       0.096774   \n",
              "4       2    0 -38.388914       0.096774   \n",
              "5       2    1 -49.096033       0.096774   \n",
              "6       3    0 -34.388168       0.096774   \n",
              "7       3    1 -30.887577       0.096774   \n",
              "8       4    0 -43.023142       0.096774   \n",
              "9       4    1 -47.835382       0.096774   \n",
              "10      5    0  -4.553265       0.096774   \n",
              "11      5    1  -9.756994       0.096774   \n",
              "12      6    0  -1.610199       0.096774   \n",
              "13      6    1  -1.879748       0.096774   \n",
              "14      7    0  -0.413652       0.096774   \n",
              "15      7    1  -0.242356       0.096774   \n",
              "16      8    0  -2.737194       0.096774   \n",
              "17      8    1  -2.890976       0.096774   \n",
              "18      9    0  -2.757098       0.080645   \n",
              "19      9    1  -3.432761       0.080645   \n",
              "20     10    0  -6.336645       0.080645   \n",
              "21     10    1  -7.638467       0.096774   \n",
              "22     11    0  -3.561354       0.096774   \n",
              "23     11    1  -2.995158       0.096774   \n",
              "24     12    0  -4.201429       0.096774   \n",
              "25     12    1  -4.892548       0.112903   \n",
              "26     13    0  -4.093859       0.064516   \n",
              "27     13    1  -4.420392       0.096774   \n",
              "28     14    0  -6.209381       0.112903   \n",
              "29     14    1  -5.889728       0.096774   \n",
              "30     15    0  -3.439621       0.096774   \n",
              "31     15    1  -4.311771       0.112903   \n",
              "\n",
              "                                        test_fail_ids  final_train_loss  \\\n",
              "0   [2D3_253, 2D3_102, 2D3_198, 2D3_216, 2D3_334, ...         -1.262190   \n",
              "1   [2D3_249, 2D3_49, 2D3_18, 2D3_184, 2D3_291, 2D...         -1.713139   \n",
              "2   [2D3_61, 2D3_28, 2D3_603, 2D3_606, 2D3_216, 2D...         -1.197552   \n",
              "3   [2D3_139, 2D3_603, 2D3_24, 2D3_249, 2D3_41, 2D...         -1.441485   \n",
              "4   [2D3_105, 2D3_85, 2D3_167, 2D3_411, 2D3_522, 2...         -0.492024   \n",
              "5   [2D3_522, 2D3_198, 2D3_305, 2D3_10, 2D3_28, 2D...         -0.667256   \n",
              "6   [2D3_622, 2D3_49, 2D3_291, 2D3_603, 2D3_606, 2...          0.520310   \n",
              "7   [2D3_64, 2D3_13, 2D3_249, 2D3_473, 2D3_468, 2D...          0.236160   \n",
              "8   [2D3_13, 2D3_105, 2D3_102, 2D3_237, 2D3_416, 2...         -0.788327   \n",
              "9   [2D3_473, 2D3_603, 2D3_407, 2D3_49, 2D3_483, 2...         -0.918615   \n",
              "10  [2D3_225, 2D3_10, 2D3_499, 2D3_80, 2D3_253, 2D...          0.120753   \n",
              "11  [2D3_622, 2D3_80, 2D3_249, 2D3_253, 2D3_473, 2...         -0.000835   \n",
              "12  [2D3_49, 2D3_416, 2D3_47, 2D3_603, 2D3_10, 2D3...          0.021991   \n",
              "13  [2D3_41, 2D3_42, 2D3_139, 2D3_253, 2D3_353, 2D...          0.013618   \n",
              "14  [2D3_499, 2D3_461, 2D3_483, 2D3_249, 2D3_600, ...          0.005185   \n",
              "15  [2D3_590, 2D3_13, 2D3_433, 2D3_24, 2D3_54, 2D3...          0.014098   \n",
              "16  [2D3_167, 2D3_291, 2D3_80, 2D3_590, 2D3_10, 2D...         -0.046079   \n",
              "17  [2D3_291, 2D3_122, 2D3_346, 2D3_139, 2D3_353, ...         -0.012317   \n",
              "18  [2D3_622, 2D3_54, 2D3_407, 2D3_47, 2D3_115, 2D...         -0.040031   \n",
              "19  [2D3_2, 2D3_122, 2D3_198, 2D3_305, 2D3_600, 2D...         -0.030129   \n",
              "20  [2D3_24, 2D3_367, 2D3_319, 2D3_122, 2D3_28, 2D...         -0.133554   \n",
              "21  [2D3_319, 2D3_464, 2D3_54, 2D3_122, 2D3_407, 2...         -0.178901   \n",
              "22  [2D3_210, 2D3_249, 2D3_61, 2D3_473, 2D3_2, 2D3...         -0.057380   \n",
              "23  [2D3_407, 2D3_461, 2D3_600, 2D3_210, 2D3_102, ...         -0.064119   \n",
              "24  [2D3_42, 2D3_413, 2D3_600, 2D3_399, 2D3_167, 2...         -0.079692   \n",
              "25  [2D3_28, 2D3_483, 2D3_49, 2D3_198, 2D3_399, 2D...         -0.085319   \n",
              "26  [2D3_464, 2D3_105, 2D3_305, 2D3_499, 2D3_49, 2...         -0.076542   \n",
              "27  [2D3_291, 2D3_606, 2D3_54, 2D3_132, 2D3_600, 2...         -0.088569   \n",
              "28  [2D3_367, 2D3_24, 2D3_249, 2D3_122, 2D3_603, 2...         -0.106996   \n",
              "29  [2D3_41, 2D3_139, 2D3_522, 2D3_42, 2D3_105, 2D...         -0.101818   \n",
              "30  [2D3_367, 2D3_291, 2D3_552, 2D3_216, 2D3_468, ...         -0.091204   \n",
              "31  [2D3_47, 2D3_49, 2D3_319, 2D3_167, 2D3_249, 2D...         -0.104376   \n",
              "\n",
              "    final_train_accuracy  final_val_loss  final_val_accuracy  \n",
              "0               0.119760      -25.789954            0.112903  \n",
              "1               0.131737      -32.629442            0.112903  \n",
              "2               0.119760      -33.992997            0.112903  \n",
              "3               0.113772      -37.029507            0.112903  \n",
              "4               0.121756      -16.754091            0.129032  \n",
              "5               0.121756      -21.620750            0.129032  \n",
              "6               0.119760       -7.810927            0.112903  \n",
              "7               0.113772       -8.349448            0.112903  \n",
              "8               0.135729      -13.191764            0.129032  \n",
              "9               0.141717      -14.488637            0.096774  \n",
              "10              0.141717       -2.211653            0.096774  \n",
              "11              0.127745       -2.505754            0.112903  \n",
              "12              0.135729       -0.811179            0.145161  \n",
              "13              0.135729       -0.758283            0.129032  \n",
              "14              0.123752        0.058071            0.112903  \n",
              "15              0.115768        0.166152            0.112903  \n",
              "16              0.111776       -0.982926            0.096774  \n",
              "17              0.115768       -0.881326            0.096774  \n",
              "18              0.113772       -1.187022            0.096774  \n",
              "19              0.121756       -1.233990            0.096774  \n",
              "20              0.117764       -2.829989            0.096774  \n",
              "21              0.125749       -3.536371            0.096774  \n",
              "22              0.121756       -1.202076            0.129032  \n",
              "23              0.119760       -0.807972            0.129032  \n",
              "24              0.137725       -1.627780            0.129032  \n",
              "25              0.135729       -1.874672            0.129032  \n",
              "26              0.125749       -1.459418            0.129032  \n",
              "27              0.117764       -1.702347            0.129032  \n",
              "28              0.131737       -2.339117            0.129032  \n",
              "29              0.129741       -2.393138            0.112903  \n",
              "30              0.129741       -2.234751            0.145161  \n",
              "31              0.135729       -3.165099            0.129032  "
            ],
            "text/html": [
              "\n",
              "  <div id=\"df-4ea62375-4528-408b-8009-8add186d3efb\" class=\"colab-df-container\">\n",
              "    <div>\n",
              "<style scoped>\n",
              "    .dataframe tbody tr th:only-of-type {\n",
              "        vertical-align: middle;\n",
              "    }\n",
              "\n",
              "    .dataframe tbody tr th {\n",
              "        vertical-align: top;\n",
              "    }\n",
              "\n",
              "    .dataframe thead th {\n",
              "        text-align: right;\n",
              "    }\n",
              "</style>\n",
              "<table border=\"1\" class=\"dataframe\">\n",
              "  <thead>\n",
              "    <tr style=\"text-align: right;\">\n",
              "      <th></th>\n",
              "      <th>layer</th>\n",
              "      <th>run</th>\n",
              "      <th>test_loss</th>\n",
              "      <th>test_accuracy</th>\n",
              "      <th>test_fail_ids</th>\n",
              "      <th>final_train_loss</th>\n",
              "      <th>final_train_accuracy</th>\n",
              "      <th>final_val_loss</th>\n",
              "      <th>final_val_accuracy</th>\n",
              "    </tr>\n",
              "  </thead>\n",
              "  <tbody>\n",
              "    <tr>\n",
              "      <th>0</th>\n",
              "      <td>0</td>\n",
              "      <td>0</td>\n",
              "      <td>-67.409128</td>\n",
              "      <td>0.096774</td>\n",
              "      <td>[2D3_253, 2D3_102, 2D3_198, 2D3_216, 2D3_334, ...</td>\n",
              "      <td>-1.262190</td>\n",
              "      <td>0.119760</td>\n",
              "      <td>-25.789954</td>\n",
              "      <td>0.112903</td>\n",
              "    </tr>\n",
              "    <tr>\n",
              "      <th>1</th>\n",
              "      <td>0</td>\n",
              "      <td>1</td>\n",
              "      <td>-76.395791</td>\n",
              "      <td>0.096774</td>\n",
              "      <td>[2D3_249, 2D3_49, 2D3_18, 2D3_184, 2D3_291, 2D...</td>\n",
              "      <td>-1.713139</td>\n",
              "      <td>0.131737</td>\n",
              "      <td>-32.629442</td>\n",
              "      <td>0.112903</td>\n",
              "    </tr>\n",
              "    <tr>\n",
              "      <th>2</th>\n",
              "      <td>1</td>\n",
              "      <td>0</td>\n",
              "      <td>-63.822525</td>\n",
              "      <td>0.096774</td>\n",
              "      <td>[2D3_61, 2D3_28, 2D3_603, 2D3_606, 2D3_216, 2D...</td>\n",
              "      <td>-1.197552</td>\n",
              "      <td>0.119760</td>\n",
              "      <td>-33.992997</td>\n",
              "      <td>0.112903</td>\n",
              "    </tr>\n",
              "    <tr>\n",
              "      <th>3</th>\n",
              "      <td>1</td>\n",
              "      <td>1</td>\n",
              "      <td>-67.414984</td>\n",
              "      <td>0.096774</td>\n",
              "      <td>[2D3_139, 2D3_603, 2D3_24, 2D3_249, 2D3_41, 2D...</td>\n",
              "      <td>-1.441485</td>\n",
              "      <td>0.113772</td>\n",
              "      <td>-37.029507</td>\n",
              "      <td>0.112903</td>\n",
              "    </tr>\n",
              "    <tr>\n",
              "      <th>4</th>\n",
              "      <td>2</td>\n",
              "      <td>0</td>\n",
              "      <td>-38.388914</td>\n",
              "      <td>0.096774</td>\n",
              "      <td>[2D3_105, 2D3_85, 2D3_167, 2D3_411, 2D3_522, 2...</td>\n",
              "      <td>-0.492024</td>\n",
              "      <td>0.121756</td>\n",
              "      <td>-16.754091</td>\n",
              "      <td>0.129032</td>\n",
              "    </tr>\n",
              "    <tr>\n",
              "      <th>5</th>\n",
              "      <td>2</td>\n",
              "      <td>1</td>\n",
              "      <td>-49.096033</td>\n",
              "      <td>0.096774</td>\n",
              "      <td>[2D3_522, 2D3_198, 2D3_305, 2D3_10, 2D3_28, 2D...</td>\n",
              "      <td>-0.667256</td>\n",
              "      <td>0.121756</td>\n",
              "      <td>-21.620750</td>\n",
              "      <td>0.129032</td>\n",
              "    </tr>\n",
              "    <tr>\n",
              "      <th>6</th>\n",
              "      <td>3</td>\n",
              "      <td>0</td>\n",
              "      <td>-34.388168</td>\n",
              "      <td>0.096774</td>\n",
              "      <td>[2D3_622, 2D3_49, 2D3_291, 2D3_603, 2D3_606, 2...</td>\n",
              "      <td>0.520310</td>\n",
              "      <td>0.119760</td>\n",
              "      <td>-7.810927</td>\n",
              "      <td>0.112903</td>\n",
              "    </tr>\n",
              "    <tr>\n",
              "      <th>7</th>\n",
              "      <td>3</td>\n",
              "      <td>1</td>\n",
              "      <td>-30.887577</td>\n",
              "      <td>0.096774</td>\n",
              "      <td>[2D3_64, 2D3_13, 2D3_249, 2D3_473, 2D3_468, 2D...</td>\n",
              "      <td>0.236160</td>\n",
              "      <td>0.113772</td>\n",
              "      <td>-8.349448</td>\n",
              "      <td>0.112903</td>\n",
              "    </tr>\n",
              "    <tr>\n",
              "      <th>8</th>\n",
              "      <td>4</td>\n",
              "      <td>0</td>\n",
              "      <td>-43.023142</td>\n",
              "      <td>0.096774</td>\n",
              "      <td>[2D3_13, 2D3_105, 2D3_102, 2D3_237, 2D3_416, 2...</td>\n",
              "      <td>-0.788327</td>\n",
              "      <td>0.135729</td>\n",
              "      <td>-13.191764</td>\n",
              "      <td>0.129032</td>\n",
              "    </tr>\n",
              "    <tr>\n",
              "      <th>9</th>\n",
              "      <td>4</td>\n",
              "      <td>1</td>\n",
              "      <td>-47.835382</td>\n",
              "      <td>0.096774</td>\n",
              "      <td>[2D3_473, 2D3_603, 2D3_407, 2D3_49, 2D3_483, 2...</td>\n",
              "      <td>-0.918615</td>\n",
              "      <td>0.141717</td>\n",
              "      <td>-14.488637</td>\n",
              "      <td>0.096774</td>\n",
              "    </tr>\n",
              "    <tr>\n",
              "      <th>10</th>\n",
              "      <td>5</td>\n",
              "      <td>0</td>\n",
              "      <td>-4.553265</td>\n",
              "      <td>0.096774</td>\n",
              "      <td>[2D3_225, 2D3_10, 2D3_499, 2D3_80, 2D3_253, 2D...</td>\n",
              "      <td>0.120753</td>\n",
              "      <td>0.141717</td>\n",
              "      <td>-2.211653</td>\n",
              "      <td>0.096774</td>\n",
              "    </tr>\n",
              "    <tr>\n",
              "      <th>11</th>\n",
              "      <td>5</td>\n",
              "      <td>1</td>\n",
              "      <td>-9.756994</td>\n",
              "      <td>0.096774</td>\n",
              "      <td>[2D3_622, 2D3_80, 2D3_249, 2D3_253, 2D3_473, 2...</td>\n",
              "      <td>-0.000835</td>\n",
              "      <td>0.127745</td>\n",
              "      <td>-2.505754</td>\n",
              "      <td>0.112903</td>\n",
              "    </tr>\n",
              "    <tr>\n",
              "      <th>12</th>\n",
              "      <td>6</td>\n",
              "      <td>0</td>\n",
              "      <td>-1.610199</td>\n",
              "      <td>0.096774</td>\n",
              "      <td>[2D3_49, 2D3_416, 2D3_47, 2D3_603, 2D3_10, 2D3...</td>\n",
              "      <td>0.021991</td>\n",
              "      <td>0.135729</td>\n",
              "      <td>-0.811179</td>\n",
              "      <td>0.145161</td>\n",
              "    </tr>\n",
              "    <tr>\n",
              "      <th>13</th>\n",
              "      <td>6</td>\n",
              "      <td>1</td>\n",
              "      <td>-1.879748</td>\n",
              "      <td>0.096774</td>\n",
              "      <td>[2D3_41, 2D3_42, 2D3_139, 2D3_253, 2D3_353, 2D...</td>\n",
              "      <td>0.013618</td>\n",
              "      <td>0.135729</td>\n",
              "      <td>-0.758283</td>\n",
              "      <td>0.129032</td>\n",
              "    </tr>\n",
              "    <tr>\n",
              "      <th>14</th>\n",
              "      <td>7</td>\n",
              "      <td>0</td>\n",
              "      <td>-0.413652</td>\n",
              "      <td>0.096774</td>\n",
              "      <td>[2D3_499, 2D3_461, 2D3_483, 2D3_249, 2D3_600, ...</td>\n",
              "      <td>0.005185</td>\n",
              "      <td>0.123752</td>\n",
              "      <td>0.058071</td>\n",
              "      <td>0.112903</td>\n",
              "    </tr>\n",
              "    <tr>\n",
              "      <th>15</th>\n",
              "      <td>7</td>\n",
              "      <td>1</td>\n",
              "      <td>-0.242356</td>\n",
              "      <td>0.096774</td>\n",
              "      <td>[2D3_590, 2D3_13, 2D3_433, 2D3_24, 2D3_54, 2D3...</td>\n",
              "      <td>0.014098</td>\n",
              "      <td>0.115768</td>\n",
              "      <td>0.166152</td>\n",
              "      <td>0.112903</td>\n",
              "    </tr>\n",
              "    <tr>\n",
              "      <th>16</th>\n",
              "      <td>8</td>\n",
              "      <td>0</td>\n",
              "      <td>-2.737194</td>\n",
              "      <td>0.096774</td>\n",
              "      <td>[2D3_167, 2D3_291, 2D3_80, 2D3_590, 2D3_10, 2D...</td>\n",
              "      <td>-0.046079</td>\n",
              "      <td>0.111776</td>\n",
              "      <td>-0.982926</td>\n",
              "      <td>0.096774</td>\n",
              "    </tr>\n",
              "    <tr>\n",
              "      <th>17</th>\n",
              "      <td>8</td>\n",
              "      <td>1</td>\n",
              "      <td>-2.890976</td>\n",
              "      <td>0.096774</td>\n",
              "      <td>[2D3_291, 2D3_122, 2D3_346, 2D3_139, 2D3_353, ...</td>\n",
              "      <td>-0.012317</td>\n",
              "      <td>0.115768</td>\n",
              "      <td>-0.881326</td>\n",
              "      <td>0.096774</td>\n",
              "    </tr>\n",
              "    <tr>\n",
              "      <th>18</th>\n",
              "      <td>9</td>\n",
              "      <td>0</td>\n",
              "      <td>-2.757098</td>\n",
              "      <td>0.080645</td>\n",
              "      <td>[2D3_622, 2D3_54, 2D3_407, 2D3_47, 2D3_115, 2D...</td>\n",
              "      <td>-0.040031</td>\n",
              "      <td>0.113772</td>\n",
              "      <td>-1.187022</td>\n",
              "      <td>0.096774</td>\n",
              "    </tr>\n",
              "    <tr>\n",
              "      <th>19</th>\n",
              "      <td>9</td>\n",
              "      <td>1</td>\n",
              "      <td>-3.432761</td>\n",
              "      <td>0.080645</td>\n",
              "      <td>[2D3_2, 2D3_122, 2D3_198, 2D3_305, 2D3_600, 2D...</td>\n",
              "      <td>-0.030129</td>\n",
              "      <td>0.121756</td>\n",
              "      <td>-1.233990</td>\n",
              "      <td>0.096774</td>\n",
              "    </tr>\n",
              "    <tr>\n",
              "      <th>20</th>\n",
              "      <td>10</td>\n",
              "      <td>0</td>\n",
              "      <td>-6.336645</td>\n",
              "      <td>0.080645</td>\n",
              "      <td>[2D3_24, 2D3_367, 2D3_319, 2D3_122, 2D3_28, 2D...</td>\n",
              "      <td>-0.133554</td>\n",
              "      <td>0.117764</td>\n",
              "      <td>-2.829989</td>\n",
              "      <td>0.096774</td>\n",
              "    </tr>\n",
              "    <tr>\n",
              "      <th>21</th>\n",
              "      <td>10</td>\n",
              "      <td>1</td>\n",
              "      <td>-7.638467</td>\n",
              "      <td>0.096774</td>\n",
              "      <td>[2D3_319, 2D3_464, 2D3_54, 2D3_122, 2D3_407, 2...</td>\n",
              "      <td>-0.178901</td>\n",
              "      <td>0.125749</td>\n",
              "      <td>-3.536371</td>\n",
              "      <td>0.096774</td>\n",
              "    </tr>\n",
              "    <tr>\n",
              "      <th>22</th>\n",
              "      <td>11</td>\n",
              "      <td>0</td>\n",
              "      <td>-3.561354</td>\n",
              "      <td>0.096774</td>\n",
              "      <td>[2D3_210, 2D3_249, 2D3_61, 2D3_473, 2D3_2, 2D3...</td>\n",
              "      <td>-0.057380</td>\n",
              "      <td>0.121756</td>\n",
              "      <td>-1.202076</td>\n",
              "      <td>0.129032</td>\n",
              "    </tr>\n",
              "    <tr>\n",
              "      <th>23</th>\n",
              "      <td>11</td>\n",
              "      <td>1</td>\n",
              "      <td>-2.995158</td>\n",
              "      <td>0.096774</td>\n",
              "      <td>[2D3_407, 2D3_461, 2D3_600, 2D3_210, 2D3_102, ...</td>\n",
              "      <td>-0.064119</td>\n",
              "      <td>0.119760</td>\n",
              "      <td>-0.807972</td>\n",
              "      <td>0.129032</td>\n",
              "    </tr>\n",
              "    <tr>\n",
              "      <th>24</th>\n",
              "      <td>12</td>\n",
              "      <td>0</td>\n",
              "      <td>-4.201429</td>\n",
              "      <td>0.096774</td>\n",
              "      <td>[2D3_42, 2D3_413, 2D3_600, 2D3_399, 2D3_167, 2...</td>\n",
              "      <td>-0.079692</td>\n",
              "      <td>0.137725</td>\n",
              "      <td>-1.627780</td>\n",
              "      <td>0.129032</td>\n",
              "    </tr>\n",
              "    <tr>\n",
              "      <th>25</th>\n",
              "      <td>12</td>\n",
              "      <td>1</td>\n",
              "      <td>-4.892548</td>\n",
              "      <td>0.112903</td>\n",
              "      <td>[2D3_28, 2D3_483, 2D3_49, 2D3_198, 2D3_399, 2D...</td>\n",
              "      <td>-0.085319</td>\n",
              "      <td>0.135729</td>\n",
              "      <td>-1.874672</td>\n",
              "      <td>0.129032</td>\n",
              "    </tr>\n",
              "    <tr>\n",
              "      <th>26</th>\n",
              "      <td>13</td>\n",
              "      <td>0</td>\n",
              "      <td>-4.093859</td>\n",
              "      <td>0.064516</td>\n",
              "      <td>[2D3_464, 2D3_105, 2D3_305, 2D3_499, 2D3_49, 2...</td>\n",
              "      <td>-0.076542</td>\n",
              "      <td>0.125749</td>\n",
              "      <td>-1.459418</td>\n",
              "      <td>0.129032</td>\n",
              "    </tr>\n",
              "    <tr>\n",
              "      <th>27</th>\n",
              "      <td>13</td>\n",
              "      <td>1</td>\n",
              "      <td>-4.420392</td>\n",
              "      <td>0.096774</td>\n",
              "      <td>[2D3_291, 2D3_606, 2D3_54, 2D3_132, 2D3_600, 2...</td>\n",
              "      <td>-0.088569</td>\n",
              "      <td>0.117764</td>\n",
              "      <td>-1.702347</td>\n",
              "      <td>0.129032</td>\n",
              "    </tr>\n",
              "    <tr>\n",
              "      <th>28</th>\n",
              "      <td>14</td>\n",
              "      <td>0</td>\n",
              "      <td>-6.209381</td>\n",
              "      <td>0.112903</td>\n",
              "      <td>[2D3_367, 2D3_24, 2D3_249, 2D3_122, 2D3_603, 2...</td>\n",
              "      <td>-0.106996</td>\n",
              "      <td>0.131737</td>\n",
              "      <td>-2.339117</td>\n",
              "      <td>0.129032</td>\n",
              "    </tr>\n",
              "    <tr>\n",
              "      <th>29</th>\n",
              "      <td>14</td>\n",
              "      <td>1</td>\n",
              "      <td>-5.889728</td>\n",
              "      <td>0.096774</td>\n",
              "      <td>[2D3_41, 2D3_139, 2D3_522, 2D3_42, 2D3_105, 2D...</td>\n",
              "      <td>-0.101818</td>\n",
              "      <td>0.129741</td>\n",
              "      <td>-2.393138</td>\n",
              "      <td>0.112903</td>\n",
              "    </tr>\n",
              "    <tr>\n",
              "      <th>30</th>\n",
              "      <td>15</td>\n",
              "      <td>0</td>\n",
              "      <td>-3.439621</td>\n",
              "      <td>0.096774</td>\n",
              "      <td>[2D3_367, 2D3_291, 2D3_552, 2D3_216, 2D3_468, ...</td>\n",
              "      <td>-0.091204</td>\n",
              "      <td>0.129741</td>\n",
              "      <td>-2.234751</td>\n",
              "      <td>0.145161</td>\n",
              "    </tr>\n",
              "    <tr>\n",
              "      <th>31</th>\n",
              "      <td>15</td>\n",
              "      <td>1</td>\n",
              "      <td>-4.311771</td>\n",
              "      <td>0.112903</td>\n",
              "      <td>[2D3_47, 2D3_49, 2D3_319, 2D3_167, 2D3_249, 2D...</td>\n",
              "      <td>-0.104376</td>\n",
              "      <td>0.135729</td>\n",
              "      <td>-3.165099</td>\n",
              "      <td>0.129032</td>\n",
              "    </tr>\n",
              "  </tbody>\n",
              "</table>\n",
              "</div>\n",
              "    <div class=\"colab-df-buttons\">\n",
              "\n",
              "  <div class=\"colab-df-container\">\n",
              "    <button class=\"colab-df-convert\" onclick=\"convertToInteractive('df-4ea62375-4528-408b-8009-8add186d3efb')\"\n",
              "            title=\"Convert this dataframe to an interactive table.\"\n",
              "            style=\"display:none;\">\n",
              "\n",
              "  <svg xmlns=\"http://www.w3.org/2000/svg\" height=\"24px\" viewBox=\"0 -960 960 960\">\n",
              "    <path d=\"M120-120v-720h720v720H120Zm60-500h600v-160H180v160Zm220 220h160v-160H400v160Zm0 220h160v-160H400v160ZM180-400h160v-160H180v160Zm440 0h160v-160H620v160ZM180-180h160v-160H180v160Zm440 0h160v-160H620v160Z\"/>\n",
              "  </svg>\n",
              "    </button>\n",
              "\n",
              "  <style>\n",
              "    .colab-df-container {\n",
              "      display:flex;\n",
              "      gap: 12px;\n",
              "    }\n",
              "\n",
              "    .colab-df-convert {\n",
              "      background-color: #E8F0FE;\n",
              "      border: none;\n",
              "      border-radius: 50%;\n",
              "      cursor: pointer;\n",
              "      display: none;\n",
              "      fill: #1967D2;\n",
              "      height: 32px;\n",
              "      padding: 0 0 0 0;\n",
              "      width: 32px;\n",
              "    }\n",
              "\n",
              "    .colab-df-convert:hover {\n",
              "      background-color: #E2EBFA;\n",
              "      box-shadow: 0px 1px 2px rgba(60, 64, 67, 0.3), 0px 1px 3px 1px rgba(60, 64, 67, 0.15);\n",
              "      fill: #174EA6;\n",
              "    }\n",
              "\n",
              "    .colab-df-buttons div {\n",
              "      margin-bottom: 4px;\n",
              "    }\n",
              "\n",
              "    [theme=dark] .colab-df-convert {\n",
              "      background-color: #3B4455;\n",
              "      fill: #D2E3FC;\n",
              "    }\n",
              "\n",
              "    [theme=dark] .colab-df-convert:hover {\n",
              "      background-color: #434B5C;\n",
              "      box-shadow: 0px 1px 3px 1px rgba(0, 0, 0, 0.15);\n",
              "      filter: drop-shadow(0px 1px 2px rgba(0, 0, 0, 0.3));\n",
              "      fill: #FFFFFF;\n",
              "    }\n",
              "  </style>\n",
              "\n",
              "    <script>\n",
              "      const buttonEl =\n",
              "        document.querySelector('#df-4ea62375-4528-408b-8009-8add186d3efb button.colab-df-convert');\n",
              "      buttonEl.style.display =\n",
              "        google.colab.kernel.accessAllowed ? 'block' : 'none';\n",
              "\n",
              "      async function convertToInteractive(key) {\n",
              "        const element = document.querySelector('#df-4ea62375-4528-408b-8009-8add186d3efb');\n",
              "        const dataTable =\n",
              "          await google.colab.kernel.invokeFunction('convertToInteractive',\n",
              "                                                    [key], {});\n",
              "        if (!dataTable) return;\n",
              "\n",
              "        const docLinkHtml = 'Like what you see? Visit the ' +\n",
              "          '<a target=\"_blank\" href=https://colab.research.google.com/notebooks/data_table.ipynb>data table notebook</a>'\n",
              "          + ' to learn more about interactive tables.';\n",
              "        element.innerHTML = '';\n",
              "        dataTable['output_type'] = 'display_data';\n",
              "        await google.colab.output.renderOutput(dataTable, element);\n",
              "        const docLink = document.createElement('div');\n",
              "        docLink.innerHTML = docLinkHtml;\n",
              "        element.appendChild(docLink);\n",
              "      }\n",
              "    </script>\n",
              "  </div>\n",
              "\n",
              "\n",
              "<div id=\"df-9168155c-9221-4cab-86da-47404b57e130\">\n",
              "  <button class=\"colab-df-quickchart\" onclick=\"quickchart('df-9168155c-9221-4cab-86da-47404b57e130')\"\n",
              "            title=\"Suggest charts\"\n",
              "            style=\"display:none;\">\n",
              "\n",
              "<svg xmlns=\"http://www.w3.org/2000/svg\" height=\"24px\"viewBox=\"0 0 24 24\"\n",
              "     width=\"24px\">\n",
              "    <g>\n",
              "        <path d=\"M19 3H5c-1.1 0-2 .9-2 2v14c0 1.1.9 2 2 2h14c1.1 0 2-.9 2-2V5c0-1.1-.9-2-2-2zM9 17H7v-7h2v7zm4 0h-2V7h2v10zm4 0h-2v-4h2v4z\"/>\n",
              "    </g>\n",
              "</svg>\n",
              "  </button>\n",
              "\n",
              "<style>\n",
              "  .colab-df-quickchart {\n",
              "      --bg-color: #E8F0FE;\n",
              "      --fill-color: #1967D2;\n",
              "      --hover-bg-color: #E2EBFA;\n",
              "      --hover-fill-color: #174EA6;\n",
              "      --disabled-fill-color: #AAA;\n",
              "      --disabled-bg-color: #DDD;\n",
              "  }\n",
              "\n",
              "  [theme=dark] .colab-df-quickchart {\n",
              "      --bg-color: #3B4455;\n",
              "      --fill-color: #D2E3FC;\n",
              "      --hover-bg-color: #434B5C;\n",
              "      --hover-fill-color: #FFFFFF;\n",
              "      --disabled-bg-color: #3B4455;\n",
              "      --disabled-fill-color: #666;\n",
              "  }\n",
              "\n",
              "  .colab-df-quickchart {\n",
              "    background-color: var(--bg-color);\n",
              "    border: none;\n",
              "    border-radius: 50%;\n",
              "    cursor: pointer;\n",
              "    display: none;\n",
              "    fill: var(--fill-color);\n",
              "    height: 32px;\n",
              "    padding: 0;\n",
              "    width: 32px;\n",
              "  }\n",
              "\n",
              "  .colab-df-quickchart:hover {\n",
              "    background-color: var(--hover-bg-color);\n",
              "    box-shadow: 0 1px 2px rgba(60, 64, 67, 0.3), 0 1px 3px 1px rgba(60, 64, 67, 0.15);\n",
              "    fill: var(--button-hover-fill-color);\n",
              "  }\n",
              "\n",
              "  .colab-df-quickchart-complete:disabled,\n",
              "  .colab-df-quickchart-complete:disabled:hover {\n",
              "    background-color: var(--disabled-bg-color);\n",
              "    fill: var(--disabled-fill-color);\n",
              "    box-shadow: none;\n",
              "  }\n",
              "\n",
              "  .colab-df-spinner {\n",
              "    border: 2px solid var(--fill-color);\n",
              "    border-color: transparent;\n",
              "    border-bottom-color: var(--fill-color);\n",
              "    animation:\n",
              "      spin 1s steps(1) infinite;\n",
              "  }\n",
              "\n",
              "  @keyframes spin {\n",
              "    0% {\n",
              "      border-color: transparent;\n",
              "      border-bottom-color: var(--fill-color);\n",
              "      border-left-color: var(--fill-color);\n",
              "    }\n",
              "    20% {\n",
              "      border-color: transparent;\n",
              "      border-left-color: var(--fill-color);\n",
              "      border-top-color: var(--fill-color);\n",
              "    }\n",
              "    30% {\n",
              "      border-color: transparent;\n",
              "      border-left-color: var(--fill-color);\n",
              "      border-top-color: var(--fill-color);\n",
              "      border-right-color: var(--fill-color);\n",
              "    }\n",
              "    40% {\n",
              "      border-color: transparent;\n",
              "      border-right-color: var(--fill-color);\n",
              "      border-top-color: var(--fill-color);\n",
              "    }\n",
              "    60% {\n",
              "      border-color: transparent;\n",
              "      border-right-color: var(--fill-color);\n",
              "    }\n",
              "    80% {\n",
              "      border-color: transparent;\n",
              "      border-right-color: var(--fill-color);\n",
              "      border-bottom-color: var(--fill-color);\n",
              "    }\n",
              "    90% {\n",
              "      border-color: transparent;\n",
              "      border-bottom-color: var(--fill-color);\n",
              "    }\n",
              "  }\n",
              "</style>\n",
              "\n",
              "  <script>\n",
              "    async function quickchart(key) {\n",
              "      const quickchartButtonEl =\n",
              "        document.querySelector('#' + key + ' button');\n",
              "      quickchartButtonEl.disabled = true;  // To prevent multiple clicks.\n",
              "      quickchartButtonEl.classList.add('colab-df-spinner');\n",
              "      try {\n",
              "        const charts = await google.colab.kernel.invokeFunction(\n",
              "            'suggestCharts', [key], {});\n",
              "      } catch (error) {\n",
              "        console.error('Error during call to suggestCharts:', error);\n",
              "      }\n",
              "      quickchartButtonEl.classList.remove('colab-df-spinner');\n",
              "      quickchartButtonEl.classList.add('colab-df-quickchart-complete');\n",
              "    }\n",
              "    (() => {\n",
              "      let quickchartButtonEl =\n",
              "        document.querySelector('#df-9168155c-9221-4cab-86da-47404b57e130 button');\n",
              "      quickchartButtonEl.style.display =\n",
              "        google.colab.kernel.accessAllowed ? 'block' : 'none';\n",
              "    })();\n",
              "  </script>\n",
              "</div>\n",
              "\n",
              "  <div id=\"id_3e3b3155-f141-4d48-9016-fc2876d1b2d1\">\n",
              "    <style>\n",
              "      .colab-df-generate {\n",
              "        background-color: #E8F0FE;\n",
              "        border: none;\n",
              "        border-radius: 50%;\n",
              "        cursor: pointer;\n",
              "        display: none;\n",
              "        fill: #1967D2;\n",
              "        height: 32px;\n",
              "        padding: 0 0 0 0;\n",
              "        width: 32px;\n",
              "      }\n",
              "\n",
              "      .colab-df-generate:hover {\n",
              "        background-color: #E2EBFA;\n",
              "        box-shadow: 0px 1px 2px rgba(60, 64, 67, 0.3), 0px 1px 3px 1px rgba(60, 64, 67, 0.15);\n",
              "        fill: #174EA6;\n",
              "      }\n",
              "\n",
              "      [theme=dark] .colab-df-generate {\n",
              "        background-color: #3B4455;\n",
              "        fill: #D2E3FC;\n",
              "      }\n",
              "\n",
              "      [theme=dark] .colab-df-generate:hover {\n",
              "        background-color: #434B5C;\n",
              "        box-shadow: 0px 1px 3px 1px rgba(0, 0, 0, 0.15);\n",
              "        filter: drop-shadow(0px 1px 2px rgba(0, 0, 0, 0.3));\n",
              "        fill: #FFFFFF;\n",
              "      }\n",
              "    </style>\n",
              "    <button class=\"colab-df-generate\" onclick=\"generateWithVariable('demo_expt_results')\"\n",
              "            title=\"Generate code using this dataframe.\"\n",
              "            style=\"display:none;\">\n",
              "\n",
              "  <svg xmlns=\"http://www.w3.org/2000/svg\" height=\"24px\"viewBox=\"0 0 24 24\"\n",
              "       width=\"24px\">\n",
              "    <path d=\"M7,19H8.4L18.45,9,17,7.55,7,17.6ZM5,21V16.75L18.45,3.32a2,2,0,0,1,2.83,0l1.4,1.43a1.91,1.91,0,0,1,.58,1.4,1.91,1.91,0,0,1-.58,1.4L9.25,21ZM18.45,9,17,7.55Zm-12,3A5.31,5.31,0,0,0,4.9,8.1,5.31,5.31,0,0,0,1,6.5,5.31,5.31,0,0,0,4.9,4.9,5.31,5.31,0,0,0,6.5,1,5.31,5.31,0,0,0,8.1,4.9,5.31,5.31,0,0,0,12,6.5,5.46,5.46,0,0,0,6.5,12Z\"/>\n",
              "  </svg>\n",
              "    </button>\n",
              "    <script>\n",
              "      (() => {\n",
              "      const buttonEl =\n",
              "        document.querySelector('#id_3e3b3155-f141-4d48-9016-fc2876d1b2d1 button.colab-df-generate');\n",
              "      buttonEl.style.display =\n",
              "        google.colab.kernel.accessAllowed ? 'block' : 'none';\n",
              "\n",
              "      buttonEl.onclick = () => {\n",
              "        google.colab.notebook.generateWithVariable('demo_expt_results');\n",
              "      }\n",
              "      })();\n",
              "    </script>\n",
              "  </div>\n",
              "\n",
              "    </div>\n",
              "  </div>\n"
            ],
            "application/vnd.google.colaboratory.intrinsic+json": {
              "type": "dataframe",
              "variable_name": "demo_expt_results",
              "summary": "{\n  \"name\": \"demo_expt_results\",\n  \"rows\": 32,\n  \"fields\": [\n    {\n      \"column\": \"layer\",\n      \"properties\": {\n        \"dtype\": \"number\",\n        \"std\": 4,\n        \"min\": 0,\n        \"max\": 15,\n        \"num_unique_values\": 16,\n        \"samples\": [\n          0,\n          1,\n          5\n        ],\n        \"semantic_type\": \"\",\n        \"description\": \"\"\n      }\n    },\n    {\n      \"column\": \"run\",\n      \"properties\": {\n        \"dtype\": \"number\",\n        \"std\": 0,\n        \"min\": 0,\n        \"max\": 1,\n        \"num_unique_values\": 2,\n        \"samples\": [\n          1,\n          0\n        ],\n        \"semantic_type\": \"\",\n        \"description\": \"\"\n      }\n    },\n    {\n      \"column\": \"test_loss\",\n      \"properties\": {\n        \"dtype\": \"number\",\n        \"std\": 24.16764919654381,\n        \"min\": -76.39579067114862,\n        \"max\": -0.24235635829128085,\n        \"num_unique_values\": 32,\n        \"samples\": [\n          -5.889727879980837,\n          -0.24235635829128085\n        ],\n        \"semantic_type\": \"\",\n        \"description\": \"\"\n      }\n    },\n    {\n      \"column\": \"test_accuracy\",\n      \"properties\": {\n        \"dtype\": \"number\",\n        \"std\": 0.009103240210972164,\n        \"min\": 0.06451612710952759,\n        \"max\": 0.11290322244167328,\n        \"num_unique_values\": 4,\n        \"samples\": [\n          0.08064515888690948,\n          0.06451612710952759\n        ],\n        \"semantic_type\": \"\",\n        \"description\": \"\"\n      }\n    },\n    {\n      \"column\": \"test_fail_ids\",\n      \"properties\": {\n        \"dtype\": \"object\",\n        \"semantic_type\": \"\",\n        \"description\": \"\"\n      }\n    },\n    {\n      \"column\": \"final_train_loss\",\n      \"properties\": {\n        \"dtype\": \"number\",\n        \"std\": 0.5149200837611251,\n        \"min\": -1.7131392391855844,\n        \"max\": 0.5203100316776725,\n        \"num_unique_values\": 32,\n        \"samples\": [\n          -0.10181761370923467,\n          0.014098238817113126\n        ],\n        \"semantic_type\": \"\",\n        \"description\": \"\"\n      }\n    },\n    {\n      \"column\": \"final_train_accuracy\",\n      \"properties\": {\n        \"dtype\": \"number\",\n        \"std\": 0.00883143052497516,\n        \"min\": 0.1117764487862587,\n        \"max\": 0.14171656966209412,\n        \"num_unique_values\": 14,\n        \"samples\": [\n          0.1117764487862587,\n          0.12574850022792816\n        ],\n        \"semantic_type\": \"\",\n        \"description\": \"\"\n      }\n    },\n    {\n      \"column\": \"final_val_loss\",\n      \"properties\": {\n        \"dtype\": \"number\",\n        \"std\": 10.906013834220591,\n        \"min\": -37.02950660451766,\n        \"max\": 0.1661516394345991,\n        \"num_unique_values\": 32,\n        \"samples\": [\n          -2.393138099368321,\n          0.1661516394345991\n        ],\n        \"semantic_type\": \"\",\n        \"description\": \"\"\n      }\n    },\n    {\n      \"column\": \"final_val_accuracy\",\n      \"properties\": {\n        \"dtype\": \"number\",\n        \"std\": 0.014771143749773518,\n        \"min\": 0.09677419066429138,\n        \"max\": 0.14516128599643707,\n        \"num_unique_values\": 4,\n        \"samples\": [\n          0.12903225421905518,\n          0.14516128599643707\n        ],\n        \"semantic_type\": \"\",\n        \"description\": \"\"\n      }\n    }\n  ]\n}"
            }
          },
          "metadata": {},
          "execution_count": 106
        }
      ]
    },
    {
      "cell_type": "code",
      "source": [
        "import experiments.utils as expt_utils\n",
        "\n",
        "demo_expt_summary = expt_utils.summarise_experiment(demo_expt_results)\n",
        "\n",
        "expt_summary = expt_utils.summarise_experiment(expt_results)"
      ],
      "metadata": {
        "id": "WaqEyQp7m3U5"
      },
      "execution_count": 113,
      "outputs": []
    },
    {
      "cell_type": "code",
      "source": [
        "expt_summary_old = expt_summary\n"
      ],
      "metadata": {
        "id": "ZCbqOPbdev9e"
      },
      "execution_count": 117,
      "outputs": []
    },
    {
      "cell_type": "code",
      "source": [
        "expt_summary = expt_summary_old[0:4]"
      ],
      "metadata": {
        "id": "0TZ7lO1ki3UE"
      },
      "execution_count": 125,
      "outputs": []
    },
    {
      "cell_type": "code",
      "source": [
        "expt_summary"
      ],
      "metadata": {
        "colab": {
          "base_uri": "https://localhost:8080/",
          "height": 175
        },
        "id": "QXei2O0di7AH",
        "outputId": "0c69e681-bf19-42ee-8303-3e875fc1730d"
      },
      "execution_count": 126,
      "outputs": [
        {
          "output_type": "execute_result",
          "data": {
            "text/plain": [
              "   layer   loss_mean  loss_std\n",
              "0      0   54.571992       NaN\n",
              "1      1  207.978291       NaN\n",
              "2      2  857.645282       NaN\n",
              "3      3   56.916670       NaN"
            ],
            "text/html": [
              "\n",
              "  <div id=\"df-adb376a1-c5fe-4c08-a77f-dffe28c10b2c\" class=\"colab-df-container\">\n",
              "    <div>\n",
              "<style scoped>\n",
              "    .dataframe tbody tr th:only-of-type {\n",
              "        vertical-align: middle;\n",
              "    }\n",
              "\n",
              "    .dataframe tbody tr th {\n",
              "        vertical-align: top;\n",
              "    }\n",
              "\n",
              "    .dataframe thead th {\n",
              "        text-align: right;\n",
              "    }\n",
              "</style>\n",
              "<table border=\"1\" class=\"dataframe\">\n",
              "  <thead>\n",
              "    <tr style=\"text-align: right;\">\n",
              "      <th></th>\n",
              "      <th>layer</th>\n",
              "      <th>loss_mean</th>\n",
              "      <th>loss_std</th>\n",
              "    </tr>\n",
              "  </thead>\n",
              "  <tbody>\n",
              "    <tr>\n",
              "      <th>0</th>\n",
              "      <td>0</td>\n",
              "      <td>54.571992</td>\n",
              "      <td>NaN</td>\n",
              "    </tr>\n",
              "    <tr>\n",
              "      <th>1</th>\n",
              "      <td>1</td>\n",
              "      <td>207.978291</td>\n",
              "      <td>NaN</td>\n",
              "    </tr>\n",
              "    <tr>\n",
              "      <th>2</th>\n",
              "      <td>2</td>\n",
              "      <td>857.645282</td>\n",
              "      <td>NaN</td>\n",
              "    </tr>\n",
              "    <tr>\n",
              "      <th>3</th>\n",
              "      <td>3</td>\n",
              "      <td>56.916670</td>\n",
              "      <td>NaN</td>\n",
              "    </tr>\n",
              "  </tbody>\n",
              "</table>\n",
              "</div>\n",
              "    <div class=\"colab-df-buttons\">\n",
              "\n",
              "  <div class=\"colab-df-container\">\n",
              "    <button class=\"colab-df-convert\" onclick=\"convertToInteractive('df-adb376a1-c5fe-4c08-a77f-dffe28c10b2c')\"\n",
              "            title=\"Convert this dataframe to an interactive table.\"\n",
              "            style=\"display:none;\">\n",
              "\n",
              "  <svg xmlns=\"http://www.w3.org/2000/svg\" height=\"24px\" viewBox=\"0 -960 960 960\">\n",
              "    <path d=\"M120-120v-720h720v720H120Zm60-500h600v-160H180v160Zm220 220h160v-160H400v160Zm0 220h160v-160H400v160ZM180-400h160v-160H180v160Zm440 0h160v-160H620v160ZM180-180h160v-160H180v160Zm440 0h160v-160H620v160Z\"/>\n",
              "  </svg>\n",
              "    </button>\n",
              "\n",
              "  <style>\n",
              "    .colab-df-container {\n",
              "      display:flex;\n",
              "      gap: 12px;\n",
              "    }\n",
              "\n",
              "    .colab-df-convert {\n",
              "      background-color: #E8F0FE;\n",
              "      border: none;\n",
              "      border-radius: 50%;\n",
              "      cursor: pointer;\n",
              "      display: none;\n",
              "      fill: #1967D2;\n",
              "      height: 32px;\n",
              "      padding: 0 0 0 0;\n",
              "      width: 32px;\n",
              "    }\n",
              "\n",
              "    .colab-df-convert:hover {\n",
              "      background-color: #E2EBFA;\n",
              "      box-shadow: 0px 1px 2px rgba(60, 64, 67, 0.3), 0px 1px 3px 1px rgba(60, 64, 67, 0.15);\n",
              "      fill: #174EA6;\n",
              "    }\n",
              "\n",
              "    .colab-df-buttons div {\n",
              "      margin-bottom: 4px;\n",
              "    }\n",
              "\n",
              "    [theme=dark] .colab-df-convert {\n",
              "      background-color: #3B4455;\n",
              "      fill: #D2E3FC;\n",
              "    }\n",
              "\n",
              "    [theme=dark] .colab-df-convert:hover {\n",
              "      background-color: #434B5C;\n",
              "      box-shadow: 0px 1px 3px 1px rgba(0, 0, 0, 0.15);\n",
              "      filter: drop-shadow(0px 1px 2px rgba(0, 0, 0, 0.3));\n",
              "      fill: #FFFFFF;\n",
              "    }\n",
              "  </style>\n",
              "\n",
              "    <script>\n",
              "      const buttonEl =\n",
              "        document.querySelector('#df-adb376a1-c5fe-4c08-a77f-dffe28c10b2c button.colab-df-convert');\n",
              "      buttonEl.style.display =\n",
              "        google.colab.kernel.accessAllowed ? 'block' : 'none';\n",
              "\n",
              "      async function convertToInteractive(key) {\n",
              "        const element = document.querySelector('#df-adb376a1-c5fe-4c08-a77f-dffe28c10b2c');\n",
              "        const dataTable =\n",
              "          await google.colab.kernel.invokeFunction('convertToInteractive',\n",
              "                                                    [key], {});\n",
              "        if (!dataTable) return;\n",
              "\n",
              "        const docLinkHtml = 'Like what you see? Visit the ' +\n",
              "          '<a target=\"_blank\" href=https://colab.research.google.com/notebooks/data_table.ipynb>data table notebook</a>'\n",
              "          + ' to learn more about interactive tables.';\n",
              "        element.innerHTML = '';\n",
              "        dataTable['output_type'] = 'display_data';\n",
              "        await google.colab.output.renderOutput(dataTable, element);\n",
              "        const docLink = document.createElement('div');\n",
              "        docLink.innerHTML = docLinkHtml;\n",
              "        element.appendChild(docLink);\n",
              "      }\n",
              "    </script>\n",
              "  </div>\n",
              "\n",
              "\n",
              "<div id=\"df-bbca1581-e524-4276-9c65-cc9687d2ff76\">\n",
              "  <button class=\"colab-df-quickchart\" onclick=\"quickchart('df-bbca1581-e524-4276-9c65-cc9687d2ff76')\"\n",
              "            title=\"Suggest charts\"\n",
              "            style=\"display:none;\">\n",
              "\n",
              "<svg xmlns=\"http://www.w3.org/2000/svg\" height=\"24px\"viewBox=\"0 0 24 24\"\n",
              "     width=\"24px\">\n",
              "    <g>\n",
              "        <path d=\"M19 3H5c-1.1 0-2 .9-2 2v14c0 1.1.9 2 2 2h14c1.1 0 2-.9 2-2V5c0-1.1-.9-2-2-2zM9 17H7v-7h2v7zm4 0h-2V7h2v10zm4 0h-2v-4h2v4z\"/>\n",
              "    </g>\n",
              "</svg>\n",
              "  </button>\n",
              "\n",
              "<style>\n",
              "  .colab-df-quickchart {\n",
              "      --bg-color: #E8F0FE;\n",
              "      --fill-color: #1967D2;\n",
              "      --hover-bg-color: #E2EBFA;\n",
              "      --hover-fill-color: #174EA6;\n",
              "      --disabled-fill-color: #AAA;\n",
              "      --disabled-bg-color: #DDD;\n",
              "  }\n",
              "\n",
              "  [theme=dark] .colab-df-quickchart {\n",
              "      --bg-color: #3B4455;\n",
              "      --fill-color: #D2E3FC;\n",
              "      --hover-bg-color: #434B5C;\n",
              "      --hover-fill-color: #FFFFFF;\n",
              "      --disabled-bg-color: #3B4455;\n",
              "      --disabled-fill-color: #666;\n",
              "  }\n",
              "\n",
              "  .colab-df-quickchart {\n",
              "    background-color: var(--bg-color);\n",
              "    border: none;\n",
              "    border-radius: 50%;\n",
              "    cursor: pointer;\n",
              "    display: none;\n",
              "    fill: var(--fill-color);\n",
              "    height: 32px;\n",
              "    padding: 0;\n",
              "    width: 32px;\n",
              "  }\n",
              "\n",
              "  .colab-df-quickchart:hover {\n",
              "    background-color: var(--hover-bg-color);\n",
              "    box-shadow: 0 1px 2px rgba(60, 64, 67, 0.3), 0 1px 3px 1px rgba(60, 64, 67, 0.15);\n",
              "    fill: var(--button-hover-fill-color);\n",
              "  }\n",
              "\n",
              "  .colab-df-quickchart-complete:disabled,\n",
              "  .colab-df-quickchart-complete:disabled:hover {\n",
              "    background-color: var(--disabled-bg-color);\n",
              "    fill: var(--disabled-fill-color);\n",
              "    box-shadow: none;\n",
              "  }\n",
              "\n",
              "  .colab-df-spinner {\n",
              "    border: 2px solid var(--fill-color);\n",
              "    border-color: transparent;\n",
              "    border-bottom-color: var(--fill-color);\n",
              "    animation:\n",
              "      spin 1s steps(1) infinite;\n",
              "  }\n",
              "\n",
              "  @keyframes spin {\n",
              "    0% {\n",
              "      border-color: transparent;\n",
              "      border-bottom-color: var(--fill-color);\n",
              "      border-left-color: var(--fill-color);\n",
              "    }\n",
              "    20% {\n",
              "      border-color: transparent;\n",
              "      border-left-color: var(--fill-color);\n",
              "      border-top-color: var(--fill-color);\n",
              "    }\n",
              "    30% {\n",
              "      border-color: transparent;\n",
              "      border-left-color: var(--fill-color);\n",
              "      border-top-color: var(--fill-color);\n",
              "      border-right-color: var(--fill-color);\n",
              "    }\n",
              "    40% {\n",
              "      border-color: transparent;\n",
              "      border-right-color: var(--fill-color);\n",
              "      border-top-color: var(--fill-color);\n",
              "    }\n",
              "    60% {\n",
              "      border-color: transparent;\n",
              "      border-right-color: var(--fill-color);\n",
              "    }\n",
              "    80% {\n",
              "      border-color: transparent;\n",
              "      border-right-color: var(--fill-color);\n",
              "      border-bottom-color: var(--fill-color);\n",
              "    }\n",
              "    90% {\n",
              "      border-color: transparent;\n",
              "      border-bottom-color: var(--fill-color);\n",
              "    }\n",
              "  }\n",
              "</style>\n",
              "\n",
              "  <script>\n",
              "    async function quickchart(key) {\n",
              "      const quickchartButtonEl =\n",
              "        document.querySelector('#' + key + ' button');\n",
              "      quickchartButtonEl.disabled = true;  // To prevent multiple clicks.\n",
              "      quickchartButtonEl.classList.add('colab-df-spinner');\n",
              "      try {\n",
              "        const charts = await google.colab.kernel.invokeFunction(\n",
              "            'suggestCharts', [key], {});\n",
              "      } catch (error) {\n",
              "        console.error('Error during call to suggestCharts:', error);\n",
              "      }\n",
              "      quickchartButtonEl.classList.remove('colab-df-spinner');\n",
              "      quickchartButtonEl.classList.add('colab-df-quickchart-complete');\n",
              "    }\n",
              "    (() => {\n",
              "      let quickchartButtonEl =\n",
              "        document.querySelector('#df-bbca1581-e524-4276-9c65-cc9687d2ff76 button');\n",
              "      quickchartButtonEl.style.display =\n",
              "        google.colab.kernel.accessAllowed ? 'block' : 'none';\n",
              "    })();\n",
              "  </script>\n",
              "</div>\n",
              "\n",
              "  <div id=\"id_cd6e64a2-eab4-46e0-9eae-bdd60f595feb\">\n",
              "    <style>\n",
              "      .colab-df-generate {\n",
              "        background-color: #E8F0FE;\n",
              "        border: none;\n",
              "        border-radius: 50%;\n",
              "        cursor: pointer;\n",
              "        display: none;\n",
              "        fill: #1967D2;\n",
              "        height: 32px;\n",
              "        padding: 0 0 0 0;\n",
              "        width: 32px;\n",
              "      }\n",
              "\n",
              "      .colab-df-generate:hover {\n",
              "        background-color: #E2EBFA;\n",
              "        box-shadow: 0px 1px 2px rgba(60, 64, 67, 0.3), 0px 1px 3px 1px rgba(60, 64, 67, 0.15);\n",
              "        fill: #174EA6;\n",
              "      }\n",
              "\n",
              "      [theme=dark] .colab-df-generate {\n",
              "        background-color: #3B4455;\n",
              "        fill: #D2E3FC;\n",
              "      }\n",
              "\n",
              "      [theme=dark] .colab-df-generate:hover {\n",
              "        background-color: #434B5C;\n",
              "        box-shadow: 0px 1px 3px 1px rgba(0, 0, 0, 0.15);\n",
              "        filter: drop-shadow(0px 1px 2px rgba(0, 0, 0, 0.3));\n",
              "        fill: #FFFFFF;\n",
              "      }\n",
              "    </style>\n",
              "    <button class=\"colab-df-generate\" onclick=\"generateWithVariable('expt_summary')\"\n",
              "            title=\"Generate code using this dataframe.\"\n",
              "            style=\"display:none;\">\n",
              "\n",
              "  <svg xmlns=\"http://www.w3.org/2000/svg\" height=\"24px\"viewBox=\"0 0 24 24\"\n",
              "       width=\"24px\">\n",
              "    <path d=\"M7,19H8.4L18.45,9,17,7.55,7,17.6ZM5,21V16.75L18.45,3.32a2,2,0,0,1,2.83,0l1.4,1.43a1.91,1.91,0,0,1,.58,1.4,1.91,1.91,0,0,1-.58,1.4L9.25,21ZM18.45,9,17,7.55Zm-12,3A5.31,5.31,0,0,0,4.9,8.1,5.31,5.31,0,0,0,1,6.5,5.31,5.31,0,0,0,4.9,4.9,5.31,5.31,0,0,0,6.5,1,5.31,5.31,0,0,0,8.1,4.9,5.31,5.31,0,0,0,12,6.5,5.46,5.46,0,0,0,6.5,12Z\"/>\n",
              "  </svg>\n",
              "    </button>\n",
              "    <script>\n",
              "      (() => {\n",
              "      const buttonEl =\n",
              "        document.querySelector('#id_cd6e64a2-eab4-46e0-9eae-bdd60f595feb button.colab-df-generate');\n",
              "      buttonEl.style.display =\n",
              "        google.colab.kernel.accessAllowed ? 'block' : 'none';\n",
              "\n",
              "      buttonEl.onclick = () => {\n",
              "        google.colab.notebook.generateWithVariable('expt_summary');\n",
              "      }\n",
              "      })();\n",
              "    </script>\n",
              "  </div>\n",
              "\n",
              "    </div>\n",
              "  </div>\n"
            ],
            "application/vnd.google.colaboratory.intrinsic+json": {
              "type": "dataframe",
              "variable_name": "expt_summary",
              "summary": "{\n  \"name\": \"expt_summary\",\n  \"rows\": 4,\n  \"fields\": [\n    {\n      \"column\": \"layer\",\n      \"properties\": {\n        \"dtype\": \"number\",\n        \"std\": 1,\n        \"min\": 0,\n        \"max\": 3,\n        \"num_unique_values\": 4,\n        \"samples\": [\n          1,\n          3,\n          0\n        ],\n        \"semantic_type\": \"\",\n        \"description\": \"\"\n      }\n    },\n    {\n      \"column\": \"loss_mean\",\n      \"properties\": {\n        \"dtype\": \"number\",\n        \"std\": 382.37403416090996,\n        \"min\": 54.57199151334428,\n        \"max\": 857.6452824225829,\n        \"num_unique_values\": 4,\n        \"samples\": [\n          207.9782907140664,\n          56.91667044138716,\n          54.57199151334428\n        ],\n        \"semantic_type\": \"\",\n        \"description\": \"\"\n      }\n    },\n    {\n      \"column\": \"loss_std\",\n      \"properties\": {\n        \"dtype\": \"number\",\n        \"std\": null,\n        \"min\": null,\n        \"max\": null,\n        \"num_unique_values\": 0,\n        \"samples\": [],\n        \"semantic_type\": \"\",\n        \"description\": \"\"\n      }\n    }\n  ]\n}"
            }
          },
          "metadata": {},
          "execution_count": 126
        }
      ]
    },
    {
      "cell_type": "code",
      "source": [
        "expt_utils.plot_from_summary(demo_expt_summary, descriptor='demo')"
      ],
      "metadata": {
        "colab": {
          "base_uri": "https://localhost:8080/",
          "height": 419
        },
        "id": "RXadjLCBZDCt",
        "outputId": "94ea6b25-b0a4-46d8-9c5a-c14329f295a1"
      },
      "execution_count": 127,
      "outputs": [
        {
          "output_type": "display_data",
          "data": {
            "text/plain": [
              "<Figure size 800x400 with 1 Axes>"
            ],
            "image/png": "[encoded data removed]"
          },
          "metadata": {}
        }
      ]
    },
    {
      "cell_type": "code",
      "source": [
        "expt_utils.plot_from_summary(expt_summary, descriptor='demo')"
      ],
      "metadata": {
        "colab": {
          "base_uri": "https://localhost:8080/",
          "height": 419
        },
        "id": "DfKaRjrIh49E",
        "outputId": "7e586d86-6002-4f50-cb3c-77ce5aac1f72"
      },
      "execution_count": 128,
      "outputs": [
        {
          "output_type": "display_data",
          "data": {
            "text/plain": [
              "<Figure size 800x400 with 1 Axes>"
            ],
            "image/png": "[encoded data removed]"
          },
          "metadata": {}
        }
      ]
    },
    {
      "cell_type": "markdown",
      "source": [
        "## Probe Loading and Evaluation"
      ],
      "metadata": {
        "id": "LcY7GtWxzbgh"
      }
    },
    {
      "cell_type": "code",
      "source": [
        "# TODO: write extra loading functionality for running an experiment using pretrained\n",
        "# TODO: extend failure detection functionality"
      ],
      "metadata": {
        "id": "-cctwkQazc8Q"
      },
      "execution_count": null,
      "outputs": []
    }
  ]
}